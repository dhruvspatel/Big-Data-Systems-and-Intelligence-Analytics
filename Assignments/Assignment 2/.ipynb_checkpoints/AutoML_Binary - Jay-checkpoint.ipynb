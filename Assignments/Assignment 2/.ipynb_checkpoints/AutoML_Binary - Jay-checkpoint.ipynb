{
 "cells": [
  {
   "cell_type": "markdown",
   "metadata": {},
   "source": [
    "## Starter Code for Assignment 2 - Big Data with H2O\n",
    "\n",
    "**Binary Classification**\n",
    "\n",
    "Here is some starter code for Assignment 2 - Big Data with H2O.   You will still need to extend this code somewhat.  \n",
    "\n",
    "\n",
    "[H2O Docs](http://docs.h2o.ai/h2o/latest-stable/h2o-docs/index.html)  \n",
    "[http://docs.h2o.ai/h2o/latest-stable/h2o-docs/index.html](http://docs.h2o.ai/h2o/latest-stable/h2o-docs/index.html)  "
   ]
  },
  {
   "cell_type": "code",
   "execution_count": 1,
   "metadata": {},
   "outputs": [],
   "source": [
    "import h2o\n",
    "from h2o.automl import H2OAutoML\n",
    "import random, os, sys\n",
    "from datetime import datetime\n",
    "import pandas as pd\n",
    "import logging\n",
    "import csv\n",
    "import optparse\n",
    "import time\n",
    "import json\n",
    "from distutils.util import strtobool\n",
    "import matplotlib.pyplot as plt"
   ]
  },
  {
   "cell_type": "markdown",
   "metadata": {},
   "source": [
    "Set up some parameters for the analysis.  "
   ]
  },
  {
   "cell_type": "code",
   "execution_count": 2,
   "metadata": {},
   "outputs": [],
   "source": [
    "data_path=None\n",
    "all_variables=None\n",
    "test_path=None\n",
    "target=None\n",
    "nthreads=1 \n",
    "min_mem_size=6 \n",
    "run_time=333\n",
    "classification=False\n",
    "scale=False\n",
    "max_models=9    \n",
    "model_path=None\n",
    "balance_y=False \n",
    "balance_threshold=0.2\n",
    "name=None \n",
    "server_path=None  \n",
    "analysis=0 "
   ]
  },
  {
   "cell_type": "markdown",
   "metadata": {},
   "source": [
    "The next sections contains helper functions for automating analysis.             "
   ]
  },
  {
   "cell_type": "code",
   "execution_count": 3,
   "metadata": {},
   "outputs": [],
   "source": [
    "# Functions\n",
    "\n",
    "def alphabet(n):\n",
    "  alpha='0123456789abcdefghijklmnopqrstuvwxyzABCDEFGHIJKLMNOPQRSTUVWXYZ'    \n",
    "  str=''\n",
    "  r=len(alpha)-1   \n",
    "  while len(str)<n:\n",
    "    i=random.randint(0,r)\n",
    "    str+=alpha[i]   \n",
    "  return str\n",
    "  \n",
    "  \n",
    "def set_meta_data(run_id,analysis,target,run_time,classification,scale,model,balance,balance_threshold,name,nthreads,min_mem_size):\n",
    "  m_data={}\n",
    "  m_data['run_id'] =run_id\n",
    "  m_data['start_time'] = time.time()\n",
    "  m_data['target']=target\n",
    "  m_data['max_models']=model\n",
    "  m_data['run_time']=run_time\n",
    "  m_data['scale']=scale\n",
    "  m_data['classification']=classification\n",
    "  m_data['scale']=False\n",
    "  m_data['balance']=balance\n",
    "  m_data['balance_threshold']=balance_threshold\n",
    "  m_data['project'] =name\n",
    "  m_data['end_time'] = time.time()\n",
    "  m_data['execution_time'] = 0.0\n",
    "  m_data['nthreads'] = nthreads\n",
    "  m_data['min_mem_size'] = min_mem_size\n",
    "  m_data['analysis'] = analysis\n",
    "  return m_data\n",
    "\n",
    "\n",
    "def dict_to_json(dct,n):\n",
    "  j = json.dumps(dct, indent=4)\n",
    "  f = open(n, 'w')\n",
    "  print(j, file=f)\n",
    "  f.close()\n",
    "  \n",
    "  \n",
    "def stackedensemble(mod):\n",
    "    coef_norm=None\n",
    "    try:\n",
    "      metalearner = h2o.get_model(mod.metalearner()['name'])\n",
    "      coef_norm=metalearner.coef_norm()\n",
    "    except:\n",
    "      pass        \n",
    "    return coef_norm\n",
    "\n",
    "def stackedensemble_df(df):\n",
    "    bm_algo={ 'GBM': None,'GLM': None,'DRF': None,'XRT': None,'Dee': None}\n",
    "    for index, row in df.iterrows():\n",
    "      if len(row['model_id'])>3:\n",
    "        key=row['model_id'][0:3]\n",
    "        if key in bm_algo:\n",
    "          if bm_algo[key] is None:\n",
    "                bm_algo[key]=row['model_id']\n",
    "    bm=list(bm_algo.values()) \n",
    "    bm=list(filter(None.__ne__, bm))             \n",
    "    return bm\n",
    "\n",
    "def se_stats(modl):\n",
    "    d={}\n",
    "    d['algo']=modl.algo\n",
    "    d['model_id']=modl.model_id   \n",
    "    d['auc']=modl.auc()   \n",
    "    d['roc']=modl.roc()\n",
    "    d['mse']=modl.mse()   \n",
    "    d['null_degrees_of_freedom']=modl.null_degrees_of_freedom()\n",
    "    d['null_deviance']=modl.null_deviance()\n",
    "    d['residual_degrees_of_freedom']=modl.residual_degrees_of_freedom()   \n",
    "    d['residual_deviance']=modl.residual_deviance()\n",
    "    d['rmse']=modl.rmse()\n",
    "    return d\n",
    "\n",
    "def get_model_by_algo(algo,models_dict):\n",
    "    mod=None\n",
    "    mod_id=None    \n",
    "    for m in list(models_dict.keys()):\n",
    "        if m[0:3]==algo:\n",
    "            mod_id=m\n",
    "            mod=h2o.get_model(m)      \n",
    "    return mod,mod_id     \n",
    "    \n",
    "    \n",
    "def gbm_stats(modl):\n",
    "    d={}\n",
    "    d['algo']=modl.algo\n",
    "    d['model_id']=modl.model_id   \n",
    "    d['varimp']=modl.varimp()  \n",
    "    return d\n",
    "    \n",
    "    \n",
    "def dl_stats(modl):\n",
    "    d={}\n",
    "    d['algo']=modl.algo\n",
    "    d['model_id']=modl.model_id   \n",
    "    d['varimp']=modl.varimp()  \n",
    "    return d\n",
    "    \n",
    "    \n",
    "def drf_stats(modl):\n",
    "    d={}\n",
    "    d['algo']=modl.algo\n",
    "    d['model_id']=modl.model_id   \n",
    "    d['varimp']=modl.varimp()  \n",
    "    d['roc']=modl.roc()      \n",
    "    return d\n",
    "    \n",
    "def xrt_stats(modl):\n",
    "    d={}\n",
    "    d['algo']=modl.algo\n",
    "    d['model_id']=modl.model_id   \n",
    "    d['varimp']=modl.varimp()  \n",
    "    d['roc']=modl.roc()      \n",
    "    return d\n",
    "    \n",
    "    \n",
    "def glm_stats(modl):\n",
    "    d={}\n",
    "    d['algo']=modl.algo\n",
    "    d['model_id']=modl.model_id   \n",
    "    d['coef']=modl.coef()  \n",
    "    d['coef_norm']=modl.coef_norm()      \n",
    "    return d\n",
    "    \n",
    "def model_performance_stats(perf):\n",
    "    d={}\n",
    "    try:    \n",
    "      d['mse']=perf.mse()\n",
    "    except:\n",
    "      pass      \n",
    "    try:    \n",
    "      d['rmse']=perf.rmse() \n",
    "    except:\n",
    "      pass      \n",
    "    try:    \n",
    "      d['null_degrees_of_freedom']=perf.null_degrees_of_freedom()\n",
    "    except:\n",
    "      pass      \n",
    "    try:    \n",
    "      d['residual_degrees_of_freedom']=perf.residual_degrees_of_freedom()\n",
    "    except:\n",
    "      pass      \n",
    "    try:    \n",
    "      d['residual_deviance']=perf.residual_deviance() \n",
    "    except:\n",
    "      pass      \n",
    "    try:    \n",
    "      d['null_deviance']=perf.null_deviance() \n",
    "    except:\n",
    "      pass      \n",
    "    try:    \n",
    "      d['aic']=perf.aic() \n",
    "    except:\n",
    "      pass      \n",
    "    try:\n",
    "      d['logloss']=perf.logloss() \n",
    "    except:\n",
    "      pass    \n",
    "    try:\n",
    "      d['auc']=perf.auc()\n",
    "    except:\n",
    "      pass  \n",
    "    try:\n",
    "      d['gini']=perf.gini()\n",
    "    except:\n",
    "      pass    \n",
    "    return d\n",
    "    \n",
    "def impute_missing_values(df, x, scal=False):\n",
    "    # determine column types\n",
    "    ints, reals, enums = [], [], []\n",
    "    for key, val in df.types.items():\n",
    "        if key in x:\n",
    "            if val == 'enum':\n",
    "                enums.append(key)\n",
    "            elif val == 'int':\n",
    "                ints.append(key)            \n",
    "            else: \n",
    "                reals.append(key)    \n",
    "    _ = df[reals].impute(method='mean')\n",
    "    _ = df[ints].impute(method='median')\n",
    "    if scal:\n",
    "        df[reals] = df[reals].scale()\n",
    "        df[ints] = df[ints].scale()    \n",
    "    return\n",
    "\n",
    "\n",
    "def get_independent_variables(df, targ):\n",
    "    C = [name for name in df.columns if name != targ]\n",
    "    # determine column types\n",
    "    ints, reals, enums = [], [], []\n",
    "    for key, val in df.types.items():\n",
    "        if key in C:\n",
    "            if val == 'enum':\n",
    "                enums.append(key)\n",
    "            elif val == 'int':\n",
    "                ints.append(key)            \n",
    "            else: \n",
    "                reals.append(key)    \n",
    "    x=ints+enums+reals\n",
    "    return x\n",
    "    \n",
    "def get_all_variables_csv(i):\n",
    "    ivd={}\n",
    "    try:\n",
    "      iv = pd.read_csv(i,header=None)\n",
    "    except:\n",
    "      sys.exit(1)    \n",
    "    col=iv.values.tolist()[0]\n",
    "    dt=iv.values.tolist()[1]\n",
    "    i=0\n",
    "    for c in col:\n",
    "      ivd[c.strip()]=dt[i].strip()\n",
    "      i+=1        \n",
    "    return ivd\n",
    "    \n",
    "    \n",
    "\n",
    "def check_all_variables(df,dct,y=None):     \n",
    "    targ=list(dct.keys())     \n",
    "    for key, val in df.types.items():\n",
    "        if key in targ:\n",
    "          if dct[key] not in ['real','int','enum']:                      \n",
    "            targ.remove(key)  \n",
    "    for key, val in df.types.items():\n",
    "        if key in targ:            \n",
    "          if dct[key] != val:\n",
    "            print('convert ',key,' ',dct[key],' ',val)\n",
    "            if dct[key]=='enum':\n",
    "                try:\n",
    "                  df[key] = df[key].asfactor() \n",
    "                except:\n",
    "                  targ.remove(key)                 \n",
    "            if dct[key]=='int': \n",
    "                try:                \n",
    "                  df[key] = df[key].asnumeric() \n",
    "                except:\n",
    "                  targ.remove(key)                  \n",
    "            if dct[key]=='real':\n",
    "                try:                \n",
    "                  df[key] = df[key].asnumeric()  \n",
    "                except:\n",
    "                  targ.remove(key)                  \n",
    "    if y is None:\n",
    "      y=df.columns[-1] \n",
    "    if y in targ:\n",
    "      targ.remove(y)\n",
    "    else:\n",
    "      y=targ.pop()            \n",
    "    return targ    \n",
    "    \n",
    "def predictions(mod,data,run_id):\n",
    "    test = h2o.import_file(data)\n",
    "    mod_perf=mod_best.model_performance(test)\n",
    "              \n",
    "    stats_test={}\n",
    "    stats_test=model_performance_stats(mod_perf)\n",
    "\n",
    "    n=run_id+'_test_stats.json'\n",
    "    dict_to_json(stats_test,n) \n",
    "\n",
    "    try:    \n",
    "      cf=mod_perf.confusion_matrix(metrics=[\"f1\",\"f2\",\"f0point5\",\"accuracy\",\"precision\",\"recall\",\"specificity\",\"absolute_mcc\",\"min_per_class_accuracy\",\"mean_per_class_accuracy\"])\n",
    "      cf_df=cf[0].table.as_data_frame()\n",
    "      cf_df.to_csv(run_id+'_test_confusion_matrix.csv')\n",
    "    except:\n",
    "      pass\n",
    "\n",
    "    predictions = mod_best.predict(test)\n",
    "    predictions_df=test.cbind(predictions).as_data_frame() \n",
    "    predictions_df.to_csv(run_id+'_predictions.csv')\n",
    "    return\n",
    "\n",
    "def predictions_test(mod,test,run_id):\n",
    "    mod_perf=mod_best.model_performance(test)          \n",
    "    stats_test={}\n",
    "    stats_test=model_performance_stats(mod_perf)\n",
    "    n=run_id+'_test_stats.json'\n",
    "    dict_to_json(stats_test,n) \n",
    "    try:\n",
    "      cf=mod_perf.confusion_matrix(metrics=[\"f1\",\"f2\",\"f0point5\",\"accuracy\",\"precision\",\"recall\",\"specificity\",\"absolute_mcc\",\"min_per_class_accuracy\",\"mean_per_class_accuracy\"])\n",
    "      cf_df=cf[0].table.as_data_frame()\n",
    "      cf_df.to_csv(run_id+'_test_confusion_matrix.csv')\n",
    "    except:\n",
    "      pass\n",
    "    predictions = mod_best.predict(test)    \n",
    "    predictions_df=test.cbind(predictions).as_data_frame() \n",
    "    predictions_df.to_csv(run_id+'_predictions.csv')\n",
    "    return predictions\n",
    "\n",
    "def check_X(x,df):\n",
    "    for name in x:\n",
    "        if name not in df.columns:\n",
    "          x.remove(name)  \n",
    "    return x    \n",
    "    \n",
    "    \n",
    "def get_stacked_ensemble(lst):\n",
    "    se=None\n",
    "    for model in model_set:\n",
    "      if 'BestOfFamily' in model:\n",
    "        se=model\n",
    "    if se is None:     \n",
    "      for model in model_set:\n",
    "        if 'AllModels'in model:\n",
    "          se=model           \n",
    "    return se       \n",
    "    \n",
    "def get_variables_types(df):\n",
    "    d={}\n",
    "    for key, val in df.types.items():\n",
    "        d[key]=val           \n",
    "    return d    \n",
    "    \n",
    "#  End Functions"
   ]
  },
  {
   "cell_type": "code",
   "execution_count": 4,
   "metadata": {},
   "outputs": [],
   "source": [
    "data_path='D:\\NEU\\Courses\\BDIA\\Assignments\\Assignment 2/'"
   ]
  },
  {
   "cell_type": "code",
   "execution_count": 5,
   "metadata": {},
   "outputs": [],
   "source": [
    "data_path = os.path.join(os.path.abspath(os.curdir),data_path)"
   ]
  },
  {
   "cell_type": "code",
   "execution_count": 6,
   "metadata": {},
   "outputs": [],
   "source": [
    "all_variables=None"
   ]
  },
  {
   "cell_type": "code",
   "execution_count": 7,
   "metadata": {},
   "outputs": [
    {
     "name": "stdout",
     "output_type": "stream",
     "text": [
      "jbQuZK1oU\n"
     ]
    }
   ],
   "source": [
    "run_id=alphabet(9)\n",
    "# run_id to std out\n",
    "print (run_id) "
   ]
  },
  {
   "cell_type": "code",
   "execution_count": 8,
   "metadata": {},
   "outputs": [],
   "source": [
    "server_path=os.path.abspath(os.curdir)\n",
    "os.chdir(server_path) \n",
    "run_dir = os.path.join(server_path,run_id)\n",
    "os.mkdir(run_dir)\n",
    "os.chdir(run_dir) "
   ]
  },
  {
   "cell_type": "code",
   "execution_count": 9,
   "metadata": {},
   "outputs": [
    {
     "name": "stdout",
     "output_type": "stream",
     "text": [
      "Checking whether there is an H2O instance running at http://localhost:18403..... not found.\n",
      "Attempting to start a local H2O server...\n",
      "; Java HotSpot(TM) 64-Bit Server VM (build 25.181-b13, mixed mode)\n",
      "  Starting server from C:\\Users\\Dhruv Patel\\Anaconda3\\lib\\site-packages\\h2o\\backend\\bin\\h2o.jar\n",
      "  Ice root: C:\\Users\\DHRUVP~1\\AppData\\Local\\Temp\\tmpvr7bdq5l\n",
      "  JVM stdout: C:\\Users\\DHRUVP~1\\AppData\\Local\\Temp\\tmpvr7bdq5l\\h2o_Dhruv_Patel_started_from_python.out\n",
      "  JVM stderr: C:\\Users\\DHRUVP~1\\AppData\\Local\\Temp\\tmpvr7bdq5l\\h2o_Dhruv_Patel_started_from_python.err\n",
      "  Server is running at http://127.0.0.1:18403\n",
      "Connecting to H2O server at http://127.0.0.1:18403... successful.\n"
     ]
    },
    {
     "data": {
      "text/html": [
       "<div style=\"overflow:auto\"><table style=\"width:50%\"><tr><td>H2O cluster uptime:</td>\n",
       "<td>04 secs</td></tr>\n",
       "<tr><td>H2O cluster timezone:</td>\n",
       "<td>America/New_York</td></tr>\n",
       "<tr><td>H2O data parsing timezone:</td>\n",
       "<td>UTC</td></tr>\n",
       "<tr><td>H2O cluster version:</td>\n",
       "<td>3.20.0.8</td></tr>\n",
       "<tr><td>H2O cluster version age:</td>\n",
       "<td>23 days </td></tr>\n",
       "<tr><td>H2O cluster name:</td>\n",
       "<td>H2O_from_python_Dhruv_Patel_qpohpc</td></tr>\n",
       "<tr><td>H2O cluster total nodes:</td>\n",
       "<td>1</td></tr>\n",
       "<tr><td>H2O cluster free memory:</td>\n",
       "<td>3.528 Gb</td></tr>\n",
       "<tr><td>H2O cluster total cores:</td>\n",
       "<td>8</td></tr>\n",
       "<tr><td>H2O cluster allowed cores:</td>\n",
       "<td>8</td></tr>\n",
       "<tr><td>H2O cluster status:</td>\n",
       "<td>accepting new members, healthy</td></tr>\n",
       "<tr><td>H2O connection url:</td>\n",
       "<td>http://127.0.0.1:18403</td></tr>\n",
       "<tr><td>H2O connection proxy:</td>\n",
       "<td>None</td></tr>\n",
       "<tr><td>H2O internal security:</td>\n",
       "<td>False</td></tr>\n",
       "<tr><td>H2O API Extensions:</td>\n",
       "<td>Algos, AutoML, Core V3, Core V4</td></tr>\n",
       "<tr><td>Python version:</td>\n",
       "<td>3.6.4 final</td></tr></table></div>"
      ],
      "text/plain": [
       "--------------------------  ----------------------------------\n",
       "H2O cluster uptime:         04 secs\n",
       "H2O cluster timezone:       America/New_York\n",
       "H2O data parsing timezone:  UTC\n",
       "H2O cluster version:        3.20.0.8\n",
       "H2O cluster version age:    23 days\n",
       "H2O cluster name:           H2O_from_python_Dhruv_Patel_qpohpc\n",
       "H2O cluster total nodes:    1\n",
       "H2O cluster free memory:    3.528 Gb\n",
       "H2O cluster total cores:    8\n",
       "H2O cluster allowed cores:  8\n",
       "H2O cluster status:         accepting new members, healthy\n",
       "H2O connection url:         http://127.0.0.1:18403\n",
       "H2O connection proxy:\n",
       "H2O internal security:      False\n",
       "H2O API Extensions:         Algos, AutoML, Core V3, Core V4\n",
       "Python version:             3.6.4 final\n",
       "--------------------------  ----------------------------------"
      ]
     },
     "metadata": {},
     "output_type": "display_data"
    }
   ],
   "source": [
    "# 65535 Highest port no\n",
    "port_no=random.randint(5555,55555)\n",
    "#h2o.init(strict_version_check=False,min_mem_size_GB=min_mem_size,port=port_no)\n",
    "h2o.init(port=port_no)"
   ]
  },
  {
   "cell_type": "code",
   "execution_count": 10,
   "metadata": {},
   "outputs": [
    {
     "name": "stdout",
     "output_type": "stream",
     "text": [
      "{'run_id': 'jbQuZK1oU', 'start_time': 1539582387.0642242, 'target': None, 'max_models': 9, 'run_time': 333, 'scale': False, 'classification': False, 'balance': False, 'balance_threshold': 0.2, 'project': None, 'end_time': 1539582387.0642242, 'execution_time': 0.0, 'nthreads': 1, 'min_mem_size': 6, 'analysis': 0}\n"
     ]
    }
   ],
   "source": [
    "# meta data\n",
    "meta_data = set_meta_data(run_id,analysis,target,run_time,classification,scale,max_models,balance_y,balance_threshold,name,nthreads,min_mem_size)\n",
    "print(meta_data)  "
   ]
  },
  {
   "cell_type": "code",
   "execution_count": 11,
   "metadata": {},
   "outputs": [
    {
     "name": "stdout",
     "output_type": "stream",
     "text": [
      "D:/NEU/Courses/BDIA/Assignments/Assignment 2/Data/mobile-price-classification/train.csv\n"
     ]
    }
   ],
   "source": [
    "print(data_path)"
   ]
  },
  {
   "cell_type": "code",
   "execution_count": 12,
   "metadata": {},
   "outputs": [
    {
     "name": "stdout",
     "output_type": "stream",
     "text": [
      "Parse progress: |█████████████████████████████████████████████████████████| 100%\n"
     ]
    }
   ],
   "source": [
    "df = h2o.import_file(data_path)"
   ]
  },
  {
   "cell_type": "code",
   "execution_count": 13,
   "metadata": {},
   "outputs": [
    {
     "data": {
      "text/html": [
       "<table>\n",
       "<thead>\n",
       "<tr><th style=\"text-align: right;\">  battery_power</th><th style=\"text-align: right;\">  blue</th><th style=\"text-align: right;\">  clock_speed</th><th style=\"text-align: right;\">  dual_sim</th><th style=\"text-align: right;\">  fc</th><th style=\"text-align: right;\">  four_g</th><th style=\"text-align: right;\">  int_memory</th><th style=\"text-align: right;\">  m_dep</th><th style=\"text-align: right;\">  mobile_wt</th><th style=\"text-align: right;\">  n_cores</th><th style=\"text-align: right;\">  pc</th><th style=\"text-align: right;\">  px_height</th><th style=\"text-align: right;\">  px_width</th><th style=\"text-align: right;\">  ram</th><th style=\"text-align: right;\">  sc_h</th><th style=\"text-align: right;\">  sc_w</th><th style=\"text-align: right;\">  talk_time</th><th style=\"text-align: right;\">  three_g</th><th style=\"text-align: right;\">  touch_screen</th><th style=\"text-align: right;\">  wifi</th><th style=\"text-align: right;\">  price_range</th></tr>\n",
       "</thead>\n",
       "<tbody>\n",
       "<tr><td style=\"text-align: right;\">            842</td><td style=\"text-align: right;\">     0</td><td style=\"text-align: right;\">          2.2</td><td style=\"text-align: right;\">         0</td><td style=\"text-align: right;\">   1</td><td style=\"text-align: right;\">       0</td><td style=\"text-align: right;\">           7</td><td style=\"text-align: right;\">    0.6</td><td style=\"text-align: right;\">        188</td><td style=\"text-align: right;\">        2</td><td style=\"text-align: right;\">   2</td><td style=\"text-align: right;\">         20</td><td style=\"text-align: right;\">       756</td><td style=\"text-align: right;\"> 2549</td><td style=\"text-align: right;\">     9</td><td style=\"text-align: right;\">     7</td><td style=\"text-align: right;\">         19</td><td style=\"text-align: right;\">        0</td><td style=\"text-align: right;\">             0</td><td style=\"text-align: right;\">     1</td><td style=\"text-align: right;\">            1</td></tr>\n",
       "<tr><td style=\"text-align: right;\">           1021</td><td style=\"text-align: right;\">     1</td><td style=\"text-align: right;\">          0.5</td><td style=\"text-align: right;\">         1</td><td style=\"text-align: right;\">   0</td><td style=\"text-align: right;\">       1</td><td style=\"text-align: right;\">          53</td><td style=\"text-align: right;\">    0.7</td><td style=\"text-align: right;\">        136</td><td style=\"text-align: right;\">        3</td><td style=\"text-align: right;\">   6</td><td style=\"text-align: right;\">        905</td><td style=\"text-align: right;\">      1988</td><td style=\"text-align: right;\"> 2631</td><td style=\"text-align: right;\">    17</td><td style=\"text-align: right;\">     3</td><td style=\"text-align: right;\">          7</td><td style=\"text-align: right;\">        1</td><td style=\"text-align: right;\">             1</td><td style=\"text-align: right;\">     0</td><td style=\"text-align: right;\">            2</td></tr>\n",
       "<tr><td style=\"text-align: right;\">            563</td><td style=\"text-align: right;\">     1</td><td style=\"text-align: right;\">          0.5</td><td style=\"text-align: right;\">         1</td><td style=\"text-align: right;\">   2</td><td style=\"text-align: right;\">       1</td><td style=\"text-align: right;\">          41</td><td style=\"text-align: right;\">    0.9</td><td style=\"text-align: right;\">        145</td><td style=\"text-align: right;\">        5</td><td style=\"text-align: right;\">   6</td><td style=\"text-align: right;\">       1263</td><td style=\"text-align: right;\">      1716</td><td style=\"text-align: right;\"> 2603</td><td style=\"text-align: right;\">    11</td><td style=\"text-align: right;\">     2</td><td style=\"text-align: right;\">          9</td><td style=\"text-align: right;\">        1</td><td style=\"text-align: right;\">             1</td><td style=\"text-align: right;\">     0</td><td style=\"text-align: right;\">            2</td></tr>\n",
       "<tr><td style=\"text-align: right;\">            615</td><td style=\"text-align: right;\">     1</td><td style=\"text-align: right;\">          2.5</td><td style=\"text-align: right;\">         0</td><td style=\"text-align: right;\">   0</td><td style=\"text-align: right;\">       0</td><td style=\"text-align: right;\">          10</td><td style=\"text-align: right;\">    0.8</td><td style=\"text-align: right;\">        131</td><td style=\"text-align: right;\">        6</td><td style=\"text-align: right;\">   9</td><td style=\"text-align: right;\">       1216</td><td style=\"text-align: right;\">      1786</td><td style=\"text-align: right;\"> 2769</td><td style=\"text-align: right;\">    16</td><td style=\"text-align: right;\">     8</td><td style=\"text-align: right;\">         11</td><td style=\"text-align: right;\">        1</td><td style=\"text-align: right;\">             0</td><td style=\"text-align: right;\">     0</td><td style=\"text-align: right;\">            2</td></tr>\n",
       "<tr><td style=\"text-align: right;\">           1821</td><td style=\"text-align: right;\">     1</td><td style=\"text-align: right;\">          1.2</td><td style=\"text-align: right;\">         0</td><td style=\"text-align: right;\">  13</td><td style=\"text-align: right;\">       1</td><td style=\"text-align: right;\">          44</td><td style=\"text-align: right;\">    0.6</td><td style=\"text-align: right;\">        141</td><td style=\"text-align: right;\">        2</td><td style=\"text-align: right;\">  14</td><td style=\"text-align: right;\">       1208</td><td style=\"text-align: right;\">      1212</td><td style=\"text-align: right;\"> 1411</td><td style=\"text-align: right;\">     8</td><td style=\"text-align: right;\">     2</td><td style=\"text-align: right;\">         15</td><td style=\"text-align: right;\">        1</td><td style=\"text-align: right;\">             1</td><td style=\"text-align: right;\">     0</td><td style=\"text-align: right;\">            1</td></tr>\n",
       "<tr><td style=\"text-align: right;\">           1859</td><td style=\"text-align: right;\">     0</td><td style=\"text-align: right;\">          0.5</td><td style=\"text-align: right;\">         1</td><td style=\"text-align: right;\">   3</td><td style=\"text-align: right;\">       0</td><td style=\"text-align: right;\">          22</td><td style=\"text-align: right;\">    0.7</td><td style=\"text-align: right;\">        164</td><td style=\"text-align: right;\">        1</td><td style=\"text-align: right;\">   7</td><td style=\"text-align: right;\">       1004</td><td style=\"text-align: right;\">      1654</td><td style=\"text-align: right;\"> 1067</td><td style=\"text-align: right;\">    17</td><td style=\"text-align: right;\">     1</td><td style=\"text-align: right;\">         10</td><td style=\"text-align: right;\">        1</td><td style=\"text-align: right;\">             0</td><td style=\"text-align: right;\">     0</td><td style=\"text-align: right;\">            1</td></tr>\n",
       "<tr><td style=\"text-align: right;\">           1821</td><td style=\"text-align: right;\">     0</td><td style=\"text-align: right;\">          1.7</td><td style=\"text-align: right;\">         0</td><td style=\"text-align: right;\">   4</td><td style=\"text-align: right;\">       1</td><td style=\"text-align: right;\">          10</td><td style=\"text-align: right;\">    0.8</td><td style=\"text-align: right;\">        139</td><td style=\"text-align: right;\">        8</td><td style=\"text-align: right;\">  10</td><td style=\"text-align: right;\">        381</td><td style=\"text-align: right;\">      1018</td><td style=\"text-align: right;\"> 3220</td><td style=\"text-align: right;\">    13</td><td style=\"text-align: right;\">     8</td><td style=\"text-align: right;\">         18</td><td style=\"text-align: right;\">        1</td><td style=\"text-align: right;\">             0</td><td style=\"text-align: right;\">     1</td><td style=\"text-align: right;\">            3</td></tr>\n",
       "<tr><td style=\"text-align: right;\">           1954</td><td style=\"text-align: right;\">     0</td><td style=\"text-align: right;\">          0.5</td><td style=\"text-align: right;\">         1</td><td style=\"text-align: right;\">   0</td><td style=\"text-align: right;\">       0</td><td style=\"text-align: right;\">          24</td><td style=\"text-align: right;\">    0.8</td><td style=\"text-align: right;\">        187</td><td style=\"text-align: right;\">        4</td><td style=\"text-align: right;\">   0</td><td style=\"text-align: right;\">        512</td><td style=\"text-align: right;\">      1149</td><td style=\"text-align: right;\">  700</td><td style=\"text-align: right;\">    16</td><td style=\"text-align: right;\">     3</td><td style=\"text-align: right;\">          5</td><td style=\"text-align: right;\">        1</td><td style=\"text-align: right;\">             1</td><td style=\"text-align: right;\">     1</td><td style=\"text-align: right;\">            0</td></tr>\n",
       "<tr><td style=\"text-align: right;\">           1445</td><td style=\"text-align: right;\">     1</td><td style=\"text-align: right;\">          0.5</td><td style=\"text-align: right;\">         0</td><td style=\"text-align: right;\">   0</td><td style=\"text-align: right;\">       0</td><td style=\"text-align: right;\">          53</td><td style=\"text-align: right;\">    0.7</td><td style=\"text-align: right;\">        174</td><td style=\"text-align: right;\">        7</td><td style=\"text-align: right;\">  14</td><td style=\"text-align: right;\">        386</td><td style=\"text-align: right;\">       836</td><td style=\"text-align: right;\"> 1099</td><td style=\"text-align: right;\">    17</td><td style=\"text-align: right;\">     1</td><td style=\"text-align: right;\">         20</td><td style=\"text-align: right;\">        1</td><td style=\"text-align: right;\">             0</td><td style=\"text-align: right;\">     0</td><td style=\"text-align: right;\">            0</td></tr>\n",
       "<tr><td style=\"text-align: right;\">            509</td><td style=\"text-align: right;\">     1</td><td style=\"text-align: right;\">          0.6</td><td style=\"text-align: right;\">         1</td><td style=\"text-align: right;\">   2</td><td style=\"text-align: right;\">       1</td><td style=\"text-align: right;\">           9</td><td style=\"text-align: right;\">    0.1</td><td style=\"text-align: right;\">         93</td><td style=\"text-align: right;\">        5</td><td style=\"text-align: right;\">  15</td><td style=\"text-align: right;\">       1137</td><td style=\"text-align: right;\">      1224</td><td style=\"text-align: right;\">  513</td><td style=\"text-align: right;\">    19</td><td style=\"text-align: right;\">    10</td><td style=\"text-align: right;\">         12</td><td style=\"text-align: right;\">        1</td><td style=\"text-align: right;\">             0</td><td style=\"text-align: right;\">     0</td><td style=\"text-align: right;\">            0</td></tr>\n",
       "</tbody>\n",
       "</table>"
      ]
     },
     "metadata": {},
     "output_type": "display_data"
    },
    {
     "data": {
      "text/plain": []
     },
     "execution_count": 13,
     "metadata": {},
     "output_type": "execute_result"
    }
   ],
   "source": [
    "df.head()"
   ]
  },
  {
   "cell_type": "code",
   "execution_count": 14,
   "metadata": {},
   "outputs": [
    {
     "name": "stdout",
     "output_type": "stream",
     "text": [
      "Rows:2000\n",
      "Cols:21\n",
      "\n",
      "\n"
     ]
    },
    {
     "data": {
      "text/html": [
       "<table>\n",
       "<thead>\n",
       "<tr><th>       </th><th>battery_power     </th><th>blue              </th><th>clock_speed       </th><th>dual_sim         </th><th>fc               </th><th>four_g             </th><th>int_memory        </th><th>m_dep             </th><th>mobile_wt         </th><th>n_cores           </th><th>pc               </th><th>px_height        </th><th>px_width          </th><th>ram               </th><th>sc_h             </th><th>sc_w              </th><th>talk_time        </th><th>three_g            </th><th>touch_screen     </th><th>wifi              </th><th>price_range       </th></tr>\n",
       "</thead>\n",
       "<tbody>\n",
       "<tr><td>type   </td><td>int               </td><td>int               </td><td>real              </td><td>int              </td><td>int              </td><td>int                </td><td>int               </td><td>real              </td><td>int               </td><td>int               </td><td>int              </td><td>int              </td><td>int               </td><td>int               </td><td>int              </td><td>int               </td><td>int              </td><td>int                </td><td>int              </td><td>int               </td><td>int               </td></tr>\n",
       "<tr><td>mins   </td><td>501.0             </td><td>0.0               </td><td>0.5               </td><td>0.0              </td><td>0.0              </td><td>0.0                </td><td>2.0               </td><td>0.1               </td><td>80.0              </td><td>1.0               </td><td>0.0              </td><td>0.0              </td><td>500.0             </td><td>256.0             </td><td>5.0              </td><td>0.0               </td><td>2.0              </td><td>0.0                </td><td>0.0              </td><td>0.0               </td><td>0.0               </td></tr>\n",
       "<tr><td>mean   </td><td>1238.5185         </td><td>0.495             </td><td>1.52225           </td><td>0.5095           </td><td>4.3095           </td><td>0.5215             </td><td>32.046499999999995</td><td>0.50175           </td><td>140.249           </td><td>4.5205            </td><td>9.9165           </td><td>645.108          </td><td>1251.5155         </td><td>2124.213          </td><td>12.3065          </td><td>5.767             </td><td>11.011           </td><td>0.7615             </td><td>0.503            </td><td>0.507             </td><td>1.5               </td></tr>\n",
       "<tr><td>maxs   </td><td>1998.0            </td><td>1.0               </td><td>3.0               </td><td>1.0              </td><td>19.0             </td><td>1.0                </td><td>64.0              </td><td>1.0               </td><td>200.0             </td><td>8.0               </td><td>20.0             </td><td>1960.0           </td><td>1998.0            </td><td>3998.0            </td><td>19.0             </td><td>18.0              </td><td>20.0             </td><td>1.0                </td><td>1.0              </td><td>1.0               </td><td>3.0               </td></tr>\n",
       "<tr><td>sigma  </td><td>439.41820608353135</td><td>0.5001000400170075</td><td>0.8160042088950689</td><td>0.500034766175005</td><td>4.341443747983894</td><td>0.49966246736236386</td><td>18.14571495520686 </td><td>0.2884155496235116</td><td>35.399654896388355</td><td>2.2878367180426604</td><td>6.064314941347781</td><td>443.7808108064385</td><td>432.19944694633796</td><td>1084.7320436099494</td><td>4.213245004356305</td><td>4.3563976058264045</td><td>5.463955197766688</td><td>0.42627292231873126</td><td>0.500116044562674</td><td>0.5000760322381083</td><td>1.1183136021064612</td></tr>\n",
       "<tr><td>zeros  </td><td>0                 </td><td>1010              </td><td>0                 </td><td>981              </td><td>474              </td><td>957                </td><td>0                 </td><td>0                 </td><td>0                 </td><td>0                 </td><td>101              </td><td>2                </td><td>0                 </td><td>0                 </td><td>0                </td><td>180               </td><td>0                </td><td>477                </td><td>994              </td><td>986               </td><td>500               </td></tr>\n",
       "<tr><td>missing</td><td>0                 </td><td>0                 </td><td>0                 </td><td>0                </td><td>0                </td><td>0                  </td><td>0                 </td><td>0                 </td><td>0                 </td><td>0                 </td><td>0                </td><td>0                </td><td>0                 </td><td>0                 </td><td>0                </td><td>0                 </td><td>0                </td><td>0                  </td><td>0                </td><td>0                 </td><td>0                 </td></tr>\n",
       "<tr><td>0      </td><td>842.0             </td><td>0.0               </td><td>2.2               </td><td>0.0              </td><td>1.0              </td><td>0.0                </td><td>7.0               </td><td>0.6               </td><td>188.0             </td><td>2.0               </td><td>2.0              </td><td>20.0             </td><td>756.0             </td><td>2549.0            </td><td>9.0              </td><td>7.0               </td><td>19.0             </td><td>0.0                </td><td>0.0              </td><td>1.0               </td><td>1.0               </td></tr>\n",
       "<tr><td>1      </td><td>1021.0            </td><td>1.0               </td><td>0.5               </td><td>1.0              </td><td>0.0              </td><td>1.0                </td><td>53.0              </td><td>0.7               </td><td>136.0             </td><td>3.0               </td><td>6.0              </td><td>905.0            </td><td>1988.0            </td><td>2631.0            </td><td>17.0             </td><td>3.0               </td><td>7.0              </td><td>1.0                </td><td>1.0              </td><td>0.0               </td><td>2.0               </td></tr>\n",
       "<tr><td>2      </td><td>563.0             </td><td>1.0               </td><td>0.5               </td><td>1.0              </td><td>2.0              </td><td>1.0                </td><td>41.0              </td><td>0.9               </td><td>145.0             </td><td>5.0               </td><td>6.0              </td><td>1263.0           </td><td>1716.0            </td><td>2603.0            </td><td>11.0             </td><td>2.0               </td><td>9.0              </td><td>1.0                </td><td>1.0              </td><td>0.0               </td><td>2.0               </td></tr>\n",
       "<tr><td>3      </td><td>615.0             </td><td>1.0               </td><td>2.5               </td><td>0.0              </td><td>0.0              </td><td>0.0                </td><td>10.0              </td><td>0.8               </td><td>131.0             </td><td>6.0               </td><td>9.0              </td><td>1216.0           </td><td>1786.0            </td><td>2769.0            </td><td>16.0             </td><td>8.0               </td><td>11.0             </td><td>1.0                </td><td>0.0              </td><td>0.0               </td><td>2.0               </td></tr>\n",
       "<tr><td>4      </td><td>1821.0            </td><td>1.0               </td><td>1.2               </td><td>0.0              </td><td>13.0             </td><td>1.0                </td><td>44.0              </td><td>0.6               </td><td>141.0             </td><td>2.0               </td><td>14.0             </td><td>1208.0           </td><td>1212.0            </td><td>1411.0            </td><td>8.0              </td><td>2.0               </td><td>15.0             </td><td>1.0                </td><td>1.0              </td><td>0.0               </td><td>1.0               </td></tr>\n",
       "<tr><td>5      </td><td>1859.0            </td><td>0.0               </td><td>0.5               </td><td>1.0              </td><td>3.0              </td><td>0.0                </td><td>22.0              </td><td>0.7               </td><td>164.0             </td><td>1.0               </td><td>7.0              </td><td>1004.0           </td><td>1654.0            </td><td>1067.0            </td><td>17.0             </td><td>1.0               </td><td>10.0             </td><td>1.0                </td><td>0.0              </td><td>0.0               </td><td>1.0               </td></tr>\n",
       "<tr><td>6      </td><td>1821.0            </td><td>0.0               </td><td>1.7               </td><td>0.0              </td><td>4.0              </td><td>1.0                </td><td>10.0              </td><td>0.8               </td><td>139.0             </td><td>8.0               </td><td>10.0             </td><td>381.0            </td><td>1018.0            </td><td>3220.0            </td><td>13.0             </td><td>8.0               </td><td>18.0             </td><td>1.0                </td><td>0.0              </td><td>1.0               </td><td>3.0               </td></tr>\n",
       "<tr><td>7      </td><td>1954.0            </td><td>0.0               </td><td>0.5               </td><td>1.0              </td><td>0.0              </td><td>0.0                </td><td>24.0              </td><td>0.8               </td><td>187.0             </td><td>4.0               </td><td>0.0              </td><td>512.0            </td><td>1149.0            </td><td>700.0             </td><td>16.0             </td><td>3.0               </td><td>5.0              </td><td>1.0                </td><td>1.0              </td><td>1.0               </td><td>0.0               </td></tr>\n",
       "<tr><td>8      </td><td>1445.0            </td><td>1.0               </td><td>0.5               </td><td>0.0              </td><td>0.0              </td><td>0.0                </td><td>53.0              </td><td>0.7               </td><td>174.0             </td><td>7.0               </td><td>14.0             </td><td>386.0            </td><td>836.0             </td><td>1099.0            </td><td>17.0             </td><td>1.0               </td><td>20.0             </td><td>1.0                </td><td>0.0              </td><td>0.0               </td><td>0.0               </td></tr>\n",
       "<tr><td>9      </td><td>509.0             </td><td>1.0               </td><td>0.6               </td><td>1.0              </td><td>2.0              </td><td>1.0                </td><td>9.0               </td><td>0.1               </td><td>93.0              </td><td>5.0               </td><td>15.0             </td><td>1137.0           </td><td>1224.0            </td><td>513.0             </td><td>19.0             </td><td>10.0              </td><td>12.0             </td><td>1.0                </td><td>0.0              </td><td>0.0               </td><td>0.0               </td></tr>\n",
       "</tbody>\n",
       "</table>"
      ]
     },
     "metadata": {},
     "output_type": "display_data"
    }
   ],
   "source": [
    "df.describe()"
   ]
  },
  {
   "cell_type": "markdown",
   "metadata": {},
   "source": [
    "describe()[source]\n",
    "Generate an in-depth description of this H2OFrame.\n",
    "\n",
    "The description is a tabular print of the type, min, max, sigma, number of zeros, and number of missing elements for each H2OVec in this H2OFrame.\n",
    "\n",
    "Returns:\tNone (print to stdout) "
   ]
  },
  {
   "cell_type": "code",
   "execution_count": 15,
   "metadata": {},
   "outputs": [],
   "source": [
    "# dependent variable\n",
    "# assign target and inputs for classification or regression\n",
    "if target==None:\n",
    "  target=df.columns[3]   \n",
    "y = target"
   ]
  },
  {
   "cell_type": "code",
   "execution_count": 16,
   "metadata": {},
   "outputs": [
    {
     "name": "stdout",
     "output_type": "stream",
     "text": [
      "dual_sim\n"
     ]
    }
   ],
   "source": [
    "print(y)"
   ]
  },
  {
   "cell_type": "code",
   "execution_count": 17,
   "metadata": {
    "scrolled": true
   },
   "outputs": [
    {
     "name": "stdout",
     "output_type": "stream",
     "text": [
      "None\n"
     ]
    }
   ],
   "source": [
    "print(all_variables)"
   ]
  },
  {
   "cell_type": "code",
   "execution_count": 18,
   "metadata": {},
   "outputs": [],
   "source": [
    "if all_variables is not None:\n",
    "  ivd=get_all_variables_csv(all_variables)\n",
    "  print(ivd)    \n",
    "  X=check_all_variables(df,ivd,y)\n",
    "  print(X)"
   ]
  },
  {
   "cell_type": "code",
   "execution_count": 19,
   "metadata": {},
   "outputs": [
    {
     "name": "stdout",
     "output_type": "stream",
     "text": [
      "Rows:2000\n",
      "Cols:21\n",
      "\n",
      "\n"
     ]
    },
    {
     "data": {
      "text/html": [
       "<table>\n",
       "<thead>\n",
       "<tr><th>       </th><th>battery_power     </th><th>blue              </th><th>clock_speed       </th><th>dual_sim         </th><th>fc               </th><th>four_g             </th><th>int_memory        </th><th>m_dep             </th><th>mobile_wt         </th><th>n_cores           </th><th>pc               </th><th>px_height        </th><th>px_width          </th><th>ram               </th><th>sc_h             </th><th>sc_w              </th><th>talk_time        </th><th>three_g            </th><th>touch_screen     </th><th>wifi              </th><th>price_range       </th></tr>\n",
       "</thead>\n",
       "<tbody>\n",
       "<tr><td>type   </td><td>int               </td><td>int               </td><td>real              </td><td>int              </td><td>int              </td><td>int                </td><td>int               </td><td>real              </td><td>int               </td><td>int               </td><td>int              </td><td>int              </td><td>int               </td><td>int               </td><td>int              </td><td>int               </td><td>int              </td><td>int                </td><td>int              </td><td>int               </td><td>int               </td></tr>\n",
       "<tr><td>mins   </td><td>501.0             </td><td>0.0               </td><td>0.5               </td><td>0.0              </td><td>0.0              </td><td>0.0                </td><td>2.0               </td><td>0.1               </td><td>80.0              </td><td>1.0               </td><td>0.0              </td><td>0.0              </td><td>500.0             </td><td>256.0             </td><td>5.0              </td><td>0.0               </td><td>2.0              </td><td>0.0                </td><td>0.0              </td><td>0.0               </td><td>0.0               </td></tr>\n",
       "<tr><td>mean   </td><td>1238.5185         </td><td>0.495             </td><td>1.52225           </td><td>0.5095           </td><td>4.3095           </td><td>0.5215             </td><td>32.046499999999995</td><td>0.50175           </td><td>140.249           </td><td>4.5205            </td><td>9.9165           </td><td>645.108          </td><td>1251.5155         </td><td>2124.213          </td><td>12.3065          </td><td>5.767             </td><td>11.011           </td><td>0.7615             </td><td>0.503            </td><td>0.507             </td><td>1.5               </td></tr>\n",
       "<tr><td>maxs   </td><td>1998.0            </td><td>1.0               </td><td>3.0               </td><td>1.0              </td><td>19.0             </td><td>1.0                </td><td>64.0              </td><td>1.0               </td><td>200.0             </td><td>8.0               </td><td>20.0             </td><td>1960.0           </td><td>1998.0            </td><td>3998.0            </td><td>19.0             </td><td>18.0              </td><td>20.0             </td><td>1.0                </td><td>1.0              </td><td>1.0               </td><td>3.0               </td></tr>\n",
       "<tr><td>sigma  </td><td>439.41820608353135</td><td>0.5001000400170075</td><td>0.8160042088950689</td><td>0.500034766175005</td><td>4.341443747983894</td><td>0.49966246736236386</td><td>18.14571495520686 </td><td>0.2884155496235116</td><td>35.399654896388355</td><td>2.2878367180426604</td><td>6.064314941347781</td><td>443.7808108064385</td><td>432.19944694633796</td><td>1084.7320436099494</td><td>4.213245004356305</td><td>4.3563976058264045</td><td>5.463955197766688</td><td>0.42627292231873126</td><td>0.500116044562674</td><td>0.5000760322381083</td><td>1.1183136021064612</td></tr>\n",
       "<tr><td>zeros  </td><td>0                 </td><td>1010              </td><td>0                 </td><td>981              </td><td>474              </td><td>957                </td><td>0                 </td><td>0                 </td><td>0                 </td><td>0                 </td><td>101              </td><td>2                </td><td>0                 </td><td>0                 </td><td>0                </td><td>180               </td><td>0                </td><td>477                </td><td>994              </td><td>986               </td><td>500               </td></tr>\n",
       "<tr><td>missing</td><td>0                 </td><td>0                 </td><td>0                 </td><td>0                </td><td>0                </td><td>0                  </td><td>0                 </td><td>0                 </td><td>0                 </td><td>0                 </td><td>0                </td><td>0                </td><td>0                 </td><td>0                 </td><td>0                </td><td>0                 </td><td>0                </td><td>0                  </td><td>0                </td><td>0                 </td><td>0                 </td></tr>\n",
       "<tr><td>0      </td><td>842.0             </td><td>0.0               </td><td>2.2               </td><td>0.0              </td><td>1.0              </td><td>0.0                </td><td>7.0               </td><td>0.6               </td><td>188.0             </td><td>2.0               </td><td>2.0              </td><td>20.0             </td><td>756.0             </td><td>2549.0            </td><td>9.0              </td><td>7.0               </td><td>19.0             </td><td>0.0                </td><td>0.0              </td><td>1.0               </td><td>1.0               </td></tr>\n",
       "<tr><td>1      </td><td>1021.0            </td><td>1.0               </td><td>0.5               </td><td>1.0              </td><td>0.0              </td><td>1.0                </td><td>53.0              </td><td>0.7               </td><td>136.0             </td><td>3.0               </td><td>6.0              </td><td>905.0            </td><td>1988.0            </td><td>2631.0            </td><td>17.0             </td><td>3.0               </td><td>7.0              </td><td>1.0                </td><td>1.0              </td><td>0.0               </td><td>2.0               </td></tr>\n",
       "<tr><td>2      </td><td>563.0             </td><td>1.0               </td><td>0.5               </td><td>1.0              </td><td>2.0              </td><td>1.0                </td><td>41.0              </td><td>0.9               </td><td>145.0             </td><td>5.0               </td><td>6.0              </td><td>1263.0           </td><td>1716.0            </td><td>2603.0            </td><td>11.0             </td><td>2.0               </td><td>9.0              </td><td>1.0                </td><td>1.0              </td><td>0.0               </td><td>2.0               </td></tr>\n",
       "<tr><td>3      </td><td>615.0             </td><td>1.0               </td><td>2.5               </td><td>0.0              </td><td>0.0              </td><td>0.0                </td><td>10.0              </td><td>0.8               </td><td>131.0             </td><td>6.0               </td><td>9.0              </td><td>1216.0           </td><td>1786.0            </td><td>2769.0            </td><td>16.0             </td><td>8.0               </td><td>11.0             </td><td>1.0                </td><td>0.0              </td><td>0.0               </td><td>2.0               </td></tr>\n",
       "<tr><td>4      </td><td>1821.0            </td><td>1.0               </td><td>1.2               </td><td>0.0              </td><td>13.0             </td><td>1.0                </td><td>44.0              </td><td>0.6               </td><td>141.0             </td><td>2.0               </td><td>14.0             </td><td>1208.0           </td><td>1212.0            </td><td>1411.0            </td><td>8.0              </td><td>2.0               </td><td>15.0             </td><td>1.0                </td><td>1.0              </td><td>0.0               </td><td>1.0               </td></tr>\n",
       "<tr><td>5      </td><td>1859.0            </td><td>0.0               </td><td>0.5               </td><td>1.0              </td><td>3.0              </td><td>0.0                </td><td>22.0              </td><td>0.7               </td><td>164.0             </td><td>1.0               </td><td>7.0              </td><td>1004.0           </td><td>1654.0            </td><td>1067.0            </td><td>17.0             </td><td>1.0               </td><td>10.0             </td><td>1.0                </td><td>0.0              </td><td>0.0               </td><td>1.0               </td></tr>\n",
       "<tr><td>6      </td><td>1821.0            </td><td>0.0               </td><td>1.7               </td><td>0.0              </td><td>4.0              </td><td>1.0                </td><td>10.0              </td><td>0.8               </td><td>139.0             </td><td>8.0               </td><td>10.0             </td><td>381.0            </td><td>1018.0            </td><td>3220.0            </td><td>13.0             </td><td>8.0               </td><td>18.0             </td><td>1.0                </td><td>0.0              </td><td>1.0               </td><td>3.0               </td></tr>\n",
       "<tr><td>7      </td><td>1954.0            </td><td>0.0               </td><td>0.5               </td><td>1.0              </td><td>0.0              </td><td>0.0                </td><td>24.0              </td><td>0.8               </td><td>187.0             </td><td>4.0               </td><td>0.0              </td><td>512.0            </td><td>1149.0            </td><td>700.0             </td><td>16.0             </td><td>3.0               </td><td>5.0              </td><td>1.0                </td><td>1.0              </td><td>1.0               </td><td>0.0               </td></tr>\n",
       "<tr><td>8      </td><td>1445.0            </td><td>1.0               </td><td>0.5               </td><td>0.0              </td><td>0.0              </td><td>0.0                </td><td>53.0              </td><td>0.7               </td><td>174.0             </td><td>7.0               </td><td>14.0             </td><td>386.0            </td><td>836.0             </td><td>1099.0            </td><td>17.0             </td><td>1.0               </td><td>20.0             </td><td>1.0                </td><td>0.0              </td><td>0.0               </td><td>0.0               </td></tr>\n",
       "<tr><td>9      </td><td>509.0             </td><td>1.0               </td><td>0.6               </td><td>1.0              </td><td>2.0              </td><td>1.0                </td><td>9.0               </td><td>0.1               </td><td>93.0              </td><td>5.0               </td><td>15.0             </td><td>1137.0           </td><td>1224.0            </td><td>513.0             </td><td>19.0             </td><td>10.0              </td><td>12.0             </td><td>1.0                </td><td>0.0              </td><td>0.0               </td><td>0.0               </td></tr>\n",
       "</tbody>\n",
       "</table>"
      ]
     },
     "metadata": {},
     "output_type": "display_data"
    }
   ],
   "source": [
    "df.describe()"
   ]
  },
  {
   "cell_type": "code",
   "execution_count": 20,
   "metadata": {},
   "outputs": [],
   "source": [
    "# independent variables\n",
    "\n",
    "X = []  \n",
    "if all_variables is None:\n",
    "  X=get_independent_variables(df, target)  \n",
    "else: \n",
    "  ivd=get_all_variables_csv(all_variables)    \n",
    "  X=check_all_variables(df, ivd)\n",
    "\n",
    "\n",
    "X=check_X(X,df)\n",
    "\n",
    "\n",
    "# Add independent variables\n",
    "\n",
    "meta_data['X']=X  \n",
    "\n",
    "\n",
    "# impute missing values\n",
    "\n",
    "_=impute_missing_values(df,X, scale)"
   ]
  },
  {
   "cell_type": "code",
   "execution_count": 21,
   "metadata": {},
   "outputs": [],
   "source": [
    "if analysis == 3:\n",
    "  classification=False\n",
    "elif analysis == 2:\n",
    "  classification=True\n",
    "elif analysis == 1:\n",
    "  classification=True"
   ]
  },
  {
   "cell_type": "code",
   "execution_count": 22,
   "metadata": {},
   "outputs": [
    {
     "name": "stdout",
     "output_type": "stream",
     "text": [
      "False\n"
     ]
    }
   ],
   "source": [
    "print(classification)"
   ]
  },
  {
   "cell_type": "code",
   "execution_count": 23,
   "metadata": {},
   "outputs": [],
   "source": [
    "# Force target to be factors\n",
    "# Only 'int' or 'string' are allowed for asfactor(), got Target (Total orders):real \n",
    "\n",
    "if classification:\n",
    "    df[y] = df[y].asfactor()"
   ]
  },
  {
   "cell_type": "code",
   "execution_count": 24,
   "metadata": {},
   "outputs": [],
   "source": [
    "def check_y(y,df):\n",
    "  ok=False\n",
    "  C = [name for name in df.columns if name == y]\n",
    "  for key, val in df.types.items():\n",
    "    if key in C:\n",
    "      if val in ['real','int','enum']:        \n",
    "        ok=True         \n",
    "  return ok, val   "
   ]
  },
  {
   "cell_type": "code",
   "execution_count": 25,
   "metadata": {},
   "outputs": [],
   "source": [
    "ok,val=check_y(y,df)"
   ]
  },
  {
   "cell_type": "code",
   "execution_count": 26,
   "metadata": {},
   "outputs": [
    {
     "name": "stdout",
     "output_type": "stream",
     "text": [
      "int\n"
     ]
    }
   ],
   "source": [
    "print(val)"
   ]
  },
  {
   "cell_type": "code",
   "execution_count": 27,
   "metadata": {},
   "outputs": [
    {
     "name": "stdout",
     "output_type": "stream",
     "text": [
      "True\n"
     ]
    }
   ],
   "source": [
    "print(ok)"
   ]
  },
  {
   "cell_type": "code",
   "execution_count": 28,
   "metadata": {},
   "outputs": [],
   "source": [
    "if val=='enum':\n",
    "    print(df[y].levels())"
   ]
  },
  {
   "cell_type": "code",
   "execution_count": 29,
   "metadata": {},
   "outputs": [
    {
     "name": "stdout",
     "output_type": "stream",
     "text": [
      "Rows:2000\n",
      "Cols:21\n",
      "\n",
      "\n"
     ]
    },
    {
     "data": {
      "text/html": [
       "<table>\n",
       "<thead>\n",
       "<tr><th>       </th><th>battery_power     </th><th>blue              </th><th>clock_speed       </th><th>dual_sim         </th><th>fc               </th><th>four_g             </th><th>int_memory        </th><th>m_dep             </th><th>mobile_wt         </th><th>n_cores           </th><th>pc               </th><th>px_height        </th><th>px_width          </th><th>ram               </th><th>sc_h             </th><th>sc_w              </th><th>talk_time        </th><th>three_g            </th><th>touch_screen     </th><th>wifi              </th><th>price_range       </th></tr>\n",
       "</thead>\n",
       "<tbody>\n",
       "<tr><td>type   </td><td>int               </td><td>int               </td><td>real              </td><td>int              </td><td>int              </td><td>int                </td><td>int               </td><td>real              </td><td>int               </td><td>int               </td><td>int              </td><td>int              </td><td>int               </td><td>int               </td><td>int              </td><td>int               </td><td>int              </td><td>int                </td><td>int              </td><td>int               </td><td>int               </td></tr>\n",
       "<tr><td>mins   </td><td>501.0             </td><td>0.0               </td><td>0.5               </td><td>0.0              </td><td>0.0              </td><td>0.0                </td><td>2.0               </td><td>0.1               </td><td>80.0              </td><td>1.0               </td><td>0.0              </td><td>0.0              </td><td>500.0             </td><td>256.0             </td><td>5.0              </td><td>0.0               </td><td>2.0              </td><td>0.0                </td><td>0.0              </td><td>0.0               </td><td>0.0               </td></tr>\n",
       "<tr><td>mean   </td><td>1238.5185         </td><td>0.495             </td><td>1.52225           </td><td>0.5095           </td><td>4.3095           </td><td>0.5215             </td><td>32.046499999999995</td><td>0.50175           </td><td>140.249           </td><td>4.5205            </td><td>9.9165           </td><td>645.108          </td><td>1251.5155         </td><td>2124.213          </td><td>12.3065          </td><td>5.767             </td><td>11.011           </td><td>0.7615             </td><td>0.503            </td><td>0.507             </td><td>1.5               </td></tr>\n",
       "<tr><td>maxs   </td><td>1998.0            </td><td>1.0               </td><td>3.0               </td><td>1.0              </td><td>19.0             </td><td>1.0                </td><td>64.0              </td><td>1.0               </td><td>200.0             </td><td>8.0               </td><td>20.0             </td><td>1960.0           </td><td>1998.0            </td><td>3998.0            </td><td>19.0             </td><td>18.0              </td><td>20.0             </td><td>1.0                </td><td>1.0              </td><td>1.0               </td><td>3.0               </td></tr>\n",
       "<tr><td>sigma  </td><td>439.41820608353135</td><td>0.5001000400170075</td><td>0.8160042088950689</td><td>0.500034766175005</td><td>4.341443747983894</td><td>0.49966246736236386</td><td>18.14571495520686 </td><td>0.2884155496235116</td><td>35.399654896388355</td><td>2.2878367180426604</td><td>6.064314941347781</td><td>443.7808108064385</td><td>432.19944694633796</td><td>1084.7320436099494</td><td>4.213245004356305</td><td>4.3563976058264045</td><td>5.463955197766688</td><td>0.42627292231873126</td><td>0.500116044562674</td><td>0.5000760322381083</td><td>1.1183136021064612</td></tr>\n",
       "<tr><td>zeros  </td><td>0                 </td><td>1010              </td><td>0                 </td><td>981              </td><td>474              </td><td>957                </td><td>0                 </td><td>0                 </td><td>0                 </td><td>0                 </td><td>101              </td><td>2                </td><td>0                 </td><td>0                 </td><td>0                </td><td>180               </td><td>0                </td><td>477                </td><td>994              </td><td>986               </td><td>500               </td></tr>\n",
       "<tr><td>missing</td><td>0                 </td><td>0                 </td><td>0                 </td><td>0                </td><td>0                </td><td>0                  </td><td>0                 </td><td>0                 </td><td>0                 </td><td>0                 </td><td>0                </td><td>0                </td><td>0                 </td><td>0                 </td><td>0                </td><td>0                 </td><td>0                </td><td>0                  </td><td>0                </td><td>0                 </td><td>0                 </td></tr>\n",
       "<tr><td>0      </td><td>842.0             </td><td>0.0               </td><td>2.2               </td><td>0.0              </td><td>1.0              </td><td>0.0                </td><td>7.0               </td><td>0.6               </td><td>188.0             </td><td>2.0               </td><td>2.0              </td><td>20.0             </td><td>756.0             </td><td>2549.0            </td><td>9.0              </td><td>7.0               </td><td>19.0             </td><td>0.0                </td><td>0.0              </td><td>1.0               </td><td>1.0               </td></tr>\n",
       "<tr><td>1      </td><td>1021.0            </td><td>1.0               </td><td>0.5               </td><td>1.0              </td><td>0.0              </td><td>1.0                </td><td>53.0              </td><td>0.7               </td><td>136.0             </td><td>3.0               </td><td>6.0              </td><td>905.0            </td><td>1988.0            </td><td>2631.0            </td><td>17.0             </td><td>3.0               </td><td>7.0              </td><td>1.0                </td><td>1.0              </td><td>0.0               </td><td>2.0               </td></tr>\n",
       "<tr><td>2      </td><td>563.0             </td><td>1.0               </td><td>0.5               </td><td>1.0              </td><td>2.0              </td><td>1.0                </td><td>41.0              </td><td>0.9               </td><td>145.0             </td><td>5.0               </td><td>6.0              </td><td>1263.0           </td><td>1716.0            </td><td>2603.0            </td><td>11.0             </td><td>2.0               </td><td>9.0              </td><td>1.0                </td><td>1.0              </td><td>0.0               </td><td>2.0               </td></tr>\n",
       "<tr><td>3      </td><td>615.0             </td><td>1.0               </td><td>2.5               </td><td>0.0              </td><td>0.0              </td><td>0.0                </td><td>10.0              </td><td>0.8               </td><td>131.0             </td><td>6.0               </td><td>9.0              </td><td>1216.0           </td><td>1786.0            </td><td>2769.0            </td><td>16.0             </td><td>8.0               </td><td>11.0             </td><td>1.0                </td><td>0.0              </td><td>0.0               </td><td>2.0               </td></tr>\n",
       "<tr><td>4      </td><td>1821.0            </td><td>1.0               </td><td>1.2               </td><td>0.0              </td><td>13.0             </td><td>1.0                </td><td>44.0              </td><td>0.6               </td><td>141.0             </td><td>2.0               </td><td>14.0             </td><td>1208.0           </td><td>1212.0            </td><td>1411.0            </td><td>8.0              </td><td>2.0               </td><td>15.0             </td><td>1.0                </td><td>1.0              </td><td>0.0               </td><td>1.0               </td></tr>\n",
       "<tr><td>5      </td><td>1859.0            </td><td>0.0               </td><td>0.5               </td><td>1.0              </td><td>3.0              </td><td>0.0                </td><td>22.0              </td><td>0.7               </td><td>164.0             </td><td>1.0               </td><td>7.0              </td><td>1004.0           </td><td>1654.0            </td><td>1067.0            </td><td>17.0             </td><td>1.0               </td><td>10.0             </td><td>1.0                </td><td>0.0              </td><td>0.0               </td><td>1.0               </td></tr>\n",
       "<tr><td>6      </td><td>1821.0            </td><td>0.0               </td><td>1.7               </td><td>0.0              </td><td>4.0              </td><td>1.0                </td><td>10.0              </td><td>0.8               </td><td>139.0             </td><td>8.0               </td><td>10.0             </td><td>381.0            </td><td>1018.0            </td><td>3220.0            </td><td>13.0             </td><td>8.0               </td><td>18.0             </td><td>1.0                </td><td>0.0              </td><td>1.0               </td><td>3.0               </td></tr>\n",
       "<tr><td>7      </td><td>1954.0            </td><td>0.0               </td><td>0.5               </td><td>1.0              </td><td>0.0              </td><td>0.0                </td><td>24.0              </td><td>0.8               </td><td>187.0             </td><td>4.0               </td><td>0.0              </td><td>512.0            </td><td>1149.0            </td><td>700.0             </td><td>16.0             </td><td>3.0               </td><td>5.0              </td><td>1.0                </td><td>1.0              </td><td>1.0               </td><td>0.0               </td></tr>\n",
       "<tr><td>8      </td><td>1445.0            </td><td>1.0               </td><td>0.5               </td><td>0.0              </td><td>0.0              </td><td>0.0                </td><td>53.0              </td><td>0.7               </td><td>174.0             </td><td>7.0               </td><td>14.0             </td><td>386.0            </td><td>836.0             </td><td>1099.0            </td><td>17.0             </td><td>1.0               </td><td>20.0             </td><td>1.0                </td><td>0.0              </td><td>0.0               </td><td>0.0               </td></tr>\n",
       "<tr><td>9      </td><td>509.0             </td><td>1.0               </td><td>0.6               </td><td>1.0              </td><td>2.0              </td><td>1.0                </td><td>9.0               </td><td>0.1               </td><td>93.0              </td><td>5.0               </td><td>15.0             </td><td>1137.0           </td><td>1224.0            </td><td>513.0             </td><td>19.0             </td><td>10.0              </td><td>12.0             </td><td>1.0                </td><td>0.0              </td><td>0.0               </td><td>0.0               </td></tr>\n",
       "</tbody>\n",
       "</table>"
      ]
     },
     "metadata": {},
     "output_type": "display_data"
    }
   ],
   "source": [
    "df.describe()"
   ]
  },
  {
   "cell_type": "code",
   "execution_count": 30,
   "metadata": {},
   "outputs": [
    {
     "data": {
      "text/plain": [
       "{'battery_power': 'int',\n",
       " 'blue': 'int',\n",
       " 'clock_speed': 'real',\n",
       " 'dual_sim': 'int',\n",
       " 'fc': 'int',\n",
       " 'four_g': 'int',\n",
       " 'int_memory': 'int',\n",
       " 'm_dep': 'real',\n",
       " 'mobile_wt': 'int',\n",
       " 'n_cores': 'int',\n",
       " 'pc': 'int',\n",
       " 'price_range': 'int',\n",
       " 'px_height': 'int',\n",
       " 'px_width': 'int',\n",
       " 'ram': 'int',\n",
       " 'sc_h': 'int',\n",
       " 'sc_w': 'int',\n",
       " 'talk_time': 'int',\n",
       " 'three_g': 'int',\n",
       " 'touch_screen': 'int',\n",
       " 'wifi': 'int'}"
      ]
     },
     "execution_count": 30,
     "metadata": {},
     "output_type": "execute_result"
    }
   ],
   "source": [
    "allV=get_variables_types(df)\n",
    "allV"
   ]
  },
  {
   "cell_type": "code",
   "execution_count": 31,
   "metadata": {},
   "outputs": [],
   "source": [
    "meta_data['variables']=allV"
   ]
  },
  {
   "cell_type": "code",
   "execution_count": 32,
   "metadata": {},
   "outputs": [],
   "source": [
    "# split into training and test for showing how to predict\n",
    "train, test = df.split_frame([0.9])"
   ]
  },
  {
   "cell_type": "code",
   "execution_count": 33,
   "metadata": {},
   "outputs": [],
   "source": [
    "# Set up AutoML\n",
    "\n",
    "aml = H2OAutoML(max_runtime_secs=run_time,project_name = name)"
   ]
  },
  {
   "cell_type": "code",
   "execution_count": 34,
   "metadata": {},
   "outputs": [],
   "source": [
    "model_start_time = time.time()"
   ]
  },
  {
   "cell_type": "code",
   "execution_count": 35,
   "metadata": {},
   "outputs": [
    {
     "name": "stdout",
     "output_type": "stream",
     "text": [
      "AutoML progress: |████████████████████████████████████████████████████████| 100%\n"
     ]
    }
   ],
   "source": [
    "aml.train(x=X,y=y,training_frame=train)"
   ]
  },
  {
   "cell_type": "code",
   "execution_count": 36,
   "metadata": {},
   "outputs": [],
   "source": [
    "meta_data['model_execution_time'] = time.time() - model_start_time"
   ]
  },
  {
   "cell_type": "code",
   "execution_count": 37,
   "metadata": {},
   "outputs": [],
   "source": [
    "# get leaderboard\n",
    "aml_leaderboard_df=aml.leaderboard.as_data_frame()"
   ]
  },
  {
   "cell_type": "code",
   "execution_count": 38,
   "metadata": {},
   "outputs": [
    {
     "data": {
      "text/html": [
       "<div>\n",
       "<style scoped>\n",
       "    .dataframe tbody tr th:only-of-type {\n",
       "        vertical-align: middle;\n",
       "    }\n",
       "\n",
       "    .dataframe tbody tr th {\n",
       "        vertical-align: top;\n",
       "    }\n",
       "\n",
       "    .dataframe thead th {\n",
       "        text-align: right;\n",
       "    }\n",
       "</style>\n",
       "<table border=\"1\" class=\"dataframe\">\n",
       "  <thead>\n",
       "    <tr style=\"text-align: right;\">\n",
       "      <th></th>\n",
       "      <th>model_id</th>\n",
       "      <th>mean_residual_deviance</th>\n",
       "      <th>rmse</th>\n",
       "      <th>mse</th>\n",
       "      <th>mae</th>\n",
       "      <th>rmsle</th>\n",
       "    </tr>\n",
       "  </thead>\n",
       "  <tbody>\n",
       "    <tr>\n",
       "      <th>0</th>\n",
       "      <td>StackedEnsemble_BestOfFamily_0_AutoML_20181015...</td>\n",
       "      <td>0.249978</td>\n",
       "      <td>0.499978</td>\n",
       "      <td>0.249978</td>\n",
       "      <td>0.499895</td>\n",
       "      <td>0.351411</td>\n",
       "    </tr>\n",
       "    <tr>\n",
       "      <th>1</th>\n",
       "      <td>StackedEnsemble_AllModels_0_AutoML_20181015_01...</td>\n",
       "      <td>0.250149</td>\n",
       "      <td>0.500149</td>\n",
       "      <td>0.250149</td>\n",
       "      <td>0.500080</td>\n",
       "      <td>0.351732</td>\n",
       "    </tr>\n",
       "    <tr>\n",
       "      <th>2</th>\n",
       "      <td>GBM_grid_0_AutoML_20181015_014628_model_11</td>\n",
       "      <td>0.250260</td>\n",
       "      <td>0.500260</td>\n",
       "      <td>0.250260</td>\n",
       "      <td>0.500075</td>\n",
       "      <td>0.351696</td>\n",
       "    </tr>\n",
       "    <tr>\n",
       "      <th>3</th>\n",
       "      <td>GBM_grid_0_AutoML_20181015_014628_model_12</td>\n",
       "      <td>0.250403</td>\n",
       "      <td>0.500402</td>\n",
       "      <td>0.250403</td>\n",
       "      <td>0.500295</td>\n",
       "      <td>0.351842</td>\n",
       "    </tr>\n",
       "    <tr>\n",
       "      <th>4</th>\n",
       "      <td>GLM_grid_0_AutoML_20181015_014628_model_0</td>\n",
       "      <td>0.250441</td>\n",
       "      <td>0.500441</td>\n",
       "      <td>0.250441</td>\n",
       "      <td>0.500109</td>\n",
       "      <td>0.351830</td>\n",
       "    </tr>\n",
       "    <tr>\n",
       "      <th>5</th>\n",
       "      <td>GBM_grid_0_AutoML_20181015_014628_model_5</td>\n",
       "      <td>0.251122</td>\n",
       "      <td>0.501121</td>\n",
       "      <td>0.251122</td>\n",
       "      <td>0.500805</td>\n",
       "      <td>0.352321</td>\n",
       "    </tr>\n",
       "    <tr>\n",
       "      <th>6</th>\n",
       "      <td>GBM_grid_0_AutoML_20181015_014628_model_10</td>\n",
       "      <td>0.251356</td>\n",
       "      <td>0.501354</td>\n",
       "      <td>0.251356</td>\n",
       "      <td>0.500473</td>\n",
       "      <td>0.352430</td>\n",
       "    </tr>\n",
       "    <tr>\n",
       "      <th>7</th>\n",
       "      <td>GBM_grid_0_AutoML_20181015_014628_model_9</td>\n",
       "      <td>0.254184</td>\n",
       "      <td>0.504167</td>\n",
       "      <td>0.254184</td>\n",
       "      <td>0.498557</td>\n",
       "      <td>0.354080</td>\n",
       "    </tr>\n",
       "    <tr>\n",
       "      <th>8</th>\n",
       "      <td>GBM_grid_0_AutoML_20181015_014628_model_4</td>\n",
       "      <td>0.256182</td>\n",
       "      <td>0.506144</td>\n",
       "      <td>0.256182</td>\n",
       "      <td>0.500561</td>\n",
       "      <td>0.355494</td>\n",
       "    </tr>\n",
       "    <tr>\n",
       "      <th>9</th>\n",
       "      <td>DeepLearning_0_AutoML_20181015_014628</td>\n",
       "      <td>0.261103</td>\n",
       "      <td>0.510982</td>\n",
       "      <td>0.261103</td>\n",
       "      <td>0.495594</td>\n",
       "      <td>0.357544</td>\n",
       "    </tr>\n",
       "    <tr>\n",
       "      <th>10</th>\n",
       "      <td>GBM_grid_0_AutoML_20181015_014628_model_0</td>\n",
       "      <td>0.265086</td>\n",
       "      <td>0.514865</td>\n",
       "      <td>0.265086</td>\n",
       "      <td>0.498322</td>\n",
       "      <td>0.360736</td>\n",
       "    </tr>\n",
       "    <tr>\n",
       "      <th>11</th>\n",
       "      <td>GBM_grid_0_AutoML_20181015_014628_model_2</td>\n",
       "      <td>0.265364</td>\n",
       "      <td>0.515135</td>\n",
       "      <td>0.265364</td>\n",
       "      <td>0.494390</td>\n",
       "      <td>0.360426</td>\n",
       "    </tr>\n",
       "    <tr>\n",
       "      <th>12</th>\n",
       "      <td>GBM_grid_0_AutoML_20181015_014628_model_3</td>\n",
       "      <td>0.268336</td>\n",
       "      <td>0.518012</td>\n",
       "      <td>0.268336</td>\n",
       "      <td>0.495534</td>\n",
       "      <td>0.362801</td>\n",
       "    </tr>\n",
       "    <tr>\n",
       "      <th>13</th>\n",
       "      <td>GBM_grid_0_AutoML_20181015_014628_model_1</td>\n",
       "      <td>0.268618</td>\n",
       "      <td>0.518284</td>\n",
       "      <td>0.268618</td>\n",
       "      <td>0.500917</td>\n",
       "      <td>0.362684</td>\n",
       "    </tr>\n",
       "    <tr>\n",
       "      <th>14</th>\n",
       "      <td>DeepLearning_grid_0_AutoML_20181015_014628_mod...</td>\n",
       "      <td>0.277030</td>\n",
       "      <td>0.526337</td>\n",
       "      <td>0.277030</td>\n",
       "      <td>0.495685</td>\n",
       "      <td>0.366244</td>\n",
       "    </tr>\n",
       "    <tr>\n",
       "      <th>15</th>\n",
       "      <td>XRT_0_AutoML_20181015_014628</td>\n",
       "      <td>0.278877</td>\n",
       "      <td>0.528088</td>\n",
       "      <td>0.278877</td>\n",
       "      <td>0.503516</td>\n",
       "      <td>0.369250</td>\n",
       "    </tr>\n",
       "    <tr>\n",
       "      <th>16</th>\n",
       "      <td>DRF_0_AutoML_20181015_014628</td>\n",
       "      <td>0.280055</td>\n",
       "      <td>0.529203</td>\n",
       "      <td>0.280055</td>\n",
       "      <td>0.504516</td>\n",
       "      <td>0.369254</td>\n",
       "    </tr>\n",
       "    <tr>\n",
       "      <th>17</th>\n",
       "      <td>DeepLearning_grid_0_AutoML_20181015_014628_mod...</td>\n",
       "      <td>0.342723</td>\n",
       "      <td>0.585425</td>\n",
       "      <td>0.342723</td>\n",
       "      <td>0.517045</td>\n",
       "      <td>0.409811</td>\n",
       "    </tr>\n",
       "    <tr>\n",
       "      <th>18</th>\n",
       "      <td>DeepLearning_grid_0_AutoML_20181015_014628_mod...</td>\n",
       "      <td>0.375053</td>\n",
       "      <td>0.612416</td>\n",
       "      <td>0.375053</td>\n",
       "      <td>0.533005</td>\n",
       "      <td>0.430784</td>\n",
       "    </tr>\n",
       "    <tr>\n",
       "      <th>19</th>\n",
       "      <td>GBM_grid_0_AutoML_20181015_014628_model_6</td>\n",
       "      <td>0.436602</td>\n",
       "      <td>0.660758</td>\n",
       "      <td>0.436602</td>\n",
       "      <td>0.549793</td>\n",
       "      <td>NaN</td>\n",
       "    </tr>\n",
       "    <tr>\n",
       "      <th>20</th>\n",
       "      <td>GBM_grid_0_AutoML_20181015_014628_model_7</td>\n",
       "      <td>0.536725</td>\n",
       "      <td>0.732615</td>\n",
       "      <td>0.536725</td>\n",
       "      <td>0.599772</td>\n",
       "      <td>NaN</td>\n",
       "    </tr>\n",
       "    <tr>\n",
       "      <th>21</th>\n",
       "      <td>GBM_grid_0_AutoML_20181015_014628_model_8</td>\n",
       "      <td>0.737361</td>\n",
       "      <td>0.858697</td>\n",
       "      <td>0.737361</td>\n",
       "      <td>0.688456</td>\n",
       "      <td>NaN</td>\n",
       "    </tr>\n",
       "  </tbody>\n",
       "</table>\n",
       "</div>"
      ],
      "text/plain": [
       "                                             model_id  mean_residual_deviance  \\\n",
       "0   StackedEnsemble_BestOfFamily_0_AutoML_20181015...                0.249978   \n",
       "1   StackedEnsemble_AllModels_0_AutoML_20181015_01...                0.250149   \n",
       "2          GBM_grid_0_AutoML_20181015_014628_model_11                0.250260   \n",
       "3          GBM_grid_0_AutoML_20181015_014628_model_12                0.250403   \n",
       "4           GLM_grid_0_AutoML_20181015_014628_model_0                0.250441   \n",
       "5           GBM_grid_0_AutoML_20181015_014628_model_5                0.251122   \n",
       "6          GBM_grid_0_AutoML_20181015_014628_model_10                0.251356   \n",
       "7           GBM_grid_0_AutoML_20181015_014628_model_9                0.254184   \n",
       "8           GBM_grid_0_AutoML_20181015_014628_model_4                0.256182   \n",
       "9               DeepLearning_0_AutoML_20181015_014628                0.261103   \n",
       "10          GBM_grid_0_AutoML_20181015_014628_model_0                0.265086   \n",
       "11          GBM_grid_0_AutoML_20181015_014628_model_2                0.265364   \n",
       "12          GBM_grid_0_AutoML_20181015_014628_model_3                0.268336   \n",
       "13          GBM_grid_0_AutoML_20181015_014628_model_1                0.268618   \n",
       "14  DeepLearning_grid_0_AutoML_20181015_014628_mod...                0.277030   \n",
       "15                       XRT_0_AutoML_20181015_014628                0.278877   \n",
       "16                       DRF_0_AutoML_20181015_014628                0.280055   \n",
       "17  DeepLearning_grid_0_AutoML_20181015_014628_mod...                0.342723   \n",
       "18  DeepLearning_grid_0_AutoML_20181015_014628_mod...                0.375053   \n",
       "19          GBM_grid_0_AutoML_20181015_014628_model_6                0.436602   \n",
       "20          GBM_grid_0_AutoML_20181015_014628_model_7                0.536725   \n",
       "21          GBM_grid_0_AutoML_20181015_014628_model_8                0.737361   \n",
       "\n",
       "        rmse       mse       mae     rmsle  \n",
       "0   0.499978  0.249978  0.499895  0.351411  \n",
       "1   0.500149  0.250149  0.500080  0.351732  \n",
       "2   0.500260  0.250260  0.500075  0.351696  \n",
       "3   0.500402  0.250403  0.500295  0.351842  \n",
       "4   0.500441  0.250441  0.500109  0.351830  \n",
       "5   0.501121  0.251122  0.500805  0.352321  \n",
       "6   0.501354  0.251356  0.500473  0.352430  \n",
       "7   0.504167  0.254184  0.498557  0.354080  \n",
       "8   0.506144  0.256182  0.500561  0.355494  \n",
       "9   0.510982  0.261103  0.495594  0.357544  \n",
       "10  0.514865  0.265086  0.498322  0.360736  \n",
       "11  0.515135  0.265364  0.494390  0.360426  \n",
       "12  0.518012  0.268336  0.495534  0.362801  \n",
       "13  0.518284  0.268618  0.500917  0.362684  \n",
       "14  0.526337  0.277030  0.495685  0.366244  \n",
       "15  0.528088  0.278877  0.503516  0.369250  \n",
       "16  0.529203  0.280055  0.504516  0.369254  \n",
       "17  0.585425  0.342723  0.517045  0.409811  \n",
       "18  0.612416  0.375053  0.533005  0.430784  \n",
       "19  0.660758  0.436602  0.549793       NaN  \n",
       "20  0.732615  0.536725  0.599772       NaN  \n",
       "21  0.858697  0.737361  0.688456       NaN  "
      ]
     },
     "execution_count": 38,
     "metadata": {},
     "output_type": "execute_result"
    }
   ],
   "source": [
    "aml_leaderboard_df"
   ]
  },
  {
   "cell_type": "code",
   "execution_count": 39,
   "metadata": {},
   "outputs": [],
   "source": [
    "# Start best model as first model\n",
    "\n",
    "model_set=aml_leaderboard_df['model_id']\n",
    "mod_best=h2o.get_model(model_set[0])"
   ]
  },
  {
   "cell_type": "code",
   "execution_count": 40,
   "metadata": {},
   "outputs": [
    {
     "data": {
      "text/plain": [
       "'StackedEnsemble_BestOfFamily_0_AutoML_20181015_014628'"
      ]
     },
     "execution_count": 40,
     "metadata": {},
     "output_type": "execute_result"
    }
   ],
   "source": [
    "mod_best._id"
   ]
  },
  {
   "cell_type": "code",
   "execution_count": 41,
   "metadata": {},
   "outputs": [],
   "source": [
    "# Get stacked ensemble  \n",
    "se=get_stacked_ensemble(model_set)"
   ]
  },
  {
   "cell_type": "code",
   "execution_count": 42,
   "metadata": {},
   "outputs": [
    {
     "name": "stdout",
     "output_type": "stream",
     "text": [
      "StackedEnsemble_BestOfFamily_0_AutoML_20181015_014628\n"
     ]
    }
   ],
   "source": [
    "print(se)"
   ]
  },
  {
   "cell_type": "code",
   "execution_count": 45,
   "metadata": {},
   "outputs": [],
   "source": [
    "if se is not None:\n",
    "    mod_best=h2o.get_model(se)"
   ]
  },
  {
   "cell_type": "markdown",
   "metadata": {},
   "source": [
    "dir(mod_best)"
   ]
  },
  {
   "cell_type": "markdown",
   "metadata": {},
   "source": [
    "confusion_matrix(metrics=None, thresholds=None)[source]\n",
    "Get the confusion matrix for the specified metric\n",
    "\n",
    "Parameters:\t\n",
    "metrics – A string (or list of strings) in {“min_per_class_accuracy”, “absolute_mcc”, “tnr”, “fnr”, “fpr”, “tpr”, “precision”, “accuracy”, “f0point5”, “f2”, “f1”,”mean_per_class_accuracy”}\n",
    "thresholds – A value (or list of values) between 0 and 1\n",
    "\n",
    "http://docs.h2o.ai/h2o/latest-stable/h2o-py/docs/metrics.html"
   ]
  },
  {
   "cell_type": "code",
   "execution_count": 46,
   "metadata": {},
   "outputs": [
    {
     "ename": "AttributeError",
     "evalue": "type object 'H2OStackedEnsembleEstimator' has no attribute 'confusion_matrix'",
     "output_type": "error",
     "traceback": [
      "\u001b[1;31m---------------------------------------------------------------------------\u001b[0m",
      "\u001b[1;31mAttributeError\u001b[0m                            Traceback (most recent call last)",
      "\u001b[1;32m<ipython-input-46-d5e58fb695aa>\u001b[0m in \u001b[0;36m<module>\u001b[1;34m()\u001b[0m\n\u001b[1;32m----> 1\u001b[1;33m \u001b[0mmod_best\u001b[0m\u001b[1;33m.\u001b[0m\u001b[0mconfusion_matrix\u001b[0m\u001b[1;33m(\u001b[0m\u001b[1;33m)\u001b[0m\u001b[1;33m\u001b[0m\u001b[0m\n\u001b[0m",
      "\u001b[1;32m~\\Anaconda3\\lib\\site-packages\\h2o\\utils\\backward_compatibility.py\u001b[0m in \u001b[0;36m__getattr__\u001b[1;34m(self, item)\u001b[0m\n\u001b[0;32m     72\u001b[0m             \u001b[1;32mreturn\u001b[0m \u001b[0mself\u001b[0m\u001b[1;33m.\u001b[0m\u001b[0m_bcin\u001b[0m\u001b[1;33m[\u001b[0m\u001b[0mitem\u001b[0m\u001b[1;33m]\u001b[0m\u001b[1;33m\u001b[0m\u001b[0m\n\u001b[0;32m     73\u001b[0m         \u001b[1;31m# Make sure that we look up any names not found on the instance also in the class\u001b[0m\u001b[1;33m\u001b[0m\u001b[1;33m\u001b[0m\u001b[0m\n\u001b[1;32m---> 74\u001b[1;33m         \u001b[1;32mreturn\u001b[0m \u001b[0mgetattr\u001b[0m\u001b[1;33m(\u001b[0m\u001b[0mself\u001b[0m\u001b[1;33m.\u001b[0m\u001b[0m__class__\u001b[0m\u001b[1;33m,\u001b[0m \u001b[0mitem\u001b[0m\u001b[1;33m)\u001b[0m\u001b[1;33m\u001b[0m\u001b[0m\n\u001b[0m\u001b[0;32m     75\u001b[0m \u001b[1;33m\u001b[0m\u001b[0m\n\u001b[0;32m     76\u001b[0m \u001b[1;33m\u001b[0m\u001b[0m\n",
      "\u001b[1;32m~\\Anaconda3\\lib\\site-packages\\h2o\\utils\\backward_compatibility.py\u001b[0m in \u001b[0;36m__getattribute__\u001b[1;34m(cls, name)\u001b[0m\n\u001b[0;32m     47\u001b[0m                 \u001b[1;31m# print(\"Warning: Method %s in class %s is deprecated.\" % (name, cls.__name__))\u001b[0m\u001b[1;33m\u001b[0m\u001b[1;33m\u001b[0m\u001b[0m\n\u001b[0;32m     48\u001b[0m                 \u001b[1;32mreturn\u001b[0m \u001b[0mbc\u001b[0m\u001b[1;33m[\u001b[0m\u001b[1;34m\"sm\"\u001b[0m\u001b[1;33m]\u001b[0m\u001b[1;33m[\u001b[0m\u001b[0mname\u001b[0m\u001b[1;33m]\u001b[0m\u001b[1;33m\u001b[0m\u001b[0m\n\u001b[1;32m---> 49\u001b[1;33m         \u001b[1;32mreturn\u001b[0m \u001b[0mtype\u001b[0m\u001b[1;33m.\u001b[0m\u001b[0m__getattribute__\u001b[0m\u001b[1;33m(\u001b[0m\u001b[0mcls\u001b[0m\u001b[1;33m,\u001b[0m \u001b[0mname\u001b[0m\u001b[1;33m)\u001b[0m\u001b[1;33m\u001b[0m\u001b[0m\n\u001b[0m\u001b[0;32m     50\u001b[0m \u001b[1;33m\u001b[0m\u001b[0m\n\u001b[0;32m     51\u001b[0m     \u001b[1;32mdef\u001b[0m \u001b[0m__setattr__\u001b[0m\u001b[1;33m(\u001b[0m\u001b[0mcls\u001b[0m\u001b[1;33m,\u001b[0m \u001b[0mname\u001b[0m\u001b[1;33m,\u001b[0m \u001b[0mvalue\u001b[0m\u001b[1;33m)\u001b[0m\u001b[1;33m:\u001b[0m\u001b[1;33m\u001b[0m\u001b[0m\n",
      "\u001b[1;31mAttributeError\u001b[0m: type object 'H2OStackedEnsembleEstimator' has no attribute 'confusion_matrix'"
     ]
    }
   ],
   "source": [
    "mod_best.confusion_matrix()"
   ]
  },
  {
   "cell_type": "code",
   "execution_count": 51,
   "metadata": {},
   "outputs": [
    {
     "ename": "AttributeError",
     "evalue": "type object 'H2OStackedEnsembleEstimator' has no attribute 'confusion_matrix'",
     "output_type": "error",
     "traceback": [
      "\u001b[1;31m---------------------------------------------------------------------------\u001b[0m",
      "\u001b[1;31mAttributeError\u001b[0m                            Traceback (most recent call last)",
      "\u001b[1;32m<ipython-input-51-10e68d863cb3>\u001b[0m in \u001b[0;36m<module>\u001b[1;34m()\u001b[0m\n\u001b[1;32m----> 1\u001b[1;33m \u001b[0mmod_best\u001b[0m\u001b[1;33m.\u001b[0m\u001b[0mconfusion_matrix\u001b[0m\u001b[1;33m(\u001b[0m\u001b[0mmetrics\u001b[0m\u001b[1;33m=\u001b[0m\u001b[1;33m[\u001b[0m\u001b[1;34m\"f1\"\u001b[0m\u001b[1;33m,\u001b[0m\u001b[1;34m\"f2\"\u001b[0m\u001b[1;33m,\u001b[0m\u001b[1;34m\"f0point5\"\u001b[0m\u001b[1;33m,\u001b[0m\u001b[1;34m\"accuracy\"\u001b[0m\u001b[1;33m,\u001b[0m\u001b[1;34m\"precision\"\u001b[0m\u001b[1;33m,\u001b[0m\u001b[1;34m\"recall\"\u001b[0m\u001b[1;33m,\u001b[0m\u001b[1;34m\"specificity\"\u001b[0m\u001b[1;33m,\u001b[0m\u001b[1;34m\"absolute_mcc\"\u001b[0m\u001b[1;33m,\u001b[0m\u001b[1;34m\"min_per_class_accuracy\"\u001b[0m\u001b[1;33m,\u001b[0m\u001b[1;34m\"mean_per_class_accuracy\"\u001b[0m\u001b[1;33m]\u001b[0m\u001b[1;33m)\u001b[0m\u001b[1;33m\u001b[0m\u001b[0m\n\u001b[0m",
      "\u001b[1;32m~\\Anaconda3\\lib\\site-packages\\h2o\\utils\\backward_compatibility.py\u001b[0m in \u001b[0;36m__getattr__\u001b[1;34m(self, item)\u001b[0m\n\u001b[0;32m     72\u001b[0m             \u001b[1;32mreturn\u001b[0m \u001b[0mself\u001b[0m\u001b[1;33m.\u001b[0m\u001b[0m_bcin\u001b[0m\u001b[1;33m[\u001b[0m\u001b[0mitem\u001b[0m\u001b[1;33m]\u001b[0m\u001b[1;33m\u001b[0m\u001b[0m\n\u001b[0;32m     73\u001b[0m         \u001b[1;31m# Make sure that we look up any names not found on the instance also in the class\u001b[0m\u001b[1;33m\u001b[0m\u001b[1;33m\u001b[0m\u001b[0m\n\u001b[1;32m---> 74\u001b[1;33m         \u001b[1;32mreturn\u001b[0m \u001b[0mgetattr\u001b[0m\u001b[1;33m(\u001b[0m\u001b[0mself\u001b[0m\u001b[1;33m.\u001b[0m\u001b[0m__class__\u001b[0m\u001b[1;33m,\u001b[0m \u001b[0mitem\u001b[0m\u001b[1;33m)\u001b[0m\u001b[1;33m\u001b[0m\u001b[0m\n\u001b[0m\u001b[0;32m     75\u001b[0m \u001b[1;33m\u001b[0m\u001b[0m\n\u001b[0;32m     76\u001b[0m \u001b[1;33m\u001b[0m\u001b[0m\n",
      "\u001b[1;32m~\\Anaconda3\\lib\\site-packages\\h2o\\utils\\backward_compatibility.py\u001b[0m in \u001b[0;36m__getattribute__\u001b[1;34m(cls, name)\u001b[0m\n\u001b[0;32m     47\u001b[0m                 \u001b[1;31m# print(\"Warning: Method %s in class %s is deprecated.\" % (name, cls.__name__))\u001b[0m\u001b[1;33m\u001b[0m\u001b[1;33m\u001b[0m\u001b[0m\n\u001b[0;32m     48\u001b[0m                 \u001b[1;32mreturn\u001b[0m \u001b[0mbc\u001b[0m\u001b[1;33m[\u001b[0m\u001b[1;34m\"sm\"\u001b[0m\u001b[1;33m]\u001b[0m\u001b[1;33m[\u001b[0m\u001b[0mname\u001b[0m\u001b[1;33m]\u001b[0m\u001b[1;33m\u001b[0m\u001b[0m\n\u001b[1;32m---> 49\u001b[1;33m         \u001b[1;32mreturn\u001b[0m \u001b[0mtype\u001b[0m\u001b[1;33m.\u001b[0m\u001b[0m__getattribute__\u001b[0m\u001b[1;33m(\u001b[0m\u001b[0mcls\u001b[0m\u001b[1;33m,\u001b[0m \u001b[0mname\u001b[0m\u001b[1;33m)\u001b[0m\u001b[1;33m\u001b[0m\u001b[0m\n\u001b[0m\u001b[0;32m     50\u001b[0m \u001b[1;33m\u001b[0m\u001b[0m\n\u001b[0;32m     51\u001b[0m     \u001b[1;32mdef\u001b[0m \u001b[0m__setattr__\u001b[0m\u001b[1;33m(\u001b[0m\u001b[0mcls\u001b[0m\u001b[1;33m,\u001b[0m \u001b[0mname\u001b[0m\u001b[1;33m,\u001b[0m \u001b[0mvalue\u001b[0m\u001b[1;33m)\u001b[0m\u001b[1;33m:\u001b[0m\u001b[1;33m\u001b[0m\u001b[0m\n",
      "\u001b[1;31mAttributeError\u001b[0m: type object 'H2OStackedEnsembleEstimator' has no attribute 'confusion_matrix'"
     ]
    }
   ],
   "source": [
    "mod_best.confusion_matrix(metrics=[\"f1\",\"f2\",\"f0point5\",\"accuracy\",\"precision\",\"recall\",\"specificity\",\"absolute_mcc\",\"min_per_class_accuracy\",\"mean_per_class_accuracy\"])"
   ]
  },
  {
   "cell_type": "code",
   "execution_count": null,
   "metadata": {},
   "outputs": [],
   "source": [
    "mod_best._id"
   ]
  },
  {
   "cell_type": "code",
   "execution_count": null,
   "metadata": {},
   "outputs": [],
   "source": [
    "mod_best._get_metrics"
   ]
  },
  {
   "cell_type": "code",
   "execution_count": null,
   "metadata": {},
   "outputs": [],
   "source": [
    "type(mod_best)"
   ]
  },
  {
   "cell_type": "code",
   "execution_count": null,
   "metadata": {},
   "outputs": [],
   "source": [
    "mods=mod_best.coef_norm\n",
    "print(mods)"
   ]
  },
  {
   "cell_type": "code",
   "execution_count": null,
   "metadata": {},
   "outputs": [],
   "source": [
    "bm=stackedensemble_df(aml_leaderboard_df)"
   ]
  },
  {
   "cell_type": "code",
   "execution_count": null,
   "metadata": {},
   "outputs": [],
   "source": [
    "bm"
   ]
  },
  {
   "cell_type": "code",
   "execution_count": null,
   "metadata": {},
   "outputs": [],
   "source": [
    "aml_leaderboard_df"
   ]
  },
  {
   "cell_type": "code",
   "execution_count": null,
   "metadata": {},
   "outputs": [],
   "source": [
    "#  Get best_models and coef_norm()\n",
    "best_models={}\n",
    "best_models=stackedensemble(mod_best)\n",
    "bm=[]\n",
    "if best_models is not None: \n",
    "  if 'Intercept' in best_models.keys():\n",
    "    del best_models['Intercept']\n",
    "  bm=list(best_models.keys())\n",
    "else:\n",
    "  best_models={}\n",
    "  bm=stackedensemble_df(aml_leaderboard_df)   \n",
    "  for b in bm:   \n",
    "    best_models[b]=None\n",
    "\n",
    "if mod_best.model_id not in bm:\n",
    "    bm.append(mod_best.model_id)"
   ]
  },
  {
   "cell_type": "code",
   "execution_count": null,
   "metadata": {},
   "outputs": [],
   "source": [
    "bm"
   ]
  },
  {
   "cell_type": "code",
   "execution_count": null,
   "metadata": {},
   "outputs": [],
   "source": [
    "# Best of Family leaderboard\n",
    "\n",
    "aml_leaderboard_df=aml_leaderboard_df.loc[aml_leaderboard_df['model_id'].isin(bm)]\n"
   ]
  },
  {
   "cell_type": "code",
   "execution_count": null,
   "metadata": {},
   "outputs": [],
   "source": [
    "aml_leaderboard_df"
   ]
  },
  {
   "cell_type": "code",
   "execution_count": null,
   "metadata": {},
   "outputs": [],
   "source": [
    "# save leaderboard\n",
    "leaderboard_stats=run_id+'_leaderboard.csv'\n",
    "aml_leaderboard_df.to_csv(leaderboard_stats)"
   ]
  },
  {
   "cell_type": "code",
   "execution_count": null,
   "metadata": {},
   "outputs": [],
   "source": [
    "top=aml_leaderboard_df.iloc[0]['model_id']\n",
    "print(top)"
   ]
  },
  {
   "cell_type": "code",
   "execution_count": null,
   "metadata": {},
   "outputs": [],
   "source": [
    "mod_best=h2o.get_model(top)\n",
    "print(mod_best._id)\n",
    "print(mod_best.algo)"
   ]
  },
  {
   "cell_type": "code",
   "execution_count": null,
   "metadata": {},
   "outputs": [],
   "source": [
    "meta_data['mod_best']=mod_best._id\n",
    "meta_data['mod_best_algo']=mod_best.algo"
   ]
  },
  {
   "cell_type": "code",
   "execution_count": null,
   "metadata": {},
   "outputs": [],
   "source": [
    "meta_data['models']=bm"
   ]
  },
  {
   "cell_type": "code",
   "execution_count": null,
   "metadata": {},
   "outputs": [],
   "source": [
    "models_path=os.path.join(run_dir,'models')\n",
    "for mod in bm:\n",
    "  try:   \n",
    "    m=h2o.get_model(mod) \n",
    "    h2o.save_model(m, path = models_path)\n",
    "  except:    \n",
    "    pass    "
   ]
  },
  {
   "cell_type": "code",
   "execution_count": null,
   "metadata": {},
   "outputs": [],
   "source": [
    "print(models_path)"
   ]
  },
  {
   "cell_type": "code",
   "execution_count": null,
   "metadata": {},
   "outputs": [],
   "source": [
    "# GBM\n",
    " \n",
    "mod,mod_id=get_model_by_algo(\"GBM\",best_models)\n",
    "if mod is not None:\n",
    "    try:     \n",
    "        sh_df=mod.scoring_history()\n",
    "        sh_df.to_csv(run_id+'_gbm_scoring_history.csv') \n",
    "    except:\n",
    "        pass   \n",
    "    try:     \n",
    "        stats_gbm={}\n",
    "        stats_gbm=gbm_stats(mod)\n",
    "        n=run_id+'_gbm_stats.json'\n",
    "        dict_to_json(stats_gbm,n)\n",
    "        print(stats_gbm)\n",
    "    except:\n",
    "        pass        "
   ]
  },
  {
   "cell_type": "code",
   "execution_count": null,
   "metadata": {},
   "outputs": [],
   "source": [
    "# DeepLearning\n",
    "\n",
    "mod,mod_id=get_model_by_algo(\"Dee\",best_models)\n"
   ]
  },
  {
   "cell_type": "code",
   "execution_count": null,
   "metadata": {},
   "outputs": [],
   "source": [
    "if mod is not None:\n",
    "    try:    \n",
    "        sh_df=mod.scoring_history()\n",
    "        sh_df.to_csv(run_id+'_dl_scoring_history.csv') \n",
    "    except:\n",
    "        pass \n",
    "    try:\n",
    "        stats_dl={}\n",
    "        stats_dl=dl_stats(mod)\n",
    "        n=run_id+'_dl_stats.json'\n",
    "        dict_to_json(stats_dl,n)\n",
    "        print(stats_dl)\n",
    "    except:\n",
    "        pass    \n",
    "    try:\n",
    "        cf=mod.confusion_matrix()    \n",
    "        cf_df.to_csv(run_id+'_dl_confusion_matrix.csv')\n",
    "    except:\n",
    "        pass       "
   ]
  },
  {
   "cell_type": "code",
   "execution_count": null,
   "metadata": {},
   "outputs": [],
   "source": [
    "# DRF\n",
    "\n",
    "mod,mod_id=get_model_by_algo(\"DRF\",best_models)\n",
    "if mod is not None:\n",
    "    try:     \n",
    "         sh_df=mod.scoring_history()\n",
    "         sh_df.to_csv(run_id+'_drf_scoring_history.csv') \n",
    "    except:\n",
    "         pass  \n",
    "    try: \n",
    "         stats_drf={}\n",
    "         stats_drf=drf_stats(mod)\n",
    "         n=run_id+'_drf_stats.json'\n",
    "         dict_to_json(stats_drf,n)\n",
    "         print(stats_drf)\n",
    "    except:\n",
    "         pass     "
   ]
  },
  {
   "cell_type": "code",
   "execution_count": null,
   "metadata": {},
   "outputs": [],
   "source": [
    "# XRT\n",
    "\n",
    "mod,mod_id=get_model_by_algo(\"XRT\",best_models)\n",
    "if mod is not None:\n",
    "    try:     \n",
    "         sh_df=mod.scoring_history()\n",
    "         sh_df.to_csv(run_id+'_xrt_scoring_history.csv')\n",
    "    except:\n",
    "         pass     \n",
    "    try:        \n",
    "         stats_xrt={}\n",
    "         stats_xrt=xrt_stats(mod)\n",
    "         n=run_id+'_xrt_stats.json'\n",
    "         dict_to_json(stats_xrt,n)\n",
    "         print(stats_xrt)\n",
    "    except:\n",
    "         pass     "
   ]
  },
  {
   "cell_type": "code",
   "execution_count": null,
   "metadata": {},
   "outputs": [],
   "source": [
    "# GLM\n",
    "\n",
    "mod,mod_id=get_model_by_algo(\"GLM\",best_models)\n",
    "if mod is not None:\n",
    "    try:     \n",
    "         stats_glm={}\n",
    "         stats_glm=glm_stats(mod)\n",
    "         n=run_id+'_glm_stats.json'\n",
    "         dict_to_json(stats_glm,n)\n",
    "         print(stats_glm)\n",
    "    except:\n",
    "         pass     "
   ]
  },
  {
   "cell_type": "code",
   "execution_count": null,
   "metadata": {},
   "outputs": [],
   "source": [
    "predictions_df=predictions_test(mod_best,test,run_id)"
   ]
  },
  {
   "cell_type": "code",
   "execution_count": null,
   "metadata": {},
   "outputs": [],
   "source": [
    "predictions_df.head()"
   ]
  },
  {
   "cell_type": "code",
   "execution_count": null,
   "metadata": {},
   "outputs": [],
   "source": [
    "predictions_df.describe()"
   ]
  },
  {
   "cell_type": "code",
   "execution_count": null,
   "metadata": {},
   "outputs": [],
   "source": [
    "# Update and save meta data\n",
    "\n",
    "meta_data['end_time'] = time.time()\n",
    "meta_data['execution_time'] = meta_data['end_time'] - meta_data['start_time']\n",
    "  \n",
    "n=run_id+'_meta_data.json'\n",
    "dict_to_json(meta_data,n)    \n"
   ]
  },
  {
   "cell_type": "code",
   "execution_count": null,
   "metadata": {
    "scrolled": true
   },
   "outputs": [],
   "source": [
    "meta_data"
   ]
  },
  {
   "cell_type": "code",
   "execution_count": null,
   "metadata": {},
   "outputs": [],
   "source": [
    "# Clean up\n",
    "os.chdir(server_path)"
   ]
  },
  {
   "cell_type": "code",
   "execution_count": null,
   "metadata": {
    "scrolled": true
   },
   "outputs": [],
   "source": [
    "h2o.cluster().shutdown()"
   ]
  },
  {
   "cell_type": "markdown",
   "metadata": {},
   "source": [
    "**When availble for your models you will need to make the following plots: **"
   ]
  },
  {
   "cell_type": "markdown",
   "metadata": {},
   "source": [
    "## Variable Importance Plots\n",
    "\n",
    "The Variable Importance Plot graphs the VIP values for each X variable. \n",
    "\n",
    "https://www.researchgate.net/figure/Random-forest-variable-importance-plot-Variables-are-ranked-in-terms-of-importance-on_fig2_295097543\n",
    "\n"
   ]
  },
  {
   "cell_type": "markdown",
   "metadata": {},
   "source": [
    "## Partial Dependence Plots\n",
    "\n",
    "For models that include only numerical values, you can view a Partial Dependence Plot (PDP) for that model. This provides a graphical representation of the marginal effect of a variable on the class probability (classification) or response (regression).\n",
    "\n",
    "https://www.kaggle.com/dansbecker/partial-dependence-plots\n",
    "\n"
   ]
  },
  {
   "cell_type": "markdown",
   "metadata": {},
   "source": [
    "## Gains/Lift Charts\n",
    "\n",
    "[Score: Gains/Lift Table](http://h2o-release.s3.amazonaws.com/h2o/master/1648/docs-website/userguide/scoregainslift.html)  \n",
    "\n",
    "The Gains/Lift Table page uses predicted data to evaluate model performance. The accuracy of the classification model for a random sample is evaluated according to the results when the model is and is not used.\n",
    "\n",
    "The Gains/Lift Table is particularly useful for direct marketing applications, for example. The gains/lift chart shows the effectiveness of the current model(s) compared to a baseline, allowing users to quickly identify the most useful model.\n",
    "\n",
    "To create a Gains/Lift table, H2O applies the model to each entry in the original dataset to find the response probability (Pi^), then orders the entries according to their predicted response probabilities. Finally, H2O divides the dataset into equal groups and calculates the average response rate for each group.\n",
    "\n",
    "H2O uses the response rate of the top ten groups to evaluate the model performance; the highest response and greatest variation rates indicate the best model.\n",
    "\n",
    "The lift is calculated from the gains. H2O uses the following formula to calculate the lift: λk=rkr⎯⎯⎯\n",
    "\n",
    "where λk is the lift for k, rk is the response rate for k, and r⎯⎯⎯ is the average response rate for k. In other words, λk defines how much more likely k customers are to respond in comparison to the average response rate.\n",
    "\n",
    "Requirements:\n",
    "\n",
    "The vactual column must contain actual binary class labels.\n",
    "The vpredict column must contain probabilities.\n",
    "\n",
    "Evaluating Classifiers: Gains and Lift Charts https://youtu.be/1dYOcDaDJLY \n",
    "\n",
    "Understanding And Interpreting Gain And Lift Charts\n",
    "\n",
    "   https://www.datasciencecentral.com/profiles/blogs/understanding-and-interpreting-gain-and-lift-charts\n",
    "   \n",
    "   "
   ]
  },
  {
   "cell_type": "markdown",
   "metadata": {},
   "source": [
    "**Binomial Classification Metrics**\n",
    "\n",
    "When you train a binomial model, there are some additional metrics we get, the most commonly used of which is AUC, which normally ranges from 0.5 to 1.0, higher being better. AUC stands for Area Under Curve. \n",
    "\n",
    "See\n",
    "\n",
    "* ROC Curves and Area Under the Curve (AUC) Explained https://youtu.be/OAl6eAyP-yo   \n",
    "\n",
    "\n",
    "* ROC Curves https://youtu.be/21Igj5Pr6u4  \n",
    "\n"
   ]
  },
  {
   "cell_type": "markdown",
   "metadata": {},
   "source": [
    "## Confusion Matrix\n",
    "\n",
    "A confusion matrix, also known as an error matrix, is a specific table layout that allows visualization of the performance of an algorithm, typically a supervised learning one (in unsupervised learning it is usually called a matching matrix). Each row of the matrix represents the instances in a predicted class while each column represents the instances in an actual class.\n",
    "\n",
    "https://en.wikipedia.org/wiki/Confusion_matrix\n"
   ]
  },
  {
   "cell_type": "markdown",
   "metadata": {},
   "source": [
    "## Max F1 and Max F2\n",
    "\n",
    "By default H2O AI uses max F1 for binary classification in the confusion matrix.  For \n",
    "\n",
    "See https://en.wikipedia.org/wiki/F1_score\n",
    "    \n",
    "For binary classification also generate the max F2 confusion matrix.  \n",
    "\n"
   ]
  }
 ],
 "metadata": {
  "kernelspec": {
   "display_name": "Python 3",
   "language": "python",
   "name": "python3"
  },
  "language_info": {
   "codemirror_mode": {
    "name": "ipython",
    "version": 3
   },
   "file_extension": ".py",
   "mimetype": "text/x-python",
   "name": "python",
   "nbconvert_exporter": "python",
   "pygments_lexer": "ipython3",
   "version": "3.6.4"
  }
 },
 "nbformat": 4,
 "nbformat_minor": 2
}
