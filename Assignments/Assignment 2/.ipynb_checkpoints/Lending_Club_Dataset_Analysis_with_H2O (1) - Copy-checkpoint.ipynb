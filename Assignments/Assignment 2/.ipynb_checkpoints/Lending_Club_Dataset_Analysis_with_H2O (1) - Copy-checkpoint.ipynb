{
 "cells": [
  {
   "cell_type": "markdown",
   "metadata": {},
   "source": [
    "# Predicting Interest rate using Lending Club dataset"
   ]
  },
  {
   "cell_type": "markdown",
   "metadata": {},
   "source": [
    "# H2O-\n",
    "H2O is an open source, in-memory, distributed, fast, and scalable machine learning and \n",
    "predictive analytics platform that allows you to build machine learning models on big data \n",
    "and provides easy productionalization of those models in an enterprise environment."
   ]
  },
  {
   "cell_type": "code",
   "execution_count": 1,
   "metadata": {},
   "outputs": [
    {
     "ename": "NameError",
     "evalue": "name 'h2o' is not defined",
     "output_type": "error",
     "traceback": [
      "\u001b[1;31m---------------------------------------------------------------------------\u001b[0m",
      "\u001b[1;31mNameError\u001b[0m                                 Traceback (most recent call last)",
      "\u001b[1;32m<ipython-input-1-d4e46abf975a>\u001b[0m in \u001b[0;36m<module>\u001b[1;34m()\u001b[0m\n\u001b[1;32m----> 1\u001b[1;33m \u001b[0mh2o\u001b[0m\u001b[1;33m.\u001b[0m\u001b[0minit\u001b[0m\u001b[1;33m(\u001b[0m\u001b[0mnthreads\u001b[0m \u001b[1;33m=\u001b[0m \u001b[1;33m-\u001b[0m\u001b[1;36m1\u001b[0m\u001b[1;33m,\u001b[0m \u001b[0mmax_mem_size\u001b[0m \u001b[1;33m=\u001b[0m \u001b[1;36m8\u001b[0m\u001b[1;33m)\u001b[0m\u001b[1;33m\u001b[0m\u001b[0m\n\u001b[0m",
      "\u001b[1;31mNameError\u001b[0m: name 'h2o' is not defined"
     ]
    }
   ],
   "source": [
    "h2o.init(nthreads = -1, max_mem_size = 8)"
   ]
  },
  {
   "cell_type": "code",
   "execution_count": 68,
   "metadata": {},
   "outputs": [],
   "source": [
    "df.to_csv('LendingClub_DataPrep_H2O.csv')"
   ]
  },
  {
   "cell_type": "code",
   "execution_count": 69,
   "metadata": {},
   "outputs": [
    {
     "name": "stdout",
     "output_type": "stream",
     "text": [
      "Parse progress: |█████████████████████████████████████████████████████████| 100%\n"
     ]
    }
   ],
   "source": [
    "loan_csv = \"LendingClub_DataPrep_H2O.csv\" \n",
    "data = h2o.import_file(loan_csv)  "
   ]
  },
  {
   "cell_type": "code",
   "execution_count": 70,
   "metadata": {},
   "outputs": [
    {
     "data": {
      "text/plain": [
       "(9999, 17)"
      ]
     },
     "execution_count": 70,
     "metadata": {},
     "output_type": "execute_result"
    }
   ],
   "source": [
    "data.shape"
   ]
  },
  {
   "cell_type": "code",
   "execution_count": 71,
   "metadata": {},
   "outputs": [
    {
     "data": {
      "text/plain": [
       "['C1',\n",
       " 'loan_amnt',\n",
       " 'term',\n",
       " 'int_rate',\n",
       " 'installment',\n",
       " 'grade',\n",
       " 'sub_grade',\n",
       " 'emp_length',\n",
       " 'home_ownership',\n",
       " 'annual_inc',\n",
       " 'verification_status',\n",
       " 'loan_status_Binary',\n",
       " 'purpose',\n",
       " 'addr_state',\n",
       " 'dti',\n",
       " 'delinq_2yrs',\n",
       " 'inq_last_6mths']"
      ]
     },
     "execution_count": 71,
     "metadata": {},
     "output_type": "execute_result"
    }
   ],
   "source": [
    "data.columns\n",
    "# data['loan'] = data['bad_loan'].asfactor()  #encode the binary repsonse as a factor\n",
    "# data['bad_loan'].levels()  #optional: after encoding, this shows the two factor levels, '0' and '1'"
   ]
  },
  {
   "cell_type": "code",
   "execution_count": 72,
   "metadata": {},
   "outputs": [
    {
     "data": {
      "text/plain": [
       "[['0', '1']]"
      ]
     },
     "execution_count": 72,
     "metadata": {},
     "output_type": "execute_result"
    }
   ],
   "source": [
    "data['loan_status_Binary'] = data['loan_status_Binary'].asfactor()  #encode the binary repsonse as a factor\n",
    "data['loan_status_Binary'].levels()  #optional: after encoding, this shows the two factor levels, '0' and '1'"
   ]
  },
  {
   "cell_type": "code",
   "execution_count": 73,
   "metadata": {},
   "outputs": [],
   "source": [
    "# Partition data into 70%, 15%, 15% chunks\n",
    "# Setting a seed will guarantee reproducibility\n",
    "\n",
    "splits = data.split_frame(ratios=[0.7, 0.15], seed=1)  \n",
    "\n",
    "train = splits[0]\n",
    "valid = splits[1]\n",
    "test = splits[2]"
   ]
  },
  {
   "cell_type": "code",
   "execution_count": 74,
   "metadata": {},
   "outputs": [
    {
     "name": "stdout",
     "output_type": "stream",
     "text": [
      "7022\n",
      "1479\n",
      "1498\n"
     ]
    }
   ],
   "source": [
    "print(train.nrow)\n",
    "print(valid.nrow)\n",
    "print(test.nrow)"
   ]
  },
  {
   "cell_type": "code",
   "execution_count": 75,
   "metadata": {},
   "outputs": [],
   "source": [
    "y = 'loan_status_Binary'\n",
    "x = data.columns"
   ]
  },
  {
   "cell_type": "code",
   "execution_count": 76,
   "metadata": {},
   "outputs": [],
   "source": [
    "x.remove(y)  #remove the response\n",
    "x.remove('int_rate')  "
   ]
  },
  {
   "cell_type": "code",
   "execution_count": 77,
   "metadata": {},
   "outputs": [
    {
     "data": {
      "text/plain": [
       "['C1',\n",
       " 'loan_amnt',\n",
       " 'term',\n",
       " 'installment',\n",
       " 'grade',\n",
       " 'sub_grade',\n",
       " 'emp_length',\n",
       " 'home_ownership',\n",
       " 'annual_inc',\n",
       " 'verification_status',\n",
       " 'purpose',\n",
       " 'addr_state',\n",
       " 'dti',\n",
       " 'delinq_2yrs',\n",
       " 'inq_last_6mths']"
      ]
     },
     "execution_count": 77,
     "metadata": {},
     "output_type": "execute_result"
    }
   ],
   "source": [
    "x"
   ]
  },
  {
   "cell_type": "markdown",
   "metadata": {},
   "source": [
    "# GLM(Generalized Linear Model)-\n",
    "In statistics, the generalized linear model (GLM) is a flexible generalization of ordinary linear regression that allows\n",
    "for response variables that have error distribution models other than a normal distribution. -Wikipedia"
   ]
  },
  {
   "cell_type": "code",
   "execution_count": 78,
   "metadata": {},
   "outputs": [],
   "source": [
    "# Import H2O GLM:\n",
    "from h2o.estimators.glm import H2OGeneralizedLinearEstimator"
   ]
  },
  {
   "cell_type": "code",
   "execution_count": 79,
   "metadata": {},
   "outputs": [],
   "source": [
    "# Initialize the GLM estimator:\n",
    "# Similar to R's glm() and H2O's R GLM, H2O's GLM has the \"family\" argument\n",
    "\n",
    "glm_fit1 = H2OGeneralizedLinearEstimator(family='binomial', model_id='glm_fit1')"
   ]
  },
  {
   "cell_type": "code",
   "execution_count": 80,
   "metadata": {},
   "outputs": [
    {
     "name": "stdout",
     "output_type": "stream",
     "text": [
      "glm Model Build progress: |███████████████████████████████████████████████| 100%\n"
     ]
    }
   ],
   "source": [
    "glm_fit1.train(x=x, y=y, training_frame=train)"
   ]
  },
  {
   "cell_type": "code",
   "execution_count": 81,
   "metadata": {},
   "outputs": [
    {
     "name": "stdout",
     "output_type": "stream",
     "text": [
      "glm Model Build progress: |███████████████████████████████████████████████| 100%\n"
     ]
    }
   ],
   "source": [
    "glm_fit2 = H2OGeneralizedLinearEstimator(family='binomial', model_id='glm_fit2', lambda_search=True)\n",
    "glm_fit2.train(x=x, y=y, training_frame=train, validation_frame=valid)"
   ]
  },
  {
   "cell_type": "code",
   "execution_count": 82,
   "metadata": {},
   "outputs": [],
   "source": [
    "glm_perf1 = glm_fit1.model_performance(test)\n",
    "glm_perf2 = glm_fit2.model_performance(test)"
   ]
  },
  {
   "cell_type": "code",
   "execution_count": 83,
   "metadata": {},
   "outputs": [
    {
     "name": "stdout",
     "output_type": "stream",
     "text": [
      "\n",
      "ModelMetricsBinomialGLM: glm\n",
      "** Reported on test data. **\n",
      "\n",
      "MSE: 0.11869869870215047\n",
      "RMSE: 0.3445267750148753\n",
      "LogLoss: 0.3902119906223943\n",
      "Null degrees of freedom: 1497\n",
      "Residual degrees of freedom: 1482\n",
      "Null deviance: 1243.897041060381\n",
      "Residual deviance: 1169.0751239046933\n",
      "AIC: 1201.0751239046933\n",
      "AUC: 0.6887614678899083\n",
      "Gini: 0.37752293577981666\n",
      "Confusion Matrix (Act/Pred) for max f1 @ threshold = 0.14762383204855853: \n"
     ]
    },
    {
     "data": {
      "text/html": [
       "<div style=\"overflow:auto\"><table style=\"width:50%\"><tr><td><b></b></td>\n",
       "<td><b>0</b></td>\n",
       "<td><b>1</b></td>\n",
       "<td><b>Error</b></td>\n",
       "<td><b>Rate</b></td></tr>\n",
       "<tr><td>0</td>\n",
       "<td>817.0</td>\n",
       "<td>463.0</td>\n",
       "<td>0.3617</td>\n",
       "<td> (463.0/1280.0)</td></tr>\n",
       "<tr><td>1</td>\n",
       "<td>72.0</td>\n",
       "<td>146.0</td>\n",
       "<td>0.3303</td>\n",
       "<td> (72.0/218.0)</td></tr>\n",
       "<tr><td>Total</td>\n",
       "<td>889.0</td>\n",
       "<td>609.0</td>\n",
       "<td>0.3571</td>\n",
       "<td> (535.0/1498.0)</td></tr></table></div>"
      ],
      "text/plain": [
       "       0    1    Error    Rate\n",
       "-----  ---  ---  -------  --------------\n",
       "0      817  463  0.3617   (463.0/1280.0)\n",
       "1      72   146  0.3303   (72.0/218.0)\n",
       "Total  889  609  0.3571   (535.0/1498.0)"
      ]
     },
     "metadata": {},
     "output_type": "display_data"
    },
    {
     "name": "stdout",
     "output_type": "stream",
     "text": [
      "Maximum Metrics: Maximum metrics at their respective thresholds\n",
      "\n"
     ]
    },
    {
     "data": {
      "text/html": [
       "<div style=\"overflow:auto\"><table style=\"width:50%\"><tr><td><b>metric</b></td>\n",
       "<td><b>threshold</b></td>\n",
       "<td><b>value</b></td>\n",
       "<td><b>idx</b></td></tr>\n",
       "<tr><td>max f1</td>\n",
       "<td>0.1476238</td>\n",
       "<td>0.3530834</td>\n",
       "<td>231.0</td></tr>\n",
       "<tr><td>max f2</td>\n",
       "<td>0.1111783</td>\n",
       "<td>0.5128940</td>\n",
       "<td>281.0</td></tr>\n",
       "<tr><td>max f0point5</td>\n",
       "<td>0.3403687</td>\n",
       "<td>0.3171091</td>\n",
       "<td>73.0</td></tr>\n",
       "<tr><td>max accuracy</td>\n",
       "<td>0.7079536</td>\n",
       "<td>0.8538051</td>\n",
       "<td>0.0</td></tr>\n",
       "<tr><td>max precision</td>\n",
       "<td>0.4692618</td>\n",
       "<td>0.4117647</td>\n",
       "<td>15.0</td></tr>\n",
       "<tr><td>max recall</td>\n",
       "<td>0.0112209</td>\n",
       "<td>1.0</td>\n",
       "<td>396.0</td></tr>\n",
       "<tr><td>max specificity</td>\n",
       "<td>0.7079536</td>\n",
       "<td>0.9992188</td>\n",
       "<td>0.0</td></tr>\n",
       "<tr><td>max absolute_mcc</td>\n",
       "<td>0.1469033</td>\n",
       "<td>0.2212756</td>\n",
       "<td>232.0</td></tr>\n",
       "<tr><td>max min_per_class_accuracy</td>\n",
       "<td>0.1492056</td>\n",
       "<td>0.6453125</td>\n",
       "<td>229.0</td></tr>\n",
       "<tr><td>max mean_per_class_accuracy</td>\n",
       "<td>0.1469033</td>\n",
       "<td>0.6543435</td>\n",
       "<td>232.0</td></tr></table></div>"
      ],
      "text/plain": [
       "metric                       threshold    value     idx\n",
       "---------------------------  -----------  --------  -----\n",
       "max f1                       0.147624     0.353083  231\n",
       "max f2                       0.111178     0.512894  281\n",
       "max f0point5                 0.340369     0.317109  73\n",
       "max accuracy                 0.707954     0.853805  0\n",
       "max precision                0.469262     0.411765  15\n",
       "max recall                   0.0112209    1         396\n",
       "max specificity              0.707954     0.999219  0\n",
       "max absolute_mcc             0.146903     0.221276  232\n",
       "max min_per_class_accuracy   0.149206     0.645312  229\n",
       "max mean_per_class_accuracy  0.146903     0.654343  232"
      ]
     },
     "metadata": {},
     "output_type": "display_data"
    },
    {
     "name": "stdout",
     "output_type": "stream",
     "text": [
      "Gains/Lift Table: Avg response rate: 14.55 %\n",
      "\n"
     ]
    },
    {
     "data": {
      "text/html": [
       "<div style=\"overflow:auto\"><table style=\"width:50%\"><tr><td><b></b></td>\n",
       "<td><b>group</b></td>\n",
       "<td><b>cumulative_data_fraction</b></td>\n",
       "<td><b>lower_threshold</b></td>\n",
       "<td><b>lift</b></td>\n",
       "<td><b>cumulative_lift</b></td>\n",
       "<td><b>response_rate</b></td>\n",
       "<td><b>cumulative_response_rate</b></td>\n",
       "<td><b>capture_rate</b></td>\n",
       "<td><b>cumulative_capture_rate</b></td>\n",
       "<td><b>gain</b></td>\n",
       "<td><b>cumulative_gain</b></td></tr>\n",
       "<tr><td></td>\n",
       "<td>1</td>\n",
       "<td>0.0100134</td>\n",
       "<td>0.4780644</td>\n",
       "<td>2.2905199</td>\n",
       "<td>2.2905199</td>\n",
       "<td>0.3333333</td>\n",
       "<td>0.3333333</td>\n",
       "<td>0.0229358</td>\n",
       "<td>0.0229358</td>\n",
       "<td>129.0519878</td>\n",
       "<td>129.0519878</td></tr>\n",
       "<tr><td></td>\n",
       "<td>2</td>\n",
       "<td>0.0200267</td>\n",
       "<td>0.4382504</td>\n",
       "<td>1.8324159</td>\n",
       "<td>2.0614679</td>\n",
       "<td>0.2666667</td>\n",
       "<td>0.3</td>\n",
       "<td>0.0183486</td>\n",
       "<td>0.0412844</td>\n",
       "<td>83.2415902</td>\n",
       "<td>106.1467890</td></tr>\n",
       "<tr><td></td>\n",
       "<td>3</td>\n",
       "<td>0.0300401</td>\n",
       "<td>0.4178761</td>\n",
       "<td>2.7486239</td>\n",
       "<td>2.2905199</td>\n",
       "<td>0.4</td>\n",
       "<td>0.3333333</td>\n",
       "<td>0.0275229</td>\n",
       "<td>0.0688073</td>\n",
       "<td>174.8623853</td>\n",
       "<td>129.0519878</td></tr>\n",
       "<tr><td></td>\n",
       "<td>4</td>\n",
       "<td>0.0400534</td>\n",
       "<td>0.3977051</td>\n",
       "<td>1.8324159</td>\n",
       "<td>2.1759939</td>\n",
       "<td>0.2666667</td>\n",
       "<td>0.3166667</td>\n",
       "<td>0.0183486</td>\n",
       "<td>0.0871560</td>\n",
       "<td>83.2415902</td>\n",
       "<td>117.5993884</td></tr>\n",
       "<tr><td></td>\n",
       "<td>5</td>\n",
       "<td>0.0500668</td>\n",
       "<td>0.3747827</td>\n",
       "<td>2.7486239</td>\n",
       "<td>2.2905199</td>\n",
       "<td>0.4</td>\n",
       "<td>0.3333333</td>\n",
       "<td>0.0275229</td>\n",
       "<td>0.1146789</td>\n",
       "<td>174.8623853</td>\n",
       "<td>129.0519878</td></tr>\n",
       "<tr><td></td>\n",
       "<td>6</td>\n",
       "<td>0.1001335</td>\n",
       "<td>0.3132199</td>\n",
       "<td>2.0156575</td>\n",
       "<td>2.1530887</td>\n",
       "<td>0.2933333</td>\n",
       "<td>0.3133333</td>\n",
       "<td>0.1009174</td>\n",
       "<td>0.2155963</td>\n",
       "<td>101.5657492</td>\n",
       "<td>115.3088685</td></tr>\n",
       "<tr><td></td>\n",
       "<td>7</td>\n",
       "<td>0.1502003</td>\n",
       "<td>0.2669477</td>\n",
       "<td>1.4659327</td>\n",
       "<td>1.9240367</td>\n",
       "<td>0.2133333</td>\n",
       "<td>0.28</td>\n",
       "<td>0.0733945</td>\n",
       "<td>0.2889908</td>\n",
       "<td>46.5932722</td>\n",
       "<td>92.4036697</td></tr>\n",
       "<tr><td></td>\n",
       "<td>8</td>\n",
       "<td>0.2002670</td>\n",
       "<td>0.2302566</td>\n",
       "<td>1.6491743</td>\n",
       "<td>1.8553211</td>\n",
       "<td>0.24</td>\n",
       "<td>0.27</td>\n",
       "<td>0.0825688</td>\n",
       "<td>0.3715596</td>\n",
       "<td>64.9174312</td>\n",
       "<td>85.5321101</td></tr>\n",
       "<tr><td></td>\n",
       "<td>9</td>\n",
       "<td>0.3004005</td>\n",
       "<td>0.1809069</td>\n",
       "<td>1.1452599</td>\n",
       "<td>1.6186340</td>\n",
       "<td>0.1666667</td>\n",
       "<td>0.2355556</td>\n",
       "<td>0.1146789</td>\n",
       "<td>0.4862385</td>\n",
       "<td>14.5259939</td>\n",
       "<td>61.8634047</td></tr>\n",
       "<tr><td></td>\n",
       "<td>10</td>\n",
       "<td>0.3998665</td>\n",
       "<td>0.1483083</td>\n",
       "<td>1.6602426</td>\n",
       "<td>1.6289841</td>\n",
       "<td>0.2416107</td>\n",
       "<td>0.2370618</td>\n",
       "<td>0.1651376</td>\n",
       "<td>0.6513761</td>\n",
       "<td>66.0242596</td>\n",
       "<td>62.8984087</td></tr>\n",
       "<tr><td></td>\n",
       "<td>11</td>\n",
       "<td>0.5</td>\n",
       "<td>0.1265753</td>\n",
       "<td>0.9162080</td>\n",
       "<td>1.4862385</td>\n",
       "<td>0.1333333</td>\n",
       "<td>0.2162884</td>\n",
       "<td>0.0917431</td>\n",
       "<td>0.7431193</td>\n",
       "<td>-8.3792049</td>\n",
       "<td>48.6238532</td></tr>\n",
       "<tr><td></td>\n",
       "<td>12</td>\n",
       "<td>0.6001335</td>\n",
       "<td>0.1069035</td>\n",
       "<td>0.7787768</td>\n",
       "<td>1.3681971</td>\n",
       "<td>0.1133333</td>\n",
       "<td>0.1991101</td>\n",
       "<td>0.0779817</td>\n",
       "<td>0.8211009</td>\n",
       "<td>-22.1223242</td>\n",
       "<td>36.8197079</td></tr>\n",
       "<tr><td></td>\n",
       "<td>13</td>\n",
       "<td>0.6995995</td>\n",
       "<td>0.0904824</td>\n",
       "<td>0.5995320</td>\n",
       "<td>1.2589117</td>\n",
       "<td>0.0872483</td>\n",
       "<td>0.1832061</td>\n",
       "<td>0.0596330</td>\n",
       "<td>0.8807339</td>\n",
       "<td>-40.0467951</td>\n",
       "<td>25.8911688</td></tr>\n",
       "<tr><td></td>\n",
       "<td>14</td>\n",
       "<td>0.7997330</td>\n",
       "<td>0.0726520</td>\n",
       "<td>0.4581040</td>\n",
       "<td>1.1586436</td>\n",
       "<td>0.0666667</td>\n",
       "<td>0.1686144</td>\n",
       "<td>0.0458716</td>\n",
       "<td>0.9266055</td>\n",
       "<td>-54.1896024</td>\n",
       "<td>15.8643611</td></tr>\n",
       "<tr><td></td>\n",
       "<td>15</td>\n",
       "<td>0.8998665</td>\n",
       "<td>0.0546238</td>\n",
       "<td>0.5039144</td>\n",
       "<td>1.0857880</td>\n",
       "<td>0.0733333</td>\n",
       "<td>0.1580119</td>\n",
       "<td>0.0504587</td>\n",
       "<td>0.9770642</td>\n",
       "<td>-49.6085627</td>\n",
       "<td>8.5787984</td></tr>\n",
       "<tr><td></td>\n",
       "<td>16</td>\n",
       "<td>1.0</td>\n",
       "<td>0.0018915</td>\n",
       "<td>0.2290520</td>\n",
       "<td>1.0</td>\n",
       "<td>0.0333333</td>\n",
       "<td>0.1455274</td>\n",
       "<td>0.0229358</td>\n",
       "<td>1.0</td>\n",
       "<td>-77.0948012</td>\n",
       "<td>0.0</td></tr></table></div>"
      ],
      "text/plain": [
       "    group    cumulative_data_fraction    lower_threshold    lift      cumulative_lift    response_rate    cumulative_response_rate    capture_rate    cumulative_capture_rate    gain      cumulative_gain\n",
       "--  -------  --------------------------  -----------------  --------  -----------------  ---------------  --------------------------  --------------  -------------------------  --------  -----------------\n",
       "    1        0.0100134                   0.478064           2.29052   2.29052            0.333333         0.333333                    0.0229358       0.0229358                  129.052   129.052\n",
       "    2        0.0200267                   0.43825            1.83242   2.06147            0.266667         0.3                         0.0183486       0.0412844                  83.2416   106.147\n",
       "    3        0.0300401                   0.417876           2.74862   2.29052            0.4              0.333333                    0.0275229       0.0688073                  174.862   129.052\n",
       "    4        0.0400534                   0.397705           1.83242   2.17599            0.266667         0.316667                    0.0183486       0.087156                   83.2416   117.599\n",
       "    5        0.0500668                   0.374783           2.74862   2.29052            0.4              0.333333                    0.0275229       0.114679                   174.862   129.052\n",
       "    6        0.100134                    0.31322            2.01566   2.15309            0.293333         0.313333                    0.100917        0.215596                   101.566   115.309\n",
       "    7        0.1502                      0.266948           1.46593   1.92404            0.213333         0.28                        0.0733945       0.288991                   46.5933   92.4037\n",
       "    8        0.200267                    0.230257           1.64917   1.85532            0.24             0.27                        0.0825688       0.37156                    64.9174   85.5321\n",
       "    9        0.300401                    0.180907           1.14526   1.61863            0.166667         0.235556                    0.114679        0.486239                   14.526    61.8634\n",
       "    10       0.399866                    0.148308           1.66024   1.62898            0.241611         0.237062                    0.165138        0.651376                   66.0243   62.8984\n",
       "    11       0.5                         0.126575           0.916208  1.48624            0.133333         0.216288                    0.0917431       0.743119                   -8.3792   48.6239\n",
       "    12       0.600134                    0.106904           0.778777  1.3682             0.113333         0.19911                     0.0779817       0.821101                   -22.1223  36.8197\n",
       "    13       0.699599                    0.0904824          0.599532  1.25891            0.0872483        0.183206                    0.059633        0.880734                   -40.0468  25.8912\n",
       "    14       0.799733                    0.072652           0.458104  1.15864            0.0666667        0.168614                    0.0458716       0.926606                   -54.1896  15.8644\n",
       "    15       0.899866                    0.0546238          0.503914  1.08579            0.0733333        0.158012                    0.0504587       0.977064                   -49.6086  8.5788\n",
       "    16       1                           0.00189147         0.229052  1                  0.0333333        0.145527                    0.0229358       1                          -77.0948  0"
      ]
     },
     "metadata": {},
     "output_type": "display_data"
    },
    {
     "name": "stdout",
     "output_type": "stream",
     "text": [
      "\n",
      "\n",
      "\n",
      "ModelMetricsBinomialGLM: glm\n",
      "** Reported on test data. **\n",
      "\n",
      "MSE: 0.11863572100908495\n",
      "RMSE: 0.3444353655028545\n",
      "LogLoss: 0.39019466083615684\n",
      "Null degrees of freedom: 1497\n",
      "Residual degrees of freedom: 1484\n",
      "Null deviance: 1243.897041060381\n",
      "Residual deviance: 1169.0232038651259\n",
      "AIC: 1197.0232038651259\n",
      "AUC: 0.6880053038990825\n",
      "Gini: 0.3760106077981651\n",
      "Confusion Matrix (Act/Pred) for max f1 @ threshold = 0.13233276169041908: \n"
     ]
    },
    {
     "data": {
      "text/html": [
       "<div style=\"overflow:auto\"><table style=\"width:50%\"><tr><td><b></b></td>\n",
       "<td><b>0</b></td>\n",
       "<td><b>1</b></td>\n",
       "<td><b>Error</b></td>\n",
       "<td><b>Rate</b></td></tr>\n",
       "<tr><td>0</td>\n",
       "<td>737.0</td>\n",
       "<td>543.0</td>\n",
       "<td>0.4242</td>\n",
       "<td> (543.0/1280.0)</td></tr>\n",
       "<tr><td>1</td>\n",
       "<td>57.0</td>\n",
       "<td>161.0</td>\n",
       "<td>0.2615</td>\n",
       "<td> (57.0/218.0)</td></tr>\n",
       "<tr><td>Total</td>\n",
       "<td>794.0</td>\n",
       "<td>704.0</td>\n",
       "<td>0.4005</td>\n",
       "<td> (600.0/1498.0)</td></tr></table></div>"
      ],
      "text/plain": [
       "       0    1    Error    Rate\n",
       "-----  ---  ---  -------  --------------\n",
       "0      737  543  0.4242   (543.0/1280.0)\n",
       "1      57   161  0.2615   (57.0/218.0)\n",
       "Total  794  704  0.4005   (600.0/1498.0)"
      ]
     },
     "metadata": {},
     "output_type": "display_data"
    },
    {
     "name": "stdout",
     "output_type": "stream",
     "text": [
      "Maximum Metrics: Maximum metrics at their respective thresholds\n",
      "\n"
     ]
    },
    {
     "data": {
      "text/html": [
       "<div style=\"overflow:auto\"><table style=\"width:50%\"><tr><td><b>metric</b></td>\n",
       "<td><b>threshold</b></td>\n",
       "<td><b>value</b></td>\n",
       "<td><b>idx</b></td></tr>\n",
       "<tr><td>max f1</td>\n",
       "<td>0.1323328</td>\n",
       "<td>0.3492408</td>\n",
       "<td>246.0</td></tr>\n",
       "<tr><td>max f2</td>\n",
       "<td>0.1197514</td>\n",
       "<td>0.5168340</td>\n",
       "<td>267.0</td></tr>\n",
       "<tr><td>max f0point5</td>\n",
       "<td>0.3188478</td>\n",
       "<td>0.3149606</td>\n",
       "<td>76.0</td></tr>\n",
       "<tr><td>max accuracy</td>\n",
       "<td>0.6759436</td>\n",
       "<td>0.8538051</td>\n",
       "<td>0.0</td></tr>\n",
       "<tr><td>max precision</td>\n",
       "<td>0.4743443</td>\n",
       "<td>0.4285714</td>\n",
       "<td>10.0</td></tr>\n",
       "<tr><td>max recall</td>\n",
       "<td>0.0150145</td>\n",
       "<td>1.0</td>\n",
       "<td>396.0</td></tr>\n",
       "<tr><td>max specificity</td>\n",
       "<td>0.6759436</td>\n",
       "<td>0.9992188</td>\n",
       "<td>0.0</td></tr>\n",
       "<tr><td>max absolute_mcc</td>\n",
       "<td>0.1323328</td>\n",
       "<td>0.2220749</td>\n",
       "<td>246.0</td></tr>\n",
       "<tr><td>max min_per_class_accuracy</td>\n",
       "<td>0.1510496</td>\n",
       "<td>0.6376147</td>\n",
       "<td>223.0</td></tr>\n",
       "<tr><td>max mean_per_class_accuracy</td>\n",
       "<td>0.1323328</td>\n",
       "<td>0.6571567</td>\n",
       "<td>246.0</td></tr></table></div>"
      ],
      "text/plain": [
       "metric                       threshold    value     idx\n",
       "---------------------------  -----------  --------  -----\n",
       "max f1                       0.132333     0.349241  246\n",
       "max f2                       0.119751     0.516834  267\n",
       "max f0point5                 0.318848     0.314961  76\n",
       "max accuracy                 0.675944     0.853805  0\n",
       "max precision                0.474344     0.428571  10\n",
       "max recall                   0.0150145    1         396\n",
       "max specificity              0.675944     0.999219  0\n",
       "max absolute_mcc             0.132333     0.222075  246\n",
       "max min_per_class_accuracy   0.15105      0.637615  223\n",
       "max mean_per_class_accuracy  0.132333     0.657157  246"
      ]
     },
     "metadata": {},
     "output_type": "display_data"
    },
    {
     "name": "stdout",
     "output_type": "stream",
     "text": [
      "Gains/Lift Table: Avg response rate: 14.55 %\n",
      "\n"
     ]
    },
    {
     "data": {
      "text/html": [
       "<div style=\"overflow:auto\"><table style=\"width:50%\"><tr><td><b></b></td>\n",
       "<td><b>group</b></td>\n",
       "<td><b>cumulative_data_fraction</b></td>\n",
       "<td><b>lower_threshold</b></td>\n",
       "<td><b>lift</b></td>\n",
       "<td><b>cumulative_lift</b></td>\n",
       "<td><b>response_rate</b></td>\n",
       "<td><b>cumulative_response_rate</b></td>\n",
       "<td><b>capture_rate</b></td>\n",
       "<td><b>cumulative_capture_rate</b></td>\n",
       "<td><b>gain</b></td>\n",
       "<td><b>cumulative_gain</b></td></tr>\n",
       "<tr><td></td>\n",
       "<td>1</td>\n",
       "<td>0.0100134</td>\n",
       "<td>0.4644724</td>\n",
       "<td>2.7486239</td>\n",
       "<td>2.7486239</td>\n",
       "<td>0.4</td>\n",
       "<td>0.4</td>\n",
       "<td>0.0275229</td>\n",
       "<td>0.0275229</td>\n",
       "<td>174.8623853</td>\n",
       "<td>174.8623853</td></tr>\n",
       "<tr><td></td>\n",
       "<td>2</td>\n",
       "<td>0.0200267</td>\n",
       "<td>0.4265573</td>\n",
       "<td>1.3743119</td>\n",
       "<td>2.0614679</td>\n",
       "<td>0.2</td>\n",
       "<td>0.3</td>\n",
       "<td>0.0137615</td>\n",
       "<td>0.0412844</td>\n",
       "<td>37.4311927</td>\n",
       "<td>106.1467890</td></tr>\n",
       "<tr><td></td>\n",
       "<td>3</td>\n",
       "<td>0.0300401</td>\n",
       "<td>0.4061911</td>\n",
       "<td>2.7486239</td>\n",
       "<td>2.2905199</td>\n",
       "<td>0.4</td>\n",
       "<td>0.3333333</td>\n",
       "<td>0.0275229</td>\n",
       "<td>0.0688073</td>\n",
       "<td>174.8623853</td>\n",
       "<td>129.0519878</td></tr>\n",
       "<tr><td></td>\n",
       "<td>4</td>\n",
       "<td>0.0400534</td>\n",
       "<td>0.3867741</td>\n",
       "<td>2.2905199</td>\n",
       "<td>2.2905199</td>\n",
       "<td>0.3333333</td>\n",
       "<td>0.3333333</td>\n",
       "<td>0.0229358</td>\n",
       "<td>0.0917431</td>\n",
       "<td>129.0519878</td>\n",
       "<td>129.0519878</td></tr>\n",
       "<tr><td></td>\n",
       "<td>5</td>\n",
       "<td>0.0500668</td>\n",
       "<td>0.3631148</td>\n",
       "<td>2.2905199</td>\n",
       "<td>2.2905199</td>\n",
       "<td>0.3333333</td>\n",
       "<td>0.3333333</td>\n",
       "<td>0.0229358</td>\n",
       "<td>0.1146789</td>\n",
       "<td>129.0519878</td>\n",
       "<td>129.0519878</td></tr>\n",
       "<tr><td></td>\n",
       "<td>6</td>\n",
       "<td>0.1001335</td>\n",
       "<td>0.3073351</td>\n",
       "<td>2.2905199</td>\n",
       "<td>2.2905199</td>\n",
       "<td>0.3333333</td>\n",
       "<td>0.3333333</td>\n",
       "<td>0.1146789</td>\n",
       "<td>0.2293578</td>\n",
       "<td>129.0519878</td>\n",
       "<td>129.0519878</td></tr>\n",
       "<tr><td></td>\n",
       "<td>7</td>\n",
       "<td>0.1502003</td>\n",
       "<td>0.2623964</td>\n",
       "<td>1.0994495</td>\n",
       "<td>1.8934964</td>\n",
       "<td>0.16</td>\n",
       "<td>0.2755556</td>\n",
       "<td>0.0550459</td>\n",
       "<td>0.2844037</td>\n",
       "<td>9.9449541</td>\n",
       "<td>89.3496432</td></tr>\n",
       "<tr><td></td>\n",
       "<td>8</td>\n",
       "<td>0.2002670</td>\n",
       "<td>0.2257557</td>\n",
       "<td>1.2826911</td>\n",
       "<td>1.7407951</td>\n",
       "<td>0.1866667</td>\n",
       "<td>0.2533333</td>\n",
       "<td>0.0642202</td>\n",
       "<td>0.3486239</td>\n",
       "<td>28.2691131</td>\n",
       "<td>74.0795107</td></tr>\n",
       "<tr><td></td>\n",
       "<td>9</td>\n",
       "<td>0.3004005</td>\n",
       "<td>0.1790478</td>\n",
       "<td>1.3743119</td>\n",
       "<td>1.6186340</td>\n",
       "<td>0.2</td>\n",
       "<td>0.2355556</td>\n",
       "<td>0.1376147</td>\n",
       "<td>0.4862385</td>\n",
       "<td>37.4311927</td>\n",
       "<td>61.8634047</td></tr>\n",
       "<tr><td></td>\n",
       "<td>10</td>\n",
       "<td>0.3998665</td>\n",
       "<td>0.1486049</td>\n",
       "<td>1.5218890</td>\n",
       "<td>1.5945689</td>\n",
       "<td>0.2214765</td>\n",
       "<td>0.2320534</td>\n",
       "<td>0.1513761</td>\n",
       "<td>0.6376147</td>\n",
       "<td>52.1889046</td>\n",
       "<td>59.4568930</td></tr>\n",
       "<tr><td></td>\n",
       "<td>11</td>\n",
       "<td>0.5</td>\n",
       "<td>0.1270348</td>\n",
       "<td>1.0994495</td>\n",
       "<td>1.4954128</td>\n",
       "<td>0.16</td>\n",
       "<td>0.2176235</td>\n",
       "<td>0.1100917</td>\n",
       "<td>0.7477064</td>\n",
       "<td>9.9449541</td>\n",
       "<td>49.5412844</td></tr>\n",
       "<tr><td></td>\n",
       "<td>12</td>\n",
       "<td>0.6001335</td>\n",
       "<td>0.1095211</td>\n",
       "<td>0.7787768</td>\n",
       "<td>1.3758406</td>\n",
       "<td>0.1133333</td>\n",
       "<td>0.2002225</td>\n",
       "<td>0.0779817</td>\n",
       "<td>0.8256881</td>\n",
       "<td>-22.1223242</td>\n",
       "<td>37.5840638</td></tr>\n",
       "<tr><td></td>\n",
       "<td>13</td>\n",
       "<td>0.6995995</td>\n",
       "<td>0.0924136</td>\n",
       "<td>0.5534142</td>\n",
       "<td>1.2589117</td>\n",
       "<td>0.0805369</td>\n",
       "<td>0.1832061</td>\n",
       "<td>0.0550459</td>\n",
       "<td>0.8807339</td>\n",
       "<td>-44.6585801</td>\n",
       "<td>25.8911688</td></tr>\n",
       "<tr><td></td>\n",
       "<td>14</td>\n",
       "<td>0.7997330</td>\n",
       "<td>0.0767428</td>\n",
       "<td>0.5955352</td>\n",
       "<td>1.1758512</td>\n",
       "<td>0.0866667</td>\n",
       "<td>0.1711185</td>\n",
       "<td>0.0596330</td>\n",
       "<td>0.9403670</td>\n",
       "<td>-40.4464832</td>\n",
       "<td>17.5851189</td></tr>\n",
       "<tr><td></td>\n",
       "<td>15</td>\n",
       "<td>0.8998665</td>\n",
       "<td>0.0596605</td>\n",
       "<td>0.3206728</td>\n",
       "<td>1.0806904</td>\n",
       "<td>0.0466667</td>\n",
       "<td>0.1572700</td>\n",
       "<td>0.0321101</td>\n",
       "<td>0.9724771</td>\n",
       "<td>-67.9327217</td>\n",
       "<td>8.0690387</td></tr>\n",
       "<tr><td></td>\n",
       "<td>16</td>\n",
       "<td>1.0</td>\n",
       "<td>0.0033910</td>\n",
       "<td>0.2748624</td>\n",
       "<td>1.0</td>\n",
       "<td>0.04</td>\n",
       "<td>0.1455274</td>\n",
       "<td>0.0275229</td>\n",
       "<td>1.0</td>\n",
       "<td>-72.5137615</td>\n",
       "<td>0.0</td></tr></table></div>"
      ],
      "text/plain": [
       "    group    cumulative_data_fraction    lower_threshold    lift      cumulative_lift    response_rate    cumulative_response_rate    capture_rate    cumulative_capture_rate    gain      cumulative_gain\n",
       "--  -------  --------------------------  -----------------  --------  -----------------  ---------------  --------------------------  --------------  -------------------------  --------  -----------------\n",
       "    1        0.0100134                   0.464472           2.74862   2.74862            0.4              0.4                         0.0275229       0.0275229                  174.862   174.862\n",
       "    2        0.0200267                   0.426557           1.37431   2.06147            0.2              0.3                         0.0137615       0.0412844                  37.4312   106.147\n",
       "    3        0.0300401                   0.406191           2.74862   2.29052            0.4              0.333333                    0.0275229       0.0688073                  174.862   129.052\n",
       "    4        0.0400534                   0.386774           2.29052   2.29052            0.333333         0.333333                    0.0229358       0.0917431                  129.052   129.052\n",
       "    5        0.0500668                   0.363115           2.29052   2.29052            0.333333         0.333333                    0.0229358       0.114679                   129.052   129.052\n",
       "    6        0.100134                    0.307335           2.29052   2.29052            0.333333         0.333333                    0.114679        0.229358                   129.052   129.052\n",
       "    7        0.1502                      0.262396           1.09945   1.8935             0.16             0.275556                    0.0550459       0.284404                   9.94495   89.3496\n",
       "    8        0.200267                    0.225756           1.28269   1.7408             0.186667         0.253333                    0.0642202       0.348624                   28.2691   74.0795\n",
       "    9        0.300401                    0.179048           1.37431   1.61863            0.2              0.235556                    0.137615        0.486239                   37.4312   61.8634\n",
       "    10       0.399866                    0.148605           1.52189   1.59457            0.221477         0.232053                    0.151376        0.637615                   52.1889   59.4569\n",
       "    11       0.5                         0.127035           1.09945   1.49541            0.16             0.217623                    0.110092        0.747706                   9.94495   49.5413\n",
       "    12       0.600134                    0.109521           0.778777  1.37584            0.113333         0.200222                    0.0779817       0.825688                   -22.1223  37.5841\n",
       "    13       0.699599                    0.0924136          0.553414  1.25891            0.0805369        0.183206                    0.0550459       0.880734                   -44.6586  25.8912\n",
       "    14       0.799733                    0.0767428          0.595535  1.17585            0.0866667        0.171119                    0.059633        0.940367                   -40.4465  17.5851\n",
       "    15       0.899866                    0.0596605          0.320673  1.08069            0.0466667        0.15727                     0.0321101       0.972477                   -67.9327  8.06904\n",
       "    16       1                           0.00339099         0.274862  1                  0.04             0.145527                    0.0275229       1                          -72.5138  0"
      ]
     },
     "metadata": {},
     "output_type": "display_data"
    },
    {
     "name": "stdout",
     "output_type": "stream",
     "text": [
      "\n",
      "\n"
     ]
    }
   ],
   "source": [
    "# Print model performance\n",
    "print(glm_perf1)\n",
    "print(glm_perf2)"
   ]
  },
  {
   "cell_type": "code",
   "execution_count": 84,
   "metadata": {},
   "outputs": [
    {
     "name": "stdout",
     "output_type": "stream",
     "text": [
      "0.6887614678899083\n",
      "0.6880053038990825\n"
     ]
    }
   ],
   "source": [
    "# Retreive test set AUC\n",
    "print(glm_perf1.auc())\n",
    "print(glm_perf2.auc())"
   ]
  },
  {
   "cell_type": "code",
   "execution_count": 85,
   "metadata": {},
   "outputs": [
    {
     "name": "stdout",
     "output_type": "stream",
     "text": [
      "0.7119383325222051\n",
      "0.6835139822940376\n"
     ]
    }
   ],
   "source": [
    "# Compare test AUC to the training AUC and validation AUC\n",
    "print(glm_fit2.auc(train=True))\n",
    "print(glm_fit2.auc(valid=True))"
   ]
  },
  {
   "cell_type": "code",
   "execution_count": 214,
   "metadata": {},
   "outputs": [
    {
     "data": {
      "image/png": "[encoded data removed]",
      "text/plain": [
       "<matplotlib.figure.Figure at 0x20d86d12c50>"
      ]
     },
     "metadata": {},
     "output_type": "display_data"
    }
   ],
   "source": [
    "# Standard Coef. Magnitudes\n",
    "glm_fit2.std_coef_plot()"
   ]
  },
  {
   "cell_type": "markdown",
   "metadata": {},
   "source": [
    "# RandomForestEstimator"
   ]
  },
  {
   "cell_type": "code",
   "execution_count": 86,
   "metadata": {},
   "outputs": [],
   "source": [
    "# Import H2O RF:\n",
    "from h2o.estimators.random_forest import H2ORandomForestEstimator"
   ]
  },
  {
   "cell_type": "code",
   "execution_count": 87,
   "metadata": {},
   "outputs": [],
   "source": [
    "# Initialize the RF estimator:\n",
    "\n",
    "rf_fit1 = H2ORandomForestEstimator(model_id='rf_fit1', seed=1)"
   ]
  },
  {
   "cell_type": "code",
   "execution_count": 88,
   "metadata": {},
   "outputs": [
    {
     "name": "stdout",
     "output_type": "stream",
     "text": [
      "drf Model Build progress: |███████████████████████████████████████████████| 100%\n"
     ]
    }
   ],
   "source": [
    "rf_fit1.train(x=x, y=y, training_frame=train)"
   ]
  },
  {
   "cell_type": "code",
   "execution_count": 89,
   "metadata": {},
   "outputs": [
    {
     "name": "stdout",
     "output_type": "stream",
     "text": [
      "drf Model Build progress: |███████████████████████████████████████████████| 100%\n"
     ]
    }
   ],
   "source": [
    "rf_fit2 = H2ORandomForestEstimator(model_id='rf_fit2', ntrees=100, seed=1)\n",
    "rf_fit2.train(x=x, y=y, training_frame=train)"
   ]
  },
  {
   "cell_type": "code",
   "execution_count": 90,
   "metadata": {},
   "outputs": [],
   "source": [
    "rf_perf1 = rf_fit1.model_performance(test)\n",
    "rf_perf2 = rf_fit2.model_performance(test)"
   ]
  },
  {
   "cell_type": "code",
   "execution_count": 91,
   "metadata": {},
   "outputs": [
    {
     "name": "stdout",
     "output_type": "stream",
     "text": [
      "0.6710113245412843\n",
      "0.674869194380734\n"
     ]
    }
   ],
   "source": [
    "# Retreive test set AUC\n",
    "print(rf_perf1.auc())\n",
    "print(rf_perf2.auc())"
   ]
  },
  {
   "cell_type": "code",
   "execution_count": 92,
   "metadata": {},
   "outputs": [
    {
     "name": "stdout",
     "output_type": "stream",
     "text": [
      "drf Model Build progress: |███████████████████████████████████████████████| 100%\n"
     ]
    }
   ],
   "source": [
    "rf_fit3 = H2ORandomForestEstimator(model_id='rf_fit3', seed=1, nfolds=5)\n",
    "rf_fit3.train(x=x, y=y, training_frame=data)"
   ]
  },
  {
   "cell_type": "code",
   "execution_count": 93,
   "metadata": {},
   "outputs": [
    {
     "name": "stdout",
     "output_type": "stream",
     "text": [
      "0.6678722155254334\n"
     ]
    }
   ],
   "source": [
    "print(rf_fit3.auc(xval=True))"
   ]
  },
  {
   "cell_type": "code",
   "execution_count": 212,
   "metadata": {},
   "outputs": [
    {
     "data": {
      "image/png": "[encoded data removed]",
      "text/plain": [
       "<matplotlib.figure.Figure at 0x20d873ec9e8>"
      ]
     },
     "metadata": {},
     "output_type": "display_data"
    }
   ],
   "source": [
    "rf_fit2.varimp_plot()"
   ]
  },
  {
   "cell_type": "markdown",
   "metadata": {},
   "source": [
    "# GradientBoostingEstimator"
   ]
  },
  {
   "cell_type": "code",
   "execution_count": 94,
   "metadata": {},
   "outputs": [],
   "source": [
    "# Import H2O GBM:\n",
    "from h2o.estimators.gbm import H2OGradientBoostingEstimator"
   ]
  },
  {
   "cell_type": "code",
   "execution_count": 95,
   "metadata": {},
   "outputs": [
    {
     "name": "stdout",
     "output_type": "stream",
     "text": [
      "gbm Model Build progress: |███████████████████████████████████████████████| 100%\n"
     ]
    }
   ],
   "source": [
    "# Initialize and train the GBM estimator:\n",
    "\n",
    "gbm_fit1 = H2OGradientBoostingEstimator(model_id='gbm_fit1', seed=1)\n",
    "gbm_fit1.train(x=x, y=y, training_frame=train)"
   ]
  },
  {
   "cell_type": "code",
   "execution_count": 96,
   "metadata": {},
   "outputs": [
    {
     "name": "stdout",
     "output_type": "stream",
     "text": [
      "gbm Model Build progress: |███████████████████████████████████████████████| 100%\n"
     ]
    }
   ],
   "source": [
    "gbm_fit2 = H2OGradientBoostingEstimator(model_id='gbm_fit2', ntrees=500, seed=1)\n",
    "gbm_fit2.train(x=x, y=y, training_frame=train)"
   ]
  },
  {
   "cell_type": "code",
   "execution_count": 97,
   "metadata": {},
   "outputs": [
    {
     "name": "stdout",
     "output_type": "stream",
     "text": [
      "gbm Model Build progress: |███████████████████████████████████████████████| 100%\n"
     ]
    }
   ],
   "source": [
    "# Now let's use early stopping to find optimal ntrees\n",
    "\n",
    "gbm_fit3 = H2OGradientBoostingEstimator(model_id='gbm_fit3', \n",
    "                                        ntrees=500, \n",
    "                                        score_tree_interval=5,     #used for early stopping\n",
    "                                        stopping_rounds=3,         #used for early stopping\n",
    "                                        stopping_metric='AUC',     #used for early stopping\n",
    "                                        stopping_tolerance=0.0005, #used for early stopping\n",
    "                                        seed=1)\n",
    "\n",
    "# The use of a validation_frame is recommended with using early stopping\n",
    "gbm_fit3.train(x=x, y=y, training_frame=train, validation_frame=valid)"
   ]
  },
  {
   "cell_type": "code",
   "execution_count": 98,
   "metadata": {},
   "outputs": [],
   "source": [
    "gbm_perf1 = gbm_fit1.model_performance(test)\n",
    "gbm_perf2 = gbm_fit2.model_performance(test)\n",
    "gbm_perf3 = gbm_fit3.model_performance(test)"
   ]
  },
  {
   "cell_type": "code",
   "execution_count": 99,
   "metadata": {},
   "outputs": [
    {
     "name": "stdout",
     "output_type": "stream",
     "text": [
      "0.6929311209862385\n",
      "0.6479304042431193\n",
      "0.6949397935779816\n"
     ]
    }
   ],
   "source": [
    "# Retreive test set AUC\n",
    "print(gbm_perf1.auc())\n",
    "print(gbm_perf2.auc())\n",
    "print(gbm_perf3.auc())"
   ]
  },
  {
   "cell_type": "code",
   "execution_count": 100,
   "metadata": {},
   "outputs": [
    {
     "data": {
      "text/html": [
       "<div>\n",
       "<style scoped>\n",
       "    .dataframe tbody tr th:only-of-type {\n",
       "        vertical-align: middle;\n",
       "    }\n",
       "\n",
       "    .dataframe tbody tr th {\n",
       "        vertical-align: top;\n",
       "    }\n",
       "\n",
       "    .dataframe thead th {\n",
       "        text-align: right;\n",
       "    }\n",
       "</style>\n",
       "<table border=\"1\" class=\"dataframe\">\n",
       "  <thead>\n",
       "    <tr style=\"text-align: right;\">\n",
       "      <th></th>\n",
       "      <th></th>\n",
       "      <th>timestamp</th>\n",
       "      <th>duration</th>\n",
       "      <th>number_of_trees</th>\n",
       "      <th>training_rmse</th>\n",
       "      <th>training_logloss</th>\n",
       "      <th>training_auc</th>\n",
       "      <th>training_lift</th>\n",
       "      <th>training_classification_error</th>\n",
       "    </tr>\n",
       "  </thead>\n",
       "  <tbody>\n",
       "    <tr>\n",
       "      <th>0</th>\n",
       "      <td></td>\n",
       "      <td>2018-10-27 15:58:39</td>\n",
       "      <td>0.002 sec</td>\n",
       "      <td>0.0</td>\n",
       "      <td>0.361441</td>\n",
       "      <td>0.430460</td>\n",
       "      <td>0.500000</td>\n",
       "      <td>1.000000</td>\n",
       "      <td>0.845486</td>\n",
       "    </tr>\n",
       "    <tr>\n",
       "      <th>1</th>\n",
       "      <td></td>\n",
       "      <td>2018-10-27 15:58:39</td>\n",
       "      <td>0.019 sec</td>\n",
       "      <td>1.0</td>\n",
       "      <td>0.357848</td>\n",
       "      <td>0.421004</td>\n",
       "      <td>0.729070</td>\n",
       "      <td>3.404483</td>\n",
       "      <td>0.261322</td>\n",
       "    </tr>\n",
       "    <tr>\n",
       "      <th>2</th>\n",
       "      <td></td>\n",
       "      <td>2018-10-27 15:58:39</td>\n",
       "      <td>0.032 sec</td>\n",
       "      <td>2.0</td>\n",
       "      <td>0.354884</td>\n",
       "      <td>0.413501</td>\n",
       "      <td>0.745189</td>\n",
       "      <td>3.775269</td>\n",
       "      <td>0.238821</td>\n",
       "    </tr>\n",
       "    <tr>\n",
       "      <th>3</th>\n",
       "      <td></td>\n",
       "      <td>2018-10-27 15:58:39</td>\n",
       "      <td>0.045 sec</td>\n",
       "      <td>3.0</td>\n",
       "      <td>0.352141</td>\n",
       "      <td>0.406905</td>\n",
       "      <td>0.752739</td>\n",
       "      <td>5.013435</td>\n",
       "      <td>0.224153</td>\n",
       "    </tr>\n",
       "    <tr>\n",
       "      <th>4</th>\n",
       "      <td></td>\n",
       "      <td>2018-10-27 15:58:39</td>\n",
       "      <td>0.058 sec</td>\n",
       "      <td>4.0</td>\n",
       "      <td>0.349928</td>\n",
       "      <td>0.401669</td>\n",
       "      <td>0.754323</td>\n",
       "      <td>5.013435</td>\n",
       "      <td>0.200940</td>\n",
       "    </tr>\n",
       "    <tr>\n",
       "      <th>5</th>\n",
       "      <td></td>\n",
       "      <td>2018-10-27 15:58:39</td>\n",
       "      <td>0.071 sec</td>\n",
       "      <td>5.0</td>\n",
       "      <td>0.347969</td>\n",
       "      <td>0.397059</td>\n",
       "      <td>0.758951</td>\n",
       "      <td>5.104589</td>\n",
       "      <td>0.219311</td>\n",
       "    </tr>\n",
       "    <tr>\n",
       "      <th>6</th>\n",
       "      <td></td>\n",
       "      <td>2018-10-27 15:58:39</td>\n",
       "      <td>0.087 sec</td>\n",
       "      <td>6.0</td>\n",
       "      <td>0.346292</td>\n",
       "      <td>0.393139</td>\n",
       "      <td>0.762177</td>\n",
       "      <td>5.195742</td>\n",
       "      <td>0.205639</td>\n",
       "    </tr>\n",
       "    <tr>\n",
       "      <th>7</th>\n",
       "      <td></td>\n",
       "      <td>2018-10-27 15:58:39</td>\n",
       "      <td>0.105 sec</td>\n",
       "      <td>7.0</td>\n",
       "      <td>0.344681</td>\n",
       "      <td>0.389555</td>\n",
       "      <td>0.764722</td>\n",
       "      <td>5.286896</td>\n",
       "      <td>0.193535</td>\n",
       "    </tr>\n",
       "    <tr>\n",
       "      <th>8</th>\n",
       "      <td></td>\n",
       "      <td>2018-10-27 15:58:39</td>\n",
       "      <td>0.124 sec</td>\n",
       "      <td>8.0</td>\n",
       "      <td>0.343033</td>\n",
       "      <td>0.385961</td>\n",
       "      <td>0.770065</td>\n",
       "      <td>5.195742</td>\n",
       "      <td>0.201510</td>\n",
       "    </tr>\n",
       "    <tr>\n",
       "      <th>9</th>\n",
       "      <td></td>\n",
       "      <td>2018-10-27 15:58:39</td>\n",
       "      <td>0.145 sec</td>\n",
       "      <td>9.0</td>\n",
       "      <td>0.341797</td>\n",
       "      <td>0.383101</td>\n",
       "      <td>0.773265</td>\n",
       "      <td>5.286896</td>\n",
       "      <td>0.207776</td>\n",
       "    </tr>\n",
       "    <tr>\n",
       "      <th>10</th>\n",
       "      <td></td>\n",
       "      <td>2018-10-27 15:58:39</td>\n",
       "      <td>0.167 sec</td>\n",
       "      <td>10.0</td>\n",
       "      <td>0.340598</td>\n",
       "      <td>0.380462</td>\n",
       "      <td>0.776110</td>\n",
       "      <td>5.195742</td>\n",
       "      <td>0.196952</td>\n",
       "    </tr>\n",
       "    <tr>\n",
       "      <th>11</th>\n",
       "      <td></td>\n",
       "      <td>2018-10-27 15:58:39</td>\n",
       "      <td>0.190 sec</td>\n",
       "      <td>11.0</td>\n",
       "      <td>0.339440</td>\n",
       "      <td>0.377888</td>\n",
       "      <td>0.779925</td>\n",
       "      <td>5.195742</td>\n",
       "      <td>0.238536</td>\n",
       "    </tr>\n",
       "    <tr>\n",
       "      <th>12</th>\n",
       "      <td></td>\n",
       "      <td>2018-10-27 15:58:39</td>\n",
       "      <td>0.215 sec</td>\n",
       "      <td>12.0</td>\n",
       "      <td>0.338495</td>\n",
       "      <td>0.375724</td>\n",
       "      <td>0.782257</td>\n",
       "      <td>5.195742</td>\n",
       "      <td>0.232270</td>\n",
       "    </tr>\n",
       "    <tr>\n",
       "      <th>13</th>\n",
       "      <td></td>\n",
       "      <td>2018-10-27 15:58:39</td>\n",
       "      <td>0.242 sec</td>\n",
       "      <td>13.0</td>\n",
       "      <td>0.337365</td>\n",
       "      <td>0.373260</td>\n",
       "      <td>0.785789</td>\n",
       "      <td>5.378049</td>\n",
       "      <td>0.235545</td>\n",
       "    </tr>\n",
       "    <tr>\n",
       "      <th>14</th>\n",
       "      <td></td>\n",
       "      <td>2018-10-27 15:58:39</td>\n",
       "      <td>0.271 sec</td>\n",
       "      <td>14.0</td>\n",
       "      <td>0.336215</td>\n",
       "      <td>0.370775</td>\n",
       "      <td>0.789583</td>\n",
       "      <td>5.469202</td>\n",
       "      <td>0.191256</td>\n",
       "    </tr>\n",
       "    <tr>\n",
       "      <th>15</th>\n",
       "      <td></td>\n",
       "      <td>2018-10-27 15:58:39</td>\n",
       "      <td>0.296 sec</td>\n",
       "      <td>15.0</td>\n",
       "      <td>0.335310</td>\n",
       "      <td>0.368874</td>\n",
       "      <td>0.791529</td>\n",
       "      <td>5.469202</td>\n",
       "      <td>0.188123</td>\n",
       "    </tr>\n",
       "    <tr>\n",
       "      <th>16</th>\n",
       "      <td></td>\n",
       "      <td>2018-10-27 15:58:39</td>\n",
       "      <td>0.320 sec</td>\n",
       "      <td>16.0</td>\n",
       "      <td>0.334366</td>\n",
       "      <td>0.366742</td>\n",
       "      <td>0.795034</td>\n",
       "      <td>5.469202</td>\n",
       "      <td>0.186984</td>\n",
       "    </tr>\n",
       "    <tr>\n",
       "      <th>17</th>\n",
       "      <td></td>\n",
       "      <td>2018-10-27 15:58:39</td>\n",
       "      <td>0.347 sec</td>\n",
       "      <td>17.0</td>\n",
       "      <td>0.333304</td>\n",
       "      <td>0.364713</td>\n",
       "      <td>0.797324</td>\n",
       "      <td>5.560356</td>\n",
       "      <td>0.181430</td>\n",
       "    </tr>\n",
       "    <tr>\n",
       "      <th>18</th>\n",
       "      <td></td>\n",
       "      <td>2018-10-27 15:58:39</td>\n",
       "      <td>0.373 sec</td>\n",
       "      <td>18.0</td>\n",
       "      <td>0.332535</td>\n",
       "      <td>0.362948</td>\n",
       "      <td>0.800543</td>\n",
       "      <td>5.560356</td>\n",
       "      <td>0.180860</td>\n",
       "    </tr>\n",
       "    <tr>\n",
       "      <th>19</th>\n",
       "      <td></td>\n",
       "      <td>2018-10-27 15:58:39</td>\n",
       "      <td>0.399 sec</td>\n",
       "      <td>19.0</td>\n",
       "      <td>0.331701</td>\n",
       "      <td>0.361117</td>\n",
       "      <td>0.803452</td>\n",
       "      <td>5.560356</td>\n",
       "      <td>0.181430</td>\n",
       "    </tr>\n",
       "    <tr>\n",
       "      <th>20</th>\n",
       "      <td></td>\n",
       "      <td>2018-10-27 15:58:39</td>\n",
       "      <td>0.427 sec</td>\n",
       "      <td>20.0</td>\n",
       "      <td>0.330939</td>\n",
       "      <td>0.359414</td>\n",
       "      <td>0.805589</td>\n",
       "      <td>5.560356</td>\n",
       "      <td>0.179151</td>\n",
       "    </tr>\n",
       "    <tr>\n",
       "      <th>21</th>\n",
       "      <td></td>\n",
       "      <td>2018-10-27 15:58:39</td>\n",
       "      <td>0.457 sec</td>\n",
       "      <td>21.0</td>\n",
       "      <td>0.330278</td>\n",
       "      <td>0.358026</td>\n",
       "      <td>0.807448</td>\n",
       "      <td>5.742662</td>\n",
       "      <td>0.179436</td>\n",
       "    </tr>\n",
       "    <tr>\n",
       "      <th>22</th>\n",
       "      <td></td>\n",
       "      <td>2018-10-27 15:58:39</td>\n",
       "      <td>0.488 sec</td>\n",
       "      <td>22.0</td>\n",
       "      <td>0.329631</td>\n",
       "      <td>0.356568</td>\n",
       "      <td>0.809412</td>\n",
       "      <td>5.742662</td>\n",
       "      <td>0.177300</td>\n",
       "    </tr>\n",
       "    <tr>\n",
       "      <th>23</th>\n",
       "      <td></td>\n",
       "      <td>2018-10-27 15:58:39</td>\n",
       "      <td>0.517 sec</td>\n",
       "      <td>23.0</td>\n",
       "      <td>0.328633</td>\n",
       "      <td>0.354772</td>\n",
       "      <td>0.811986</td>\n",
       "      <td>5.924969</td>\n",
       "      <td>0.178439</td>\n",
       "    </tr>\n",
       "    <tr>\n",
       "      <th>24</th>\n",
       "      <td></td>\n",
       "      <td>2018-10-27 15:58:40</td>\n",
       "      <td>0.546 sec</td>\n",
       "      <td>24.0</td>\n",
       "      <td>0.328035</td>\n",
       "      <td>0.353503</td>\n",
       "      <td>0.813585</td>\n",
       "      <td>5.924969</td>\n",
       "      <td>0.177870</td>\n",
       "    </tr>\n",
       "    <tr>\n",
       "      <th>25</th>\n",
       "      <td></td>\n",
       "      <td>2018-10-27 15:58:40</td>\n",
       "      <td>0.574 sec</td>\n",
       "      <td>25.0</td>\n",
       "      <td>0.327411</td>\n",
       "      <td>0.352138</td>\n",
       "      <td>0.815477</td>\n",
       "      <td>5.924969</td>\n",
       "      <td>0.201652</td>\n",
       "    </tr>\n",
       "    <tr>\n",
       "      <th>26</th>\n",
       "      <td></td>\n",
       "      <td>2018-10-27 15:58:40</td>\n",
       "      <td>0.604 sec</td>\n",
       "      <td>26.0</td>\n",
       "      <td>0.326791</td>\n",
       "      <td>0.350823</td>\n",
       "      <td>0.817098</td>\n",
       "      <td>6.016123</td>\n",
       "      <td>0.204073</td>\n",
       "    </tr>\n",
       "    <tr>\n",
       "      <th>27</th>\n",
       "      <td></td>\n",
       "      <td>2018-10-27 15:58:40</td>\n",
       "      <td>0.639 sec</td>\n",
       "      <td>27.0</td>\n",
       "      <td>0.326576</td>\n",
       "      <td>0.350248</td>\n",
       "      <td>0.817825</td>\n",
       "      <td>6.016123</td>\n",
       "      <td>0.193250</td>\n",
       "    </tr>\n",
       "    <tr>\n",
       "      <th>28</th>\n",
       "      <td></td>\n",
       "      <td>2018-10-27 15:58:40</td>\n",
       "      <td>0.675 sec</td>\n",
       "      <td>28.0</td>\n",
       "      <td>0.325944</td>\n",
       "      <td>0.349181</td>\n",
       "      <td>0.818912</td>\n",
       "      <td>6.016123</td>\n",
       "      <td>0.199801</td>\n",
       "    </tr>\n",
       "    <tr>\n",
       "      <th>29</th>\n",
       "      <td></td>\n",
       "      <td>2018-10-27 15:58:40</td>\n",
       "      <td>0.702 sec</td>\n",
       "      <td>29.0</td>\n",
       "      <td>0.324988</td>\n",
       "      <td>0.347425</td>\n",
       "      <td>0.821995</td>\n",
       "      <td>5.924969</td>\n",
       "      <td>0.196525</td>\n",
       "    </tr>\n",
       "    <tr>\n",
       "      <th>...</th>\n",
       "      <td>...</td>\n",
       "      <td>...</td>\n",
       "      <td>...</td>\n",
       "      <td>...</td>\n",
       "      <td>...</td>\n",
       "      <td>...</td>\n",
       "      <td>...</td>\n",
       "      <td>...</td>\n",
       "      <td>...</td>\n",
       "    </tr>\n",
       "    <tr>\n",
       "      <th>121</th>\n",
       "      <td></td>\n",
       "      <td>2018-10-27 15:58:42</td>\n",
       "      <td>3.234 sec</td>\n",
       "      <td>121.0</td>\n",
       "      <td>0.287784</td>\n",
       "      <td>0.281398</td>\n",
       "      <td>0.912689</td>\n",
       "      <td>6.471889</td>\n",
       "      <td>0.096981</td>\n",
       "    </tr>\n",
       "    <tr>\n",
       "      <th>122</th>\n",
       "      <td></td>\n",
       "      <td>2018-10-27 15:58:42</td>\n",
       "      <td>3.258 sec</td>\n",
       "      <td>122.0</td>\n",
       "      <td>0.287270</td>\n",
       "      <td>0.280637</td>\n",
       "      <td>0.913377</td>\n",
       "      <td>6.471889</td>\n",
       "      <td>0.092993</td>\n",
       "    </tr>\n",
       "    <tr>\n",
       "      <th>123</th>\n",
       "      <td></td>\n",
       "      <td>2018-10-27 15:58:42</td>\n",
       "      <td>3.285 sec</td>\n",
       "      <td>123.0</td>\n",
       "      <td>0.286930</td>\n",
       "      <td>0.280038</td>\n",
       "      <td>0.913940</td>\n",
       "      <td>6.471889</td>\n",
       "      <td>0.093848</td>\n",
       "    </tr>\n",
       "    <tr>\n",
       "      <th>124</th>\n",
       "      <td></td>\n",
       "      <td>2018-10-27 15:58:42</td>\n",
       "      <td>3.309 sec</td>\n",
       "      <td>124.0</td>\n",
       "      <td>0.286476</td>\n",
       "      <td>0.279234</td>\n",
       "      <td>0.915349</td>\n",
       "      <td>6.471889</td>\n",
       "      <td>0.092993</td>\n",
       "    </tr>\n",
       "    <tr>\n",
       "      <th>125</th>\n",
       "      <td></td>\n",
       "      <td>2018-10-27 15:58:42</td>\n",
       "      <td>3.336 sec</td>\n",
       "      <td>125.0</td>\n",
       "      <td>0.286396</td>\n",
       "      <td>0.279103</td>\n",
       "      <td>0.915457</td>\n",
       "      <td>6.471889</td>\n",
       "      <td>0.092993</td>\n",
       "    </tr>\n",
       "    <tr>\n",
       "      <th>126</th>\n",
       "      <td></td>\n",
       "      <td>2018-10-27 15:58:42</td>\n",
       "      <td>3.367 sec</td>\n",
       "      <td>126.0</td>\n",
       "      <td>0.286034</td>\n",
       "      <td>0.278548</td>\n",
       "      <td>0.916035</td>\n",
       "      <td>6.471889</td>\n",
       "      <td>0.094560</td>\n",
       "    </tr>\n",
       "    <tr>\n",
       "      <th>127</th>\n",
       "      <td></td>\n",
       "      <td>2018-10-27 15:58:42</td>\n",
       "      <td>3.401 sec</td>\n",
       "      <td>127.0</td>\n",
       "      <td>0.285501</td>\n",
       "      <td>0.277687</td>\n",
       "      <td>0.917129</td>\n",
       "      <td>6.471889</td>\n",
       "      <td>0.093705</td>\n",
       "    </tr>\n",
       "    <tr>\n",
       "      <th>128</th>\n",
       "      <td></td>\n",
       "      <td>2018-10-27 15:58:42</td>\n",
       "      <td>3.431 sec</td>\n",
       "      <td>128.0</td>\n",
       "      <td>0.285176</td>\n",
       "      <td>0.277209</td>\n",
       "      <td>0.917512</td>\n",
       "      <td>6.471889</td>\n",
       "      <td>0.093705</td>\n",
       "    </tr>\n",
       "    <tr>\n",
       "      <th>129</th>\n",
       "      <td></td>\n",
       "      <td>2018-10-27 15:58:42</td>\n",
       "      <td>3.457 sec</td>\n",
       "      <td>129.0</td>\n",
       "      <td>0.284908</td>\n",
       "      <td>0.276786</td>\n",
       "      <td>0.917925</td>\n",
       "      <td>6.471889</td>\n",
       "      <td>0.092139</td>\n",
       "    </tr>\n",
       "    <tr>\n",
       "      <th>130</th>\n",
       "      <td></td>\n",
       "      <td>2018-10-27 15:58:42</td>\n",
       "      <td>3.486 sec</td>\n",
       "      <td>130.0</td>\n",
       "      <td>0.284471</td>\n",
       "      <td>0.275920</td>\n",
       "      <td>0.919207</td>\n",
       "      <td>6.471889</td>\n",
       "      <td>0.090857</td>\n",
       "    </tr>\n",
       "    <tr>\n",
       "      <th>131</th>\n",
       "      <td></td>\n",
       "      <td>2018-10-27 15:58:42</td>\n",
       "      <td>3.511 sec</td>\n",
       "      <td>131.0</td>\n",
       "      <td>0.283901</td>\n",
       "      <td>0.274935</td>\n",
       "      <td>0.920638</td>\n",
       "      <td>6.471889</td>\n",
       "      <td>0.091000</td>\n",
       "    </tr>\n",
       "    <tr>\n",
       "      <th>132</th>\n",
       "      <td></td>\n",
       "      <td>2018-10-27 15:58:42</td>\n",
       "      <td>3.534 sec</td>\n",
       "      <td>132.0</td>\n",
       "      <td>0.283637</td>\n",
       "      <td>0.274511</td>\n",
       "      <td>0.920905</td>\n",
       "      <td>6.471889</td>\n",
       "      <td>0.091285</td>\n",
       "    </tr>\n",
       "    <tr>\n",
       "      <th>133</th>\n",
       "      <td></td>\n",
       "      <td>2018-10-27 15:58:43</td>\n",
       "      <td>3.556 sec</td>\n",
       "      <td>133.0</td>\n",
       "      <td>0.283516</td>\n",
       "      <td>0.274325</td>\n",
       "      <td>0.921074</td>\n",
       "      <td>6.471889</td>\n",
       "      <td>0.091427</td>\n",
       "    </tr>\n",
       "    <tr>\n",
       "      <th>134</th>\n",
       "      <td></td>\n",
       "      <td>2018-10-27 15:58:43</td>\n",
       "      <td>3.580 sec</td>\n",
       "      <td>134.0</td>\n",
       "      <td>0.283094</td>\n",
       "      <td>0.273628</td>\n",
       "      <td>0.921784</td>\n",
       "      <td>6.471889</td>\n",
       "      <td>0.089718</td>\n",
       "    </tr>\n",
       "    <tr>\n",
       "      <th>135</th>\n",
       "      <td></td>\n",
       "      <td>2018-10-27 15:58:43</td>\n",
       "      <td>3.605 sec</td>\n",
       "      <td>135.0</td>\n",
       "      <td>0.282395</td>\n",
       "      <td>0.272581</td>\n",
       "      <td>0.922809</td>\n",
       "      <td>6.471889</td>\n",
       "      <td>0.091712</td>\n",
       "    </tr>\n",
       "    <tr>\n",
       "      <th>136</th>\n",
       "      <td></td>\n",
       "      <td>2018-10-27 15:58:43</td>\n",
       "      <td>3.630 sec</td>\n",
       "      <td>136.0</td>\n",
       "      <td>0.281875</td>\n",
       "      <td>0.271794</td>\n",
       "      <td>0.923580</td>\n",
       "      <td>6.471889</td>\n",
       "      <td>0.086300</td>\n",
       "    </tr>\n",
       "    <tr>\n",
       "      <th>137</th>\n",
       "      <td></td>\n",
       "      <td>2018-10-27 15:58:43</td>\n",
       "      <td>3.656 sec</td>\n",
       "      <td>137.0</td>\n",
       "      <td>0.281365</td>\n",
       "      <td>0.270995</td>\n",
       "      <td>0.924390</td>\n",
       "      <td>6.471889</td>\n",
       "      <td>0.085873</td>\n",
       "    </tr>\n",
       "    <tr>\n",
       "      <th>138</th>\n",
       "      <td></td>\n",
       "      <td>2018-10-27 15:58:43</td>\n",
       "      <td>3.683 sec</td>\n",
       "      <td>138.0</td>\n",
       "      <td>0.281079</td>\n",
       "      <td>0.270550</td>\n",
       "      <td>0.924648</td>\n",
       "      <td>6.471889</td>\n",
       "      <td>0.090003</td>\n",
       "    </tr>\n",
       "    <tr>\n",
       "      <th>139</th>\n",
       "      <td></td>\n",
       "      <td>2018-10-27 15:58:43</td>\n",
       "      <td>3.709 sec</td>\n",
       "      <td>139.0</td>\n",
       "      <td>0.280385</td>\n",
       "      <td>0.269495</td>\n",
       "      <td>0.925817</td>\n",
       "      <td>6.471889</td>\n",
       "      <td>0.083879</td>\n",
       "    </tr>\n",
       "    <tr>\n",
       "      <th>140</th>\n",
       "      <td></td>\n",
       "      <td>2018-10-27 15:58:43</td>\n",
       "      <td>3.735 sec</td>\n",
       "      <td>140.0</td>\n",
       "      <td>0.280139</td>\n",
       "      <td>0.269127</td>\n",
       "      <td>0.926105</td>\n",
       "      <td>6.471889</td>\n",
       "      <td>0.083879</td>\n",
       "    </tr>\n",
       "    <tr>\n",
       "      <th>141</th>\n",
       "      <td></td>\n",
       "      <td>2018-10-27 15:58:43</td>\n",
       "      <td>3.763 sec</td>\n",
       "      <td>141.0</td>\n",
       "      <td>0.279744</td>\n",
       "      <td>0.268498</td>\n",
       "      <td>0.926762</td>\n",
       "      <td>6.471889</td>\n",
       "      <td>0.082455</td>\n",
       "    </tr>\n",
       "    <tr>\n",
       "      <th>142</th>\n",
       "      <td></td>\n",
       "      <td>2018-10-27 15:58:43</td>\n",
       "      <td>3.796 sec</td>\n",
       "      <td>142.0</td>\n",
       "      <td>0.279399</td>\n",
       "      <td>0.267926</td>\n",
       "      <td>0.927327</td>\n",
       "      <td>6.471889</td>\n",
       "      <td>0.082740</td>\n",
       "    </tr>\n",
       "    <tr>\n",
       "      <th>143</th>\n",
       "      <td></td>\n",
       "      <td>2018-10-27 15:58:43</td>\n",
       "      <td>3.824 sec</td>\n",
       "      <td>143.0</td>\n",
       "      <td>0.279094</td>\n",
       "      <td>0.267373</td>\n",
       "      <td>0.927892</td>\n",
       "      <td>6.471889</td>\n",
       "      <td>0.083025</td>\n",
       "    </tr>\n",
       "    <tr>\n",
       "      <th>144</th>\n",
       "      <td></td>\n",
       "      <td>2018-10-27 15:58:43</td>\n",
       "      <td>3.855 sec</td>\n",
       "      <td>144.0</td>\n",
       "      <td>0.278997</td>\n",
       "      <td>0.267206</td>\n",
       "      <td>0.928007</td>\n",
       "      <td>6.471889</td>\n",
       "      <td>0.082740</td>\n",
       "    </tr>\n",
       "    <tr>\n",
       "      <th>145</th>\n",
       "      <td></td>\n",
       "      <td>2018-10-27 15:58:43</td>\n",
       "      <td>3.887 sec</td>\n",
       "      <td>145.0</td>\n",
       "      <td>0.278521</td>\n",
       "      <td>0.266410</td>\n",
       "      <td>0.929104</td>\n",
       "      <td>6.471889</td>\n",
       "      <td>0.083025</td>\n",
       "    </tr>\n",
       "    <tr>\n",
       "      <th>146</th>\n",
       "      <td></td>\n",
       "      <td>2018-10-27 15:58:43</td>\n",
       "      <td>3.917 sec</td>\n",
       "      <td>146.0</td>\n",
       "      <td>0.278226</td>\n",
       "      <td>0.265949</td>\n",
       "      <td>0.929476</td>\n",
       "      <td>6.471889</td>\n",
       "      <td>0.086585</td>\n",
       "    </tr>\n",
       "    <tr>\n",
       "      <th>147</th>\n",
       "      <td></td>\n",
       "      <td>2018-10-27 15:58:43</td>\n",
       "      <td>3.946 sec</td>\n",
       "      <td>147.0</td>\n",
       "      <td>0.277879</td>\n",
       "      <td>0.265342</td>\n",
       "      <td>0.930100</td>\n",
       "      <td>6.471889</td>\n",
       "      <td>0.086443</td>\n",
       "    </tr>\n",
       "    <tr>\n",
       "      <th>148</th>\n",
       "      <td></td>\n",
       "      <td>2018-10-27 15:58:43</td>\n",
       "      <td>3.976 sec</td>\n",
       "      <td>148.0</td>\n",
       "      <td>0.277381</td>\n",
       "      <td>0.264541</td>\n",
       "      <td>0.931150</td>\n",
       "      <td>6.471889</td>\n",
       "      <td>0.085731</td>\n",
       "    </tr>\n",
       "    <tr>\n",
       "      <th>149</th>\n",
       "      <td></td>\n",
       "      <td>2018-10-27 15:58:43</td>\n",
       "      <td>4.002 sec</td>\n",
       "      <td>149.0</td>\n",
       "      <td>0.277164</td>\n",
       "      <td>0.264214</td>\n",
       "      <td>0.931562</td>\n",
       "      <td>6.471889</td>\n",
       "      <td>0.082882</td>\n",
       "    </tr>\n",
       "    <tr>\n",
       "      <th>150</th>\n",
       "      <td></td>\n",
       "      <td>2018-10-27 15:58:45</td>\n",
       "      <td>6.397 sec</td>\n",
       "      <td>500.0</td>\n",
       "      <td>0.175840</td>\n",
       "      <td>0.132744</td>\n",
       "      <td>0.997780</td>\n",
       "      <td>6.471889</td>\n",
       "      <td>0.012532</td>\n",
       "    </tr>\n",
       "  </tbody>\n",
       "</table>\n",
       "<p>151 rows × 9 columns</p>\n",
       "</div>"
      ],
      "text/plain": [
       "                  timestamp    duration  number_of_trees  training_rmse  \\\n",
       "0       2018-10-27 15:58:39   0.002 sec              0.0       0.361441   \n",
       "1       2018-10-27 15:58:39   0.019 sec              1.0       0.357848   \n",
       "2       2018-10-27 15:58:39   0.032 sec              2.0       0.354884   \n",
       "3       2018-10-27 15:58:39   0.045 sec              3.0       0.352141   \n",
       "4       2018-10-27 15:58:39   0.058 sec              4.0       0.349928   \n",
       "5       2018-10-27 15:58:39   0.071 sec              5.0       0.347969   \n",
       "6       2018-10-27 15:58:39   0.087 sec              6.0       0.346292   \n",
       "7       2018-10-27 15:58:39   0.105 sec              7.0       0.344681   \n",
       "8       2018-10-27 15:58:39   0.124 sec              8.0       0.343033   \n",
       "9       2018-10-27 15:58:39   0.145 sec              9.0       0.341797   \n",
       "10      2018-10-27 15:58:39   0.167 sec             10.0       0.340598   \n",
       "11      2018-10-27 15:58:39   0.190 sec             11.0       0.339440   \n",
       "12      2018-10-27 15:58:39   0.215 sec             12.0       0.338495   \n",
       "13      2018-10-27 15:58:39   0.242 sec             13.0       0.337365   \n",
       "14      2018-10-27 15:58:39   0.271 sec             14.0       0.336215   \n",
       "15      2018-10-27 15:58:39   0.296 sec             15.0       0.335310   \n",
       "16      2018-10-27 15:58:39   0.320 sec             16.0       0.334366   \n",
       "17      2018-10-27 15:58:39   0.347 sec             17.0       0.333304   \n",
       "18      2018-10-27 15:58:39   0.373 sec             18.0       0.332535   \n",
       "19      2018-10-27 15:58:39   0.399 sec             19.0       0.331701   \n",
       "20      2018-10-27 15:58:39   0.427 sec             20.0       0.330939   \n",
       "21      2018-10-27 15:58:39   0.457 sec             21.0       0.330278   \n",
       "22      2018-10-27 15:58:39   0.488 sec             22.0       0.329631   \n",
       "23      2018-10-27 15:58:39   0.517 sec             23.0       0.328633   \n",
       "24      2018-10-27 15:58:40   0.546 sec             24.0       0.328035   \n",
       "25      2018-10-27 15:58:40   0.574 sec             25.0       0.327411   \n",
       "26      2018-10-27 15:58:40   0.604 sec             26.0       0.326791   \n",
       "27      2018-10-27 15:58:40   0.639 sec             27.0       0.326576   \n",
       "28      2018-10-27 15:58:40   0.675 sec             28.0       0.325944   \n",
       "29      2018-10-27 15:58:40   0.702 sec             29.0       0.324988   \n",
       "..  ..                  ...         ...              ...            ...   \n",
       "121     2018-10-27 15:58:42   3.234 sec            121.0       0.287784   \n",
       "122     2018-10-27 15:58:42   3.258 sec            122.0       0.287270   \n",
       "123     2018-10-27 15:58:42   3.285 sec            123.0       0.286930   \n",
       "124     2018-10-27 15:58:42   3.309 sec            124.0       0.286476   \n",
       "125     2018-10-27 15:58:42   3.336 sec            125.0       0.286396   \n",
       "126     2018-10-27 15:58:42   3.367 sec            126.0       0.286034   \n",
       "127     2018-10-27 15:58:42   3.401 sec            127.0       0.285501   \n",
       "128     2018-10-27 15:58:42   3.431 sec            128.0       0.285176   \n",
       "129     2018-10-27 15:58:42   3.457 sec            129.0       0.284908   \n",
       "130     2018-10-27 15:58:42   3.486 sec            130.0       0.284471   \n",
       "131     2018-10-27 15:58:42   3.511 sec            131.0       0.283901   \n",
       "132     2018-10-27 15:58:42   3.534 sec            132.0       0.283637   \n",
       "133     2018-10-27 15:58:43   3.556 sec            133.0       0.283516   \n",
       "134     2018-10-27 15:58:43   3.580 sec            134.0       0.283094   \n",
       "135     2018-10-27 15:58:43   3.605 sec            135.0       0.282395   \n",
       "136     2018-10-27 15:58:43   3.630 sec            136.0       0.281875   \n",
       "137     2018-10-27 15:58:43   3.656 sec            137.0       0.281365   \n",
       "138     2018-10-27 15:58:43   3.683 sec            138.0       0.281079   \n",
       "139     2018-10-27 15:58:43   3.709 sec            139.0       0.280385   \n",
       "140     2018-10-27 15:58:43   3.735 sec            140.0       0.280139   \n",
       "141     2018-10-27 15:58:43   3.763 sec            141.0       0.279744   \n",
       "142     2018-10-27 15:58:43   3.796 sec            142.0       0.279399   \n",
       "143     2018-10-27 15:58:43   3.824 sec            143.0       0.279094   \n",
       "144     2018-10-27 15:58:43   3.855 sec            144.0       0.278997   \n",
       "145     2018-10-27 15:58:43   3.887 sec            145.0       0.278521   \n",
       "146     2018-10-27 15:58:43   3.917 sec            146.0       0.278226   \n",
       "147     2018-10-27 15:58:43   3.946 sec            147.0       0.277879   \n",
       "148     2018-10-27 15:58:43   3.976 sec            148.0       0.277381   \n",
       "149     2018-10-27 15:58:43   4.002 sec            149.0       0.277164   \n",
       "150     2018-10-27 15:58:45   6.397 sec            500.0       0.175840   \n",
       "\n",
       "     training_logloss  training_auc  training_lift  \\\n",
       "0            0.430460      0.500000       1.000000   \n",
       "1            0.421004      0.729070       3.404483   \n",
       "2            0.413501      0.745189       3.775269   \n",
       "3            0.406905      0.752739       5.013435   \n",
       "4            0.401669      0.754323       5.013435   \n",
       "5            0.397059      0.758951       5.104589   \n",
       "6            0.393139      0.762177       5.195742   \n",
       "7            0.389555      0.764722       5.286896   \n",
       "8            0.385961      0.770065       5.195742   \n",
       "9            0.383101      0.773265       5.286896   \n",
       "10           0.380462      0.776110       5.195742   \n",
       "11           0.377888      0.779925       5.195742   \n",
       "12           0.375724      0.782257       5.195742   \n",
       "13           0.373260      0.785789       5.378049   \n",
       "14           0.370775      0.789583       5.469202   \n",
       "15           0.368874      0.791529       5.469202   \n",
       "16           0.366742      0.795034       5.469202   \n",
       "17           0.364713      0.797324       5.560356   \n",
       "18           0.362948      0.800543       5.560356   \n",
       "19           0.361117      0.803452       5.560356   \n",
       "20           0.359414      0.805589       5.560356   \n",
       "21           0.358026      0.807448       5.742662   \n",
       "22           0.356568      0.809412       5.742662   \n",
       "23           0.354772      0.811986       5.924969   \n",
       "24           0.353503      0.813585       5.924969   \n",
       "25           0.352138      0.815477       5.924969   \n",
       "26           0.350823      0.817098       6.016123   \n",
       "27           0.350248      0.817825       6.016123   \n",
       "28           0.349181      0.818912       6.016123   \n",
       "29           0.347425      0.821995       5.924969   \n",
       "..                ...           ...            ...   \n",
       "121          0.281398      0.912689       6.471889   \n",
       "122          0.280637      0.913377       6.471889   \n",
       "123          0.280038      0.913940       6.471889   \n",
       "124          0.279234      0.915349       6.471889   \n",
       "125          0.279103      0.915457       6.471889   \n",
       "126          0.278548      0.916035       6.471889   \n",
       "127          0.277687      0.917129       6.471889   \n",
       "128          0.277209      0.917512       6.471889   \n",
       "129          0.276786      0.917925       6.471889   \n",
       "130          0.275920      0.919207       6.471889   \n",
       "131          0.274935      0.920638       6.471889   \n",
       "132          0.274511      0.920905       6.471889   \n",
       "133          0.274325      0.921074       6.471889   \n",
       "134          0.273628      0.921784       6.471889   \n",
       "135          0.272581      0.922809       6.471889   \n",
       "136          0.271794      0.923580       6.471889   \n",
       "137          0.270995      0.924390       6.471889   \n",
       "138          0.270550      0.924648       6.471889   \n",
       "139          0.269495      0.925817       6.471889   \n",
       "140          0.269127      0.926105       6.471889   \n",
       "141          0.268498      0.926762       6.471889   \n",
       "142          0.267926      0.927327       6.471889   \n",
       "143          0.267373      0.927892       6.471889   \n",
       "144          0.267206      0.928007       6.471889   \n",
       "145          0.266410      0.929104       6.471889   \n",
       "146          0.265949      0.929476       6.471889   \n",
       "147          0.265342      0.930100       6.471889   \n",
       "148          0.264541      0.931150       6.471889   \n",
       "149          0.264214      0.931562       6.471889   \n",
       "150          0.132744      0.997780       6.471889   \n",
       "\n",
       "     training_classification_error  \n",
       "0                         0.845486  \n",
       "1                         0.261322  \n",
       "2                         0.238821  \n",
       "3                         0.224153  \n",
       "4                         0.200940  \n",
       "5                         0.219311  \n",
       "6                         0.205639  \n",
       "7                         0.193535  \n",
       "8                         0.201510  \n",
       "9                         0.207776  \n",
       "10                        0.196952  \n",
       "11                        0.238536  \n",
       "12                        0.232270  \n",
       "13                        0.235545  \n",
       "14                        0.191256  \n",
       "15                        0.188123  \n",
       "16                        0.186984  \n",
       "17                        0.181430  \n",
       "18                        0.180860  \n",
       "19                        0.181430  \n",
       "20                        0.179151  \n",
       "21                        0.179436  \n",
       "22                        0.177300  \n",
       "23                        0.178439  \n",
       "24                        0.177870  \n",
       "25                        0.201652  \n",
       "26                        0.204073  \n",
       "27                        0.193250  \n",
       "28                        0.199801  \n",
       "29                        0.196525  \n",
       "..                             ...  \n",
       "121                       0.096981  \n",
       "122                       0.092993  \n",
       "123                       0.093848  \n",
       "124                       0.092993  \n",
       "125                       0.092993  \n",
       "126                       0.094560  \n",
       "127                       0.093705  \n",
       "128                       0.093705  \n",
       "129                       0.092139  \n",
       "130                       0.090857  \n",
       "131                       0.091000  \n",
       "132                       0.091285  \n",
       "133                       0.091427  \n",
       "134                       0.089718  \n",
       "135                       0.091712  \n",
       "136                       0.086300  \n",
       "137                       0.085873  \n",
       "138                       0.090003  \n",
       "139                       0.083879  \n",
       "140                       0.083879  \n",
       "141                       0.082455  \n",
       "142                       0.082740  \n",
       "143                       0.083025  \n",
       "144                       0.082740  \n",
       "145                       0.083025  \n",
       "146                       0.086585  \n",
       "147                       0.086443  \n",
       "148                       0.085731  \n",
       "149                       0.082882  \n",
       "150                       0.012532  \n",
       "\n",
       "[151 rows x 9 columns]"
      ]
     },
     "execution_count": 100,
     "metadata": {},
     "output_type": "execute_result"
    }
   ],
   "source": [
    "gbm_fit2.scoring_history()"
   ]
  },
  {
   "cell_type": "code",
   "execution_count": 101,
   "metadata": {},
   "outputs": [
    {
     "data": {
      "text/html": [
       "<div>\n",
       "<style scoped>\n",
       "    .dataframe tbody tr th:only-of-type {\n",
       "        vertical-align: middle;\n",
       "    }\n",
       "\n",
       "    .dataframe tbody tr th {\n",
       "        vertical-align: top;\n",
       "    }\n",
       "\n",
       "    .dataframe thead th {\n",
       "        text-align: right;\n",
       "    }\n",
       "</style>\n",
       "<table border=\"1\" class=\"dataframe\">\n",
       "  <thead>\n",
       "    <tr style=\"text-align: right;\">\n",
       "      <th></th>\n",
       "      <th></th>\n",
       "      <th>timestamp</th>\n",
       "      <th>duration</th>\n",
       "      <th>number_of_trees</th>\n",
       "      <th>training_rmse</th>\n",
       "      <th>training_logloss</th>\n",
       "      <th>training_auc</th>\n",
       "      <th>training_lift</th>\n",
       "      <th>training_classification_error</th>\n",
       "      <th>validation_rmse</th>\n",
       "      <th>validation_logloss</th>\n",
       "      <th>validation_auc</th>\n",
       "      <th>validation_lift</th>\n",
       "      <th>validation_classification_error</th>\n",
       "    </tr>\n",
       "  </thead>\n",
       "  <tbody>\n",
       "    <tr>\n",
       "      <th>0</th>\n",
       "      <td></td>\n",
       "      <td>2018-10-27 15:58:46</td>\n",
       "      <td>0.002 sec</td>\n",
       "      <td>0.0</td>\n",
       "      <td>0.361441</td>\n",
       "      <td>0.430460</td>\n",
       "      <td>0.500000</td>\n",
       "      <td>1.000000</td>\n",
       "      <td>0.845486</td>\n",
       "      <td>0.376926</td>\n",
       "      <td>0.458584</td>\n",
       "      <td>0.500000</td>\n",
       "      <td>1.000000</td>\n",
       "      <td>0.828938</td>\n",
       "    </tr>\n",
       "    <tr>\n",
       "      <th>1</th>\n",
       "      <td></td>\n",
       "      <td>2018-10-27 15:58:46</td>\n",
       "      <td>0.053 sec</td>\n",
       "      <td>5.0</td>\n",
       "      <td>0.347969</td>\n",
       "      <td>0.397059</td>\n",
       "      <td>0.758951</td>\n",
       "      <td>5.104589</td>\n",
       "      <td>0.219311</td>\n",
       "      <td>0.370770</td>\n",
       "      <td>0.441858</td>\n",
       "      <td>0.656979</td>\n",
       "      <td>1.558893</td>\n",
       "      <td>0.335362</td>\n",
       "    </tr>\n",
       "    <tr>\n",
       "      <th>2</th>\n",
       "      <td></td>\n",
       "      <td>2018-10-27 15:58:46</td>\n",
       "      <td>0.110 sec</td>\n",
       "      <td>10.0</td>\n",
       "      <td>0.340598</td>\n",
       "      <td>0.380462</td>\n",
       "      <td>0.776110</td>\n",
       "      <td>5.195742</td>\n",
       "      <td>0.196952</td>\n",
       "      <td>0.369379</td>\n",
       "      <td>0.437963</td>\n",
       "      <td>0.659873</td>\n",
       "      <td>1.558893</td>\n",
       "      <td>0.354293</td>\n",
       "    </tr>\n",
       "    <tr>\n",
       "      <th>3</th>\n",
       "      <td></td>\n",
       "      <td>2018-10-27 15:58:46</td>\n",
       "      <td>0.168 sec</td>\n",
       "      <td>15.0</td>\n",
       "      <td>0.335310</td>\n",
       "      <td>0.368874</td>\n",
       "      <td>0.791529</td>\n",
       "      <td>5.469202</td>\n",
       "      <td>0.188123</td>\n",
       "      <td>0.368600</td>\n",
       "      <td>0.435699</td>\n",
       "      <td>0.666454</td>\n",
       "      <td>1.558893</td>\n",
       "      <td>0.363759</td>\n",
       "    </tr>\n",
       "    <tr>\n",
       "      <th>4</th>\n",
       "      <td></td>\n",
       "      <td>2018-10-27 15:58:46</td>\n",
       "      <td>0.226 sec</td>\n",
       "      <td>20.0</td>\n",
       "      <td>0.330939</td>\n",
       "      <td>0.359414</td>\n",
       "      <td>0.805589</td>\n",
       "      <td>5.560356</td>\n",
       "      <td>0.179151</td>\n",
       "      <td>0.368325</td>\n",
       "      <td>0.435150</td>\n",
       "      <td>0.667634</td>\n",
       "      <td>1.558893</td>\n",
       "      <td>0.377958</td>\n",
       "    </tr>\n",
       "    <tr>\n",
       "      <th>5</th>\n",
       "      <td></td>\n",
       "      <td>2018-10-27 15:58:46</td>\n",
       "      <td>0.289 sec</td>\n",
       "      <td>25.0</td>\n",
       "      <td>0.327411</td>\n",
       "      <td>0.352138</td>\n",
       "      <td>0.815477</td>\n",
       "      <td>5.924969</td>\n",
       "      <td>0.201652</td>\n",
       "      <td>0.368356</td>\n",
       "      <td>0.435506</td>\n",
       "      <td>0.667367</td>\n",
       "      <td>1.558893</td>\n",
       "      <td>0.369844</td>\n",
       "    </tr>\n",
       "    <tr>\n",
       "      <th>6</th>\n",
       "      <td></td>\n",
       "      <td>2018-10-27 15:58:46</td>\n",
       "      <td>0.348 sec</td>\n",
       "      <td>30.0</td>\n",
       "      <td>0.324154</td>\n",
       "      <td>0.345907</td>\n",
       "      <td>0.824730</td>\n",
       "      <td>6.107276</td>\n",
       "      <td>0.193107</td>\n",
       "      <td>0.368438</td>\n",
       "      <td>0.436342</td>\n",
       "      <td>0.664921</td>\n",
       "      <td>1.558893</td>\n",
       "      <td>0.371873</td>\n",
       "    </tr>\n",
       "    <tr>\n",
       "      <th>7</th>\n",
       "      <td></td>\n",
       "      <td>2018-10-27 15:58:46</td>\n",
       "      <td>0.401 sec</td>\n",
       "      <td>35.0</td>\n",
       "      <td>0.321850</td>\n",
       "      <td>0.341069</td>\n",
       "      <td>0.831953</td>\n",
       "      <td>6.107276</td>\n",
       "      <td>0.163486</td>\n",
       "      <td>0.368239</td>\n",
       "      <td>0.435829</td>\n",
       "      <td>0.668100</td>\n",
       "      <td>1.948617</td>\n",
       "      <td>0.379310</td>\n",
       "    </tr>\n",
       "    <tr>\n",
       "      <th>8</th>\n",
       "      <td></td>\n",
       "      <td>2018-10-27 15:58:46</td>\n",
       "      <td>0.454 sec</td>\n",
       "      <td>40.0</td>\n",
       "      <td>0.319485</td>\n",
       "      <td>0.336547</td>\n",
       "      <td>0.839144</td>\n",
       "      <td>6.107276</td>\n",
       "      <td>0.178866</td>\n",
       "      <td>0.368443</td>\n",
       "      <td>0.436340</td>\n",
       "      <td>0.667867</td>\n",
       "      <td>1.948617</td>\n",
       "      <td>0.373901</td>\n",
       "    </tr>\n",
       "  </tbody>\n",
       "</table>\n",
       "</div>"
      ],
      "text/plain": [
       "               timestamp    duration  number_of_trees  training_rmse  \\\n",
       "0    2018-10-27 15:58:46   0.002 sec              0.0       0.361441   \n",
       "1    2018-10-27 15:58:46   0.053 sec              5.0       0.347969   \n",
       "2    2018-10-27 15:58:46   0.110 sec             10.0       0.340598   \n",
       "3    2018-10-27 15:58:46   0.168 sec             15.0       0.335310   \n",
       "4    2018-10-27 15:58:46   0.226 sec             20.0       0.330939   \n",
       "5    2018-10-27 15:58:46   0.289 sec             25.0       0.327411   \n",
       "6    2018-10-27 15:58:46   0.348 sec             30.0       0.324154   \n",
       "7    2018-10-27 15:58:46   0.401 sec             35.0       0.321850   \n",
       "8    2018-10-27 15:58:46   0.454 sec             40.0       0.319485   \n",
       "\n",
       "   training_logloss  training_auc  training_lift  \\\n",
       "0          0.430460      0.500000       1.000000   \n",
       "1          0.397059      0.758951       5.104589   \n",
       "2          0.380462      0.776110       5.195742   \n",
       "3          0.368874      0.791529       5.469202   \n",
       "4          0.359414      0.805589       5.560356   \n",
       "5          0.352138      0.815477       5.924969   \n",
       "6          0.345907      0.824730       6.107276   \n",
       "7          0.341069      0.831953       6.107276   \n",
       "8          0.336547      0.839144       6.107276   \n",
       "\n",
       "   training_classification_error  validation_rmse  validation_logloss  \\\n",
       "0                       0.845486         0.376926            0.458584   \n",
       "1                       0.219311         0.370770            0.441858   \n",
       "2                       0.196952         0.369379            0.437963   \n",
       "3                       0.188123         0.368600            0.435699   \n",
       "4                       0.179151         0.368325            0.435150   \n",
       "5                       0.201652         0.368356            0.435506   \n",
       "6                       0.193107         0.368438            0.436342   \n",
       "7                       0.163486         0.368239            0.435829   \n",
       "8                       0.178866         0.368443            0.436340   \n",
       "\n",
       "   validation_auc  validation_lift  validation_classification_error  \n",
       "0        0.500000         1.000000                         0.828938  \n",
       "1        0.656979         1.558893                         0.335362  \n",
       "2        0.659873         1.558893                         0.354293  \n",
       "3        0.666454         1.558893                         0.363759  \n",
       "4        0.667634         1.558893                         0.377958  \n",
       "5        0.667367         1.558893                         0.369844  \n",
       "6        0.664921         1.558893                         0.371873  \n",
       "7        0.668100         1.948617                         0.379310  \n",
       "8        0.667867         1.948617                         0.373901  "
      ]
     },
     "execution_count": 101,
     "metadata": {},
     "output_type": "execute_result"
    }
   ],
   "source": [
    "gbm_fit3.scoring_history()"
   ]
  },
  {
   "cell_type": "code",
   "execution_count": 222,
   "metadata": {},
   "outputs": [
    {
     "data": {
      "text/plain": [
       "<matplotlib.axes._subplots.AxesSubplot at 0x20d87c8bdd8>"
      ]
     },
     "execution_count": 222,
     "metadata": {},
     "output_type": "execute_result"
    },
    {
     "data": {
      "image/png": "[encoded data removed]",
      "text/plain": [
       "<matplotlib.figure.Figure at 0x20d87c8bef0>"
      ]
     },
     "metadata": {},
     "output_type": "display_data"
    }
   ],
   "source": [
    "#GAINS LIFT CHART-\n",
    "# Gain and Lift charts are used to evaluate performance of classification model. \n",
    "# They measure how much better one can expect to do with the predictive model \n",
    "# comparing without a model. It's a very popular metrics in marketing analytics.\n",
    "gl_r=gbm_fit3.gains_lift().as_data_frame()\n",
    "gl_r[['cumulative_gain','cumulative_lift']].plot(marker='o')"
   ]
  },
  {
   "cell_type": "markdown",
   "metadata": {},
   "source": [
    "# DeepLearningEstimator"
   ]
  },
  {
   "cell_type": "code",
   "execution_count": 102,
   "metadata": {},
   "outputs": [],
   "source": [
    "# Import H2O DL:\n",
    "from h2o.estimators.deeplearning import H2ODeepLearningEstimator"
   ]
  },
  {
   "cell_type": "code",
   "execution_count": 103,
   "metadata": {},
   "outputs": [
    {
     "name": "stdout",
     "output_type": "stream",
     "text": [
      "deeplearning Model Build progress: |██████████████████████████████████████| 100%\n"
     ]
    }
   ],
   "source": [
    "# Initialize and train the DL estimator:\n",
    "\n",
    "dl_fit1 = H2ODeepLearningEstimator(model_id='dl_fit1', seed=1)\n",
    "dl_fit1.train(x=x, y=y, training_frame=train)"
   ]
  },
  {
   "cell_type": "code",
   "execution_count": 104,
   "metadata": {},
   "outputs": [
    {
     "name": "stdout",
     "output_type": "stream",
     "text": [
      "deeplearning Model Build progress: |██████████████████████████████████████| 100%\n"
     ]
    }
   ],
   "source": [
    "dl_fit2 = H2ODeepLearningEstimator(model_id='dl_fit2', \n",
    "                                   epochs=20, \n",
    "                                   hidden=[10,10], \n",
    "                                   stopping_rounds=0,  #disable early stopping\n",
    "                                   seed=1)\n",
    "dl_fit2.train(x=x, y=y, training_frame=train)"
   ]
  },
  {
   "cell_type": "code",
   "execution_count": 105,
   "metadata": {},
   "outputs": [
    {
     "name": "stdout",
     "output_type": "stream",
     "text": [
      "deeplearning Model Build progress: |██████████████████████████████████████| 100%\n"
     ]
    }
   ],
   "source": [
    "dl_fit3 = H2ODeepLearningEstimator(model_id='dl_fit3', \n",
    "                                   epochs=20, \n",
    "                                   hidden=[10,10],\n",
    "                                   score_interval=1,          #used for early stopping\n",
    "                                   stopping_rounds=3,         #used for early stopping\n",
    "                                   stopping_metric='AUC',     #used for early stopping\n",
    "                                   stopping_tolerance=0.0005, #used for early stopping\n",
    "                                   seed=1)\n",
    "dl_fit3.train(x=x, y=y, training_frame=train, validation_frame=valid)"
   ]
  },
  {
   "cell_type": "code",
   "execution_count": 106,
   "metadata": {},
   "outputs": [],
   "source": [
    "dl_perf1 = dl_fit1.model_performance(test)\n",
    "dl_perf2 = dl_fit2.model_performance(test)\n",
    "dl_perf3 = dl_fit3.model_performance(test)"
   ]
  },
  {
   "cell_type": "code",
   "execution_count": 107,
   "metadata": {},
   "outputs": [
    {
     "name": "stdout",
     "output_type": "stream",
     "text": [
      "0.6745466599770642\n",
      "0.6768312786697248\n",
      "0.6694559919724771\n"
     ]
    }
   ],
   "source": [
    "# Retreive test set AUC\n",
    "print(dl_perf1.auc())\n",
    "print(dl_perf2.auc())\n",
    "print(dl_perf3.auc())"
   ]
  },
  {
   "cell_type": "code",
   "execution_count": 108,
   "metadata": {},
   "outputs": [
    {
     "data": {
      "text/html": [
       "<div>\n",
       "<style scoped>\n",
       "    .dataframe tbody tr th:only-of-type {\n",
       "        vertical-align: middle;\n",
       "    }\n",
       "\n",
       "    .dataframe tbody tr th {\n",
       "        vertical-align: top;\n",
       "    }\n",
       "\n",
       "    .dataframe thead th {\n",
       "        text-align: right;\n",
       "    }\n",
       "</style>\n",
       "<table border=\"1\" class=\"dataframe\">\n",
       "  <thead>\n",
       "    <tr style=\"text-align: right;\">\n",
       "      <th></th>\n",
       "      <th></th>\n",
       "      <th>timestamp</th>\n",
       "      <th>duration</th>\n",
       "      <th>training_speed</th>\n",
       "      <th>epochs</th>\n",
       "      <th>iterations</th>\n",
       "      <th>samples</th>\n",
       "      <th>training_rmse</th>\n",
       "      <th>training_logloss</th>\n",
       "      <th>training_auc</th>\n",
       "      <th>training_lift</th>\n",
       "      <th>training_classification_error</th>\n",
       "      <th>validation_rmse</th>\n",
       "      <th>validation_logloss</th>\n",
       "      <th>validation_auc</th>\n",
       "      <th>validation_lift</th>\n",
       "      <th>validation_classification_error</th>\n",
       "    </tr>\n",
       "  </thead>\n",
       "  <tbody>\n",
       "    <tr>\n",
       "      <th>0</th>\n",
       "      <td></td>\n",
       "      <td>2018-10-27 15:58:55</td>\n",
       "      <td>0.000 sec</td>\n",
       "      <td>None</td>\n",
       "      <td>0.0</td>\n",
       "      <td>0</td>\n",
       "      <td>0.0</td>\n",
       "      <td>NaN</td>\n",
       "      <td>NaN</td>\n",
       "      <td>NaN</td>\n",
       "      <td>NaN</td>\n",
       "      <td>NaN</td>\n",
       "      <td>NaN</td>\n",
       "      <td>NaN</td>\n",
       "      <td>NaN</td>\n",
       "      <td>NaN</td>\n",
       "      <td>NaN</td>\n",
       "    </tr>\n",
       "    <tr>\n",
       "      <th>1</th>\n",
       "      <td></td>\n",
       "      <td>2018-10-27 15:58:55</td>\n",
       "      <td>0.133 sec</td>\n",
       "      <td>184789 obs/sec</td>\n",
       "      <td>2.0</td>\n",
       "      <td>1</td>\n",
       "      <td>14044.0</td>\n",
       "      <td>0.354765</td>\n",
       "      <td>0.416804</td>\n",
       "      <td>0.661059</td>\n",
       "      <td>2.187681</td>\n",
       "      <td>0.264027</td>\n",
       "      <td>0.373460</td>\n",
       "      <td>0.452837</td>\n",
       "      <td>0.638088</td>\n",
       "      <td>3.117787</td>\n",
       "      <td>0.399594</td>\n",
       "    </tr>\n",
       "    <tr>\n",
       "      <th>2</th>\n",
       "      <td></td>\n",
       "      <td>2018-10-27 15:58:56</td>\n",
       "      <td>0.837 sec</td>\n",
       "      <td>189783 obs/sec</td>\n",
       "      <td>20.0</td>\n",
       "      <td>10</td>\n",
       "      <td>140440.0</td>\n",
       "      <td>0.346297</td>\n",
       "      <td>0.391309</td>\n",
       "      <td>0.716221</td>\n",
       "      <td>4.193055</td>\n",
       "      <td>0.322273</td>\n",
       "      <td>0.370795</td>\n",
       "      <td>0.442040</td>\n",
       "      <td>0.659821</td>\n",
       "      <td>1.948617</td>\n",
       "      <td>0.389452</td>\n",
       "    </tr>\n",
       "  </tbody>\n",
       "</table>\n",
       "</div>"
      ],
      "text/plain": [
       "               timestamp    duration  training_speed  epochs  iterations  \\\n",
       "0    2018-10-27 15:58:55   0.000 sec            None     0.0           0   \n",
       "1    2018-10-27 15:58:55   0.133 sec  184789 obs/sec     2.0           1   \n",
       "2    2018-10-27 15:58:56   0.837 sec  189783 obs/sec    20.0          10   \n",
       "\n",
       "    samples  training_rmse  training_logloss  training_auc  training_lift  \\\n",
       "0       0.0            NaN               NaN           NaN            NaN   \n",
       "1   14044.0       0.354765          0.416804      0.661059       2.187681   \n",
       "2  140440.0       0.346297          0.391309      0.716221       4.193055   \n",
       "\n",
       "   training_classification_error  validation_rmse  validation_logloss  \\\n",
       "0                            NaN              NaN                 NaN   \n",
       "1                       0.264027         0.373460            0.452837   \n",
       "2                       0.322273         0.370795            0.442040   \n",
       "\n",
       "   validation_auc  validation_lift  validation_classification_error  \n",
       "0             NaN              NaN                              NaN  \n",
       "1        0.638088         3.117787                         0.399594  \n",
       "2        0.659821         1.948617                         0.389452  "
      ]
     },
     "execution_count": 108,
     "metadata": {},
     "output_type": "execute_result"
    }
   ],
   "source": [
    "dl_fit3.scoring_history()"
   ]
  },
  {
   "cell_type": "code",
   "execution_count": 109,
   "metadata": {},
   "outputs": [],
   "source": [
    "# Import H2O NB:\n",
    "from h2o.estimators.naive_bayes import H2ONaiveBayesEstimator"
   ]
  },
  {
   "cell_type": "code",
   "execution_count": 110,
   "metadata": {},
   "outputs": [
    {
     "name": "stdout",
     "output_type": "stream",
     "text": [
      "naivebayes Model Build progress: |████████████████████████████████████████| 100%\n"
     ]
    }
   ],
   "source": [
    "# Initialize and train the NB estimator:\n",
    "\n",
    "nb_fit1 = H2ONaiveBayesEstimator(model_id='nb_fit1')\n",
    "nb_fit1.train(x=x, y=y, training_frame=train)"
   ]
  },
  {
   "cell_type": "code",
   "execution_count": 111,
   "metadata": {},
   "outputs": [
    {
     "name": "stdout",
     "output_type": "stream",
     "text": [
      "naivebayes Model Build progress: |████████████████████████████████████████| 100%\n"
     ]
    }
   ],
   "source": [
    "nb_fit2 = H2ONaiveBayesEstimator(model_id='nb_fit2', laplace=6)\n",
    "nb_fit2.train(x=x, y=y, training_frame=train)"
   ]
  },
  {
   "cell_type": "code",
   "execution_count": 112,
   "metadata": {},
   "outputs": [],
   "source": [
    "nb_perf1 = nb_fit1.model_performance(test)\n",
    "nb_perf2 = nb_fit2.model_performance(test)"
   ]
  },
  {
   "cell_type": "code",
   "execution_count": 113,
   "metadata": {},
   "outputs": [
    {
     "name": "stdout",
     "output_type": "stream",
     "text": [
      "0.6562661267201835\n",
      "0.6562661267201835\n"
     ]
    }
   ],
   "source": [
    "# Retreive test set AUC\n",
    "print(nb_perf1.auc())\n",
    "print(nb_perf2.auc())"
   ]
  },
  {
   "cell_type": "markdown",
   "metadata": {},
   "source": [
    "# Binary Classification with AutoML"
   ]
  },
  {
   "cell_type": "code",
   "execution_count": 114,
   "metadata": {},
   "outputs": [
    {
     "name": "stdout",
     "output_type": "stream",
     "text": [
      "Checking whether there is an H2O instance running at http://localhost:54321. connected.\n",
      "Warning: Your H2O cluster version is too old (7 months and 19 days)! Please download and install the latest version from http://h2o.ai/download/\n"
     ]
    },
    {
     "data": {
      "text/html": [
       "<div style=\"overflow:auto\"><table style=\"width:50%\"><tr><td>H2O cluster uptime:</td>\n",
       "<td>47 secs</td></tr>\n",
       "<tr><td>H2O cluster timezone:</td>\n",
       "<td>America/New_York</td></tr>\n",
       "<tr><td>H2O data parsing timezone:</td>\n",
       "<td>UTC</td></tr>\n",
       "<tr><td>H2O cluster version:</td>\n",
       "<td>3.18.0.2</td></tr>\n",
       "<tr><td>H2O cluster version age:</td>\n",
       "<td>7 months and 19 days !!!</td></tr>\n",
       "<tr><td>H2O cluster name:</td>\n",
       "<td>H2O_from_python_ritua_osb0ic</td></tr>\n",
       "<tr><td>H2O cluster total nodes:</td>\n",
       "<td>1</td></tr>\n",
       "<tr><td>H2O cluster free memory:</td>\n",
       "<td>7.040 Gb</td></tr>\n",
       "<tr><td>H2O cluster total cores:</td>\n",
       "<td>8</td></tr>\n",
       "<tr><td>H2O cluster allowed cores:</td>\n",
       "<td>8</td></tr>\n",
       "<tr><td>H2O cluster status:</td>\n",
       "<td>locked, healthy</td></tr>\n",
       "<tr><td>H2O connection url:</td>\n",
       "<td>http://localhost:54321</td></tr>\n",
       "<tr><td>H2O connection proxy:</td>\n",
       "<td>None</td></tr>\n",
       "<tr><td>H2O internal security:</td>\n",
       "<td>False</td></tr>\n",
       "<tr><td>H2O API Extensions:</td>\n",
       "<td>Algos, AutoML, Core V3, Core V4</td></tr>\n",
       "<tr><td>Python version:</td>\n",
       "<td>3.6.4 final</td></tr></table></div>"
      ],
      "text/plain": [
       "--------------------------  -------------------------------\n",
       "H2O cluster uptime:         47 secs\n",
       "H2O cluster timezone:       America/New_York\n",
       "H2O data parsing timezone:  UTC\n",
       "H2O cluster version:        3.18.0.2\n",
       "H2O cluster version age:    7 months and 19 days !!!\n",
       "H2O cluster name:           H2O_from_python_ritua_osb0ic\n",
       "H2O cluster total nodes:    1\n",
       "H2O cluster free memory:    7.040 Gb\n",
       "H2O cluster total cores:    8\n",
       "H2O cluster allowed cores:  8\n",
       "H2O cluster status:         locked, healthy\n",
       "H2O connection url:         http://localhost:54321\n",
       "H2O connection proxy:\n",
       "H2O internal security:      False\n",
       "H2O API Extensions:         Algos, AutoML, Core V3, Core V4\n",
       "Python version:             3.6.4 final\n",
       "--------------------------  -------------------------------"
      ]
     },
     "metadata": {},
     "output_type": "display_data"
    }
   ],
   "source": [
    "# AutoML is used to find the best model among various different models\n",
    "from h2o.automl import H2OAutoML\n",
    "h2o.init()"
   ]
  },
  {
   "cell_type": "code",
   "execution_count": 115,
   "metadata": {},
   "outputs": [
    {
     "name": "stdout",
     "output_type": "stream",
     "text": [
      "Rows:9999\n",
      "Cols:17\n",
      "\n",
      "\n"
     ]
    },
    {
     "data": {
      "text/html": [
       "<table>\n",
       "<thead>\n",
       "<tr><th>       </th><th>C1               </th><th>loan_amnt         </th><th>term               </th><th>int_rate          </th><th>installment       </th><th>grade             </th><th>sub_grade        </th><th>emp_length        </th><th>home_ownership    </th><th>annual_inc       </th><th>verification_status  </th><th>loan_status_Binary  </th><th>purpose           </th><th>addr_state        </th><th>dti              </th><th>delinq_2yrs        </th><th>inq_last_6mths    </th></tr>\n",
       "</thead>\n",
       "<tbody>\n",
       "<tr><td>type   </td><td>int              </td><td>int               </td><td>int                </td><td>real              </td><td>real              </td><td>int               </td><td>int              </td><td>int               </td><td>int               </td><td>real             </td><td>int                  </td><td>enum                </td><td>int               </td><td>int               </td><td>real             </td><td>int                </td><td>int               </td></tr>\n",
       "<tr><td>mins   </td><td>0.0              </td><td>1000.0            </td><td>0.0                </td><td>5.42              </td><td>22.24             </td><td>0.0               </td><td>0.0              </td><td>-1.0              </td><td>0.0               </td><td>6000.0           </td><td>0.0                  </td><td>                    </td><td>0.0               </td><td>0.0               </td><td>0.0              </td><td>0.0                </td><td>0.0               </td></tr>\n",
       "<tr><td>mean   </td><td>4999.0           </td><td>12861.456145614564</td><td>0.33503350335033505</td><td>12.42864086408641 </td><td>363.819194919492  </td><td>1.5157515751575155</td><td>9.507250725072506</td><td>3.7039703970397033</td><td>1.0027002700270025</td><td>70270.72558055805</td><td>1.083008300830083    </td><td>                    </td><td>3.3032303230323032</td><td>18.993199319931993</td><td>13.98964296429643</td><td>0.13351335133513353</td><td>0.8496849684968497</td></tr>\n",
       "<tr><td>maxs   </td><td>9998.0           </td><td>35000.0           </td><td>1.0                </td><td>24.11             </td><td>1288.1            </td><td>6.0               </td><td>34.0             </td><td>10.0              </td><td>2.0               </td><td>1782000.0        </td><td>2.0                  </td><td>                    </td><td>12.0              </td><td>44.0              </td><td>29.92            </td><td>6.0                </td><td>8.0               </td></tr>\n",
       "<tr><td>sigma  </td><td>2886.607004772212</td><td>8492.219046086677 </td><td>0.47202578112349625</td><td>4.2393189273665035</td><td>226.22078775984502</td><td>1.4008281038609205</td><td>6.989126698711746</td><td>3.1826405825570845</td><td>0.961913595300478 </td><td>48321.70576187829</td><td>0.828400603900801    </td><td>                    </td><td>2.9231437733988725</td><td>12.703173929414323</td><td>6.612582553900154</td><td>0.45969362758581755</td><td>1.0404442107081935</td></tr>\n",
       "<tr><td>zeros  </td><td>1                </td><td>0                 </td><td>6649               </td><td>0                 </td><td>0                 </td><td>2765              </td><td>565              </td><td>710               </td><td>4612              </td><td>0                </td><td>3050                 </td><td>                    </td><td>298               </td><td>26                </td><td>19               </td><td>8999               </td><td>4867              </td></tr>\n",
       "<tr><td>missing</td><td>0                </td><td>0                 </td><td>0                  </td><td>0                 </td><td>0                 </td><td>0                 </td><td>0                </td><td>0                 </td><td>0                 </td><td>0                </td><td>0                    </td><td>0                   </td><td>0                 </td><td>0                 </td><td>0                </td><td>0                  </td><td>0                 </td></tr>\n",
       "<tr><td>0      </td><td>0.0              </td><td>5000.0            </td><td>0.0                </td><td>10.65             </td><td>162.87            </td><td>1.0               </td><td>6.0              </td><td>1.0               </td><td>2.0               </td><td>24000.0          </td><td>2.0                  </td><td>0                   </td><td>1.0               </td><td>3.0               </td><td>27.65            </td><td>0.0                </td><td>1.0               </td></tr>\n",
       "<tr><td>1      </td><td>1.0              </td><td>2500.0            </td><td>1.0                </td><td>15.27             </td><td>59.83             </td><td>2.0               </td><td>13.0             </td><td>10.0              </td><td>2.0               </td><td>30000.0          </td><td>1.0                  </td><td>1                   </td><td>0.0               </td><td>10.0              </td><td>1.0              </td><td>0.0                </td><td>5.0               </td></tr>\n",
       "<tr><td>2      </td><td>2.0              </td><td>2400.0            </td><td>0.0                </td><td>15.96             </td><td>84.33             </td><td>2.0               </td><td>14.0             </td><td>1.0               </td><td>2.0               </td><td>12252.0          </td><td>0.0                  </td><td>0                   </td><td>10.0              </td><td>12.0              </td><td>8.72             </td><td>0.0                </td><td>2.0               </td></tr>\n",
       "<tr><td>3      </td><td>3.0              </td><td>10000.0           </td><td>0.0                </td><td>13.49             </td><td>339.31            </td><td>2.0               </td><td>10.0             </td><td>1.0               </td><td>2.0               </td><td>49200.0          </td><td>1.0                  </td><td>0                   </td><td>8.0               </td><td>4.0               </td><td>20.0             </td><td>0.0                </td><td>1.0               </td></tr>\n",
       "<tr><td>4      </td><td>4.0              </td><td>3000.0            </td><td>1.0                </td><td>12.69             </td><td>67.79             </td><td>1.0               </td><td>9.0              </td><td>0.0               </td><td>2.0               </td><td>80000.0          </td><td>1.0                  </td><td>0                   </td><td>8.0               </td><td>31.0              </td><td>17.94            </td><td>0.0                </td><td>0.0               </td></tr>\n",
       "<tr><td>5      </td><td>5.0              </td><td>5000.0            </td><td>0.0                </td><td>7.9               </td><td>156.46            </td><td>0.0               </td><td>3.0              </td><td>3.0               </td><td>2.0               </td><td>36000.0          </td><td>1.0                  </td><td>0                   </td><td>12.0              </td><td>3.0               </td><td>11.2             </td><td>0.0                </td><td>3.0               </td></tr>\n",
       "<tr><td>6      </td><td>6.0              </td><td>7000.0            </td><td>1.0                </td><td>15.96             </td><td>170.08            </td><td>2.0               </td><td>14.0             </td><td>8.0               </td><td>2.0               </td><td>47004.0          </td><td>0.0                  </td><td>0                   </td><td>2.0               </td><td>23.0              </td><td>23.51            </td><td>0.0                </td><td>1.0               </td></tr>\n",
       "<tr><td>7      </td><td>7.0              </td><td>3000.0            </td><td>0.0                </td><td>18.64             </td><td>109.43            </td><td>4.0               </td><td>20.0             </td><td>9.0               </td><td>2.0               </td><td>48000.0          </td><td>1.0                  </td><td>0                   </td><td>0.0               </td><td>4.0               </td><td>5.35             </td><td>0.0                </td><td>2.0               </td></tr>\n",
       "<tr><td>8      </td><td>8.0              </td><td>5600.0            </td><td>1.0                </td><td>21.28             </td><td>152.39            </td><td>5.0               </td><td>26.0             </td><td>4.0               </td><td>1.0               </td><td>40000.0          </td><td>1.0                  </td><td>1                   </td><td>10.0              </td><td>4.0               </td><td>5.55             </td><td>0.0                </td><td>2.0               </td></tr>\n",
       "<tr><td>9      </td><td>9.0              </td><td>5375.0            </td><td>1.0                </td><td>12.69             </td><td>121.45            </td><td>1.0               </td><td>9.0              </td><td>10.0              </td><td>2.0               </td><td>15000.0          </td><td>2.0                  </td><td>1                   </td><td>8.0               </td><td>37.0              </td><td>18.08            </td><td>0.0                </td><td>0.0               </td></tr>\n",
       "</tbody>\n",
       "</table>"
      ]
     },
     "metadata": {},
     "output_type": "display_data"
    }
   ],
   "source": [
    "data.describe()"
   ]
  },
  {
   "cell_type": "code",
   "execution_count": 116,
   "metadata": {},
   "outputs": [
    {
     "data": {
      "text/html": [
       "<table>\n",
       "<thead>\n",
       "<tr><th style=\"text-align: right;\">  C1</th></tr>\n",
       "</thead>\n",
       "<tbody>\n",
       "<tr><td style=\"text-align: right;\">   2</td></tr>\n",
       "<tr><td style=\"text-align: right;\">   0</td></tr>\n",
       "<tr><td style=\"text-align: right;\">   6</td></tr>\n",
       "<tr><td style=\"text-align: right;\">   1</td></tr>\n",
       "<tr><td style=\"text-align: right;\">   4</td></tr>\n",
       "<tr><td style=\"text-align: right;\">   5</td></tr>\n",
       "<tr><td style=\"text-align: right;\">   3</td></tr>\n",
       "</tbody>\n",
       "</table>"
      ]
     },
     "metadata": {},
     "output_type": "display_data"
    },
    {
     "data": {
      "text/plain": []
     },
     "execution_count": 116,
     "metadata": {},
     "output_type": "execute_result"
    }
   ],
   "source": [
    "data[\"grade\"].unique()"
   ]
  },
  {
   "cell_type": "code",
   "execution_count": 117,
   "metadata": {},
   "outputs": [],
   "source": [
    "y = \"loan_status_Binary\"\n",
    "x = data.columns\n",
    "x.remove(y)\n"
   ]
  },
  {
   "cell_type": "code",
   "execution_count": 118,
   "metadata": {},
   "outputs": [
    {
     "name": "stdout",
     "output_type": "stream",
     "text": [
      "AutoML progress: |████████████████████████████████████████████████████████| 100%\n",
      "Parse progress: |█████████████████████████████████████████████████████████| 100%\n"
     ]
    }
   ],
   "source": [
    "#Run AutoML\n",
    "aml = H2OAutoML(max_models = 10, seed = 1)\n",
    "aml.train(x = x, y = y, training_frame = data)"
   ]
  },
  {
   "cell_type": "code",
   "execution_count": 119,
   "metadata": {},
   "outputs": [],
   "source": [
    "lb = aml.leaderboard"
   ]
  },
  {
   "cell_type": "code",
   "execution_count": 120,
   "metadata": {},
   "outputs": [
    {
     "data": {
      "text/html": [
       "<table>\n",
       "<thead>\n",
       "<tr><th>model_id                                             </th><th style=\"text-align: right;\">     auc</th><th style=\"text-align: right;\">  logloss</th></tr>\n",
       "</thead>\n",
       "<tbody>\n",
       "<tr><td>StackedEnsemble_AllModels_0_AutoML_20181027_155858   </td><td style=\"text-align: right;\">0.700363</td><td style=\"text-align: right;\"> 0.401791</td></tr>\n",
       "<tr><td>StackedEnsemble_BestOfFamily_0_AutoML_20181027_155858</td><td style=\"text-align: right;\">0.7003  </td><td style=\"text-align: right;\"> 0.401833</td></tr>\n",
       "<tr><td>GLM_grid_0_AutoML_20181027_155858_model_0            </td><td style=\"text-align: right;\">0.69999 </td><td style=\"text-align: right;\"> 0.398136</td></tr>\n",
       "<tr><td>GBM_grid_0_AutoML_20181027_155858_model_4            </td><td style=\"text-align: right;\">0.687951</td><td style=\"text-align: right;\"> 0.403451</td></tr>\n",
       "<tr><td>GBM_grid_0_AutoML_20181027_155858_model_0            </td><td style=\"text-align: right;\">0.681886</td><td style=\"text-align: right;\"> 0.408347</td></tr>\n",
       "<tr><td>GBM_grid_0_AutoML_20181027_155858_model_1            </td><td style=\"text-align: right;\">0.679545</td><td style=\"text-align: right;\"> 0.408087</td></tr>\n",
       "<tr><td>GBM_grid_0_AutoML_20181027_155858_model_2            </td><td style=\"text-align: right;\">0.674434</td><td style=\"text-align: right;\"> 0.411619</td></tr>\n",
       "<tr><td>DeepLearning_0_AutoML_20181027_155858                </td><td style=\"text-align: right;\">0.670081</td><td style=\"text-align: right;\"> 0.409322</td></tr>\n",
       "<tr><td>GBM_grid_0_AutoML_20181027_155858_model_3            </td><td style=\"text-align: right;\">0.666921</td><td style=\"text-align: right;\"> 0.419096</td></tr>\n",
       "<tr><td>GBM_grid_0_AutoML_20181027_155858_model_5            </td><td style=\"text-align: right;\">0.660622</td><td style=\"text-align: right;\"> 0.429904</td></tr>\n",
       "</tbody>\n",
       "</table>"
      ]
     },
     "metadata": {},
     "output_type": "display_data"
    },
    {
     "data": {
      "text/plain": []
     },
     "execution_count": 120,
     "metadata": {},
     "output_type": "execute_result"
    }
   ],
   "source": [
    "lb.head()"
   ]
  },
  {
   "cell_type": "code",
   "execution_count": 121,
   "metadata": {},
   "outputs": [
    {
     "data": {
      "text/html": [
       "<table>\n",
       "<thead>\n",
       "<tr><th>model_id                                             </th><th style=\"text-align: right;\">     auc</th><th style=\"text-align: right;\">  logloss</th></tr>\n",
       "</thead>\n",
       "<tbody>\n",
       "<tr><td>StackedEnsemble_AllModels_0_AutoML_20181027_155858   </td><td style=\"text-align: right;\">0.700363</td><td style=\"text-align: right;\"> 0.401791</td></tr>\n",
       "<tr><td>StackedEnsemble_BestOfFamily_0_AutoML_20181027_155858</td><td style=\"text-align: right;\">0.7003  </td><td style=\"text-align: right;\"> 0.401833</td></tr>\n",
       "<tr><td>GLM_grid_0_AutoML_20181027_155858_model_0            </td><td style=\"text-align: right;\">0.69999 </td><td style=\"text-align: right;\"> 0.398136</td></tr>\n",
       "<tr><td>GBM_grid_0_AutoML_20181027_155858_model_4            </td><td style=\"text-align: right;\">0.687951</td><td style=\"text-align: right;\"> 0.403451</td></tr>\n",
       "<tr><td>GBM_grid_0_AutoML_20181027_155858_model_0            </td><td style=\"text-align: right;\">0.681886</td><td style=\"text-align: right;\"> 0.408347</td></tr>\n",
       "<tr><td>GBM_grid_0_AutoML_20181027_155858_model_1            </td><td style=\"text-align: right;\">0.679545</td><td style=\"text-align: right;\"> 0.408087</td></tr>\n",
       "<tr><td>GBM_grid_0_AutoML_20181027_155858_model_2            </td><td style=\"text-align: right;\">0.674434</td><td style=\"text-align: right;\"> 0.411619</td></tr>\n",
       "<tr><td>DeepLearning_0_AutoML_20181027_155858                </td><td style=\"text-align: right;\">0.670081</td><td style=\"text-align: right;\"> 0.409322</td></tr>\n",
       "<tr><td>GBM_grid_0_AutoML_20181027_155858_model_3            </td><td style=\"text-align: right;\">0.666921</td><td style=\"text-align: right;\"> 0.419096</td></tr>\n",
       "<tr><td>GBM_grid_0_AutoML_20181027_155858_model_5            </td><td style=\"text-align: right;\">0.660622</td><td style=\"text-align: right;\"> 0.429904</td></tr>\n",
       "<tr><td>XRT_0_AutoML_20181027_155858                         </td><td style=\"text-align: right;\">0.66011 </td><td style=\"text-align: right;\"> 0.456227</td></tr>\n",
       "<tr><td>DRF_0_AutoML_20181027_155858                         </td><td style=\"text-align: right;\">0.65188 </td><td style=\"text-align: right;\"> 0.487672</td></tr>\n",
       "</tbody>\n",
       "</table>"
      ]
     },
     "metadata": {},
     "output_type": "display_data"
    },
    {
     "data": {
      "text/plain": []
     },
     "execution_count": 121,
     "metadata": {},
     "output_type": "execute_result"
    }
   ],
   "source": [
    "\n",
    "lb.head(rows=lb.nrows)"
   ]
  },
  {
   "cell_type": "code",
   "execution_count": 122,
   "metadata": {},
   "outputs": [],
   "source": [
    "#Ensemble Exploration\n",
    "#To understand how the ensemble works, let's take a peek inside the Stacked Ensemble \"All Models\" model. The \"All Models\" ensemble is an ensemble of all of the individual models in the AutoML run. This is often the top performing model on the leaderboard.\n",
    "\n",
    "\n",
    "# Get model ids for all models in the AutoML Leaderboard\n",
    "model_ids = list(aml.leaderboard['model_id'].as_data_frame().iloc[:,0])\n",
    "# Get the \"All Models\" Stacked Ensemble model\n",
    "se = h2o.get_model([mid for mid in model_ids if \"StackedEnsemble_AllModels\" in mid][0])\n",
    "# Get the Stacked Ensemble metalearner model\n",
    "metalearner = h2o.get_model(aml.leader.metalearner()['name'])"
   ]
  },
  {
   "cell_type": "code",
   "execution_count": 123,
   "metadata": {},
   "outputs": [
    {
     "data": {
      "text/plain": [
       "{'DRF_0_AutoML_20181027_155858': 0.0,\n",
       " 'DeepLearning_0_AutoML_20181027_155858': 0.0017494388393352604,\n",
       " 'GBM_grid_0_AutoML_20181027_155858_model_0': 0.0,\n",
       " 'GBM_grid_0_AutoML_20181027_155858_model_1': 0.072673485164247,\n",
       " 'GBM_grid_0_AutoML_20181027_155858_model_2': 0.0,\n",
       " 'GBM_grid_0_AutoML_20181027_155858_model_3': 0.0,\n",
       " 'GBM_grid_0_AutoML_20181027_155858_model_4': 0.04697146490911205,\n",
       " 'GBM_grid_0_AutoML_20181027_155858_model_5': 0.0,\n",
       " 'GLM_grid_0_AutoML_20181027_155858_model_0': 0.4990802646751832,\n",
       " 'Intercept': -1.8278285004727857,\n",
       " 'XRT_0_AutoML_20181027_155858': 0.03258953972899344}"
      ]
     },
     "execution_count": 123,
     "metadata": {},
     "output_type": "execute_result"
    }
   ],
   "source": [
    "metalearner.coef_norm()"
   ]
  },
  {
   "cell_type": "code",
   "execution_count": 124,
   "metadata": {},
   "outputs": [
    {
     "data": {
      "image/png": "[encoded data removed]",
      "text/plain": [
       "<matplotlib.figure.Figure at 0x20d86c9cef0>"
      ]
     },
     "metadata": {},
     "output_type": "display_data"
    }
   ],
   "source": [
    "metalearner.std_coef_plot()"
   ]
  },
  {
   "cell_type": "code",
   "execution_count": 125,
   "metadata": {},
   "outputs": [
    {
     "data": {
      "text/plain": [
       "'C:\\\\BigData_ArtificialIntelligence\\\\product_backorders_model_bin\\\\StackedEnsemble_AllModels_0_AutoML_20181027_155858'"
      ]
     },
     "execution_count": 125,
     "metadata": {},
     "output_type": "execute_result"
    }
   ],
   "source": [
    "h2o.save_model(aml.leader, path = \"./product_backorders_model_bin\")"
   ]
  },
  {
   "cell_type": "code",
   "execution_count": 126,
   "metadata": {},
   "outputs": [
    {
     "data": {
      "text/plain": [
       "'C:\\\\BigData_ArtificialIntelligence\\\\StackedEnsemble_AllModels_0_AutoML_20181027_155858.zip'"
      ]
     },
     "execution_count": 126,
     "metadata": {},
     "output_type": "execute_result"
    }
   ],
   "source": [
    "aml.leader.download_mojo(path = \"./\")"
   ]
  },
  {
   "cell_type": "markdown",
   "metadata": {},
   "source": [
    "# Multiclass Classification with AutoML"
   ]
  },
  {
   "cell_type": "code",
   "execution_count": 127,
   "metadata": {},
   "outputs": [],
   "source": [
    "import random, os, sys\n",
    "from datetime import datetime\n",
    "import pandas as pd\n",
    "import logging\n",
    "import csv\n",
    "import optparse\n",
    "import time\n",
    "import json\n",
    "from distutils.util import strtobool"
   ]
  },
  {
   "cell_type": "code",
   "execution_count": 128,
   "metadata": {},
   "outputs": [],
   "source": [
    "data_path=None\n",
    "all_variables=None\n",
    "test_path=None\n",
    "target=None\n",
    "nthreads=1 \n",
    "min_mem_size=6 \n",
    "run_time=333\n",
    "classification=False\n",
    "scale=False\n",
    "max_models=9    \n",
    "model_path=None\n",
    "balance_y=False \n",
    "balance_threshold=0.2\n",
    "name=None \n",
    "server_path=None  \n",
    "analysis=0"
   ]
  },
  {
   "cell_type": "code",
   "execution_count": 129,
   "metadata": {},
   "outputs": [],
   "source": [
    "# Functions\n",
    "\n",
    "def alphabet(n):\n",
    "  alpha='0123456789abcdefghijklmnopqrstuvwxyzABCDEFGHIJKLMNOPQRSTUVWXYZ'    \n",
    "  str=''\n",
    "  r=len(alpha)-1   \n",
    "  while len(str)<n:\n",
    "    i=random.randint(0,r)\n",
    "    str+=alpha[i]   \n",
    "  return str\n",
    "  \n",
    "  \n",
    "def set_meta_data(run_id,analysis,target,run_time,classification,scale,model,balance,balance_threshold,name,nthreads,min_mem_size):\n",
    "  m_data={}\n",
    "  m_data['run_id'] =run_id\n",
    "  m_data['start_time'] = time.time()\n",
    "  m_data['target']=target\n",
    "  m_data['max_models']=model\n",
    "  m_data['run_time']=run_time\n",
    "  m_data['scale']=scale\n",
    "  m_data['classification']=classification\n",
    "  m_data['scale']=False\n",
    "  m_data['balance']=balance\n",
    "  m_data['balance_threshold']=balance_threshold\n",
    "  m_data['project'] =name\n",
    "  m_data['end_time'] = time.time()\n",
    "  m_data['execution_time'] = 0.0\n",
    "  m_data['nthreads'] = nthreads\n",
    "  m_data['min_mem_size'] = min_mem_size\n",
    "  m_data['analysis'] = analysis\n",
    "  return m_data\n",
    "\n",
    "\n",
    "def dict_to_json(dct,n):\n",
    "  j = json.dumps(dct, indent=4)\n",
    "  f = open(n, 'w')\n",
    "  print(j, file=f)\n",
    "  f.close()\n",
    "  \n",
    "  \n",
    "def stackedensemble(mod):\n",
    "    coef_norm=None\n",
    "    try:\n",
    "      metalearner = h2o.get_model(mod.metalearner()['name'])\n",
    "      coef_norm=metalearner.coef_norm()\n",
    "    except:\n",
    "      pass        \n",
    "    return coef_norm\n",
    "\n",
    "def stackedensemble_df(data):\n",
    "    bm_algo={ 'GBM': None,'GLM': None,'DRF': None,'XRT': None,'Dee': None}\n",
    "    for index, row in data.iterrows():\n",
    "      if len(row['model_id'])>3:\n",
    "        key=row['model_id'][0:3]\n",
    "        if key in bm_algo:\n",
    "          if bm_algo[key] is None:\n",
    "                bm_algo[key]=row['model_id']\n",
    "    bm=list(bm_algo.values()) \n",
    "    bm=list(filter(None.__ne__, bm))             \n",
    "    return bm\n",
    "\n",
    "def se_stats(modl):\n",
    "    d={}\n",
    "    d['algo']=modl.algo\n",
    "    d['model_id']=modl.model_id   \n",
    "    d['auc']=modl.auc()   \n",
    "    d['roc']=modl.roc()\n",
    "    d['mse']=modl.mse()   \n",
    "    d['null_degrees_of_freedom']=modl.null_degrees_of_freedom()\n",
    "    d['null_deviance']=modl.null_deviance()\n",
    "    d['residual_degrees_of_freedom']=modl.residual_degrees_of_freedom()   \n",
    "    d['residual_deviance']=modl.residual_deviance()\n",
    "    d['rmse']=modl.rmse()\n",
    "    return d\n",
    "\n",
    "def get_model_by_algo(algo,models_dict):\n",
    "    mod=None\n",
    "    mod_id=None    \n",
    "    for m in list(models_dict.keys()):\n",
    "        if m[0:3]==algo:\n",
    "            mod_id=m\n",
    "            mod=h2o.get_model(m)      \n",
    "    return mod,mod_id     \n",
    "    \n",
    "    \n",
    "def gbm_stats(modl):\n",
    "    d={}\n",
    "    d['algo']=modl.algo\n",
    "    d['model_id']=modl.model_id   \n",
    "    d['varimp']=modl.varimp()  \n",
    "    return d\n",
    "    \n",
    "    \n",
    "def dl_stats(modl):\n",
    "    d={}\n",
    "    d['algo']=modl.algo\n",
    "    d['model_id']=modl.model_id   \n",
    "    d['varimp']=modl.varimp()  \n",
    "    return d\n",
    "    \n",
    "    \n",
    "def drf_stats(modl):\n",
    "    d={}\n",
    "    d['algo']=modl.algo\n",
    "    d['model_id']=modl.model_id   \n",
    "    d['varimp']=modl.varimp()  \n",
    "    d['roc']=modl.roc()      \n",
    "    return d\n",
    "    \n",
    "def xrt_stats(modl):\n",
    "    d={}\n",
    "    d['algo']=modl.algo\n",
    "    d['model_id']=modl.model_id   \n",
    "    d['varimp']=modl.varimp()  \n",
    "    d['roc']=modl.roc()      \n",
    "    return d\n",
    "    \n",
    "    \n",
    "def glm_stats(modl):\n",
    "    d={}\n",
    "    d['algo']=modl.algo\n",
    "    d['model_id']=modl.model_id   \n",
    "    d['coef']=modl.coef()  \n",
    "    d['coef_norm']=modl.coef_norm()      \n",
    "    return d\n",
    "    \n",
    "def model_performance_stats(perf):\n",
    "    d={}\n",
    "    try:    \n",
    "      d['mse']=perf.mse()\n",
    "    except:\n",
    "      pass      \n",
    "    try:    \n",
    "      d['rmse']=perf.rmse() \n",
    "    except:\n",
    "      pass      \n",
    "    try:    \n",
    "      d['null_degrees_of_freedom']=perf.null_degrees_of_freedom()\n",
    "    except:\n",
    "      pass      \n",
    "    try:    \n",
    "      d['residual_degrees_of_freedom']=perf.residual_degrees_of_freedom()\n",
    "    except:\n",
    "      pass      \n",
    "    try:    \n",
    "      d['residual_deviance']=perf.residual_deviance() \n",
    "    except:\n",
    "      pass      \n",
    "    try:    \n",
    "      d['null_deviance']=perf.null_deviance() \n",
    "    except:\n",
    "      pass      \n",
    "    try:    \n",
    "      d['aic']=perf.aic() \n",
    "    except:\n",
    "      pass      \n",
    "    try:\n",
    "      d['logloss']=perf.logloss() \n",
    "    except:\n",
    "      pass    \n",
    "    try:\n",
    "      d['auc']=perf.auc()\n",
    "    except:\n",
    "      pass  \n",
    "    try:\n",
    "      d['gini']=perf.gini()\n",
    "    except:\n",
    "      pass    \n",
    "    return d\n",
    "    \n",
    "def impute_missing_values(data, x, scal=False):\n",
    "    # determine column types\n",
    "    ints, reals, enums = [], [], []\n",
    "    for key, val in data.types.items():\n",
    "        if key in x:\n",
    "            if val == 'enum':\n",
    "                enums.append(key)\n",
    "            elif val == 'int':\n",
    "                ints.append(key)            \n",
    "            else: \n",
    "                reals.append(key)    \n",
    "    _ = data[reals].impute(method='mean')\n",
    "    _ = data[ints].impute(method='median')\n",
    "    if scal:\n",
    "        data[reals] = data[reals].scale()\n",
    "        data[ints] = data[ints].scale()    \n",
    "    return\n",
    "\n",
    "\n",
    "def get_independent_variables(data, targ):\n",
    "    C = [name for name in data.columns if name != targ]\n",
    "    # determine column types\n",
    "    ints, reals, enums = [], [], []\n",
    "    for key, val in data.types.items():\n",
    "        if key in C:\n",
    "            if val == 'enum':\n",
    "                enums.append(key)\n",
    "            elif val == 'int':\n",
    "                ints.append(key)            \n",
    "            else: \n",
    "                reals.append(key)    \n",
    "    x=ints+enums+reals\n",
    "    return x\n",
    "    \n",
    "def get_all_variables_csv(i):\n",
    "    ivd={}\n",
    "    try:\n",
    "      iv = pd.read_csv(i,header=None)\n",
    "    except:\n",
    "      sys.exit(1)    \n",
    "    col=iv.values.tolist()[0]\n",
    "    dt=iv.values.tolist()[1]\n",
    "    i=0\n",
    "    for c in col:\n",
    "      ivd[c.strip()]=dt[i].strip()\n",
    "      i+=1        \n",
    "    return ivd\n",
    "    \n",
    "    \n",
    "\n",
    "def check_all_variables(data,dct,y=None):     \n",
    "    targ=list(dct.keys())     \n",
    "    for key, val in data.types.items():\n",
    "        if key in targ:\n",
    "          if dct[key] not in ['real','int','enum']:                      \n",
    "            targ.remove(key)  \n",
    "    for key, val in data.types.items():\n",
    "        if key in targ:            \n",
    "          if dct[key] != val:\n",
    "            print('convert ',key,' ',dct[key],' ',val)\n",
    "            if dct[key]=='enum':\n",
    "                try:\n",
    "                  data[key] = data[key].asfactor() \n",
    "                except:\n",
    "                  targ.remove(key)                 \n",
    "            if dct[key]=='int': \n",
    "                try:                \n",
    "                  data[key] = data[key].asnumeric() \n",
    "                except:\n",
    "                  targ.remove(key)                  \n",
    "            if dct[key]=='real':\n",
    "                try:                \n",
    "                  data[key] = data[key].asnumeric()  \n",
    "                except:\n",
    "                  targ.remove(key)                  \n",
    "    if y is None:\n",
    "      y=data.columns[-1] \n",
    "    if y in targ:\n",
    "      targ.remove(y)\n",
    "    else:\n",
    "      y=targ.pop()            \n",
    "    return targ    \n",
    "    \n",
    "def predictions(mod,data,run_id):\n",
    "    test = h2o.import_file(data)\n",
    "    mod_perf=mod_best.model_performance(test)\n",
    "              \n",
    "    stats_test={}\n",
    "    stats_test=model_performance_stats(mod_perf)\n",
    "\n",
    "    n=run_id+'_test_stats.json'\n",
    "    dict_to_json(stats_test,n) \n",
    "\n",
    "    try:    \n",
    "      cf=mod_perf.confusion_matrix(metrics=[\"f1\",\"f2\",\"f0point5\",\"accuracy\",\"precision\",\"recall\",\"specificity\",\"absolute_mcc\",\"min_per_class_accuracy\",\"mean_per_class_accuracy\"])\n",
    "      cf_df=cf[0].table.as_data_frame()\n",
    "      cf_df.to_csv(run_id+'_test_confusion_matrix.csv')\n",
    "    except:\n",
    "      pass\n",
    "\n",
    "    predictions = mod_best.predict(test)\n",
    "    predictions_df=test.cbind(predictions).as_data_frame() \n",
    "    predictions_df.to_csv(run_id+'_predictions.csv')\n",
    "    return\n",
    "\n",
    "def predictions_test(mod,test,run_id):\n",
    "    mod_perf=mod_best.model_performance(test)          \n",
    "    stats_test={}\n",
    "    stats_test=model_performance_stats(mod_perf)\n",
    "    n=run_id+'_test_stats.json'\n",
    "    dict_to_json(stats_test,n) \n",
    "    try:\n",
    "      cf=mod_perf.confusion_matrix(metrics=[\"f1\",\"f2\",\"f0point5\",\"accuracy\",\"precision\",\"recall\",\"specificity\",\"absolute_mcc\",\"min_per_class_accuracy\",\"mean_per_class_accuracy\"])\n",
    "      cf_df=cf[0].table.as_data_frame()\n",
    "      cf_df.to_csv(run_id+'_test_confusion_matrix.csv')\n",
    "    except:\n",
    "      pass\n",
    "    predictions = mod_best.predict(test)    \n",
    "    predictions_df=test.cbind(predictions).as_data_frame() \n",
    "    predictions_df.to_csv(run_id+'_predictions.csv')\n",
    "    return predictions\n",
    "\n",
    "def check_X(x,data):\n",
    "    for name in x:\n",
    "        if name not in data.columns:\n",
    "          x.remove(name)  \n",
    "    return x    \n",
    "    \n",
    "    \n",
    "def get_stacked_ensemble(lst):\n",
    "    se=None\n",
    "    for model in model_set:\n",
    "      if 'BestOfFamily' in model:\n",
    "        se=model\n",
    "    if se is None:     \n",
    "      for model in model_set:\n",
    "        if 'AllModels'in model:\n",
    "          se=model           \n",
    "    return se       \n",
    "    \n",
    "def get_variables_types(data):\n",
    "    d={}\n",
    "    for key, val in data.types.items():\n",
    "        d[key]=val           \n",
    "    return d    \n",
    "    \n",
    "#  End Functions"
   ]
  },
  {
   "cell_type": "code",
   "execution_count": 130,
   "metadata": {},
   "outputs": [],
   "source": [
    "data_path='data/LendingClub_DataPrep_H2O.csv'"
   ]
  },
  {
   "cell_type": "code",
   "execution_count": 131,
   "metadata": {},
   "outputs": [],
   "source": [
    "data_path = os.path.join(os.path.abspath(os.curdir),data_path)"
   ]
  },
  {
   "cell_type": "code",
   "execution_count": 132,
   "metadata": {},
   "outputs": [],
   "source": [
    "all_variables=None"
   ]
  },
  {
   "cell_type": "code",
   "execution_count": 133,
   "metadata": {},
   "outputs": [
    {
     "name": "stdout",
     "output_type": "stream",
     "text": [
      "p1iaM3G3W\n"
     ]
    }
   ],
   "source": [
    "run_id=alphabet(9)\n",
    "# run_id to std out\n",
    "print (run_id)"
   ]
  },
  {
   "cell_type": "code",
   "execution_count": 134,
   "metadata": {},
   "outputs": [],
   "source": [
    "server_path=os.path.abspath(os.curdir)\n",
    "os.chdir(server_path) \n",
    "run_dir = os.path.join(server_path,run_id)\n",
    "os.mkdir(run_dir)\n",
    "os.chdir(run_dir)"
   ]
  },
  {
   "cell_type": "code",
   "execution_count": 135,
   "metadata": {},
   "outputs": [
    {
     "name": "stdout",
     "output_type": "stream",
     "text": [
      "Checking whether there is an H2O instance running at http://localhost:7880..... not found.\n",
      "Attempting to start a local H2O server...\n",
      "; OpenJDK 64-Bit Server VM (build 25.152-b12, mixed mode)56-b12)\n",
      "  Starting server from C:\\Users\\ritua\\AppData\\Local\\Continuum\\anaconda3\\h2o_jar\\h2o.jar\n",
      "  Ice root: C:\\Users\\ritua\\AppData\\Local\\Temp\\tmptzswr8o1\n",
      "  JVM stdout: C:\\Users\\ritua\\AppData\\Local\\Temp\\tmptzswr8o1\\h2o_ritua_started_from_python.out\n",
      "  JVM stderr: C:\\Users\\ritua\\AppData\\Local\\Temp\\tmptzswr8o1\\h2o_ritua_started_from_python.err\n",
      "  Server is running at http://127.0.0.1:7880\n",
      "Connecting to H2O server at http://127.0.0.1:7880... successful.\n"
     ]
    },
    {
     "data": {
      "text/html": [
       "<div style=\"overflow:auto\"><table style=\"width:50%\"><tr><td>H2O cluster uptime:</td>\n",
       "<td>02 secs</td></tr>\n",
       "<tr><td>H2O cluster timezone:</td>\n",
       "<td>America/New_York</td></tr>\n",
       "<tr><td>H2O data parsing timezone:</td>\n",
       "<td>UTC</td></tr>\n",
       "<tr><td>H2O cluster version:</td>\n",
       "<td>3.18.0.2</td></tr>\n",
       "<tr><td>H2O cluster version age:</td>\n",
       "<td>7 months and 19 days !!!</td></tr>\n",
       "<tr><td>H2O cluster name:</td>\n",
       "<td>H2O_from_python_ritua_zz88z3</td></tr>\n",
       "<tr><td>H2O cluster total nodes:</td>\n",
       "<td>1</td></tr>\n",
       "<tr><td>H2O cluster free memory:</td>\n",
       "<td>5.750 Gb</td></tr>\n",
       "<tr><td>H2O cluster total cores:</td>\n",
       "<td>8</td></tr>\n",
       "<tr><td>H2O cluster allowed cores:</td>\n",
       "<td>8</td></tr>\n",
       "<tr><td>H2O cluster status:</td>\n",
       "<td>accepting new members, healthy</td></tr>\n",
       "<tr><td>H2O connection url:</td>\n",
       "<td>http://127.0.0.1:7880</td></tr>\n",
       "<tr><td>H2O connection proxy:</td>\n",
       "<td>None</td></tr>\n",
       "<tr><td>H2O internal security:</td>\n",
       "<td>False</td></tr>\n",
       "<tr><td>H2O API Extensions:</td>\n",
       "<td>Algos, AutoML, Core V3, Core V4</td></tr>\n",
       "<tr><td>Python version:</td>\n",
       "<td>3.6.4 final</td></tr></table></div>"
      ],
      "text/plain": [
       "--------------------------  -------------------------------\n",
       "H2O cluster uptime:         02 secs\n",
       "H2O cluster timezone:       America/New_York\n",
       "H2O data parsing timezone:  UTC\n",
       "H2O cluster version:        3.18.0.2\n",
       "H2O cluster version age:    7 months and 19 days !!!\n",
       "H2O cluster name:           H2O_from_python_ritua_zz88z3\n",
       "H2O cluster total nodes:    1\n",
       "H2O cluster free memory:    5.750 Gb\n",
       "H2O cluster total cores:    8\n",
       "H2O cluster allowed cores:  8\n",
       "H2O cluster status:         accepting new members, healthy\n",
       "H2O connection url:         http://127.0.0.1:7880\n",
       "H2O connection proxy:\n",
       "H2O internal security:      False\n",
       "H2O API Extensions:         Algos, AutoML, Core V3, Core V4\n",
       "Python version:             3.6.4 final\n",
       "--------------------------  -------------------------------"
      ]
     },
     "metadata": {},
     "output_type": "display_data"
    }
   ],
   "source": [
    "port_no=random.randint(5555,55555)\n",
    "h2o.init(strict_version_check=False,min_mem_size_GB=min_mem_size,port=port_no)"
   ]
  },
  {
   "cell_type": "code",
   "execution_count": 136,
   "metadata": {},
   "outputs": [
    {
     "name": "stdout",
     "output_type": "stream",
     "text": [
      "{'run_id': 'p1iaM3G3W', 'start_time': 1540670412.484422, 'target': None, 'max_models': 9, 'run_time': 333, 'scale': False, 'classification': False, 'balance': False, 'balance_threshold': 0.2, 'project': None, 'end_time': 1540670412.484422, 'execution_time': 0.0, 'nthreads': 1, 'min_mem_size': 6, 'analysis': 0}\n"
     ]
    }
   ],
   "source": [
    "# meta data\n",
    "meta_data = set_meta_data(run_id,analysis,target,run_time,classification,scale,max_models,balance_y,balance_threshold,name,nthreads,min_mem_size)\n",
    "print(meta_data)"
   ]
  },
  {
   "cell_type": "code",
   "execution_count": 137,
   "metadata": {},
   "outputs": [
    {
     "name": "stdout",
     "output_type": "stream",
     "text": [
      "C:\\BigData_ArtificialIntelligence\\data/LendingClub_DataPrep_H2O.csv\n"
     ]
    }
   ],
   "source": [
    "print(data_path)"
   ]
  },
  {
   "cell_type": "code",
   "execution_count": 138,
   "metadata": {},
   "outputs": [],
   "source": [
    "# dependent variable\n",
    "# assign target and inputs for classification or regression\n",
    "if target==None:\n",
    "  target=data.columns[-12]   \n",
    "y = target"
   ]
  },
  {
   "cell_type": "code",
   "execution_count": 139,
   "metadata": {},
   "outputs": [
    {
     "name": "stdout",
     "output_type": "stream",
     "text": [
      "grade\n"
     ]
    }
   ],
   "source": [
    "\n",
    "print(y)"
   ]
  },
  {
   "cell_type": "code",
   "execution_count": 140,
   "metadata": {},
   "outputs": [
    {
     "name": "stdout",
     "output_type": "stream",
     "text": [
      "None\n"
     ]
    }
   ],
   "source": [
    "print(all_variables)"
   ]
  },
  {
   "cell_type": "code",
   "execution_count": 141,
   "metadata": {},
   "outputs": [],
   "source": [
    "if all_variables is not None:\n",
    "  ivd=get_all_variables_csv(all_variables)\n",
    "  print(ivd)    \n",
    "  X=check_all_variables(data,ivd,y)\n",
    "  print(X)"
   ]
  },
  {
   "cell_type": "code",
   "execution_count": 142,
   "metadata": {},
   "outputs": [
    {
     "name": "stdout",
     "output_type": "stream",
     "text": [
      "Parse progress: |█████████████████████████████████████████████████████████| 100%\n",
      "Rows:9999\n",
      "Cols:17\n",
      "\n",
      "\n"
     ]
    },
    {
     "data": {
      "text/html": [
       "<table>\n",
       "<thead>\n",
       "<tr><th>       </th><th>C1               </th><th>loan_amnt         </th><th>term               </th><th>int_rate          </th><th>installment       </th><th>grade             </th><th>sub_grade        </th><th>emp_length        </th><th>home_ownership    </th><th>annual_inc       </th><th>verification_status  </th><th>loan_status_Binary  </th><th>purpose           </th><th>addr_state        </th><th>dti              </th><th>delinq_2yrs        </th><th>inq_last_6mths    </th></tr>\n",
       "</thead>\n",
       "<tbody>\n",
       "<tr><td>type   </td><td>int              </td><td>int               </td><td>int                </td><td>real              </td><td>real              </td><td>int               </td><td>int              </td><td>int               </td><td>int               </td><td>real             </td><td>int                  </td><td>int                 </td><td>int               </td><td>int               </td><td>real             </td><td>int                </td><td>int               </td></tr>\n",
       "<tr><td>mins   </td><td>0.0              </td><td>1000.0            </td><td>0.0                </td><td>5.42              </td><td>22.24             </td><td>0.0               </td><td>0.0              </td><td>-1.0              </td><td>0.0               </td><td>6000.0           </td><td>0.0                  </td><td>0.0                 </td><td>0.0               </td><td>0.0               </td><td>0.0              </td><td>0.0                </td><td>0.0               </td></tr>\n",
       "<tr><td>mean   </td><td>4999.0           </td><td>12861.456145614564</td><td>0.33503350335033505</td><td>12.42864086408641 </td><td>363.819194919492  </td><td>1.5157515751575155</td><td>9.507250725072506</td><td>3.7039703970397033</td><td>1.0027002700270025</td><td>70270.72558055805</td><td>1.083008300830083    </td><td>0.1556155615561556  </td><td>3.3032303230323032</td><td>18.993199319931993</td><td>13.98964296429643</td><td>0.13351335133513353</td><td>0.8496849684968497</td></tr>\n",
       "<tr><td>maxs   </td><td>9998.0           </td><td>35000.0           </td><td>1.0                </td><td>24.11             </td><td>1288.1            </td><td>6.0               </td><td>34.0             </td><td>10.0              </td><td>2.0               </td><td>1782000.0        </td><td>2.0                  </td><td>1.0                 </td><td>12.0              </td><td>44.0              </td><td>29.92            </td><td>6.0                </td><td>8.0               </td></tr>\n",
       "<tr><td>sigma  </td><td>2886.607004772212</td><td>8492.219046086677 </td><td>0.47202578112349625</td><td>4.2393189273665035</td><td>226.22078775984502</td><td>1.4008281038609205</td><td>6.989126698711746</td><td>3.1826405825570845</td><td>0.961913595300478 </td><td>48321.70576187829</td><td>0.828400603900801    </td><td>0.3625086221348212  </td><td>2.9231437733988725</td><td>12.703173929414323</td><td>6.612582553900154</td><td>0.45969362758581755</td><td>1.0404442107081935</td></tr>\n",
       "<tr><td>zeros  </td><td>1                </td><td>0                 </td><td>6649               </td><td>0                 </td><td>0                 </td><td>2765              </td><td>565              </td><td>710               </td><td>4612              </td><td>0                </td><td>3050                 </td><td>8443                </td><td>298               </td><td>26                </td><td>19               </td><td>8999               </td><td>4867              </td></tr>\n",
       "<tr><td>missing</td><td>0                </td><td>0                 </td><td>0                  </td><td>0                 </td><td>0                 </td><td>0                 </td><td>0                </td><td>0                 </td><td>0                 </td><td>0                </td><td>0                    </td><td>0                   </td><td>0                 </td><td>0                 </td><td>0                </td><td>0                  </td><td>0                 </td></tr>\n",
       "<tr><td>0      </td><td>0.0              </td><td>5000.0            </td><td>0.0                </td><td>10.65             </td><td>162.87            </td><td>1.0               </td><td>6.0              </td><td>1.0               </td><td>2.0               </td><td>24000.0          </td><td>2.0                  </td><td>0.0                 </td><td>1.0               </td><td>3.0               </td><td>27.65            </td><td>0.0                </td><td>1.0               </td></tr>\n",
       "<tr><td>1      </td><td>1.0              </td><td>2500.0            </td><td>1.0                </td><td>15.27             </td><td>59.83             </td><td>2.0               </td><td>13.0             </td><td>10.0              </td><td>2.0               </td><td>30000.0          </td><td>1.0                  </td><td>1.0                 </td><td>0.0               </td><td>10.0              </td><td>1.0              </td><td>0.0                </td><td>5.0               </td></tr>\n",
       "<tr><td>2      </td><td>2.0              </td><td>2400.0            </td><td>0.0                </td><td>15.96             </td><td>84.33             </td><td>2.0               </td><td>14.0             </td><td>1.0               </td><td>2.0               </td><td>12252.0          </td><td>0.0                  </td><td>0.0                 </td><td>10.0              </td><td>12.0              </td><td>8.72             </td><td>0.0                </td><td>2.0               </td></tr>\n",
       "<tr><td>3      </td><td>3.0              </td><td>10000.0           </td><td>0.0                </td><td>13.49             </td><td>339.31            </td><td>2.0               </td><td>10.0             </td><td>1.0               </td><td>2.0               </td><td>49200.0          </td><td>1.0                  </td><td>0.0                 </td><td>8.0               </td><td>4.0               </td><td>20.0             </td><td>0.0                </td><td>1.0               </td></tr>\n",
       "<tr><td>4      </td><td>4.0              </td><td>3000.0            </td><td>1.0                </td><td>12.69             </td><td>67.79             </td><td>1.0               </td><td>9.0              </td><td>0.0               </td><td>2.0               </td><td>80000.0          </td><td>1.0                  </td><td>0.0                 </td><td>8.0               </td><td>31.0              </td><td>17.94            </td><td>0.0                </td><td>0.0               </td></tr>\n",
       "<tr><td>5      </td><td>5.0              </td><td>5000.0            </td><td>0.0                </td><td>7.9               </td><td>156.46            </td><td>0.0               </td><td>3.0              </td><td>3.0               </td><td>2.0               </td><td>36000.0          </td><td>1.0                  </td><td>0.0                 </td><td>12.0              </td><td>3.0               </td><td>11.2             </td><td>0.0                </td><td>3.0               </td></tr>\n",
       "<tr><td>6      </td><td>6.0              </td><td>7000.0            </td><td>1.0                </td><td>15.96             </td><td>170.08            </td><td>2.0               </td><td>14.0             </td><td>8.0               </td><td>2.0               </td><td>47004.0          </td><td>0.0                  </td><td>0.0                 </td><td>2.0               </td><td>23.0              </td><td>23.51            </td><td>0.0                </td><td>1.0               </td></tr>\n",
       "<tr><td>7      </td><td>7.0              </td><td>3000.0            </td><td>0.0                </td><td>18.64             </td><td>109.43            </td><td>4.0               </td><td>20.0             </td><td>9.0               </td><td>2.0               </td><td>48000.0          </td><td>1.0                  </td><td>0.0                 </td><td>0.0               </td><td>4.0               </td><td>5.35             </td><td>0.0                </td><td>2.0               </td></tr>\n",
       "<tr><td>8      </td><td>8.0              </td><td>5600.0            </td><td>1.0                </td><td>21.28             </td><td>152.39            </td><td>5.0               </td><td>26.0             </td><td>4.0               </td><td>1.0               </td><td>40000.0          </td><td>1.0                  </td><td>1.0                 </td><td>10.0              </td><td>4.0               </td><td>5.55             </td><td>0.0                </td><td>2.0               </td></tr>\n",
       "<tr><td>9      </td><td>9.0              </td><td>5375.0            </td><td>1.0                </td><td>12.69             </td><td>121.45            </td><td>1.0               </td><td>9.0              </td><td>10.0              </td><td>2.0               </td><td>15000.0          </td><td>2.0                  </td><td>1.0                 </td><td>8.0               </td><td>37.0              </td><td>18.08            </td><td>0.0                </td><td>0.0               </td></tr>\n",
       "</tbody>\n",
       "</table>"
      ]
     },
     "metadata": {},
     "output_type": "display_data"
    }
   ],
   "source": [
    "data = h2o.import_file(data_path)\n",
    "data.describe()"
   ]
  },
  {
   "cell_type": "code",
   "execution_count": 143,
   "metadata": {},
   "outputs": [],
   "source": [
    "# independent variables\n",
    "\n",
    "X = []  \n",
    "if all_variables is None:\n",
    "  X=get_independent_variables(data, target)  \n",
    "else: \n",
    "  ivd=get_all_variables_csv(all_variables)    \n",
    "  X=check_all_variables(data, ivd)\n",
    "\n",
    "\n",
    "X=check_X(X,data)\n",
    "\n",
    "\n",
    "# Add independent variables\n",
    "\n",
    "meta_data['X']=X  \n",
    "\n",
    "\n"
   ]
  },
  {
   "cell_type": "code",
   "execution_count": 144,
   "metadata": {},
   "outputs": [],
   "source": [
    "if analysis == 3:\n",
    "  classification=False\n",
    "elif analysis == 2:\n",
    "  classification=True\n",
    "elif analysis == 1:\n",
    "  classification=True"
   ]
  },
  {
   "cell_type": "code",
   "execution_count": 145,
   "metadata": {},
   "outputs": [
    {
     "name": "stdout",
     "output_type": "stream",
     "text": [
      "False\n"
     ]
    }
   ],
   "source": [
    "\n",
    "print(classification)"
   ]
  },
  {
   "cell_type": "code",
   "execution_count": 146,
   "metadata": {},
   "outputs": [],
   "source": [
    "# Force target to be factors\n",
    "# Only 'int' or 'string' are allowed for asfactor(), got Target (Total orders):real \n",
    "\n",
    "if classification:\n",
    "    df[y] = df[y].asfactor()"
   ]
  },
  {
   "cell_type": "code",
   "execution_count": 147,
   "metadata": {},
   "outputs": [],
   "source": [
    "def check_y(y,data):\n",
    "  ok=False\n",
    "  C = [name for name in data.columns if name == y]\n",
    "  for key, val in data.types.items():\n",
    "    if key in C:\n",
    "      if val in ['real','int','enum']:        \n",
    "        ok=True         \n",
    "  return ok, val"
   ]
  },
  {
   "cell_type": "code",
   "execution_count": 148,
   "metadata": {},
   "outputs": [],
   "source": [
    "ok,val=check_y(y,data)"
   ]
  },
  {
   "cell_type": "code",
   "execution_count": 149,
   "metadata": {},
   "outputs": [
    {
     "name": "stdout",
     "output_type": "stream",
     "text": [
      "int\n"
     ]
    }
   ],
   "source": [
    "print(val)"
   ]
  },
  {
   "cell_type": "code",
   "execution_count": 150,
   "metadata": {},
   "outputs": [
    {
     "name": "stdout",
     "output_type": "stream",
     "text": [
      "True\n"
     ]
    }
   ],
   "source": [
    "print(ok)"
   ]
  },
  {
   "cell_type": "code",
   "execution_count": 151,
   "metadata": {},
   "outputs": [
    {
     "data": {
      "text/plain": [
       "{'C1': 'int',\n",
       " 'addr_state': 'int',\n",
       " 'annual_inc': 'real',\n",
       " 'delinq_2yrs': 'int',\n",
       " 'dti': 'real',\n",
       " 'emp_length': 'int',\n",
       " 'grade': 'int',\n",
       " 'home_ownership': 'int',\n",
       " 'inq_last_6mths': 'int',\n",
       " 'installment': 'real',\n",
       " 'int_rate': 'real',\n",
       " 'loan_amnt': 'int',\n",
       " 'loan_status_Binary': 'int',\n",
       " 'purpose': 'int',\n",
       " 'sub_grade': 'int',\n",
       " 'term': 'int',\n",
       " 'verification_status': 'int'}"
      ]
     },
     "execution_count": 151,
     "metadata": {},
     "output_type": "execute_result"
    }
   ],
   "source": [
    "allV=get_variables_types(data)\n",
    "allV"
   ]
  },
  {
   "cell_type": "code",
   "execution_count": 152,
   "metadata": {},
   "outputs": [],
   "source": [
    "meta_data['variables']=allV"
   ]
  },
  {
   "cell_type": "code",
   "execution_count": 153,
   "metadata": {},
   "outputs": [],
   "source": [
    "\n",
    "# split into training and test for showing how to predict\n",
    "train, test = data.split_frame([0.9])"
   ]
  },
  {
   "cell_type": "code",
   "execution_count": 154,
   "metadata": {},
   "outputs": [],
   "source": [
    "aml = H2OAutoML(max_runtime_secs=run_time,project_name = name)"
   ]
  },
  {
   "cell_type": "code",
   "execution_count": 155,
   "metadata": {},
   "outputs": [],
   "source": [
    "model_start_time = time.time()"
   ]
  },
  {
   "cell_type": "code",
   "execution_count": 156,
   "metadata": {},
   "outputs": [
    {
     "name": "stdout",
     "output_type": "stream",
     "text": [
      "AutoML progress: |████████████████████████████████████████████████████████| 100%\n",
      "Parse progress: |█████████████████████████████████████████████████████████| 100%\n"
     ]
    }
   ],
   "source": [
    "aml.train(x=X,y=y,training_frame=train)"
   ]
  },
  {
   "cell_type": "code",
   "execution_count": 157,
   "metadata": {},
   "outputs": [],
   "source": [
    "\n",
    "meta_data['model_execution_time'] = time.time() - model_start_time"
   ]
  },
  {
   "cell_type": "code",
   "execution_count": 158,
   "metadata": {},
   "outputs": [],
   "source": [
    "# get leaderboard\n",
    "aml_leaderboard_df=aml.leaderboard.as_data_frame()"
   ]
  },
  {
   "cell_type": "code",
   "execution_count": 159,
   "metadata": {},
   "outputs": [
    {
     "data": {
      "text/html": [
       "<div>\n",
       "<style scoped>\n",
       "    .dataframe tbody tr th:only-of-type {\n",
       "        vertical-align: middle;\n",
       "    }\n",
       "\n",
       "    .dataframe tbody tr th {\n",
       "        vertical-align: top;\n",
       "    }\n",
       "\n",
       "    .dataframe thead th {\n",
       "        text-align: right;\n",
       "    }\n",
       "</style>\n",
       "<table border=\"1\" class=\"dataframe\">\n",
       "  <thead>\n",
       "    <tr style=\"text-align: right;\">\n",
       "      <th></th>\n",
       "      <th>model_id</th>\n",
       "      <th>mean_residual_deviance</th>\n",
       "      <th>rmse</th>\n",
       "      <th>mae</th>\n",
       "      <th>rmsle</th>\n",
       "    </tr>\n",
       "  </thead>\n",
       "  <tbody>\n",
       "    <tr>\n",
       "      <th>0</th>\n",
       "      <td>GBM_grid_0_AutoML_20181027_160013_model_2</td>\n",
       "      <td>0.000091</td>\n",
       "      <td>0.009519</td>\n",
       "      <td>0.001515</td>\n",
       "      <td>0.004424</td>\n",
       "    </tr>\n",
       "    <tr>\n",
       "      <th>1</th>\n",
       "      <td>GBM_grid_0_AutoML_20181027_160013_model_1</td>\n",
       "      <td>0.000147</td>\n",
       "      <td>0.012110</td>\n",
       "      <td>0.006260</td>\n",
       "      <td>0.005503</td>\n",
       "    </tr>\n",
       "    <tr>\n",
       "      <th>2</th>\n",
       "      <td>StackedEnsemble_AllModels_0_AutoML_20181027_160013</td>\n",
       "      <td>0.000156</td>\n",
       "      <td>0.012470</td>\n",
       "      <td>0.006145</td>\n",
       "      <td>0.005589</td>\n",
       "    </tr>\n",
       "    <tr>\n",
       "      <th>3</th>\n",
       "      <td>StackedEnsemble_BestOfFamily_0_AutoML_20181027_160013</td>\n",
       "      <td>0.000186</td>\n",
       "      <td>0.013623</td>\n",
       "      <td>0.004476</td>\n",
       "      <td>0.005478</td>\n",
       "    </tr>\n",
       "    <tr>\n",
       "      <th>4</th>\n",
       "      <td>GBM_grid_0_AutoML_20181027_160013_model_0</td>\n",
       "      <td>0.000468</td>\n",
       "      <td>0.021631</td>\n",
       "      <td>0.010482</td>\n",
       "      <td>0.009142</td>\n",
       "    </tr>\n",
       "    <tr>\n",
       "      <th>5</th>\n",
       "      <td>GBM_grid_0_AutoML_20181027_160013_model_6</td>\n",
       "      <td>0.000805</td>\n",
       "      <td>0.028369</td>\n",
       "      <td>0.019180</td>\n",
       "      <td>0.014463</td>\n",
       "    </tr>\n",
       "    <tr>\n",
       "      <th>6</th>\n",
       "      <td>GBM_grid_0_AutoML_20181027_160013_model_7</td>\n",
       "      <td>0.000823</td>\n",
       "      <td>0.028685</td>\n",
       "      <td>0.019968</td>\n",
       "      <td>0.015082</td>\n",
       "    </tr>\n",
       "    <tr>\n",
       "      <th>7</th>\n",
       "      <td>DRF_0_AutoML_20181027_160013</td>\n",
       "      <td>0.001463</td>\n",
       "      <td>0.038245</td>\n",
       "      <td>0.008527</td>\n",
       "      <td>0.011835</td>\n",
       "    </tr>\n",
       "    <tr>\n",
       "      <th>8</th>\n",
       "      <td>GBM_grid_0_AutoML_20181027_160013_model_5</td>\n",
       "      <td>0.001904</td>\n",
       "      <td>0.043640</td>\n",
       "      <td>0.028733</td>\n",
       "      <td>0.023302</td>\n",
       "    </tr>\n",
       "    <tr>\n",
       "      <th>9</th>\n",
       "      <td>GBM_grid_0_AutoML_20181027_160013_model_3</td>\n",
       "      <td>0.001955</td>\n",
       "      <td>0.044213</td>\n",
       "      <td>0.030515</td>\n",
       "      <td>0.020596</td>\n",
       "    </tr>\n",
       "    <tr>\n",
       "      <th>10</th>\n",
       "      <td>GBM_grid_0_AutoML_20181027_160013_model_4</td>\n",
       "      <td>0.005329</td>\n",
       "      <td>0.072997</td>\n",
       "      <td>0.028702</td>\n",
       "      <td>0.017614</td>\n",
       "    </tr>\n",
       "    <tr>\n",
       "      <th>11</th>\n",
       "      <td>XRT_0_AutoML_20181027_160013</td>\n",
       "      <td>0.007727</td>\n",
       "      <td>0.087904</td>\n",
       "      <td>0.037544</td>\n",
       "      <td>0.039572</td>\n",
       "    </tr>\n",
       "    <tr>\n",
       "      <th>12</th>\n",
       "      <td>DeepLearning_0_AutoML_20181027_160013</td>\n",
       "      <td>0.067505</td>\n",
       "      <td>0.259817</td>\n",
       "      <td>0.205490</td>\n",
       "      <td>0.118919</td>\n",
       "    </tr>\n",
       "    <tr>\n",
       "      <th>13</th>\n",
       "      <td>GLM_grid_0_AutoML_20181027_160013_model_0</td>\n",
       "      <td>0.076775</td>\n",
       "      <td>0.277083</td>\n",
       "      <td>0.238609</td>\n",
       "      <td>0.173650</td>\n",
       "    </tr>\n",
       "    <tr>\n",
       "      <th>14</th>\n",
       "      <td>GBM_grid_0_AutoML_20181027_160013_model_8</td>\n",
       "      <td>0.097925</td>\n",
       "      <td>0.312930</td>\n",
       "      <td>0.257928</td>\n",
       "      <td>0.164739</td>\n",
       "    </tr>\n",
       "    <tr>\n",
       "      <th>15</th>\n",
       "      <td>GBM_grid_0_AutoML_20181027_160013_model_9</td>\n",
       "      <td>1.554575</td>\n",
       "      <td>1.246826</td>\n",
       "      <td>1.029623</td>\n",
       "      <td>0.531868</td>\n",
       "    </tr>\n",
       "  </tbody>\n",
       "</table>\n",
       "</div>"
      ],
      "text/plain": [
       "                                                 model_id  \\\n",
       "0               GBM_grid_0_AutoML_20181027_160013_model_2   \n",
       "1               GBM_grid_0_AutoML_20181027_160013_model_1   \n",
       "2      StackedEnsemble_AllModels_0_AutoML_20181027_160013   \n",
       "3   StackedEnsemble_BestOfFamily_0_AutoML_20181027_160013   \n",
       "4               GBM_grid_0_AutoML_20181027_160013_model_0   \n",
       "5               GBM_grid_0_AutoML_20181027_160013_model_6   \n",
       "6               GBM_grid_0_AutoML_20181027_160013_model_7   \n",
       "7                            DRF_0_AutoML_20181027_160013   \n",
       "8               GBM_grid_0_AutoML_20181027_160013_model_5   \n",
       "9               GBM_grid_0_AutoML_20181027_160013_model_3   \n",
       "10              GBM_grid_0_AutoML_20181027_160013_model_4   \n",
       "11                           XRT_0_AutoML_20181027_160013   \n",
       "12                  DeepLearning_0_AutoML_20181027_160013   \n",
       "13              GLM_grid_0_AutoML_20181027_160013_model_0   \n",
       "14              GBM_grid_0_AutoML_20181027_160013_model_8   \n",
       "15              GBM_grid_0_AutoML_20181027_160013_model_9   \n",
       "\n",
       "    mean_residual_deviance      rmse       mae     rmsle  \n",
       "0                 0.000091  0.009519  0.001515  0.004424  \n",
       "1                 0.000147  0.012110  0.006260  0.005503  \n",
       "2                 0.000156  0.012470  0.006145  0.005589  \n",
       "3                 0.000186  0.013623  0.004476  0.005478  \n",
       "4                 0.000468  0.021631  0.010482  0.009142  \n",
       "5                 0.000805  0.028369  0.019180  0.014463  \n",
       "6                 0.000823  0.028685  0.019968  0.015082  \n",
       "7                 0.001463  0.038245  0.008527  0.011835  \n",
       "8                 0.001904  0.043640  0.028733  0.023302  \n",
       "9                 0.001955  0.044213  0.030515  0.020596  \n",
       "10                0.005329  0.072997  0.028702  0.017614  \n",
       "11                0.007727  0.087904  0.037544  0.039572  \n",
       "12                0.067505  0.259817  0.205490  0.118919  \n",
       "13                0.076775  0.277083  0.238609  0.173650  \n",
       "14                0.097925  0.312930  0.257928  0.164739  \n",
       "15                1.554575  1.246826  1.029623  0.531868  "
      ]
     },
     "execution_count": 159,
     "metadata": {},
     "output_type": "execute_result"
    }
   ],
   "source": [
    "aml_leaderboard_df"
   ]
  },
  {
   "cell_type": "code",
   "execution_count": 160,
   "metadata": {},
   "outputs": [],
   "source": [
    "# STart best model as first model\n",
    "\n",
    "model_set=aml_leaderboard_df['model_id']\n",
    "mod_best=h2o.get_model(model_set[0])"
   ]
  },
  {
   "cell_type": "code",
   "execution_count": 161,
   "metadata": {},
   "outputs": [
    {
     "data": {
      "text/plain": [
       "'GBM_grid_0_AutoML_20181027_160013_model_2'"
      ]
     },
     "execution_count": 161,
     "metadata": {},
     "output_type": "execute_result"
    }
   ],
   "source": [
    "mod_best._id"
   ]
  },
  {
   "cell_type": "code",
   "execution_count": 162,
   "metadata": {},
   "outputs": [],
   "source": [
    "# Get stacked ensemble  \n",
    "se=get_stacked_ensemble(model_set)"
   ]
  },
  {
   "cell_type": "code",
   "execution_count": 163,
   "metadata": {},
   "outputs": [
    {
     "name": "stdout",
     "output_type": "stream",
     "text": [
      "StackedEnsemble_BestOfFamily_0_AutoML_20181027_160013\n"
     ]
    }
   ],
   "source": [
    "print(se)"
   ]
  },
  {
   "cell_type": "code",
   "execution_count": 164,
   "metadata": {},
   "outputs": [],
   "source": [
    "if se is not None:\n",
    "  mod_best=h2o.get_model(se)"
   ]
  },
  {
   "cell_type": "code",
   "execution_count": 165,
   "metadata": {},
   "outputs": [
    {
     "data": {
      "text/plain": [
       "'StackedEnsemble_BestOfFamily_0_AutoML_20181027_160013'"
      ]
     },
     "execution_count": 165,
     "metadata": {},
     "output_type": "execute_result"
    }
   ],
   "source": [
    "mod_best._id"
   ]
  },
  {
   "cell_type": "code",
   "execution_count": 166,
   "metadata": {},
   "outputs": [
    {
     "data": {
      "text/plain": [
       "<function h2o.model.model_base.ModelBase._get_metrics>"
      ]
     },
     "execution_count": 166,
     "metadata": {},
     "output_type": "execute_result"
    }
   ],
   "source": [
    "mod_best._get_metrics"
   ]
  },
  {
   "cell_type": "code",
   "execution_count": 167,
   "metadata": {},
   "outputs": [
    {
     "data": {
      "text/plain": [
       "h2o.estimators.stackedensemble.H2OStackedEnsembleEstimator"
      ]
     },
     "execution_count": 167,
     "metadata": {},
     "output_type": "execute_result"
    }
   ],
   "source": [
    "type(mod_best)"
   ]
  },
  {
   "cell_type": "code",
   "execution_count": 168,
   "metadata": {},
   "outputs": [
    {
     "name": "stdout",
     "output_type": "stream",
     "text": [
      "Model Details\n",
      "=============\n",
      "H2OStackedEnsembleEstimator :  Stacked Ensemble\n",
      "Model Key:  StackedEnsemble_BestOfFamily_0_AutoML_20181027_160013\n",
      "No model summary for this model\n",
      "\n",
      "\n",
      "ModelMetricsRegressionGLM: stackedensemble\n",
      "** Reported on train data. **\n",
      "\n",
      "MSE: 3.425375541430321e-05\n",
      "RMSE: 0.005852670793262099\n",
      "MAE: 0.002744272352266248\n",
      "RMSLE: 0.0024114873417163903\n",
      "R^2: 0.9999825191439371\n",
      "Mean Residual Deviance: 3.425375541430321e-05\n",
      "Null degrees of freedom: 7293\n",
      "Residual degrees of freedom: 7289\n",
      "Null deviance: 14292.600493556307\n",
      "Residual deviance: 0.2498468919919276\n",
      "AIC: -54283.34916207495\n",
      "\n",
      "ModelMetricsRegressionGLM: stackedensemble\n",
      "** Reported on validation data. **\n",
      "\n",
      "MSE: 0.00010910960361589678\n",
      "RMSE: 0.0104455542512543\n",
      "MAE: 0.003956915945498883\n",
      "RMSLE: 0.0028814523430049973\n",
      "R^2: 0.999946071770248\n",
      "Mean Residual Deviance: 0.00010910960361589678\n",
      "Null degrees of freedom: 1714\n",
      "Residual degrees of freedom: 1710\n",
      "Null deviance: 3471.3956887237273\n",
      "Residual deviance: 0.18712297020126298\n",
      "AIC: -10767.256189177206\n",
      "\n",
      "ModelMetricsRegressionGLM: stackedensemble\n",
      "** Reported on cross-validation data. **\n",
      "\n",
      "MSE: 0.0001855993843383972\n",
      "RMSE: 0.013623486497163537\n",
      "MAE: 0.0044757734814843105\n",
      "RMSLE: 0.005477682336257574\n",
      "R^2: 0.9999052823235369\n",
      "Mean Residual Deviance: 0.0001855993843383972\n",
      "Null degrees of freedom: 7293\n",
      "Residual degrees of freedom: 7290\n",
      "Null deviance: 14293.982990564478\n",
      "Residual deviance: 1.3537619093642692\n",
      "AIC: -41959.98955702918\n",
      "<bound method ModelBase.coef_norm of >\n"
     ]
    }
   ],
   "source": [
    "mods=mod_best.coef_norm\n",
    "print(mods)"
   ]
  },
  {
   "cell_type": "code",
   "execution_count": 169,
   "metadata": {},
   "outputs": [],
   "source": [
    "bm=stackedensemble_df(aml_leaderboard_df)"
   ]
  },
  {
   "cell_type": "code",
   "execution_count": 170,
   "metadata": {},
   "outputs": [
    {
     "data": {
      "text/plain": [
       "['GBM_grid_0_AutoML_20181027_160013_model_2',\n",
       " 'GLM_grid_0_AutoML_20181027_160013_model_0',\n",
       " 'DRF_0_AutoML_20181027_160013',\n",
       " 'XRT_0_AutoML_20181027_160013',\n",
       " 'DeepLearning_0_AutoML_20181027_160013']"
      ]
     },
     "execution_count": 170,
     "metadata": {},
     "output_type": "execute_result"
    }
   ],
   "source": [
    "bm"
   ]
  },
  {
   "cell_type": "code",
   "execution_count": 171,
   "metadata": {},
   "outputs": [
    {
     "data": {
      "text/html": [
       "<div>\n",
       "<style scoped>\n",
       "    .dataframe tbody tr th:only-of-type {\n",
       "        vertical-align: middle;\n",
       "    }\n",
       "\n",
       "    .dataframe tbody tr th {\n",
       "        vertical-align: top;\n",
       "    }\n",
       "\n",
       "    .dataframe thead th {\n",
       "        text-align: right;\n",
       "    }\n",
       "</style>\n",
       "<table border=\"1\" class=\"dataframe\">\n",
       "  <thead>\n",
       "    <tr style=\"text-align: right;\">\n",
       "      <th></th>\n",
       "      <th>model_id</th>\n",
       "      <th>mean_residual_deviance</th>\n",
       "      <th>rmse</th>\n",
       "      <th>mae</th>\n",
       "      <th>rmsle</th>\n",
       "    </tr>\n",
       "  </thead>\n",
       "  <tbody>\n",
       "    <tr>\n",
       "      <th>0</th>\n",
       "      <td>GBM_grid_0_AutoML_20181027_160013_model_2</td>\n",
       "      <td>0.000091</td>\n",
       "      <td>0.009519</td>\n",
       "      <td>0.001515</td>\n",
       "      <td>0.004424</td>\n",
       "    </tr>\n",
       "    <tr>\n",
       "      <th>1</th>\n",
       "      <td>GBM_grid_0_AutoML_20181027_160013_model_1</td>\n",
       "      <td>0.000147</td>\n",
       "      <td>0.012110</td>\n",
       "      <td>0.006260</td>\n",
       "      <td>0.005503</td>\n",
       "    </tr>\n",
       "    <tr>\n",
       "      <th>2</th>\n",
       "      <td>StackedEnsemble_AllModels_0_AutoML_20181027_160013</td>\n",
       "      <td>0.000156</td>\n",
       "      <td>0.012470</td>\n",
       "      <td>0.006145</td>\n",
       "      <td>0.005589</td>\n",
       "    </tr>\n",
       "    <tr>\n",
       "      <th>3</th>\n",
       "      <td>StackedEnsemble_BestOfFamily_0_AutoML_20181027_160013</td>\n",
       "      <td>0.000186</td>\n",
       "      <td>0.013623</td>\n",
       "      <td>0.004476</td>\n",
       "      <td>0.005478</td>\n",
       "    </tr>\n",
       "    <tr>\n",
       "      <th>4</th>\n",
       "      <td>GBM_grid_0_AutoML_20181027_160013_model_0</td>\n",
       "      <td>0.000468</td>\n",
       "      <td>0.021631</td>\n",
       "      <td>0.010482</td>\n",
       "      <td>0.009142</td>\n",
       "    </tr>\n",
       "    <tr>\n",
       "      <th>5</th>\n",
       "      <td>GBM_grid_0_AutoML_20181027_160013_model_6</td>\n",
       "      <td>0.000805</td>\n",
       "      <td>0.028369</td>\n",
       "      <td>0.019180</td>\n",
       "      <td>0.014463</td>\n",
       "    </tr>\n",
       "    <tr>\n",
       "      <th>6</th>\n",
       "      <td>GBM_grid_0_AutoML_20181027_160013_model_7</td>\n",
       "      <td>0.000823</td>\n",
       "      <td>0.028685</td>\n",
       "      <td>0.019968</td>\n",
       "      <td>0.015082</td>\n",
       "    </tr>\n",
       "    <tr>\n",
       "      <th>7</th>\n",
       "      <td>DRF_0_AutoML_20181027_160013</td>\n",
       "      <td>0.001463</td>\n",
       "      <td>0.038245</td>\n",
       "      <td>0.008527</td>\n",
       "      <td>0.011835</td>\n",
       "    </tr>\n",
       "    <tr>\n",
       "      <th>8</th>\n",
       "      <td>GBM_grid_0_AutoML_20181027_160013_model_5</td>\n",
       "      <td>0.001904</td>\n",
       "      <td>0.043640</td>\n",
       "      <td>0.028733</td>\n",
       "      <td>0.023302</td>\n",
       "    </tr>\n",
       "    <tr>\n",
       "      <th>9</th>\n",
       "      <td>GBM_grid_0_AutoML_20181027_160013_model_3</td>\n",
       "      <td>0.001955</td>\n",
       "      <td>0.044213</td>\n",
       "      <td>0.030515</td>\n",
       "      <td>0.020596</td>\n",
       "    </tr>\n",
       "    <tr>\n",
       "      <th>10</th>\n",
       "      <td>GBM_grid_0_AutoML_20181027_160013_model_4</td>\n",
       "      <td>0.005329</td>\n",
       "      <td>0.072997</td>\n",
       "      <td>0.028702</td>\n",
       "      <td>0.017614</td>\n",
       "    </tr>\n",
       "    <tr>\n",
       "      <th>11</th>\n",
       "      <td>XRT_0_AutoML_20181027_160013</td>\n",
       "      <td>0.007727</td>\n",
       "      <td>0.087904</td>\n",
       "      <td>0.037544</td>\n",
       "      <td>0.039572</td>\n",
       "    </tr>\n",
       "    <tr>\n",
       "      <th>12</th>\n",
       "      <td>DeepLearning_0_AutoML_20181027_160013</td>\n",
       "      <td>0.067505</td>\n",
       "      <td>0.259817</td>\n",
       "      <td>0.205490</td>\n",
       "      <td>0.118919</td>\n",
       "    </tr>\n",
       "    <tr>\n",
       "      <th>13</th>\n",
       "      <td>GLM_grid_0_AutoML_20181027_160013_model_0</td>\n",
       "      <td>0.076775</td>\n",
       "      <td>0.277083</td>\n",
       "      <td>0.238609</td>\n",
       "      <td>0.173650</td>\n",
       "    </tr>\n",
       "    <tr>\n",
       "      <th>14</th>\n",
       "      <td>GBM_grid_0_AutoML_20181027_160013_model_8</td>\n",
       "      <td>0.097925</td>\n",
       "      <td>0.312930</td>\n",
       "      <td>0.257928</td>\n",
       "      <td>0.164739</td>\n",
       "    </tr>\n",
       "    <tr>\n",
       "      <th>15</th>\n",
       "      <td>GBM_grid_0_AutoML_20181027_160013_model_9</td>\n",
       "      <td>1.554575</td>\n",
       "      <td>1.246826</td>\n",
       "      <td>1.029623</td>\n",
       "      <td>0.531868</td>\n",
       "    </tr>\n",
       "  </tbody>\n",
       "</table>\n",
       "</div>"
      ],
      "text/plain": [
       "                                                 model_id  \\\n",
       "0               GBM_grid_0_AutoML_20181027_160013_model_2   \n",
       "1               GBM_grid_0_AutoML_20181027_160013_model_1   \n",
       "2      StackedEnsemble_AllModels_0_AutoML_20181027_160013   \n",
       "3   StackedEnsemble_BestOfFamily_0_AutoML_20181027_160013   \n",
       "4               GBM_grid_0_AutoML_20181027_160013_model_0   \n",
       "5               GBM_grid_0_AutoML_20181027_160013_model_6   \n",
       "6               GBM_grid_0_AutoML_20181027_160013_model_7   \n",
       "7                            DRF_0_AutoML_20181027_160013   \n",
       "8               GBM_grid_0_AutoML_20181027_160013_model_5   \n",
       "9               GBM_grid_0_AutoML_20181027_160013_model_3   \n",
       "10              GBM_grid_0_AutoML_20181027_160013_model_4   \n",
       "11                           XRT_0_AutoML_20181027_160013   \n",
       "12                  DeepLearning_0_AutoML_20181027_160013   \n",
       "13              GLM_grid_0_AutoML_20181027_160013_model_0   \n",
       "14              GBM_grid_0_AutoML_20181027_160013_model_8   \n",
       "15              GBM_grid_0_AutoML_20181027_160013_model_9   \n",
       "\n",
       "    mean_residual_deviance      rmse       mae     rmsle  \n",
       "0                 0.000091  0.009519  0.001515  0.004424  \n",
       "1                 0.000147  0.012110  0.006260  0.005503  \n",
       "2                 0.000156  0.012470  0.006145  0.005589  \n",
       "3                 0.000186  0.013623  0.004476  0.005478  \n",
       "4                 0.000468  0.021631  0.010482  0.009142  \n",
       "5                 0.000805  0.028369  0.019180  0.014463  \n",
       "6                 0.000823  0.028685  0.019968  0.015082  \n",
       "7                 0.001463  0.038245  0.008527  0.011835  \n",
       "8                 0.001904  0.043640  0.028733  0.023302  \n",
       "9                 0.001955  0.044213  0.030515  0.020596  \n",
       "10                0.005329  0.072997  0.028702  0.017614  \n",
       "11                0.007727  0.087904  0.037544  0.039572  \n",
       "12                0.067505  0.259817  0.205490  0.118919  \n",
       "13                0.076775  0.277083  0.238609  0.173650  \n",
       "14                0.097925  0.312930  0.257928  0.164739  \n",
       "15                1.554575  1.246826  1.029623  0.531868  "
      ]
     },
     "execution_count": 171,
     "metadata": {},
     "output_type": "execute_result"
    }
   ],
   "source": [
    "aml_leaderboard_df"
   ]
  },
  {
   "cell_type": "code",
   "execution_count": 172,
   "metadata": {},
   "outputs": [],
   "source": [
    "#  Get best_models and coef_norm()\n",
    "best_models={}\n",
    "best_models=stackedensemble(mod_best)\n",
    "bm=[]\n",
    "if best_models is not None: \n",
    "  if 'Intercept' in best_models.keys():\n",
    "    del best_models['Intercept']\n",
    "  bm=list(best_models.keys())\n",
    "else:\n",
    "  best_models={}\n",
    "  bm=stackedensemble_df(aml_leaderboard_df)   \n",
    "  for b in bm:   \n",
    "    best_models[b]=None\n",
    "\n",
    "if mod_best.model_id not in bm:\n",
    "    bm.append(mod_best.model_id)"
   ]
  },
  {
   "cell_type": "code",
   "execution_count": 173,
   "metadata": {},
   "outputs": [
    {
     "data": {
      "text/plain": [
       "['GBM_grid_0_AutoML_20181027_160013_model_2',\n",
       " 'DRF_0_AutoML_20181027_160013',\n",
       " 'XRT_0_AutoML_20181027_160013',\n",
       " 'DeepLearning_0_AutoML_20181027_160013',\n",
       " 'GLM_grid_0_AutoML_20181027_160013_model_0',\n",
       " 'StackedEnsemble_BestOfFamily_0_AutoML_20181027_160013']"
      ]
     },
     "execution_count": 173,
     "metadata": {},
     "output_type": "execute_result"
    }
   ],
   "source": [
    "bm"
   ]
  },
  {
   "cell_type": "code",
   "execution_count": 174,
   "metadata": {},
   "outputs": [],
   "source": [
    "# Best of Family leaderboard\n",
    "\n",
    "aml_leaderboard_df=aml_leaderboard_df.loc[aml_leaderboard_df['model_id'].isin(bm)]"
   ]
  },
  {
   "cell_type": "code",
   "execution_count": 175,
   "metadata": {},
   "outputs": [
    {
     "data": {
      "text/html": [
       "<div>\n",
       "<style scoped>\n",
       "    .dataframe tbody tr th:only-of-type {\n",
       "        vertical-align: middle;\n",
       "    }\n",
       "\n",
       "    .dataframe tbody tr th {\n",
       "        vertical-align: top;\n",
       "    }\n",
       "\n",
       "    .dataframe thead th {\n",
       "        text-align: right;\n",
       "    }\n",
       "</style>\n",
       "<table border=\"1\" class=\"dataframe\">\n",
       "  <thead>\n",
       "    <tr style=\"text-align: right;\">\n",
       "      <th></th>\n",
       "      <th>model_id</th>\n",
       "      <th>mean_residual_deviance</th>\n",
       "      <th>rmse</th>\n",
       "      <th>mae</th>\n",
       "      <th>rmsle</th>\n",
       "    </tr>\n",
       "  </thead>\n",
       "  <tbody>\n",
       "    <tr>\n",
       "      <th>0</th>\n",
       "      <td>GBM_grid_0_AutoML_20181027_160013_model_2</td>\n",
       "      <td>0.000091</td>\n",
       "      <td>0.009519</td>\n",
       "      <td>0.001515</td>\n",
       "      <td>0.004424</td>\n",
       "    </tr>\n",
       "    <tr>\n",
       "      <th>3</th>\n",
       "      <td>StackedEnsemble_BestOfFamily_0_AutoML_20181027_160013</td>\n",
       "      <td>0.000186</td>\n",
       "      <td>0.013623</td>\n",
       "      <td>0.004476</td>\n",
       "      <td>0.005478</td>\n",
       "    </tr>\n",
       "    <tr>\n",
       "      <th>7</th>\n",
       "      <td>DRF_0_AutoML_20181027_160013</td>\n",
       "      <td>0.001463</td>\n",
       "      <td>0.038245</td>\n",
       "      <td>0.008527</td>\n",
       "      <td>0.011835</td>\n",
       "    </tr>\n",
       "    <tr>\n",
       "      <th>11</th>\n",
       "      <td>XRT_0_AutoML_20181027_160013</td>\n",
       "      <td>0.007727</td>\n",
       "      <td>0.087904</td>\n",
       "      <td>0.037544</td>\n",
       "      <td>0.039572</td>\n",
       "    </tr>\n",
       "    <tr>\n",
       "      <th>12</th>\n",
       "      <td>DeepLearning_0_AutoML_20181027_160013</td>\n",
       "      <td>0.067505</td>\n",
       "      <td>0.259817</td>\n",
       "      <td>0.205490</td>\n",
       "      <td>0.118919</td>\n",
       "    </tr>\n",
       "    <tr>\n",
       "      <th>13</th>\n",
       "      <td>GLM_grid_0_AutoML_20181027_160013_model_0</td>\n",
       "      <td>0.076775</td>\n",
       "      <td>0.277083</td>\n",
       "      <td>0.238609</td>\n",
       "      <td>0.173650</td>\n",
       "    </tr>\n",
       "  </tbody>\n",
       "</table>\n",
       "</div>"
      ],
      "text/plain": [
       "                                                 model_id  \\\n",
       "0               GBM_grid_0_AutoML_20181027_160013_model_2   \n",
       "3   StackedEnsemble_BestOfFamily_0_AutoML_20181027_160013   \n",
       "7                            DRF_0_AutoML_20181027_160013   \n",
       "11                           XRT_0_AutoML_20181027_160013   \n",
       "12                  DeepLearning_0_AutoML_20181027_160013   \n",
       "13              GLM_grid_0_AutoML_20181027_160013_model_0   \n",
       "\n",
       "    mean_residual_deviance      rmse       mae     rmsle  \n",
       "0                 0.000091  0.009519  0.001515  0.004424  \n",
       "3                 0.000186  0.013623  0.004476  0.005478  \n",
       "7                 0.001463  0.038245  0.008527  0.011835  \n",
       "11                0.007727  0.087904  0.037544  0.039572  \n",
       "12                0.067505  0.259817  0.205490  0.118919  \n",
       "13                0.076775  0.277083  0.238609  0.173650  "
      ]
     },
     "execution_count": 175,
     "metadata": {},
     "output_type": "execute_result"
    }
   ],
   "source": [
    "aml_leaderboard_df"
   ]
  },
  {
   "cell_type": "code",
   "execution_count": 176,
   "metadata": {},
   "outputs": [],
   "source": [
    "# save leaderboard\n",
    "leaderboard_stats=run_id+'_leaderboard.csv'\n",
    "aml_leaderboard_df.to_csv(leaderboard_stats)"
   ]
  },
  {
   "cell_type": "code",
   "execution_count": 177,
   "metadata": {},
   "outputs": [
    {
     "name": "stdout",
     "output_type": "stream",
     "text": [
      "GBM_grid_0_AutoML_20181027_160013_model_2\n"
     ]
    }
   ],
   "source": [
    "top=aml_leaderboard_df.iloc[0]['model_id']\n",
    "print(top)"
   ]
  },
  {
   "cell_type": "code",
   "execution_count": 178,
   "metadata": {},
   "outputs": [
    {
     "name": "stdout",
     "output_type": "stream",
     "text": [
      "GBM_grid_0_AutoML_20181027_160013_model_2\n",
      "gbm\n"
     ]
    }
   ],
   "source": [
    "mod_best=h2o.get_model(top)\n",
    "print(mod_best._id)\n",
    "print(mod_best.algo)"
   ]
  },
  {
   "cell_type": "code",
   "execution_count": 179,
   "metadata": {},
   "outputs": [],
   "source": [
    "meta_data['mod_best']=mod_best._id\n",
    "meta_data['mod_best_algo']=mod_best.algo"
   ]
  },
  {
   "cell_type": "code",
   "execution_count": 180,
   "metadata": {},
   "outputs": [],
   "source": [
    "meta_data['models']=bm"
   ]
  },
  {
   "cell_type": "code",
   "execution_count": 181,
   "metadata": {},
   "outputs": [],
   "source": [
    "models_path=os.path.join(run_dir,'models')\n",
    "for mod in bm:\n",
    "  try:   \n",
    "    m=h2o.get_model(mod) \n",
    "    h2o.save_model(m, path = models_path)\n",
    "  except:    \n",
    "    pass"
   ]
  },
  {
   "cell_type": "code",
   "execution_count": 182,
   "metadata": {},
   "outputs": [
    {
     "name": "stdout",
     "output_type": "stream",
     "text": [
      "C:\\BigData_ArtificialIntelligence\\p1iaM3G3W\\models\n"
     ]
    }
   ],
   "source": [
    "print(models_path)"
   ]
  },
  {
   "cell_type": "code",
   "execution_count": 183,
   "metadata": {},
   "outputs": [
    {
     "name": "stdout",
     "output_type": "stream",
     "text": [
      "{'algo': 'gbm', 'model_id': 'GBM_grid_0_AutoML_20181027_160013_model_2', 'varimp': [('int_rate', 33802.1484375, 1.0, 0.4867389434233273), ('sub_grade', 30954.37109375, 0.9157515875354632, 0.4457319601552459), ('term', 4674.408203125, 0.13828731069470204, 0.06730981949639267), ('loan_amnt', 5.781174659729004, 0.00017102979919807068, 8.324686375557276e-05), ('inq_last_6mths', 2.890056610107422, 8.54991988290662e-05, 4.161578970160066e-05), ('C1', 2.6677474975585938, 7.892242419120919e-05, 3.84146173632368e-05), ('dti', 1.3423768281936646, 3.97127665028663e-05, 1.9329750008022448e-05), ('installment', 1.1733874082565308, 3.4713397298580534e-05, 1.689636232374527e-05), ('addr_state', 0.4221108853816986, 1.248769397490161e-05, 6.07824697113746e-06), ('purpose', 0.3349411189556122, 9.908870720892686e-06, 4.823033265205649e-06), ('delinq_2yrs', 0.3092498779296875, 9.148823143638013e-06, 4.45308851050125e-06), ('annual_inc', 0.15105362236499786, 4.4687580330668995e-06, 2.1751185634294887e-06), ('home_ownership', 0.07896091789007187, 2.335973349033426e-06, 1.137009199773581e-06), ('emp_length', 0.04929390922188759, 1.4583069864044817e-06, 7.098148017493739e-07), ('verification_status', 0.023453837260603905, 6.938564069076831e-07, 3.377269343857519e-07), ('loan_status_Binary', 0.00413229875266552, 1.222495889663972e-07, 5.9503635767440213e-08)]}\n"
     ]
    }
   ],
   "source": [
    "# GBM\n",
    " \n",
    "mod,mod_id=get_model_by_algo(\"GBM\",best_models)\n",
    "if mod is not None:\n",
    "    try:     \n",
    "        sh_df=mod.scoring_history()\n",
    "        sh_df.to_csv(run_id+'_gbm_scoring_history.csv') \n",
    "    except:\n",
    "        pass   \n",
    "    try:     \n",
    "        stats_gbm={}\n",
    "        stats_gbm=gbm_stats(mod)\n",
    "        n=run_id+'_gbm_stats.json'\n",
    "        dict_to_json(stats_gbm,n)\n",
    "        print(stats_gbm)\n",
    "    except:\n",
    "        pass"
   ]
  },
  {
   "cell_type": "code",
   "execution_count": 184,
   "metadata": {},
   "outputs": [],
   "source": [
    "# DeepLearning\n",
    "\n",
    "mod,mod_id=get_model_by_algo(\"Dee\",best_models)"
   ]
  },
  {
   "cell_type": "code",
   "execution_count": 185,
   "metadata": {},
   "outputs": [
    {
     "name": "stdout",
     "output_type": "stream",
     "text": [
      "{'algo': 'deeplearning', 'model_id': 'DeepLearning_0_AutoML_20181027_160013', 'varimp': [('int_rate', 1.0, 1.0, 0.20852329906831418), ('loan_status_Binary', 0.5572929978370667, 0.5572929978370667, 0.11620857445665601), ('term', 0.5455048084259033, 0.5455048084259033, 0.11375046231059807), ('sub_grade', 0.37294262647628784, 0.37294262647628784, 0.07776722683603755), ('loan_amnt', 0.34907451272010803, 0.34907451272010803, 0.07279016901306114), ('installment', 0.3346025347709656, 0.3346025347709656, 0.06977242442706205), ('annual_inc', 0.32875382900238037, 0.32875382900238037, 0.06855283300491678), ('delinq_2yrs', 0.3021802604198456, 0.3021802604198456, 0.06301162481606852), ('home_ownership', 0.21801890432834625, 0.21801890432834625, 0.045462021189805926), ('C1', 0.1628381311893463, 0.1628381311893463, 0.03395554432972144), ('verification_status', 0.14735130965709686, 0.14735130965709686, 0.03072618121173458), ('addr_state', 0.1289699673652649, 0.1289699673652649, 0.02689324307573785), ('purpose', 0.10285801440477371, 0.10285801440477371, 0.021448292499299595), ('dti', 0.08571698516607285, 0.08571698516607285, 0.017873988533019258), ('inq_last_6mths', 0.083247110247612, 0.083247110247612, 0.01735896206673572), ('emp_length', 0.07627518475055695, 0.07627518475055695, 0.015905153161231304)]}\n"
     ]
    }
   ],
   "source": [
    "if mod is not None:\n",
    "    try:    \n",
    "        sh_df=mod.scoring_history()\n",
    "        sh_df.to_csv(run_id+'_dl_scoring_history.csv') \n",
    "    except:\n",
    "        pass \n",
    "    try:\n",
    "        stats_dl={}\n",
    "        stats_dl=dl_stats(mod)\n",
    "        n=run_id+'_dl_stats.json'\n",
    "        dict_to_json(stats_dl,n)\n",
    "        print(stats_dl)\n",
    "    except:\n",
    "        pass    \n",
    "    try:\n",
    "        cf=mod.confusion_matrix()    \n",
    "        cf_df.to_csv(run_id+'_dl_confusion_matrix.csv')\n",
    "    except:\n",
    "        pass"
   ]
  },
  {
   "cell_type": "code",
   "execution_count": 186,
   "metadata": {},
   "outputs": [],
   "source": [
    "# DRF\n",
    "\n",
    "mod,mod_id=get_model_by_algo(\"DRF\",best_models)\n",
    "if mod is not None:\n",
    "    try:     \n",
    "         sh_df=mod.scoring_history()\n",
    "         sh_df.to_csv(run_id+'_drf_scoring_history.csv') \n",
    "    except:\n",
    "         pass  \n",
    "    try: \n",
    "         stats_drf={}\n",
    "         stats_drf=drf_stats(mod)\n",
    "         n=run_id+'_drf_stats.json'\n",
    "         dict_to_json(stats_drf,n)\n",
    "         print(stats_drf)\n",
    "    except:\n",
    "         pass"
   ]
  },
  {
   "cell_type": "code",
   "execution_count": 187,
   "metadata": {},
   "outputs": [],
   "source": [
    "# XRT\n",
    "\n",
    "mod,mod_id=get_model_by_algo(\"XRT\",best_models)\n",
    "if mod is not None:\n",
    "    try:     \n",
    "         sh_df=mod.scoring_history()\n",
    "         sh_df.to_csv(run_id+'_xrt_scoring_history.csv')\n",
    "    except:\n",
    "         pass     \n",
    "    try:        \n",
    "         stats_xrt={}\n",
    "         stats_xrt=xrt_stats(mod)\n",
    "         n=run_id+'_xrt_stats.json'\n",
    "         dict_to_json(stats_xrt,n)\n",
    "         print(stats_xrt)\n",
    "    except:\n",
    "         pass"
   ]
  },
  {
   "cell_type": "code",
   "execution_count": 188,
   "metadata": {},
   "outputs": [
    {
     "name": "stdout",
     "output_type": "stream",
     "text": [
      "{'algo': 'glm', 'model_id': 'GLM_grid_0_AutoML_20181027_160013_model_0', 'coef': {'Intercept': -0.32863645625834215, 'C1': -2.908070591695702e-07, 'loan_amnt': -2.6525075689869172e-08, 'term': -0.01587509614816003, 'int_rate': 0.0034137852764671637, 'installment': -1.577059598892008e-05, 'sub_grade': 0.19583996329240358, 'emp_length': -0.0022328832717360436, 'home_ownership': -0.011605427184968948, 'annual_inc': -1.3015968740830946e-08, 'verification_status': -0.004427869676202002, 'loan_status_Binary': -0.018125315479040182, 'purpose': 0.0009932770438671299, 'addr_state': -4.7128790102488027e-05, 'dti': -0.00108655920528489, 'delinq_2yrs': 0.00920393587243369, 'inq_last_6mths': -0.008880318926545458}, 'coef_norm': {'Intercept': 1.5111050178228684, 'C1': -0.000841244818789919, 'loan_amnt': -0.00022523816295323709, 'term': -0.007487688611866954, 'int_rate': 0.014448521127705942, 'installment': -0.0035665745609283605, 'sub_grade': 1.3676748599036581, 'emp_length': -0.007096885603488252, 'home_ownership': -0.011168914471090308, 'annual_inc': -0.0006387574624700022, 'verification_status': -0.003665964375940077, 'loan_status_Binary': -0.006532555563358345, 'purpose': 0.0029107102751519446, 'addr_state': -0.0005961510334174839, 'dti': -0.007211945987287846, 'delinq_2yrs': 0.004105823353453058, 'inq_last_6mths': -0.009264724701360466}}\n"
     ]
    }
   ],
   "source": [
    "# GLM\n",
    "\n",
    "mod,mod_id=get_model_by_algo(\"GLM\",best_models)\n",
    "if mod is not None:\n",
    "    try:     \n",
    "         stats_glm={}\n",
    "         stats_glm=glm_stats(mod)\n",
    "         n=run_id+'_glm_stats.json'\n",
    "         dict_to_json(stats_glm,n)\n",
    "         print(stats_glm)\n",
    "    except:\n",
    "         pass"
   ]
  },
  {
   "cell_type": "code",
   "execution_count": 189,
   "metadata": {},
   "outputs": [
    {
     "name": "stdout",
     "output_type": "stream",
     "text": [
      "gbm prediction progress: |████████████████████████████████████████████████| 100%\n"
     ]
    }
   ],
   "source": [
    "predictions_df=predictions_test(mod_best,test,run_id)"
   ]
  },
  {
   "cell_type": "code",
   "execution_count": 190,
   "metadata": {},
   "outputs": [
    {
     "name": "stdout",
     "output_type": "stream",
     "text": [
      "Rows:990\n",
      "Cols:1\n",
      "\n",
      "\n"
     ]
    },
    {
     "data": {
      "text/html": [
       "<table>\n",
       "<thead>\n",
       "<tr><th>       </th><th>predict               </th></tr>\n",
       "</thead>\n",
       "<tbody>\n",
       "<tr><td>type   </td><td>real                  </td></tr>\n",
       "<tr><td>mins   </td><td>-0.0036327095021020384</td></tr>\n",
       "<tr><td>mean   </td><td>1.5064286522051897    </td></tr>\n",
       "<tr><td>maxs   </td><td>6.068390367045962     </td></tr>\n",
       "<tr><td>sigma  </td><td>1.3699454741453505    </td></tr>\n",
       "<tr><td>zeros  </td><td>0                     </td></tr>\n",
       "<tr><td>missing</td><td>0                     </td></tr>\n",
       "<tr><td>0      </td><td>1.0000760225802212    </td></tr>\n",
       "<tr><td>1      </td><td>0.9988028382014607    </td></tr>\n",
       "<tr><td>2      </td><td>1.0001315767150674    </td></tr>\n",
       "<tr><td>3      </td><td>1.9983466492000987    </td></tr>\n",
       "<tr><td>4      </td><td>1.0003909468219137    </td></tr>\n",
       "<tr><td>5      </td><td>3.000871468013007     </td></tr>\n",
       "<tr><td>6      </td><td>-0.0004641218184628926</td></tr>\n",
       "<tr><td>7      </td><td>0.999231297215748     </td></tr>\n",
       "<tr><td>8      </td><td>3.0033858830645714    </td></tr>\n",
       "<tr><td>9      </td><td>2.9988733606791245    </td></tr>\n",
       "</tbody>\n",
       "</table>"
      ]
     },
     "metadata": {},
     "output_type": "display_data"
    }
   ],
   "source": [
    "predictions_df.describe()"
   ]
  },
  {
   "cell_type": "code",
   "execution_count": 191,
   "metadata": {},
   "outputs": [],
   "source": [
    "# Update and save meta data\n",
    "\n",
    "meta_data['end_time'] = time.time()\n",
    "meta_data['execution_time'] = meta_data['end_time'] - meta_data['start_time']\n",
    "  \n",
    "n=run_id+'_meta_data.json'\n",
    "dict_to_json(meta_data,n)"
   ]
  },
  {
   "cell_type": "code",
   "execution_count": 192,
   "metadata": {},
   "outputs": [
    {
     "data": {
      "text/plain": [
       "{'X': ['C1',\n",
       "  'loan_amnt',\n",
       "  'term',\n",
       "  'sub_grade',\n",
       "  'emp_length',\n",
       "  'home_ownership',\n",
       "  'verification_status',\n",
       "  'loan_status_Binary',\n",
       "  'purpose',\n",
       "  'addr_state',\n",
       "  'delinq_2yrs',\n",
       "  'inq_last_6mths',\n",
       "  'int_rate',\n",
       "  'installment',\n",
       "  'annual_inc',\n",
       "  'dti'],\n",
       " 'analysis': 0,\n",
       " 'balance': False,\n",
       " 'balance_threshold': 0.2,\n",
       " 'classification': False,\n",
       " 'end_time': 1540670758.7378693,\n",
       " 'execution_time': 346.25344729423523,\n",
       " 'max_models': 9,\n",
       " 'min_mem_size': 6,\n",
       " 'mod_best': 'GBM_grid_0_AutoML_20181027_160013_model_2',\n",
       " 'mod_best_algo': 'gbm',\n",
       " 'model_execution_time': 343.47089171409607,\n",
       " 'models': ['GBM_grid_0_AutoML_20181027_160013_model_2',\n",
       "  'DRF_0_AutoML_20181027_160013',\n",
       "  'XRT_0_AutoML_20181027_160013',\n",
       "  'DeepLearning_0_AutoML_20181027_160013',\n",
       "  'GLM_grid_0_AutoML_20181027_160013_model_0',\n",
       "  'StackedEnsemble_BestOfFamily_0_AutoML_20181027_160013'],\n",
       " 'nthreads': 1,\n",
       " 'project': None,\n",
       " 'run_id': 'p1iaM3G3W',\n",
       " 'run_time': 333,\n",
       " 'scale': False,\n",
       " 'start_time': 1540670412.484422,\n",
       " 'target': None,\n",
       " 'variables': {'C1': 'int',\n",
       "  'addr_state': 'int',\n",
       "  'annual_inc': 'real',\n",
       "  'delinq_2yrs': 'int',\n",
       "  'dti': 'real',\n",
       "  'emp_length': 'int',\n",
       "  'grade': 'int',\n",
       "  'home_ownership': 'int',\n",
       "  'inq_last_6mths': 'int',\n",
       "  'installment': 'real',\n",
       "  'int_rate': 'real',\n",
       "  'loan_amnt': 'int',\n",
       "  'loan_status_Binary': 'int',\n",
       "  'purpose': 'int',\n",
       "  'sub_grade': 'int',\n",
       "  'term': 'int',\n",
       "  'verification_status': 'int'}}"
      ]
     },
     "execution_count": 192,
     "metadata": {},
     "output_type": "execute_result"
    }
   ],
   "source": [
    "meta_data"
   ]
  },
  {
   "cell_type": "code",
   "execution_count": 224,
   "metadata": {},
   "outputs": [
    {
     "data": {
      "image/png": "[encoded data removed]",
      "text/plain": [
       "<matplotlib.figure.Figure at 0x20d88067128>"
      ]
     },
     "metadata": {},
     "output_type": "display_data"
    }
   ],
   "source": [
    "mod_best.varimp_plot()"
   ]
  },
  {
   "cell_type": "code",
   "execution_count": 193,
   "metadata": {},
   "outputs": [],
   "source": [
    "\n",
    "# Clean up\n",
    "os.chdir(server_path)"
   ]
  },
  {
   "cell_type": "code",
   "execution_count": null,
   "metadata": {},
   "outputs": [],
   "source": []
  },
  {
   "cell_type": "markdown",
   "metadata": {},
   "source": [
    "# Regression with AutoML"
   ]
  },
  {
   "cell_type": "code",
   "execution_count": 194,
   "metadata": {},
   "outputs": [],
   "source": [
    "y = \"int_rate\""
   ]
  },
  {
   "cell_type": "code",
   "execution_count": 195,
   "metadata": {},
   "outputs": [],
   "source": [
    "splits = data.split_frame(ratios = [0.8], seed = 1)\n",
    "train = splits[0]\n",
    "test = splits[1]"
   ]
  },
  {
   "cell_type": "code",
   "execution_count": 196,
   "metadata": {},
   "outputs": [
    {
     "name": "stdout",
     "output_type": "stream",
     "text": [
      "AutoML progress: |████████████████████████████████████████████████████████| 100%\n",
      "Parse progress: |█████████████████████████████████████████████████████████| 100%\n"
     ]
    }
   ],
   "source": [
    "aml = H2OAutoML(max_runtime_secs = 60, seed = 1, project_name = \"LendingClubData\")\n",
    "aml.train(y = y, training_frame = train, leaderboard_frame = test)"
   ]
  },
  {
   "cell_type": "code",
   "execution_count": 197,
   "metadata": {},
   "outputs": [
    {
     "name": "stdout",
     "output_type": "stream",
     "text": [
      "AutoML progress: |████████████████████████████████████████████████████████| 100%\n",
      "Parse progress: |█████████████████████████████████████████████████████████| 100%\n"
     ]
    }
   ],
   "source": [
    "aml2 = H2OAutoML(max_runtime_secs = 60, seed = 1, project_name = \"LendingClubCOmpleteDataset\")\n",
    "aml2.train(y = y, training_frame = data)"
   ]
  },
  {
   "cell_type": "code",
   "execution_count": 198,
   "metadata": {},
   "outputs": [
    {
     "data": {
      "text/html": [
       "<table>\n",
       "<thead>\n",
       "<tr><th>model_id                                             </th><th style=\"text-align: right;\">  mean_residual_deviance</th><th style=\"text-align: right;\">    rmse</th><th style=\"text-align: right;\">     mae</th><th style=\"text-align: right;\">   rmsle</th></tr>\n",
       "</thead>\n",
       "<tbody>\n",
       "<tr><td>StackedEnsemble_AllModels_0_AutoML_20181027_160559   </td><td style=\"text-align: right;\">                0.003741</td><td style=\"text-align: right;\">0.061167</td><td style=\"text-align: right;\">0.03092 </td><td style=\"text-align: right;\">0.004483</td></tr>\n",
       "<tr><td>GBM_grid_0_AutoML_20181027_160559_model_1            </td><td style=\"text-align: right;\">                0.003968</td><td style=\"text-align: right;\">0.062992</td><td style=\"text-align: right;\">0.031771</td><td style=\"text-align: right;\">0.004703</td></tr>\n",
       "<tr><td>GBM_grid_0_AutoML_20181027_160559_model_0            </td><td style=\"text-align: right;\">                0.003978</td><td style=\"text-align: right;\">0.063069</td><td style=\"text-align: right;\">0.025081</td><td style=\"text-align: right;\">0.004799</td></tr>\n",
       "<tr><td>GBM_grid_0_AutoML_20181027_160559_model_2            </td><td style=\"text-align: right;\">                0.004472</td><td style=\"text-align: right;\">0.06687 </td><td style=\"text-align: right;\">0.036625</td><td style=\"text-align: right;\">0.005092</td></tr>\n",
       "<tr><td>StackedEnsemble_BestOfFamily_0_AutoML_20181027_160559</td><td style=\"text-align: right;\">                0.005338</td><td style=\"text-align: right;\">0.07306 </td><td style=\"text-align: right;\">0.043092</td><td style=\"text-align: right;\">0.005349</td></tr>\n",
       "<tr><td>GBM_grid_0_AutoML_20181027_160559_model_3            </td><td style=\"text-align: right;\">                0.005388</td><td style=\"text-align: right;\">0.073404</td><td style=\"text-align: right;\">0.045762</td><td style=\"text-align: right;\">0.005829</td></tr>\n",
       "<tr><td>GBM_grid_0_AutoML_20181027_160559_model_4            </td><td style=\"text-align: right;\">                0.017112</td><td style=\"text-align: right;\">0.130812</td><td style=\"text-align: right;\">0.049136</td><td style=\"text-align: right;\">0.00681 </td></tr>\n",
       "<tr><td>DRF_0_AutoML_20181027_160559                         </td><td style=\"text-align: right;\">                0.018018</td><td style=\"text-align: right;\">0.13423 </td><td style=\"text-align: right;\">0.085916</td><td style=\"text-align: right;\">0.009963</td></tr>\n",
       "<tr><td>XRT_0_AutoML_20181027_160559                         </td><td style=\"text-align: right;\">                0.021874</td><td style=\"text-align: right;\">0.147899</td><td style=\"text-align: right;\">0.10018 </td><td style=\"text-align: right;\">0.011145</td></tr>\n",
       "<tr><td>DeepLearning_0_AutoML_20181027_160559                </td><td style=\"text-align: right;\">                0.064972</td><td style=\"text-align: right;\">0.254896</td><td style=\"text-align: right;\">0.188367</td><td style=\"text-align: right;\">0.019915</td></tr>\n",
       "</tbody>\n",
       "</table>"
      ]
     },
     "metadata": {},
     "output_type": "display_data"
    },
    {
     "data": {
      "text/plain": []
     },
     "execution_count": 198,
     "metadata": {},
     "output_type": "execute_result"
    }
   ],
   "source": [
    "aml.leaderboard.head()"
   ]
  },
  {
   "cell_type": "code",
   "execution_count": 199,
   "metadata": {},
   "outputs": [
    {
     "data": {
      "text/html": [
       "<table>\n",
       "<thead>\n",
       "<tr><th>model_id                                             </th><th style=\"text-align: right;\">  mean_residual_deviance</th><th style=\"text-align: right;\">    rmse</th><th style=\"text-align: right;\">     mae</th><th style=\"text-align: right;\">   rmsle</th></tr>\n",
       "</thead>\n",
       "<tbody>\n",
       "<tr><td>GBM_grid_0_AutoML_20181027_160706_model_0            </td><td style=\"text-align: right;\">                0.008169</td><td style=\"text-align: right;\">0.09038 </td><td style=\"text-align: right;\">0.024531</td><td style=\"text-align: right;\">0.008492</td></tr>\n",
       "<tr><td>GBM_grid_0_AutoML_20181027_160706_model_1            </td><td style=\"text-align: right;\">                0.008364</td><td style=\"text-align: right;\">0.091454</td><td style=\"text-align: right;\">0.029935</td><td style=\"text-align: right;\">0.008527</td></tr>\n",
       "<tr><td>StackedEnsemble_AllModels_0_AutoML_20181027_160706   </td><td style=\"text-align: right;\">                0.00837 </td><td style=\"text-align: right;\">0.091487</td><td style=\"text-align: right;\">0.030258</td><td style=\"text-align: right;\">0.008492</td></tr>\n",
       "<tr><td>GBM_grid_0_AutoML_20181027_160706_model_2            </td><td style=\"text-align: right;\">                0.008879</td><td style=\"text-align: right;\">0.094227</td><td style=\"text-align: right;\">0.035173</td><td style=\"text-align: right;\">0.008756</td></tr>\n",
       "<tr><td>StackedEnsemble_BestOfFamily_0_AutoML_20181027_160706</td><td style=\"text-align: right;\">                0.009988</td><td style=\"text-align: right;\">0.099938</td><td style=\"text-align: right;\">0.041635</td><td style=\"text-align: right;\">0.009058</td></tr>\n",
       "<tr><td>GBM_grid_0_AutoML_20181027_160706_model_3            </td><td style=\"text-align: right;\">                0.010011</td><td style=\"text-align: right;\">0.100054</td><td style=\"text-align: right;\">0.045086</td><td style=\"text-align: right;\">0.009284</td></tr>\n",
       "<tr><td>GBM_grid_0_AutoML_20181027_160706_model_4            </td><td style=\"text-align: right;\">                0.019614</td><td style=\"text-align: right;\">0.140049</td><td style=\"text-align: right;\">0.046581</td><td style=\"text-align: right;\">0.009877</td></tr>\n",
       "<tr><td>DRF_0_AutoML_20181027_160706                         </td><td style=\"text-align: right;\">                0.02311 </td><td style=\"text-align: right;\">0.15202 </td><td style=\"text-align: right;\">0.083711</td><td style=\"text-align: right;\">0.012333</td></tr>\n",
       "<tr><td>XRT_0_AutoML_20181027_160706                         </td><td style=\"text-align: right;\">                0.02943 </td><td style=\"text-align: right;\">0.171553</td><td style=\"text-align: right;\">0.101984</td><td style=\"text-align: right;\">0.013879</td></tr>\n",
       "<tr><td>GLM_grid_0_AutoML_20181027_160706_model_0            </td><td style=\"text-align: right;\">                0.4286  </td><td style=\"text-align: right;\">0.654676</td><td style=\"text-align: right;\">0.554008</td><td style=\"text-align: right;\">0.057126</td></tr>\n",
       "</tbody>\n",
       "</table>"
      ]
     },
     "metadata": {},
     "output_type": "display_data"
    },
    {
     "data": {
      "text/plain": []
     },
     "execution_count": 199,
     "metadata": {},
     "output_type": "execute_result"
    }
   ],
   "source": [
    "aml2.leaderboard.head()"
   ]
  },
  {
   "cell_type": "code",
   "execution_count": 200,
   "metadata": {},
   "outputs": [
    {
     "name": "stdout",
     "output_type": "stream",
     "text": [
      "Parse progress: |█████████████████████████████████████████████████████████| 100%\n",
      "stackedensemble prediction progress: |████████████████████████████████████| 100%\n"
     ]
    },
    {
     "data": {
      "text/html": [
       "<table>\n",
       "<thead>\n",
       "<tr><th style=\"text-align: right;\">  predict</th></tr>\n",
       "</thead>\n",
       "<tbody>\n",
       "<tr><td style=\"text-align: right;\"> 15.91   </td></tr>\n",
       "<tr><td style=\"text-align: right;\"> 12.7325 </td></tr>\n",
       "<tr><td style=\"text-align: right;\"> 15.254  </td></tr>\n",
       "<tr><td style=\"text-align: right;\">  7.93785</td></tr>\n",
       "<tr><td style=\"text-align: right;\"> 12.711  </td></tr>\n",
       "<tr><td style=\"text-align: right;\">  9.94606</td></tr>\n",
       "<tr><td style=\"text-align: right;\"> 19.9366 </td></tr>\n",
       "<tr><td style=\"text-align: right;\"> 16.7602 </td></tr>\n",
       "<tr><td style=\"text-align: right;\"> 10.7045 </td></tr>\n",
       "<tr><td style=\"text-align: right;\"> 13.5152 </td></tr>\n",
       "</tbody>\n",
       "</table>"
      ]
     },
     "metadata": {},
     "output_type": "display_data"
    },
    {
     "data": {
      "text/plain": []
     },
     "execution_count": 200,
     "metadata": {},
     "output_type": "execute_result"
    }
   ],
   "source": [
    "pred = aml.predict(test)\n",
    "pred.head()"
   ]
  },
  {
   "cell_type": "code",
   "execution_count": 201,
   "metadata": {},
   "outputs": [
    {
     "name": "stdout",
     "output_type": "stream",
     "text": [
      "\n",
      "ModelMetricsRegressionGLM: stackedensemble\n",
      "** Reported on test data. **\n",
      "\n",
      "MSE: 0.003741344557511834\n",
      "RMSE: 0.061166531350991565\n",
      "MAE: 0.03092026972594132\n",
      "RMSLE: 0.004483107637491737\n",
      "R^2: 0.999797918583681\n",
      "Mean Residual Deviance: 0.003741344557511834\n",
      "Null degrees of freedom: 1978\n",
      "Residual degrees of freedom: 1969\n",
      "Null deviance: 36684.44484266697\n",
      "Residual deviance: 7.4041208793159194\n",
      "AIC: -5421.107220468714\n"
     ]
    },
    {
     "data": {
      "text/plain": []
     },
     "execution_count": 201,
     "metadata": {},
     "output_type": "execute_result"
    }
   ],
   "source": [
    "perf = aml.leader.model_performance(test)\n",
    "perf"
   ]
  },
  {
   "cell_type": "code",
   "execution_count": 225,
   "metadata": {},
   "outputs": [
    {
     "name": "stdout",
     "output_type": "stream",
     "text": [
      "PartialDependencePlot progress: |█████████████████████████████████████████| 100%\n"
     ]
    },
    {
     "data": {
      "image/png": "[encoded data removed]",
      "text/plain": [
       "<matplotlib.figure.Figure at 0x20d8801fc50>"
      ]
     },
     "metadata": {},
     "output_type": "display_data"
    }
   ],
   "source": [
    "aml.leader.partial_plot(data=data, cols=data.columns)\n",
    "plt.show()"
   ]
  },
  {
   "cell_type": "markdown",
   "metadata": {},
   "source": [
    "# GLM Linear Regression using Gaussian Family"
   ]
  },
  {
   "cell_type": "code",
   "execution_count": 202,
   "metadata": {},
   "outputs": [
    {
     "name": "stdout",
     "output_type": "stream",
     "text": [
      "glm Model Build progress: |███████████████████████████████████████████████| 100%\n"
     ]
    }
   ],
   "source": [
    "from h2o.estimators.glm import H2OGeneralizedLinearEstimator\n",
    "splits = data.split_frame(ratios=[0.7, 0.15], seed=1)  \n",
    "\n",
    "train = splits[0]\n",
    "valid = splits[1]\n",
    "test = splits[2]\n",
    "gaussian_fit = H2OGeneralizedLinearEstimator(family =\n",
    "\"gaussian\")\n",
    "y='int_rate'\n",
    "x=data.columns\n",
    "x.remove(y)  #remove the response\n",
    "gaussian_fit.train(x , y ,training_frame = train)"
   ]
  },
  {
   "cell_type": "code",
   "execution_count": 203,
   "metadata": {},
   "outputs": [
    {
     "name": "stdout",
     "output_type": "stream",
     "text": [
      "glm Model Build progress: |███████████████████████████████████████████████| 100%\n"
     ]
    }
   ],
   "source": [
    "glm_fit2 = H2OGeneralizedLinearEstimator(family='gaussian', model_id='glm_fit2', lambda_search=True)\n",
    "glm_fit2.train(x=x, y=y, training_frame=train, validation_frame=valid)"
   ]
  },
  {
   "cell_type": "code",
   "execution_count": 204,
   "metadata": {},
   "outputs": [],
   "source": [
    "glm_perf1 = gaussian_fit.model_performance(test)\n",
    "glm_perf2 = glm_fit2.model_performance(test)"
   ]
  },
  {
   "cell_type": "code",
   "execution_count": 205,
   "metadata": {},
   "outputs": [
    {
     "name": "stdout",
     "output_type": "stream",
     "text": [
      "\n",
      "ModelMetricsRegressionGLM: glm\n",
      "** Reported on test data. **\n",
      "\n",
      "MSE: 0.4421766333486457\n",
      "RMSE: 0.6649636331023266\n",
      "MAE: 0.5642086186604642\n",
      "RMSLE: 0.058156922129742585\n",
      "R^2: 0.9759431559928708\n",
      "Mean Residual Deviance: 0.4421766333486457\n",
      "Null degrees of freedom: 1497\n",
      "Residual degrees of freedom: 1484\n",
      "Null deviance: 27577.410306432364\n",
      "Residual deviance: 662.3805967562713\n",
      "AIC: 3058.703156531207\n",
      "\n",
      "\n",
      "ModelMetricsRegressionGLM: glm\n",
      "** Reported on test data. **\n",
      "\n",
      "MSE: 0.4389552978485889\n",
      "RMSE: 0.662537016210105\n",
      "MAE: 0.5642523964000078\n",
      "RMSLE: 0.0569265362507384\n",
      "R^2: 0.9761184143845968\n",
      "Mean Residual Deviance: 0.4389552978485889\n",
      "Null degrees of freedom: 1497\n",
      "Residual degrees of freedom: 1481\n",
      "Null deviance: 27577.410306432364\n",
      "Residual deviance: 657.5550361771861\n",
      "AIC: 3053.7500134040106\n",
      "\n"
     ]
    }
   ],
   "source": [
    "print(glm_perf1)\n",
    "print(glm_perf2)"
   ]
  },
  {
   "cell_type": "code",
   "execution_count": 206,
   "metadata": {},
   "outputs": [
    {
     "name": "stdout",
     "output_type": "stream",
     "text": [
      "\n",
      "ModelMetricsRegressionGLM: glm\n",
      "** Reported on test data. **\n",
      "\n",
      "MSE: 0.4421766333486457\n",
      "RMSE: 0.6649636331023266\n",
      "MAE: 0.5642086186604642\n",
      "RMSLE: 0.058156922129742585\n",
      "R^2: 0.9759431559928708\n",
      "Mean Residual Deviance: 0.4421766333486457\n",
      "Null degrees of freedom: 1497\n",
      "Residual degrees of freedom: 1484\n",
      "Null deviance: 27577.410306432364\n",
      "Residual deviance: 662.3805967562713\n",
      "AIC: 3058.703156531207\n",
      "<bound method MetricsBase.auc of >\n",
      "\n",
      "ModelMetricsRegressionGLM: glm\n",
      "** Reported on test data. **\n",
      "\n",
      "MSE: 0.4389552978485889\n",
      "RMSE: 0.662537016210105\n",
      "MAE: 0.5642523964000078\n",
      "RMSLE: 0.0569265362507384\n",
      "R^2: 0.9761184143845968\n",
      "Mean Residual Deviance: 0.4389552978485889\n",
      "Null degrees of freedom: 1497\n",
      "Residual degrees of freedom: 1481\n",
      "Null deviance: 27577.410306432364\n",
      "Residual deviance: 657.5550361771861\n",
      "AIC: 3053.7500134040106\n",
      "<bound method MetricsBase.auc of >\n"
     ]
    }
   ],
   "source": [
    "# Retreive test set AUC\n",
    "print(glm_perf1.auc)\n",
    "print(glm_perf2.auc)"
   ]
  },
  {
   "cell_type": "code",
   "execution_count": 207,
   "metadata": {},
   "outputs": [
    {
     "name": "stdout",
     "output_type": "stream",
     "text": [
      "Model Details\n",
      "=============\n",
      "H2OGeneralizedLinearEstimator :  Generalized Linear Modeling\n",
      "Model Key:  glm_fit2\n",
      "\n",
      "\n",
      "ModelMetricsRegressionGLM: glm\n",
      "** Reported on train data. **\n",
      "\n",
      "MSE: 0.42813299700478147\n",
      "RMSE: 0.6543187273835142\n",
      "MAE: 0.5523345674332804\n",
      "RMSLE: 0.05718648382534187\n",
      "R^2: 0.9758250593251975\n",
      "Mean Residual Deviance: 0.42813299700478147\n",
      "Null degrees of freedom: 7021\n",
      "Residual degrees of freedom: 7005\n",
      "Null deviance: 124358.10889501432\n",
      "Residual deviance: 3006.3499049675756\n",
      "AIC: 14006.659952690406\n",
      "\n",
      "ModelMetricsRegressionGLM: glm\n",
      "** Reported on validation data. **\n",
      "\n",
      "MSE: 0.4386044965204954\n",
      "RMSE: 0.6622722223681855\n",
      "MAE: 0.5562026190391636\n",
      "RMSLE: 0.05639842353054755\n",
      "R^2: 0.9766264838500164\n",
      "Mean Residual Deviance: 0.4386044965204954\n",
      "Null degrees of freedom: 1478\n",
      "Residual degrees of freedom: 1462\n",
      "Null deviance: 27758.364670365394\n",
      "Residual deviance: 648.6960503538127\n",
      "AIC: 3014.291695632532\n",
      "Scoring History: \n"
     ]
    },
    {
     "data": {
      "text/html": [
       "<div style=\"overflow:auto\"><table style=\"width:50%\"><tr><td><b></b></td>\n",
       "<td><b>timestamp</b></td>\n",
       "<td><b>duration</b></td>\n",
       "<td><b>iteration</b></td>\n",
       "<td><b>lambda</b></td>\n",
       "<td><b>predictors</b></td>\n",
       "<td><b>deviance_train</b></td>\n",
       "<td><b>deviance_test</b></td></tr>\n",
       "<tr><td></td>\n",
       "<td>2018-10-27 16:08:11</td>\n",
       "<td> 0.000 sec</td>\n",
       "<td>1</td>\n",
       "<td>.83E1</td>\n",
       "<td>1</td>\n",
       "<td>17.7097845</td>\n",
       "<td>18.7683329</td></tr>\n",
       "<tr><td></td>\n",
       "<td>2018-10-27 16:08:11</td>\n",
       "<td> 0.014 sec</td>\n",
       "<td>2</td>\n",
       "<td>.76E1</td>\n",
       "<td>3</td>\n",
       "<td>16.7914696</td>\n",
       "<td>17.7832380</td></tr>\n",
       "<tr><td></td>\n",
       "<td>2018-10-27 16:08:11</td>\n",
       "<td> 0.019 sec</td>\n",
       "<td>3</td>\n",
       "<td>.69E1</td>\n",
       "<td>3</td>\n",
       "<td>15.7627646</td>\n",
       "<td>16.6801214</td></tr>\n",
       "<tr><td></td>\n",
       "<td>2018-10-27 16:08:11</td>\n",
       "<td> 0.025 sec</td>\n",
       "<td>4</td>\n",
       "<td>.63E1</td>\n",
       "<td>3</td>\n",
       "<td>14.7429939</td>\n",
       "<td>15.5870072</td></tr>\n",
       "<tr><td></td>\n",
       "<td>2018-10-27 16:08:11</td>\n",
       "<td> 0.030 sec</td>\n",
       "<td>5</td>\n",
       "<td>.57E1</td>\n",
       "<td>3</td>\n",
       "<td>13.7383373</td>\n",
       "<td>14.5105503</td></tr>\n",
       "<tr><td>---</td>\n",
       "<td>---</td>\n",
       "<td>---</td>\n",
       "<td>---</td>\n",
       "<td>---</td>\n",
       "<td>---</td>\n",
       "<td>---</td>\n",
       "<td>---</td></tr>\n",
       "<tr><td></td>\n",
       "<td>2018-10-27 16:08:12</td>\n",
       "<td> 0.418 sec</td>\n",
       "<td>96</td>\n",
       "<td>.12E-2</td>\n",
       "<td>17</td>\n",
       "<td>0.4282433</td>\n",
       "<td>0.4386618</td></tr>\n",
       "<tr><td></td>\n",
       "<td>2018-10-27 16:08:12</td>\n",
       "<td> 0.420 sec</td>\n",
       "<td>97</td>\n",
       "<td>.11E-2</td>\n",
       "<td>17</td>\n",
       "<td>0.4282083</td>\n",
       "<td>0.4386413</td></tr>\n",
       "<tr><td></td>\n",
       "<td>2018-10-27 16:08:12</td>\n",
       "<td> 0.422 sec</td>\n",
       "<td>98</td>\n",
       "<td>.1E-2</td>\n",
       "<td>17</td>\n",
       "<td>0.4281785</td>\n",
       "<td>0.4386261</td></tr>\n",
       "<tr><td></td>\n",
       "<td>2018-10-27 16:08:12</td>\n",
       "<td> 0.424 sec</td>\n",
       "<td>99</td>\n",
       "<td>.91E-3</td>\n",
       "<td>17</td>\n",
       "<td>0.4281539</td>\n",
       "<td>0.4386140</td></tr>\n",
       "<tr><td></td>\n",
       "<td>2018-10-27 16:08:12</td>\n",
       "<td> 0.425 sec</td>\n",
       "<td>100</td>\n",
       "<td>.83E-3</td>\n",
       "<td>17</td>\n",
       "<td>0.4281330</td>\n",
       "<td>0.4386045</td></tr></table></div>"
      ],
      "text/plain": [
       "     timestamp            duration    iteration    lambda    predictors    deviance_train       deviance_test\n",
       "---  -------------------  ----------  -----------  --------  ------------  -------------------  -------------------\n",
       "     2018-10-27 16:08:11  0.000 sec   1            .83E1     1             17.7097845228581     18.76833291593026\n",
       "     2018-10-27 16:08:11  0.014 sec   2            .76E1     3             16.791469582411356   17.783237982684632\n",
       "     2018-10-27 16:08:11  0.019 sec   3            .69E1     3             15.762764566351507   16.680121419364315\n",
       "     2018-10-27 16:08:11  0.025 sec   4            .63E1     3             14.742993865796699   15.58700723191406\n",
       "     2018-10-27 16:08:11  0.030 sec   5            .57E1     3             13.738337260147373   14.510550268420232\n",
       "---  ---                  ---         ---          ---       ---           ---                  ---\n",
       "     2018-10-27 16:08:12  0.418 sec   96           .12E-2    17            0.42824327878031837  0.4386617667710767\n",
       "     2018-10-27 16:08:12  0.420 sec   97           .11E-2    17            0.4282082931221601   0.43864133102458336\n",
       "     2018-10-27 16:08:12  0.422 sec   98           .1E-2     17            0.4281785401036009   0.43862611288882897\n",
       "     2018-10-27 16:08:12  0.424 sec   99           .91E-3    17            0.42815392899085064  0.43861398445099475\n",
       "     2018-10-27 16:08:12  0.425 sec   100          .83E-3    17            0.42813297978511367  0.43860449799370255"
      ]
     },
     "metadata": {},
     "output_type": "display_data"
    },
    {
     "name": "stdout",
     "output_type": "stream",
     "text": [
      "\n",
      "See the whole table with table.as_data_frame()\n",
      "<bound method ModelBase.auc of >\n",
      "Model Details\n",
      "=============\n",
      "H2OGeneralizedLinearEstimator :  Generalized Linear Modeling\n",
      "Model Key:  glm_fit2\n",
      "\n",
      "\n",
      "ModelMetricsRegressionGLM: glm\n",
      "** Reported on train data. **\n",
      "\n",
      "MSE: 0.42813299700478147\n",
      "RMSE: 0.6543187273835142\n",
      "MAE: 0.5523345674332804\n",
      "RMSLE: 0.05718648382534187\n",
      "R^2: 0.9758250593251975\n",
      "Mean Residual Deviance: 0.42813299700478147\n",
      "Null degrees of freedom: 7021\n",
      "Residual degrees of freedom: 7005\n",
      "Null deviance: 124358.10889501432\n",
      "Residual deviance: 3006.3499049675756\n",
      "AIC: 14006.659952690406\n",
      "\n",
      "ModelMetricsRegressionGLM: glm\n",
      "** Reported on validation data. **\n",
      "\n",
      "MSE: 0.4386044965204954\n",
      "RMSE: 0.6622722223681855\n",
      "MAE: 0.5562026190391636\n",
      "RMSLE: 0.05639842353054755\n",
      "R^2: 0.9766264838500164\n",
      "Mean Residual Deviance: 0.4386044965204954\n",
      "Null degrees of freedom: 1478\n",
      "Residual degrees of freedom: 1462\n",
      "Null deviance: 27758.364670365394\n",
      "Residual deviance: 648.6960503538127\n",
      "AIC: 3014.291695632532\n",
      "Scoring History: \n"
     ]
    },
    {
     "data": {
      "text/html": [
       "<div style=\"overflow:auto\"><table style=\"width:50%\"><tr><td><b></b></td>\n",
       "<td><b>timestamp</b></td>\n",
       "<td><b>duration</b></td>\n",
       "<td><b>iteration</b></td>\n",
       "<td><b>lambda</b></td>\n",
       "<td><b>predictors</b></td>\n",
       "<td><b>deviance_train</b></td>\n",
       "<td><b>deviance_test</b></td></tr>\n",
       "<tr><td></td>\n",
       "<td>2018-10-27 16:08:11</td>\n",
       "<td> 0.000 sec</td>\n",
       "<td>1</td>\n",
       "<td>.83E1</td>\n",
       "<td>1</td>\n",
       "<td>17.7097845</td>\n",
       "<td>18.7683329</td></tr>\n",
       "<tr><td></td>\n",
       "<td>2018-10-27 16:08:11</td>\n",
       "<td> 0.014 sec</td>\n",
       "<td>2</td>\n",
       "<td>.76E1</td>\n",
       "<td>3</td>\n",
       "<td>16.7914696</td>\n",
       "<td>17.7832380</td></tr>\n",
       "<tr><td></td>\n",
       "<td>2018-10-27 16:08:11</td>\n",
       "<td> 0.019 sec</td>\n",
       "<td>3</td>\n",
       "<td>.69E1</td>\n",
       "<td>3</td>\n",
       "<td>15.7627646</td>\n",
       "<td>16.6801214</td></tr>\n",
       "<tr><td></td>\n",
       "<td>2018-10-27 16:08:11</td>\n",
       "<td> 0.025 sec</td>\n",
       "<td>4</td>\n",
       "<td>.63E1</td>\n",
       "<td>3</td>\n",
       "<td>14.7429939</td>\n",
       "<td>15.5870072</td></tr>\n",
       "<tr><td></td>\n",
       "<td>2018-10-27 16:08:11</td>\n",
       "<td> 0.030 sec</td>\n",
       "<td>5</td>\n",
       "<td>.57E1</td>\n",
       "<td>3</td>\n",
       "<td>13.7383373</td>\n",
       "<td>14.5105503</td></tr>\n",
       "<tr><td>---</td>\n",
       "<td>---</td>\n",
       "<td>---</td>\n",
       "<td>---</td>\n",
       "<td>---</td>\n",
       "<td>---</td>\n",
       "<td>---</td>\n",
       "<td>---</td></tr>\n",
       "<tr><td></td>\n",
       "<td>2018-10-27 16:08:12</td>\n",
       "<td> 0.418 sec</td>\n",
       "<td>96</td>\n",
       "<td>.12E-2</td>\n",
       "<td>17</td>\n",
       "<td>0.4282433</td>\n",
       "<td>0.4386618</td></tr>\n",
       "<tr><td></td>\n",
       "<td>2018-10-27 16:08:12</td>\n",
       "<td> 0.420 sec</td>\n",
       "<td>97</td>\n",
       "<td>.11E-2</td>\n",
       "<td>17</td>\n",
       "<td>0.4282083</td>\n",
       "<td>0.4386413</td></tr>\n",
       "<tr><td></td>\n",
       "<td>2018-10-27 16:08:12</td>\n",
       "<td> 0.422 sec</td>\n",
       "<td>98</td>\n",
       "<td>.1E-2</td>\n",
       "<td>17</td>\n",
       "<td>0.4281785</td>\n",
       "<td>0.4386261</td></tr>\n",
       "<tr><td></td>\n",
       "<td>2018-10-27 16:08:12</td>\n",
       "<td> 0.424 sec</td>\n",
       "<td>99</td>\n",
       "<td>.91E-3</td>\n",
       "<td>17</td>\n",
       "<td>0.4281539</td>\n",
       "<td>0.4386140</td></tr>\n",
       "<tr><td></td>\n",
       "<td>2018-10-27 16:08:12</td>\n",
       "<td> 0.425 sec</td>\n",
       "<td>100</td>\n",
       "<td>.83E-3</td>\n",
       "<td>17</td>\n",
       "<td>0.4281330</td>\n",
       "<td>0.4386045</td></tr></table></div>"
      ],
      "text/plain": [
       "     timestamp            duration    iteration    lambda    predictors    deviance_train       deviance_test\n",
       "---  -------------------  ----------  -----------  --------  ------------  -------------------  -------------------\n",
       "     2018-10-27 16:08:11  0.000 sec   1            .83E1     1             17.7097845228581     18.76833291593026\n",
       "     2018-10-27 16:08:11  0.014 sec   2            .76E1     3             16.791469582411356   17.783237982684632\n",
       "     2018-10-27 16:08:11  0.019 sec   3            .69E1     3             15.762764566351507   16.680121419364315\n",
       "     2018-10-27 16:08:11  0.025 sec   4            .63E1     3             14.742993865796699   15.58700723191406\n",
       "     2018-10-27 16:08:11  0.030 sec   5            .57E1     3             13.738337260147373   14.510550268420232\n",
       "---  ---                  ---         ---          ---       ---           ---                  ---\n",
       "     2018-10-27 16:08:12  0.418 sec   96           .12E-2    17            0.42824327878031837  0.4386617667710767\n",
       "     2018-10-27 16:08:12  0.420 sec   97           .11E-2    17            0.4282082931221601   0.43864133102458336\n",
       "     2018-10-27 16:08:12  0.422 sec   98           .1E-2     17            0.4281785401036009   0.43862611288882897\n",
       "     2018-10-27 16:08:12  0.424 sec   99           .91E-3    17            0.42815392899085064  0.43861398445099475\n",
       "     2018-10-27 16:08:12  0.425 sec   100          .83E-3    17            0.42813297978511367  0.43860449799370255"
      ]
     },
     "metadata": {},
     "output_type": "display_data"
    },
    {
     "name": "stdout",
     "output_type": "stream",
     "text": [
      "\n",
      "See the whole table with table.as_data_frame()\n",
      "<bound method ModelBase.auc of >\n"
     ]
    }
   ],
   "source": [
    "# Compare test AUC to the training AUC and validation AUC\n",
    "print(glm_fit2.auc)\n",
    "print(glm_fit2.auc)"
   ]
  },
  {
   "cell_type": "code",
   "execution_count": null,
   "metadata": {},
   "outputs": [],
   "source": []
  },
  {
   "cell_type": "code",
   "execution_count": null,
   "metadata": {},
   "outputs": [],
   "source": []
  }
 ],
 "metadata": {
  "kernelspec": {
   "display_name": "Python 3",
   "language": "python",
   "name": "python3"
  },
  "language_info": {
   "codemirror_mode": {
    "name": "ipython",
    "version": 3
   },
   "file_extension": ".py",
   "mimetype": "text/x-python",
   "name": "python",
   "nbconvert_exporter": "python",
   "pygments_lexer": "ipython3",
   "version": "3.6.4"
  }
 },
 "nbformat": 4,
 "nbformat_minor": 2
}
