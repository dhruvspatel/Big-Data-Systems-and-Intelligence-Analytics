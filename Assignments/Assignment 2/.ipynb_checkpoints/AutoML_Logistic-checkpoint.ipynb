{
 "cells": [
  {
   "cell_type": "markdown",
   "metadata": {},
   "source": [
    "## Starter Code for Assignment 2 - Big Data with H2O\n",
    "\n",
    "**Logistic Regression**\n",
    "\n",
    "Here is some starter code for Assignment 2 - Big Data with H2O.   You will still need to extend this code somewhat.  \n",
    "\n",
    "\n",
    "[H2O Docs](http://docs.h2o.ai/h2o/latest-stable/h2o-docs/index.html)  \n",
    "[http://docs.h2o.ai/h2o/latest-stable/h2o-docs/index.html](http://docs.h2o.ai/h2o/latest-stable/h2o-docs/index.html)  "
   ]
  },
  {
   "cell_type": "code",
   "execution_count": 1,
   "metadata": {
    "collapsed": true
   },
   "outputs": [],
   "source": [
    "import h2o\n",
    "from h2o.automl import H2OAutoML\n",
    "import random, os, sys\n",
    "from datetime import datetime\n",
    "import pandas as pd\n",
    "import logging\n",
    "import csv\n",
    "import optparse\n",
    "import time\n",
    "import json\n",
    "from distutils.util import strtobool"
   ]
  },
  {
   "cell_type": "markdown",
   "metadata": {},
   "source": [
    "Set up some parameters for the analysis.  "
   ]
  },
  {
   "cell_type": "code",
   "execution_count": 2,
   "metadata": {
    "collapsed": true
   },
   "outputs": [],
   "source": [
    "data_path=None\n",
    "all_variables=None\n",
    "test_path=None\n",
    "target=None\n",
    "nthreads=1 \n",
    "min_mem_size=6 \n",
    "run_time=333\n",
    "classification=False\n",
    "scale=False\n",
    "max_models=9    \n",
    "model_path=None\n",
    "balance_y=False \n",
    "balance_threshold=0.2\n",
    "name=None \n",
    "server_path=None  \n",
    "analysis=0 "
   ]
  },
  {
   "cell_type": "markdown",
   "metadata": {},
   "source": [
    "The next sections contains helper functions for automating analysis.             "
   ]
  },
  {
   "cell_type": "code",
   "execution_count": 3,
   "metadata": {
    "collapsed": true
   },
   "outputs": [],
   "source": [
    "# Functions\n",
    "\n",
    "def alphabet(n):\n",
    "  alpha='0123456789abcdefghijklmnopqrstuvwxyzABCDEFGHIJKLMNOPQRSTUVWXYZ'    \n",
    "  str=''\n",
    "  r=len(alpha)-1   \n",
    "  while len(str)<n:\n",
    "    i=random.randint(0,r)\n",
    "    str+=alpha[i]   \n",
    "  return str\n",
    "  \n",
    "  \n",
    "def set_meta_data(run_id,analysis,target,run_time,classification,scale,model,balance,balance_threshold,name,nthreads,min_mem_size):\n",
    "  m_data={}\n",
    "  m_data['run_id'] =run_id\n",
    "  m_data['start_time'] = time.time()\n",
    "  m_data['target']=target\n",
    "  m_data['max_models']=model\n",
    "  m_data['run_time']=run_time\n",
    "  m_data['scale']=scale\n",
    "  m_data['classification']=classification\n",
    "  m_data['scale']=False\n",
    "  m_data['balance']=balance\n",
    "  m_data['balance_threshold']=balance_threshold\n",
    "  m_data['project'] =name\n",
    "  m_data['end_time'] = time.time()\n",
    "  m_data['execution_time'] = 0.0\n",
    "  m_data['nthreads'] = nthreads\n",
    "  m_data['min_mem_size'] = min_mem_size\n",
    "  m_data['analysis'] = analysis\n",
    "  return m_data\n",
    "\n",
    "\n",
    "def dict_to_json(dct,n):\n",
    "  j = json.dumps(dct, indent=4)\n",
    "  f = open(n, 'w')\n",
    "  print(j, file=f)\n",
    "  f.close()\n",
    "  \n",
    "  \n",
    "def stackedensemble(mod):\n",
    "    coef_norm=None\n",
    "    try:\n",
    "      metalearner = h2o.get_model(mod.metalearner()['name'])\n",
    "      coef_norm=metalearner.coef_norm()\n",
    "    except:\n",
    "      pass        \n",
    "    return coef_norm\n",
    "\n",
    "def stackedensemble_df(df):\n",
    "    bm_algo={ 'GBM': None,'GLM': None,'DRF': None,'XRT': None,'Dee': None}\n",
    "    for index, row in df.iterrows():\n",
    "      if len(row['model_id'])>3:\n",
    "        key=row['model_id'][0:3]\n",
    "        if key in bm_algo:\n",
    "          if bm_algo[key] is None:\n",
    "                bm_algo[key]=row['model_id']\n",
    "    bm=list(bm_algo.values()) \n",
    "    bm=list(filter(None.__ne__, bm))             \n",
    "    return bm\n",
    "\n",
    "def se_stats(modl):\n",
    "    d={}\n",
    "    d['algo']=modl.algo\n",
    "    d['model_id']=modl.model_id   \n",
    "    d['auc']=modl.auc()   \n",
    "    d['roc']=modl.roc()\n",
    "    d['mse']=modl.mse()   \n",
    "    d['null_degrees_of_freedom']=modl.null_degrees_of_freedom()\n",
    "    d['null_deviance']=modl.null_deviance()\n",
    "    d['residual_degrees_of_freedom']=modl.residual_degrees_of_freedom()   \n",
    "    d['residual_deviance']=modl.residual_deviance()\n",
    "    d['rmse']=modl.rmse()\n",
    "    return d\n",
    "\n",
    "def get_model_by_algo(algo,models_dict):\n",
    "    mod=None\n",
    "    mod_id=None    \n",
    "    for m in list(models_dict.keys()):\n",
    "        if m[0:3]==algo:\n",
    "            mod_id=m\n",
    "            mod=h2o.get_model(m)      \n",
    "    return mod,mod_id     \n",
    "    \n",
    "    \n",
    "def gbm_stats(modl):\n",
    "    d={}\n",
    "    d['algo']=modl.algo\n",
    "    d['model_id']=modl.model_id   \n",
    "    d['varimp']=modl.varimp()  \n",
    "    return d\n",
    "    \n",
    "    \n",
    "def dl_stats(modl):\n",
    "    d={}\n",
    "    d['algo']=modl.algo\n",
    "    d['model_id']=modl.model_id   \n",
    "    d['varimp']=modl.varimp()  \n",
    "    return d\n",
    "    \n",
    "    \n",
    "def drf_stats(modl):\n",
    "    d={}\n",
    "    d['algo']=modl.algo\n",
    "    d['model_id']=modl.model_id   \n",
    "    d['varimp']=modl.varimp()  \n",
    "    d['roc']=modl.roc()      \n",
    "    return d\n",
    "    \n",
    "def xrt_stats(modl):\n",
    "    d={}\n",
    "    d['algo']=modl.algo\n",
    "    d['model_id']=modl.model_id   \n",
    "    d['varimp']=modl.varimp()  \n",
    "    d['roc']=modl.roc()      \n",
    "    return d\n",
    "    \n",
    "    \n",
    "def glm_stats(modl):\n",
    "    d={}\n",
    "    d['algo']=modl.algo\n",
    "    d['model_id']=modl.model_id   \n",
    "    d['coef']=modl.coef()  \n",
    "    d['coef_norm']=modl.coef_norm()      \n",
    "    return d\n",
    "    \n",
    "def model_performance_stats(perf):\n",
    "    d={}\n",
    "    try:    \n",
    "      d['mse']=perf.mse()\n",
    "    except:\n",
    "      pass      \n",
    "    try:    \n",
    "      d['rmse']=perf.rmse() \n",
    "    except:\n",
    "      pass      \n",
    "    try:    \n",
    "      d['null_degrees_of_freedom']=perf.null_degrees_of_freedom()\n",
    "    except:\n",
    "      pass      \n",
    "    try:    \n",
    "      d['residual_degrees_of_freedom']=perf.residual_degrees_of_freedom()\n",
    "    except:\n",
    "      pass      \n",
    "    try:    \n",
    "      d['residual_deviance']=perf.residual_deviance() \n",
    "    except:\n",
    "      pass      \n",
    "    try:    \n",
    "      d['null_deviance']=perf.null_deviance() \n",
    "    except:\n",
    "      pass      \n",
    "    try:    \n",
    "      d['aic']=perf.aic() \n",
    "    except:\n",
    "      pass      \n",
    "    try:\n",
    "      d['logloss']=perf.logloss() \n",
    "    except:\n",
    "      pass    \n",
    "    try:\n",
    "      d['auc']=perf.auc()\n",
    "    except:\n",
    "      pass  \n",
    "    try:\n",
    "      d['gini']=perf.gini()\n",
    "    except:\n",
    "      pass    \n",
    "    return d\n",
    "    \n",
    "def impute_missing_values(df, x, scal=False):\n",
    "    # determine column types\n",
    "    ints, reals, enums = [], [], []\n",
    "    for key, val in df.types.items():\n",
    "        if key in x:\n",
    "            if val == 'enum':\n",
    "                enums.append(key)\n",
    "            elif val == 'int':\n",
    "                ints.append(key)            \n",
    "            else: \n",
    "                reals.append(key)    \n",
    "    _ = df[reals].impute(method='mean')\n",
    "    _ = df[ints].impute(method='median')\n",
    "    if scal:\n",
    "        df[reals] = df[reals].scale()\n",
    "        df[ints] = df[ints].scale()    \n",
    "    return\n",
    "\n",
    "\n",
    "def get_independent_variables(df, targ):\n",
    "    C = [name for name in df.columns if name != targ]\n",
    "    # determine column types\n",
    "    ints, reals, enums = [], [], []\n",
    "    for key, val in df.types.items():\n",
    "        if key in C:\n",
    "            if val == 'enum':\n",
    "                enums.append(key)\n",
    "            elif val == 'int':\n",
    "                ints.append(key)            \n",
    "            else: \n",
    "                reals.append(key)    \n",
    "    x=ints+enums+reals\n",
    "    return x\n",
    "    \n",
    "def get_all_variables_csv(i):\n",
    "    ivd={}\n",
    "    try:\n",
    "      iv = pd.read_csv(i,header=None)\n",
    "    except:\n",
    "      sys.exit(1)    \n",
    "    col=iv.values.tolist()[0]\n",
    "    dt=iv.values.tolist()[1]\n",
    "    i=0\n",
    "    for c in col:\n",
    "      ivd[c.strip()]=dt[i].strip()\n",
    "      i+=1        \n",
    "    return ivd\n",
    "    \n",
    "    \n",
    "\n",
    "def check_all_variables(df,dct,y=None):     \n",
    "    targ=list(dct.keys())     \n",
    "    for key, val in df.types.items():\n",
    "        if key in targ:\n",
    "          if dct[key] not in ['real','int','enum']:                      \n",
    "            targ.remove(key)  \n",
    "    for key, val in df.types.items():\n",
    "        if key in targ:            \n",
    "          if dct[key] != val:\n",
    "            print('convert ',key,' ',dct[key],' ',val)\n",
    "            if dct[key]=='enum':\n",
    "                try:\n",
    "                  df[key] = df[key].asfactor() \n",
    "                except:\n",
    "                  targ.remove(key)                 \n",
    "            if dct[key]=='int': \n",
    "                try:                \n",
    "                  df[key] = df[key].asnumeric() \n",
    "                except:\n",
    "                  targ.remove(key)                  \n",
    "            if dct[key]=='real':\n",
    "                try:                \n",
    "                  df[key] = df[key].asnumeric()  \n",
    "                except:\n",
    "                  targ.remove(key)                  \n",
    "    if y is None:\n",
    "      y=df.columns[-1] \n",
    "    if y in targ:\n",
    "      targ.remove(y)\n",
    "    else:\n",
    "      y=targ.pop()            \n",
    "    return targ    \n",
    "    \n",
    "def predictions(mod,data,run_id):\n",
    "    test = h2o.import_file(data)\n",
    "    mod_perf=mod_best.model_performance(test)\n",
    "              \n",
    "    stats_test={}\n",
    "    stats_test=model_performance_stats(mod_perf)\n",
    "\n",
    "    n=run_id+'_test_stats.json'\n",
    "    dict_to_json(stats_test,n) \n",
    "\n",
    "    try:    \n",
    "      cf=mod_perf.confusion_matrix(metrics=[\"f1\",\"f2\",\"f0point5\",\"accuracy\",\"precision\",\"recall\",\"specificity\",\"absolute_mcc\",\"min_per_class_accuracy\",\"mean_per_class_accuracy\"])\n",
    "      cf_df=cf[0].table.as_data_frame()\n",
    "      cf_df.to_csv(run_id+'_test_confusion_matrix.csv')\n",
    "    except:\n",
    "      pass\n",
    "\n",
    "    predictions = mod_best.predict(test)\n",
    "    predictions_df=test.cbind(predictions).as_data_frame() \n",
    "    predictions_df.to_csv(run_id+'_predictions.csv')\n",
    "    return\n",
    "\n",
    "def predictions_test(mod,test,run_id):\n",
    "    mod_perf=mod_best.model_performance(test)          \n",
    "    stats_test={}\n",
    "    stats_test=model_performance_stats(mod_perf)\n",
    "    n=run_id+'_test_stats.json'\n",
    "    dict_to_json(stats_test,n) \n",
    "    try:\n",
    "      cf=mod_perf.confusion_matrix(metrics=[\"f1\",\"f2\",\"f0point5\",\"accuracy\",\"precision\",\"recall\",\"specificity\",\"absolute_mcc\",\"min_per_class_accuracy\",\"mean_per_class_accuracy\"])\n",
    "      cf_df=cf[0].table.as_data_frame()\n",
    "      cf_df.to_csv(run_id+'_test_confusion_matrix.csv')\n",
    "    except:\n",
    "      pass\n",
    "    predictions = mod_best.predict(test)    \n",
    "    predictions_df=test.cbind(predictions).as_data_frame() \n",
    "    predictions_df.to_csv(run_id+'_predictions.csv')\n",
    "    return predictions\n",
    "\n",
    "def check_X(x,df):\n",
    "    for name in x:\n",
    "        if name not in df.columns:\n",
    "          x.remove(name)  \n",
    "    return x    \n",
    "    \n",
    "    \n",
    "def get_stacked_ensemble(lst):\n",
    "    se=None\n",
    "    for model in model_set:\n",
    "      if 'BestOfFamily' in model:\n",
    "        se=model\n",
    "    if se is None:     \n",
    "      for model in model_set:\n",
    "        if 'AllModels'in model:\n",
    "          se=model           \n",
    "    return se       \n",
    "    \n",
    "def get_variables_types(df):\n",
    "    d={}\n",
    "    for key, val in df.types.items():\n",
    "        d[key]=val           \n",
    "    return d    \n",
    "    \n",
    "#  End Functions"
   ]
  },
  {
   "cell_type": "code",
   "execution_count": 4,
   "metadata": {
    "collapsed": true
   },
   "outputs": [],
   "source": [
    "data_path='data/logistic_regression_bin_class_ad_conversion.csv'"
   ]
  },
  {
   "cell_type": "code",
   "execution_count": 5,
   "metadata": {
    "collapsed": true
   },
   "outputs": [],
   "source": [
    "data_path = os.path.join(os.path.abspath(os.curdir),data_path)"
   ]
  },
  {
   "cell_type": "code",
   "execution_count": 6,
   "metadata": {
    "collapsed": true
   },
   "outputs": [],
   "source": [
    "all_variables=None"
   ]
  },
  {
   "cell_type": "code",
   "execution_count": 7,
   "metadata": {},
   "outputs": [
    {
     "name": "stdout",
     "output_type": "stream",
     "text": [
      "FAMH0nY14\n"
     ]
    }
   ],
   "source": [
    "run_id=alphabet(9)\n",
    "# run_id to std out\n",
    "print (run_id) "
   ]
  },
  {
   "cell_type": "code",
   "execution_count": 8,
   "metadata": {
    "collapsed": true
   },
   "outputs": [],
   "source": [
    "server_path=os.path.abspath(os.curdir)\n",
    "os.chdir(server_path) \n",
    "run_dir = os.path.join(server_path,run_id)\n",
    "os.mkdir(run_dir)\n",
    "os.chdir(run_dir) "
   ]
  },
  {
   "cell_type": "code",
   "execution_count": 9,
   "metadata": {},
   "outputs": [
    {
     "name": "stdout",
     "output_type": "stream",
     "text": [
      "Checking whether there is an H2O instance running at http://localhost:8309..... not found.\n",
      "Attempting to start a local H2O server...\n",
      "  Java Version: openjdk version \"1.8.0_121\"; OpenJDK Runtime Environment (Zulu 8.20.0.5-macosx) (build 1.8.0_121-b15); OpenJDK 64-Bit Server VM (Zulu 8.20.0.5-macosx) (build 25.121-b15, mixed mode)\n",
      "  Starting server from /Users/bear/anaconda/lib/python3.6/site-packages/h2o/backend/bin/h2o.jar\n",
      "  Ice root: /var/folders/lh/42j8mfjx069d1bkc2wlf2pw40000gn/T/tmp0ntd9dml\n",
      "  JVM stdout: /var/folders/lh/42j8mfjx069d1bkc2wlf2pw40000gn/T/tmp0ntd9dml/h2o_bear_started_from_python.out\n",
      "  JVM stderr: /var/folders/lh/42j8mfjx069d1bkc2wlf2pw40000gn/T/tmp0ntd9dml/h2o_bear_started_from_python.err\n",
      "  Server is running at http://127.0.0.1:8309\n",
      "Connecting to H2O server at http://127.0.0.1:8309... successful.\n"
     ]
    },
    {
     "data": {
      "text/html": [
       "<div style=\"overflow:auto\"><table style=\"width:50%\"><tr><td>H2O cluster uptime:</td>\n",
       "<td>03 secs</td></tr>\n",
       "<tr><td>H2O cluster timezone:</td>\n",
       "<td>America/New_York</td></tr>\n",
       "<tr><td>H2O data parsing timezone:</td>\n",
       "<td>UTC</td></tr>\n",
       "<tr><td>H2O cluster version:</td>\n",
       "<td>3.20.0.1</td></tr>\n",
       "<tr><td>H2O cluster version age:</td>\n",
       "<td>3 months and 25 days !!!</td></tr>\n",
       "<tr><td>H2O cluster name:</td>\n",
       "<td>H2O_from_python_bear_yizl2h</td></tr>\n",
       "<tr><td>H2O cluster total nodes:</td>\n",
       "<td>1</td></tr>\n",
       "<tr><td>H2O cluster free memory:</td>\n",
       "<td>5.750 Gb</td></tr>\n",
       "<tr><td>H2O cluster total cores:</td>\n",
       "<td>8</td></tr>\n",
       "<tr><td>H2O cluster allowed cores:</td>\n",
       "<td>8</td></tr>\n",
       "<tr><td>H2O cluster status:</td>\n",
       "<td>accepting new members, healthy</td></tr>\n",
       "<tr><td>H2O connection url:</td>\n",
       "<td>http://127.0.0.1:8309</td></tr>\n",
       "<tr><td>H2O connection proxy:</td>\n",
       "<td>None</td></tr>\n",
       "<tr><td>H2O internal security:</td>\n",
       "<td>False</td></tr>\n",
       "<tr><td>H2O API Extensions:</td>\n",
       "<td>XGBoost, Algos, AutoML, Core V3, Core V4</td></tr>\n",
       "<tr><td>Python version:</td>\n",
       "<td>3.6.5 final</td></tr></table></div>"
      ],
      "text/plain": [
       "--------------------------  ----------------------------------------\n",
       "H2O cluster uptime:         03 secs\n",
       "H2O cluster timezone:       America/New_York\n",
       "H2O data parsing timezone:  UTC\n",
       "H2O cluster version:        3.20.0.1\n",
       "H2O cluster version age:    3 months and 25 days !!!\n",
       "H2O cluster name:           H2O_from_python_bear_yizl2h\n",
       "H2O cluster total nodes:    1\n",
       "H2O cluster free memory:    5.750 Gb\n",
       "H2O cluster total cores:    8\n",
       "H2O cluster allowed cores:  8\n",
       "H2O cluster status:         accepting new members, healthy\n",
       "H2O connection url:         http://127.0.0.1:8309\n",
       "H2O connection proxy:\n",
       "H2O internal security:      False\n",
       "H2O API Extensions:         XGBoost, Algos, AutoML, Core V3, Core V4\n",
       "Python version:             3.6.5 final\n",
       "--------------------------  ----------------------------------------"
      ]
     },
     "metadata": {},
     "output_type": "display_data"
    }
   ],
   "source": [
    "# 65535 Highest port no\n",
    "port_no=random.randint(5555,55555)\n",
    "h2o.init(strict_version_check=False,min_mem_size_GB=min_mem_size,port=port_no)"
   ]
  },
  {
   "cell_type": "code",
   "execution_count": 10,
   "metadata": {},
   "outputs": [
    {
     "name": "stdout",
     "output_type": "stream",
     "text": [
      "{'run_id': 'FAMH0nY14', 'start_time': 1538541618.5450351, 'target': None, 'max_models': 9, 'run_time': 333, 'scale': False, 'classification': False, 'balance': False, 'balance_threshold': 0.2, 'project': None, 'end_time': 1538541618.54504, 'execution_time': 0.0, 'nthreads': 1, 'min_mem_size': 6, 'analysis': 0}\n"
     ]
    }
   ],
   "source": [
    "# meta data\n",
    "meta_data = set_meta_data(run_id,analysis,target,run_time,classification,scale,max_models,balance_y,balance_threshold,name,nthreads,min_mem_size)\n",
    "print(meta_data)  "
   ]
  },
  {
   "cell_type": "code",
   "execution_count": 11,
   "metadata": {},
   "outputs": [
    {
     "name": "stdout",
     "output_type": "stream",
     "text": [
      "/Users/bear/Downloads/AutoML/data/logistic_regression_bin_class_ad_conversion.csv\n"
     ]
    }
   ],
   "source": [
    "print(data_path)"
   ]
  },
  {
   "cell_type": "code",
   "execution_count": 12,
   "metadata": {},
   "outputs": [
    {
     "name": "stdout",
     "output_type": "stream",
     "text": [
      "Parse progress: |█████████████████████████████████████████████████████████| 100%\n"
     ]
    }
   ],
   "source": [
    "df = h2o.import_file(data_path)"
   ]
  },
  {
   "cell_type": "code",
   "execution_count": 13,
   "metadata": {},
   "outputs": [
    {
     "data": {
      "text/html": [
       "<table>\n",
       "<thead>\n",
       "<tr><th style=\"text-align: right;\">  ID</th><th style=\"text-align: right;\">  Daily Time Spent on Site</th><th style=\"text-align: right;\">  Age</th><th style=\"text-align: right;\">  Area Income</th><th style=\"text-align: right;\">  Daily Internet Usage</th><th>Ad Topic Line                        </th><th>City            </th><th style=\"text-align: right;\">  Male</th><th>Country   </th><th>Timestamp      </th><th style=\"text-align: right;\">  Clicked on Ad</th></tr>\n",
       "</thead>\n",
       "<tbody>\n",
       "<tr><td style=\"text-align: right;\">   1</td><td style=\"text-align: right;\">                     68.95</td><td style=\"text-align: right;\">   35</td><td style=\"text-align: right;\">      61833.9</td><td style=\"text-align: right;\">                256.09</td><td>Cloned 5thgeneration orchestration   </td><td>Wrightburgh     </td><td style=\"text-align: right;\">     0</td><td>Tunisia   </td><td>3/27/2016 0:53 </td><td style=\"text-align: right;\">              0</td></tr>\n",
       "<tr><td style=\"text-align: right;\">   2</td><td style=\"text-align: right;\">                     80.23</td><td style=\"text-align: right;\">   31</td><td style=\"text-align: right;\">      68441.9</td><td style=\"text-align: right;\">                193.77</td><td>Monitored national standardization   </td><td>West Jodi       </td><td style=\"text-align: right;\">     1</td><td>Nauru     </td><td>4/4/2016 1:39  </td><td style=\"text-align: right;\">              0</td></tr>\n",
       "<tr><td style=\"text-align: right;\">   3</td><td style=\"text-align: right;\">                     69.47</td><td style=\"text-align: right;\">   26</td><td style=\"text-align: right;\">      59785.9</td><td style=\"text-align: right;\">                236.5 </td><td>Organic bottom-line service-desk     </td><td>Davidton        </td><td style=\"text-align: right;\">     0</td><td>San Marino</td><td>3/13/2016 20:35</td><td style=\"text-align: right;\">              0</td></tr>\n",
       "<tr><td style=\"text-align: right;\">   4</td><td style=\"text-align: right;\">                     74.15</td><td style=\"text-align: right;\">   29</td><td style=\"text-align: right;\">      54806.2</td><td style=\"text-align: right;\">                245.89</td><td>Triple-buffered reciprocal time-frame</td><td>West Terrifurt  </td><td style=\"text-align: right;\">     1</td><td>Italy     </td><td>1/10/2016 2:31 </td><td style=\"text-align: right;\">              0</td></tr>\n",
       "<tr><td style=\"text-align: right;\">   5</td><td style=\"text-align: right;\">                     68.37</td><td style=\"text-align: right;\">   35</td><td style=\"text-align: right;\">      73890  </td><td style=\"text-align: right;\">                225.58</td><td>Robust logistical utilization        </td><td>South Manuel    </td><td style=\"text-align: right;\">     0</td><td>Iceland   </td><td>6/3/2016 3:36  </td><td style=\"text-align: right;\">              0</td></tr>\n",
       "<tr><td style=\"text-align: right;\">   6</td><td style=\"text-align: right;\">                     59.99</td><td style=\"text-align: right;\">   23</td><td style=\"text-align: right;\">      59761.6</td><td style=\"text-align: right;\">                226.74</td><td>Sharable client-driven software      </td><td>Jamieberg       </td><td style=\"text-align: right;\">     1</td><td>Norway    </td><td>5/19/2016 14:30</td><td style=\"text-align: right;\">              0</td></tr>\n",
       "<tr><td style=\"text-align: right;\">   7</td><td style=\"text-align: right;\">                     88.91</td><td style=\"text-align: right;\">   33</td><td style=\"text-align: right;\">      53852.8</td><td style=\"text-align: right;\">                208.36</td><td>Enhanced dedicated support           </td><td>Brandonstad     </td><td style=\"text-align: right;\">     0</td><td>Myanmar   </td><td>1/28/2016 20:59</td><td style=\"text-align: right;\">              0</td></tr>\n",
       "<tr><td style=\"text-align: right;\">   8</td><td style=\"text-align: right;\">                     66   </td><td style=\"text-align: right;\">   48</td><td style=\"text-align: right;\">      24593.3</td><td style=\"text-align: right;\">                131.76</td><td>Reactive local challenge             </td><td>Port Jefferybury</td><td style=\"text-align: right;\">     1</td><td>Australia </td><td>3/7/2016 1:40  </td><td style=\"text-align: right;\">              1</td></tr>\n",
       "<tr><td style=\"text-align: right;\">   9</td><td style=\"text-align: right;\">                     74.53</td><td style=\"text-align: right;\">   30</td><td style=\"text-align: right;\">      68862  </td><td style=\"text-align: right;\">                221.51</td><td>Configurable coherent function       </td><td>West Colin      </td><td style=\"text-align: right;\">     1</td><td>Grenada   </td><td>4/18/2016 9:33 </td><td style=\"text-align: right;\">              0</td></tr>\n",
       "<tr><td style=\"text-align: right;\">  10</td><td style=\"text-align: right;\">                     69.88</td><td style=\"text-align: right;\">   20</td><td style=\"text-align: right;\">      55642.3</td><td style=\"text-align: right;\">                183.82</td><td>Mandatory homogeneous architecture   </td><td>Ramirezton      </td><td style=\"text-align: right;\">     1</td><td>Ghana     </td><td>7/11/2016 1:42 </td><td style=\"text-align: right;\">              0</td></tr>\n",
       "</tbody>\n",
       "</table>"
      ]
     },
     "metadata": {},
     "output_type": "display_data"
    },
    {
     "data": {
      "text/plain": []
     },
     "execution_count": 13,
     "metadata": {},
     "output_type": "execute_result"
    }
   ],
   "source": [
    "df.head()"
   ]
  },
  {
   "cell_type": "code",
   "execution_count": 14,
   "metadata": {},
   "outputs": [
    {
     "name": "stdout",
     "output_type": "stream",
     "text": [
      "Rows:1000\n",
      "Cols:11\n",
      "\n",
      "\n"
     ]
    },
    {
     "data": {
      "text/html": [
       "<table>\n",
       "<thead>\n",
       "<tr><th>       </th><th>ID               </th><th>Daily Time Spent on Site  </th><th>Age             </th><th>Area Income       </th><th>Daily Internet Usage  </th><th>Ad Topic Line                        </th><th>City            </th><th>Male               </th><th>Country   </th><th>Timestamp      </th><th>Clicked on Ad     </th></tr>\n",
       "</thead>\n",
       "<tbody>\n",
       "<tr><td>type   </td><td>int              </td><td>real                      </td><td>int             </td><td>real              </td><td>real                  </td><td>string                               </td><td>string          </td><td>int                </td><td>enum      </td><td>string         </td><td>int               </td></tr>\n",
       "<tr><td>mins   </td><td>1.0              </td><td>32.6                      </td><td>19.0            </td><td>13996.5           </td><td>104.78                </td><td>NaN                                  </td><td>NaN             </td><td>0.0                </td><td>          </td><td>NaN            </td><td>0.0               </td></tr>\n",
       "<tr><td>mean   </td><td>500.5            </td><td>65.00019999999999         </td><td>36.009          </td><td>55000.00008       </td><td>180.0001              </td><td>NaN                                  </td><td>NaN             </td><td>0.481              </td><td>          </td><td>NaN            </td><td>0.5               </td></tr>\n",
       "<tr><td>maxs   </td><td>1000.0           </td><td>91.43                     </td><td>61.0            </td><td>79484.8           </td><td>269.96                </td><td>NaN                                  </td><td>NaN             </td><td>1.0                </td><td>          </td><td>NaN            </td><td>1.0               </td></tr>\n",
       "<tr><td>sigma  </td><td>288.8194360957494</td><td>15.85361456750021         </td><td>8.78556231012592</td><td>13414.634022282358</td><td>43.9023393019801      </td><td>NaN                                  </td><td>NaN             </td><td>0.49988887654046565</td><td>          </td><td>NaN            </td><td>0.5002501876563868</td></tr>\n",
       "<tr><td>zeros  </td><td>0                </td><td>0                         </td><td>0               </td><td>0                 </td><td>0                     </td><td>0                                    </td><td>0               </td><td>519                </td><td>          </td><td>0              </td><td>500               </td></tr>\n",
       "<tr><td>missing</td><td>0                </td><td>0                         </td><td>0               </td><td>0                 </td><td>0                     </td><td>0                                    </td><td>0               </td><td>0                  </td><td>0         </td><td>0              </td><td>0                 </td></tr>\n",
       "<tr><td>0      </td><td>1.0              </td><td>68.95                     </td><td>35.0            </td><td>61833.9           </td><td>256.09                </td><td>Cloned 5thgeneration orchestration   </td><td>Wrightburgh     </td><td>0.0                </td><td>Tunisia   </td><td>3/27/2016 0:53 </td><td>0.0               </td></tr>\n",
       "<tr><td>1      </td><td>2.0              </td><td>80.23                     </td><td>31.0            </td><td>68441.85          </td><td>193.77                </td><td>Monitored national standardization   </td><td>West Jodi       </td><td>1.0                </td><td>Nauru     </td><td>4/4/2016 1:39  </td><td>0.0               </td></tr>\n",
       "<tr><td>2      </td><td>3.0              </td><td>69.47                     </td><td>26.0            </td><td>59785.94          </td><td>236.5                 </td><td>Organic bottom-line service-desk     </td><td>Davidton        </td><td>0.0                </td><td>San Marino</td><td>3/13/2016 20:35</td><td>0.0               </td></tr>\n",
       "<tr><td>3      </td><td>4.0              </td><td>74.15                     </td><td>29.0            </td><td>54806.18          </td><td>245.89                </td><td>Triple-buffered reciprocal time-frame</td><td>West Terrifurt  </td><td>1.0                </td><td>Italy     </td><td>1/10/2016 2:31 </td><td>0.0               </td></tr>\n",
       "<tr><td>4      </td><td>5.0              </td><td>68.37                     </td><td>35.0            </td><td>73889.99          </td><td>225.58                </td><td>Robust logistical utilization        </td><td>South Manuel    </td><td>0.0                </td><td>Iceland   </td><td>6/3/2016 3:36  </td><td>0.0               </td></tr>\n",
       "<tr><td>5      </td><td>6.0              </td><td>59.99                     </td><td>23.0            </td><td>59761.56          </td><td>226.74                </td><td>Sharable client-driven software      </td><td>Jamieberg       </td><td>1.0                </td><td>Norway    </td><td>5/19/2016 14:30</td><td>0.0               </td></tr>\n",
       "<tr><td>6      </td><td>7.0              </td><td>88.91                     </td><td>33.0            </td><td>53852.85          </td><td>208.36                </td><td>Enhanced dedicated support           </td><td>Brandonstad     </td><td>0.0                </td><td>Myanmar   </td><td>1/28/2016 20:59</td><td>0.0               </td></tr>\n",
       "<tr><td>7      </td><td>8.0              </td><td>66.0                      </td><td>48.0            </td><td>24593.33          </td><td>131.76                </td><td>Reactive local challenge             </td><td>Port Jefferybury</td><td>1.0                </td><td>Australia </td><td>3/7/2016 1:40  </td><td>1.0               </td></tr>\n",
       "<tr><td>8      </td><td>9.0              </td><td>74.53                     </td><td>30.0            </td><td>68862.0           </td><td>221.51                </td><td>Configurable coherent function       </td><td>West Colin      </td><td>1.0                </td><td>Grenada   </td><td>4/18/2016 9:33 </td><td>0.0               </td></tr>\n",
       "<tr><td>9      </td><td>10.0             </td><td>69.88                     </td><td>20.0            </td><td>55642.32          </td><td>183.82                </td><td>Mandatory homogeneous architecture   </td><td>Ramirezton      </td><td>1.0                </td><td>Ghana     </td><td>7/11/2016 1:42 </td><td>0.0               </td></tr>\n",
       "</tbody>\n",
       "</table>"
      ]
     },
     "metadata": {},
     "output_type": "display_data"
    }
   ],
   "source": [
    "df.describe()"
   ]
  },
  {
   "cell_type": "markdown",
   "metadata": {},
   "source": [
    "describe()[source]\n",
    "Generate an in-depth description of this H2OFrame.\n",
    "\n",
    "The description is a tabular print of the type, min, max, sigma, number of zeros, and number of missing elements for each H2OVec in this H2OFrame.\n",
    "\n",
    "Returns:\tNone (print to stdout) "
   ]
  },
  {
   "cell_type": "code",
   "execution_count": 15,
   "metadata": {
    "collapsed": true
   },
   "outputs": [],
   "source": [
    "# dependent variable\n",
    "# assign target and inputs for classification or regression\n",
    "if target==None:\n",
    "  target=df.columns[-1]   \n",
    "y = target"
   ]
  },
  {
   "cell_type": "code",
   "execution_count": 16,
   "metadata": {},
   "outputs": [
    {
     "name": "stdout",
     "output_type": "stream",
     "text": [
      "Clicked on Ad\n"
     ]
    }
   ],
   "source": [
    "print(y)"
   ]
  },
  {
   "cell_type": "code",
   "execution_count": 17,
   "metadata": {
    "scrolled": true
   },
   "outputs": [
    {
     "name": "stdout",
     "output_type": "stream",
     "text": [
      "None\n"
     ]
    }
   ],
   "source": [
    "print(all_variables)"
   ]
  },
  {
   "cell_type": "code",
   "execution_count": 18,
   "metadata": {
    "collapsed": true
   },
   "outputs": [],
   "source": [
    "if all_variables is not None:\n",
    "  ivd=get_all_variables_csv(all_variables)\n",
    "  print(ivd)    \n",
    "  X=check_all_variables(df,ivd,y)\n",
    "  print(X)"
   ]
  },
  {
   "cell_type": "code",
   "execution_count": 19,
   "metadata": {},
   "outputs": [
    {
     "name": "stdout",
     "output_type": "stream",
     "text": [
      "Rows:1000\n",
      "Cols:11\n",
      "\n",
      "\n"
     ]
    },
    {
     "data": {
      "text/html": [
       "<table>\n",
       "<thead>\n",
       "<tr><th>       </th><th>ID               </th><th>Daily Time Spent on Site  </th><th>Age             </th><th>Area Income       </th><th>Daily Internet Usage  </th><th>Ad Topic Line                        </th><th>City            </th><th>Male               </th><th>Country   </th><th>Timestamp      </th><th>Clicked on Ad     </th></tr>\n",
       "</thead>\n",
       "<tbody>\n",
       "<tr><td>type   </td><td>int              </td><td>real                      </td><td>int             </td><td>real              </td><td>real                  </td><td>string                               </td><td>string          </td><td>int                </td><td>enum      </td><td>string         </td><td>int               </td></tr>\n",
       "<tr><td>mins   </td><td>1.0              </td><td>32.6                      </td><td>19.0            </td><td>13996.5           </td><td>104.78                </td><td>NaN                                  </td><td>NaN             </td><td>0.0                </td><td>          </td><td>NaN            </td><td>0.0               </td></tr>\n",
       "<tr><td>mean   </td><td>500.5            </td><td>65.00019999999999         </td><td>36.009          </td><td>55000.00008       </td><td>180.0001              </td><td>NaN                                  </td><td>NaN             </td><td>0.481              </td><td>          </td><td>NaN            </td><td>0.5               </td></tr>\n",
       "<tr><td>maxs   </td><td>1000.0           </td><td>91.43                     </td><td>61.0            </td><td>79484.8           </td><td>269.96                </td><td>NaN                                  </td><td>NaN             </td><td>1.0                </td><td>          </td><td>NaN            </td><td>1.0               </td></tr>\n",
       "<tr><td>sigma  </td><td>288.8194360957494</td><td>15.85361456750021         </td><td>8.78556231012592</td><td>13414.634022282358</td><td>43.9023393019801      </td><td>NaN                                  </td><td>NaN             </td><td>0.49988887654046565</td><td>          </td><td>NaN            </td><td>0.5002501876563868</td></tr>\n",
       "<tr><td>zeros  </td><td>0                </td><td>0                         </td><td>0               </td><td>0                 </td><td>0                     </td><td>0                                    </td><td>0               </td><td>519                </td><td>          </td><td>0              </td><td>500               </td></tr>\n",
       "<tr><td>missing</td><td>0                </td><td>0                         </td><td>0               </td><td>0                 </td><td>0                     </td><td>0                                    </td><td>0               </td><td>0                  </td><td>0         </td><td>0              </td><td>0                 </td></tr>\n",
       "<tr><td>0      </td><td>1.0              </td><td>68.95                     </td><td>35.0            </td><td>61833.9           </td><td>256.09                </td><td>Cloned 5thgeneration orchestration   </td><td>Wrightburgh     </td><td>0.0                </td><td>Tunisia   </td><td>3/27/2016 0:53 </td><td>0.0               </td></tr>\n",
       "<tr><td>1      </td><td>2.0              </td><td>80.23                     </td><td>31.0            </td><td>68441.85          </td><td>193.77                </td><td>Monitored national standardization   </td><td>West Jodi       </td><td>1.0                </td><td>Nauru     </td><td>4/4/2016 1:39  </td><td>0.0               </td></tr>\n",
       "<tr><td>2      </td><td>3.0              </td><td>69.47                     </td><td>26.0            </td><td>59785.94          </td><td>236.5                 </td><td>Organic bottom-line service-desk     </td><td>Davidton        </td><td>0.0                </td><td>San Marino</td><td>3/13/2016 20:35</td><td>0.0               </td></tr>\n",
       "<tr><td>3      </td><td>4.0              </td><td>74.15                     </td><td>29.0            </td><td>54806.18          </td><td>245.89                </td><td>Triple-buffered reciprocal time-frame</td><td>West Terrifurt  </td><td>1.0                </td><td>Italy     </td><td>1/10/2016 2:31 </td><td>0.0               </td></tr>\n",
       "<tr><td>4      </td><td>5.0              </td><td>68.37                     </td><td>35.0            </td><td>73889.99          </td><td>225.58                </td><td>Robust logistical utilization        </td><td>South Manuel    </td><td>0.0                </td><td>Iceland   </td><td>6/3/2016 3:36  </td><td>0.0               </td></tr>\n",
       "<tr><td>5      </td><td>6.0              </td><td>59.99                     </td><td>23.0            </td><td>59761.56          </td><td>226.74                </td><td>Sharable client-driven software      </td><td>Jamieberg       </td><td>1.0                </td><td>Norway    </td><td>5/19/2016 14:30</td><td>0.0               </td></tr>\n",
       "<tr><td>6      </td><td>7.0              </td><td>88.91                     </td><td>33.0            </td><td>53852.85          </td><td>208.36                </td><td>Enhanced dedicated support           </td><td>Brandonstad     </td><td>0.0                </td><td>Myanmar   </td><td>1/28/2016 20:59</td><td>0.0               </td></tr>\n",
       "<tr><td>7      </td><td>8.0              </td><td>66.0                      </td><td>48.0            </td><td>24593.33          </td><td>131.76                </td><td>Reactive local challenge             </td><td>Port Jefferybury</td><td>1.0                </td><td>Australia </td><td>3/7/2016 1:40  </td><td>1.0               </td></tr>\n",
       "<tr><td>8      </td><td>9.0              </td><td>74.53                     </td><td>30.0            </td><td>68862.0           </td><td>221.51                </td><td>Configurable coherent function       </td><td>West Colin      </td><td>1.0                </td><td>Grenada   </td><td>4/18/2016 9:33 </td><td>0.0               </td></tr>\n",
       "<tr><td>9      </td><td>10.0             </td><td>69.88                     </td><td>20.0            </td><td>55642.32          </td><td>183.82                </td><td>Mandatory homogeneous architecture   </td><td>Ramirezton      </td><td>1.0                </td><td>Ghana     </td><td>7/11/2016 1:42 </td><td>0.0               </td></tr>\n",
       "</tbody>\n",
       "</table>"
      ]
     },
     "metadata": {},
     "output_type": "display_data"
    }
   ],
   "source": [
    "df.describe()"
   ]
  },
  {
   "cell_type": "code",
   "execution_count": 20,
   "metadata": {
    "collapsed": true
   },
   "outputs": [],
   "source": [
    "# independent variables\n",
    "\n",
    "X = []  \n",
    "if all_variables is None:\n",
    "  X=get_independent_variables(df, target)  \n",
    "else: \n",
    "  ivd=get_all_variables_csv(all_variables)    \n",
    "  X=check_all_variables(df, ivd)\n",
    "\n",
    "\n",
    "X=check_X(X,df)\n",
    "\n",
    "\n",
    "# Add independent variables\n",
    "\n",
    "meta_data['X']=X  \n",
    "\n",
    "\n",
    "# impute missing values\n",
    "\n",
    "_=impute_missing_values(df,X, scale)"
   ]
  },
  {
   "cell_type": "code",
   "execution_count": 21,
   "metadata": {
    "collapsed": true
   },
   "outputs": [],
   "source": [
    "if analysis == 3:\n",
    "  classification=False\n",
    "elif analysis == 2:\n",
    "  classification=True\n",
    "elif analysis == 1:\n",
    "  classification=True"
   ]
  },
  {
   "cell_type": "code",
   "execution_count": 22,
   "metadata": {},
   "outputs": [
    {
     "name": "stdout",
     "output_type": "stream",
     "text": [
      "False\n"
     ]
    }
   ],
   "source": [
    "print(classification)"
   ]
  },
  {
   "cell_type": "code",
   "execution_count": 23,
   "metadata": {
    "collapsed": true
   },
   "outputs": [],
   "source": [
    "# Force target to be factors\n",
    "# Only 'int' or 'string' are allowed for asfactor(), got Target (Total orders):real \n",
    "\n",
    "if classification:\n",
    "    df[y] = df[y].asfactor()"
   ]
  },
  {
   "cell_type": "code",
   "execution_count": 24,
   "metadata": {
    "collapsed": true
   },
   "outputs": [],
   "source": [
    "def check_y(y,df):\n",
    "  ok=False\n",
    "  C = [name for name in df.columns if name == y]\n",
    "  for key, val in df.types.items():\n",
    "    if key in C:\n",
    "      if val in ['real','int','enum']:        \n",
    "        ok=True         \n",
    "  return ok, val   "
   ]
  },
  {
   "cell_type": "code",
   "execution_count": 25,
   "metadata": {
    "collapsed": true
   },
   "outputs": [],
   "source": [
    "ok,val=check_y(y,df)"
   ]
  },
  {
   "cell_type": "code",
   "execution_count": 26,
   "metadata": {},
   "outputs": [
    {
     "name": "stdout",
     "output_type": "stream",
     "text": [
      "int\n"
     ]
    }
   ],
   "source": [
    "print(val)"
   ]
  },
  {
   "cell_type": "code",
   "execution_count": 27,
   "metadata": {},
   "outputs": [
    {
     "name": "stdout",
     "output_type": "stream",
     "text": [
      "Clicked on Ad\n"
     ]
    }
   ],
   "source": [
    "print(y)"
   ]
  },
  {
   "cell_type": "code",
   "execution_count": 28,
   "metadata": {},
   "outputs": [
    {
     "name": "stdout",
     "output_type": "stream",
     "text": [
      "True\n"
     ]
    }
   ],
   "source": [
    "print(ok)"
   ]
  },
  {
   "cell_type": "code",
   "execution_count": 29,
   "metadata": {
    "collapsed": true
   },
   "outputs": [],
   "source": [
    "if val=='enum':\n",
    "    print(df[y].levels())"
   ]
  },
  {
   "cell_type": "code",
   "execution_count": 30,
   "metadata": {},
   "outputs": [
    {
     "name": "stdout",
     "output_type": "stream",
     "text": [
      "Rows:1000\n",
      "Cols:11\n",
      "\n",
      "\n"
     ]
    },
    {
     "data": {
      "text/html": [
       "<table>\n",
       "<thead>\n",
       "<tr><th>       </th><th>ID               </th><th>Daily Time Spent on Site  </th><th>Age             </th><th>Area Income       </th><th>Daily Internet Usage  </th><th>Ad Topic Line                        </th><th>City            </th><th>Male               </th><th>Country   </th><th>Timestamp      </th><th>Clicked on Ad     </th></tr>\n",
       "</thead>\n",
       "<tbody>\n",
       "<tr><td>type   </td><td>int              </td><td>real                      </td><td>int             </td><td>real              </td><td>real                  </td><td>string                               </td><td>string          </td><td>int                </td><td>enum      </td><td>string         </td><td>int               </td></tr>\n",
       "<tr><td>mins   </td><td>1.0              </td><td>32.6                      </td><td>19.0            </td><td>13996.5           </td><td>104.78                </td><td>NaN                                  </td><td>NaN             </td><td>0.0                </td><td>          </td><td>NaN            </td><td>0.0               </td></tr>\n",
       "<tr><td>mean   </td><td>500.5            </td><td>65.00019999999999         </td><td>36.009          </td><td>55000.00008       </td><td>180.0001              </td><td>NaN                                  </td><td>NaN             </td><td>0.481              </td><td>          </td><td>NaN            </td><td>0.5               </td></tr>\n",
       "<tr><td>maxs   </td><td>1000.0           </td><td>91.43                     </td><td>61.0            </td><td>79484.8           </td><td>269.96                </td><td>NaN                                  </td><td>NaN             </td><td>1.0                </td><td>          </td><td>NaN            </td><td>1.0               </td></tr>\n",
       "<tr><td>sigma  </td><td>288.8194360957494</td><td>15.85361456750021         </td><td>8.78556231012592</td><td>13414.634022282358</td><td>43.9023393019801      </td><td>NaN                                  </td><td>NaN             </td><td>0.49988887654046565</td><td>          </td><td>NaN            </td><td>0.5002501876563868</td></tr>\n",
       "<tr><td>zeros  </td><td>0                </td><td>0                         </td><td>0               </td><td>0                 </td><td>0                     </td><td>0                                    </td><td>0               </td><td>519                </td><td>          </td><td>0              </td><td>500               </td></tr>\n",
       "<tr><td>missing</td><td>0                </td><td>0                         </td><td>0               </td><td>0                 </td><td>0                     </td><td>0                                    </td><td>0               </td><td>0                  </td><td>0         </td><td>0              </td><td>0                 </td></tr>\n",
       "<tr><td>0      </td><td>1.0              </td><td>68.95                     </td><td>35.0            </td><td>61833.9           </td><td>256.09                </td><td>Cloned 5thgeneration orchestration   </td><td>Wrightburgh     </td><td>0.0                </td><td>Tunisia   </td><td>3/27/2016 0:53 </td><td>0.0               </td></tr>\n",
       "<tr><td>1      </td><td>2.0              </td><td>80.23                     </td><td>31.0            </td><td>68441.85          </td><td>193.77                </td><td>Monitored national standardization   </td><td>West Jodi       </td><td>1.0                </td><td>Nauru     </td><td>4/4/2016 1:39  </td><td>0.0               </td></tr>\n",
       "<tr><td>2      </td><td>3.0              </td><td>69.47                     </td><td>26.0            </td><td>59785.94          </td><td>236.5                 </td><td>Organic bottom-line service-desk     </td><td>Davidton        </td><td>0.0                </td><td>San Marino</td><td>3/13/2016 20:35</td><td>0.0               </td></tr>\n",
       "<tr><td>3      </td><td>4.0              </td><td>74.15                     </td><td>29.0            </td><td>54806.18          </td><td>245.89                </td><td>Triple-buffered reciprocal time-frame</td><td>West Terrifurt  </td><td>1.0                </td><td>Italy     </td><td>1/10/2016 2:31 </td><td>0.0               </td></tr>\n",
       "<tr><td>4      </td><td>5.0              </td><td>68.37                     </td><td>35.0            </td><td>73889.99          </td><td>225.58                </td><td>Robust logistical utilization        </td><td>South Manuel    </td><td>0.0                </td><td>Iceland   </td><td>6/3/2016 3:36  </td><td>0.0               </td></tr>\n",
       "<tr><td>5      </td><td>6.0              </td><td>59.99                     </td><td>23.0            </td><td>59761.56          </td><td>226.74                </td><td>Sharable client-driven software      </td><td>Jamieberg       </td><td>1.0                </td><td>Norway    </td><td>5/19/2016 14:30</td><td>0.0               </td></tr>\n",
       "<tr><td>6      </td><td>7.0              </td><td>88.91                     </td><td>33.0            </td><td>53852.85          </td><td>208.36                </td><td>Enhanced dedicated support           </td><td>Brandonstad     </td><td>0.0                </td><td>Myanmar   </td><td>1/28/2016 20:59</td><td>0.0               </td></tr>\n",
       "<tr><td>7      </td><td>8.0              </td><td>66.0                      </td><td>48.0            </td><td>24593.33          </td><td>131.76                </td><td>Reactive local challenge             </td><td>Port Jefferybury</td><td>1.0                </td><td>Australia </td><td>3/7/2016 1:40  </td><td>1.0               </td></tr>\n",
       "<tr><td>8      </td><td>9.0              </td><td>74.53                     </td><td>30.0            </td><td>68862.0           </td><td>221.51                </td><td>Configurable coherent function       </td><td>West Colin      </td><td>1.0                </td><td>Grenada   </td><td>4/18/2016 9:33 </td><td>0.0               </td></tr>\n",
       "<tr><td>9      </td><td>10.0             </td><td>69.88                     </td><td>20.0            </td><td>55642.32          </td><td>183.82                </td><td>Mandatory homogeneous architecture   </td><td>Ramirezton      </td><td>1.0                </td><td>Ghana     </td><td>7/11/2016 1:42 </td><td>0.0               </td></tr>\n",
       "</tbody>\n",
       "</table>"
      ]
     },
     "metadata": {},
     "output_type": "display_data"
    }
   ],
   "source": [
    "df.describe()"
   ]
  },
  {
   "cell_type": "code",
   "execution_count": 31,
   "metadata": {},
   "outputs": [
    {
     "data": {
      "text/plain": [
       "{'Ad Topic Line': 'string',\n",
       " 'Age': 'int',\n",
       " 'Area Income': 'real',\n",
       " 'City': 'string',\n",
       " 'Clicked on Ad': 'int',\n",
       " 'Country': 'enum',\n",
       " 'Daily Internet Usage': 'real',\n",
       " 'Daily Time Spent on Site': 'real',\n",
       " 'ID': 'int',\n",
       " 'Male': 'int',\n",
       " 'Timestamp': 'string'}"
      ]
     },
     "execution_count": 31,
     "metadata": {},
     "output_type": "execute_result"
    }
   ],
   "source": [
    "allV=get_variables_types(df)\n",
    "allV"
   ]
  },
  {
   "cell_type": "code",
   "execution_count": 32,
   "metadata": {
    "collapsed": true
   },
   "outputs": [],
   "source": [
    "meta_data['variables']=allV"
   ]
  },
  {
   "cell_type": "code",
   "execution_count": 33,
   "metadata": {
    "collapsed": true
   },
   "outputs": [],
   "source": [
    "# split into training and test for showing how to predict\n",
    "train, test = df.split_frame([0.9])"
   ]
  },
  {
   "cell_type": "code",
   "execution_count": 34,
   "metadata": {
    "collapsed": true
   },
   "outputs": [],
   "source": [
    "# Set up AutoML\n",
    "\n",
    "aml = H2OAutoML(max_runtime_secs=run_time,project_name = name)"
   ]
  },
  {
   "cell_type": "code",
   "execution_count": 35,
   "metadata": {
    "collapsed": true
   },
   "outputs": [],
   "source": [
    "model_start_time = time.time()"
   ]
  },
  {
   "cell_type": "code",
   "execution_count": 36,
   "metadata": {},
   "outputs": [
    {
     "name": "stdout",
     "output_type": "stream",
     "text": [
      "AutoML progress: |████████████████████████████████████████████████████████| 100%\n"
     ]
    }
   ],
   "source": [
    "aml.train(x=X,y=y,training_frame=train)"
   ]
  },
  {
   "cell_type": "code",
   "execution_count": 37,
   "metadata": {
    "collapsed": true
   },
   "outputs": [],
   "source": [
    "meta_data['model_execution_time'] = time.time() - model_start_time"
   ]
  },
  {
   "cell_type": "code",
   "execution_count": 38,
   "metadata": {
    "collapsed": true
   },
   "outputs": [],
   "source": [
    "# get leaderboard\n",
    "aml_leaderboard_df=aml.leaderboard.as_data_frame()"
   ]
  },
  {
   "cell_type": "code",
   "execution_count": 39,
   "metadata": {},
   "outputs": [
    {
     "data": {
      "text/html": [
       "<div>\n",
       "<style>\n",
       "    .dataframe thead tr:only-child th {\n",
       "        text-align: right;\n",
       "    }\n",
       "\n",
       "    .dataframe thead th {\n",
       "        text-align: left;\n",
       "    }\n",
       "\n",
       "    .dataframe tbody tr th {\n",
       "        vertical-align: top;\n",
       "    }\n",
       "</style>\n",
       "<table border=\"1\" class=\"dataframe\">\n",
       "  <thead>\n",
       "    <tr style=\"text-align: right;\">\n",
       "      <th></th>\n",
       "      <th>model_id</th>\n",
       "      <th>mean_residual_deviance</th>\n",
       "      <th>rmse</th>\n",
       "      <th>mse</th>\n",
       "      <th>mae</th>\n",
       "      <th>rmsle</th>\n",
       "    </tr>\n",
       "  </thead>\n",
       "  <tbody>\n",
       "    <tr>\n",
       "      <th>0</th>\n",
       "      <td>StackedEnsemble_BestOfFamily_0_AutoML_20181003...</td>\n",
       "      <td>0.032494</td>\n",
       "      <td>0.180260</td>\n",
       "      <td>0.032494</td>\n",
       "      <td>0.095383</td>\n",
       "      <td>0.125438</td>\n",
       "    </tr>\n",
       "    <tr>\n",
       "      <th>1</th>\n",
       "      <td>DeepLearning_0_AutoML_20181003_004019</td>\n",
       "      <td>0.032608</td>\n",
       "      <td>0.180577</td>\n",
       "      <td>0.032608</td>\n",
       "      <td>0.098278</td>\n",
       "      <td>0.124804</td>\n",
       "    </tr>\n",
       "    <tr>\n",
       "      <th>2</th>\n",
       "      <td>StackedEnsemble_AllModels_0_AutoML_20181003_00...</td>\n",
       "      <td>0.033311</td>\n",
       "      <td>0.182512</td>\n",
       "      <td>0.033311</td>\n",
       "      <td>0.095788</td>\n",
       "      <td>0.128279</td>\n",
       "    </tr>\n",
       "    <tr>\n",
       "      <th>3</th>\n",
       "      <td>XRT_0_AutoML_20181003_004019</td>\n",
       "      <td>0.042332</td>\n",
       "      <td>0.205748</td>\n",
       "      <td>0.042332</td>\n",
       "      <td>0.098452</td>\n",
       "      <td>0.142590</td>\n",
       "    </tr>\n",
       "    <tr>\n",
       "      <th>4</th>\n",
       "      <td>DeepLearning_grid_0_AutoML_20181003_004019_mod...</td>\n",
       "      <td>0.043141</td>\n",
       "      <td>0.207703</td>\n",
       "      <td>0.043141</td>\n",
       "      <td>0.122975</td>\n",
       "      <td>0.148630</td>\n",
       "    </tr>\n",
       "    <tr>\n",
       "      <th>5</th>\n",
       "      <td>GLM_grid_0_AutoML_20181003_004019_model_0</td>\n",
       "      <td>0.043596</td>\n",
       "      <td>0.208797</td>\n",
       "      <td>0.043596</td>\n",
       "      <td>0.143951</td>\n",
       "      <td>0.141198</td>\n",
       "    </tr>\n",
       "    <tr>\n",
       "      <th>6</th>\n",
       "      <td>GBM_grid_0_AutoML_20181003_004019_model_58</td>\n",
       "      <td>0.044503</td>\n",
       "      <td>0.210957</td>\n",
       "      <td>0.044503</td>\n",
       "      <td>0.096704</td>\n",
       "      <td>0.150049</td>\n",
       "    </tr>\n",
       "    <tr>\n",
       "      <th>7</th>\n",
       "      <td>GBM_grid_0_AutoML_20181003_004019_model_88</td>\n",
       "      <td>0.045363</td>\n",
       "      <td>0.212987</td>\n",
       "      <td>0.045363</td>\n",
       "      <td>0.104667</td>\n",
       "      <td>0.150736</td>\n",
       "    </tr>\n",
       "    <tr>\n",
       "      <th>8</th>\n",
       "      <td>GBM_grid_0_AutoML_20181003_004019_model_113</td>\n",
       "      <td>0.046268</td>\n",
       "      <td>0.215101</td>\n",
       "      <td>0.046268</td>\n",
       "      <td>0.109142</td>\n",
       "      <td>0.151428</td>\n",
       "    </tr>\n",
       "    <tr>\n",
       "      <th>9</th>\n",
       "      <td>GBM_grid_0_AutoML_20181003_004019_model_51</td>\n",
       "      <td>0.046361</td>\n",
       "      <td>0.215315</td>\n",
       "      <td>0.046361</td>\n",
       "      <td>0.101372</td>\n",
       "      <td>0.152180</td>\n",
       "    </tr>\n",
       "    <tr>\n",
       "      <th>10</th>\n",
       "      <td>GBM_grid_0_AutoML_20181003_004019_model_1</td>\n",
       "      <td>0.046563</td>\n",
       "      <td>0.215784</td>\n",
       "      <td>0.046563</td>\n",
       "      <td>0.129524</td>\n",
       "      <td>0.153355</td>\n",
       "    </tr>\n",
       "    <tr>\n",
       "      <th>11</th>\n",
       "      <td>GBM_grid_0_AutoML_20181003_004019_model_0</td>\n",
       "      <td>0.047907</td>\n",
       "      <td>0.218876</td>\n",
       "      <td>0.047907</td>\n",
       "      <td>0.102430</td>\n",
       "      <td>0.154700</td>\n",
       "    </tr>\n",
       "    <tr>\n",
       "      <th>12</th>\n",
       "      <td>GBM_grid_0_AutoML_20181003_004019_model_68</td>\n",
       "      <td>0.048538</td>\n",
       "      <td>0.220314</td>\n",
       "      <td>0.048538</td>\n",
       "      <td>0.095261</td>\n",
       "      <td>0.154938</td>\n",
       "    </tr>\n",
       "    <tr>\n",
       "      <th>13</th>\n",
       "      <td>GBM_grid_0_AutoML_20181003_004019_model_40</td>\n",
       "      <td>0.048625</td>\n",
       "      <td>0.220511</td>\n",
       "      <td>0.048625</td>\n",
       "      <td>0.171207</td>\n",
       "      <td>0.158801</td>\n",
       "    </tr>\n",
       "    <tr>\n",
       "      <th>14</th>\n",
       "      <td>GBM_grid_0_AutoML_20181003_004019_model_93</td>\n",
       "      <td>0.049040</td>\n",
       "      <td>0.221450</td>\n",
       "      <td>0.049040</td>\n",
       "      <td>0.119888</td>\n",
       "      <td>0.156042</td>\n",
       "    </tr>\n",
       "    <tr>\n",
       "      <th>15</th>\n",
       "      <td>GBM_grid_0_AutoML_20181003_004019_model_55</td>\n",
       "      <td>0.050721</td>\n",
       "      <td>0.225213</td>\n",
       "      <td>0.050721</td>\n",
       "      <td>0.145096</td>\n",
       "      <td>0.158905</td>\n",
       "    </tr>\n",
       "    <tr>\n",
       "      <th>16</th>\n",
       "      <td>GBM_grid_0_AutoML_20181003_004019_model_2</td>\n",
       "      <td>0.051164</td>\n",
       "      <td>0.226196</td>\n",
       "      <td>0.051164</td>\n",
       "      <td>0.126885</td>\n",
       "      <td>0.158389</td>\n",
       "    </tr>\n",
       "    <tr>\n",
       "      <th>17</th>\n",
       "      <td>GBM_grid_0_AutoML_20181003_004019_model_17</td>\n",
       "      <td>0.051339</td>\n",
       "      <td>0.226582</td>\n",
       "      <td>0.051339</td>\n",
       "      <td>0.143232</td>\n",
       "      <td>0.162062</td>\n",
       "    </tr>\n",
       "    <tr>\n",
       "      <th>18</th>\n",
       "      <td>DRF_0_AutoML_20181003_004019</td>\n",
       "      <td>0.051448</td>\n",
       "      <td>0.226822</td>\n",
       "      <td>0.051448</td>\n",
       "      <td>0.131517</td>\n",
       "      <td>0.161972</td>\n",
       "    </tr>\n",
       "    <tr>\n",
       "      <th>19</th>\n",
       "      <td>GBM_grid_0_AutoML_20181003_004019_model_21</td>\n",
       "      <td>0.051575</td>\n",
       "      <td>0.227101</td>\n",
       "      <td>0.051575</td>\n",
       "      <td>0.145905</td>\n",
       "      <td>0.160178</td>\n",
       "    </tr>\n",
       "    <tr>\n",
       "      <th>20</th>\n",
       "      <td>GBM_grid_0_AutoML_20181003_004019_model_50</td>\n",
       "      <td>0.052487</td>\n",
       "      <td>0.229099</td>\n",
       "      <td>0.052487</td>\n",
       "      <td>0.151784</td>\n",
       "      <td>0.161997</td>\n",
       "    </tr>\n",
       "    <tr>\n",
       "      <th>21</th>\n",
       "      <td>GBM_grid_0_AutoML_20181003_004019_model_95</td>\n",
       "      <td>0.052510</td>\n",
       "      <td>0.229150</td>\n",
       "      <td>0.052510</td>\n",
       "      <td>0.139776</td>\n",
       "      <td>0.161762</td>\n",
       "    </tr>\n",
       "    <tr>\n",
       "      <th>22</th>\n",
       "      <td>GBM_grid_0_AutoML_20181003_004019_model_67</td>\n",
       "      <td>0.053709</td>\n",
       "      <td>0.231751</td>\n",
       "      <td>0.053709</td>\n",
       "      <td>0.121544</td>\n",
       "      <td>0.161866</td>\n",
       "    </tr>\n",
       "    <tr>\n",
       "      <th>23</th>\n",
       "      <td>GBM_grid_0_AutoML_20181003_004019_model_3</td>\n",
       "      <td>0.053711</td>\n",
       "      <td>0.231756</td>\n",
       "      <td>0.053711</td>\n",
       "      <td>0.138945</td>\n",
       "      <td>0.163164</td>\n",
       "    </tr>\n",
       "    <tr>\n",
       "      <th>24</th>\n",
       "      <td>GBM_grid_0_AutoML_20181003_004019_model_14</td>\n",
       "      <td>0.053727</td>\n",
       "      <td>0.231790</td>\n",
       "      <td>0.053727</td>\n",
       "      <td>0.166772</td>\n",
       "      <td>0.163744</td>\n",
       "    </tr>\n",
       "    <tr>\n",
       "      <th>25</th>\n",
       "      <td>GBM_grid_0_AutoML_20181003_004019_model_28</td>\n",
       "      <td>0.053790</td>\n",
       "      <td>0.231927</td>\n",
       "      <td>0.053790</td>\n",
       "      <td>0.155427</td>\n",
       "      <td>0.164690</td>\n",
       "    </tr>\n",
       "    <tr>\n",
       "      <th>26</th>\n",
       "      <td>GBM_grid_0_AutoML_20181003_004019_model_102</td>\n",
       "      <td>0.054199</td>\n",
       "      <td>0.232807</td>\n",
       "      <td>0.054199</td>\n",
       "      <td>0.172049</td>\n",
       "      <td>0.165182</td>\n",
       "    </tr>\n",
       "    <tr>\n",
       "      <th>27</th>\n",
       "      <td>GBM_grid_0_AutoML_20181003_004019_model_12</td>\n",
       "      <td>0.054862</td>\n",
       "      <td>0.234226</td>\n",
       "      <td>0.054862</td>\n",
       "      <td>0.134900</td>\n",
       "      <td>0.165183</td>\n",
       "    </tr>\n",
       "    <tr>\n",
       "      <th>28</th>\n",
       "      <td>GBM_grid_0_AutoML_20181003_004019_model_105</td>\n",
       "      <td>0.056018</td>\n",
       "      <td>0.236681</td>\n",
       "      <td>0.056018</td>\n",
       "      <td>0.186871</td>\n",
       "      <td>0.170757</td>\n",
       "    </tr>\n",
       "    <tr>\n",
       "      <th>29</th>\n",
       "      <td>GBM_grid_0_AutoML_20181003_004019_model_61</td>\n",
       "      <td>0.056020</td>\n",
       "      <td>0.236686</td>\n",
       "      <td>0.056020</td>\n",
       "      <td>0.109117</td>\n",
       "      <td>0.164862</td>\n",
       "    </tr>\n",
       "    <tr>\n",
       "      <th>...</th>\n",
       "      <td>...</td>\n",
       "      <td>...</td>\n",
       "      <td>...</td>\n",
       "      <td>...</td>\n",
       "      <td>...</td>\n",
       "      <td>...</td>\n",
       "    </tr>\n",
       "    <tr>\n",
       "      <th>91</th>\n",
       "      <td>GBM_grid_0_AutoML_20181003_004019_model_42</td>\n",
       "      <td>0.113385</td>\n",
       "      <td>0.336727</td>\n",
       "      <td>0.113385</td>\n",
       "      <td>0.284027</td>\n",
       "      <td>0.236658</td>\n",
       "    </tr>\n",
       "    <tr>\n",
       "      <th>92</th>\n",
       "      <td>GBM_grid_0_AutoML_20181003_004019_model_110</td>\n",
       "      <td>0.114596</td>\n",
       "      <td>0.338521</td>\n",
       "      <td>0.114596</td>\n",
       "      <td>0.252570</td>\n",
       "      <td>0.261914</td>\n",
       "    </tr>\n",
       "    <tr>\n",
       "      <th>93</th>\n",
       "      <td>GBM_grid_0_AutoML_20181003_004019_model_31</td>\n",
       "      <td>0.114653</td>\n",
       "      <td>0.338604</td>\n",
       "      <td>0.114653</td>\n",
       "      <td>0.324084</td>\n",
       "      <td>0.242939</td>\n",
       "    </tr>\n",
       "    <tr>\n",
       "      <th>94</th>\n",
       "      <td>GBM_grid_0_AutoML_20181003_004019_model_74</td>\n",
       "      <td>0.116527</td>\n",
       "      <td>0.341361</td>\n",
       "      <td>0.116527</td>\n",
       "      <td>0.181690</td>\n",
       "      <td>0.243567</td>\n",
       "    </tr>\n",
       "    <tr>\n",
       "      <th>95</th>\n",
       "      <td>GBM_grid_0_AutoML_20181003_004019_model_107</td>\n",
       "      <td>0.119062</td>\n",
       "      <td>0.345053</td>\n",
       "      <td>0.119062</td>\n",
       "      <td>0.243330</td>\n",
       "      <td>0.268678</td>\n",
       "    </tr>\n",
       "    <tr>\n",
       "      <th>96</th>\n",
       "      <td>GBM_grid_0_AutoML_20181003_004019_model_101</td>\n",
       "      <td>0.120423</td>\n",
       "      <td>0.347021</td>\n",
       "      <td>0.120423</td>\n",
       "      <td>0.267286</td>\n",
       "      <td>0.249677</td>\n",
       "    </tr>\n",
       "    <tr>\n",
       "      <th>97</th>\n",
       "      <td>GBM_grid_0_AutoML_20181003_004019_model_16</td>\n",
       "      <td>0.120719</td>\n",
       "      <td>0.347447</td>\n",
       "      <td>0.120719</td>\n",
       "      <td>0.331349</td>\n",
       "      <td>0.247297</td>\n",
       "    </tr>\n",
       "    <tr>\n",
       "      <th>98</th>\n",
       "      <td>GBM_grid_0_AutoML_20181003_004019_model_46</td>\n",
       "      <td>0.126903</td>\n",
       "      <td>0.356235</td>\n",
       "      <td>0.126903</td>\n",
       "      <td>0.343946</td>\n",
       "      <td>0.254088</td>\n",
       "    </tr>\n",
       "    <tr>\n",
       "      <th>99</th>\n",
       "      <td>GBM_grid_0_AutoML_20181003_004019_model_80</td>\n",
       "      <td>0.140125</td>\n",
       "      <td>0.374333</td>\n",
       "      <td>0.140125</td>\n",
       "      <td>0.362398</td>\n",
       "      <td>0.266683</td>\n",
       "    </tr>\n",
       "    <tr>\n",
       "      <th>100</th>\n",
       "      <td>GBM_grid_0_AutoML_20181003_004019_model_64</td>\n",
       "      <td>0.141987</td>\n",
       "      <td>0.376811</td>\n",
       "      <td>0.141987</td>\n",
       "      <td>0.269948</td>\n",
       "      <td>0.267125</td>\n",
       "    </tr>\n",
       "    <tr>\n",
       "      <th>101</th>\n",
       "      <td>GBM_grid_0_AutoML_20181003_004019_model_65</td>\n",
       "      <td>0.147303</td>\n",
       "      <td>0.383800</td>\n",
       "      <td>0.147303</td>\n",
       "      <td>0.377400</td>\n",
       "      <td>0.273366</td>\n",
       "    </tr>\n",
       "    <tr>\n",
       "      <th>102</th>\n",
       "      <td>GBM_grid_0_AutoML_20181003_004019_model_97</td>\n",
       "      <td>0.147750</td>\n",
       "      <td>0.384383</td>\n",
       "      <td>0.147750</td>\n",
       "      <td>0.301164</td>\n",
       "      <td>0.295168</td>\n",
       "    </tr>\n",
       "    <tr>\n",
       "      <th>103</th>\n",
       "      <td>GBM_grid_0_AutoML_20181003_004019_model_6</td>\n",
       "      <td>0.158853</td>\n",
       "      <td>0.398564</td>\n",
       "      <td>0.158853</td>\n",
       "      <td>0.284596</td>\n",
       "      <td>NaN</td>\n",
       "    </tr>\n",
       "    <tr>\n",
       "      <th>104</th>\n",
       "      <td>GBM_grid_0_AutoML_20181003_004019_model_57</td>\n",
       "      <td>0.161796</td>\n",
       "      <td>0.402238</td>\n",
       "      <td>0.161796</td>\n",
       "      <td>0.308943</td>\n",
       "      <td>0.284120</td>\n",
       "    </tr>\n",
       "    <tr>\n",
       "      <th>105</th>\n",
       "      <td>GBM_grid_0_AutoML_20181003_004019_model_103</td>\n",
       "      <td>0.226646</td>\n",
       "      <td>0.476074</td>\n",
       "      <td>0.226646</td>\n",
       "      <td>0.321362</td>\n",
       "      <td>0.385424</td>\n",
       "    </tr>\n",
       "    <tr>\n",
       "      <th>106</th>\n",
       "      <td>GBM_grid_0_AutoML_20181003_004019_model_30</td>\n",
       "      <td>0.238291</td>\n",
       "      <td>0.488151</td>\n",
       "      <td>0.238291</td>\n",
       "      <td>0.488086</td>\n",
       "      <td>0.343759</td>\n",
       "    </tr>\n",
       "    <tr>\n",
       "      <th>107</th>\n",
       "      <td>GBM_grid_0_AutoML_20181003_004019_model_96</td>\n",
       "      <td>0.238319</td>\n",
       "      <td>0.488179</td>\n",
       "      <td>0.238319</td>\n",
       "      <td>0.488132</td>\n",
       "      <td>0.343758</td>\n",
       "    </tr>\n",
       "    <tr>\n",
       "      <th>108</th>\n",
       "      <td>GBM_grid_0_AutoML_20181003_004019_model_15</td>\n",
       "      <td>0.238706</td>\n",
       "      <td>0.488575</td>\n",
       "      <td>0.238706</td>\n",
       "      <td>0.488505</td>\n",
       "      <td>0.344004</td>\n",
       "    </tr>\n",
       "    <tr>\n",
       "      <th>109</th>\n",
       "      <td>GBM_grid_0_AutoML_20181003_004019_model_34</td>\n",
       "      <td>0.238778</td>\n",
       "      <td>0.488649</td>\n",
       "      <td>0.238778</td>\n",
       "      <td>0.488601</td>\n",
       "      <td>0.344057</td>\n",
       "    </tr>\n",
       "    <tr>\n",
       "      <th>110</th>\n",
       "      <td>GBM_grid_0_AutoML_20181003_004019_model_89</td>\n",
       "      <td>0.240104</td>\n",
       "      <td>0.490004</td>\n",
       "      <td>0.240104</td>\n",
       "      <td>0.489963</td>\n",
       "      <td>0.344967</td>\n",
       "    </tr>\n",
       "    <tr>\n",
       "      <th>111</th>\n",
       "      <td>GBM_grid_0_AutoML_20181003_004019_model_36</td>\n",
       "      <td>0.240649</td>\n",
       "      <td>0.490560</td>\n",
       "      <td>0.240649</td>\n",
       "      <td>0.490520</td>\n",
       "      <td>0.345308</td>\n",
       "    </tr>\n",
       "    <tr>\n",
       "      <th>112</th>\n",
       "      <td>GBM_grid_0_AutoML_20181003_004019_model_39</td>\n",
       "      <td>0.240775</td>\n",
       "      <td>0.490689</td>\n",
       "      <td>0.240775</td>\n",
       "      <td>0.490650</td>\n",
       "      <td>0.345417</td>\n",
       "    </tr>\n",
       "    <tr>\n",
       "      <th>113</th>\n",
       "      <td>GBM_grid_0_AutoML_20181003_004019_model_111</td>\n",
       "      <td>0.241440</td>\n",
       "      <td>0.491365</td>\n",
       "      <td>0.241440</td>\n",
       "      <td>0.378263</td>\n",
       "      <td>NaN</td>\n",
       "    </tr>\n",
       "    <tr>\n",
       "      <th>114</th>\n",
       "      <td>GBM_grid_0_AutoML_20181003_004019_model_56</td>\n",
       "      <td>0.242304</td>\n",
       "      <td>0.492244</td>\n",
       "      <td>0.242304</td>\n",
       "      <td>0.492213</td>\n",
       "      <td>0.346442</td>\n",
       "    </tr>\n",
       "    <tr>\n",
       "      <th>115</th>\n",
       "      <td>GBM_grid_0_AutoML_20181003_004019_model_38</td>\n",
       "      <td>0.242370</td>\n",
       "      <td>0.492311</td>\n",
       "      <td>0.242370</td>\n",
       "      <td>0.492274</td>\n",
       "      <td>0.346448</td>\n",
       "    </tr>\n",
       "    <tr>\n",
       "      <th>116</th>\n",
       "      <td>GBM_grid_0_AutoML_20181003_004019_model_23</td>\n",
       "      <td>0.242864</td>\n",
       "      <td>0.492812</td>\n",
       "      <td>0.242864</td>\n",
       "      <td>0.492781</td>\n",
       "      <td>0.346817</td>\n",
       "    </tr>\n",
       "    <tr>\n",
       "      <th>117</th>\n",
       "      <td>GBM_grid_0_AutoML_20181003_004019_model_109</td>\n",
       "      <td>0.243551</td>\n",
       "      <td>0.493509</td>\n",
       "      <td>0.243551</td>\n",
       "      <td>0.493479</td>\n",
       "      <td>0.347251</td>\n",
       "    </tr>\n",
       "    <tr>\n",
       "      <th>118</th>\n",
       "      <td>GBM_grid_0_AutoML_20181003_004019_model_53</td>\n",
       "      <td>0.244289</td>\n",
       "      <td>0.494256</td>\n",
       "      <td>0.244289</td>\n",
       "      <td>0.494225</td>\n",
       "      <td>0.347728</td>\n",
       "    </tr>\n",
       "    <tr>\n",
       "      <th>119</th>\n",
       "      <td>GBM_grid_0_AutoML_20181003_004019_model_85</td>\n",
       "      <td>0.244387</td>\n",
       "      <td>0.494355</td>\n",
       "      <td>0.244387</td>\n",
       "      <td>0.494329</td>\n",
       "      <td>0.347829</td>\n",
       "    </tr>\n",
       "    <tr>\n",
       "      <th>120</th>\n",
       "      <td>GBM_grid_0_AutoML_20181003_004019_model_70</td>\n",
       "      <td>0.274595</td>\n",
       "      <td>0.524018</td>\n",
       "      <td>0.274595</td>\n",
       "      <td>0.416219</td>\n",
       "      <td>NaN</td>\n",
       "    </tr>\n",
       "  </tbody>\n",
       "</table>\n",
       "<p>121 rows × 6 columns</p>\n",
       "</div>"
      ],
      "text/plain": [
       "                                              model_id  \\\n",
       "0    StackedEnsemble_BestOfFamily_0_AutoML_20181003...   \n",
       "1                DeepLearning_0_AutoML_20181003_004019   \n",
       "2    StackedEnsemble_AllModels_0_AutoML_20181003_00...   \n",
       "3                         XRT_0_AutoML_20181003_004019   \n",
       "4    DeepLearning_grid_0_AutoML_20181003_004019_mod...   \n",
       "5            GLM_grid_0_AutoML_20181003_004019_model_0   \n",
       "6           GBM_grid_0_AutoML_20181003_004019_model_58   \n",
       "7           GBM_grid_0_AutoML_20181003_004019_model_88   \n",
       "8          GBM_grid_0_AutoML_20181003_004019_model_113   \n",
       "9           GBM_grid_0_AutoML_20181003_004019_model_51   \n",
       "10           GBM_grid_0_AutoML_20181003_004019_model_1   \n",
       "11           GBM_grid_0_AutoML_20181003_004019_model_0   \n",
       "12          GBM_grid_0_AutoML_20181003_004019_model_68   \n",
       "13          GBM_grid_0_AutoML_20181003_004019_model_40   \n",
       "14          GBM_grid_0_AutoML_20181003_004019_model_93   \n",
       "15          GBM_grid_0_AutoML_20181003_004019_model_55   \n",
       "16           GBM_grid_0_AutoML_20181003_004019_model_2   \n",
       "17          GBM_grid_0_AutoML_20181003_004019_model_17   \n",
       "18                        DRF_0_AutoML_20181003_004019   \n",
       "19          GBM_grid_0_AutoML_20181003_004019_model_21   \n",
       "20          GBM_grid_0_AutoML_20181003_004019_model_50   \n",
       "21          GBM_grid_0_AutoML_20181003_004019_model_95   \n",
       "22          GBM_grid_0_AutoML_20181003_004019_model_67   \n",
       "23           GBM_grid_0_AutoML_20181003_004019_model_3   \n",
       "24          GBM_grid_0_AutoML_20181003_004019_model_14   \n",
       "25          GBM_grid_0_AutoML_20181003_004019_model_28   \n",
       "26         GBM_grid_0_AutoML_20181003_004019_model_102   \n",
       "27          GBM_grid_0_AutoML_20181003_004019_model_12   \n",
       "28         GBM_grid_0_AutoML_20181003_004019_model_105   \n",
       "29          GBM_grid_0_AutoML_20181003_004019_model_61   \n",
       "..                                                 ...   \n",
       "91          GBM_grid_0_AutoML_20181003_004019_model_42   \n",
       "92         GBM_grid_0_AutoML_20181003_004019_model_110   \n",
       "93          GBM_grid_0_AutoML_20181003_004019_model_31   \n",
       "94          GBM_grid_0_AutoML_20181003_004019_model_74   \n",
       "95         GBM_grid_0_AutoML_20181003_004019_model_107   \n",
       "96         GBM_grid_0_AutoML_20181003_004019_model_101   \n",
       "97          GBM_grid_0_AutoML_20181003_004019_model_16   \n",
       "98          GBM_grid_0_AutoML_20181003_004019_model_46   \n",
       "99          GBM_grid_0_AutoML_20181003_004019_model_80   \n",
       "100         GBM_grid_0_AutoML_20181003_004019_model_64   \n",
       "101         GBM_grid_0_AutoML_20181003_004019_model_65   \n",
       "102         GBM_grid_0_AutoML_20181003_004019_model_97   \n",
       "103          GBM_grid_0_AutoML_20181003_004019_model_6   \n",
       "104         GBM_grid_0_AutoML_20181003_004019_model_57   \n",
       "105        GBM_grid_0_AutoML_20181003_004019_model_103   \n",
       "106         GBM_grid_0_AutoML_20181003_004019_model_30   \n",
       "107         GBM_grid_0_AutoML_20181003_004019_model_96   \n",
       "108         GBM_grid_0_AutoML_20181003_004019_model_15   \n",
       "109         GBM_grid_0_AutoML_20181003_004019_model_34   \n",
       "110         GBM_grid_0_AutoML_20181003_004019_model_89   \n",
       "111         GBM_grid_0_AutoML_20181003_004019_model_36   \n",
       "112         GBM_grid_0_AutoML_20181003_004019_model_39   \n",
       "113        GBM_grid_0_AutoML_20181003_004019_model_111   \n",
       "114         GBM_grid_0_AutoML_20181003_004019_model_56   \n",
       "115         GBM_grid_0_AutoML_20181003_004019_model_38   \n",
       "116         GBM_grid_0_AutoML_20181003_004019_model_23   \n",
       "117        GBM_grid_0_AutoML_20181003_004019_model_109   \n",
       "118         GBM_grid_0_AutoML_20181003_004019_model_53   \n",
       "119         GBM_grid_0_AutoML_20181003_004019_model_85   \n",
       "120         GBM_grid_0_AutoML_20181003_004019_model_70   \n",
       "\n",
       "     mean_residual_deviance      rmse       mse       mae     rmsle  \n",
       "0                  0.032494  0.180260  0.032494  0.095383  0.125438  \n",
       "1                  0.032608  0.180577  0.032608  0.098278  0.124804  \n",
       "2                  0.033311  0.182512  0.033311  0.095788  0.128279  \n",
       "3                  0.042332  0.205748  0.042332  0.098452  0.142590  \n",
       "4                  0.043141  0.207703  0.043141  0.122975  0.148630  \n",
       "5                  0.043596  0.208797  0.043596  0.143951  0.141198  \n",
       "6                  0.044503  0.210957  0.044503  0.096704  0.150049  \n",
       "7                  0.045363  0.212987  0.045363  0.104667  0.150736  \n",
       "8                  0.046268  0.215101  0.046268  0.109142  0.151428  \n",
       "9                  0.046361  0.215315  0.046361  0.101372  0.152180  \n",
       "10                 0.046563  0.215784  0.046563  0.129524  0.153355  \n",
       "11                 0.047907  0.218876  0.047907  0.102430  0.154700  \n",
       "12                 0.048538  0.220314  0.048538  0.095261  0.154938  \n",
       "13                 0.048625  0.220511  0.048625  0.171207  0.158801  \n",
       "14                 0.049040  0.221450  0.049040  0.119888  0.156042  \n",
       "15                 0.050721  0.225213  0.050721  0.145096  0.158905  \n",
       "16                 0.051164  0.226196  0.051164  0.126885  0.158389  \n",
       "17                 0.051339  0.226582  0.051339  0.143232  0.162062  \n",
       "18                 0.051448  0.226822  0.051448  0.131517  0.161972  \n",
       "19                 0.051575  0.227101  0.051575  0.145905  0.160178  \n",
       "20                 0.052487  0.229099  0.052487  0.151784  0.161997  \n",
       "21                 0.052510  0.229150  0.052510  0.139776  0.161762  \n",
       "22                 0.053709  0.231751  0.053709  0.121544  0.161866  \n",
       "23                 0.053711  0.231756  0.053711  0.138945  0.163164  \n",
       "24                 0.053727  0.231790  0.053727  0.166772  0.163744  \n",
       "25                 0.053790  0.231927  0.053790  0.155427  0.164690  \n",
       "26                 0.054199  0.232807  0.054199  0.172049  0.165182  \n",
       "27                 0.054862  0.234226  0.054862  0.134900  0.165183  \n",
       "28                 0.056018  0.236681  0.056018  0.186871  0.170757  \n",
       "29                 0.056020  0.236686  0.056020  0.109117  0.164862  \n",
       "..                      ...       ...       ...       ...       ...  \n",
       "91                 0.113385  0.336727  0.113385  0.284027  0.236658  \n",
       "92                 0.114596  0.338521  0.114596  0.252570  0.261914  \n",
       "93                 0.114653  0.338604  0.114653  0.324084  0.242939  \n",
       "94                 0.116527  0.341361  0.116527  0.181690  0.243567  \n",
       "95                 0.119062  0.345053  0.119062  0.243330  0.268678  \n",
       "96                 0.120423  0.347021  0.120423  0.267286  0.249677  \n",
       "97                 0.120719  0.347447  0.120719  0.331349  0.247297  \n",
       "98                 0.126903  0.356235  0.126903  0.343946  0.254088  \n",
       "99                 0.140125  0.374333  0.140125  0.362398  0.266683  \n",
       "100                0.141987  0.376811  0.141987  0.269948  0.267125  \n",
       "101                0.147303  0.383800  0.147303  0.377400  0.273366  \n",
       "102                0.147750  0.384383  0.147750  0.301164  0.295168  \n",
       "103                0.158853  0.398564  0.158853  0.284596       NaN  \n",
       "104                0.161796  0.402238  0.161796  0.308943  0.284120  \n",
       "105                0.226646  0.476074  0.226646  0.321362  0.385424  \n",
       "106                0.238291  0.488151  0.238291  0.488086  0.343759  \n",
       "107                0.238319  0.488179  0.238319  0.488132  0.343758  \n",
       "108                0.238706  0.488575  0.238706  0.488505  0.344004  \n",
       "109                0.238778  0.488649  0.238778  0.488601  0.344057  \n",
       "110                0.240104  0.490004  0.240104  0.489963  0.344967  \n",
       "111                0.240649  0.490560  0.240649  0.490520  0.345308  \n",
       "112                0.240775  0.490689  0.240775  0.490650  0.345417  \n",
       "113                0.241440  0.491365  0.241440  0.378263       NaN  \n",
       "114                0.242304  0.492244  0.242304  0.492213  0.346442  \n",
       "115                0.242370  0.492311  0.242370  0.492274  0.346448  \n",
       "116                0.242864  0.492812  0.242864  0.492781  0.346817  \n",
       "117                0.243551  0.493509  0.243551  0.493479  0.347251  \n",
       "118                0.244289  0.494256  0.244289  0.494225  0.347728  \n",
       "119                0.244387  0.494355  0.244387  0.494329  0.347829  \n",
       "120                0.274595  0.524018  0.274595  0.416219       NaN  \n",
       "\n",
       "[121 rows x 6 columns]"
      ]
     },
     "execution_count": 39,
     "metadata": {},
     "output_type": "execute_result"
    }
   ],
   "source": [
    "aml_leaderboard_df"
   ]
  },
  {
   "cell_type": "code",
   "execution_count": 40,
   "metadata": {
    "collapsed": true
   },
   "outputs": [],
   "source": [
    "# STart best model as first model\n",
    "\n",
    "model_set=aml_leaderboard_df['model_id']\n",
    "mod_best=h2o.get_model(model_set[0])"
   ]
  },
  {
   "cell_type": "code",
   "execution_count": 41,
   "metadata": {},
   "outputs": [
    {
     "data": {
      "text/plain": [
       "'StackedEnsemble_BestOfFamily_0_AutoML_20181003_004019'"
      ]
     },
     "execution_count": 41,
     "metadata": {},
     "output_type": "execute_result"
    }
   ],
   "source": [
    "mod_best._id"
   ]
  },
  {
   "cell_type": "code",
   "execution_count": 42,
   "metadata": {
    "collapsed": true
   },
   "outputs": [],
   "source": [
    "# Get stacked ensemble  \n",
    "se=get_stacked_ensemble(model_set)"
   ]
  },
  {
   "cell_type": "code",
   "execution_count": 43,
   "metadata": {},
   "outputs": [
    {
     "name": "stdout",
     "output_type": "stream",
     "text": [
      "StackedEnsemble_BestOfFamily_0_AutoML_20181003_004019\n"
     ]
    }
   ],
   "source": [
    "print(se)"
   ]
  },
  {
   "cell_type": "code",
   "execution_count": 44,
   "metadata": {
    "collapsed": true
   },
   "outputs": [],
   "source": [
    "if se is not None:\n",
    "  mod_best=h2o.get_model(se)"
   ]
  },
  {
   "cell_type": "code",
   "execution_count": 45,
   "metadata": {},
   "outputs": [
    {
     "data": {
      "text/plain": [
       "'StackedEnsemble_BestOfFamily_0_AutoML_20181003_004019'"
      ]
     },
     "execution_count": 45,
     "metadata": {},
     "output_type": "execute_result"
    }
   ],
   "source": [
    "mod_best._id"
   ]
  },
  {
   "cell_type": "code",
   "execution_count": 46,
   "metadata": {},
   "outputs": [
    {
     "data": {
      "text/plain": [
       "<function h2o.model.model_base.ModelBase._get_metrics>"
      ]
     },
     "execution_count": 46,
     "metadata": {},
     "output_type": "execute_result"
    }
   ],
   "source": [
    "mod_best._get_metrics"
   ]
  },
  {
   "cell_type": "code",
   "execution_count": 47,
   "metadata": {},
   "outputs": [
    {
     "data": {
      "text/plain": [
       "h2o.estimators.stackedensemble.H2OStackedEnsembleEstimator"
      ]
     },
     "execution_count": 47,
     "metadata": {},
     "output_type": "execute_result"
    }
   ],
   "source": [
    "type(mod_best)"
   ]
  },
  {
   "cell_type": "code",
   "execution_count": 48,
   "metadata": {},
   "outputs": [
    {
     "name": "stdout",
     "output_type": "stream",
     "text": [
      "Model Details\n",
      "=============\n",
      "H2OStackedEnsembleEstimator :  Stacked Ensemble\n",
      "Model Key:  StackedEnsemble_BestOfFamily_0_AutoML_20181003_004019\n",
      "No model summary for this model\n",
      "\n",
      "\n",
      "ModelMetricsRegressionGLM: stackedensemble\n",
      "** Reported on train data. **\n",
      "\n",
      "MSE: 0.020021746219559964\n",
      "RMSE: 0.14149821984590466\n",
      "MAE: 0.07256563196031747\n",
      "RMSLE: 0.101741231001171\n",
      "R^2: 0.9199107001344823\n",
      "Mean Residual Deviance: 0.020021746219559964\n",
      "Null degrees of freedom: 743\n",
      "Residual degrees of freedom: 740\n",
      "Null deviance: 185.99462365591404\n",
      "Residual deviance: 14.896179187352613\n",
      "AIC: -788.3560587390215\n",
      "\n",
      "ModelMetricsRegressionGLM: stackedensemble\n",
      "** Reported on validation data. **\n",
      "\n",
      "MSE: 0.023245230221482664\n",
      "RMSE: 0.15246386529759326\n",
      "MAE: 0.08179697146687008\n",
      "RMSLE: 0.11006320000242535\n",
      "R^2: 0.9070190791140693\n",
      "Mean Residual Deviance: 0.023245230221482664\n",
      "Null degrees of freedom: 167\n",
      "Residual degrees of freedom: 164\n",
      "Null deviance: 42.00121401318072\n",
      "Residual deviance: 3.905198677209088\n",
      "AIC: -145.19474656281923\n",
      "\n",
      "ModelMetricsRegressionGLM: stackedensemble\n",
      "** Reported on cross-validation data. **\n",
      "\n",
      "MSE: 0.03249350661304288\n",
      "RMSE: 0.18025955345845857\n",
      "MAE: 0.09538315694243166\n",
      "RMSLE: 0.12543848870077098\n",
      "R^2: 0.8700222165301539\n",
      "Mean Residual Deviance: 0.03249350661304288\n",
      "Null degrees of freedom: 743\n",
      "Residual degrees of freedom: 739\n",
      "Null deviance: 186.32031982221338\n",
      "Residual deviance: 24.175168920103904\n",
      "AIC: -426.09542715230583\n",
      "<bound method ModelBase.coef_norm of >\n"
     ]
    }
   ],
   "source": [
    "mods=mod_best.coef_norm\n",
    "print(mods)"
   ]
  },
  {
   "cell_type": "code",
   "execution_count": 49,
   "metadata": {
    "collapsed": true
   },
   "outputs": [],
   "source": [
    "bm=stackedensemble_df(aml_leaderboard_df)"
   ]
  },
  {
   "cell_type": "code",
   "execution_count": 50,
   "metadata": {},
   "outputs": [
    {
     "data": {
      "text/plain": [
       "['GBM_grid_0_AutoML_20181003_004019_model_58',\n",
       " 'GLM_grid_0_AutoML_20181003_004019_model_0',\n",
       " 'DRF_0_AutoML_20181003_004019',\n",
       " 'XRT_0_AutoML_20181003_004019',\n",
       " 'DeepLearning_0_AutoML_20181003_004019']"
      ]
     },
     "execution_count": 50,
     "metadata": {},
     "output_type": "execute_result"
    }
   ],
   "source": [
    "bm"
   ]
  },
  {
   "cell_type": "code",
   "execution_count": 51,
   "metadata": {},
   "outputs": [
    {
     "data": {
      "text/html": [
       "<div>\n",
       "<style>\n",
       "    .dataframe thead tr:only-child th {\n",
       "        text-align: right;\n",
       "    }\n",
       "\n",
       "    .dataframe thead th {\n",
       "        text-align: left;\n",
       "    }\n",
       "\n",
       "    .dataframe tbody tr th {\n",
       "        vertical-align: top;\n",
       "    }\n",
       "</style>\n",
       "<table border=\"1\" class=\"dataframe\">\n",
       "  <thead>\n",
       "    <tr style=\"text-align: right;\">\n",
       "      <th></th>\n",
       "      <th>model_id</th>\n",
       "      <th>mean_residual_deviance</th>\n",
       "      <th>rmse</th>\n",
       "      <th>mse</th>\n",
       "      <th>mae</th>\n",
       "      <th>rmsle</th>\n",
       "    </tr>\n",
       "  </thead>\n",
       "  <tbody>\n",
       "    <tr>\n",
       "      <th>0</th>\n",
       "      <td>StackedEnsemble_BestOfFamily_0_AutoML_20181003...</td>\n",
       "      <td>0.032494</td>\n",
       "      <td>0.180260</td>\n",
       "      <td>0.032494</td>\n",
       "      <td>0.095383</td>\n",
       "      <td>0.125438</td>\n",
       "    </tr>\n",
       "    <tr>\n",
       "      <th>1</th>\n",
       "      <td>DeepLearning_0_AutoML_20181003_004019</td>\n",
       "      <td>0.032608</td>\n",
       "      <td>0.180577</td>\n",
       "      <td>0.032608</td>\n",
       "      <td>0.098278</td>\n",
       "      <td>0.124804</td>\n",
       "    </tr>\n",
       "    <tr>\n",
       "      <th>2</th>\n",
       "      <td>StackedEnsemble_AllModels_0_AutoML_20181003_00...</td>\n",
       "      <td>0.033311</td>\n",
       "      <td>0.182512</td>\n",
       "      <td>0.033311</td>\n",
       "      <td>0.095788</td>\n",
       "      <td>0.128279</td>\n",
       "    </tr>\n",
       "    <tr>\n",
       "      <th>3</th>\n",
       "      <td>XRT_0_AutoML_20181003_004019</td>\n",
       "      <td>0.042332</td>\n",
       "      <td>0.205748</td>\n",
       "      <td>0.042332</td>\n",
       "      <td>0.098452</td>\n",
       "      <td>0.142590</td>\n",
       "    </tr>\n",
       "    <tr>\n",
       "      <th>4</th>\n",
       "      <td>DeepLearning_grid_0_AutoML_20181003_004019_mod...</td>\n",
       "      <td>0.043141</td>\n",
       "      <td>0.207703</td>\n",
       "      <td>0.043141</td>\n",
       "      <td>0.122975</td>\n",
       "      <td>0.148630</td>\n",
       "    </tr>\n",
       "    <tr>\n",
       "      <th>5</th>\n",
       "      <td>GLM_grid_0_AutoML_20181003_004019_model_0</td>\n",
       "      <td>0.043596</td>\n",
       "      <td>0.208797</td>\n",
       "      <td>0.043596</td>\n",
       "      <td>0.143951</td>\n",
       "      <td>0.141198</td>\n",
       "    </tr>\n",
       "    <tr>\n",
       "      <th>6</th>\n",
       "      <td>GBM_grid_0_AutoML_20181003_004019_model_58</td>\n",
       "      <td>0.044503</td>\n",
       "      <td>0.210957</td>\n",
       "      <td>0.044503</td>\n",
       "      <td>0.096704</td>\n",
       "      <td>0.150049</td>\n",
       "    </tr>\n",
       "    <tr>\n",
       "      <th>7</th>\n",
       "      <td>GBM_grid_0_AutoML_20181003_004019_model_88</td>\n",
       "      <td>0.045363</td>\n",
       "      <td>0.212987</td>\n",
       "      <td>0.045363</td>\n",
       "      <td>0.104667</td>\n",
       "      <td>0.150736</td>\n",
       "    </tr>\n",
       "    <tr>\n",
       "      <th>8</th>\n",
       "      <td>GBM_grid_0_AutoML_20181003_004019_model_113</td>\n",
       "      <td>0.046268</td>\n",
       "      <td>0.215101</td>\n",
       "      <td>0.046268</td>\n",
       "      <td>0.109142</td>\n",
       "      <td>0.151428</td>\n",
       "    </tr>\n",
       "    <tr>\n",
       "      <th>9</th>\n",
       "      <td>GBM_grid_0_AutoML_20181003_004019_model_51</td>\n",
       "      <td>0.046361</td>\n",
       "      <td>0.215315</td>\n",
       "      <td>0.046361</td>\n",
       "      <td>0.101372</td>\n",
       "      <td>0.152180</td>\n",
       "    </tr>\n",
       "    <tr>\n",
       "      <th>10</th>\n",
       "      <td>GBM_grid_0_AutoML_20181003_004019_model_1</td>\n",
       "      <td>0.046563</td>\n",
       "      <td>0.215784</td>\n",
       "      <td>0.046563</td>\n",
       "      <td>0.129524</td>\n",
       "      <td>0.153355</td>\n",
       "    </tr>\n",
       "    <tr>\n",
       "      <th>11</th>\n",
       "      <td>GBM_grid_0_AutoML_20181003_004019_model_0</td>\n",
       "      <td>0.047907</td>\n",
       "      <td>0.218876</td>\n",
       "      <td>0.047907</td>\n",
       "      <td>0.102430</td>\n",
       "      <td>0.154700</td>\n",
       "    </tr>\n",
       "    <tr>\n",
       "      <th>12</th>\n",
       "      <td>GBM_grid_0_AutoML_20181003_004019_model_68</td>\n",
       "      <td>0.048538</td>\n",
       "      <td>0.220314</td>\n",
       "      <td>0.048538</td>\n",
       "      <td>0.095261</td>\n",
       "      <td>0.154938</td>\n",
       "    </tr>\n",
       "    <tr>\n",
       "      <th>13</th>\n",
       "      <td>GBM_grid_0_AutoML_20181003_004019_model_40</td>\n",
       "      <td>0.048625</td>\n",
       "      <td>0.220511</td>\n",
       "      <td>0.048625</td>\n",
       "      <td>0.171207</td>\n",
       "      <td>0.158801</td>\n",
       "    </tr>\n",
       "    <tr>\n",
       "      <th>14</th>\n",
       "      <td>GBM_grid_0_AutoML_20181003_004019_model_93</td>\n",
       "      <td>0.049040</td>\n",
       "      <td>0.221450</td>\n",
       "      <td>0.049040</td>\n",
       "      <td>0.119888</td>\n",
       "      <td>0.156042</td>\n",
       "    </tr>\n",
       "    <tr>\n",
       "      <th>15</th>\n",
       "      <td>GBM_grid_0_AutoML_20181003_004019_model_55</td>\n",
       "      <td>0.050721</td>\n",
       "      <td>0.225213</td>\n",
       "      <td>0.050721</td>\n",
       "      <td>0.145096</td>\n",
       "      <td>0.158905</td>\n",
       "    </tr>\n",
       "    <tr>\n",
       "      <th>16</th>\n",
       "      <td>GBM_grid_0_AutoML_20181003_004019_model_2</td>\n",
       "      <td>0.051164</td>\n",
       "      <td>0.226196</td>\n",
       "      <td>0.051164</td>\n",
       "      <td>0.126885</td>\n",
       "      <td>0.158389</td>\n",
       "    </tr>\n",
       "    <tr>\n",
       "      <th>17</th>\n",
       "      <td>GBM_grid_0_AutoML_20181003_004019_model_17</td>\n",
       "      <td>0.051339</td>\n",
       "      <td>0.226582</td>\n",
       "      <td>0.051339</td>\n",
       "      <td>0.143232</td>\n",
       "      <td>0.162062</td>\n",
       "    </tr>\n",
       "    <tr>\n",
       "      <th>18</th>\n",
       "      <td>DRF_0_AutoML_20181003_004019</td>\n",
       "      <td>0.051448</td>\n",
       "      <td>0.226822</td>\n",
       "      <td>0.051448</td>\n",
       "      <td>0.131517</td>\n",
       "      <td>0.161972</td>\n",
       "    </tr>\n",
       "    <tr>\n",
       "      <th>19</th>\n",
       "      <td>GBM_grid_0_AutoML_20181003_004019_model_21</td>\n",
       "      <td>0.051575</td>\n",
       "      <td>0.227101</td>\n",
       "      <td>0.051575</td>\n",
       "      <td>0.145905</td>\n",
       "      <td>0.160178</td>\n",
       "    </tr>\n",
       "    <tr>\n",
       "      <th>20</th>\n",
       "      <td>GBM_grid_0_AutoML_20181003_004019_model_50</td>\n",
       "      <td>0.052487</td>\n",
       "      <td>0.229099</td>\n",
       "      <td>0.052487</td>\n",
       "      <td>0.151784</td>\n",
       "      <td>0.161997</td>\n",
       "    </tr>\n",
       "    <tr>\n",
       "      <th>21</th>\n",
       "      <td>GBM_grid_0_AutoML_20181003_004019_model_95</td>\n",
       "      <td>0.052510</td>\n",
       "      <td>0.229150</td>\n",
       "      <td>0.052510</td>\n",
       "      <td>0.139776</td>\n",
       "      <td>0.161762</td>\n",
       "    </tr>\n",
       "    <tr>\n",
       "      <th>22</th>\n",
       "      <td>GBM_grid_0_AutoML_20181003_004019_model_67</td>\n",
       "      <td>0.053709</td>\n",
       "      <td>0.231751</td>\n",
       "      <td>0.053709</td>\n",
       "      <td>0.121544</td>\n",
       "      <td>0.161866</td>\n",
       "    </tr>\n",
       "    <tr>\n",
       "      <th>23</th>\n",
       "      <td>GBM_grid_0_AutoML_20181003_004019_model_3</td>\n",
       "      <td>0.053711</td>\n",
       "      <td>0.231756</td>\n",
       "      <td>0.053711</td>\n",
       "      <td>0.138945</td>\n",
       "      <td>0.163164</td>\n",
       "    </tr>\n",
       "    <tr>\n",
       "      <th>24</th>\n",
       "      <td>GBM_grid_0_AutoML_20181003_004019_model_14</td>\n",
       "      <td>0.053727</td>\n",
       "      <td>0.231790</td>\n",
       "      <td>0.053727</td>\n",
       "      <td>0.166772</td>\n",
       "      <td>0.163744</td>\n",
       "    </tr>\n",
       "    <tr>\n",
       "      <th>25</th>\n",
       "      <td>GBM_grid_0_AutoML_20181003_004019_model_28</td>\n",
       "      <td>0.053790</td>\n",
       "      <td>0.231927</td>\n",
       "      <td>0.053790</td>\n",
       "      <td>0.155427</td>\n",
       "      <td>0.164690</td>\n",
       "    </tr>\n",
       "    <tr>\n",
       "      <th>26</th>\n",
       "      <td>GBM_grid_0_AutoML_20181003_004019_model_102</td>\n",
       "      <td>0.054199</td>\n",
       "      <td>0.232807</td>\n",
       "      <td>0.054199</td>\n",
       "      <td>0.172049</td>\n",
       "      <td>0.165182</td>\n",
       "    </tr>\n",
       "    <tr>\n",
       "      <th>27</th>\n",
       "      <td>GBM_grid_0_AutoML_20181003_004019_model_12</td>\n",
       "      <td>0.054862</td>\n",
       "      <td>0.234226</td>\n",
       "      <td>0.054862</td>\n",
       "      <td>0.134900</td>\n",
       "      <td>0.165183</td>\n",
       "    </tr>\n",
       "    <tr>\n",
       "      <th>28</th>\n",
       "      <td>GBM_grid_0_AutoML_20181003_004019_model_105</td>\n",
       "      <td>0.056018</td>\n",
       "      <td>0.236681</td>\n",
       "      <td>0.056018</td>\n",
       "      <td>0.186871</td>\n",
       "      <td>0.170757</td>\n",
       "    </tr>\n",
       "    <tr>\n",
       "      <th>29</th>\n",
       "      <td>GBM_grid_0_AutoML_20181003_004019_model_61</td>\n",
       "      <td>0.056020</td>\n",
       "      <td>0.236686</td>\n",
       "      <td>0.056020</td>\n",
       "      <td>0.109117</td>\n",
       "      <td>0.164862</td>\n",
       "    </tr>\n",
       "    <tr>\n",
       "      <th>...</th>\n",
       "      <td>...</td>\n",
       "      <td>...</td>\n",
       "      <td>...</td>\n",
       "      <td>...</td>\n",
       "      <td>...</td>\n",
       "      <td>...</td>\n",
       "    </tr>\n",
       "    <tr>\n",
       "      <th>91</th>\n",
       "      <td>GBM_grid_0_AutoML_20181003_004019_model_42</td>\n",
       "      <td>0.113385</td>\n",
       "      <td>0.336727</td>\n",
       "      <td>0.113385</td>\n",
       "      <td>0.284027</td>\n",
       "      <td>0.236658</td>\n",
       "    </tr>\n",
       "    <tr>\n",
       "      <th>92</th>\n",
       "      <td>GBM_grid_0_AutoML_20181003_004019_model_110</td>\n",
       "      <td>0.114596</td>\n",
       "      <td>0.338521</td>\n",
       "      <td>0.114596</td>\n",
       "      <td>0.252570</td>\n",
       "      <td>0.261914</td>\n",
       "    </tr>\n",
       "    <tr>\n",
       "      <th>93</th>\n",
       "      <td>GBM_grid_0_AutoML_20181003_004019_model_31</td>\n",
       "      <td>0.114653</td>\n",
       "      <td>0.338604</td>\n",
       "      <td>0.114653</td>\n",
       "      <td>0.324084</td>\n",
       "      <td>0.242939</td>\n",
       "    </tr>\n",
       "    <tr>\n",
       "      <th>94</th>\n",
       "      <td>GBM_grid_0_AutoML_20181003_004019_model_74</td>\n",
       "      <td>0.116527</td>\n",
       "      <td>0.341361</td>\n",
       "      <td>0.116527</td>\n",
       "      <td>0.181690</td>\n",
       "      <td>0.243567</td>\n",
       "    </tr>\n",
       "    <tr>\n",
       "      <th>95</th>\n",
       "      <td>GBM_grid_0_AutoML_20181003_004019_model_107</td>\n",
       "      <td>0.119062</td>\n",
       "      <td>0.345053</td>\n",
       "      <td>0.119062</td>\n",
       "      <td>0.243330</td>\n",
       "      <td>0.268678</td>\n",
       "    </tr>\n",
       "    <tr>\n",
       "      <th>96</th>\n",
       "      <td>GBM_grid_0_AutoML_20181003_004019_model_101</td>\n",
       "      <td>0.120423</td>\n",
       "      <td>0.347021</td>\n",
       "      <td>0.120423</td>\n",
       "      <td>0.267286</td>\n",
       "      <td>0.249677</td>\n",
       "    </tr>\n",
       "    <tr>\n",
       "      <th>97</th>\n",
       "      <td>GBM_grid_0_AutoML_20181003_004019_model_16</td>\n",
       "      <td>0.120719</td>\n",
       "      <td>0.347447</td>\n",
       "      <td>0.120719</td>\n",
       "      <td>0.331349</td>\n",
       "      <td>0.247297</td>\n",
       "    </tr>\n",
       "    <tr>\n",
       "      <th>98</th>\n",
       "      <td>GBM_grid_0_AutoML_20181003_004019_model_46</td>\n",
       "      <td>0.126903</td>\n",
       "      <td>0.356235</td>\n",
       "      <td>0.126903</td>\n",
       "      <td>0.343946</td>\n",
       "      <td>0.254088</td>\n",
       "    </tr>\n",
       "    <tr>\n",
       "      <th>99</th>\n",
       "      <td>GBM_grid_0_AutoML_20181003_004019_model_80</td>\n",
       "      <td>0.140125</td>\n",
       "      <td>0.374333</td>\n",
       "      <td>0.140125</td>\n",
       "      <td>0.362398</td>\n",
       "      <td>0.266683</td>\n",
       "    </tr>\n",
       "    <tr>\n",
       "      <th>100</th>\n",
       "      <td>GBM_grid_0_AutoML_20181003_004019_model_64</td>\n",
       "      <td>0.141987</td>\n",
       "      <td>0.376811</td>\n",
       "      <td>0.141987</td>\n",
       "      <td>0.269948</td>\n",
       "      <td>0.267125</td>\n",
       "    </tr>\n",
       "    <tr>\n",
       "      <th>101</th>\n",
       "      <td>GBM_grid_0_AutoML_20181003_004019_model_65</td>\n",
       "      <td>0.147303</td>\n",
       "      <td>0.383800</td>\n",
       "      <td>0.147303</td>\n",
       "      <td>0.377400</td>\n",
       "      <td>0.273366</td>\n",
       "    </tr>\n",
       "    <tr>\n",
       "      <th>102</th>\n",
       "      <td>GBM_grid_0_AutoML_20181003_004019_model_97</td>\n",
       "      <td>0.147750</td>\n",
       "      <td>0.384383</td>\n",
       "      <td>0.147750</td>\n",
       "      <td>0.301164</td>\n",
       "      <td>0.295168</td>\n",
       "    </tr>\n",
       "    <tr>\n",
       "      <th>103</th>\n",
       "      <td>GBM_grid_0_AutoML_20181003_004019_model_6</td>\n",
       "      <td>0.158853</td>\n",
       "      <td>0.398564</td>\n",
       "      <td>0.158853</td>\n",
       "      <td>0.284596</td>\n",
       "      <td>NaN</td>\n",
       "    </tr>\n",
       "    <tr>\n",
       "      <th>104</th>\n",
       "      <td>GBM_grid_0_AutoML_20181003_004019_model_57</td>\n",
       "      <td>0.161796</td>\n",
       "      <td>0.402238</td>\n",
       "      <td>0.161796</td>\n",
       "      <td>0.308943</td>\n",
       "      <td>0.284120</td>\n",
       "    </tr>\n",
       "    <tr>\n",
       "      <th>105</th>\n",
       "      <td>GBM_grid_0_AutoML_20181003_004019_model_103</td>\n",
       "      <td>0.226646</td>\n",
       "      <td>0.476074</td>\n",
       "      <td>0.226646</td>\n",
       "      <td>0.321362</td>\n",
       "      <td>0.385424</td>\n",
       "    </tr>\n",
       "    <tr>\n",
       "      <th>106</th>\n",
       "      <td>GBM_grid_0_AutoML_20181003_004019_model_30</td>\n",
       "      <td>0.238291</td>\n",
       "      <td>0.488151</td>\n",
       "      <td>0.238291</td>\n",
       "      <td>0.488086</td>\n",
       "      <td>0.343759</td>\n",
       "    </tr>\n",
       "    <tr>\n",
       "      <th>107</th>\n",
       "      <td>GBM_grid_0_AutoML_20181003_004019_model_96</td>\n",
       "      <td>0.238319</td>\n",
       "      <td>0.488179</td>\n",
       "      <td>0.238319</td>\n",
       "      <td>0.488132</td>\n",
       "      <td>0.343758</td>\n",
       "    </tr>\n",
       "    <tr>\n",
       "      <th>108</th>\n",
       "      <td>GBM_grid_0_AutoML_20181003_004019_model_15</td>\n",
       "      <td>0.238706</td>\n",
       "      <td>0.488575</td>\n",
       "      <td>0.238706</td>\n",
       "      <td>0.488505</td>\n",
       "      <td>0.344004</td>\n",
       "    </tr>\n",
       "    <tr>\n",
       "      <th>109</th>\n",
       "      <td>GBM_grid_0_AutoML_20181003_004019_model_34</td>\n",
       "      <td>0.238778</td>\n",
       "      <td>0.488649</td>\n",
       "      <td>0.238778</td>\n",
       "      <td>0.488601</td>\n",
       "      <td>0.344057</td>\n",
       "    </tr>\n",
       "    <tr>\n",
       "      <th>110</th>\n",
       "      <td>GBM_grid_0_AutoML_20181003_004019_model_89</td>\n",
       "      <td>0.240104</td>\n",
       "      <td>0.490004</td>\n",
       "      <td>0.240104</td>\n",
       "      <td>0.489963</td>\n",
       "      <td>0.344967</td>\n",
       "    </tr>\n",
       "    <tr>\n",
       "      <th>111</th>\n",
       "      <td>GBM_grid_0_AutoML_20181003_004019_model_36</td>\n",
       "      <td>0.240649</td>\n",
       "      <td>0.490560</td>\n",
       "      <td>0.240649</td>\n",
       "      <td>0.490520</td>\n",
       "      <td>0.345308</td>\n",
       "    </tr>\n",
       "    <tr>\n",
       "      <th>112</th>\n",
       "      <td>GBM_grid_0_AutoML_20181003_004019_model_39</td>\n",
       "      <td>0.240775</td>\n",
       "      <td>0.490689</td>\n",
       "      <td>0.240775</td>\n",
       "      <td>0.490650</td>\n",
       "      <td>0.345417</td>\n",
       "    </tr>\n",
       "    <tr>\n",
       "      <th>113</th>\n",
       "      <td>GBM_grid_0_AutoML_20181003_004019_model_111</td>\n",
       "      <td>0.241440</td>\n",
       "      <td>0.491365</td>\n",
       "      <td>0.241440</td>\n",
       "      <td>0.378263</td>\n",
       "      <td>NaN</td>\n",
       "    </tr>\n",
       "    <tr>\n",
       "      <th>114</th>\n",
       "      <td>GBM_grid_0_AutoML_20181003_004019_model_56</td>\n",
       "      <td>0.242304</td>\n",
       "      <td>0.492244</td>\n",
       "      <td>0.242304</td>\n",
       "      <td>0.492213</td>\n",
       "      <td>0.346442</td>\n",
       "    </tr>\n",
       "    <tr>\n",
       "      <th>115</th>\n",
       "      <td>GBM_grid_0_AutoML_20181003_004019_model_38</td>\n",
       "      <td>0.242370</td>\n",
       "      <td>0.492311</td>\n",
       "      <td>0.242370</td>\n",
       "      <td>0.492274</td>\n",
       "      <td>0.346448</td>\n",
       "    </tr>\n",
       "    <tr>\n",
       "      <th>116</th>\n",
       "      <td>GBM_grid_0_AutoML_20181003_004019_model_23</td>\n",
       "      <td>0.242864</td>\n",
       "      <td>0.492812</td>\n",
       "      <td>0.242864</td>\n",
       "      <td>0.492781</td>\n",
       "      <td>0.346817</td>\n",
       "    </tr>\n",
       "    <tr>\n",
       "      <th>117</th>\n",
       "      <td>GBM_grid_0_AutoML_20181003_004019_model_109</td>\n",
       "      <td>0.243551</td>\n",
       "      <td>0.493509</td>\n",
       "      <td>0.243551</td>\n",
       "      <td>0.493479</td>\n",
       "      <td>0.347251</td>\n",
       "    </tr>\n",
       "    <tr>\n",
       "      <th>118</th>\n",
       "      <td>GBM_grid_0_AutoML_20181003_004019_model_53</td>\n",
       "      <td>0.244289</td>\n",
       "      <td>0.494256</td>\n",
       "      <td>0.244289</td>\n",
       "      <td>0.494225</td>\n",
       "      <td>0.347728</td>\n",
       "    </tr>\n",
       "    <tr>\n",
       "      <th>119</th>\n",
       "      <td>GBM_grid_0_AutoML_20181003_004019_model_85</td>\n",
       "      <td>0.244387</td>\n",
       "      <td>0.494355</td>\n",
       "      <td>0.244387</td>\n",
       "      <td>0.494329</td>\n",
       "      <td>0.347829</td>\n",
       "    </tr>\n",
       "    <tr>\n",
       "      <th>120</th>\n",
       "      <td>GBM_grid_0_AutoML_20181003_004019_model_70</td>\n",
       "      <td>0.274595</td>\n",
       "      <td>0.524018</td>\n",
       "      <td>0.274595</td>\n",
       "      <td>0.416219</td>\n",
       "      <td>NaN</td>\n",
       "    </tr>\n",
       "  </tbody>\n",
       "</table>\n",
       "<p>121 rows × 6 columns</p>\n",
       "</div>"
      ],
      "text/plain": [
       "                                              model_id  \\\n",
       "0    StackedEnsemble_BestOfFamily_0_AutoML_20181003...   \n",
       "1                DeepLearning_0_AutoML_20181003_004019   \n",
       "2    StackedEnsemble_AllModels_0_AutoML_20181003_00...   \n",
       "3                         XRT_0_AutoML_20181003_004019   \n",
       "4    DeepLearning_grid_0_AutoML_20181003_004019_mod...   \n",
       "5            GLM_grid_0_AutoML_20181003_004019_model_0   \n",
       "6           GBM_grid_0_AutoML_20181003_004019_model_58   \n",
       "7           GBM_grid_0_AutoML_20181003_004019_model_88   \n",
       "8          GBM_grid_0_AutoML_20181003_004019_model_113   \n",
       "9           GBM_grid_0_AutoML_20181003_004019_model_51   \n",
       "10           GBM_grid_0_AutoML_20181003_004019_model_1   \n",
       "11           GBM_grid_0_AutoML_20181003_004019_model_0   \n",
       "12          GBM_grid_0_AutoML_20181003_004019_model_68   \n",
       "13          GBM_grid_0_AutoML_20181003_004019_model_40   \n",
       "14          GBM_grid_0_AutoML_20181003_004019_model_93   \n",
       "15          GBM_grid_0_AutoML_20181003_004019_model_55   \n",
       "16           GBM_grid_0_AutoML_20181003_004019_model_2   \n",
       "17          GBM_grid_0_AutoML_20181003_004019_model_17   \n",
       "18                        DRF_0_AutoML_20181003_004019   \n",
       "19          GBM_grid_0_AutoML_20181003_004019_model_21   \n",
       "20          GBM_grid_0_AutoML_20181003_004019_model_50   \n",
       "21          GBM_grid_0_AutoML_20181003_004019_model_95   \n",
       "22          GBM_grid_0_AutoML_20181003_004019_model_67   \n",
       "23           GBM_grid_0_AutoML_20181003_004019_model_3   \n",
       "24          GBM_grid_0_AutoML_20181003_004019_model_14   \n",
       "25          GBM_grid_0_AutoML_20181003_004019_model_28   \n",
       "26         GBM_grid_0_AutoML_20181003_004019_model_102   \n",
       "27          GBM_grid_0_AutoML_20181003_004019_model_12   \n",
       "28         GBM_grid_0_AutoML_20181003_004019_model_105   \n",
       "29          GBM_grid_0_AutoML_20181003_004019_model_61   \n",
       "..                                                 ...   \n",
       "91          GBM_grid_0_AutoML_20181003_004019_model_42   \n",
       "92         GBM_grid_0_AutoML_20181003_004019_model_110   \n",
       "93          GBM_grid_0_AutoML_20181003_004019_model_31   \n",
       "94          GBM_grid_0_AutoML_20181003_004019_model_74   \n",
       "95         GBM_grid_0_AutoML_20181003_004019_model_107   \n",
       "96         GBM_grid_0_AutoML_20181003_004019_model_101   \n",
       "97          GBM_grid_0_AutoML_20181003_004019_model_16   \n",
       "98          GBM_grid_0_AutoML_20181003_004019_model_46   \n",
       "99          GBM_grid_0_AutoML_20181003_004019_model_80   \n",
       "100         GBM_grid_0_AutoML_20181003_004019_model_64   \n",
       "101         GBM_grid_0_AutoML_20181003_004019_model_65   \n",
       "102         GBM_grid_0_AutoML_20181003_004019_model_97   \n",
       "103          GBM_grid_0_AutoML_20181003_004019_model_6   \n",
       "104         GBM_grid_0_AutoML_20181003_004019_model_57   \n",
       "105        GBM_grid_0_AutoML_20181003_004019_model_103   \n",
       "106         GBM_grid_0_AutoML_20181003_004019_model_30   \n",
       "107         GBM_grid_0_AutoML_20181003_004019_model_96   \n",
       "108         GBM_grid_0_AutoML_20181003_004019_model_15   \n",
       "109         GBM_grid_0_AutoML_20181003_004019_model_34   \n",
       "110         GBM_grid_0_AutoML_20181003_004019_model_89   \n",
       "111         GBM_grid_0_AutoML_20181003_004019_model_36   \n",
       "112         GBM_grid_0_AutoML_20181003_004019_model_39   \n",
       "113        GBM_grid_0_AutoML_20181003_004019_model_111   \n",
       "114         GBM_grid_0_AutoML_20181003_004019_model_56   \n",
       "115         GBM_grid_0_AutoML_20181003_004019_model_38   \n",
       "116         GBM_grid_0_AutoML_20181003_004019_model_23   \n",
       "117        GBM_grid_0_AutoML_20181003_004019_model_109   \n",
       "118         GBM_grid_0_AutoML_20181003_004019_model_53   \n",
       "119         GBM_grid_0_AutoML_20181003_004019_model_85   \n",
       "120         GBM_grid_0_AutoML_20181003_004019_model_70   \n",
       "\n",
       "     mean_residual_deviance      rmse       mse       mae     rmsle  \n",
       "0                  0.032494  0.180260  0.032494  0.095383  0.125438  \n",
       "1                  0.032608  0.180577  0.032608  0.098278  0.124804  \n",
       "2                  0.033311  0.182512  0.033311  0.095788  0.128279  \n",
       "3                  0.042332  0.205748  0.042332  0.098452  0.142590  \n",
       "4                  0.043141  0.207703  0.043141  0.122975  0.148630  \n",
       "5                  0.043596  0.208797  0.043596  0.143951  0.141198  \n",
       "6                  0.044503  0.210957  0.044503  0.096704  0.150049  \n",
       "7                  0.045363  0.212987  0.045363  0.104667  0.150736  \n",
       "8                  0.046268  0.215101  0.046268  0.109142  0.151428  \n",
       "9                  0.046361  0.215315  0.046361  0.101372  0.152180  \n",
       "10                 0.046563  0.215784  0.046563  0.129524  0.153355  \n",
       "11                 0.047907  0.218876  0.047907  0.102430  0.154700  \n",
       "12                 0.048538  0.220314  0.048538  0.095261  0.154938  \n",
       "13                 0.048625  0.220511  0.048625  0.171207  0.158801  \n",
       "14                 0.049040  0.221450  0.049040  0.119888  0.156042  \n",
       "15                 0.050721  0.225213  0.050721  0.145096  0.158905  \n",
       "16                 0.051164  0.226196  0.051164  0.126885  0.158389  \n",
       "17                 0.051339  0.226582  0.051339  0.143232  0.162062  \n",
       "18                 0.051448  0.226822  0.051448  0.131517  0.161972  \n",
       "19                 0.051575  0.227101  0.051575  0.145905  0.160178  \n",
       "20                 0.052487  0.229099  0.052487  0.151784  0.161997  \n",
       "21                 0.052510  0.229150  0.052510  0.139776  0.161762  \n",
       "22                 0.053709  0.231751  0.053709  0.121544  0.161866  \n",
       "23                 0.053711  0.231756  0.053711  0.138945  0.163164  \n",
       "24                 0.053727  0.231790  0.053727  0.166772  0.163744  \n",
       "25                 0.053790  0.231927  0.053790  0.155427  0.164690  \n",
       "26                 0.054199  0.232807  0.054199  0.172049  0.165182  \n",
       "27                 0.054862  0.234226  0.054862  0.134900  0.165183  \n",
       "28                 0.056018  0.236681  0.056018  0.186871  0.170757  \n",
       "29                 0.056020  0.236686  0.056020  0.109117  0.164862  \n",
       "..                      ...       ...       ...       ...       ...  \n",
       "91                 0.113385  0.336727  0.113385  0.284027  0.236658  \n",
       "92                 0.114596  0.338521  0.114596  0.252570  0.261914  \n",
       "93                 0.114653  0.338604  0.114653  0.324084  0.242939  \n",
       "94                 0.116527  0.341361  0.116527  0.181690  0.243567  \n",
       "95                 0.119062  0.345053  0.119062  0.243330  0.268678  \n",
       "96                 0.120423  0.347021  0.120423  0.267286  0.249677  \n",
       "97                 0.120719  0.347447  0.120719  0.331349  0.247297  \n",
       "98                 0.126903  0.356235  0.126903  0.343946  0.254088  \n",
       "99                 0.140125  0.374333  0.140125  0.362398  0.266683  \n",
       "100                0.141987  0.376811  0.141987  0.269948  0.267125  \n",
       "101                0.147303  0.383800  0.147303  0.377400  0.273366  \n",
       "102                0.147750  0.384383  0.147750  0.301164  0.295168  \n",
       "103                0.158853  0.398564  0.158853  0.284596       NaN  \n",
       "104                0.161796  0.402238  0.161796  0.308943  0.284120  \n",
       "105                0.226646  0.476074  0.226646  0.321362  0.385424  \n",
       "106                0.238291  0.488151  0.238291  0.488086  0.343759  \n",
       "107                0.238319  0.488179  0.238319  0.488132  0.343758  \n",
       "108                0.238706  0.488575  0.238706  0.488505  0.344004  \n",
       "109                0.238778  0.488649  0.238778  0.488601  0.344057  \n",
       "110                0.240104  0.490004  0.240104  0.489963  0.344967  \n",
       "111                0.240649  0.490560  0.240649  0.490520  0.345308  \n",
       "112                0.240775  0.490689  0.240775  0.490650  0.345417  \n",
       "113                0.241440  0.491365  0.241440  0.378263       NaN  \n",
       "114                0.242304  0.492244  0.242304  0.492213  0.346442  \n",
       "115                0.242370  0.492311  0.242370  0.492274  0.346448  \n",
       "116                0.242864  0.492812  0.242864  0.492781  0.346817  \n",
       "117                0.243551  0.493509  0.243551  0.493479  0.347251  \n",
       "118                0.244289  0.494256  0.244289  0.494225  0.347728  \n",
       "119                0.244387  0.494355  0.244387  0.494329  0.347829  \n",
       "120                0.274595  0.524018  0.274595  0.416219       NaN  \n",
       "\n",
       "[121 rows x 6 columns]"
      ]
     },
     "execution_count": 51,
     "metadata": {},
     "output_type": "execute_result"
    }
   ],
   "source": [
    "aml_leaderboard_df"
   ]
  },
  {
   "cell_type": "code",
   "execution_count": 52,
   "metadata": {
    "collapsed": true
   },
   "outputs": [],
   "source": [
    "#  Get best_models and coef_norm()\n",
    "best_models={}\n",
    "best_models=stackedensemble(mod_best)\n",
    "bm=[]\n",
    "if best_models is not None: \n",
    "  if 'Intercept' in best_models.keys():\n",
    "    del best_models['Intercept']\n",
    "  bm=list(best_models.keys())\n",
    "else:\n",
    "  best_models={}\n",
    "  bm=stackedensemble_df(aml_leaderboard_df)   \n",
    "  for b in bm:   \n",
    "    best_models[b]=None\n",
    "\n",
    "if mod_best.model_id not in bm:\n",
    "    bm.append(mod_best.model_id)"
   ]
  },
  {
   "cell_type": "code",
   "execution_count": 53,
   "metadata": {},
   "outputs": [
    {
     "data": {
      "text/plain": [
       "['DeepLearning_0_AutoML_20181003_004019',\n",
       " 'XRT_0_AutoML_20181003_004019',\n",
       " 'GLM_grid_0_AutoML_20181003_004019_model_0',\n",
       " 'GBM_grid_0_AutoML_20181003_004019_model_58',\n",
       " 'DRF_0_AutoML_20181003_004019',\n",
       " 'StackedEnsemble_BestOfFamily_0_AutoML_20181003_004019']"
      ]
     },
     "execution_count": 53,
     "metadata": {},
     "output_type": "execute_result"
    }
   ],
   "source": [
    "bm"
   ]
  },
  {
   "cell_type": "code",
   "execution_count": 54,
   "metadata": {
    "collapsed": true
   },
   "outputs": [],
   "source": [
    "# Best of Family leaderboard\n",
    "\n",
    "aml_leaderboard_df=aml_leaderboard_df.loc[aml_leaderboard_df['model_id'].isin(bm)]\n"
   ]
  },
  {
   "cell_type": "code",
   "execution_count": 55,
   "metadata": {},
   "outputs": [
    {
     "data": {
      "text/html": [
       "<div>\n",
       "<style>\n",
       "    .dataframe thead tr:only-child th {\n",
       "        text-align: right;\n",
       "    }\n",
       "\n",
       "    .dataframe thead th {\n",
       "        text-align: left;\n",
       "    }\n",
       "\n",
       "    .dataframe tbody tr th {\n",
       "        vertical-align: top;\n",
       "    }\n",
       "</style>\n",
       "<table border=\"1\" class=\"dataframe\">\n",
       "  <thead>\n",
       "    <tr style=\"text-align: right;\">\n",
       "      <th></th>\n",
       "      <th>model_id</th>\n",
       "      <th>mean_residual_deviance</th>\n",
       "      <th>rmse</th>\n",
       "      <th>mse</th>\n",
       "      <th>mae</th>\n",
       "      <th>rmsle</th>\n",
       "    </tr>\n",
       "  </thead>\n",
       "  <tbody>\n",
       "    <tr>\n",
       "      <th>0</th>\n",
       "      <td>StackedEnsemble_BestOfFamily_0_AutoML_20181003...</td>\n",
       "      <td>0.032494</td>\n",
       "      <td>0.180260</td>\n",
       "      <td>0.032494</td>\n",
       "      <td>0.095383</td>\n",
       "      <td>0.125438</td>\n",
       "    </tr>\n",
       "    <tr>\n",
       "      <th>1</th>\n",
       "      <td>DeepLearning_0_AutoML_20181003_004019</td>\n",
       "      <td>0.032608</td>\n",
       "      <td>0.180577</td>\n",
       "      <td>0.032608</td>\n",
       "      <td>0.098278</td>\n",
       "      <td>0.124804</td>\n",
       "    </tr>\n",
       "    <tr>\n",
       "      <th>3</th>\n",
       "      <td>XRT_0_AutoML_20181003_004019</td>\n",
       "      <td>0.042332</td>\n",
       "      <td>0.205748</td>\n",
       "      <td>0.042332</td>\n",
       "      <td>0.098452</td>\n",
       "      <td>0.142590</td>\n",
       "    </tr>\n",
       "    <tr>\n",
       "      <th>5</th>\n",
       "      <td>GLM_grid_0_AutoML_20181003_004019_model_0</td>\n",
       "      <td>0.043596</td>\n",
       "      <td>0.208797</td>\n",
       "      <td>0.043596</td>\n",
       "      <td>0.143951</td>\n",
       "      <td>0.141198</td>\n",
       "    </tr>\n",
       "    <tr>\n",
       "      <th>6</th>\n",
       "      <td>GBM_grid_0_AutoML_20181003_004019_model_58</td>\n",
       "      <td>0.044503</td>\n",
       "      <td>0.210957</td>\n",
       "      <td>0.044503</td>\n",
       "      <td>0.096704</td>\n",
       "      <td>0.150049</td>\n",
       "    </tr>\n",
       "    <tr>\n",
       "      <th>18</th>\n",
       "      <td>DRF_0_AutoML_20181003_004019</td>\n",
       "      <td>0.051448</td>\n",
       "      <td>0.226822</td>\n",
       "      <td>0.051448</td>\n",
       "      <td>0.131517</td>\n",
       "      <td>0.161972</td>\n",
       "    </tr>\n",
       "  </tbody>\n",
       "</table>\n",
       "</div>"
      ],
      "text/plain": [
       "                                             model_id  mean_residual_deviance  \\\n",
       "0   StackedEnsemble_BestOfFamily_0_AutoML_20181003...                0.032494   \n",
       "1               DeepLearning_0_AutoML_20181003_004019                0.032608   \n",
       "3                        XRT_0_AutoML_20181003_004019                0.042332   \n",
       "5           GLM_grid_0_AutoML_20181003_004019_model_0                0.043596   \n",
       "6          GBM_grid_0_AutoML_20181003_004019_model_58                0.044503   \n",
       "18                       DRF_0_AutoML_20181003_004019                0.051448   \n",
       "\n",
       "        rmse       mse       mae     rmsle  \n",
       "0   0.180260  0.032494  0.095383  0.125438  \n",
       "1   0.180577  0.032608  0.098278  0.124804  \n",
       "3   0.205748  0.042332  0.098452  0.142590  \n",
       "5   0.208797  0.043596  0.143951  0.141198  \n",
       "6   0.210957  0.044503  0.096704  0.150049  \n",
       "18  0.226822  0.051448  0.131517  0.161972  "
      ]
     },
     "execution_count": 55,
     "metadata": {},
     "output_type": "execute_result"
    }
   ],
   "source": [
    "aml_leaderboard_df"
   ]
  },
  {
   "cell_type": "code",
   "execution_count": 56,
   "metadata": {
    "collapsed": true
   },
   "outputs": [],
   "source": [
    "# save leaderboard\n",
    "leaderboard_stats=run_id+'_leaderboard.csv'\n",
    "aml_leaderboard_df.to_csv(leaderboard_stats)"
   ]
  },
  {
   "cell_type": "code",
   "execution_count": 57,
   "metadata": {},
   "outputs": [
    {
     "name": "stdout",
     "output_type": "stream",
     "text": [
      "StackedEnsemble_BestOfFamily_0_AutoML_20181003_004019\n"
     ]
    }
   ],
   "source": [
    "top=aml_leaderboard_df.iloc[0]['model_id']\n",
    "print(top)"
   ]
  },
  {
   "cell_type": "code",
   "execution_count": 58,
   "metadata": {},
   "outputs": [
    {
     "name": "stdout",
     "output_type": "stream",
     "text": [
      "StackedEnsemble_BestOfFamily_0_AutoML_20181003_004019\n",
      "stackedensemble\n"
     ]
    }
   ],
   "source": [
    "mod_best=h2o.get_model(top)\n",
    "print(mod_best._id)\n",
    "print(mod_best.algo)"
   ]
  },
  {
   "cell_type": "code",
   "execution_count": 59,
   "metadata": {
    "collapsed": true
   },
   "outputs": [],
   "source": [
    "meta_data['mod_best']=mod_best._id\n",
    "meta_data['mod_best_algo']=mod_best.algo"
   ]
  },
  {
   "cell_type": "code",
   "execution_count": 60,
   "metadata": {
    "collapsed": true
   },
   "outputs": [],
   "source": [
    "meta_data['models']=bm"
   ]
  },
  {
   "cell_type": "code",
   "execution_count": 61,
   "metadata": {
    "collapsed": true
   },
   "outputs": [],
   "source": [
    "models_path=os.path.join(run_dir,'models')\n",
    "for mod in bm:\n",
    "  try:   \n",
    "    m=h2o.get_model(mod) \n",
    "    h2o.save_model(m, path = models_path)\n",
    "  except:    \n",
    "    pass    "
   ]
  },
  {
   "cell_type": "code",
   "execution_count": 62,
   "metadata": {},
   "outputs": [
    {
     "name": "stdout",
     "output_type": "stream",
     "text": [
      "/Users/bear/Downloads/AutoML/FAMH0nY14/models\n"
     ]
    }
   ],
   "source": [
    "print(models_path)"
   ]
  },
  {
   "cell_type": "code",
   "execution_count": 63,
   "metadata": {},
   "outputs": [
    {
     "name": "stdout",
     "output_type": "stream",
     "text": [
      "{'algo': 'gbm', 'model_id': 'GBM_grid_0_AutoML_20181003_004019_model_58', 'varimp': [('Daily Internet Usage', 592.63916015625, 1.0, 0.5187020078376144), ('Daily Time Spent on Site', 293.22625732421875, 0.4947804280211745, 0.2566436014533375), ('Country', 165.99832153320312, 0.28010015654287423, 0.14528851359441897), ('Age', 59.58226776123047, 0.10053717635790645, 0.05214883523917042), ('Area Income', 21.841712951660156, 0.036854994438608416, 0.0191167596141503), ('ID', 7.847520351409912, 0.013241650027549486, 0.006868470456372921), ('Male', 1.4073975086212158, 0.002374796677712208, 0.0012318118049354186)]}\n"
     ]
    }
   ],
   "source": [
    "# GBM\n",
    " \n",
    "mod,mod_id=get_model_by_algo(\"GBM\",best_models)\n",
    "if mod is not None:\n",
    "    try:     \n",
    "        sh_df=mod.scoring_history()\n",
    "        sh_df.to_csv(run_id+'_gbm_scoring_history.csv') \n",
    "    except:\n",
    "        pass   \n",
    "    try:     \n",
    "        stats_gbm={}\n",
    "        stats_gbm=gbm_stats(mod)\n",
    "        n=run_id+'_gbm_stats.json'\n",
    "        dict_to_json(stats_gbm,n)\n",
    "        print(stats_gbm)\n",
    "    except:\n",
    "        pass        "
   ]
  },
  {
   "cell_type": "code",
   "execution_count": 64,
   "metadata": {
    "collapsed": true
   },
   "outputs": [],
   "source": [
    "# DeepLearning\n",
    "\n",
    "mod,mod_id=get_model_by_algo(\"Dee\",best_models)\n"
   ]
  },
  {
   "cell_type": "code",
   "execution_count": 65,
   "metadata": {},
   "outputs": [
    {
     "name": "stdout",
     "output_type": "stream",
     "text": [
      "{'algo': 'deeplearning', 'model_id': 'DeepLearning_0_AutoML_20181003_004019', 'varimp': [('Daily Internet Usage', 1.0, 1.0, 0.008321320696195242), ('Daily Time Spent on Site', 0.8003244400024414, 0.8003244400024414, 0.006659756326263183), ('Country.Uzbekistan', 0.7171310782432556, 0.7171310782432556, 0.005967477683270413), ('Country.United States Virgin Islands', 0.7000733613967896, 0.7000733613967896, 0.005825534951046076), ('Country.Chile', 0.6889277100563049, 0.6889277100563049, 0.0057327884118739255), ('Country.Mauritius', 0.6792511940002441, 0.6792511940002441, 0.005652267018549562), ('Country.Poland', 0.6684250235557556, 0.6684250235557556, 0.005562178982369302), ('Country.Saint Kitts and Nevis', 0.6636869311332703, 0.6636869311332703, 0.0055227517958335885), ('Country.Cayman Islands', 0.6634112596511841, 0.6634112596511841, 0.005520457845024354), ('Country.El Salvador', 0.6631825566291809, 0.6631825566291809, 0.005518554733834077), ('Country.Spain', 0.660958468914032, 0.660958468914032, 0.0055000473866998545), ('Country.Costa Rica', 0.660763144493103, 0.660763144493103, 0.005498422029553506), ('Country.Niue', 0.6598822474479675, 0.6598822474479675, 0.005491091802740602), ('Country.Estonia', 0.658599853515625, 0.658599853515625, 0.005480420591570725), ('Country.Swaziland', 0.6510002017021179, 0.6510002017021179, 0.0054171814516511116), ('Country.Benin', 0.645754337310791, 0.645754337310791, 0.005373528931722129), ('Country.Nauru', 0.642373263835907, 0.642373263835907, 0.00534539393504022), ('Country.Mayotte', 0.6393594741821289, 0.6393594741821289, 0.005320315224820257), ('Country.Gibraltar', 0.636333167552948, 0.636333167552948, 0.005295132356833821), ('Country.Mali', 0.6357709765434265, 0.6357709765434265, 0.005290454185151075), ('Country.Falkland Islands (Malvinas)', 0.6300647258758545, 0.6300647258758545, 0.005242970643373331), ('Country.Vanuatu', 0.6275108456611633, 0.6275108456611633, 0.005221718987087217), ('Country.Haiti', 0.6267656087875366, 0.6267656087875366, 0.005215517632067139), ('Country.Tokelau', 0.6253373622894287, 0.6253373622894287, 0.005203632734923165), ('Country.Mongolia', 0.6251088380813599, 0.6251088380813599, 0.005201731111700981), ('Country.Hungary', 0.6245771646499634, 0.6245771646499634, 0.005197306886572684), ('Country.Saint Barthelemy', 0.6221617460250854, 0.6221617460250854, 0.005177207413579512), ('Country.Yemen', 0.6215444803237915, 0.6215444803237915, 0.0051720709477242836), ('Country.Palau', 0.6199958920478821, 0.6199958920478821, 0.005159184648054073), ('Country.Finland', 0.6181510090827942, 0.6181510090827942, 0.005143832785254629), ('Country.Albania', 0.6154407262802124, 0.6154407262802124, 0.005121279652876963), ('Country.Reunion', 0.6076541543006897, 0.6076541543006897, 0.005056485090311346), ('Country.British Virgin Islands', 0.6068779826164246, 0.6068779826164246, 0.005050026316811271), ('ID', 0.6030915379524231, 0.6030915379524231, 0.005018518096463717), ('Country.Brazil', 0.6017230749130249, 0.6017230749130249, 0.005007130676651994), ('Country.Slovakia (Slovak Republic)', 0.601510763168335, 0.601510763168335, 0.005005363962536861), ('Country.Lebanon', 0.6010127663612366, 0.6010127663612366, 0.005001219971399314), ('Country.Sudan', 0.5990049242973328, 0.5990049242973328, 0.00498451207367826), ('Country.Northern Mariana Islands', 0.5971887111663818, 0.5971887111663818, 0.004969398781762976), ('Country.Honduras', 0.5949055552482605, 0.5949055552482605, 0.004950399909168872), ('Country.Indonesia', 0.5933975577354431, 0.5933975577354431, 0.004937851378255654), ('Country.Ecuador', 0.5897706151008606, 0.5897706151008606, 0.00490767042544659), ('Country.Vietnam', 0.5893232822418213, 0.5893232822418213, 0.004903948025268578), ('Country.Bermuda', 0.5878369808197021, 0.5878369808197021, 0.0048915800344839135), ('Country.Sweden', 0.5872809886932373, 0.5872809886932373, 0.00488695344569504), ('Country.Cape Verde', 0.5848802328109741, 0.5848802328109741, 0.004866975986085451), ('Country.Saint Vincent and the Grenadines', 0.5795918703079224, 0.5795918703079224, 0.004822969825739824), ('Country.Guatemala', 0.5777700543403625, 0.5777700543403625, 0.004807809910824309), ('Country.Gabon', 0.576391875743866, 0.576391875743866, 0.004796341644746229), ('Country.Palestinian Territory', 0.5753114223480225, 0.5753114223480225, 0.004787350845542122), ('Country.Taiwan', 0.5749402642250061, 0.5749402642250061, 0.0047842623197715045), ('Country.Faroe Islands', 0.5734841823577881, 0.5734841823577881, 0.004772145795594469), ('Country.Tuvalu', 0.567568838596344, 0.567568838596344, 0.004722922323127255), ('Country.Belize', 0.5670774579048157, 0.5670774579048157, 0.004718833386809129), ('Country.Portugal', 0.565319836139679, 0.565319836139679, 0.004704207652438814), ('Country.Liberia', 0.563247561454773, 0.563247561454773, 0.004686963590215104), ('Country.Bolivia', 0.5615442395210266, 0.5615442395210266, 0.004672789702155537), ('Country.Isle of Man', 0.5610712766647339, 0.5610712766647339, 0.004668854026550937), ('Country.Pakistan', 0.560761034488678, 0.560761034488678, 0.00466627240191049), ('Country.Burundi', 0.5597633123397827, 0.5597633123397827, 0.004657970035943836), ('Country.Saudi Arabia', 0.556611180305481, 0.556611180305481, 0.004631740134409661), ('Country.Lesotho', 0.5565107464790344, 0.5565107464790344, 0.004630904392331053), ('Country.Bhutan', 0.5559763312339783, 0.5559763312339783, 0.004626457351692005), ('Country.Canada', 0.5554516315460205, 0.5554516315460205, 0.004622091157319315), ('Country.Tunisia', 0.5549290776252747, 0.5549290776252747, 0.004617742818563734), ('Country.Svalbard & Jan Mayen Islands', 0.552648663520813, 0.552648663520813, 0.004598766761480382), ('Country.Namibia', 0.5507097840309143, 0.5507097840309143, 0.0045826327234536595), ('Country.Denmark', 0.5483400821685791, 0.5483400821685791, 0.004562913674302798), ('Country.Guinea', 0.5481172204017639, 0.5481172204017639, 0.004561059170070207), ('Country.Latvia', 0.5448210835456848, 0.5448210835456848, 0.004533630958232225), ('Country.Marshall Islands', 0.544575035572052, 0.544575035572052, 0.0045315835141369765), ('Country.Serbia', 0.5441768765449524, 0.5441768765449524, 0.004528270305184396), ('Country.Martinique', 0.5440347790718079, 0.5440347790718079, 0.004527087866540241), ('Country.Guadeloupe', 0.5437996983528137, 0.5437996983528137, 0.004525131684487999), ('Country.Guyana', 0.5428845882415771, 0.5428845882415771, 0.004517516759780069), ('Country.Venezuela', 0.5384547114372253, 0.5384547114372253, 0.00448065433424642), ('Country.Sao Tome and Principe', 0.5377828478813171, 0.5377828478813171, 0.004475063542133622), ('Country.Jamaica', 0.5368363857269287, 0.5368363857269287, 0.004467187727020145), ('Country.Angola', 0.5358622074127197, 0.5358622074127197, 0.004459081276852333), ('Country.Gambia', 0.5349826216697693, 0.5349826216697693, 0.004451761961805441), ('Country.Afghanistan', 0.5346816182136536, 0.5346816182136536, 0.004449257215516439), ('Country.Malta', 0.5337978601455688, 0.5337978601455688, 0.0044419031812140556), ('Country.Tanzania', 0.5336437821388245, 0.5336437821388245, 0.004440621048707705), ('Country.Belarus', 0.5334171056747437, 0.5334171056747437, 0.004438734801155809), ('Country.Wallis and Futuna', 0.5314797163009644, 0.5314797163009644, 0.0044226131628631905), ('Country.Armenia', 0.5309103727340698, 0.5309103727340698, 0.0044178754724567455), ('Country.Ireland', 0.5295698046684265, 0.5295698046684265, 0.00440672017566745), ('Country.Korea', 0.5295491218566895, 0.5295491218566895, 0.004406548067358087), ('Country.New Zealand', 0.5291664600372314, 0.5291664600372314, 0.004403363815640187), ('Country.Turks and Caicos Islands', 0.5288907289505005, 0.5288907289505005, 0.004401069368841588), ('Country.Croatia', 0.5279380679130554, 0.5279380679130554, 0.004393141970834237), ('Country.Greenland', 0.5270205736160278, 0.5270205736160278, 0.004385507206551741), ('Country.Thailand', 0.526310384273529, 0.526310384273529, 0.004379597493277788), ('Country.Guernsey', 0.5260441899299622, 0.5260441899299622, 0.0043773824047774555), ('Country.United States of America', 0.5250373482704163, 0.5250373482704163, 0.004369004152438085), ('Country.Christmas Island', 0.5248892903327942, 0.5248892903327942, 0.004367772114857514), ('Country.Somalia', 0.5242886543273926, 0.5242886543273926, 0.004362774030034886), ('Country.Togo', 0.523450493812561, 0.523450493812561, 0.004355799427596084), ('Country.Trinidad and Tobago', 0.5231229662895203, 0.5231229662895203, 0.004353073966040032), ('Country.Zimbabwe', 0.5196608304977417, 0.5196608304977417, 0.004324264423822866), ('Country.Eritrea', 0.5192114114761353, 0.5192114114761353, 0.004320524664017109), ('Country.Iceland', 0.5186346769332886, 0.5186346769332886, 0.0043157254709295075), ('Country.Saint Helena', 0.5184846520423889, 0.5184846520423889, 0.00431447706569992), ('Country.Timor-Leste', 0.5182769894599915, 0.5182769894599915, 0.00431274903875519), ('Country.Paraguay', 0.5181822180747986, 0.5181822180747986, 0.004311960415666178), ('Country.Mexico', 0.5177007913589478, 0.5177007913589478, 0.004307954309571867), ('Country.Bulgaria', 0.5164144039154053, 0.5164144039154053, 0.0042972498671145914), ('Country.Holy See (Vatican City State)', 0.5159534215927124, 0.5159534215927124, 0.004293413885372187), ('Country.Montserrat', 0.5143030881881714, 0.5143030881881714, 0.004279680931857358), ('Country.Madagascar', 0.5142053365707397, 0.5142053365707397, 0.004278867509300137), ('Country.Liechtenstein', 0.514152467250824, 0.514152467250824, 0.004278427566734128), ('Country.Montenegro', 0.5105695724487305, 0.5105695724487305, 0.004248613150065177), ('Country.Monaco', 0.5092347860336304, 0.5092347860336304, 0.004237505964244204), ('Country.Philippines', 0.5092084407806396, 0.5092084407806396, 0.004237286736945246), ('Country.Uruguay', 0.5081913471221924, 0.5081913471221924, 0.00422882317443524), ('Age', 0.5067383646965027, 0.5067383646965027, 0.00421673244170514), ('Country.Iran', 0.5062962174415588, 0.5062962174415588, 0.004213053192601811), ('Country.Argentina', 0.505352258682251, 0.505352258682251, 0.004205198209041627), ('Area Income', 0.5041759610176086, 0.5041759610176086, 0.004195409858939953), ('Country.Congo', 0.4987335205078125, 0.4987335205078125, 0.004150121566087975), ('Country.Germany', 0.4974723756313324, 0.4974723756313324, 0.00413962717512642), ('Country.Norway', 0.49668532609939575, 0.49668532609939575, 0.004133077883567385), ('Country.Senegal', 0.495035856962204, 0.495035856962204, 0.004119352121898336), ('Country.Luxembourg', 0.4946790337562561, 0.4946790337562561, 0.004116382881569799), ('Country.Micronesia', 0.49436262249946594, 0.49436262249946594, 0.004113749922030162), ('Country.Cameroon', 0.4927632510662079, 0.4927632510662079, 0.004100441039421688), ('Country.Comoros', 0.4915675222873688, 0.4915675222873688, 0.004090490996787298), ('Country.Barbados', 0.49097245931625366, 0.49097245931625366, 0.004085539286970218), ('Country.Japan', 0.48900410532951355, 0.48900410532951355, 0.00406915998220292), ('Country.Azerbaijan', 0.48833218216896057, 0.48833218216896057, 0.004063568694100757), ('Country.Heard Island and McDonald Islands', 0.48826244473457336, 0.48826244473457336, 0.004062988386544691), ('Country.Belgium', 0.48821818828582764, 0.48821818828582764, 0.0040626201144418035), ('Country.India', 0.4862453043460846, 0.4862453043460846, 0.0040462031144828286), ('Country.Bosnia and Herzegovina', 0.48532634973526, 0.48532634973526, 0.00403855619846091), ('Country.Qatar', 0.4830172061920166, 0.4830172061920166, 0.004019341074504032), ('Country.Saint Lucia', 0.48110896348953247, 0.48110896348953247, 0.004003461975010488), ('Country.Myanmar', 0.47842898964881897, 0.47842898964881897, 0.003981161053224497), ('Country.Dominican Republic', 0.4783651530742645, 0.4783651530742645, 0.003980629848615483), ('Country.Colombia', 0.4756455421447754, 0.4756455421447754, 0.003957999093902326), ('Country.United Arab Emirates', 0.4748249053955078, 0.4748249053955078, 0.0039511703123365875), ('Country.Jersey', 0.4747578203678131, 0.4747578203678131, 0.003950612076307226), ('Country.Bahamas', 0.4744516611099243, 0.4744516611099243, 0.003948064426938225), ('Country.South Georgia and the South Sandwich Islands', 0.47115567326545715, 0.47115567326545715, 0.003920637455073653), ('Country.United States Minor Outlying Islands', 0.470973938703537, 0.470973938703537, 0.003919125183502332), ('Country.Singapore', 0.4709557890892029, 0.4709557890892029, 0.003918974154740945), ('Country.Kyrgyz Republic', 0.46927011013031006, 0.46927011013031006, 0.00390494707953317), ('Country.Cook Islands', 0.46514561772346497, 0.46514561772346497, 0.00387062585550679), ('Country.Hong Kong', 0.4616380035877228, 0.4616380035877228, 0.0038414378734047713), ('Country.Mauritania', 0.4615805149078369, 0.4615805149078369, 0.0038409594916630403), ('Country.Malaysia', 0.4593444764614105, 0.4593444764614105, 0.003822352698661304), ('Country.Andorra', 0.4578981399536133, 0.4578981399536133, 0.003810317268745308), ('Country.France', 0.45772290229797363, 0.45772290229797363, 0.003808859060014681), ('Country.Fiji', 0.4574126899242401, 0.4574126899242401, 0.0038062776833689164), ('Country.British Indian Ocean Territory (Chagos Archipelago)', 0.4540526270866394, 0.4540526270866394, 0.0037783175229378733), ('Country.Russian Federation', 0.4539709687232971, 0.4539709687232971, 0.0037776380175089754), ('Country.Netherlands Antilles', 0.453615665435791, 0.453615665435791, 0.0037746814249092248), ('Country.Cuba', 0.45333823561668396, 0.45333823561668396, 0.0037723728424137477), ('Country.Tonga', 0.4530654847621918, 0.4530654847621918, 0.003770103195083357), ('Country.Guinea-Bissau', 0.44904154539108276, 0.44904154539108276, 0.0037366187051143126), ('Country.Egypt', 0.44896095991134644, 0.44896095991134644, 0.00373594812749397), ('Country.French Southern Territories', 0.4413551688194275, 0.4413551688194275, 0.0036726579006698475), ('Country.Central African Republic', 0.44088631868362427, 0.44088631868362427, 0.003668756448331374), ('Country.Algeria', 0.4404628276824951, 0.4404628276824951, 0.0036652324438990256), ('Country.Israel', 0.4403940439224243, 0.4403940439224243, 0.003664660072172786), ('Country.Bahrain', 0.4393302798271179, 0.4393302798271179, 0.0036558081499906436), ('Country.Seychelles', 0.43885567784309387, 0.43885567784309387, 0.003651858834678529), ('Country.New Caledonia', 0.43857356905937195, 0.43857356905937195, 0.0036495113170179655), ('Country.Lithuania', 0.43516993522644043, 0.43516993522644043, 0.003621188588361722), ('Country.Malawi', 0.43413588404655457, 0.43413588404655457, 0.003612583916877613), ('Country.Guam', 0.43169230222702026, 0.43169230222702026, 0.0035922500889098755), ('Country.Dominica', 0.43143367767333984, 0.43143367767333984, 0.00359009799105879), ('Country.Libyan Arab Jamahiriya', 0.43068525195121765, 0.43068525195121765, 0.00358387010060773), ('Country.Jordan', 0.4302447736263275, 0.4302447736263275, 0.003580204739206596), ('Country.Bouvet Island (Bouvetoya)', 0.42970532178878784, 0.42970532178878784, 0.003575715787466277), ('Country.Czech Republic', 0.42927855253219604, 0.42927855253219604, 0.0035721645036188997), ('Country.China', 0.4276767671108246, 0.4276767671108246, 0.0035588355334411777), ('Country.Burkina Faso', 0.4266117513179779, 0.4266117513179779, 0.0035499731954823878), ('Country.Panama', 0.4247419834136963, 0.4247419834136963, 0.0035344142571234077), ('Country.Italy', 0.42471635341644287, 0.42471635341644287, 0.0035342009816968192), ('Country.Chad', 0.4242805540561676, 0.4242805540561676, 0.003530574555460772), ('Country.Saint Pierre and Miquelon', 0.4234543740749359, 0.4234543740749359, 0.0035236996468841664), ('Country.Ghana', 0.4206109046936035, 0.4206109046936035, 0.003500038226272288), ('Country.Kiribati', 0.4185645580291748, 0.4185645580291748, 0.003483009919421987), ('Country.Brunei Darussalam', 0.4181270897388458, 0.4181270897388458, 0.0034793696054837434), ('Country.Pitcairn Islands', 0.4172845482826233, 0.4172845482826233, 0.0034723585478266764), ('Country.Kuwait', 0.4154933989048004, 0.4154933989048004, 0.0034574538194390215), ('Country.Nepal', 0.41484692692756653, 0.41484692692756653, 0.003452074318795355), ('Country.Bangladesh', 0.4121161997318268, 0.4121161997318268, 0.0034293510620657824), ('Country.United Kingdom', 0.4095209836959839, 0.4095209836959839, 0.0034077554371556252), ('Country.Kazakhstan', 0.40925848484039307, 0.40925848484039307, 0.0034055710999958697), ('Country.French Polynesia', 0.4084555506706238, 0.4084555506706238, 0.0033988896272712866), ('Country.Australia', 0.4071578085422516, 0.4071578085422516, 0.0033880906988401384), ('Country.Anguilla', 0.4043961763381958, 0.4043961763381958, 0.00336511027162525), ('Country.Georgia', 0.40359026193618774, 0.40359026193618774, 0.003358403999432458), (\"Country.Cote d'Ivoire\", 0.40211427211761475, 0.40211427211761475, 0.0033461218148077934), ('Country.Austria', 0.40162432193756104, 0.40162432193756104, 0.0033420447822344076), ('Country.Maldives', 0.40154245495796204, 0.40154245495796204, 0.0033413635408427356), ('Country.Switzerland', 0.4014059603214264, 0.4014059603214264, 0.003340227725198812), (\"Country.Lao People's Democratic Republic\", 0.4002252519130707, 0.4002252519130707, 0.00333040267188419), ('Country.Macedonia', 0.3990764617919922, 0.3990764617919922, 0.0033208432208740746), ('Country.Mozambique', 0.3970641493797302, 0.3970641493797302, 0.0033040981239507087), ('Country.Grenada', 0.3964049816131592, 0.3964049816131592, 0.0032986129775724763), ('Country.Suriname', 0.3925766348838806, 0.3925766348838806, 0.003266756076701919), ('Country.Netherlands', 0.3920711576938629, 0.3920711576938629, 0.00326254983889917), ('Country.Papua New Guinea', 0.3880627155303955, 0.3880627155303955, 0.0032291943061648074), ('Country.Slovenia', 0.3876143991947174, 0.3876143991947174, 0.0032254637221622866), ('Country.Samoa', 0.3873814046382904, 0.3873814046382904, 0.0032235248997377897), ('Country.Peru', 0.38668161630630493, 0.38668161630630493, 0.003217701736607883), ('Country.Sri Lanka', 0.3837844133377075, 0.3837844133377075, 0.0031935931815842153), ('Country.Romania', 0.38121354579925537, 0.38121354579925537, 0.0031722001683293167), ('Country.Norfolk Island', 0.37762451171875, 0.37762451171875, 0.0031423346647558572), ('Country.Ethiopia', 0.37721434235572815, 0.37721434235572815, 0.0031389215139463983), ('Country.American Samoa', 0.3760439455509186, 0.3760439455509186, 0.0031291822667917756), ('Male', 0.3758540451526642, 0.3758540451526642, 0.0031276020446775656), ('Country.Saint Martin', 0.37190476059913635, 0.37190476059913635, 0.0030947387813871304), ('Country.Turkmenistan', 0.3705923557281494, 0.3705923557281494, 0.0030838178395723994), ('Country.Antarctica (the territory South of 60 deg S)', 0.36581453680992126, 0.36581453680992126, 0.0030440600761254743), ('Country.Nicaragua', 0.3630427420139313, 0.3630427420139313, 0.0030209950827239963), ('Country.Sierra Leone', 0.3630099296569824, 0.3630099296569824, 0.003020722040579027), ('Country.Ukraine', 0.36002883315086365, 0.36002883315086365, 0.0029959153805253057), ('Country.Syrian Arab Republic', 0.359911173582077, 0.359911173582077, 0.002994936297520456), ('Country.Niger', 0.3598458468914032, 0.3598458468914032, 0.002994392693177338), ('Country.Kenya', 0.35824093222618103, 0.35824093222618103, 0.0029810376835579977), ('Country.French Guiana', 0.35601937770843506, 0.35601937770843506, 0.0029625514159717517), ('Country.Moldova', 0.3488686978816986, 0.3488686978816986, 0.002903048315937664), ('Country.South Africa', 0.348416268825531, 0.348416268825531, 0.0028992835086690165), ('Country.Western Sahara', 0.3472241759300232, 0.3472241759300232, 0.00288936372138584), ('Country.Morocco', 0.3454509377479553, 0.3454509377479553, 0.002874608037802115), ('Country.Rwanda', 0.34031838178634644, 0.34031838178634644, 0.002831898393654399), ('Country.Zambia', 0.33920252323150635, 0.33920252323150635, 0.0028226129767679816), ('Country.Puerto Rico', 0.3370708227157593, 0.3370708227157593, 0.002804874413148205), ('Country.Turkey', 0.33343860507011414, 0.33343860507011414, 0.002774649565280413), ('Country.Greece', 0.33075517416000366, 0.33075517416000366, 0.0027523198761113003), ('Country.Djibouti', 0.32312509417533875, 0.32312509417533875, 0.0026888275336212834), ('Country.Macao', 0.32133030891418457, 0.32133030891418457, 0.002673892549882415), ('Country.Aruba', 0.3106600344181061, 0.3106600344181061, 0.0025851017738841124), ('Country.Tajikistan', 0.3082459270954132, 0.3082459270954132, 0.002565013212656952), ('Country.Cyprus', 0.30608442425727844, 0.30608442425727844, 0.002547026654355096), ('Country.Cambodia', 0.3052928149700165, 0.3052928149700165, 0.002540439419609703), ('Country.Uganda', 0.30075913667678833, 0.30075913667678833, 0.0025027132285983726), ('Country.San Marino', 0.2969644367694855, 0.2969644367694855, 0.002471136313723883), ('Country.Antigua and Barbuda', 0.2936956584453583, 0.2936956584453583, 0.002443935761004049), ('Country.Equatorial Guinea', 0.2549940347671509, 0.2549940347671509, 0.002121887138914222), ('Country.missing(NA)', 0.0, 0.0, 0.0)]}"
     ]
    },
    {
     "name": "stdout",
     "output_type": "stream",
     "text": [
      "\n"
     ]
    }
   ],
   "source": [
    "if mod is not None:\n",
    "    try:    \n",
    "        sh_df=mod.scoring_history()\n",
    "        sh_df.to_csv(run_id+'_dl_scoring_history.csv') \n",
    "    except:\n",
    "        pass \n",
    "    try:\n",
    "        stats_dl={}\n",
    "        stats_dl=dl_stats(mod)\n",
    "        n=run_id+'_dl_stats.json'\n",
    "        dict_to_json(stats_dl,n)\n",
    "        print(stats_dl)\n",
    "    except:\n",
    "        pass    \n",
    "    try:\n",
    "        cf=mod.confusion_matrix()    \n",
    "        cf_df.to_csv(run_id+'_dl_confusion_matrix.csv')\n",
    "    except:\n",
    "        pass       "
   ]
  },
  {
   "cell_type": "code",
   "execution_count": 66,
   "metadata": {
    "collapsed": true
   },
   "outputs": [],
   "source": [
    "# DRF\n",
    "\n",
    "mod,mod_id=get_model_by_algo(\"DRF\",best_models)\n",
    "if mod is not None:\n",
    "    try:     \n",
    "         sh_df=mod.scoring_history()\n",
    "         sh_df.to_csv(run_id+'_drf_scoring_history.csv') \n",
    "    except:\n",
    "         pass  \n",
    "    try: \n",
    "         stats_drf={}\n",
    "         stats_drf=drf_stats(mod)\n",
    "         n=run_id+'_drf_stats.json'\n",
    "         dict_to_json(stats_drf,n)\n",
    "         print(stats_drf)\n",
    "    except:\n",
    "         pass     "
   ]
  },
  {
   "cell_type": "code",
   "execution_count": 67,
   "metadata": {
    "collapsed": true
   },
   "outputs": [],
   "source": [
    "# XRT\n",
    "\n",
    "mod,mod_id=get_model_by_algo(\"XRT\",best_models)\n",
    "if mod is not None:\n",
    "    try:     \n",
    "         sh_df=mod.scoring_history()\n",
    "         sh_df.to_csv(run_id+'_xrt_scoring_history.csv')\n",
    "    except:\n",
    "         pass     \n",
    "    try:        \n",
    "         stats_xrt={}\n",
    "         stats_xrt=xrt_stats(mod)\n",
    "         n=run_id+'_xrt_stats.json'\n",
    "         dict_to_json(stats_xrt,n)\n",
    "         print(stats_xrt)\n",
    "    except:\n",
    "         pass     "
   ]
  },
  {
   "cell_type": "code",
   "execution_count": 68,
   "metadata": {},
   "outputs": [
    {
     "name": "stdout",
     "output_type": "stream",
     "text": [
      "{'algo': 'glm', 'model_id': 'GLM_grid_0_AutoML_20181003_004019_model_0', 'coef': {'Intercept': 2.271571991258173, 'Country.Afghanistan': -0.02510697201765049, 'Country.Albania': 0.0014679399209840455, 'Country.Algeria': 0.008970683282663962, 'Country.American Samoa': 0.0013318054171748543, 'Country.Andorra': -0.0025492844293272957, 'Country.Angola': 0.005334354170619788, 'Country.Anguilla': 0.00019325618479988657, 'Country.Antarctica (the territory South of 60 deg S)': -0.0020832988249473, 'Country.Antigua and Barbuda': -0.019265231106838095, 'Country.Argentina': 0.0011317922173191988, 'Country.Armenia': -0.0021361320524666064, 'Country.Aruba': -0.0024135386775945063, 'Country.Australia': -0.0086913183867361, 'Country.Austria': -0.013510322064655265, 'Country.Azerbaijan': 0.001302038147624808, 'Country.Bahamas': -0.014281003483370198, 'Country.Bahrain': -0.021259392271349674, 'Country.Bangladesh': -0.007613760410310062, 'Country.Barbados': -0.0027385562179286843, 'Country.Belarus': -0.016986209167441802, 'Country.Belgium': -0.01069864765136842, 'Country.Belize': -0.010357074077913178, 'Country.Benin': 0.0018983847930708472, 'Country.Bermuda': 0.0015354320850322753, 'Country.Bhutan': 0.025132529642740663, 'Country.Bolivia': -0.02299918948305579, 'Country.Bosnia and Herzegovina': -0.015323821723023571, 'Country.Bouvet Island (Bouvetoya)': -0.02326927851897404, 'Country.Brazil': -0.0047153744152807885, 'Country.British Indian Ocean Territory (Chagos Archipelago)': -0.0037387105448053667, 'Country.British Virgin Islands': -0.00127164987326491, 'Country.Brunei Darussalam': -0.006711850053689435, 'Country.Bulgaria': -0.009020605925802958, 'Country.Burkina Faso': 0.006166931127214353, 'Country.Burundi': -0.019065862675326006, 'Country.Cambodia': -0.016435049302205285, 'Country.Cameroon': -0.004575032233806621, 'Country.Canada': 0.002525285721876725, 'Country.Cape Verde': -0.006600627253237511, 'Country.Cayman Islands': 0.07542374944087404, 'Country.Central African Republic': -0.009104766001184724, 'Country.Chad': 0.006924166507342487, 'Country.Chile': -0.004441494448807745, 'Country.China': -0.021058466425701115, 'Country.Christmas Island': -0.00040189907559396213, 'Country.Colombia': -0.008292993082969696, 'Country.Comoros': -0.0074925687815395525, 'Country.Congo': -0.015577858624417797, 'Country.Cook Islands': -0.00381605430410799, 'Country.Costa Rica': -0.009236622937295198, \"Country.Cote d'Ivoire\": -0.005471098657956476, 'Country.Croatia': -0.033283617433750703, 'Country.Cuba': 0.05444448927893116, 'Country.Cyprus': -0.029357864426703982, 'Country.Czech Republic': -0.015275564843524065, 'Country.Denmark': 0.05559702268361749, 'Country.Djibouti': -0.0030621627257422248, 'Country.Dominica': 0.008423264287456796, 'Country.Dominican Republic': 0.020731118259168093, 'Country.Ecuador': -0.0247744723993469, 'Country.Egypt': 0.010687972434650755, 'Country.El Salvador': 0.014549025606889357, 'Country.Equatorial Guinea': -0.019261079102090156, 'Country.Eritrea': -0.01992202402281122, 'Country.Estonia': -0.00522011301186685, 'Country.Ethiopia': 0.004245259647311737, 'Country.Falkland Islands (Malvinas)': -0.0018160238124602746, 'Country.Faroe Islands': 0.0, 'Country.Fiji': 0.003238467098934953, 'Country.Finland': -0.022667853706444304, 'Country.France': -0.01860748037391164, 'Country.French Guiana': -0.013702437579255053, 'Country.French Polynesia': 0.0, 'Country.French Southern Territories': 0.00011162908770949289, 'Country.Gabon': -0.016054443500246828, 'Country.Gambia': 0.007147917285197255, 'Country.Georgia': -0.009987462848064099, 'Country.Germany': 0.02582699054446607, 'Country.Ghana': 0.010994584863797775, 'Country.Gibraltar': -0.014976974209916892, 'Country.Greece': -0.008245755596369675, 'Country.Greenland': -0.01042609624144934, 'Country.Grenada': -0.008531469078489442, 'Country.Guadeloupe': 0.02339542287066094, 'Country.Guam': -0.005365299461054393, 'Country.Guatemala': -0.025541875070371096, 'Country.Guernsey': -0.004166382664400377, 'Country.Guinea': 0.011012634182790785, 'Country.Guinea-Bissau': 0.004810944064039217, 'Country.Guyana': -0.004291372073302008, 'Country.Haiti': 0.011559434087950663, 'Country.Heard Island and McDonald Islands': 0.003533003044890938, 'Country.Holy See (Vatican City State)': 0.006410661485378602, 'Country.Honduras': -0.011102731845940043, 'Country.Hong Kong': -0.01029382103228735, 'Country.Hungary': 0.0716952117988332, 'Country.Iceland': -0.0007948784477539475, 'Country.India': 0.0023381149240331257, 'Country.Indonesia': 0.016159930754999226, 'Country.Iran': 0.009456816220554028, 'Country.Ireland': -0.010232795980615944, 'Country.Isle of Man': 0.00870940452194264, 'Country.Israel': 0.04507264596479169, 'Country.Italy': -0.011905700576477739, 'Country.Jamaica': -0.007108829127398272, 'Country.Japan': 0.022937841414049056, 'Country.Jersey': 0.011945968622913257, 'Country.Jordan': -0.011285013673432587, 'Country.Kazakhstan': 0.027542451547029598, 'Country.Kenya': -0.002469638905524628, 'Country.Kiribati': -0.0055183828670350215, 'Country.Korea': -0.00046534149706495845, 'Country.Kuwait': -0.017524352809352748, 'Country.Kyrgyz Republic': -0.006535350851025887, \"Country.Lao People's Democratic Republic\": -0.00960962036780074, 'Country.Latvia': -0.005609780152085873, 'Country.Lebanon': 0.02611291750547554, 'Country.Lesotho': -0.005241981873194177, 'Country.Liberia': -0.0047311331227990715, 'Country.Libyan Arab Jamahiriya': -0.008454832301602756, 'Country.Liechtenstein': 0.027857958352805127, 'Country.Lithuania': -0.000753925988260059, 'Country.Luxembourg': 0.01462152961290183, 'Country.Macao': -0.007353235757867071, 'Country.Macedonia': -0.005342446555507996, 'Country.Madagascar': -0.005022128950677798, 'Country.Malawi': -0.02519557758117331, 'Country.Malaysia': 0.004810862363484505, 'Country.Maldives': 6.11233470835144e-05, 'Country.Mali': 0.001490693136473106, 'Country.Malta': -0.01059616206614648, 'Country.Marshall Islands': -0.002676708408429425, 'Country.Martinique': 0.0, 'Country.Mauritania': -0.0059097802218704976, 'Country.Mauritius': 4.003091328630016e-06, 'Country.Mayotte': 0.017096192876826802, 'Country.Mexico': -0.004690064618739552, 'Country.Micronesia': -0.007623390004235404, 'Country.Moldova': -0.002428243501765667, 'Country.Monaco': 0.005715847620044042, 'Country.Mongolia': -0.010321392037785104, 'Country.Montenegro': 0.013871507118339012, 'Country.Montserrat': 0.003315983640100964, 'Country.Morocco': 0.012397259895765633, 'Country.Mozambique': 0.0032170703265113404, 'Country.Myanmar': -0.02119023478804766, 'Country.Namibia': 0.011418099807198502, 'Country.Nauru': 0.007867047355385317, 'Country.Nepal': -0.005909406340540591, 'Country.Netherlands': -0.004378098267760053, 'Country.Netherlands Antilles': 0.032211676417928214, 'Country.New Caledonia': 0.02502405767173293, 'Country.New Zealand': -0.010389050394737736, 'Country.Nicaragua': 0.0014779192248933289, 'Country.Niger': -0.0037456014053147933, 'Country.Niue': -0.006681673858076797, 'Country.Norfolk Island': -0.012222261220888883, 'Country.Northern Mariana Islands': 0.011173419228229937, 'Country.Norway': -0.01531559845998856, 'Country.Pakistan': 0.010009144397068225, 'Country.Palau': -0.023735601365786063, 'Country.Palestinian Territory': -0.021692425916428237, 'Country.Panama': -0.006950756446267633, 'Country.Papua New Guinea': 0.01678523774575283, 'Country.Paraguay': -0.005922833714647123, 'Country.Peru': -0.005206919404970922, 'Country.Philippines': 0.022139703434160246, 'Country.Pitcairn Islands': -0.0032245464041476047, 'Country.Poland': -0.0007081132722078257, 'Country.Portugal': -0.002762372722933831, 'Country.Puerto Rico': 0.006820414143830637, 'Country.Qatar': -0.014330767517137785, 'Country.Reunion': 0.0014298078427876823, 'Country.Romania': 0.0, 'Country.Russian Federation': -0.007541561297675902, 'Country.Rwanda': -0.01118398801501512, 'Country.Saint Barthelemy': 0.011490243399641149, 'Country.Saint Helena': 0.029399348472767085, 'Country.Saint Kitts and Nevis': 0.03244343177944526, 'Country.Saint Lucia': 0.0020751831350918283, 'Country.Saint Martin': 0.0006459159541189194, 'Country.Saint Pierre and Miquelon': 0.011575373567526954, 'Country.Saint Vincent and the Grenadines': -0.017800436885459382, 'Country.Samoa': 0.03413254119245025, 'Country.San Marino': -0.007587712606402885, 'Country.Sao Tome and Principe': -0.00186616813291376, 'Country.Saudi Arabia': 0.010784961703867453, 'Country.Senegal': 0.02900904953839581, 'Country.Serbia': 0.02582741565090723, 'Country.Seychelles': 0.009497636782801716, 'Country.Sierra Leone': 0.03953573494306142, 'Country.Singapore': -0.01621821281464731, 'Country.Slovakia (Slovak Republic)': -0.005540910613639487, 'Country.Slovenia': 0.0, 'Country.Somalia': -0.00422683291650563, 'Country.South Africa': 0.036189323612736225, 'Country.South Georgia and the South Sandwich Islands': 0.018640066608721428, 'Country.Spain': 0.03510342613309613, 'Country.Sri Lanka': -0.01591666178307465, 'Country.Sudan': -0.008837599211250411, 'Country.Suriname': -0.016273552473787613, 'Country.Svalbard & Jan Mayen Islands': 0.016262062919264738, 'Country.Swaziland': -0.010562871013536928, 'Country.Sweden': -0.02686182507782647, 'Country.Switzerland': 0.0018952165018636012, 'Country.Syrian Arab Republic': 0.0016081484222326308, 'Country.Taiwan': 0.02611274420727869, 'Country.Tajikistan': 0.005745695808045869, 'Country.Tanzania': 0.0014706921392438647, 'Country.Thailand': -0.025132904621694836, 'Country.Timor-Leste': -0.01858555254833567, 'Country.Togo': -0.01786293087163825, 'Country.Tokelau': 0.017725787196822756, 'Country.Tonga': -0.008284385087239091, 'Country.Trinidad and Tobago': -0.00797741906847904, 'Country.Tunisia': -0.0043849250539027135, 'Country.Turkey': -0.0011144768592638674, 'Country.Turkmenistan': -0.014728039584267907, 'Country.Turks and Caicos Islands': 0.026950606282367156, 'Country.Tuvalu': -0.00024172962833791137, 'Country.Uganda': 0.03327366740422705, 'Country.Ukraine': -0.01111919404698096, 'Country.United Arab Emirates': 0.01516300240636246, 'Country.United Kingdom': 0.0009206771649647521, 'Country.United States Minor Outlying Islands': -0.007473944915224061, 'Country.United States Virgin Islands': 0.00645080973934772, 'Country.United States of America': 0.005208636525434056, 'Country.Uruguay': 0.027602287285402594, 'Country.Uzbekistan': -0.006017011729431799, 'Country.Vanuatu': -0.020157111313936327, 'Country.Venezuela': -0.007521703354460792, 'Country.Vietnam': -0.008515030838521365, 'Country.Wallis and Futuna': -0.0036653285635977863, 'Country.Western Sahara': -0.03649957258597601, 'Country.Yemen': 0.0032124528722574128, 'Country.Zambia': -0.0006830082904410983, 'Country.Zimbabwe': -0.0003680628074761415, 'ID': 2.3531059506387606e-05, 'Daily Time Spent on Site': -0.012113746183210152, 'Age': 0.009000964386062541, 'Area Income': -5.95022531047919e-06, 'Daily Internet Usage': -0.005447743707738862, 'Male': -0.02586679501948474}, 'coef_norm': {'Intercept': 0.49747647068381357, 'Country.Afghanistan': -0.02510697201765049, 'Country.Albania': 0.0014679399209840455, 'Country.Algeria': 0.008970683282663962, 'Country.American Samoa': 0.0013318054171748543, 'Country.Andorra': -0.0025492844293272957, 'Country.Angola': 0.005334354170619788, 'Country.Anguilla': 0.00019325618479988657, 'Country.Antarctica (the territory South of 60 deg S)': -0.0020832988249473, 'Country.Antigua and Barbuda': -0.019265231106838095, 'Country.Argentina': 0.0011317922173191988, 'Country.Armenia': -0.0021361320524666064, 'Country.Aruba': -0.0024135386775945063, 'Country.Australia': -0.0086913183867361, 'Country.Austria': -0.013510322064655265, 'Country.Azerbaijan': 0.001302038147624808, 'Country.Bahamas': -0.014281003483370198, 'Country.Bahrain': -0.021259392271349674, 'Country.Bangladesh': -0.007613760410310062, 'Country.Barbados': -0.0027385562179286843, 'Country.Belarus': -0.016986209167441802, 'Country.Belgium': -0.01069864765136842, 'Country.Belize': -0.010357074077913178, 'Country.Benin': 0.0018983847930708472, 'Country.Bermuda': 0.0015354320850322753, 'Country.Bhutan': 0.025132529642740663, 'Country.Bolivia': -0.02299918948305579, 'Country.Bosnia and Herzegovina': -0.015323821723023571, 'Country.Bouvet Island (Bouvetoya)': -0.02326927851897404, 'Country.Brazil': -0.0047153744152807885, 'Country.British Indian Ocean Territory (Chagos Archipelago)': -0.0037387105448053667, 'Country.British Virgin Islands': -0.00127164987326491, 'Country.Brunei Darussalam': -0.006711850053689435, 'Country.Bulgaria': -0.009020605925802958, 'Country.Burkina Faso': 0.006166931127214353, 'Country.Burundi': -0.019065862675326006, 'Country.Cambodia': -0.016435049302205285, 'Country.Cameroon': -0.004575032233806621, 'Country.Canada': 0.002525285721876725, 'Country.Cape Verde': -0.006600627253237511, 'Country.Cayman Islands': 0.07542374944087404, 'Country.Central African Republic': -0.009104766001184724, 'Country.Chad': 0.006924166507342487, 'Country.Chile': -0.004441494448807745, 'Country.China': -0.021058466425701115, 'Country.Christmas Island': -0.00040189907559396213, 'Country.Colombia': -0.008292993082969696, 'Country.Comoros': -0.0074925687815395525, 'Country.Congo': -0.015577858624417797, 'Country.Cook Islands': -0.00381605430410799, 'Country.Costa Rica': -0.009236622937295198, \"Country.Cote d'Ivoire\": -0.005471098657956476, 'Country.Croatia': -0.033283617433750703, 'Country.Cuba': 0.05444448927893116, 'Country.Cyprus': -0.029357864426703982, 'Country.Czech Republic': -0.015275564843524065, 'Country.Denmark': 0.05559702268361749, 'Country.Djibouti': -0.0030621627257422248, 'Country.Dominica': 0.008423264287456796, 'Country.Dominican Republic': 0.020731118259168093, 'Country.Ecuador': -0.0247744723993469, 'Country.Egypt': 0.010687972434650755, 'Country.El Salvador': 0.014549025606889357, 'Country.Equatorial Guinea': -0.019261079102090156, 'Country.Eritrea': -0.01992202402281122, 'Country.Estonia': -0.00522011301186685, 'Country.Ethiopia': 0.004245259647311737, 'Country.Falkland Islands (Malvinas)': -0.0018160238124602746, 'Country.Faroe Islands': 0.0, 'Country.Fiji': 0.003238467098934953, 'Country.Finland': -0.022667853706444304, 'Country.France': -0.01860748037391164, 'Country.French Guiana': -0.013702437579255053, 'Country.French Polynesia': 0.0, 'Country.French Southern Territories': 0.00011162908770949289, 'Country.Gabon': -0.016054443500246828, 'Country.Gambia': 0.007147917285197255, 'Country.Georgia': -0.009987462848064099, 'Country.Germany': 0.02582699054446607, 'Country.Ghana': 0.010994584863797775, 'Country.Gibraltar': -0.014976974209916892, 'Country.Greece': -0.008245755596369675, 'Country.Greenland': -0.01042609624144934, 'Country.Grenada': -0.008531469078489442, 'Country.Guadeloupe': 0.02339542287066094, 'Country.Guam': -0.005365299461054393, 'Country.Guatemala': -0.025541875070371096, 'Country.Guernsey': -0.004166382664400377, 'Country.Guinea': 0.011012634182790785, 'Country.Guinea-Bissau': 0.004810944064039217, 'Country.Guyana': -0.004291372073302008, 'Country.Haiti': 0.011559434087950663, 'Country.Heard Island and McDonald Islands': 0.003533003044890938, 'Country.Holy See (Vatican City State)': 0.006410661485378602, 'Country.Honduras': -0.011102731845940043, 'Country.Hong Kong': -0.01029382103228735, 'Country.Hungary': 0.0716952117988332, 'Country.Iceland': -0.0007948784477539475, 'Country.India': 0.0023381149240331257, 'Country.Indonesia': 0.016159930754999226, 'Country.Iran': 0.009456816220554028, 'Country.Ireland': -0.010232795980615944, 'Country.Isle of Man': 0.00870940452194264, 'Country.Israel': 0.04507264596479169, 'Country.Italy': -0.011905700576477739, 'Country.Jamaica': -0.007108829127398272, 'Country.Japan': 0.022937841414049056, 'Country.Jersey': 0.011945968622913257, 'Country.Jordan': -0.011285013673432587, 'Country.Kazakhstan': 0.027542451547029598, 'Country.Kenya': -0.002469638905524628, 'Country.Kiribati': -0.0055183828670350215, 'Country.Korea': -0.00046534149706495845, 'Country.Kuwait': -0.017524352809352748, 'Country.Kyrgyz Republic': -0.006535350851025887, \"Country.Lao People's Democratic Republic\": -0.00960962036780074, 'Country.Latvia': -0.005609780152085873, 'Country.Lebanon': 0.02611291750547554, 'Country.Lesotho': -0.005241981873194177, 'Country.Liberia': -0.0047311331227990715, 'Country.Libyan Arab Jamahiriya': -0.008454832301602756, 'Country.Liechtenstein': 0.027857958352805127, 'Country.Lithuania': -0.000753925988260059, 'Country.Luxembourg': 0.01462152961290183, 'Country.Macao': -0.007353235757867071, 'Country.Macedonia': -0.005342446555507996, 'Country.Madagascar': -0.005022128950677798, 'Country.Malawi': -0.02519557758117331, 'Country.Malaysia': 0.004810862363484505, 'Country.Maldives': 6.11233470835144e-05, 'Country.Mali': 0.001490693136473106, 'Country.Malta': -0.01059616206614648, 'Country.Marshall Islands': -0.002676708408429425, 'Country.Martinique': 0.0, 'Country.Mauritania': -0.0059097802218704976, 'Country.Mauritius': 4.003091328630016e-06, 'Country.Mayotte': 0.017096192876826802, 'Country.Mexico': -0.004690064618739552, 'Country.Micronesia': -0.007623390004235404, 'Country.Moldova': -0.002428243501765667, 'Country.Monaco': 0.005715847620044042, 'Country.Mongolia': -0.010321392037785104, 'Country.Montenegro': 0.013871507118339012, 'Country.Montserrat': 0.003315983640100964, 'Country.Morocco': 0.012397259895765633, 'Country.Mozambique': 0.0032170703265113404, 'Country.Myanmar': -0.02119023478804766, 'Country.Namibia': 0.011418099807198502, 'Country.Nauru': 0.007867047355385317, 'Country.Nepal': -0.005909406340540591, 'Country.Netherlands': -0.004378098267760053, 'Country.Netherlands Antilles': 0.032211676417928214, 'Country.New Caledonia': 0.02502405767173293, 'Country.New Zealand': -0.010389050394737736, 'Country.Nicaragua': 0.0014779192248933289, 'Country.Niger': -0.0037456014053147933, 'Country.Niue': -0.006681673858076797, 'Country.Norfolk Island': -0.012222261220888883, 'Country.Northern Mariana Islands': 0.011173419228229937, 'Country.Norway': -0.01531559845998856, 'Country.Pakistan': 0.010009144397068225, 'Country.Palau': -0.023735601365786063, 'Country.Palestinian Territory': -0.021692425916428237, 'Country.Panama': -0.006950756446267633, 'Country.Papua New Guinea': 0.01678523774575283, 'Country.Paraguay': -0.005922833714647123, 'Country.Peru': -0.005206919404970922, 'Country.Philippines': 0.022139703434160246, 'Country.Pitcairn Islands': -0.0032245464041476047, 'Country.Poland': -0.0007081132722078257, 'Country.Portugal': -0.002762372722933831, 'Country.Puerto Rico': 0.006820414143830637, 'Country.Qatar': -0.014330767517137785, 'Country.Reunion': 0.0014298078427876823, 'Country.Romania': 0.0, 'Country.Russian Federation': -0.007541561297675902, 'Country.Rwanda': -0.01118398801501512, 'Country.Saint Barthelemy': 0.011490243399641149, 'Country.Saint Helena': 0.029399348472767085, 'Country.Saint Kitts and Nevis': 0.03244343177944526, 'Country.Saint Lucia': 0.0020751831350918283, 'Country.Saint Martin': 0.0006459159541189194, 'Country.Saint Pierre and Miquelon': 0.011575373567526954, 'Country.Saint Vincent and the Grenadines': -0.017800436885459382, 'Country.Samoa': 0.03413254119245025, 'Country.San Marino': -0.007587712606402885, 'Country.Sao Tome and Principe': -0.00186616813291376, 'Country.Saudi Arabia': 0.010784961703867453, 'Country.Senegal': 0.02900904953839581, 'Country.Serbia': 0.02582741565090723, 'Country.Seychelles': 0.009497636782801716, 'Country.Sierra Leone': 0.03953573494306142, 'Country.Singapore': -0.01621821281464731, 'Country.Slovakia (Slovak Republic)': -0.005540910613639487, 'Country.Slovenia': 0.0, 'Country.Somalia': -0.00422683291650563, 'Country.South Africa': 0.036189323612736225, 'Country.South Georgia and the South Sandwich Islands': 0.018640066608721428, 'Country.Spain': 0.03510342613309613, 'Country.Sri Lanka': -0.01591666178307465, 'Country.Sudan': -0.008837599211250411, 'Country.Suriname': -0.016273552473787613, 'Country.Svalbard & Jan Mayen Islands': 0.016262062919264738, 'Country.Swaziland': -0.010562871013536928, 'Country.Sweden': -0.02686182507782647, 'Country.Switzerland': 0.0018952165018636012, 'Country.Syrian Arab Republic': 0.0016081484222326308, 'Country.Taiwan': 0.02611274420727869, 'Country.Tajikistan': 0.005745695808045869, 'Country.Tanzania': 0.0014706921392438647, 'Country.Thailand': -0.025132904621694836, 'Country.Timor-Leste': -0.01858555254833567, 'Country.Togo': -0.01786293087163825, 'Country.Tokelau': 0.017725787196822756, 'Country.Tonga': -0.008284385087239091, 'Country.Trinidad and Tobago': -0.00797741906847904, 'Country.Tunisia': -0.0043849250539027135, 'Country.Turkey': -0.0011144768592638674, 'Country.Turkmenistan': -0.014728039584267907, 'Country.Turks and Caicos Islands': 0.026950606282367156, 'Country.Tuvalu': -0.00024172962833791137, 'Country.Uganda': 0.03327366740422705, 'Country.Ukraine': -0.01111919404698096, 'Country.United Arab Emirates': 0.01516300240636246, 'Country.United Kingdom': 0.0009206771649647521, 'Country.United States Minor Outlying Islands': -0.007473944915224061, 'Country.United States Virgin Islands': 0.00645080973934772, 'Country.United States of America': 0.005208636525434056, 'Country.Uruguay': 0.027602287285402594, 'Country.Uzbekistan': -0.006017011729431799, 'Country.Vanuatu': -0.020157111313936327, 'Country.Venezuela': -0.007521703354460792, 'Country.Vietnam': -0.008515030838521365, 'Country.Wallis and Futuna': -0.0036653285635977863, 'Country.Western Sahara': -0.03649957258597601, 'Country.Yemen': 0.0032124528722574128, 'Country.Zambia': -0.0006830082904410983, 'Country.Zimbabwe': -0.0003680628074761415, 'ID': 0.006855681934820096, 'Daily Time Spent on Site': -0.19535594175981347, 'Age': 0.07883995732857656, 'Area Income': -0.08023907001343139, 'Daily Internet Usage': -0.23684132809686825, 'Male': -0.012905384960561416}}"
     ]
    },
    {
     "name": "stdout",
     "output_type": "stream",
     "text": [
      "\n"
     ]
    }
   ],
   "source": [
    "# GLM\n",
    "\n",
    "mod,mod_id=get_model_by_algo(\"GLM\",best_models)\n",
    "if mod is not None:\n",
    "    try:     \n",
    "         stats_glm={}\n",
    "         stats_glm=glm_stats(mod)\n",
    "         n=run_id+'_glm_stats.json'\n",
    "         dict_to_json(stats_glm,n)\n",
    "         print(stats_glm)\n",
    "    except:\n",
    "         pass     "
   ]
  },
  {
   "cell_type": "code",
   "execution_count": 69,
   "metadata": {},
   "outputs": [
    {
     "name": "stdout",
     "output_type": "stream",
     "text": [
      "stackedensemble prediction progress: |████████████████████████████████████| 100%\n"
     ]
    }
   ],
   "source": [
    "predictions_df=predictions_test(mod_best,test,run_id)"
   ]
  },
  {
   "cell_type": "code",
   "execution_count": 70,
   "metadata": {},
   "outputs": [
    {
     "data": {
      "text/html": [
       "<table>\n",
       "<thead>\n",
       "<tr><th style=\"text-align: right;\">  predict</th></tr>\n",
       "</thead>\n",
       "<tbody>\n",
       "<tr><td style=\"text-align: right;\">1.00036  </td></tr>\n",
       "<tr><td style=\"text-align: right;\">0.0400471</td></tr>\n",
       "<tr><td style=\"text-align: right;\">1.01139  </td></tr>\n",
       "<tr><td style=\"text-align: right;\">0.0410509</td></tr>\n",
       "<tr><td style=\"text-align: right;\">0.850641 </td></tr>\n",
       "<tr><td style=\"text-align: right;\">0.160596 </td></tr>\n",
       "<tr><td style=\"text-align: right;\">0.987219 </td></tr>\n",
       "<tr><td style=\"text-align: right;\">0.984361 </td></tr>\n",
       "<tr><td style=\"text-align: right;\">1.02102  </td></tr>\n",
       "<tr><td style=\"text-align: right;\">0.0497158</td></tr>\n",
       "</tbody>\n",
       "</table>"
      ]
     },
     "metadata": {},
     "output_type": "display_data"
    },
    {
     "data": {
      "text/plain": []
     },
     "execution_count": 70,
     "metadata": {},
     "output_type": "execute_result"
    }
   ],
   "source": [
    "predictions_df.head()"
   ]
  },
  {
   "cell_type": "code",
   "execution_count": 71,
   "metadata": {},
   "outputs": [
    {
     "name": "stdout",
     "output_type": "stream",
     "text": [
      "Rows:88\n",
      "Cols:1\n",
      "\n",
      "\n"
     ]
    },
    {
     "data": {
      "text/html": [
       "<table>\n",
       "<thead>\n",
       "<tr><th>       </th><th>predict             </th></tr>\n",
       "</thead>\n",
       "<tbody>\n",
       "<tr><td>type   </td><td>real                </td></tr>\n",
       "<tr><td>mins   </td><td>-0.05840354319490006</td></tr>\n",
       "<tr><td>mean   </td><td>0.5127620500590856  </td></tr>\n",
       "<tr><td>maxs   </td><td>1.1183824794457997  </td></tr>\n",
       "<tr><td>sigma  </td><td>0.4679150202119868  </td></tr>\n",
       "<tr><td>zeros  </td><td>0                   </td></tr>\n",
       "<tr><td>missing</td><td>0                   </td></tr>\n",
       "<tr><td>0      </td><td>1.0003586853191397  </td></tr>\n",
       "<tr><td>1      </td><td>0.040047124652463136</td></tr>\n",
       "<tr><td>2      </td><td>1.0113947158781715  </td></tr>\n",
       "<tr><td>3      </td><td>0.041050861343368474</td></tr>\n",
       "<tr><td>4      </td><td>0.8506406234286603  </td></tr>\n",
       "<tr><td>5      </td><td>0.1605963630091872  </td></tr>\n",
       "<tr><td>6      </td><td>0.9872188529530919  </td></tr>\n",
       "<tr><td>7      </td><td>0.9843613541358237  </td></tr>\n",
       "<tr><td>8      </td><td>1.021020114136261   </td></tr>\n",
       "<tr><td>9      </td><td>0.049715794465477726</td></tr>\n",
       "</tbody>\n",
       "</table>"
      ]
     },
     "metadata": {},
     "output_type": "display_data"
    }
   ],
   "source": [
    "predictions_df.describe()"
   ]
  },
  {
   "cell_type": "code",
   "execution_count": 72,
   "metadata": {
    "collapsed": true
   },
   "outputs": [],
   "source": [
    "# Update and save meta data\n",
    "\n",
    "meta_data['end_time'] = time.time()\n",
    "meta_data['execution_time'] = meta_data['end_time'] - meta_data['start_time']\n",
    "  \n",
    "n=run_id+'_meta_data.json'\n",
    "dict_to_json(meta_data,n)    \n"
   ]
  },
  {
   "cell_type": "code",
   "execution_count": 73,
   "metadata": {
    "scrolled": true
   },
   "outputs": [
    {
     "data": {
      "text/plain": [
       "{'X': ['ID',\n",
       "  'Age',\n",
       "  'Male',\n",
       "  'Country',\n",
       "  'Daily Time Spent on Site',\n",
       "  'Area Income',\n",
       "  'Daily Internet Usage',\n",
       "  'Ad Topic Line',\n",
       "  'City',\n",
       "  'Timestamp'],\n",
       " 'analysis': 0,\n",
       " 'balance': False,\n",
       " 'balance_threshold': 0.2,\n",
       " 'classification': False,\n",
       " 'end_time': 1538541959.764308,\n",
       " 'execution_time': 341.21927285194397,\n",
       " 'max_models': 9,\n",
       " 'min_mem_size': 6,\n",
       " 'mod_best': 'StackedEnsemble_BestOfFamily_0_AutoML_20181003_004019',\n",
       " 'mod_best_algo': 'stackedensemble',\n",
       " 'model_execution_time': 339.1064040660858,\n",
       " 'models': ['DeepLearning_0_AutoML_20181003_004019',\n",
       "  'XRT_0_AutoML_20181003_004019',\n",
       "  'GLM_grid_0_AutoML_20181003_004019_model_0',\n",
       "  'GBM_grid_0_AutoML_20181003_004019_model_58',\n",
       "  'DRF_0_AutoML_20181003_004019',\n",
       "  'StackedEnsemble_BestOfFamily_0_AutoML_20181003_004019'],\n",
       " 'nthreads': 1,\n",
       " 'project': None,\n",
       " 'run_id': 'FAMH0nY14',\n",
       " 'run_time': 333,\n",
       " 'scale': False,\n",
       " 'start_time': 1538541618.5450351,\n",
       " 'target': None,\n",
       " 'variables': {'Ad Topic Line': 'string',\n",
       "  'Age': 'int',\n",
       "  'Area Income': 'real',\n",
       "  'City': 'string',\n",
       "  'Clicked on Ad': 'int',\n",
       "  'Country': 'enum',\n",
       "  'Daily Internet Usage': 'real',\n",
       "  'Daily Time Spent on Site': 'real',\n",
       "  'ID': 'int',\n",
       "  'Male': 'int',\n",
       "  'Timestamp': 'string'}}"
      ]
     },
     "execution_count": 73,
     "metadata": {},
     "output_type": "execute_result"
    }
   ],
   "source": [
    "meta_data"
   ]
  },
  {
   "cell_type": "code",
   "execution_count": 74,
   "metadata": {
    "collapsed": true
   },
   "outputs": [],
   "source": [
    "# Clean up\n",
    "os.chdir(server_path)"
   ]
  },
  {
   "cell_type": "code",
   "execution_count": 75,
   "metadata": {
    "scrolled": true
   },
   "outputs": [
    {
     "name": "stdout",
     "output_type": "stream",
     "text": [
      "H2O session _sid_80e8 closed.\n"
     ]
    }
   ],
   "source": [
    "h2o.cluster().shutdown()"
   ]
  },
  {
   "cell_type": "markdown",
   "metadata": {},
   "source": [
    "**When availble for your models you will need to make the following plots: **"
   ]
  },
  {
   "cell_type": "markdown",
   "metadata": {},
   "source": [
    "## Variable Importance Plots\n",
    "\n",
    "The Variable Importance Plot graphs the VIP values for each X variable. \n",
    "\n",
    "https://www.researchgate.net/figure/Random-forest-variable-importance-plot-Variables-are-ranked-in-terms-of-importance-on_fig2_295097543\n",
    "\n"
   ]
  },
  {
   "cell_type": "markdown",
   "metadata": {},
   "source": [
    "## Partial Dependence Plots\n",
    "\n",
    "For models that include only numerical values, you can view a Partial Dependence Plot (PDP) for that model. This provides a graphical representation of the marginal effect of a variable on the class probability (classification) or response (regression).\n",
    "\n",
    "https://www.kaggle.com/dansbecker/partial-dependence-plots\n",
    "\n"
   ]
  },
  {
   "cell_type": "markdown",
   "metadata": {},
   "source": [
    "## Gains/Lift Charts\n",
    "\n",
    "[Score: Gains/Lift Table](http://h2o-release.s3.amazonaws.com/h2o/master/1648/docs-website/userguide/scoregainslift.html)  \n",
    "\n",
    "The Gains/Lift Table page uses predicted data to evaluate model performance. The accuracy of the classification model for a random sample is evaluated according to the results when the model is and is not used.\n",
    "\n",
    "The Gains/Lift Table is particularly useful for direct marketing applications, for example. The gains/lift chart shows the effectiveness of the current model(s) compared to a baseline, allowing users to quickly identify the most useful model.\n",
    "\n",
    "To create a Gains/Lift table, H2O applies the model to each entry in the original dataset to find the response probability (Pi^), then orders the entries according to their predicted response probabilities. Finally, H2O divides the dataset into equal groups and calculates the average response rate for each group.\n",
    "\n",
    "H2O uses the response rate of the top ten groups to evaluate the model performance; the highest response and greatest variation rates indicate the best model.\n",
    "\n",
    "The lift is calculated from the gains. H2O uses the following formula to calculate the lift: λk=rkr⎯⎯⎯\n",
    "\n",
    "where λk is the lift for k, rk is the response rate for k, and r⎯⎯⎯ is the average response rate for k. In other words, λk defines how much more likely k customers are to respond in comparison to the average response rate.\n",
    "\n",
    "Requirements:\n",
    "\n",
    "The vactual column must contain actual binary class labels.\n",
    "The vpredict column must contain probabilities.\n",
    "\n",
    "Evaluating Classifiers: Gains and Lift Charts https://youtu.be/1dYOcDaDJLY \n",
    "\n",
    "Understanding And Interpreting Gain And Lift Charts\n",
    "\n",
    "   https://www.datasciencecentral.com/profiles/blogs/understanding-and-interpreting-gain-and-lift-charts\n",
    "   \n",
    "   "
   ]
  },
  {
   "cell_type": "markdown",
   "metadata": {},
   "source": [
    "**Regression Metrics**\n",
    "\n",
    "MSE\n",
    "\n",
    "Mean Squared Error. The “squared” bit means the bigger the error, the more it is punished. \n",
    "\n",
    "deviance\n",
    "\n",
    "Actually short for mean residual deviance. If the distribution is gaussian, then it is equal to MSE, and when not it usually gives a more useful estimate of error, which is why it is the default. Needs to be specified as “residual_deviance” when sorting grids.\n",
    "\n",
    "\n",
    "RMSE\n",
    "The square root of MSE. If your response variable units are dollars, the units of MSE is dollars-squared, but RMSE is back into dollars.\n",
    "\n",
    "MAE\n",
    "Mean Absolute Error.\n",
    "\n",
    "R2\n",
    "R-squared, also written as R², and also known as the coefficient of determination. \n",
    "\n",
    "RMSLE\n",
    "\n",
    "Root Mean Squared Logarithmic Error. Prefer this to RMSE if an under-prediction is worse than an over-prediction.\n"
   ]
  }
 ],
 "metadata": {
  "kernelspec": {
   "display_name": "Python 3",
   "language": "python",
   "name": "python3"
  },
  "language_info": {
   "codemirror_mode": {
    "name": "ipython",
    "version": 3
   },
   "file_extension": ".py",
   "mimetype": "text/x-python",
   "name": "python",
   "nbconvert_exporter": "python",
   "pygments_lexer": "ipython3",
   "version": "3.6.4"
  }
 },
 "nbformat": 4,
 "nbformat_minor": 2
}
