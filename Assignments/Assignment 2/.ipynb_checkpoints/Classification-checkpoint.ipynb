{
 "cells": [
  {
   "cell_type": "markdown",
   "metadata": {},
   "source": [
    "# Binary and Multiclass Classification"
   ]
  },
  {
   "cell_type": "markdown",
   "metadata": {},
   "source": [
    "## Multiclass Classification:"
   ]
  },
  {
   "cell_type": "code",
   "execution_count": 1,
   "metadata": {},
   "outputs": [],
   "source": [
    "# import the required pacakges, here I have started out with h2o as it is the primary package used in this assignment\n",
    "import h2o\n",
    "from h2o.automl import H2OAutoML\n",
    "import random, os, sys\n",
    "from datetime import datetime\n",
    "import pandas as pd\n",
    "import logging\n",
    "import csv\n",
    "import optparse\n",
    "import time\n",
    "import json\n",
    "from distutils.util import strtobool\n",
    "import matplotlib.pyplot as plt"
   ]
  },
  {
   "cell_type": "markdown",
   "metadata": {},
   "source": [
    "Set up some parameters for the analysis.  "
   ]
  },
  {
   "cell_type": "code",
   "execution_count": 2,
   "metadata": {},
   "outputs": [],
   "source": [
    "# Defining variables to be used\n",
    "data_path=None\n",
    "all_variables=None\n",
    "test_path=None\n",
    "target=None\n",
    "nthreads=1 \n",
    "min_mem_size=6 \n",
    "run_time=333\n",
    "classification=False\n",
    "scale=False\n",
    "max_models=9    \n",
    "model_path=None\n",
    "balance_y=False \n",
    "balance_threshold=0.2\n",
    "name=None \n",
    "server_path=None  \n",
    "analysis=0 "
   ]
  },
  {
   "cell_type": "code",
   "execution_count": 3,
   "metadata": {},
   "outputs": [],
   "source": [
    "# Defining helper functions to guide me through the tasks\n",
    "\n",
    "def alphabet(n):\n",
    "  alpha='0123456789abcdefghijklmnopqrstuvwxyzABCDEFGHIJKLMNOPQRSTUVWXYZ'    \n",
    "  str=''\n",
    "  r=len(alpha)-1   \n",
    "  while len(str)<n:\n",
    "    i=random.randint(0,r)\n",
    "    str+=alpha[i]   \n",
    "  return str\n",
    "  \n",
    "  \n",
    "def set_meta_data(run_id,analysis,target,run_time,classification,scale,model,balance,balance_threshold,name,nthreads,min_mem_size):\n",
    "  m_data={}\n",
    "  m_data['run_id'] =run_id\n",
    "  m_data['start_time'] = time.time()\n",
    "  m_data['target']=target\n",
    "  m_data['max_models']=model\n",
    "  m_data['run_time']=run_time\n",
    "  m_data['scale']=scale\n",
    "  m_data['classification']=classification\n",
    "  m_data['scale']=False\n",
    "  m_data['balance']=balance\n",
    "  m_data['balance_threshold']=balance_threshold\n",
    "  m_data['project'] =name\n",
    "  m_data['end_time'] = time.time()\n",
    "  m_data['execution_time'] = 0.0\n",
    "  m_data['nthreads'] = nthreads\n",
    "  m_data['min_mem_size'] = min_mem_size\n",
    "  m_data['analysis'] = analysis\n",
    "  return m_data\n",
    "\n",
    "\n",
    "def dict_to_json(dct,n):\n",
    "  j = json.dumps(dct, indent=4)\n",
    "  f = open(n, 'w')\n",
    "  print(j, file=f)\n",
    "  f.close()\n",
    "  \n",
    "  \n",
    "def stackedensemble(mod):\n",
    "    coef_norm=None\n",
    "    try:\n",
    "      metalearner = h2o.get_model(mod.metalearner()['name'])\n",
    "      coef_norm=metalearner.coef_norm()\n",
    "    except:\n",
    "      pass        \n",
    "    return coef_norm\n",
    "\n",
    "def stackedensemble_df(df):\n",
    "    bm_algo={ 'GBM': None,'GLM': None,'DRF': None,'XRT': None,'Dee': None}\n",
    "    for index, row in df.iterrows():\n",
    "      if len(row['model_id'])>3:\n",
    "        key=row['model_id'][0:3]\n",
    "        if key in bm_algo:\n",
    "          if bm_algo[key] is None:\n",
    "                bm_algo[key]=row['model_id']\n",
    "    bm=list(bm_algo.values()) \n",
    "    bm=list(filter(None.__ne__, bm))             \n",
    "    return bm\n",
    "\n",
    "def se_stats(modl):\n",
    "    d={}\n",
    "    d['algo']=modl.algo\n",
    "    d['model_id']=modl.model_id   \n",
    "    d['auc']=modl.auc()   \n",
    "    d['roc']=modl.roc()\n",
    "    d['mse']=modl.mse()   \n",
    "    d['null_degrees_of_freedom']=modl.null_degrees_of_freedom()\n",
    "    d['null_deviance']=modl.null_deviance()\n",
    "    d['residual_degrees_of_freedom']=modl.residual_degrees_of_freedom()   \n",
    "    d['residual_deviance']=modl.residual_deviance()\n",
    "    d['rmse']=modl.rmse()\n",
    "    return d\n",
    "\n",
    "def get_model_by_algo(algo,models_dict):\n",
    "    mod=None\n",
    "    mod_id=None    \n",
    "    for m in list(models_dict.keys()):\n",
    "        if m[0:3]==algo:\n",
    "            mod_id=m\n",
    "            mod=h2o.get_model(m)      \n",
    "    return mod,mod_id     \n",
    "    \n",
    "    \n",
    "def gbm_stats(modl):\n",
    "    d={}\n",
    "    d['algo']=modl.algo\n",
    "    d['model_id']=modl.model_id   \n",
    "    d['varimp']=modl.varimp()  \n",
    "    return d\n",
    "    \n",
    "    \n",
    "def dl_stats(modl):\n",
    "    d={}\n",
    "    d['algo']=modl.algo\n",
    "    d['model_id']=modl.model_id   \n",
    "    d['varimp']=modl.varimp()  \n",
    "    return d\n",
    "    \n",
    "    \n",
    "def drf_stats(modl):\n",
    "    d={}\n",
    "    d['algo']=modl.algo\n",
    "    d['model_id']=modl.model_id   \n",
    "    d['varimp']=modl.varimp()  \n",
    "    d['roc']=modl.roc()      \n",
    "    return d\n",
    "    \n",
    "def xrt_stats(modl):\n",
    "    d={}\n",
    "    d['algo']=modl.algo\n",
    "    d['model_id']=modl.model_id   \n",
    "    d['varimp']=modl.varimp()  \n",
    "    d['roc']=modl.roc()      \n",
    "    return d\n",
    "    \n",
    "    \n",
    "def glm_stats(modl):\n",
    "    d={}\n",
    "    d['algo']=modl.algo\n",
    "    d['model_id']=modl.model_id   \n",
    "    d['coef']=modl.coef()  \n",
    "    d['coef_norm']=modl.coef_norm()      \n",
    "    return d\n",
    "    \n",
    "def model_performance_stats(perf):\n",
    "    d={}\n",
    "    try:    \n",
    "      d['mse']=perf.mse()\n",
    "    except:\n",
    "      pass      \n",
    "    try:    \n",
    "      d['rmse']=perf.rmse() \n",
    "    except:\n",
    "      pass      \n",
    "    try:    \n",
    "      d['null_degrees_of_freedom']=perf.null_degrees_of_freedom()\n",
    "    except:\n",
    "      pass      \n",
    "    try:    \n",
    "      d['residual_degrees_of_freedom']=perf.residual_degrees_of_freedom()\n",
    "    except:\n",
    "      pass      \n",
    "    try:    \n",
    "      d['residual_deviance']=perf.residual_deviance() \n",
    "    except:\n",
    "      pass      \n",
    "    try:    \n",
    "      d['null_deviance']=perf.null_deviance() \n",
    "    except:\n",
    "      pass      \n",
    "    try:    \n",
    "      d['aic']=perf.aic() \n",
    "    except:\n",
    "      pass      \n",
    "    try:\n",
    "      d['logloss']=perf.logloss() \n",
    "    except:\n",
    "      pass    \n",
    "    try:\n",
    "      d['auc']=perf.auc()\n",
    "    except:\n",
    "      pass  \n",
    "    try:\n",
    "      d['gini']=perf.gini()\n",
    "    except:\n",
    "      pass    \n",
    "    return d\n",
    "    \n",
    "def impute_missing_values(df, x, scal=False):\n",
    "    # determine column types\n",
    "    ints, reals, enums = [], [], []\n",
    "    for key, val in df.types.items():\n",
    "        if key in x:\n",
    "            if val == 'enum':\n",
    "                enums.append(key)\n",
    "            elif val == 'int':\n",
    "                ints.append(key)            \n",
    "            else: \n",
    "                reals.append(key)    \n",
    "    _ = df[reals].impute(method='mean')\n",
    "    _ = df[ints].impute(method='median')\n",
    "    if scal:\n",
    "        df[reals] = df[reals].scale()\n",
    "        df[ints] = df[ints].scale()    \n",
    "    return\n",
    "\n",
    "\n",
    "def get_independent_variables(df, targ):\n",
    "    C = [name for name in df.columns if name != targ]\n",
    "    # determine column types\n",
    "    ints, reals, enums = [], [], []\n",
    "    for key, val in df.types.items():\n",
    "        if key in C:\n",
    "            if val == 'enum':\n",
    "                enums.append(key)\n",
    "            elif val == 'int':\n",
    "                ints.append(key)            \n",
    "            else: \n",
    "                reals.append(key)    \n",
    "    x=ints+enums+reals\n",
    "    return x\n",
    "    \n",
    "def get_all_variables_csv(i):\n",
    "    ivd={}\n",
    "    try:\n",
    "      iv = pd.read_csv(i,header=None)\n",
    "    except:\n",
    "      sys.exit(1)    \n",
    "    col=iv.values.tolist()[0]\n",
    "    dt=iv.values.tolist()[1]\n",
    "    i=0\n",
    "    for c in col:\n",
    "      ivd[c.strip()]=dt[i].strip()\n",
    "      i+=1        \n",
    "    return ivd\n",
    "    \n",
    "    \n",
    "\n",
    "def check_all_variables(df,dct,y=None):     \n",
    "    targ=list(dct.keys())     \n",
    "    for key, val in df.types.items():\n",
    "        if key in targ:\n",
    "          if dct[key] not in ['real','int','enum']:                      \n",
    "            targ.remove(key)  \n",
    "    for key, val in df.types.items():\n",
    "        if key in targ:            \n",
    "          if dct[key] != val:\n",
    "            print('convert ',key,' ',dct[key],' ',val)\n",
    "            if dct[key]=='enum':\n",
    "                try:\n",
    "                  df[key] = df[key].asfactor() \n",
    "                except:\n",
    "                  targ.remove(key)                 \n",
    "            if dct[key]=='int': \n",
    "                try:                \n",
    "                  df[key] = df[key].asnumeric() \n",
    "                except:\n",
    "                  targ.remove(key)                  \n",
    "            if dct[key]=='real':\n",
    "                try:                \n",
    "                  df[key] = df[key].asnumeric()  \n",
    "                except:\n",
    "                  targ.remove(key)                  \n",
    "    if y is None:\n",
    "      y=df.columns[-1] \n",
    "    if y in targ:\n",
    "      targ.remove(y)\n",
    "    else:\n",
    "      y=targ.pop()            \n",
    "    return targ    \n",
    "    \n",
    "def predictions(mod,data,run_id):\n",
    "    test = h2o.import_file(data)\n",
    "    mod_perf=mod_best.model_performance(test)\n",
    "              \n",
    "    stats_test={}\n",
    "    stats_test=model_performance_stats(mod_perf)\n",
    "\n",
    "    n=run_id+'_test_stats.json'\n",
    "    dict_to_json(stats_test,n) \n",
    "\n",
    "    try:    \n",
    "      cf=mod_perf.confusion_matrix(metrics=[\"f1\",\"f2\",\"f0point5\",\"accuracy\",\"precision\",\"recall\",\"specificity\",\"absolute_mcc\",\"min_per_class_accuracy\",\"mean_per_class_accuracy\"])\n",
    "      cf_df=cf[0].table.as_data_frame()\n",
    "      cf_df.to_csv(run_id+'_test_confusion_matrix.csv')\n",
    "    except:\n",
    "      pass\n",
    "\n",
    "    predictions = mod_best.predict(test)\n",
    "    predictions_df=test.cbind(predictions).as_data_frame() \n",
    "    predictions_df.to_csv(run_id+'_predictions.csv')\n",
    "    return\n",
    "\n",
    "def predictions_test(mod,test,run_id):\n",
    "    mod_perf=mod_best.model_performance(test)          \n",
    "    stats_test={}\n",
    "    stats_test=model_performance_stats(mod_perf)\n",
    "    n=run_id+'_test_stats.json'\n",
    "    dict_to_json(stats_test,n) \n",
    "    try:\n",
    "      cf=mod_perf.confusion_matrix(metrics=[\"f1\",\"f2\",\"f0point5\",\"accuracy\",\"precision\",\"recall\",\"specificity\",\"absolute_mcc\",\"min_per_class_accuracy\",\"mean_per_class_accuracy\"])\n",
    "      cf_df=cf[0].table.as_data_frame()\n",
    "      cf_df.to_csv(run_id+'_test_confusion_matrix.csv')\n",
    "    except:\n",
    "      pass\n",
    "    predictions = mod_best.predict(test)    \n",
    "    predictions_df=test.cbind(predictions).as_data_frame() \n",
    "    predictions_df.to_csv(run_id+'_predictions.csv')\n",
    "    return predictions\n",
    "\n",
    "def check_X(x,df):\n",
    "    for name in x:\n",
    "        if name not in df.columns:\n",
    "          x.remove(name)  \n",
    "    return x    \n",
    "    \n",
    "    \n",
    "def get_stacked_ensemble(lst):\n",
    "    se=None\n",
    "    for model in model_set:\n",
    "      if 'BestOfFamily' in model:\n",
    "        se=model\n",
    "    if se is None:     \n",
    "      for model in model_set:\n",
    "        if 'AllModels'in model:\n",
    "          se=model           \n",
    "    return se       \n",
    "    \n",
    "def get_variables_types(df):\n",
    "    d={}\n",
    "    for key, val in df.types.items():\n",
    "        d[key]=val           \n",
    "    return d    \n",
    "    \n",
    "#  End Functions"
   ]
  },
  {
   "cell_type": "code",
   "execution_count": 4,
   "metadata": {},
   "outputs": [],
   "source": [
    "# path to the dataset\n",
    "data_path='D:/NEU/Courses/BDIA/Assignments/Assignment 2/Data/mobile-price-classification/train.csv'"
   ]
  },
  {
   "cell_type": "code",
   "execution_count": 5,
   "metadata": {},
   "outputs": [],
   "source": [
    "data_path = os.path.join(os.path.abspath(os.curdir),data_path)"
   ]
  },
  {
   "cell_type": "code",
   "execution_count": 6,
   "metadata": {},
   "outputs": [],
   "source": [
    "all_variables=None"
   ]
  },
  {
   "cell_type": "code",
   "execution_count": 7,
   "metadata": {},
   "outputs": [
    {
     "name": "stdout",
     "output_type": "stream",
     "text": [
      "hP5Md7zaH\n"
     ]
    }
   ],
   "source": [
    "run_id=alphabet(9)\n",
    "# run_id to std out\n",
    "print (run_id) "
   ]
  },
  {
   "cell_type": "code",
   "execution_count": 8,
   "metadata": {},
   "outputs": [],
   "source": [
    "server_path=os.path.abspath(os.curdir)\n",
    "os.chdir(server_path) \n",
    "run_dir = os.path.join(server_path,run_id)\n",
    "os.mkdir(run_dir)\n",
    "os.chdir(run_dir) "
   ]
  },
  {
   "cell_type": "code",
   "execution_count": 9,
   "metadata": {},
   "outputs": [
    {
     "name": "stdout",
     "output_type": "stream",
     "text": [
      "Checking whether there is an H2O instance running at http://localhost:26224..... not found.\n",
      "Attempting to start a local H2O server...\n",
      "; Java HotSpot(TM) 64-Bit Server VM (build 25.181-b13, mixed mode)\n",
      "  Starting server from C:\\Users\\Dhruv Patel\\Anaconda3\\lib\\site-packages\\h2o\\backend\\bin\\h2o.jar\n",
      "  Ice root: C:\\Users\\DHRUVP~1\\AppData\\Local\\Temp\\tmpjcsa6p_o\n",
      "  JVM stdout: C:\\Users\\DHRUVP~1\\AppData\\Local\\Temp\\tmpjcsa6p_o\\h2o_Dhruv_Patel_started_from_python.out\n",
      "  JVM stderr: C:\\Users\\DHRUVP~1\\AppData\\Local\\Temp\\tmpjcsa6p_o\\h2o_Dhruv_Patel_started_from_python.err\n",
      "  Server is running at http://127.0.0.1:26224\n",
      "Connecting to H2O server at http://127.0.0.1:26224... successful.\n"
     ]
    },
    {
     "data": {
      "text/html": [
       "<div style=\"overflow:auto\"><table style=\"width:50%\"><tr><td>H2O cluster uptime:</td>\n",
       "<td>04 secs</td></tr>\n",
       "<tr><td>H2O cluster timezone:</td>\n",
       "<td>America/New_York</td></tr>\n",
       "<tr><td>H2O data parsing timezone:</td>\n",
       "<td>UTC</td></tr>\n",
       "<tr><td>H2O cluster version:</td>\n",
       "<td>3.20.0.8</td></tr>\n",
       "<tr><td>H2O cluster version age:</td>\n",
       "<td>29 days </td></tr>\n",
       "<tr><td>H2O cluster name:</td>\n",
       "<td>H2O_from_python_Dhruv_Patel_1wlc0g</td></tr>\n",
       "<tr><td>H2O cluster total nodes:</td>\n",
       "<td>1</td></tr>\n",
       "<tr><td>H2O cluster free memory:</td>\n",
       "<td>3.528 Gb</td></tr>\n",
       "<tr><td>H2O cluster total cores:</td>\n",
       "<td>8</td></tr>\n",
       "<tr><td>H2O cluster allowed cores:</td>\n",
       "<td>8</td></tr>\n",
       "<tr><td>H2O cluster status:</td>\n",
       "<td>accepting new members, healthy</td></tr>\n",
       "<tr><td>H2O connection url:</td>\n",
       "<td>http://127.0.0.1:26224</td></tr>\n",
       "<tr><td>H2O connection proxy:</td>\n",
       "<td>None</td></tr>\n",
       "<tr><td>H2O internal security:</td>\n",
       "<td>False</td></tr>\n",
       "<tr><td>H2O API Extensions:</td>\n",
       "<td>Algos, AutoML, Core V3, Core V4</td></tr>\n",
       "<tr><td>Python version:</td>\n",
       "<td>3.6.4 final</td></tr></table></div>"
      ],
      "text/plain": [
       "--------------------------  ----------------------------------\n",
       "H2O cluster uptime:         04 secs\n",
       "H2O cluster timezone:       America/New_York\n",
       "H2O data parsing timezone:  UTC\n",
       "H2O cluster version:        3.20.0.8\n",
       "H2O cluster version age:    29 days\n",
       "H2O cluster name:           H2O_from_python_Dhruv_Patel_1wlc0g\n",
       "H2O cluster total nodes:    1\n",
       "H2O cluster free memory:    3.528 Gb\n",
       "H2O cluster total cores:    8\n",
       "H2O cluster allowed cores:  8\n",
       "H2O cluster status:         accepting new members, healthy\n",
       "H2O connection url:         http://127.0.0.1:26224\n",
       "H2O connection proxy:\n",
       "H2O internal security:      False\n",
       "H2O API Extensions:         Algos, AutoML, Core V3, Core V4\n",
       "Python version:             3.6.4 final\n",
       "--------------------------  ----------------------------------"
      ]
     },
     "metadata": {},
     "output_type": "display_data"
    }
   ],
   "source": [
    "# 65535 Highest port no\n",
    "port_no=random.randint(5555,55555)\n",
    "#h2o.init(strict_version_check=False,min_mem_size_GB=min_mem_size,port=port_no)\n",
    "h2o.init(port=port_no)"
   ]
  },
  {
   "cell_type": "code",
   "execution_count": 10,
   "metadata": {},
   "outputs": [
    {
     "name": "stdout",
     "output_type": "stream",
     "text": [
      "{'run_id': 'hP5Md7zaH', 'start_time': 1540070909.099704, 'target': None, 'max_models': 9, 'run_time': 333, 'scale': False, 'classification': False, 'balance': False, 'balance_threshold': 0.2, 'project': None, 'end_time': 1540070909.099704, 'execution_time': 0.0, 'nthreads': 1, 'min_mem_size': 6, 'analysis': 0}\n"
     ]
    }
   ],
   "source": [
    "# meta data\n",
    "meta_data = set_meta_data(run_id,analysis,target,run_time,classification,scale,max_models,balance_y,balance_threshold,name,nthreads,min_mem_size)\n",
    "print(meta_data)  "
   ]
  },
  {
   "cell_type": "code",
   "execution_count": 11,
   "metadata": {},
   "outputs": [
    {
     "name": "stdout",
     "output_type": "stream",
     "text": [
      "D:/NEU/Courses/BDIA/Assignments/Assignment 2/Data/mobile-price-classification/train.csv\n"
     ]
    }
   ],
   "source": [
    "print(data_path)"
   ]
  },
  {
   "cell_type": "code",
   "execution_count": 12,
   "metadata": {},
   "outputs": [
    {
     "name": "stdout",
     "output_type": "stream",
     "text": [
      "Parse progress: |█████████████████████████████████████████████████████████| 100%\n"
     ]
    }
   ],
   "source": [
    "df = h2o.import_file(data_path)"
   ]
  },
  {
   "cell_type": "code",
   "execution_count": 13,
   "metadata": {},
   "outputs": [
    {
     "data": {
      "text/html": [
       "<table>\n",
       "<thead>\n",
       "<tr><th style=\"text-align: right;\">  battery_power</th><th style=\"text-align: right;\">  blue</th><th style=\"text-align: right;\">  clock_speed</th><th style=\"text-align: right;\">  dual_sim</th><th style=\"text-align: right;\">  fc</th><th style=\"text-align: right;\">  four_g</th><th style=\"text-align: right;\">  int_memory</th><th style=\"text-align: right;\">  m_dep</th><th style=\"text-align: right;\">  mobile_wt</th><th style=\"text-align: right;\">  n_cores</th><th style=\"text-align: right;\">  pc</th><th style=\"text-align: right;\">  px_height</th><th style=\"text-align: right;\">  px_width</th><th style=\"text-align: right;\">  ram</th><th style=\"text-align: right;\">  sc_h</th><th style=\"text-align: right;\">  sc_w</th><th style=\"text-align: right;\">  talk_time</th><th style=\"text-align: right;\">  three_g</th><th style=\"text-align: right;\">  touch_screen</th><th style=\"text-align: right;\">  wifi</th><th style=\"text-align: right;\">  price_range</th></tr>\n",
       "</thead>\n",
       "<tbody>\n",
       "<tr><td style=\"text-align: right;\">            842</td><td style=\"text-align: right;\">     0</td><td style=\"text-align: right;\">          2.2</td><td style=\"text-align: right;\">         0</td><td style=\"text-align: right;\">   1</td><td style=\"text-align: right;\">       0</td><td style=\"text-align: right;\">           7</td><td style=\"text-align: right;\">    0.6</td><td style=\"text-align: right;\">        188</td><td style=\"text-align: right;\">        2</td><td style=\"text-align: right;\">   2</td><td style=\"text-align: right;\">         20</td><td style=\"text-align: right;\">       756</td><td style=\"text-align: right;\"> 2549</td><td style=\"text-align: right;\">     9</td><td style=\"text-align: right;\">     7</td><td style=\"text-align: right;\">         19</td><td style=\"text-align: right;\">        0</td><td style=\"text-align: right;\">             0</td><td style=\"text-align: right;\">     1</td><td style=\"text-align: right;\">            1</td></tr>\n",
       "<tr><td style=\"text-align: right;\">           1021</td><td style=\"text-align: right;\">     1</td><td style=\"text-align: right;\">          0.5</td><td style=\"text-align: right;\">         1</td><td style=\"text-align: right;\">   0</td><td style=\"text-align: right;\">       1</td><td style=\"text-align: right;\">          53</td><td style=\"text-align: right;\">    0.7</td><td style=\"text-align: right;\">        136</td><td style=\"text-align: right;\">        3</td><td style=\"text-align: right;\">   6</td><td style=\"text-align: right;\">        905</td><td style=\"text-align: right;\">      1988</td><td style=\"text-align: right;\"> 2631</td><td style=\"text-align: right;\">    17</td><td style=\"text-align: right;\">     3</td><td style=\"text-align: right;\">          7</td><td style=\"text-align: right;\">        1</td><td style=\"text-align: right;\">             1</td><td style=\"text-align: right;\">     0</td><td style=\"text-align: right;\">            2</td></tr>\n",
       "<tr><td style=\"text-align: right;\">            563</td><td style=\"text-align: right;\">     1</td><td style=\"text-align: right;\">          0.5</td><td style=\"text-align: right;\">         1</td><td style=\"text-align: right;\">   2</td><td style=\"text-align: right;\">       1</td><td style=\"text-align: right;\">          41</td><td style=\"text-align: right;\">    0.9</td><td style=\"text-align: right;\">        145</td><td style=\"text-align: right;\">        5</td><td style=\"text-align: right;\">   6</td><td style=\"text-align: right;\">       1263</td><td style=\"text-align: right;\">      1716</td><td style=\"text-align: right;\"> 2603</td><td style=\"text-align: right;\">    11</td><td style=\"text-align: right;\">     2</td><td style=\"text-align: right;\">          9</td><td style=\"text-align: right;\">        1</td><td style=\"text-align: right;\">             1</td><td style=\"text-align: right;\">     0</td><td style=\"text-align: right;\">            2</td></tr>\n",
       "<tr><td style=\"text-align: right;\">            615</td><td style=\"text-align: right;\">     1</td><td style=\"text-align: right;\">          2.5</td><td style=\"text-align: right;\">         0</td><td style=\"text-align: right;\">   0</td><td style=\"text-align: right;\">       0</td><td style=\"text-align: right;\">          10</td><td style=\"text-align: right;\">    0.8</td><td style=\"text-align: right;\">        131</td><td style=\"text-align: right;\">        6</td><td style=\"text-align: right;\">   9</td><td style=\"text-align: right;\">       1216</td><td style=\"text-align: right;\">      1786</td><td style=\"text-align: right;\"> 2769</td><td style=\"text-align: right;\">    16</td><td style=\"text-align: right;\">     8</td><td style=\"text-align: right;\">         11</td><td style=\"text-align: right;\">        1</td><td style=\"text-align: right;\">             0</td><td style=\"text-align: right;\">     0</td><td style=\"text-align: right;\">            2</td></tr>\n",
       "<tr><td style=\"text-align: right;\">           1821</td><td style=\"text-align: right;\">     1</td><td style=\"text-align: right;\">          1.2</td><td style=\"text-align: right;\">         0</td><td style=\"text-align: right;\">  13</td><td style=\"text-align: right;\">       1</td><td style=\"text-align: right;\">          44</td><td style=\"text-align: right;\">    0.6</td><td style=\"text-align: right;\">        141</td><td style=\"text-align: right;\">        2</td><td style=\"text-align: right;\">  14</td><td style=\"text-align: right;\">       1208</td><td style=\"text-align: right;\">      1212</td><td style=\"text-align: right;\"> 1411</td><td style=\"text-align: right;\">     8</td><td style=\"text-align: right;\">     2</td><td style=\"text-align: right;\">         15</td><td style=\"text-align: right;\">        1</td><td style=\"text-align: right;\">             1</td><td style=\"text-align: right;\">     0</td><td style=\"text-align: right;\">            1</td></tr>\n",
       "<tr><td style=\"text-align: right;\">           1859</td><td style=\"text-align: right;\">     0</td><td style=\"text-align: right;\">          0.5</td><td style=\"text-align: right;\">         1</td><td style=\"text-align: right;\">   3</td><td style=\"text-align: right;\">       0</td><td style=\"text-align: right;\">          22</td><td style=\"text-align: right;\">    0.7</td><td style=\"text-align: right;\">        164</td><td style=\"text-align: right;\">        1</td><td style=\"text-align: right;\">   7</td><td style=\"text-align: right;\">       1004</td><td style=\"text-align: right;\">      1654</td><td style=\"text-align: right;\"> 1067</td><td style=\"text-align: right;\">    17</td><td style=\"text-align: right;\">     1</td><td style=\"text-align: right;\">         10</td><td style=\"text-align: right;\">        1</td><td style=\"text-align: right;\">             0</td><td style=\"text-align: right;\">     0</td><td style=\"text-align: right;\">            1</td></tr>\n",
       "<tr><td style=\"text-align: right;\">           1821</td><td style=\"text-align: right;\">     0</td><td style=\"text-align: right;\">          1.7</td><td style=\"text-align: right;\">         0</td><td style=\"text-align: right;\">   4</td><td style=\"text-align: right;\">       1</td><td style=\"text-align: right;\">          10</td><td style=\"text-align: right;\">    0.8</td><td style=\"text-align: right;\">        139</td><td style=\"text-align: right;\">        8</td><td style=\"text-align: right;\">  10</td><td style=\"text-align: right;\">        381</td><td style=\"text-align: right;\">      1018</td><td style=\"text-align: right;\"> 3220</td><td style=\"text-align: right;\">    13</td><td style=\"text-align: right;\">     8</td><td style=\"text-align: right;\">         18</td><td style=\"text-align: right;\">        1</td><td style=\"text-align: right;\">             0</td><td style=\"text-align: right;\">     1</td><td style=\"text-align: right;\">            3</td></tr>\n",
       "<tr><td style=\"text-align: right;\">           1954</td><td style=\"text-align: right;\">     0</td><td style=\"text-align: right;\">          0.5</td><td style=\"text-align: right;\">         1</td><td style=\"text-align: right;\">   0</td><td style=\"text-align: right;\">       0</td><td style=\"text-align: right;\">          24</td><td style=\"text-align: right;\">    0.8</td><td style=\"text-align: right;\">        187</td><td style=\"text-align: right;\">        4</td><td style=\"text-align: right;\">   0</td><td style=\"text-align: right;\">        512</td><td style=\"text-align: right;\">      1149</td><td style=\"text-align: right;\">  700</td><td style=\"text-align: right;\">    16</td><td style=\"text-align: right;\">     3</td><td style=\"text-align: right;\">          5</td><td style=\"text-align: right;\">        1</td><td style=\"text-align: right;\">             1</td><td style=\"text-align: right;\">     1</td><td style=\"text-align: right;\">            0</td></tr>\n",
       "<tr><td style=\"text-align: right;\">           1445</td><td style=\"text-align: right;\">     1</td><td style=\"text-align: right;\">          0.5</td><td style=\"text-align: right;\">         0</td><td style=\"text-align: right;\">   0</td><td style=\"text-align: right;\">       0</td><td style=\"text-align: right;\">          53</td><td style=\"text-align: right;\">    0.7</td><td style=\"text-align: right;\">        174</td><td style=\"text-align: right;\">        7</td><td style=\"text-align: right;\">  14</td><td style=\"text-align: right;\">        386</td><td style=\"text-align: right;\">       836</td><td style=\"text-align: right;\"> 1099</td><td style=\"text-align: right;\">    17</td><td style=\"text-align: right;\">     1</td><td style=\"text-align: right;\">         20</td><td style=\"text-align: right;\">        1</td><td style=\"text-align: right;\">             0</td><td style=\"text-align: right;\">     0</td><td style=\"text-align: right;\">            0</td></tr>\n",
       "<tr><td style=\"text-align: right;\">            509</td><td style=\"text-align: right;\">     1</td><td style=\"text-align: right;\">          0.6</td><td style=\"text-align: right;\">         1</td><td style=\"text-align: right;\">   2</td><td style=\"text-align: right;\">       1</td><td style=\"text-align: right;\">           9</td><td style=\"text-align: right;\">    0.1</td><td style=\"text-align: right;\">         93</td><td style=\"text-align: right;\">        5</td><td style=\"text-align: right;\">  15</td><td style=\"text-align: right;\">       1137</td><td style=\"text-align: right;\">      1224</td><td style=\"text-align: right;\">  513</td><td style=\"text-align: right;\">    19</td><td style=\"text-align: right;\">    10</td><td style=\"text-align: right;\">         12</td><td style=\"text-align: right;\">        1</td><td style=\"text-align: right;\">             0</td><td style=\"text-align: right;\">     0</td><td style=\"text-align: right;\">            0</td></tr>\n",
       "</tbody>\n",
       "</table>"
      ]
     },
     "metadata": {},
     "output_type": "display_data"
    },
    {
     "data": {
      "text/plain": []
     },
     "execution_count": 13,
     "metadata": {},
     "output_type": "execute_result"
    }
   ],
   "source": [
    "df.head()"
   ]
  },
  {
   "cell_type": "code",
   "execution_count": 14,
   "metadata": {},
   "outputs": [
    {
     "name": "stdout",
     "output_type": "stream",
     "text": [
      "Rows:2000\n",
      "Cols:21\n",
      "\n",
      "\n"
     ]
    },
    {
     "data": {
      "text/html": [
       "<table>\n",
       "<thead>\n",
       "<tr><th>       </th><th>battery_power     </th><th>blue              </th><th>clock_speed       </th><th>dual_sim         </th><th>fc               </th><th>four_g             </th><th>int_memory        </th><th>m_dep             </th><th>mobile_wt         </th><th>n_cores           </th><th>pc               </th><th>px_height        </th><th>px_width          </th><th>ram               </th><th>sc_h             </th><th>sc_w              </th><th>talk_time        </th><th>three_g            </th><th>touch_screen     </th><th>wifi              </th><th>price_range       </th></tr>\n",
       "</thead>\n",
       "<tbody>\n",
       "<tr><td>type   </td><td>int               </td><td>int               </td><td>real              </td><td>int              </td><td>int              </td><td>int                </td><td>int               </td><td>real              </td><td>int               </td><td>int               </td><td>int              </td><td>int              </td><td>int               </td><td>int               </td><td>int              </td><td>int               </td><td>int              </td><td>int                </td><td>int              </td><td>int               </td><td>int               </td></tr>\n",
       "<tr><td>mins   </td><td>501.0             </td><td>0.0               </td><td>0.5               </td><td>0.0              </td><td>0.0              </td><td>0.0                </td><td>2.0               </td><td>0.1               </td><td>80.0              </td><td>1.0               </td><td>0.0              </td><td>0.0              </td><td>500.0             </td><td>256.0             </td><td>5.0              </td><td>0.0               </td><td>2.0              </td><td>0.0                </td><td>0.0              </td><td>0.0               </td><td>0.0               </td></tr>\n",
       "<tr><td>mean   </td><td>1238.5185         </td><td>0.495             </td><td>1.52225           </td><td>0.5095           </td><td>4.3095           </td><td>0.5215             </td><td>32.046499999999995</td><td>0.50175           </td><td>140.249           </td><td>4.5205            </td><td>9.9165           </td><td>645.108          </td><td>1251.5155         </td><td>2124.213          </td><td>12.3065          </td><td>5.767             </td><td>11.011           </td><td>0.7615             </td><td>0.503            </td><td>0.507             </td><td>1.5               </td></tr>\n",
       "<tr><td>maxs   </td><td>1998.0            </td><td>1.0               </td><td>3.0               </td><td>1.0              </td><td>19.0             </td><td>1.0                </td><td>64.0              </td><td>1.0               </td><td>200.0             </td><td>8.0               </td><td>20.0             </td><td>1960.0           </td><td>1998.0            </td><td>3998.0            </td><td>19.0             </td><td>18.0              </td><td>20.0             </td><td>1.0                </td><td>1.0              </td><td>1.0               </td><td>3.0               </td></tr>\n",
       "<tr><td>sigma  </td><td>439.41820608353135</td><td>0.5001000400170075</td><td>0.8160042088950689</td><td>0.500034766175005</td><td>4.341443747983894</td><td>0.49966246736236386</td><td>18.14571495520686 </td><td>0.2884155496235116</td><td>35.399654896388355</td><td>2.2878367180426604</td><td>6.064314941347781</td><td>443.7808108064385</td><td>432.19944694633796</td><td>1084.7320436099494</td><td>4.213245004356305</td><td>4.3563976058264045</td><td>5.463955197766688</td><td>0.42627292231873126</td><td>0.500116044562674</td><td>0.5000760322381083</td><td>1.1183136021064612</td></tr>\n",
       "<tr><td>zeros  </td><td>0                 </td><td>1010              </td><td>0                 </td><td>981              </td><td>474              </td><td>957                </td><td>0                 </td><td>0                 </td><td>0                 </td><td>0                 </td><td>101              </td><td>2                </td><td>0                 </td><td>0                 </td><td>0                </td><td>180               </td><td>0                </td><td>477                </td><td>994              </td><td>986               </td><td>500               </td></tr>\n",
       "<tr><td>missing</td><td>0                 </td><td>0                 </td><td>0                 </td><td>0                </td><td>0                </td><td>0                  </td><td>0                 </td><td>0                 </td><td>0                 </td><td>0                 </td><td>0                </td><td>0                </td><td>0                 </td><td>0                 </td><td>0                </td><td>0                 </td><td>0                </td><td>0                  </td><td>0                </td><td>0                 </td><td>0                 </td></tr>\n",
       "<tr><td>0      </td><td>842.0             </td><td>0.0               </td><td>2.2               </td><td>0.0              </td><td>1.0              </td><td>0.0                </td><td>7.0               </td><td>0.6               </td><td>188.0             </td><td>2.0               </td><td>2.0              </td><td>20.0             </td><td>756.0             </td><td>2549.0            </td><td>9.0              </td><td>7.0               </td><td>19.0             </td><td>0.0                </td><td>0.0              </td><td>1.0               </td><td>1.0               </td></tr>\n",
       "<tr><td>1      </td><td>1021.0            </td><td>1.0               </td><td>0.5               </td><td>1.0              </td><td>0.0              </td><td>1.0                </td><td>53.0              </td><td>0.7               </td><td>136.0             </td><td>3.0               </td><td>6.0              </td><td>905.0            </td><td>1988.0            </td><td>2631.0            </td><td>17.0             </td><td>3.0               </td><td>7.0              </td><td>1.0                </td><td>1.0              </td><td>0.0               </td><td>2.0               </td></tr>\n",
       "<tr><td>2      </td><td>563.0             </td><td>1.0               </td><td>0.5               </td><td>1.0              </td><td>2.0              </td><td>1.0                </td><td>41.0              </td><td>0.9               </td><td>145.0             </td><td>5.0               </td><td>6.0              </td><td>1263.0           </td><td>1716.0            </td><td>2603.0            </td><td>11.0             </td><td>2.0               </td><td>9.0              </td><td>1.0                </td><td>1.0              </td><td>0.0               </td><td>2.0               </td></tr>\n",
       "<tr><td>3      </td><td>615.0             </td><td>1.0               </td><td>2.5               </td><td>0.0              </td><td>0.0              </td><td>0.0                </td><td>10.0              </td><td>0.8               </td><td>131.0             </td><td>6.0               </td><td>9.0              </td><td>1216.0           </td><td>1786.0            </td><td>2769.0            </td><td>16.0             </td><td>8.0               </td><td>11.0             </td><td>1.0                </td><td>0.0              </td><td>0.0               </td><td>2.0               </td></tr>\n",
       "<tr><td>4      </td><td>1821.0            </td><td>1.0               </td><td>1.2               </td><td>0.0              </td><td>13.0             </td><td>1.0                </td><td>44.0              </td><td>0.6               </td><td>141.0             </td><td>2.0               </td><td>14.0             </td><td>1208.0           </td><td>1212.0            </td><td>1411.0            </td><td>8.0              </td><td>2.0               </td><td>15.0             </td><td>1.0                </td><td>1.0              </td><td>0.0               </td><td>1.0               </td></tr>\n",
       "<tr><td>5      </td><td>1859.0            </td><td>0.0               </td><td>0.5               </td><td>1.0              </td><td>3.0              </td><td>0.0                </td><td>22.0              </td><td>0.7               </td><td>164.0             </td><td>1.0               </td><td>7.0              </td><td>1004.0           </td><td>1654.0            </td><td>1067.0            </td><td>17.0             </td><td>1.0               </td><td>10.0             </td><td>1.0                </td><td>0.0              </td><td>0.0               </td><td>1.0               </td></tr>\n",
       "<tr><td>6      </td><td>1821.0            </td><td>0.0               </td><td>1.7               </td><td>0.0              </td><td>4.0              </td><td>1.0                </td><td>10.0              </td><td>0.8               </td><td>139.0             </td><td>8.0               </td><td>10.0             </td><td>381.0            </td><td>1018.0            </td><td>3220.0            </td><td>13.0             </td><td>8.0               </td><td>18.0             </td><td>1.0                </td><td>0.0              </td><td>1.0               </td><td>3.0               </td></tr>\n",
       "<tr><td>7      </td><td>1954.0            </td><td>0.0               </td><td>0.5               </td><td>1.0              </td><td>0.0              </td><td>0.0                </td><td>24.0              </td><td>0.8               </td><td>187.0             </td><td>4.0               </td><td>0.0              </td><td>512.0            </td><td>1149.0            </td><td>700.0             </td><td>16.0             </td><td>3.0               </td><td>5.0              </td><td>1.0                </td><td>1.0              </td><td>1.0               </td><td>0.0               </td></tr>\n",
       "<tr><td>8      </td><td>1445.0            </td><td>1.0               </td><td>0.5               </td><td>0.0              </td><td>0.0              </td><td>0.0                </td><td>53.0              </td><td>0.7               </td><td>174.0             </td><td>7.0               </td><td>14.0             </td><td>386.0            </td><td>836.0             </td><td>1099.0            </td><td>17.0             </td><td>1.0               </td><td>20.0             </td><td>1.0                </td><td>0.0              </td><td>0.0               </td><td>0.0               </td></tr>\n",
       "<tr><td>9      </td><td>509.0             </td><td>1.0               </td><td>0.6               </td><td>1.0              </td><td>2.0              </td><td>1.0                </td><td>9.0               </td><td>0.1               </td><td>93.0              </td><td>5.0               </td><td>15.0             </td><td>1137.0           </td><td>1224.0            </td><td>513.0             </td><td>19.0             </td><td>10.0              </td><td>12.0             </td><td>1.0                </td><td>0.0              </td><td>0.0               </td><td>0.0               </td></tr>\n",
       "</tbody>\n",
       "</table>"
      ]
     },
     "metadata": {},
     "output_type": "display_data"
    }
   ],
   "source": [
    "df.describe()"
   ]
  },
  {
   "cell_type": "markdown",
   "metadata": {},
   "source": [
    "describe()[source]\n",
    "Generate an in-depth description of this H2OFrame.\n",
    "\n",
    "The description is a tabular print of the type, min, max, sigma, number of zeros, and number of missing elements for each H2OVec in this H2OFrame.\n",
    "\n",
    "Returns:\tNone (print to stdout) "
   ]
  },
  {
   "cell_type": "code",
   "execution_count": 15,
   "metadata": {},
   "outputs": [],
   "source": [
    "# dependent variable\n",
    "# assign target and inputs for classification or regression\n",
    "if target==None:\n",
    "  target=df.columns[9]   \n",
    "y = target"
   ]
  },
  {
   "cell_type": "code",
   "execution_count": 16,
   "metadata": {},
   "outputs": [
    {
     "name": "stdout",
     "output_type": "stream",
     "text": [
      "n_cores\n"
     ]
    }
   ],
   "source": [
    "print(y)"
   ]
  },
  {
   "cell_type": "code",
   "execution_count": 17,
   "metadata": {
    "scrolled": true
   },
   "outputs": [
    {
     "name": "stdout",
     "output_type": "stream",
     "text": [
      "None\n"
     ]
    }
   ],
   "source": [
    "print(all_variables)"
   ]
  },
  {
   "cell_type": "code",
   "execution_count": 18,
   "metadata": {},
   "outputs": [],
   "source": [
    "if all_variables is not None:\n",
    "  ivd=get_all_variables_csv(all_variables)\n",
    "  print(ivd)    \n",
    "  X=check_all_variables(df,ivd,y)\n",
    "  print(X)"
   ]
  },
  {
   "cell_type": "code",
   "execution_count": 19,
   "metadata": {},
   "outputs": [
    {
     "name": "stdout",
     "output_type": "stream",
     "text": [
      "Rows:2000\n",
      "Cols:21\n",
      "\n",
      "\n"
     ]
    },
    {
     "data": {
      "text/html": [
       "<table>\n",
       "<thead>\n",
       "<tr><th>       </th><th>battery_power     </th><th>blue              </th><th>clock_speed       </th><th>dual_sim         </th><th>fc               </th><th>four_g             </th><th>int_memory        </th><th>m_dep             </th><th>mobile_wt         </th><th>n_cores           </th><th>pc               </th><th>px_height        </th><th>px_width          </th><th>ram               </th><th>sc_h             </th><th>sc_w              </th><th>talk_time        </th><th>three_g            </th><th>touch_screen     </th><th>wifi              </th><th>price_range       </th></tr>\n",
       "</thead>\n",
       "<tbody>\n",
       "<tr><td>type   </td><td>int               </td><td>int               </td><td>real              </td><td>int              </td><td>int              </td><td>int                </td><td>int               </td><td>real              </td><td>int               </td><td>int               </td><td>int              </td><td>int              </td><td>int               </td><td>int               </td><td>int              </td><td>int               </td><td>int              </td><td>int                </td><td>int              </td><td>int               </td><td>int               </td></tr>\n",
       "<tr><td>mins   </td><td>501.0             </td><td>0.0               </td><td>0.5               </td><td>0.0              </td><td>0.0              </td><td>0.0                </td><td>2.0               </td><td>0.1               </td><td>80.0              </td><td>1.0               </td><td>0.0              </td><td>0.0              </td><td>500.0             </td><td>256.0             </td><td>5.0              </td><td>0.0               </td><td>2.0              </td><td>0.0                </td><td>0.0              </td><td>0.0               </td><td>0.0               </td></tr>\n",
       "<tr><td>mean   </td><td>1238.5185         </td><td>0.495             </td><td>1.52225           </td><td>0.5095           </td><td>4.3095           </td><td>0.5215             </td><td>32.046499999999995</td><td>0.50175           </td><td>140.249           </td><td>4.5205            </td><td>9.9165           </td><td>645.108          </td><td>1251.5155         </td><td>2124.213          </td><td>12.3065          </td><td>5.767             </td><td>11.011           </td><td>0.7615             </td><td>0.503            </td><td>0.507             </td><td>1.5               </td></tr>\n",
       "<tr><td>maxs   </td><td>1998.0            </td><td>1.0               </td><td>3.0               </td><td>1.0              </td><td>19.0             </td><td>1.0                </td><td>64.0              </td><td>1.0               </td><td>200.0             </td><td>8.0               </td><td>20.0             </td><td>1960.0           </td><td>1998.0            </td><td>3998.0            </td><td>19.0             </td><td>18.0              </td><td>20.0             </td><td>1.0                </td><td>1.0              </td><td>1.0               </td><td>3.0               </td></tr>\n",
       "<tr><td>sigma  </td><td>439.41820608353135</td><td>0.5001000400170075</td><td>0.8160042088950689</td><td>0.500034766175005</td><td>4.341443747983894</td><td>0.49966246736236386</td><td>18.14571495520686 </td><td>0.2884155496235116</td><td>35.399654896388355</td><td>2.2878367180426604</td><td>6.064314941347781</td><td>443.7808108064385</td><td>432.19944694633796</td><td>1084.7320436099494</td><td>4.213245004356305</td><td>4.3563976058264045</td><td>5.463955197766688</td><td>0.42627292231873126</td><td>0.500116044562674</td><td>0.5000760322381083</td><td>1.1183136021064612</td></tr>\n",
       "<tr><td>zeros  </td><td>0                 </td><td>1010              </td><td>0                 </td><td>981              </td><td>474              </td><td>957                </td><td>0                 </td><td>0                 </td><td>0                 </td><td>0                 </td><td>101              </td><td>2                </td><td>0                 </td><td>0                 </td><td>0                </td><td>180               </td><td>0                </td><td>477                </td><td>994              </td><td>986               </td><td>500               </td></tr>\n",
       "<tr><td>missing</td><td>0                 </td><td>0                 </td><td>0                 </td><td>0                </td><td>0                </td><td>0                  </td><td>0                 </td><td>0                 </td><td>0                 </td><td>0                 </td><td>0                </td><td>0                </td><td>0                 </td><td>0                 </td><td>0                </td><td>0                 </td><td>0                </td><td>0                  </td><td>0                </td><td>0                 </td><td>0                 </td></tr>\n",
       "<tr><td>0      </td><td>842.0             </td><td>0.0               </td><td>2.2               </td><td>0.0              </td><td>1.0              </td><td>0.0                </td><td>7.0               </td><td>0.6               </td><td>188.0             </td><td>2.0               </td><td>2.0              </td><td>20.0             </td><td>756.0             </td><td>2549.0            </td><td>9.0              </td><td>7.0               </td><td>19.0             </td><td>0.0                </td><td>0.0              </td><td>1.0               </td><td>1.0               </td></tr>\n",
       "<tr><td>1      </td><td>1021.0            </td><td>1.0               </td><td>0.5               </td><td>1.0              </td><td>0.0              </td><td>1.0                </td><td>53.0              </td><td>0.7               </td><td>136.0             </td><td>3.0               </td><td>6.0              </td><td>905.0            </td><td>1988.0            </td><td>2631.0            </td><td>17.0             </td><td>3.0               </td><td>7.0              </td><td>1.0                </td><td>1.0              </td><td>0.0               </td><td>2.0               </td></tr>\n",
       "<tr><td>2      </td><td>563.0             </td><td>1.0               </td><td>0.5               </td><td>1.0              </td><td>2.0              </td><td>1.0                </td><td>41.0              </td><td>0.9               </td><td>145.0             </td><td>5.0               </td><td>6.0              </td><td>1263.0           </td><td>1716.0            </td><td>2603.0            </td><td>11.0             </td><td>2.0               </td><td>9.0              </td><td>1.0                </td><td>1.0              </td><td>0.0               </td><td>2.0               </td></tr>\n",
       "<tr><td>3      </td><td>615.0             </td><td>1.0               </td><td>2.5               </td><td>0.0              </td><td>0.0              </td><td>0.0                </td><td>10.0              </td><td>0.8               </td><td>131.0             </td><td>6.0               </td><td>9.0              </td><td>1216.0           </td><td>1786.0            </td><td>2769.0            </td><td>16.0             </td><td>8.0               </td><td>11.0             </td><td>1.0                </td><td>0.0              </td><td>0.0               </td><td>2.0               </td></tr>\n",
       "<tr><td>4      </td><td>1821.0            </td><td>1.0               </td><td>1.2               </td><td>0.0              </td><td>13.0             </td><td>1.0                </td><td>44.0              </td><td>0.6               </td><td>141.0             </td><td>2.0               </td><td>14.0             </td><td>1208.0           </td><td>1212.0            </td><td>1411.0            </td><td>8.0              </td><td>2.0               </td><td>15.0             </td><td>1.0                </td><td>1.0              </td><td>0.0               </td><td>1.0               </td></tr>\n",
       "<tr><td>5      </td><td>1859.0            </td><td>0.0               </td><td>0.5               </td><td>1.0              </td><td>3.0              </td><td>0.0                </td><td>22.0              </td><td>0.7               </td><td>164.0             </td><td>1.0               </td><td>7.0              </td><td>1004.0           </td><td>1654.0            </td><td>1067.0            </td><td>17.0             </td><td>1.0               </td><td>10.0             </td><td>1.0                </td><td>0.0              </td><td>0.0               </td><td>1.0               </td></tr>\n",
       "<tr><td>6      </td><td>1821.0            </td><td>0.0               </td><td>1.7               </td><td>0.0              </td><td>4.0              </td><td>1.0                </td><td>10.0              </td><td>0.8               </td><td>139.0             </td><td>8.0               </td><td>10.0             </td><td>381.0            </td><td>1018.0            </td><td>3220.0            </td><td>13.0             </td><td>8.0               </td><td>18.0             </td><td>1.0                </td><td>0.0              </td><td>1.0               </td><td>3.0               </td></tr>\n",
       "<tr><td>7      </td><td>1954.0            </td><td>0.0               </td><td>0.5               </td><td>1.0              </td><td>0.0              </td><td>0.0                </td><td>24.0              </td><td>0.8               </td><td>187.0             </td><td>4.0               </td><td>0.0              </td><td>512.0            </td><td>1149.0            </td><td>700.0             </td><td>16.0             </td><td>3.0               </td><td>5.0              </td><td>1.0                </td><td>1.0              </td><td>1.0               </td><td>0.0               </td></tr>\n",
       "<tr><td>8      </td><td>1445.0            </td><td>1.0               </td><td>0.5               </td><td>0.0              </td><td>0.0              </td><td>0.0                </td><td>53.0              </td><td>0.7               </td><td>174.0             </td><td>7.0               </td><td>14.0             </td><td>386.0            </td><td>836.0             </td><td>1099.0            </td><td>17.0             </td><td>1.0               </td><td>20.0             </td><td>1.0                </td><td>0.0              </td><td>0.0               </td><td>0.0               </td></tr>\n",
       "<tr><td>9      </td><td>509.0             </td><td>1.0               </td><td>0.6               </td><td>1.0              </td><td>2.0              </td><td>1.0                </td><td>9.0               </td><td>0.1               </td><td>93.0              </td><td>5.0               </td><td>15.0             </td><td>1137.0           </td><td>1224.0            </td><td>513.0             </td><td>19.0             </td><td>10.0              </td><td>12.0             </td><td>1.0                </td><td>0.0              </td><td>0.0               </td><td>0.0               </td></tr>\n",
       "</tbody>\n",
       "</table>"
      ]
     },
     "metadata": {},
     "output_type": "display_data"
    }
   ],
   "source": [
    "df.describe()"
   ]
  },
  {
   "cell_type": "code",
   "execution_count": 20,
   "metadata": {},
   "outputs": [],
   "source": [
    "# independent variables\n",
    "\n",
    "X = []  \n",
    "if all_variables is None:\n",
    "  X=get_independent_variables(df, target)  \n",
    "else: \n",
    "  ivd=get_all_variables_csv(all_variables)    \n",
    "  X=check_all_variables(df, ivd)\n",
    "\n",
    "\n",
    "X=check_X(X,df)\n",
    "\n",
    "\n",
    "# Add independent variables\n",
    "\n",
    "meta_data['X']=X  \n",
    "\n",
    "\n",
    "# impute missing values\n",
    "\n",
    "_=impute_missing_values(df,X, scale)"
   ]
  },
  {
   "cell_type": "code",
   "execution_count": 21,
   "metadata": {},
   "outputs": [],
   "source": [
    "if analysis == 3:\n",
    "  classification=False\n",
    "elif analysis == 2:\n",
    "  classification=True\n",
    "elif analysis == 1:\n",
    "  classification=True"
   ]
  },
  {
   "cell_type": "code",
   "execution_count": 22,
   "metadata": {},
   "outputs": [
    {
     "name": "stdout",
     "output_type": "stream",
     "text": [
      "False\n"
     ]
    }
   ],
   "source": [
    "print(classification)"
   ]
  },
  {
   "cell_type": "code",
   "execution_count": 23,
   "metadata": {},
   "outputs": [],
   "source": [
    "# Force target to be factors\n",
    "# Only 'int' or 'string' are allowed for asfactor(), got Target (Total orders):real \n",
    "\n",
    "if classification:\n",
    "    df[y] = df[y].asfactor()"
   ]
  },
  {
   "cell_type": "code",
   "execution_count": 24,
   "metadata": {},
   "outputs": [],
   "source": [
    "def check_y(y,df):\n",
    "  ok=False\n",
    "  C = [name for name in df.columns if name == y]\n",
    "  for key, val in df.types.items():\n",
    "    if key in C:\n",
    "      if val in ['real','int','enum']:        \n",
    "        ok=True         \n",
    "  return ok, val   "
   ]
  },
  {
   "cell_type": "code",
   "execution_count": 25,
   "metadata": {},
   "outputs": [],
   "source": [
    "ok,val=check_y(y,df)"
   ]
  },
  {
   "cell_type": "code",
   "execution_count": 26,
   "metadata": {},
   "outputs": [
    {
     "name": "stdout",
     "output_type": "stream",
     "text": [
      "int\n"
     ]
    }
   ],
   "source": [
    "print(val)"
   ]
  },
  {
   "cell_type": "code",
   "execution_count": 27,
   "metadata": {},
   "outputs": [
    {
     "name": "stdout",
     "output_type": "stream",
     "text": [
      "True\n"
     ]
    }
   ],
   "source": [
    "print(ok)"
   ]
  },
  {
   "cell_type": "code",
   "execution_count": 28,
   "metadata": {},
   "outputs": [],
   "source": [
    "if val=='enum':\n",
    "    print(df[y].levels())"
   ]
  },
  {
   "cell_type": "code",
   "execution_count": 29,
   "metadata": {},
   "outputs": [
    {
     "name": "stdout",
     "output_type": "stream",
     "text": [
      "Rows:2000\n",
      "Cols:21\n",
      "\n",
      "\n"
     ]
    },
    {
     "data": {
      "text/html": [
       "<table>\n",
       "<thead>\n",
       "<tr><th>       </th><th>battery_power     </th><th>blue              </th><th>clock_speed       </th><th>dual_sim         </th><th>fc               </th><th>four_g             </th><th>int_memory        </th><th>m_dep             </th><th>mobile_wt         </th><th>n_cores           </th><th>pc               </th><th>px_height        </th><th>px_width          </th><th>ram               </th><th>sc_h             </th><th>sc_w              </th><th>talk_time        </th><th>three_g            </th><th>touch_screen     </th><th>wifi              </th><th>price_range       </th></tr>\n",
       "</thead>\n",
       "<tbody>\n",
       "<tr><td>type   </td><td>int               </td><td>int               </td><td>real              </td><td>int              </td><td>int              </td><td>int                </td><td>int               </td><td>real              </td><td>int               </td><td>int               </td><td>int              </td><td>int              </td><td>int               </td><td>int               </td><td>int              </td><td>int               </td><td>int              </td><td>int                </td><td>int              </td><td>int               </td><td>int               </td></tr>\n",
       "<tr><td>mins   </td><td>501.0             </td><td>0.0               </td><td>0.5               </td><td>0.0              </td><td>0.0              </td><td>0.0                </td><td>2.0               </td><td>0.1               </td><td>80.0              </td><td>1.0               </td><td>0.0              </td><td>0.0              </td><td>500.0             </td><td>256.0             </td><td>5.0              </td><td>0.0               </td><td>2.0              </td><td>0.0                </td><td>0.0              </td><td>0.0               </td><td>0.0               </td></tr>\n",
       "<tr><td>mean   </td><td>1238.5185         </td><td>0.495             </td><td>1.52225           </td><td>0.5095           </td><td>4.3095           </td><td>0.5215             </td><td>32.046499999999995</td><td>0.50175           </td><td>140.249           </td><td>4.5205            </td><td>9.9165           </td><td>645.108          </td><td>1251.5155         </td><td>2124.213          </td><td>12.3065          </td><td>5.767             </td><td>11.011           </td><td>0.7615             </td><td>0.503            </td><td>0.507             </td><td>1.5               </td></tr>\n",
       "<tr><td>maxs   </td><td>1998.0            </td><td>1.0               </td><td>3.0               </td><td>1.0              </td><td>19.0             </td><td>1.0                </td><td>64.0              </td><td>1.0               </td><td>200.0             </td><td>8.0               </td><td>20.0             </td><td>1960.0           </td><td>1998.0            </td><td>3998.0            </td><td>19.0             </td><td>18.0              </td><td>20.0             </td><td>1.0                </td><td>1.0              </td><td>1.0               </td><td>3.0               </td></tr>\n",
       "<tr><td>sigma  </td><td>439.41820608353135</td><td>0.5001000400170075</td><td>0.8160042088950689</td><td>0.500034766175005</td><td>4.341443747983894</td><td>0.49966246736236386</td><td>18.14571495520686 </td><td>0.2884155496235116</td><td>35.399654896388355</td><td>2.2878367180426604</td><td>6.064314941347781</td><td>443.7808108064385</td><td>432.19944694633796</td><td>1084.7320436099494</td><td>4.213245004356305</td><td>4.3563976058264045</td><td>5.463955197766688</td><td>0.42627292231873126</td><td>0.500116044562674</td><td>0.5000760322381083</td><td>1.1183136021064612</td></tr>\n",
       "<tr><td>zeros  </td><td>0                 </td><td>1010              </td><td>0                 </td><td>981              </td><td>474              </td><td>957                </td><td>0                 </td><td>0                 </td><td>0                 </td><td>0                 </td><td>101              </td><td>2                </td><td>0                 </td><td>0                 </td><td>0                </td><td>180               </td><td>0                </td><td>477                </td><td>994              </td><td>986               </td><td>500               </td></tr>\n",
       "<tr><td>missing</td><td>0                 </td><td>0                 </td><td>0                 </td><td>0                </td><td>0                </td><td>0                  </td><td>0                 </td><td>0                 </td><td>0                 </td><td>0                 </td><td>0                </td><td>0                </td><td>0                 </td><td>0                 </td><td>0                </td><td>0                 </td><td>0                </td><td>0                  </td><td>0                </td><td>0                 </td><td>0                 </td></tr>\n",
       "<tr><td>0      </td><td>842.0             </td><td>0.0               </td><td>2.2               </td><td>0.0              </td><td>1.0              </td><td>0.0                </td><td>7.0               </td><td>0.6               </td><td>188.0             </td><td>2.0               </td><td>2.0              </td><td>20.0             </td><td>756.0             </td><td>2549.0            </td><td>9.0              </td><td>7.0               </td><td>19.0             </td><td>0.0                </td><td>0.0              </td><td>1.0               </td><td>1.0               </td></tr>\n",
       "<tr><td>1      </td><td>1021.0            </td><td>1.0               </td><td>0.5               </td><td>1.0              </td><td>0.0              </td><td>1.0                </td><td>53.0              </td><td>0.7               </td><td>136.0             </td><td>3.0               </td><td>6.0              </td><td>905.0            </td><td>1988.0            </td><td>2631.0            </td><td>17.0             </td><td>3.0               </td><td>7.0              </td><td>1.0                </td><td>1.0              </td><td>0.0               </td><td>2.0               </td></tr>\n",
       "<tr><td>2      </td><td>563.0             </td><td>1.0               </td><td>0.5               </td><td>1.0              </td><td>2.0              </td><td>1.0                </td><td>41.0              </td><td>0.9               </td><td>145.0             </td><td>5.0               </td><td>6.0              </td><td>1263.0           </td><td>1716.0            </td><td>2603.0            </td><td>11.0             </td><td>2.0               </td><td>9.0              </td><td>1.0                </td><td>1.0              </td><td>0.0               </td><td>2.0               </td></tr>\n",
       "<tr><td>3      </td><td>615.0             </td><td>1.0               </td><td>2.5               </td><td>0.0              </td><td>0.0              </td><td>0.0                </td><td>10.0              </td><td>0.8               </td><td>131.0             </td><td>6.0               </td><td>9.0              </td><td>1216.0           </td><td>1786.0            </td><td>2769.0            </td><td>16.0             </td><td>8.0               </td><td>11.0             </td><td>1.0                </td><td>0.0              </td><td>0.0               </td><td>2.0               </td></tr>\n",
       "<tr><td>4      </td><td>1821.0            </td><td>1.0               </td><td>1.2               </td><td>0.0              </td><td>13.0             </td><td>1.0                </td><td>44.0              </td><td>0.6               </td><td>141.0             </td><td>2.0               </td><td>14.0             </td><td>1208.0           </td><td>1212.0            </td><td>1411.0            </td><td>8.0              </td><td>2.0               </td><td>15.0             </td><td>1.0                </td><td>1.0              </td><td>0.0               </td><td>1.0               </td></tr>\n",
       "<tr><td>5      </td><td>1859.0            </td><td>0.0               </td><td>0.5               </td><td>1.0              </td><td>3.0              </td><td>0.0                </td><td>22.0              </td><td>0.7               </td><td>164.0             </td><td>1.0               </td><td>7.0              </td><td>1004.0           </td><td>1654.0            </td><td>1067.0            </td><td>17.0             </td><td>1.0               </td><td>10.0             </td><td>1.0                </td><td>0.0              </td><td>0.0               </td><td>1.0               </td></tr>\n",
       "<tr><td>6      </td><td>1821.0            </td><td>0.0               </td><td>1.7               </td><td>0.0              </td><td>4.0              </td><td>1.0                </td><td>10.0              </td><td>0.8               </td><td>139.0             </td><td>8.0               </td><td>10.0             </td><td>381.0            </td><td>1018.0            </td><td>3220.0            </td><td>13.0             </td><td>8.0               </td><td>18.0             </td><td>1.0                </td><td>0.0              </td><td>1.0               </td><td>3.0               </td></tr>\n",
       "<tr><td>7      </td><td>1954.0            </td><td>0.0               </td><td>0.5               </td><td>1.0              </td><td>0.0              </td><td>0.0                </td><td>24.0              </td><td>0.8               </td><td>187.0             </td><td>4.0               </td><td>0.0              </td><td>512.0            </td><td>1149.0            </td><td>700.0             </td><td>16.0             </td><td>3.0               </td><td>5.0              </td><td>1.0                </td><td>1.0              </td><td>1.0               </td><td>0.0               </td></tr>\n",
       "<tr><td>8      </td><td>1445.0            </td><td>1.0               </td><td>0.5               </td><td>0.0              </td><td>0.0              </td><td>0.0                </td><td>53.0              </td><td>0.7               </td><td>174.0             </td><td>7.0               </td><td>14.0             </td><td>386.0            </td><td>836.0             </td><td>1099.0            </td><td>17.0             </td><td>1.0               </td><td>20.0             </td><td>1.0                </td><td>0.0              </td><td>0.0               </td><td>0.0               </td></tr>\n",
       "<tr><td>9      </td><td>509.0             </td><td>1.0               </td><td>0.6               </td><td>1.0              </td><td>2.0              </td><td>1.0                </td><td>9.0               </td><td>0.1               </td><td>93.0              </td><td>5.0               </td><td>15.0             </td><td>1137.0           </td><td>1224.0            </td><td>513.0             </td><td>19.0             </td><td>10.0              </td><td>12.0             </td><td>1.0                </td><td>0.0              </td><td>0.0               </td><td>0.0               </td></tr>\n",
       "</tbody>\n",
       "</table>"
      ]
     },
     "metadata": {},
     "output_type": "display_data"
    }
   ],
   "source": [
    "df.describe()"
   ]
  },
  {
   "cell_type": "code",
   "execution_count": 30,
   "metadata": {},
   "outputs": [
    {
     "data": {
      "text/plain": [
       "{'battery_power': 'int',\n",
       " 'blue': 'int',\n",
       " 'clock_speed': 'real',\n",
       " 'dual_sim': 'int',\n",
       " 'fc': 'int',\n",
       " 'four_g': 'int',\n",
       " 'int_memory': 'int',\n",
       " 'm_dep': 'real',\n",
       " 'mobile_wt': 'int',\n",
       " 'n_cores': 'int',\n",
       " 'pc': 'int',\n",
       " 'price_range': 'int',\n",
       " 'px_height': 'int',\n",
       " 'px_width': 'int',\n",
       " 'ram': 'int',\n",
       " 'sc_h': 'int',\n",
       " 'sc_w': 'int',\n",
       " 'talk_time': 'int',\n",
       " 'three_g': 'int',\n",
       " 'touch_screen': 'int',\n",
       " 'wifi': 'int'}"
      ]
     },
     "execution_count": 30,
     "metadata": {},
     "output_type": "execute_result"
    }
   ],
   "source": [
    "allV=get_variables_types(df)\n",
    "allV"
   ]
  },
  {
   "cell_type": "code",
   "execution_count": 31,
   "metadata": {},
   "outputs": [],
   "source": [
    "meta_data['variables']=allV"
   ]
  },
  {
   "cell_type": "code",
   "execution_count": 32,
   "metadata": {},
   "outputs": [],
   "source": [
    "# split into training and test for showing how to predict\n",
    "train, test = df.split_frame([0.9])"
   ]
  },
  {
   "cell_type": "code",
   "execution_count": 33,
   "metadata": {},
   "outputs": [],
   "source": [
    "# Set up AutoML\n",
    "\n",
    "aml = H2OAutoML(max_runtime_secs=run_time,project_name = name)"
   ]
  },
  {
   "cell_type": "code",
   "execution_count": 34,
   "metadata": {},
   "outputs": [],
   "source": [
    "model_start_time = time.time()"
   ]
  },
  {
   "cell_type": "code",
   "execution_count": 35,
   "metadata": {},
   "outputs": [
    {
     "name": "stdout",
     "output_type": "stream",
     "text": [
      "AutoML progress: |████████████████████████████████████████████████████████| 100%\n"
     ]
    }
   ],
   "source": [
    "aml.train(x=X,y=y,training_frame=train)"
   ]
  },
  {
   "cell_type": "code",
   "execution_count": 36,
   "metadata": {},
   "outputs": [],
   "source": [
    "meta_data['model_execution_time'] = time.time() - model_start_time"
   ]
  },
  {
   "cell_type": "code",
   "execution_count": 37,
   "metadata": {},
   "outputs": [],
   "source": [
    "# get leaderboard\n",
    "aml_leaderboard_df=aml.leaderboard.as_data_frame()"
   ]
  },
  {
   "cell_type": "code",
   "execution_count": 38,
   "metadata": {},
   "outputs": [
    {
     "data": {
      "text/html": [
       "<div>\n",
       "<style scoped>\n",
       "    .dataframe tbody tr th:only-of-type {\n",
       "        vertical-align: middle;\n",
       "    }\n",
       "\n",
       "    .dataframe tbody tr th {\n",
       "        vertical-align: top;\n",
       "    }\n",
       "\n",
       "    .dataframe thead th {\n",
       "        text-align: right;\n",
       "    }\n",
       "</style>\n",
       "<table border=\"1\" class=\"dataframe\">\n",
       "  <thead>\n",
       "    <tr style=\"text-align: right;\">\n",
       "      <th></th>\n",
       "      <th>model_id</th>\n",
       "      <th>mean_residual_deviance</th>\n",
       "      <th>rmse</th>\n",
       "      <th>mse</th>\n",
       "      <th>mae</th>\n",
       "      <th>rmsle</th>\n",
       "    </tr>\n",
       "  </thead>\n",
       "  <tbody>\n",
       "    <tr>\n",
       "      <th>0</th>\n",
       "      <td>StackedEnsemble_AllModels_0_AutoML_20181020_17...</td>\n",
       "      <td>5.174919</td>\n",
       "      <td>2.274845</td>\n",
       "      <td>5.174919</td>\n",
       "      <td>1.977001</td>\n",
       "      <td>0.489335</td>\n",
       "    </tr>\n",
       "    <tr>\n",
       "      <th>1</th>\n",
       "      <td>StackedEnsemble_BestOfFamily_0_AutoML_20181020...</td>\n",
       "      <td>5.178411</td>\n",
       "      <td>2.275612</td>\n",
       "      <td>5.178411</td>\n",
       "      <td>1.977239</td>\n",
       "      <td>0.489031</td>\n",
       "    </tr>\n",
       "    <tr>\n",
       "      <th>2</th>\n",
       "      <td>GBM_grid_0_AutoML_20181020_172830_model_7</td>\n",
       "      <td>5.193198</td>\n",
       "      <td>2.278859</td>\n",
       "      <td>5.193198</td>\n",
       "      <td>1.980053</td>\n",
       "      <td>0.489405</td>\n",
       "    </tr>\n",
       "    <tr>\n",
       "      <th>3</th>\n",
       "      <td>GBM_grid_0_AutoML_20181020_172830_model_6</td>\n",
       "      <td>5.194497</td>\n",
       "      <td>2.279144</td>\n",
       "      <td>5.194497</td>\n",
       "      <td>1.979520</td>\n",
       "      <td>0.489038</td>\n",
       "    </tr>\n",
       "    <tr>\n",
       "      <th>4</th>\n",
       "      <td>GLM_grid_0_AutoML_20181020_172830_model_0</td>\n",
       "      <td>5.195949</td>\n",
       "      <td>2.279462</td>\n",
       "      <td>5.195949</td>\n",
       "      <td>1.978335</td>\n",
       "      <td>0.489729</td>\n",
       "    </tr>\n",
       "    <tr>\n",
       "      <th>5</th>\n",
       "      <td>GBM_grid_0_AutoML_20181020_172830_model_5</td>\n",
       "      <td>5.197011</td>\n",
       "      <td>2.279695</td>\n",
       "      <td>5.197011</td>\n",
       "      <td>1.980826</td>\n",
       "      <td>0.489735</td>\n",
       "    </tr>\n",
       "    <tr>\n",
       "      <th>6</th>\n",
       "      <td>GBM_grid_0_AutoML_20181020_172830_model_8</td>\n",
       "      <td>5.197680</td>\n",
       "      <td>2.279842</td>\n",
       "      <td>5.197680</td>\n",
       "      <td>1.980992</td>\n",
       "      <td>0.489559</td>\n",
       "    </tr>\n",
       "    <tr>\n",
       "      <th>7</th>\n",
       "      <td>GBM_grid_0_AutoML_20181020_172830_model_4</td>\n",
       "      <td>5.254658</td>\n",
       "      <td>2.292304</td>\n",
       "      <td>5.254658</td>\n",
       "      <td>1.975534</td>\n",
       "      <td>0.490926</td>\n",
       "    </tr>\n",
       "    <tr>\n",
       "      <th>8</th>\n",
       "      <td>DeepLearning_0_AutoML_20181020_172830</td>\n",
       "      <td>5.388252</td>\n",
       "      <td>2.321261</td>\n",
       "      <td>5.388252</td>\n",
       "      <td>1.980579</td>\n",
       "      <td>0.493204</td>\n",
       "    </tr>\n",
       "    <tr>\n",
       "      <th>9</th>\n",
       "      <td>GBM_grid_0_AutoML_20181020_172830_model_2</td>\n",
       "      <td>5.529896</td>\n",
       "      <td>2.351573</td>\n",
       "      <td>5.529896</td>\n",
       "      <td>2.011546</td>\n",
       "      <td>0.498423</td>\n",
       "    </tr>\n",
       "    <tr>\n",
       "      <th>10</th>\n",
       "      <td>GBM_grid_0_AutoML_20181020_172830_model_0</td>\n",
       "      <td>5.541252</td>\n",
       "      <td>2.353986</td>\n",
       "      <td>5.541252</td>\n",
       "      <td>2.026412</td>\n",
       "      <td>0.499235</td>\n",
       "    </tr>\n",
       "    <tr>\n",
       "      <th>11</th>\n",
       "      <td>GBM_grid_0_AutoML_20181020_172830_model_1</td>\n",
       "      <td>5.548303</td>\n",
       "      <td>2.355484</td>\n",
       "      <td>5.548303</td>\n",
       "      <td>2.019954</td>\n",
       "      <td>0.499735</td>\n",
       "    </tr>\n",
       "    <tr>\n",
       "      <th>12</th>\n",
       "      <td>GBM_grid_0_AutoML_20181020_172830_model_3</td>\n",
       "      <td>5.604021</td>\n",
       "      <td>2.367281</td>\n",
       "      <td>5.604021</td>\n",
       "      <td>2.020858</td>\n",
       "      <td>0.501797</td>\n",
       "    </tr>\n",
       "    <tr>\n",
       "      <th>13</th>\n",
       "      <td>XRT_0_AutoML_20181020_172830</td>\n",
       "      <td>5.835961</td>\n",
       "      <td>2.415773</td>\n",
       "      <td>5.835961</td>\n",
       "      <td>2.046964</td>\n",
       "      <td>0.509848</td>\n",
       "    </tr>\n",
       "    <tr>\n",
       "      <th>14</th>\n",
       "      <td>DRF_0_AutoML_20181020_172830</td>\n",
       "      <td>5.852062</td>\n",
       "      <td>2.419104</td>\n",
       "      <td>5.852062</td>\n",
       "      <td>2.063163</td>\n",
       "      <td>0.508760</td>\n",
       "    </tr>\n",
       "    <tr>\n",
       "      <th>15</th>\n",
       "      <td>DeepLearning_grid_0_AutoML_20181020_172830_mod...</td>\n",
       "      <td>6.483714</td>\n",
       "      <td>2.546314</td>\n",
       "      <td>6.483714</td>\n",
       "      <td>2.126792</td>\n",
       "      <td>0.534903</td>\n",
       "    </tr>\n",
       "    <tr>\n",
       "      <th>16</th>\n",
       "      <td>DeepLearning_grid_0_AutoML_20181020_172830_mod...</td>\n",
       "      <td>7.790426</td>\n",
       "      <td>2.791133</td>\n",
       "      <td>7.790426</td>\n",
       "      <td>2.305564</td>\n",
       "      <td>NaN</td>\n",
       "    </tr>\n",
       "  </tbody>\n",
       "</table>\n",
       "</div>"
      ],
      "text/plain": [
       "                                             model_id  mean_residual_deviance  \\\n",
       "0   StackedEnsemble_AllModels_0_AutoML_20181020_17...                5.174919   \n",
       "1   StackedEnsemble_BestOfFamily_0_AutoML_20181020...                5.178411   \n",
       "2           GBM_grid_0_AutoML_20181020_172830_model_7                5.193198   \n",
       "3           GBM_grid_0_AutoML_20181020_172830_model_6                5.194497   \n",
       "4           GLM_grid_0_AutoML_20181020_172830_model_0                5.195949   \n",
       "5           GBM_grid_0_AutoML_20181020_172830_model_5                5.197011   \n",
       "6           GBM_grid_0_AutoML_20181020_172830_model_8                5.197680   \n",
       "7           GBM_grid_0_AutoML_20181020_172830_model_4                5.254658   \n",
       "8               DeepLearning_0_AutoML_20181020_172830                5.388252   \n",
       "9           GBM_grid_0_AutoML_20181020_172830_model_2                5.529896   \n",
       "10          GBM_grid_0_AutoML_20181020_172830_model_0                5.541252   \n",
       "11          GBM_grid_0_AutoML_20181020_172830_model_1                5.548303   \n",
       "12          GBM_grid_0_AutoML_20181020_172830_model_3                5.604021   \n",
       "13                       XRT_0_AutoML_20181020_172830                5.835961   \n",
       "14                       DRF_0_AutoML_20181020_172830                5.852062   \n",
       "15  DeepLearning_grid_0_AutoML_20181020_172830_mod...                6.483714   \n",
       "16  DeepLearning_grid_0_AutoML_20181020_172830_mod...                7.790426   \n",
       "\n",
       "        rmse       mse       mae     rmsle  \n",
       "0   2.274845  5.174919  1.977001  0.489335  \n",
       "1   2.275612  5.178411  1.977239  0.489031  \n",
       "2   2.278859  5.193198  1.980053  0.489405  \n",
       "3   2.279144  5.194497  1.979520  0.489038  \n",
       "4   2.279462  5.195949  1.978335  0.489729  \n",
       "5   2.279695  5.197011  1.980826  0.489735  \n",
       "6   2.279842  5.197680  1.980992  0.489559  \n",
       "7   2.292304  5.254658  1.975534  0.490926  \n",
       "8   2.321261  5.388252  1.980579  0.493204  \n",
       "9   2.351573  5.529896  2.011546  0.498423  \n",
       "10  2.353986  5.541252  2.026412  0.499235  \n",
       "11  2.355484  5.548303  2.019954  0.499735  \n",
       "12  2.367281  5.604021  2.020858  0.501797  \n",
       "13  2.415773  5.835961  2.046964  0.509848  \n",
       "14  2.419104  5.852062  2.063163  0.508760  \n",
       "15  2.546314  6.483714  2.126792  0.534903  \n",
       "16  2.791133  7.790426  2.305564       NaN  "
      ]
     },
     "execution_count": 38,
     "metadata": {},
     "output_type": "execute_result"
    }
   ],
   "source": [
    "aml_leaderboard_df"
   ]
  },
  {
   "cell_type": "code",
   "execution_count": 39,
   "metadata": {},
   "outputs": [],
   "source": [
    "# Start best model as first model\n",
    "\n",
    "model_set=aml_leaderboard_df['model_id']\n",
    "mod_best=h2o.get_model(model_set[0])"
   ]
  },
  {
   "cell_type": "code",
   "execution_count": 40,
   "metadata": {},
   "outputs": [
    {
     "data": {
      "text/plain": [
       "'StackedEnsemble_AllModels_0_AutoML_20181020_172830'"
      ]
     },
     "execution_count": 40,
     "metadata": {},
     "output_type": "execute_result"
    }
   ],
   "source": [
    "mod_best._id"
   ]
  },
  {
   "cell_type": "code",
   "execution_count": 41,
   "metadata": {},
   "outputs": [],
   "source": [
    "# Get stacked ensemble  \n",
    "se=get_stacked_ensemble(model_set)"
   ]
  },
  {
   "cell_type": "code",
   "execution_count": 42,
   "metadata": {},
   "outputs": [
    {
     "name": "stdout",
     "output_type": "stream",
     "text": [
      "StackedEnsemble_BestOfFamily_0_AutoML_20181020_172830\n"
     ]
    }
   ],
   "source": [
    "print(se)"
   ]
  },
  {
   "cell_type": "code",
   "execution_count": 43,
   "metadata": {},
   "outputs": [],
   "source": [
    "if se is not None:\n",
    "  mod_best=h2o.get_model(se)"
   ]
  },
  {
   "cell_type": "code",
   "execution_count": 44,
   "metadata": {},
   "outputs": [
    {
     "data": {
      "text/plain": [
       "'StackedEnsemble_BestOfFamily_0_AutoML_20181020_172830'"
      ]
     },
     "execution_count": 44,
     "metadata": {},
     "output_type": "execute_result"
    }
   ],
   "source": [
    "mod_best._id"
   ]
  },
  {
   "cell_type": "code",
   "execution_count": 45,
   "metadata": {},
   "outputs": [
    {
     "data": {
      "text/plain": [
       "<function h2o.model.model_base.ModelBase._get_metrics>"
      ]
     },
     "execution_count": 45,
     "metadata": {},
     "output_type": "execute_result"
    }
   ],
   "source": [
    "mod_best._get_metrics"
   ]
  },
  {
   "cell_type": "code",
   "execution_count": 46,
   "metadata": {},
   "outputs": [
    {
     "data": {
      "text/plain": [
       "h2o.estimators.stackedensemble.H2OStackedEnsembleEstimator"
      ]
     },
     "execution_count": 46,
     "metadata": {},
     "output_type": "execute_result"
    }
   ],
   "source": [
    "type(mod_best)"
   ]
  },
  {
   "cell_type": "code",
   "execution_count": 47,
   "metadata": {},
   "outputs": [
    {
     "name": "stdout",
     "output_type": "stream",
     "text": [
      "Model Details\n",
      "=============\n",
      "H2OStackedEnsembleEstimator :  Stacked Ensemble\n",
      "Model Key:  StackedEnsemble_BestOfFamily_0_AutoML_20181020_172830\n",
      "No model summary for this model\n",
      "\n",
      "\n",
      "ModelMetricsRegressionGLM: stackedensemble\n",
      "** Reported on train data. **\n",
      "\n",
      "MSE: 5.169644090361492\n",
      "RMSE: 2.273685134393391\n",
      "MAE: 1.9765147213419176\n",
      "RMSLE: 0.4887302833595799\n",
      "R^2: -4.440892098500626e-16\n",
      "Mean Residual Deviance: 5.169644090361492\n",
      "Null degrees of freedom: 1443\n",
      "Residual degrees of freedom: 1443\n",
      "Null deviance: 7464.966066481995\n",
      "Residual deviance: 7464.966066481995\n",
      "AIC: 6474.103235826635\n",
      "\n",
      "ModelMetricsRegressionGLM: stackedensemble\n",
      "** Reported on validation data. **\n",
      "\n",
      "MSE: 5.739928525388408\n",
      "RMSE: 2.3958147936325145\n",
      "MAE: 2.1025801345468937\n",
      "RMSLE: 0.5092164034438282\n",
      "R^2: -0.0040571817222332385\n",
      "Mean Residual Deviance: 5.739928525388408\n",
      "Null degrees of freedom: 349\n",
      "Residual degrees of freedom: 349\n",
      "Null deviance: 2008.974983885943\n",
      "Residual deviance: 2008.974983885943\n",
      "AIC: 1608.8633386241286\n",
      "\n",
      "ModelMetricsRegressionGLM: stackedensemble\n",
      "** Reported on cross-validation data. **\n",
      "\n",
      "MSE: 5.178410624026614\n",
      "RMSE: 2.2756121427050378\n",
      "MAE: 1.9772385088707283\n",
      "RMSLE: 0.48903090761450413\n",
      "R^2: -0.0016957712198153452\n",
      "Mean Residual Deviance: 5.178410624026614\n",
      "Null degrees of freedom: 1443\n",
      "Residual degrees of freedom: 1443\n",
      "Null deviance: 7477.624941094431\n",
      "Residual deviance: 7477.624941094431\n",
      "AIC: 6476.549855600152\n",
      "<bound method ModelBase.coef_norm of >\n"
     ]
    }
   ],
   "source": [
    "mods=mod_best.coef_norm\n",
    "print(mods)"
   ]
  },
  {
   "cell_type": "code",
   "execution_count": 48,
   "metadata": {},
   "outputs": [],
   "source": [
    "bm=stackedensemble_df(aml_leaderboard_df)"
   ]
  },
  {
   "cell_type": "code",
   "execution_count": 49,
   "metadata": {},
   "outputs": [
    {
     "data": {
      "text/plain": [
       "['GBM_grid_0_AutoML_20181020_172830_model_7',\n",
       " 'GLM_grid_0_AutoML_20181020_172830_model_0',\n",
       " 'DRF_0_AutoML_20181020_172830',\n",
       " 'XRT_0_AutoML_20181020_172830',\n",
       " 'DeepLearning_0_AutoML_20181020_172830']"
      ]
     },
     "execution_count": 49,
     "metadata": {},
     "output_type": "execute_result"
    }
   ],
   "source": [
    "bm"
   ]
  },
  {
   "cell_type": "code",
   "execution_count": 50,
   "metadata": {},
   "outputs": [
    {
     "data": {
      "text/html": [
       "<div>\n",
       "<style scoped>\n",
       "    .dataframe tbody tr th:only-of-type {\n",
       "        vertical-align: middle;\n",
       "    }\n",
       "\n",
       "    .dataframe tbody tr th {\n",
       "        vertical-align: top;\n",
       "    }\n",
       "\n",
       "    .dataframe thead th {\n",
       "        text-align: right;\n",
       "    }\n",
       "</style>\n",
       "<table border=\"1\" class=\"dataframe\">\n",
       "  <thead>\n",
       "    <tr style=\"text-align: right;\">\n",
       "      <th></th>\n",
       "      <th>model_id</th>\n",
       "      <th>mean_residual_deviance</th>\n",
       "      <th>rmse</th>\n",
       "      <th>mse</th>\n",
       "      <th>mae</th>\n",
       "      <th>rmsle</th>\n",
       "    </tr>\n",
       "  </thead>\n",
       "  <tbody>\n",
       "    <tr>\n",
       "      <th>0</th>\n",
       "      <td>StackedEnsemble_AllModels_0_AutoML_20181020_17...</td>\n",
       "      <td>5.174919</td>\n",
       "      <td>2.274845</td>\n",
       "      <td>5.174919</td>\n",
       "      <td>1.977001</td>\n",
       "      <td>0.489335</td>\n",
       "    </tr>\n",
       "    <tr>\n",
       "      <th>1</th>\n",
       "      <td>StackedEnsemble_BestOfFamily_0_AutoML_20181020...</td>\n",
       "      <td>5.178411</td>\n",
       "      <td>2.275612</td>\n",
       "      <td>5.178411</td>\n",
       "      <td>1.977239</td>\n",
       "      <td>0.489031</td>\n",
       "    </tr>\n",
       "    <tr>\n",
       "      <th>2</th>\n",
       "      <td>GBM_grid_0_AutoML_20181020_172830_model_7</td>\n",
       "      <td>5.193198</td>\n",
       "      <td>2.278859</td>\n",
       "      <td>5.193198</td>\n",
       "      <td>1.980053</td>\n",
       "      <td>0.489405</td>\n",
       "    </tr>\n",
       "    <tr>\n",
       "      <th>3</th>\n",
       "      <td>GBM_grid_0_AutoML_20181020_172830_model_6</td>\n",
       "      <td>5.194497</td>\n",
       "      <td>2.279144</td>\n",
       "      <td>5.194497</td>\n",
       "      <td>1.979520</td>\n",
       "      <td>0.489038</td>\n",
       "    </tr>\n",
       "    <tr>\n",
       "      <th>4</th>\n",
       "      <td>GLM_grid_0_AutoML_20181020_172830_model_0</td>\n",
       "      <td>5.195949</td>\n",
       "      <td>2.279462</td>\n",
       "      <td>5.195949</td>\n",
       "      <td>1.978335</td>\n",
       "      <td>0.489729</td>\n",
       "    </tr>\n",
       "    <tr>\n",
       "      <th>5</th>\n",
       "      <td>GBM_grid_0_AutoML_20181020_172830_model_5</td>\n",
       "      <td>5.197011</td>\n",
       "      <td>2.279695</td>\n",
       "      <td>5.197011</td>\n",
       "      <td>1.980826</td>\n",
       "      <td>0.489735</td>\n",
       "    </tr>\n",
       "    <tr>\n",
       "      <th>6</th>\n",
       "      <td>GBM_grid_0_AutoML_20181020_172830_model_8</td>\n",
       "      <td>5.197680</td>\n",
       "      <td>2.279842</td>\n",
       "      <td>5.197680</td>\n",
       "      <td>1.980992</td>\n",
       "      <td>0.489559</td>\n",
       "    </tr>\n",
       "    <tr>\n",
       "      <th>7</th>\n",
       "      <td>GBM_grid_0_AutoML_20181020_172830_model_4</td>\n",
       "      <td>5.254658</td>\n",
       "      <td>2.292304</td>\n",
       "      <td>5.254658</td>\n",
       "      <td>1.975534</td>\n",
       "      <td>0.490926</td>\n",
       "    </tr>\n",
       "    <tr>\n",
       "      <th>8</th>\n",
       "      <td>DeepLearning_0_AutoML_20181020_172830</td>\n",
       "      <td>5.388252</td>\n",
       "      <td>2.321261</td>\n",
       "      <td>5.388252</td>\n",
       "      <td>1.980579</td>\n",
       "      <td>0.493204</td>\n",
       "    </tr>\n",
       "    <tr>\n",
       "      <th>9</th>\n",
       "      <td>GBM_grid_0_AutoML_20181020_172830_model_2</td>\n",
       "      <td>5.529896</td>\n",
       "      <td>2.351573</td>\n",
       "      <td>5.529896</td>\n",
       "      <td>2.011546</td>\n",
       "      <td>0.498423</td>\n",
       "    </tr>\n",
       "    <tr>\n",
       "      <th>10</th>\n",
       "      <td>GBM_grid_0_AutoML_20181020_172830_model_0</td>\n",
       "      <td>5.541252</td>\n",
       "      <td>2.353986</td>\n",
       "      <td>5.541252</td>\n",
       "      <td>2.026412</td>\n",
       "      <td>0.499235</td>\n",
       "    </tr>\n",
       "    <tr>\n",
       "      <th>11</th>\n",
       "      <td>GBM_grid_0_AutoML_20181020_172830_model_1</td>\n",
       "      <td>5.548303</td>\n",
       "      <td>2.355484</td>\n",
       "      <td>5.548303</td>\n",
       "      <td>2.019954</td>\n",
       "      <td>0.499735</td>\n",
       "    </tr>\n",
       "    <tr>\n",
       "      <th>12</th>\n",
       "      <td>GBM_grid_0_AutoML_20181020_172830_model_3</td>\n",
       "      <td>5.604021</td>\n",
       "      <td>2.367281</td>\n",
       "      <td>5.604021</td>\n",
       "      <td>2.020858</td>\n",
       "      <td>0.501797</td>\n",
       "    </tr>\n",
       "    <tr>\n",
       "      <th>13</th>\n",
       "      <td>XRT_0_AutoML_20181020_172830</td>\n",
       "      <td>5.835961</td>\n",
       "      <td>2.415773</td>\n",
       "      <td>5.835961</td>\n",
       "      <td>2.046964</td>\n",
       "      <td>0.509848</td>\n",
       "    </tr>\n",
       "    <tr>\n",
       "      <th>14</th>\n",
       "      <td>DRF_0_AutoML_20181020_172830</td>\n",
       "      <td>5.852062</td>\n",
       "      <td>2.419104</td>\n",
       "      <td>5.852062</td>\n",
       "      <td>2.063163</td>\n",
       "      <td>0.508760</td>\n",
       "    </tr>\n",
       "    <tr>\n",
       "      <th>15</th>\n",
       "      <td>DeepLearning_grid_0_AutoML_20181020_172830_mod...</td>\n",
       "      <td>6.483714</td>\n",
       "      <td>2.546314</td>\n",
       "      <td>6.483714</td>\n",
       "      <td>2.126792</td>\n",
       "      <td>0.534903</td>\n",
       "    </tr>\n",
       "    <tr>\n",
       "      <th>16</th>\n",
       "      <td>DeepLearning_grid_0_AutoML_20181020_172830_mod...</td>\n",
       "      <td>7.790426</td>\n",
       "      <td>2.791133</td>\n",
       "      <td>7.790426</td>\n",
       "      <td>2.305564</td>\n",
       "      <td>NaN</td>\n",
       "    </tr>\n",
       "  </tbody>\n",
       "</table>\n",
       "</div>"
      ],
      "text/plain": [
       "                                             model_id  mean_residual_deviance  \\\n",
       "0   StackedEnsemble_AllModels_0_AutoML_20181020_17...                5.174919   \n",
       "1   StackedEnsemble_BestOfFamily_0_AutoML_20181020...                5.178411   \n",
       "2           GBM_grid_0_AutoML_20181020_172830_model_7                5.193198   \n",
       "3           GBM_grid_0_AutoML_20181020_172830_model_6                5.194497   \n",
       "4           GLM_grid_0_AutoML_20181020_172830_model_0                5.195949   \n",
       "5           GBM_grid_0_AutoML_20181020_172830_model_5                5.197011   \n",
       "6           GBM_grid_0_AutoML_20181020_172830_model_8                5.197680   \n",
       "7           GBM_grid_0_AutoML_20181020_172830_model_4                5.254658   \n",
       "8               DeepLearning_0_AutoML_20181020_172830                5.388252   \n",
       "9           GBM_grid_0_AutoML_20181020_172830_model_2                5.529896   \n",
       "10          GBM_grid_0_AutoML_20181020_172830_model_0                5.541252   \n",
       "11          GBM_grid_0_AutoML_20181020_172830_model_1                5.548303   \n",
       "12          GBM_grid_0_AutoML_20181020_172830_model_3                5.604021   \n",
       "13                       XRT_0_AutoML_20181020_172830                5.835961   \n",
       "14                       DRF_0_AutoML_20181020_172830                5.852062   \n",
       "15  DeepLearning_grid_0_AutoML_20181020_172830_mod...                6.483714   \n",
       "16  DeepLearning_grid_0_AutoML_20181020_172830_mod...                7.790426   \n",
       "\n",
       "        rmse       mse       mae     rmsle  \n",
       "0   2.274845  5.174919  1.977001  0.489335  \n",
       "1   2.275612  5.178411  1.977239  0.489031  \n",
       "2   2.278859  5.193198  1.980053  0.489405  \n",
       "3   2.279144  5.194497  1.979520  0.489038  \n",
       "4   2.279462  5.195949  1.978335  0.489729  \n",
       "5   2.279695  5.197011  1.980826  0.489735  \n",
       "6   2.279842  5.197680  1.980992  0.489559  \n",
       "7   2.292304  5.254658  1.975534  0.490926  \n",
       "8   2.321261  5.388252  1.980579  0.493204  \n",
       "9   2.351573  5.529896  2.011546  0.498423  \n",
       "10  2.353986  5.541252  2.026412  0.499235  \n",
       "11  2.355484  5.548303  2.019954  0.499735  \n",
       "12  2.367281  5.604021  2.020858  0.501797  \n",
       "13  2.415773  5.835961  2.046964  0.509848  \n",
       "14  2.419104  5.852062  2.063163  0.508760  \n",
       "15  2.546314  6.483714  2.126792  0.534903  \n",
       "16  2.791133  7.790426  2.305564       NaN  "
      ]
     },
     "execution_count": 50,
     "metadata": {},
     "output_type": "execute_result"
    }
   ],
   "source": [
    "aml_leaderboard_df"
   ]
  },
  {
   "cell_type": "code",
   "execution_count": 51,
   "metadata": {},
   "outputs": [],
   "source": [
    "#  Get best_models and coef_norm()\n",
    "best_models={}\n",
    "best_models=stackedensemble(mod_best)\n",
    "bm=[]\n",
    "if best_models is not None: \n",
    "  if 'Intercept' in best_models.keys():\n",
    "    del best_models['Intercept']\n",
    "  bm=list(best_models.keys())\n",
    "else:\n",
    "  best_models={}\n",
    "  bm=stackedensemble_df(aml_leaderboard_df)   \n",
    "  for b in bm:   \n",
    "    best_models[b]=None\n",
    "\n",
    "if mod_best.model_id not in bm:\n",
    "    bm.append(mod_best.model_id)"
   ]
  },
  {
   "cell_type": "code",
   "execution_count": 52,
   "metadata": {},
   "outputs": [
    {
     "data": {
      "text/plain": [
       "['GBM_grid_0_AutoML_20181020_172830_model_7',\n",
       " 'GLM_grid_0_AutoML_20181020_172830_model_0',\n",
       " 'DeepLearning_0_AutoML_20181020_172830',\n",
       " 'XRT_0_AutoML_20181020_172830',\n",
       " 'DRF_0_AutoML_20181020_172830',\n",
       " 'StackedEnsemble_BestOfFamily_0_AutoML_20181020_172830']"
      ]
     },
     "execution_count": 52,
     "metadata": {},
     "output_type": "execute_result"
    }
   ],
   "source": [
    "bm"
   ]
  },
  {
   "cell_type": "code",
   "execution_count": 53,
   "metadata": {},
   "outputs": [],
   "source": [
    "# Best of Family leaderboard\n",
    "\n",
    "aml_leaderboard_df=aml_leaderboard_df.loc[aml_leaderboard_df['model_id'].isin(bm)]\n"
   ]
  },
  {
   "cell_type": "code",
   "execution_count": 54,
   "metadata": {},
   "outputs": [
    {
     "data": {
      "text/html": [
       "<div>\n",
       "<style scoped>\n",
       "    .dataframe tbody tr th:only-of-type {\n",
       "        vertical-align: middle;\n",
       "    }\n",
       "\n",
       "    .dataframe tbody tr th {\n",
       "        vertical-align: top;\n",
       "    }\n",
       "\n",
       "    .dataframe thead th {\n",
       "        text-align: right;\n",
       "    }\n",
       "</style>\n",
       "<table border=\"1\" class=\"dataframe\">\n",
       "  <thead>\n",
       "    <tr style=\"text-align: right;\">\n",
       "      <th></th>\n",
       "      <th>model_id</th>\n",
       "      <th>mean_residual_deviance</th>\n",
       "      <th>rmse</th>\n",
       "      <th>mse</th>\n",
       "      <th>mae</th>\n",
       "      <th>rmsle</th>\n",
       "    </tr>\n",
       "  </thead>\n",
       "  <tbody>\n",
       "    <tr>\n",
       "      <th>1</th>\n",
       "      <td>StackedEnsemble_BestOfFamily_0_AutoML_20181020...</td>\n",
       "      <td>5.178411</td>\n",
       "      <td>2.275612</td>\n",
       "      <td>5.178411</td>\n",
       "      <td>1.977239</td>\n",
       "      <td>0.489031</td>\n",
       "    </tr>\n",
       "    <tr>\n",
       "      <th>2</th>\n",
       "      <td>GBM_grid_0_AutoML_20181020_172830_model_7</td>\n",
       "      <td>5.193198</td>\n",
       "      <td>2.278859</td>\n",
       "      <td>5.193198</td>\n",
       "      <td>1.980053</td>\n",
       "      <td>0.489405</td>\n",
       "    </tr>\n",
       "    <tr>\n",
       "      <th>4</th>\n",
       "      <td>GLM_grid_0_AutoML_20181020_172830_model_0</td>\n",
       "      <td>5.195949</td>\n",
       "      <td>2.279462</td>\n",
       "      <td>5.195949</td>\n",
       "      <td>1.978335</td>\n",
       "      <td>0.489729</td>\n",
       "    </tr>\n",
       "    <tr>\n",
       "      <th>8</th>\n",
       "      <td>DeepLearning_0_AutoML_20181020_172830</td>\n",
       "      <td>5.388252</td>\n",
       "      <td>2.321261</td>\n",
       "      <td>5.388252</td>\n",
       "      <td>1.980579</td>\n",
       "      <td>0.493204</td>\n",
       "    </tr>\n",
       "    <tr>\n",
       "      <th>13</th>\n",
       "      <td>XRT_0_AutoML_20181020_172830</td>\n",
       "      <td>5.835961</td>\n",
       "      <td>2.415773</td>\n",
       "      <td>5.835961</td>\n",
       "      <td>2.046964</td>\n",
       "      <td>0.509848</td>\n",
       "    </tr>\n",
       "    <tr>\n",
       "      <th>14</th>\n",
       "      <td>DRF_0_AutoML_20181020_172830</td>\n",
       "      <td>5.852062</td>\n",
       "      <td>2.419104</td>\n",
       "      <td>5.852062</td>\n",
       "      <td>2.063163</td>\n",
       "      <td>0.508760</td>\n",
       "    </tr>\n",
       "  </tbody>\n",
       "</table>\n",
       "</div>"
      ],
      "text/plain": [
       "                                             model_id  mean_residual_deviance  \\\n",
       "1   StackedEnsemble_BestOfFamily_0_AutoML_20181020...                5.178411   \n",
       "2           GBM_grid_0_AutoML_20181020_172830_model_7                5.193198   \n",
       "4           GLM_grid_0_AutoML_20181020_172830_model_0                5.195949   \n",
       "8               DeepLearning_0_AutoML_20181020_172830                5.388252   \n",
       "13                       XRT_0_AutoML_20181020_172830                5.835961   \n",
       "14                       DRF_0_AutoML_20181020_172830                5.852062   \n",
       "\n",
       "        rmse       mse       mae     rmsle  \n",
       "1   2.275612  5.178411  1.977239  0.489031  \n",
       "2   2.278859  5.193198  1.980053  0.489405  \n",
       "4   2.279462  5.195949  1.978335  0.489729  \n",
       "8   2.321261  5.388252  1.980579  0.493204  \n",
       "13  2.415773  5.835961  2.046964  0.509848  \n",
       "14  2.419104  5.852062  2.063163  0.508760  "
      ]
     },
     "execution_count": 54,
     "metadata": {},
     "output_type": "execute_result"
    }
   ],
   "source": [
    "aml_leaderboard_df"
   ]
  },
  {
   "cell_type": "code",
   "execution_count": 55,
   "metadata": {},
   "outputs": [],
   "source": [
    "# save leaderboard\n",
    "leaderboard_stats=run_id+'_leaderboard.csv'\n",
    "aml_leaderboard_df.to_csv(leaderboard_stats)"
   ]
  },
  {
   "cell_type": "code",
   "execution_count": 56,
   "metadata": {},
   "outputs": [
    {
     "name": "stdout",
     "output_type": "stream",
     "text": [
      "StackedEnsemble_BestOfFamily_0_AutoML_20181020_172830\n"
     ]
    }
   ],
   "source": [
    "top=aml_leaderboard_df.iloc[0]['model_id']\n",
    "print(top)"
   ]
  },
  {
   "cell_type": "code",
   "execution_count": 57,
   "metadata": {},
   "outputs": [
    {
     "name": "stdout",
     "output_type": "stream",
     "text": [
      "StackedEnsemble_BestOfFamily_0_AutoML_20181020_172830\n",
      "stackedensemble\n"
     ]
    }
   ],
   "source": [
    "mod_best=h2o.get_model(top)\n",
    "print(mod_best._id)\n",
    "print(mod_best.algo)"
   ]
  },
  {
   "cell_type": "code",
   "execution_count": 58,
   "metadata": {},
   "outputs": [],
   "source": [
    "meta_data['mod_best']=mod_best._id\n",
    "meta_data['mod_best_algo']=mod_best.algo"
   ]
  },
  {
   "cell_type": "code",
   "execution_count": 59,
   "metadata": {},
   "outputs": [],
   "source": [
    "meta_data['models']=bm"
   ]
  },
  {
   "cell_type": "code",
   "execution_count": 60,
   "metadata": {},
   "outputs": [],
   "source": [
    "models_path=os.path.join(run_dir,'models')\n",
    "for mod in bm:\n",
    "  try:   \n",
    "    m=h2o.get_model(mod) \n",
    "    h2o.save_model(m, path = models_path)\n",
    "  except:    \n",
    "    pass    "
   ]
  },
  {
   "cell_type": "code",
   "execution_count": 61,
   "metadata": {},
   "outputs": [
    {
     "name": "stdout",
     "output_type": "stream",
     "text": [
      "D:\\NEU\\Courses\\BDIA\\Assignments\\Assignment 2\\hP5Md7zaH\\models\n"
     ]
    }
   ],
   "source": [
    "print(models_path)"
   ]
  },
  {
   "cell_type": "code",
   "execution_count": 62,
   "metadata": {},
   "outputs": [
    {
     "name": "stdout",
     "output_type": "stream",
     "text": [
      "{'algo': 'gbm', 'model_id': 'GBM_grid_0_AutoML_20181020_172830_model_7', 'varimp': [('px_height', 7028.81787109375, 1.0, 0.11420495104010163), ('pc', 5496.73095703125, 0.7820277972540363, 0.08931144629739574), ('clock_speed', 5399.10009765625, 0.7681377148581742, 0.08772513011743333), ('int_memory', 4856.130859375, 0.6908887025435674, 0.07890291044814744), ('fc', 4407.79443359375, 0.627103236195798, 0.0716182943868304), ('mobile_wt', 4163.7998046875, 0.592389770378212, 0.06765384472270075), ('battery_power', 4156.42626953125, 0.5913407269556227, 0.06753403876998498), ('ram', 4063.203857421875, 0.5780778406753058, 0.06601935149169097), ('talk_time', 3871.221923828125, 0.5507642956219787, 0.06290000941614414), ('px_width', 3273.05517578125, 0.4656622544228667, 0.053180934967586836), ('sc_h', 3036.249267578125, 0.4319715382105435, 0.04933328837205251), ('sc_w', 2624.927734375, 0.3734522337205668, 0.04265009406787392), ('m_dep', 2491.302001953125, 0.35444110910864374, 0.04047892951235198), ('price_range', 2012.626708984375, 0.286339288610873, 0.03270136443666228), ('touch_screen', 1082.1844482421875, 0.1539639336356555, 0.017583443502801492), ('dual_sim', 944.4375610351562, 0.13436648642144897, 0.01534531800319206), ('blue', 757.1368408203125, 0.10771894430983384, 0.012302036760996006), ('four_g', 698.2748413085938, 0.09934456321315033, 0.011345640977858115), ('three_g', 616.5263061523438, 0.08771408186401143, 0.010017382424806891), ('wifi', 565.702392578125, 0.08048329078273533, 0.009191590283388552)]}\n"
     ]
    }
   ],
   "source": [
    "# GBM\n",
    " \n",
    "mod,mod_id=get_model_by_algo(\"GBM\",best_models)\n",
    "if mod is not None:\n",
    "    try:     \n",
    "        sh_df=mod.scoring_history()\n",
    "        sh_df.to_csv(run_id+'_gbm_scoring_history.csv') \n",
    "    except:\n",
    "        pass   \n",
    "    try:     \n",
    "        stats_gbm={}\n",
    "        stats_gbm=gbm_stats(mod)\n",
    "        n=run_id+'_gbm_stats.json'\n",
    "        dict_to_json(stats_gbm,n)\n",
    "        print(stats_gbm)\n",
    "    except:\n",
    "        pass        "
   ]
  },
  {
   "cell_type": "code",
   "execution_count": 63,
   "metadata": {},
   "outputs": [],
   "source": [
    "# DeepLearning\n",
    "\n",
    "mod,mod_id=get_model_by_algo(\"Dee\",best_models)\n"
   ]
  },
  {
   "cell_type": "code",
   "execution_count": 64,
   "metadata": {},
   "outputs": [
    {
     "name": "stdout",
     "output_type": "stream",
     "text": [
      "{'algo': 'deeplearning', 'model_id': 'DeepLearning_0_AutoML_20181020_172830', 'varimp': [('touch_screen', 1.0, 1.0, 0.07214651814955779), ('dual_sim', 0.9096181392669678, 0.9096181392669678, 0.06562578159379127), ('px_width', 0.8510831594467163, 0.8510831594467163, 0.0614026866098055), ('sc_h', 0.8263922333717346, 0.8263922333717346, 0.059621322263607446), ('ram', 0.8182283043861389, 0.8182283043861389, 0.059032323212876464), ('blue', 0.7713826298713684, 0.7713826298713684, 0.0556525709062683), ('mobile_wt', 0.7490721344947815, 0.7490721344947815, 0.05404294634665575), ('sc_w', 0.7292996644973755, 0.7292996644973755, 0.05261643148112631), ('m_dep', 0.7105474472045898, 0.7105474472045898, 0.0512635242958679), ('price_range', 0.708233118057251, 0.708233118057251, 0.05109655350603536), ('three_g', 0.6863301992416382, 0.6863301992416382, 0.049516334176176464), ('wifi', 0.6712936162948608, 0.6712936162948608, 0.04843149707169946), ('px_height', 0.6185309290885925, 0.6185309290885925, 0.044624852901552985), ('talk_time', 0.6071363687515259, 0.6071363687515259, 0.043802775047388574), ('fc', 0.5749512910842896, 0.5749512910842896, 0.04148073375732438), ('four_g', 0.5502721667289734, 0.5502721667289734, 0.03970022086410837), ('battery_power', 0.5467357039451599, 0.5467357039451599, 0.039445077387690736), ('int_memory', 0.5420451760292053, 0.5420451760292053, 0.03910667213027131), ('clock_speed', 0.5202991366386414, 0.5202991366386414, 0.03753777110469899), ('pc', 0.46923133730888367, 0.46923133730888367, 0.03385340719349665)]}\n"
     ]
    }
   ],
   "source": [
    "if mod is not None:\n",
    "    try:    \n",
    "        sh_df=mod.scoring_history()\n",
    "        sh_df.to_csv(run_id+'_dl_scoring_history.csv') \n",
    "    except:\n",
    "        pass \n",
    "    try:\n",
    "        stats_dl={}\n",
    "        stats_dl=dl_stats(mod)\n",
    "        n=run_id+'_dl_stats.json'\n",
    "        dict_to_json(stats_dl,n)\n",
    "        print(stats_dl)\n",
    "    except:\n",
    "        pass    \n",
    "    try:\n",
    "        cf=mod.confusion_matrix()    \n",
    "        cf_df.to_csv(run_id+'_dl_confusion_matrix.csv')\n",
    "    except:\n",
    "        pass       "
   ]
  },
  {
   "cell_type": "code",
   "execution_count": 65,
   "metadata": {},
   "outputs": [],
   "source": [
    "# DRF\n",
    "\n",
    "mod,mod_id=get_model_by_algo(\"DRF\",best_models)\n",
    "if mod is not None:\n",
    "    try:     \n",
    "         sh_df=mod.scoring_history()\n",
    "         sh_df.to_csv(run_id+'_drf_scoring_history.csv') \n",
    "    except:\n",
    "         pass  \n",
    "    try: \n",
    "         stats_drf={}\n",
    "         stats_drf=drf_stats(mod)\n",
    "         n=run_id+'_drf_stats.json'\n",
    "         dict_to_json(stats_drf,n)\n",
    "         print(stats_drf)\n",
    "    except:\n",
    "         pass     "
   ]
  },
  {
   "cell_type": "code",
   "execution_count": 66,
   "metadata": {},
   "outputs": [],
   "source": [
    "# XRT\n",
    "\n",
    "mod,mod_id=get_model_by_algo(\"XRT\",best_models)\n",
    "if mod is not None:\n",
    "    try:     \n",
    "         sh_df=mod.scoring_history()\n",
    "         sh_df.to_csv(run_id+'_xrt_scoring_history.csv')\n",
    "    except:\n",
    "         pass     \n",
    "    try:        \n",
    "         stats_xrt={}\n",
    "         stats_xrt=xrt_stats(mod)\n",
    "         n=run_id+'_xrt_stats.json'\n",
    "         dict_to_json(stats_xrt,n)\n",
    "         print(stats_xrt)\n",
    "    except:\n",
    "         pass     "
   ]
  },
  {
   "cell_type": "code",
   "execution_count": 67,
   "metadata": {},
   "outputs": [
    {
     "name": "stdout",
     "output_type": "stream",
     "text": [
      "{'algo': 'glm', 'model_id': 'GLM_grid_0_AutoML_20181020_172830_model_0', 'coef': {'Intercept': 4.644543896208602, 'battery_power': -1.2941745618992835e-05, 'blue': 0.09299396054845763, 'clock_speed': -0.020527496054044872, 'dual_sim': -0.021386370368850823, 'fc': -0.003200559064788291, 'four_g': -0.040522787261044045, 'int_memory': -0.0024485196375248447, 'm_dep': -0.04505097682719974, 'mobile_wt': 1.2224244116380691e-05, 'pc': 0.0016094763974965442, 'px_height': -5.198082002818878e-05, 'px_width': 3.774305657561911e-05, 'ram': -4.150604353124228e-06, 'sc_h': -0.0003144784623452394, 'sc_w': 0.004306119417154006, 'talk_time': -7.011335000716686e-05, 'three_g': -0.030760180618290174, 'touch_screen': 0.03032498876109736, 'wifi': -0.023409523309780102, 'price_range': -0.010729992127925685}, 'coef_norm': {'Intercept': 4.504847645429363, 'battery_power': -0.005728193584556362, 'blue': 0.04649149053177857, 'clock_speed': -0.01676783164370816, 'dual_sim': -0.010694580955277205, 'fc': -0.013841750768728225, 'four_g': -0.020259001435758865, 'int_memory': -0.04425725258651275, 'm_dep': -0.012974670844371199, 'mobile_wt': 0.0004362166665516358, 'pc': 0.00978594750250616, 'px_height': -0.023154229483886003, 'px_width': 0.016426880957920408, 'ram': -0.004527620257051802, 'sc_h': -0.0013131251003109287, 'sc_w': 0.018475036521796596, 'talk_time': -0.00037972619307373434, 'three_g': -0.013409178253869723, 'touch_screen': 0.015166292365527603, 'wifi': -0.011708771733379943, 'price_range': -0.012033736361917586}}\n"
     ]
    }
   ],
   "source": [
    "# GLM\n",
    "\n",
    "mod,mod_id=get_model_by_algo(\"GLM\",best_models)\n",
    "if mod is not None:\n",
    "    try:     \n",
    "         stats_glm={}\n",
    "         stats_glm=glm_stats(mod)\n",
    "         n=run_id+'_glm_stats.json'\n",
    "         dict_to_json(stats_glm,n)\n",
    "         print(stats_glm)\n",
    "    except:\n",
    "         pass     "
   ]
  },
  {
   "cell_type": "code",
   "execution_count": 68,
   "metadata": {},
   "outputs": [
    {
     "name": "stdout",
     "output_type": "stream",
     "text": [
      "stackedensemble prediction progress: |████████████████████████████████████| 100%\n"
     ]
    }
   ],
   "source": [
    "predictions_df=predictions_test(mod_best,test,run_id)"
   ]
  },
  {
   "cell_type": "code",
   "execution_count": 69,
   "metadata": {},
   "outputs": [
    {
     "data": {
      "text/html": [
       "<table>\n",
       "<thead>\n",
       "<tr><th style=\"text-align: right;\">  predict</th></tr>\n",
       "</thead>\n",
       "<tbody>\n",
       "<tr><td style=\"text-align: right;\">  4.50485</td></tr>\n",
       "<tr><td style=\"text-align: right;\">  4.50485</td></tr>\n",
       "<tr><td style=\"text-align: right;\">  4.50485</td></tr>\n",
       "<tr><td style=\"text-align: right;\">  4.50485</td></tr>\n",
       "<tr><td style=\"text-align: right;\">  4.50485</td></tr>\n",
       "<tr><td style=\"text-align: right;\">  4.50485</td></tr>\n",
       "<tr><td style=\"text-align: right;\">  4.50485</td></tr>\n",
       "<tr><td style=\"text-align: right;\">  4.50485</td></tr>\n",
       "<tr><td style=\"text-align: right;\">  4.50485</td></tr>\n",
       "<tr><td style=\"text-align: right;\">  4.50485</td></tr>\n",
       "</tbody>\n",
       "</table>"
      ]
     },
     "metadata": {},
     "output_type": "display_data"
    },
    {
     "data": {
      "text/plain": []
     },
     "execution_count": 69,
     "metadata": {},
     "output_type": "execute_result"
    }
   ],
   "source": [
    "predictions_df.head()"
   ]
  },
  {
   "cell_type": "code",
   "execution_count": 70,
   "metadata": {},
   "outputs": [
    {
     "name": "stdout",
     "output_type": "stream",
     "text": [
      "Rows:206\n",
      "Cols:1\n",
      "\n",
      "\n"
     ]
    },
    {
     "data": {
      "text/html": [
       "<table>\n",
       "<thead>\n",
       "<tr><th>       </th><th>predict              </th></tr>\n",
       "</thead>\n",
       "<tbody>\n",
       "<tr><td>type   </td><td>real                 </td></tr>\n",
       "<tr><td>mins   </td><td>4.504847645429363    </td></tr>\n",
       "<tr><td>mean   </td><td>4.504847645429363    </td></tr>\n",
       "<tr><td>maxs   </td><td>4.504847645429363    </td></tr>\n",
       "<tr><td>sigma  </td><td>4.261458876631728e-16</td></tr>\n",
       "<tr><td>zeros  </td><td>0                    </td></tr>\n",
       "<tr><td>missing</td><td>0                    </td></tr>\n",
       "<tr><td>0      </td><td>4.504847645429363    </td></tr>\n",
       "<tr><td>1      </td><td>4.504847645429363    </td></tr>\n",
       "<tr><td>2      </td><td>4.504847645429363    </td></tr>\n",
       "<tr><td>3      </td><td>4.504847645429363    </td></tr>\n",
       "<tr><td>4      </td><td>4.504847645429363    </td></tr>\n",
       "<tr><td>5      </td><td>4.504847645429363    </td></tr>\n",
       "<tr><td>6      </td><td>4.504847645429363    </td></tr>\n",
       "<tr><td>7      </td><td>4.504847645429363    </td></tr>\n",
       "<tr><td>8      </td><td>4.504847645429363    </td></tr>\n",
       "<tr><td>9      </td><td>4.504847645429363    </td></tr>\n",
       "</tbody>\n",
       "</table>"
      ]
     },
     "metadata": {},
     "output_type": "display_data"
    }
   ],
   "source": [
    "predictions_df.describe()"
   ]
  },
  {
   "cell_type": "code",
   "execution_count": 71,
   "metadata": {},
   "outputs": [],
   "source": [
    "# Update and save meta data\n",
    "\n",
    "meta_data['end_time'] = time.time()\n",
    "meta_data['execution_time'] = meta_data['end_time'] - meta_data['start_time']\n",
    "  \n",
    "n=run_id+'_meta_data.json'\n",
    "dict_to_json(meta_data,n)    \n"
   ]
  },
  {
   "cell_type": "code",
   "execution_count": 72,
   "metadata": {
    "scrolled": true
   },
   "outputs": [
    {
     "data": {
      "text/plain": [
       "{'X': ['battery_power',\n",
       "  'blue',\n",
       "  'dual_sim',\n",
       "  'fc',\n",
       "  'four_g',\n",
       "  'int_memory',\n",
       "  'mobile_wt',\n",
       "  'pc',\n",
       "  'px_height',\n",
       "  'px_width',\n",
       "  'ram',\n",
       "  'sc_h',\n",
       "  'sc_w',\n",
       "  'talk_time',\n",
       "  'three_g',\n",
       "  'touch_screen',\n",
       "  'wifi',\n",
       "  'price_range',\n",
       "  'clock_speed',\n",
       "  'm_dep'],\n",
       " 'analysis': 0,\n",
       " 'balance': False,\n",
       " 'balance_threshold': 0.2,\n",
       " 'classification': False,\n",
       " 'end_time': 1540071248.2577457,\n",
       " 'execution_time': 339.15804171562195,\n",
       " 'max_models': 9,\n",
       " 'min_mem_size': 6,\n",
       " 'mod_best': 'StackedEnsemble_BestOfFamily_0_AutoML_20181020_172830',\n",
       " 'mod_best_algo': 'stackedensemble',\n",
       " 'model_execution_time': 336.3078074455261,\n",
       " 'models': ['GBM_grid_0_AutoML_20181020_172830_model_7',\n",
       "  'GLM_grid_0_AutoML_20181020_172830_model_0',\n",
       "  'DeepLearning_0_AutoML_20181020_172830',\n",
       "  'XRT_0_AutoML_20181020_172830',\n",
       "  'DRF_0_AutoML_20181020_172830',\n",
       "  'StackedEnsemble_BestOfFamily_0_AutoML_20181020_172830'],\n",
       " 'nthreads': 1,\n",
       " 'project': None,\n",
       " 'run_id': 'hP5Md7zaH',\n",
       " 'run_time': 333,\n",
       " 'scale': False,\n",
       " 'start_time': 1540070909.099704,\n",
       " 'target': None,\n",
       " 'variables': {'battery_power': 'int',\n",
       "  'blue': 'int',\n",
       "  'clock_speed': 'real',\n",
       "  'dual_sim': 'int',\n",
       "  'fc': 'int',\n",
       "  'four_g': 'int',\n",
       "  'int_memory': 'int',\n",
       "  'm_dep': 'real',\n",
       "  'mobile_wt': 'int',\n",
       "  'n_cores': 'int',\n",
       "  'pc': 'int',\n",
       "  'price_range': 'int',\n",
       "  'px_height': 'int',\n",
       "  'px_width': 'int',\n",
       "  'ram': 'int',\n",
       "  'sc_h': 'int',\n",
       "  'sc_w': 'int',\n",
       "  'talk_time': 'int',\n",
       "  'three_g': 'int',\n",
       "  'touch_screen': 'int',\n",
       "  'wifi': 'int'}}"
      ]
     },
     "execution_count": 72,
     "metadata": {},
     "output_type": "execute_result"
    }
   ],
   "source": [
    "meta_data"
   ]
  },
  {
   "cell_type": "markdown",
   "metadata": {},
   "source": [
    "## Binary Classification:"
   ]
  },
  {
   "cell_type": "code",
   "execution_count": 75,
   "metadata": {
    "scrolled": true
   },
   "outputs": [
    {
     "data": {
      "text/html": [
       "<table>\n",
       "<thead>\n",
       "<tr><th style=\"text-align: right;\">  C1</th></tr>\n",
       "</thead>\n",
       "<tbody>\n",
       "<tr><td style=\"text-align: right;\">   0</td></tr>\n",
       "<tr><td style=\"text-align: right;\">   1</td></tr>\n",
       "</tbody>\n",
       "</table>"
      ]
     },
     "metadata": {},
     "output_type": "display_data"
    },
    {
     "data": {
      "text/plain": []
     },
     "execution_count": 75,
     "metadata": {},
     "output_type": "execute_result"
    }
   ],
   "source": [
    "#the column to be used \n",
    "df[\"dual_sim\"].unique()"
   ]
  },
  {
   "cell_type": "code",
   "execution_count": 76,
   "metadata": {},
   "outputs": [],
   "source": [
    "y = \"dual_sim\"\n",
    "x = df.columns\n",
    "x.remove(y)"
   ]
  },
  {
   "cell_type": "code",
   "execution_count": 78,
   "metadata": {},
   "outputs": [
    {
     "name": "stdout",
     "output_type": "stream",
     "text": [
      "AutoML progress: |████████████████████████████████████████████████████████| 100%\n"
     ]
    }
   ],
   "source": [
    "#Run AutoML\n",
    "aml = H2OAutoML(max_models = 10, seed = 1)\n",
    "aml.train(x = x, y = y, training_frame = train)"
   ]
  },
  {
   "cell_type": "code",
   "execution_count": 79,
   "metadata": {},
   "outputs": [],
   "source": [
    "lb = aml.leaderboard"
   ]
  },
  {
   "cell_type": "code",
   "execution_count": 80,
   "metadata": {},
   "outputs": [
    {
     "data": {
      "text/html": [
       "<table>\n",
       "<thead>\n",
       "<tr><th>model_id                                 </th><th style=\"text-align: right;\">  mean_residual_deviance</th><th style=\"text-align: right;\">    rmse</th><th style=\"text-align: right;\">     mse</th><th style=\"text-align: right;\">     mae</th><th style=\"text-align: right;\">   rmsle</th></tr>\n",
       "</thead>\n",
       "<tbody>\n",
       "<tr><td>GBM_grid_0_AutoML_20181020_175358_model_5</td><td style=\"text-align: right;\">                0.250054</td><td style=\"text-align: right;\">0.500054</td><td style=\"text-align: right;\">0.250054</td><td style=\"text-align: right;\">0.499879</td><td style=\"text-align: right;\">0.351513</td></tr>\n",
       "<tr><td>GLM_grid_0_AutoML_20181020_175358_model_0</td><td style=\"text-align: right;\">                0.250373</td><td style=\"text-align: right;\">0.500373</td><td style=\"text-align: right;\">0.250373</td><td style=\"text-align: right;\">0.499911</td><td style=\"text-align: right;\">0.351722</td></tr>\n",
       "<tr><td>GBM_grid_0_AutoML_20181020_175358_model_4</td><td style=\"text-align: right;\">                0.255379</td><td style=\"text-align: right;\">0.50535 </td><td style=\"text-align: right;\">0.255379</td><td style=\"text-align: right;\">0.500289</td><td style=\"text-align: right;\">0.354534</td></tr>\n",
       "<tr><td>GBM_grid_0_AutoML_20181020_175358_model_1</td><td style=\"text-align: right;\">                0.260155</td><td style=\"text-align: right;\">0.510053</td><td style=\"text-align: right;\">0.260155</td><td style=\"text-align: right;\">0.492845</td><td style=\"text-align: right;\">0.356936</td></tr>\n",
       "<tr><td>GBM_grid_0_AutoML_20181020_175358_model_0</td><td style=\"text-align: right;\">                0.261303</td><td style=\"text-align: right;\">0.511178</td><td style=\"text-align: right;\">0.261303</td><td style=\"text-align: right;\">0.495535</td><td style=\"text-align: right;\">0.357507</td></tr>\n",
       "<tr><td>DeepLearning_0_AutoML_20181020_175358    </td><td style=\"text-align: right;\">                0.26464 </td><td style=\"text-align: right;\">0.514431</td><td style=\"text-align: right;\">0.26464 </td><td style=\"text-align: right;\">0.494775</td><td style=\"text-align: right;\">0.362475</td></tr>\n",
       "<tr><td>GBM_grid_0_AutoML_20181020_175358_model_2</td><td style=\"text-align: right;\">                0.264709</td><td style=\"text-align: right;\">0.514499</td><td style=\"text-align: right;\">0.264709</td><td style=\"text-align: right;\">0.495251</td><td style=\"text-align: right;\">0.359607</td></tr>\n",
       "<tr><td>GBM_grid_0_AutoML_20181020_175358_model_3</td><td style=\"text-align: right;\">                0.269627</td><td style=\"text-align: right;\">0.519257</td><td style=\"text-align: right;\">0.269627</td><td style=\"text-align: right;\">0.496672</td><td style=\"text-align: right;\">0.362588</td></tr>\n",
       "<tr><td>XRT_0_AutoML_20181020_175358             </td><td style=\"text-align: right;\">                0.272755</td><td style=\"text-align: right;\">0.52226 </td><td style=\"text-align: right;\">0.272755</td><td style=\"text-align: right;\">0.497458</td><td style=\"text-align: right;\">0.364861</td></tr>\n",
       "<tr><td>DRF_0_AutoML_20181020_175358             </td><td style=\"text-align: right;\">                0.272853</td><td style=\"text-align: right;\">0.522354</td><td style=\"text-align: right;\">0.272853</td><td style=\"text-align: right;\">0.496458</td><td style=\"text-align: right;\">0.364917</td></tr>\n",
       "</tbody>\n",
       "</table>"
      ]
     },
     "metadata": {},
     "output_type": "display_data"
    },
    {
     "data": {
      "text/plain": []
     },
     "execution_count": 80,
     "metadata": {},
     "output_type": "execute_result"
    }
   ],
   "source": [
    "lb.head()"
   ]
  },
  {
   "cell_type": "code",
   "execution_count": 81,
   "metadata": {},
   "outputs": [
    {
     "data": {
      "text/html": [
       "<table>\n",
       "<thead>\n",
       "<tr><th>model_id                                             </th><th style=\"text-align: right;\">  mean_residual_deviance</th><th style=\"text-align: right;\">    rmse</th><th style=\"text-align: right;\">     mse</th><th style=\"text-align: right;\">     mae</th><th style=\"text-align: right;\">     rmsle</th></tr>\n",
       "</thead>\n",
       "<tbody>\n",
       "<tr><td>GBM_grid_0_AutoML_20181020_175358_model_5            </td><td style=\"text-align: right;\">                0.250054</td><td style=\"text-align: right;\">0.500054</td><td style=\"text-align: right;\">0.250054</td><td style=\"text-align: right;\">0.499879</td><td style=\"text-align: right;\">  0.351513</td></tr>\n",
       "<tr><td>GLM_grid_0_AutoML_20181020_175358_model_0            </td><td style=\"text-align: right;\">                0.250373</td><td style=\"text-align: right;\">0.500373</td><td style=\"text-align: right;\">0.250373</td><td style=\"text-align: right;\">0.499911</td><td style=\"text-align: right;\">  0.351722</td></tr>\n",
       "<tr><td>GBM_grid_0_AutoML_20181020_175358_model_4            </td><td style=\"text-align: right;\">                0.255379</td><td style=\"text-align: right;\">0.50535 </td><td style=\"text-align: right;\">0.255379</td><td style=\"text-align: right;\">0.500289</td><td style=\"text-align: right;\">  0.354534</td></tr>\n",
       "<tr><td>GBM_grid_0_AutoML_20181020_175358_model_1            </td><td style=\"text-align: right;\">                0.260155</td><td style=\"text-align: right;\">0.510053</td><td style=\"text-align: right;\">0.260155</td><td style=\"text-align: right;\">0.492845</td><td style=\"text-align: right;\">  0.356936</td></tr>\n",
       "<tr><td>GBM_grid_0_AutoML_20181020_175358_model_0            </td><td style=\"text-align: right;\">                0.261303</td><td style=\"text-align: right;\">0.511178</td><td style=\"text-align: right;\">0.261303</td><td style=\"text-align: right;\">0.495535</td><td style=\"text-align: right;\">  0.357507</td></tr>\n",
       "<tr><td>DeepLearning_0_AutoML_20181020_175358                </td><td style=\"text-align: right;\">                0.26464 </td><td style=\"text-align: right;\">0.514431</td><td style=\"text-align: right;\">0.26464 </td><td style=\"text-align: right;\">0.494775</td><td style=\"text-align: right;\">  0.362475</td></tr>\n",
       "<tr><td>GBM_grid_0_AutoML_20181020_175358_model_2            </td><td style=\"text-align: right;\">                0.264709</td><td style=\"text-align: right;\">0.514499</td><td style=\"text-align: right;\">0.264709</td><td style=\"text-align: right;\">0.495251</td><td style=\"text-align: right;\">  0.359607</td></tr>\n",
       "<tr><td>GBM_grid_0_AutoML_20181020_175358_model_3            </td><td style=\"text-align: right;\">                0.269627</td><td style=\"text-align: right;\">0.519257</td><td style=\"text-align: right;\">0.269627</td><td style=\"text-align: right;\">0.496672</td><td style=\"text-align: right;\">  0.362588</td></tr>\n",
       "<tr><td>XRT_0_AutoML_20181020_175358                         </td><td style=\"text-align: right;\">                0.272755</td><td style=\"text-align: right;\">0.52226 </td><td style=\"text-align: right;\">0.272755</td><td style=\"text-align: right;\">0.497458</td><td style=\"text-align: right;\">  0.364861</td></tr>\n",
       "<tr><td>DRF_0_AutoML_20181020_175358                         </td><td style=\"text-align: right;\">                0.272853</td><td style=\"text-align: right;\">0.522354</td><td style=\"text-align: right;\">0.272853</td><td style=\"text-align: right;\">0.496458</td><td style=\"text-align: right;\">  0.364917</td></tr>\n",
       "<tr><td>StackedEnsemble_AllModels_0_AutoML_20181020_172830   </td><td style=\"text-align: right;\">                5.17492 </td><td style=\"text-align: right;\">2.27484 </td><td style=\"text-align: right;\">5.17492 </td><td style=\"text-align: right;\">1.977   </td><td style=\"text-align: right;\">  0.489335</td></tr>\n",
       "<tr><td>StackedEnsemble_BestOfFamily_0_AutoML_20181020_172830</td><td style=\"text-align: right;\">                5.17841 </td><td style=\"text-align: right;\">2.27561 </td><td style=\"text-align: right;\">5.17841 </td><td style=\"text-align: right;\">1.97724 </td><td style=\"text-align: right;\">  0.489031</td></tr>\n",
       "<tr><td>GBM_grid_0_AutoML_20181020_172830_model_7            </td><td style=\"text-align: right;\">                5.1932  </td><td style=\"text-align: right;\">2.27886 </td><td style=\"text-align: right;\">5.1932  </td><td style=\"text-align: right;\">1.98005 </td><td style=\"text-align: right;\">  0.489405</td></tr>\n",
       "<tr><td>GBM_grid_0_AutoML_20181020_172830_model_6            </td><td style=\"text-align: right;\">                5.1945  </td><td style=\"text-align: right;\">2.27914 </td><td style=\"text-align: right;\">5.1945  </td><td style=\"text-align: right;\">1.97952 </td><td style=\"text-align: right;\">  0.489038</td></tr>\n",
       "<tr><td>GLM_grid_0_AutoML_20181020_172830_model_0            </td><td style=\"text-align: right;\">                5.19595 </td><td style=\"text-align: right;\">2.27946 </td><td style=\"text-align: right;\">5.19595 </td><td style=\"text-align: right;\">1.97834 </td><td style=\"text-align: right;\">  0.489729</td></tr>\n",
       "<tr><td>GBM_grid_0_AutoML_20181020_172830_model_5            </td><td style=\"text-align: right;\">                5.19701 </td><td style=\"text-align: right;\">2.2797  </td><td style=\"text-align: right;\">5.19701 </td><td style=\"text-align: right;\">1.98083 </td><td style=\"text-align: right;\">  0.489735</td></tr>\n",
       "<tr><td>GBM_grid_0_AutoML_20181020_172830_model_8            </td><td style=\"text-align: right;\">                5.19768 </td><td style=\"text-align: right;\">2.27984 </td><td style=\"text-align: right;\">5.19768 </td><td style=\"text-align: right;\">1.98099 </td><td style=\"text-align: right;\">  0.489559</td></tr>\n",
       "<tr><td>GBM_grid_0_AutoML_20181020_172830_model_4            </td><td style=\"text-align: right;\">                5.25466 </td><td style=\"text-align: right;\">2.2923  </td><td style=\"text-align: right;\">5.25466 </td><td style=\"text-align: right;\">1.97553 </td><td style=\"text-align: right;\">  0.490926</td></tr>\n",
       "<tr><td>DeepLearning_0_AutoML_20181020_172830                </td><td style=\"text-align: right;\">                5.38825 </td><td style=\"text-align: right;\">2.32126 </td><td style=\"text-align: right;\">5.38825 </td><td style=\"text-align: right;\">1.98058 </td><td style=\"text-align: right;\">  0.493204</td></tr>\n",
       "<tr><td>GBM_grid_0_AutoML_20181020_172830_model_2            </td><td style=\"text-align: right;\">                5.5299  </td><td style=\"text-align: right;\">2.35157 </td><td style=\"text-align: right;\">5.5299  </td><td style=\"text-align: right;\">2.01155 </td><td style=\"text-align: right;\">  0.498423</td></tr>\n",
       "<tr><td>GBM_grid_0_AutoML_20181020_172830_model_0            </td><td style=\"text-align: right;\">                5.54125 </td><td style=\"text-align: right;\">2.35399 </td><td style=\"text-align: right;\">5.54125 </td><td style=\"text-align: right;\">2.02641 </td><td style=\"text-align: right;\">  0.499235</td></tr>\n",
       "<tr><td>GBM_grid_0_AutoML_20181020_172830_model_1            </td><td style=\"text-align: right;\">                5.5483  </td><td style=\"text-align: right;\">2.35548 </td><td style=\"text-align: right;\">5.5483  </td><td style=\"text-align: right;\">2.01995 </td><td style=\"text-align: right;\">  0.499735</td></tr>\n",
       "<tr><td>GBM_grid_0_AutoML_20181020_172830_model_3            </td><td style=\"text-align: right;\">                5.60402 </td><td style=\"text-align: right;\">2.36728 </td><td style=\"text-align: right;\">5.60402 </td><td style=\"text-align: right;\">2.02086 </td><td style=\"text-align: right;\">  0.501797</td></tr>\n",
       "<tr><td>XRT_0_AutoML_20181020_172830                         </td><td style=\"text-align: right;\">                5.83596 </td><td style=\"text-align: right;\">2.41577 </td><td style=\"text-align: right;\">5.83596 </td><td style=\"text-align: right;\">2.04696 </td><td style=\"text-align: right;\">  0.509848</td></tr>\n",
       "<tr><td>DRF_0_AutoML_20181020_172830                         </td><td style=\"text-align: right;\">                5.85206 </td><td style=\"text-align: right;\">2.4191  </td><td style=\"text-align: right;\">5.85206 </td><td style=\"text-align: right;\">2.06316 </td><td style=\"text-align: right;\">  0.50876 </td></tr>\n",
       "<tr><td>DeepLearning_grid_0_AutoML_20181020_172830_model_0   </td><td style=\"text-align: right;\">                6.48371 </td><td style=\"text-align: right;\">2.54631 </td><td style=\"text-align: right;\">6.48371 </td><td style=\"text-align: right;\">2.12679 </td><td style=\"text-align: right;\">  0.534903</td></tr>\n",
       "<tr><td>DeepLearning_grid_0_AutoML_20181020_172830_model_1   </td><td style=\"text-align: right;\">                7.79043 </td><td style=\"text-align: right;\">2.79113 </td><td style=\"text-align: right;\">7.79043 </td><td style=\"text-align: right;\">2.30556 </td><td style=\"text-align: right;\">nan       </td></tr>\n",
       "</tbody>\n",
       "</table>"
      ]
     },
     "metadata": {},
     "output_type": "display_data"
    },
    {
     "data": {
      "text/plain": []
     },
     "execution_count": 81,
     "metadata": {},
     "output_type": "execute_result"
    }
   ],
   "source": [
    "lb.head(rows=lb.nrows)"
   ]
  },
  {
   "cell_type": "code",
   "execution_count": 89,
   "metadata": {},
   "outputs": [
    {
     "name": "stdout",
     "output_type": "stream",
     "text": [
      "No metalearner for this model\n"
     ]
    },
    {
     "ename": "TypeError",
     "evalue": "'NoneType' object is not subscriptable",
     "output_type": "error",
     "traceback": [
      "\u001b[1;31m---------------------------------------------------------------------------\u001b[0m",
      "\u001b[1;31mTypeError\u001b[0m                                 Traceback (most recent call last)",
      "\u001b[1;32m<ipython-input-89-7418111e12b3>\u001b[0m in \u001b[0;36m<module>\u001b[1;34m()\u001b[0m\n\u001b[0;32m      8\u001b[0m \u001b[0mse\u001b[0m \u001b[1;33m=\u001b[0m \u001b[0mh2o\u001b[0m\u001b[1;33m.\u001b[0m\u001b[0mget_model\u001b[0m\u001b[1;33m(\u001b[0m\u001b[1;33m[\u001b[0m\u001b[0mmid\u001b[0m \u001b[1;32mfor\u001b[0m \u001b[0mmid\u001b[0m \u001b[1;32min\u001b[0m \u001b[0mmodel_ids\u001b[0m \u001b[1;32mif\u001b[0m \u001b[1;34m\"StackedEnsemble_AllModels\"\u001b[0m \u001b[1;32min\u001b[0m \u001b[0mmid\u001b[0m\u001b[1;33m]\u001b[0m\u001b[1;33m[\u001b[0m\u001b[1;36m0\u001b[0m\u001b[1;33m]\u001b[0m\u001b[1;33m)\u001b[0m\u001b[1;33m\u001b[0m\u001b[0m\n\u001b[0;32m      9\u001b[0m \u001b[1;31m# Get the Stacked Ensemble metalearner model\u001b[0m\u001b[1;33m\u001b[0m\u001b[1;33m\u001b[0m\u001b[0m\n\u001b[1;32m---> 10\u001b[1;33m \u001b[0mmetalearner\u001b[0m \u001b[1;33m=\u001b[0m \u001b[0mh2o\u001b[0m\u001b[1;33m.\u001b[0m\u001b[0mget_model\u001b[0m\u001b[1;33m(\u001b[0m\u001b[0maml\u001b[0m\u001b[1;33m.\u001b[0m\u001b[0mleader\u001b[0m\u001b[1;33m.\u001b[0m\u001b[0mmetalearner\u001b[0m\u001b[1;33m(\u001b[0m\u001b[1;33m)\u001b[0m\u001b[1;33m[\u001b[0m\u001b[1;34m'name'\u001b[0m\u001b[1;33m]\u001b[0m\u001b[1;33m)\u001b[0m\u001b[1;33m\u001b[0m\u001b[0m\n\u001b[0m",
      "\u001b[1;31mTypeError\u001b[0m: 'NoneType' object is not subscriptable"
     ]
    }
   ],
   "source": [
    "#Ensemble Exploration\n",
    "#To understand how the ensemble works, let's take a peek inside the Stacked Ensemble \"All Models\" model. The \"All Models\" ensemble is an ensemble of all of the individual models in the AutoML run. This is often the top performing model on the leaderboard.\n",
    "\n",
    "\n",
    "# Get model ids for all models in the AutoML Leaderboard\n",
    "model_ids = list(aml.leaderboard['model_id'].as_data_frame().iloc[:,0])\n",
    "# Get the \"All Models\" Stacked Ensemble model\n",
    "se = h2o.get_model([mid for mid in model_ids if \"StackedEnsemble_AllModels\" in mid][0])\n",
    "# Get the Stacked Ensemble metalearner model\n",
    "metalearner = h2o.get_model(aml.leader.metalearner()['name'])"
   ]
  },
  {
   "cell_type": "code",
   "execution_count": 83,
   "metadata": {},
   "outputs": [
    {
     "ename": "NameError",
     "evalue": "name 'metalearner' is not defined",
     "output_type": "error",
     "traceback": [
      "\u001b[1;31m---------------------------------------------------------------------------\u001b[0m",
      "\u001b[1;31mNameError\u001b[0m                                 Traceback (most recent call last)",
      "\u001b[1;32m<ipython-input-83-06929019c10b>\u001b[0m in \u001b[0;36m<module>\u001b[1;34m()\u001b[0m\n\u001b[1;32m----> 1\u001b[1;33m \u001b[0mmetalearner\u001b[0m\u001b[1;33m.\u001b[0m\u001b[0mcoef_norm\u001b[0m\u001b[1;33m(\u001b[0m\u001b[1;33m)\u001b[0m\u001b[1;33m\u001b[0m\u001b[0m\n\u001b[0m",
      "\u001b[1;31mNameError\u001b[0m: name 'metalearner' is not defined"
     ]
    }
   ],
   "source": [
    "metalearner.coef_norm()"
   ]
  },
  {
   "cell_type": "code",
   "execution_count": 85,
   "metadata": {},
   "outputs": [
    {
     "ename": "NameError",
     "evalue": "name 'metalearner' is not defined",
     "output_type": "error",
     "traceback": [
      "\u001b[1;31m---------------------------------------------------------------------------\u001b[0m",
      "\u001b[1;31mNameError\u001b[0m                                 Traceback (most recent call last)",
      "\u001b[1;32m<ipython-input-85-4de9a5b8ade8>\u001b[0m in \u001b[0;36m<module>\u001b[1;34m()\u001b[0m\n\u001b[1;32m----> 1\u001b[1;33m \u001b[0mmetalearner\u001b[0m\u001b[1;33m.\u001b[0m\u001b[0mstd_coef_plot\u001b[0m\u001b[1;33m(\u001b[0m\u001b[1;33m)\u001b[0m\u001b[1;33m\u001b[0m\u001b[0m\n\u001b[0m",
      "\u001b[1;31mNameError\u001b[0m: name 'metalearner' is not defined"
     ]
    }
   ],
   "source": [
    "metalearner.std_coef_plot()"
   ]
  },
  {
   "cell_type": "code",
   "execution_count": null,
   "metadata": {},
   "outputs": [],
   "source": [
    "# Clean up\n",
    "os.chdir(server_path)"
   ]
  },
  {
   "cell_type": "code",
   "execution_count": null,
   "metadata": {
    "scrolled": true
   },
   "outputs": [],
   "source": [
    "h2o.cluster().shutdown()"
   ]
  }
 ],
 "metadata": {
  "kernelspec": {
   "display_name": "Python 3",
   "language": "python",
   "name": "python3"
  },
  "language_info": {
   "codemirror_mode": {
    "name": "ipython",
    "version": 3
   },
   "file_extension": ".py",
   "mimetype": "text/x-python",
   "name": "python",
   "nbconvert_exporter": "python",
   "pygments_lexer": "ipython3",
   "version": "3.6.4"
  }
 },
 "nbformat": 4,
 "nbformat_minor": 2
}
