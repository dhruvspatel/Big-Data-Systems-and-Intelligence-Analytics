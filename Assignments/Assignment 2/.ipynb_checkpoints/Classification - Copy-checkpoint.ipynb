{
 "cells": [
  {
   "cell_type": "markdown",
   "metadata": {},
   "source": [
    "# Binary and Multiclass Classification"
   ]
  },
  {
   "cell_type": "markdown",
   "metadata": {},
   "source": [
    "## Multiclass Classification:"
   ]
  },
  {
   "cell_type": "code",
   "execution_count": 1,
   "metadata": {},
   "outputs": [],
   "source": [
    "# import the required pacakges, here I have started out with h2o as it is the primary package used in this assignment\n",
    "import h2o\n",
    "from h2o.automl import H2OAutoML\n",
    "import random, os, sys\n",
    "from datetime import datetime\n",
    "import pandas as pd\n",
    "import logging\n",
    "import csv\n",
    "import optparse\n",
    "import time\n",
    "import json\n",
    "from distutils.util import strtobool\n",
    "import matplotlib.pyplot as plt"
   ]
  },
  {
   "cell_type": "markdown",
   "metadata": {},
   "source": [
    "Set up some parameters for the analysis.  "
   ]
  },
  {
   "cell_type": "code",
   "execution_count": 2,
   "metadata": {},
   "outputs": [],
   "source": [
    "# Defining variables to be used\n",
    "data_path=None\n",
    "all_variables=None\n",
    "test_path=None\n",
    "target=None\n",
    "nthreads=1 \n",
    "min_mem_size=6 \n",
    "run_time=333\n",
    "classification=False\n",
    "scale=False\n",
    "max_models=9    \n",
    "model_path=None\n",
    "balance_y=False \n",
    "balance_threshold=0.2\n",
    "name=None \n",
    "server_path=None  \n",
    "analysis=0 "
   ]
  },
  {
   "cell_type": "code",
   "execution_count": 3,
   "metadata": {},
   "outputs": [],
   "source": [
    "# Defining helper functions to guide me through the tasks\n",
    "\n",
    "def alphabet(n):\n",
    "  alpha='0123456789abcdefghijklmnopqrstuvwxyzABCDEFGHIJKLMNOPQRSTUVWXYZ'    \n",
    "  str=''\n",
    "  r=len(alpha)-1   \n",
    "  while len(str)<n:\n",
    "    i=random.randint(0,r)\n",
    "    str+=alpha[i]   \n",
    "  return str\n",
    "  \n",
    "  \n",
    "def set_meta_data(run_id,analysis,target,run_time,classification,scale,model,balance,balance_threshold,name,nthreads,min_mem_size):\n",
    "  m_data={}\n",
    "  m_data['run_id'] =run_id\n",
    "  m_data['start_time'] = time.time()\n",
    "  m_data['target']=target\n",
    "  m_data['max_models']=model\n",
    "  m_data['run_time']=run_time\n",
    "  m_data['scale']=scale\n",
    "  m_data['classification']=classification\n",
    "  m_data['scale']=False\n",
    "  m_data['balance']=balance\n",
    "  m_data['balance_threshold']=balance_threshold\n",
    "  m_data['project'] =name\n",
    "  m_data['end_time'] = time.time()\n",
    "  m_data['execution_time'] = 0.0\n",
    "  m_data['nthreads'] = nthreads\n",
    "  m_data['min_mem_size'] = min_mem_size\n",
    "  m_data['analysis'] = analysis\n",
    "  return m_data\n",
    "\n",
    "\n",
    "def dict_to_json(dct,n):\n",
    "  j = json.dumps(dct, indent=4)\n",
    "  f = open(n, 'w')\n",
    "  print(j, file=f)\n",
    "  f.close()\n",
    "  \n",
    "  \n",
    "def stackedensemble(mod):\n",
    "    coef_norm=None\n",
    "    try:\n",
    "      metalearner = h2o.get_model(mod.metalearner()['name'])\n",
    "      coef_norm=metalearner.coef_norm()\n",
    "    except:\n",
    "      pass        \n",
    "    return coef_norm\n",
    "\n",
    "def stackedensemble_df(df):\n",
    "    bm_algo={ 'GBM': None,'GLM': None,'DRF': None,'XRT': None,'Dee': None}\n",
    "    for index, row in df.iterrows():\n",
    "      if len(row['model_id'])>3:\n",
    "        key=row['model_id'][0:3]\n",
    "        if key in bm_algo:\n",
    "          if bm_algo[key] is None:\n",
    "                bm_algo[key]=row['model_id']\n",
    "    bm=list(bm_algo.values()) \n",
    "    bm=list(filter(None.__ne__, bm))             \n",
    "    return bm\n",
    "\n",
    "def se_stats(modl):\n",
    "    d={}\n",
    "    d['algo']=modl.algo\n",
    "    d['model_id']=modl.model_id   \n",
    "    d['auc']=modl.auc()   \n",
    "    d['roc']=modl.roc()\n",
    "    d['mse']=modl.mse()   \n",
    "    d['null_degrees_of_freedom']=modl.null_degrees_of_freedom()\n",
    "    d['null_deviance']=modl.null_deviance()\n",
    "    d['residual_degrees_of_freedom']=modl.residual_degrees_of_freedom()   \n",
    "    d['residual_deviance']=modl.residual_deviance()\n",
    "    d['rmse']=modl.rmse()\n",
    "    return d\n",
    "\n",
    "def get_model_by_algo(algo,models_dict):\n",
    "    mod=None\n",
    "    mod_id=None    \n",
    "    for m in list(models_dict.keys()):\n",
    "        if m[0:3]==algo:\n",
    "            mod_id=m\n",
    "            mod=h2o.get_model(m)      \n",
    "    return mod,mod_id     \n",
    "    \n",
    "    \n",
    "def gbm_stats(modl):\n",
    "    d={}\n",
    "    d['algo']=modl.algo\n",
    "    d['model_id']=modl.model_id   \n",
    "    d['varimp']=modl.varimp()  \n",
    "    return d\n",
    "    \n",
    "    \n",
    "def dl_stats(modl):\n",
    "    d={}\n",
    "    d['algo']=modl.algo\n",
    "    d['model_id']=modl.model_id   \n",
    "    d['varimp']=modl.varimp()  \n",
    "    return d\n",
    "    \n",
    "    \n",
    "def drf_stats(modl):\n",
    "    d={}\n",
    "    d['algo']=modl.algo\n",
    "    d['model_id']=modl.model_id   \n",
    "    d['varimp']=modl.varimp()  \n",
    "    d['roc']=modl.roc()      \n",
    "    return d\n",
    "    \n",
    "def xrt_stats(modl):\n",
    "    d={}\n",
    "    d['algo']=modl.algo\n",
    "    d['model_id']=modl.model_id   \n",
    "    d['varimp']=modl.varimp()  \n",
    "    d['roc']=modl.roc()      \n",
    "    return d\n",
    "    \n",
    "    \n",
    "def glm_stats(modl):\n",
    "    d={}\n",
    "    d['algo']=modl.algo\n",
    "    d['model_id']=modl.model_id   \n",
    "    d['coef']=modl.coef()  \n",
    "    d['coef_norm']=modl.coef_norm()      \n",
    "    return d\n",
    "    \n",
    "def model_performance_stats(perf):\n",
    "    d={}\n",
    "    try:    \n",
    "      d['mse']=perf.mse()\n",
    "    except:\n",
    "      pass      \n",
    "    try:    \n",
    "      d['rmse']=perf.rmse() \n",
    "    except:\n",
    "      pass      \n",
    "    try:    \n",
    "      d['null_degrees_of_freedom']=perf.null_degrees_of_freedom()\n",
    "    except:\n",
    "      pass      \n",
    "    try:    \n",
    "      d['residual_degrees_of_freedom']=perf.residual_degrees_of_freedom()\n",
    "    except:\n",
    "      pass      \n",
    "    try:    \n",
    "      d['residual_deviance']=perf.residual_deviance() \n",
    "    except:\n",
    "      pass      \n",
    "    try:    \n",
    "      d['null_deviance']=perf.null_deviance() \n",
    "    except:\n",
    "      pass      \n",
    "    try:    \n",
    "      d['aic']=perf.aic() \n",
    "    except:\n",
    "      pass      \n",
    "    try:\n",
    "      d['logloss']=perf.logloss() \n",
    "    except:\n",
    "      pass    \n",
    "    try:\n",
    "      d['auc']=perf.auc()\n",
    "    except:\n",
    "      pass  \n",
    "    try:\n",
    "      d['gini']=perf.gini()\n",
    "    except:\n",
    "      pass    \n",
    "    return d\n",
    "    \n",
    "def impute_missing_values(df, x, scal=False):\n",
    "    # determine column types\n",
    "    ints, reals, enums = [], [], []\n",
    "    for key, val in df.types.items():\n",
    "        if key in x:\n",
    "            if val == 'enum':\n",
    "                enums.append(key)\n",
    "            elif val == 'int':\n",
    "                ints.append(key)            \n",
    "            else: \n",
    "                reals.append(key)    \n",
    "    _ = df[reals].impute(method='mean')\n",
    "    _ = df[ints].impute(method='median')\n",
    "    if scal:\n",
    "        df[reals] = df[reals].scale()\n",
    "        df[ints] = df[ints].scale()    \n",
    "    return\n",
    "\n",
    "\n",
    "def get_independent_variables(df, targ):\n",
    "    C = [name for name in df.columns if name != targ]\n",
    "    # determine column types\n",
    "    ints, reals, enums = [], [], []\n",
    "    for key, val in df.types.items():\n",
    "        if key in C:\n",
    "            if val == 'enum':\n",
    "                enums.append(key)\n",
    "            elif val == 'int':\n",
    "                ints.append(key)            \n",
    "            else: \n",
    "                reals.append(key)    \n",
    "    x=ints+enums+reals\n",
    "    return x\n",
    "    \n",
    "def get_all_variables_csv(i):\n",
    "    ivd={}\n",
    "    try:\n",
    "      iv = pd.read_csv(i,header=None)\n",
    "    except:\n",
    "      sys.exit(1)    \n",
    "    col=iv.values.tolist()[0]\n",
    "    dt=iv.values.tolist()[1]\n",
    "    i=0\n",
    "    for c in col:\n",
    "      ivd[c.strip()]=dt[i].strip()\n",
    "      i+=1        \n",
    "    return ivd\n",
    "    \n",
    "    \n",
    "\n",
    "def check_all_variables(df,dct,y=None):     \n",
    "    targ=list(dct.keys())     \n",
    "    for key, val in df.types.items():\n",
    "        if key in targ:\n",
    "          if dct[key] not in ['real','int','enum']:                      \n",
    "            targ.remove(key)  \n",
    "    for key, val in df.types.items():\n",
    "        if key in targ:            \n",
    "          if dct[key] != val:\n",
    "            print('convert ',key,' ',dct[key],' ',val)\n",
    "            if dct[key]=='enum':\n",
    "                try:\n",
    "                  df[key] = df[key].asfactor() \n",
    "                except:\n",
    "                  targ.remove(key)                 \n",
    "            if dct[key]=='int': \n",
    "                try:                \n",
    "                  df[key] = df[key].asnumeric() \n",
    "                except:\n",
    "                  targ.remove(key)                  \n",
    "            if dct[key]=='real':\n",
    "                try:                \n",
    "                  df[key] = df[key].asnumeric()  \n",
    "                except:\n",
    "                  targ.remove(key)                  \n",
    "    if y is None:\n",
    "      y=df.columns[-1] \n",
    "    if y in targ:\n",
    "      targ.remove(y)\n",
    "    else:\n",
    "      y=targ.pop()            \n",
    "    return targ    \n",
    "    \n",
    "def predictions(mod,data,run_id):\n",
    "    test = h2o.import_file(data)\n",
    "    mod_perf=mod_best.model_performance(test)\n",
    "              \n",
    "    stats_test={}\n",
    "    stats_test=model_performance_stats(mod_perf)\n",
    "\n",
    "    n=run_id+'_test_stats.json'\n",
    "    dict_to_json(stats_test,n) \n",
    "\n",
    "    try:    \n",
    "      cf=mod_perf.confusion_matrix(metrics=[\"f1\",\"f2\",\"f0point5\",\"accuracy\",\"precision\",\"recall\",\"specificity\",\"absolute_mcc\",\"min_per_class_accuracy\",\"mean_per_class_accuracy\"])\n",
    "      cf_df=cf[0].table.as_data_frame()\n",
    "      cf_df.to_csv(run_id+'_test_confusion_matrix.csv')\n",
    "    except:\n",
    "      pass\n",
    "\n",
    "    predictions = mod_best.predict(test)\n",
    "    predictions_df=test.cbind(predictions).as_data_frame() \n",
    "    predictions_df.to_csv(run_id+'_predictions.csv')\n",
    "    return\n",
    "\n",
    "def predictions_test(mod,test,run_id):\n",
    "    mod_perf=mod_best.model_performance(test)          \n",
    "    stats_test={}\n",
    "    stats_test=model_performance_stats(mod_perf)\n",
    "    n=run_id+'_test_stats.json'\n",
    "    dict_to_json(stats_test,n) \n",
    "    try:\n",
    "      cf=mod_perf.confusion_matrix(metrics=[\"f1\",\"f2\",\"f0point5\",\"accuracy\",\"precision\",\"recall\",\"specificity\",\"absolute_mcc\",\"min_per_class_accuracy\",\"mean_per_class_accuracy\"])\n",
    "      cf_df=cf[0].table.as_data_frame()\n",
    "      cf_df.to_csv(run_id+'_test_confusion_matrix.csv')\n",
    "    except:\n",
    "      pass\n",
    "    predictions = mod_best.predict(test)    \n",
    "    predictions_df=test.cbind(predictions).as_data_frame() \n",
    "    predictions_df.to_csv(run_id+'_predictions.csv')\n",
    "    return predictions\n",
    "\n",
    "def check_X(x,df):\n",
    "    for name in x:\n",
    "        if name not in df.columns:\n",
    "          x.remove(name)  \n",
    "    return x    \n",
    "    \n",
    "    \n",
    "def get_stacked_ensemble(lst):\n",
    "    se=None\n",
    "    for model in model_set:\n",
    "      if 'BestOfFamily' in model:\n",
    "        se=model\n",
    "    if se is None:     \n",
    "      for model in model_set:\n",
    "        if 'AllModels'in model:\n",
    "          se=model           \n",
    "    return se       \n",
    "    \n",
    "def get_variables_types(df):\n",
    "    d={}\n",
    "    for key, val in df.types.items():\n",
    "        d[key]=val           \n",
    "    return d    \n",
    "    \n",
    "#  End Functions"
   ]
  },
  {
   "cell_type": "code",
   "execution_count": 4,
   "metadata": {},
   "outputs": [],
   "source": [
    "# path to the dataset\n",
    "data_path='D:/NEU/Courses/BDIA/Assignments/Assignment 2/Data/mobile-price-classification/train.csv'"
   ]
  },
  {
   "cell_type": "code",
   "execution_count": 5,
   "metadata": {},
   "outputs": [],
   "source": [
    "data_path = os.path.join(os.path.abspath(os.curdir),data_path)"
   ]
  },
  {
   "cell_type": "code",
   "execution_count": 6,
   "metadata": {},
   "outputs": [],
   "source": [
    "all_variables=None"
   ]
  },
  {
   "cell_type": "code",
   "execution_count": 7,
   "metadata": {},
   "outputs": [
    {
     "name": "stdout",
     "output_type": "stream",
     "text": [
      "1O7oRPEo7\n"
     ]
    }
   ],
   "source": [
    "run_id=alphabet(9)\n",
    "# run_id to std out\n",
    "print (run_id) "
   ]
  },
  {
   "cell_type": "code",
   "execution_count": 8,
   "metadata": {},
   "outputs": [],
   "source": [
    "server_path=os.path.abspath(os.curdir)\n",
    "os.chdir(server_path) \n",
    "run_dir = os.path.join(server_path,run_id)\n",
    "os.mkdir(run_dir)\n",
    "os.chdir(run_dir) "
   ]
  },
  {
   "cell_type": "code",
   "execution_count": 9,
   "metadata": {},
   "outputs": [
    {
     "name": "stdout",
     "output_type": "stream",
     "text": [
      "Checking whether there is an H2O instance running at http://localhost:31962..... not found.\n",
      "Attempting to start a local H2O server...\n",
      "; Java HotSpot(TM) 64-Bit Server VM (build 25.181-b13, mixed mode)\n",
      "  Starting server from C:\\Users\\Dhruv Patel\\Anaconda3\\lib\\site-packages\\h2o\\backend\\bin\\h2o.jar\n",
      "  Ice root: C:\\Users\\DHRUVP~1\\AppData\\Local\\Temp\\tmpb6iuwow1\n",
      "  JVM stdout: C:\\Users\\DHRUVP~1\\AppData\\Local\\Temp\\tmpb6iuwow1\\h2o_Dhruv_Patel_started_from_python.out\n",
      "  JVM stderr: C:\\Users\\DHRUVP~1\\AppData\\Local\\Temp\\tmpb6iuwow1\\h2o_Dhruv_Patel_started_from_python.err\n",
      "  Server is running at http://127.0.0.1:31962\n",
      "Connecting to H2O server at http://127.0.0.1:31962... successful.\n"
     ]
    },
    {
     "data": {
      "text/html": [
       "<div style=\"overflow:auto\"><table style=\"width:50%\"><tr><td>H2O cluster uptime:</td>\n",
       "<td>04 secs</td></tr>\n",
       "<tr><td>H2O cluster timezone:</td>\n",
       "<td>America/New_York</td></tr>\n",
       "<tr><td>H2O data parsing timezone:</td>\n",
       "<td>UTC</td></tr>\n",
       "<tr><td>H2O cluster version:</td>\n",
       "<td>3.20.0.8</td></tr>\n",
       "<tr><td>H2O cluster version age:</td>\n",
       "<td>1 month and 8 days </td></tr>\n",
       "<tr><td>H2O cluster name:</td>\n",
       "<td>H2O_from_python_Dhruv_Patel_k0brk1</td></tr>\n",
       "<tr><td>H2O cluster total nodes:</td>\n",
       "<td>1</td></tr>\n",
       "<tr><td>H2O cluster free memory:</td>\n",
       "<td>3.528 Gb</td></tr>\n",
       "<tr><td>H2O cluster total cores:</td>\n",
       "<td>8</td></tr>\n",
       "<tr><td>H2O cluster allowed cores:</td>\n",
       "<td>8</td></tr>\n",
       "<tr><td>H2O cluster status:</td>\n",
       "<td>accepting new members, healthy</td></tr>\n",
       "<tr><td>H2O connection url:</td>\n",
       "<td>http://127.0.0.1:31962</td></tr>\n",
       "<tr><td>H2O connection proxy:</td>\n",
       "<td>None</td></tr>\n",
       "<tr><td>H2O internal security:</td>\n",
       "<td>False</td></tr>\n",
       "<tr><td>H2O API Extensions:</td>\n",
       "<td>Algos, AutoML, Core V3, Core V4</td></tr>\n",
       "<tr><td>Python version:</td>\n",
       "<td>3.6.4 final</td></tr></table></div>"
      ],
      "text/plain": [
       "--------------------------  ----------------------------------\n",
       "H2O cluster uptime:         04 secs\n",
       "H2O cluster timezone:       America/New_York\n",
       "H2O data parsing timezone:  UTC\n",
       "H2O cluster version:        3.20.0.8\n",
       "H2O cluster version age:    1 month and 8 days\n",
       "H2O cluster name:           H2O_from_python_Dhruv_Patel_k0brk1\n",
       "H2O cluster total nodes:    1\n",
       "H2O cluster free memory:    3.528 Gb\n",
       "H2O cluster total cores:    8\n",
       "H2O cluster allowed cores:  8\n",
       "H2O cluster status:         accepting new members, healthy\n",
       "H2O connection url:         http://127.0.0.1:31962\n",
       "H2O connection proxy:\n",
       "H2O internal security:      False\n",
       "H2O API Extensions:         Algos, AutoML, Core V3, Core V4\n",
       "Python version:             3.6.4 final\n",
       "--------------------------  ----------------------------------"
      ]
     },
     "metadata": {},
     "output_type": "display_data"
    }
   ],
   "source": [
    "# 65535 Highest port no\n",
    "port_no=random.randint(5555,55555)\n",
    "#h2o.init(strict_version_check=False,min_mem_size_GB=min_mem_size,port=port_no)\n",
    "h2o.init(port=port_no)"
   ]
  },
  {
   "cell_type": "code",
   "execution_count": 10,
   "metadata": {},
   "outputs": [
    {
     "name": "stdout",
     "output_type": "stream",
     "text": [
      "{'run_id': '1O7oRPEo7', 'start_time': 1540892693.4038596, 'target': None, 'max_models': 9, 'run_time': 333, 'scale': False, 'classification': False, 'balance': False, 'balance_threshold': 0.2, 'project': None, 'end_time': 1540892693.4038596, 'execution_time': 0.0, 'nthreads': 1, 'min_mem_size': 6, 'analysis': 0}\n"
     ]
    }
   ],
   "source": [
    "# meta data\n",
    "meta_data = set_meta_data(run_id,analysis,target,run_time,classification,scale,max_models,balance_y,balance_threshold,name,nthreads,min_mem_size)\n",
    "print(meta_data)  "
   ]
  },
  {
   "cell_type": "code",
   "execution_count": 11,
   "metadata": {},
   "outputs": [
    {
     "name": "stdout",
     "output_type": "stream",
     "text": [
      "D:/NEU/Courses/BDIA/Assignments/Assignment 2/Data/mobile-price-classification/train.csv\n"
     ]
    }
   ],
   "source": [
    "print(data_path)"
   ]
  },
  {
   "cell_type": "code",
   "execution_count": 12,
   "metadata": {},
   "outputs": [
    {
     "name": "stdout",
     "output_type": "stream",
     "text": [
      "Parse progress: |█████████████████████████████████████████████████████████| 100%\n"
     ]
    }
   ],
   "source": [
    "df = h2o.import_file(data_path)"
   ]
  },
  {
   "cell_type": "code",
   "execution_count": 13,
   "metadata": {},
   "outputs": [
    {
     "data": {
      "text/html": [
       "<table>\n",
       "<thead>\n",
       "<tr><th style=\"text-align: right;\">  battery_power</th><th style=\"text-align: right;\">  blue</th><th style=\"text-align: right;\">  clock_speed</th><th style=\"text-align: right;\">  dual_sim</th><th style=\"text-align: right;\">  fc</th><th style=\"text-align: right;\">  four_g</th><th style=\"text-align: right;\">  int_memory</th><th style=\"text-align: right;\">  m_dep</th><th style=\"text-align: right;\">  mobile_wt</th><th style=\"text-align: right;\">  n_cores</th><th style=\"text-align: right;\">  pc</th><th style=\"text-align: right;\">  px_height</th><th style=\"text-align: right;\">  px_width</th><th style=\"text-align: right;\">  ram</th><th style=\"text-align: right;\">  sc_h</th><th style=\"text-align: right;\">  sc_w</th><th style=\"text-align: right;\">  talk_time</th><th style=\"text-align: right;\">  three_g</th><th style=\"text-align: right;\">  touch_screen</th><th style=\"text-align: right;\">  wifi</th><th style=\"text-align: right;\">  price_range</th></tr>\n",
       "</thead>\n",
       "<tbody>\n",
       "<tr><td style=\"text-align: right;\">            842</td><td style=\"text-align: right;\">     0</td><td style=\"text-align: right;\">          2.2</td><td style=\"text-align: right;\">         0</td><td style=\"text-align: right;\">   1</td><td style=\"text-align: right;\">       0</td><td style=\"text-align: right;\">           7</td><td style=\"text-align: right;\">    0.6</td><td style=\"text-align: right;\">        188</td><td style=\"text-align: right;\">        2</td><td style=\"text-align: right;\">   2</td><td style=\"text-align: right;\">         20</td><td style=\"text-align: right;\">       756</td><td style=\"text-align: right;\"> 2549</td><td style=\"text-align: right;\">     9</td><td style=\"text-align: right;\">     7</td><td style=\"text-align: right;\">         19</td><td style=\"text-align: right;\">        0</td><td style=\"text-align: right;\">             0</td><td style=\"text-align: right;\">     1</td><td style=\"text-align: right;\">            1</td></tr>\n",
       "<tr><td style=\"text-align: right;\">           1021</td><td style=\"text-align: right;\">     1</td><td style=\"text-align: right;\">          0.5</td><td style=\"text-align: right;\">         1</td><td style=\"text-align: right;\">   0</td><td style=\"text-align: right;\">       1</td><td style=\"text-align: right;\">          53</td><td style=\"text-align: right;\">    0.7</td><td style=\"text-align: right;\">        136</td><td style=\"text-align: right;\">        3</td><td style=\"text-align: right;\">   6</td><td style=\"text-align: right;\">        905</td><td style=\"text-align: right;\">      1988</td><td style=\"text-align: right;\"> 2631</td><td style=\"text-align: right;\">    17</td><td style=\"text-align: right;\">     3</td><td style=\"text-align: right;\">          7</td><td style=\"text-align: right;\">        1</td><td style=\"text-align: right;\">             1</td><td style=\"text-align: right;\">     0</td><td style=\"text-align: right;\">            2</td></tr>\n",
       "<tr><td style=\"text-align: right;\">            563</td><td style=\"text-align: right;\">     1</td><td style=\"text-align: right;\">          0.5</td><td style=\"text-align: right;\">         1</td><td style=\"text-align: right;\">   2</td><td style=\"text-align: right;\">       1</td><td style=\"text-align: right;\">          41</td><td style=\"text-align: right;\">    0.9</td><td style=\"text-align: right;\">        145</td><td style=\"text-align: right;\">        5</td><td style=\"text-align: right;\">   6</td><td style=\"text-align: right;\">       1263</td><td style=\"text-align: right;\">      1716</td><td style=\"text-align: right;\"> 2603</td><td style=\"text-align: right;\">    11</td><td style=\"text-align: right;\">     2</td><td style=\"text-align: right;\">          9</td><td style=\"text-align: right;\">        1</td><td style=\"text-align: right;\">             1</td><td style=\"text-align: right;\">     0</td><td style=\"text-align: right;\">            2</td></tr>\n",
       "<tr><td style=\"text-align: right;\">            615</td><td style=\"text-align: right;\">     1</td><td style=\"text-align: right;\">          2.5</td><td style=\"text-align: right;\">         0</td><td style=\"text-align: right;\">   0</td><td style=\"text-align: right;\">       0</td><td style=\"text-align: right;\">          10</td><td style=\"text-align: right;\">    0.8</td><td style=\"text-align: right;\">        131</td><td style=\"text-align: right;\">        6</td><td style=\"text-align: right;\">   9</td><td style=\"text-align: right;\">       1216</td><td style=\"text-align: right;\">      1786</td><td style=\"text-align: right;\"> 2769</td><td style=\"text-align: right;\">    16</td><td style=\"text-align: right;\">     8</td><td style=\"text-align: right;\">         11</td><td style=\"text-align: right;\">        1</td><td style=\"text-align: right;\">             0</td><td style=\"text-align: right;\">     0</td><td style=\"text-align: right;\">            2</td></tr>\n",
       "<tr><td style=\"text-align: right;\">           1821</td><td style=\"text-align: right;\">     1</td><td style=\"text-align: right;\">          1.2</td><td style=\"text-align: right;\">         0</td><td style=\"text-align: right;\">  13</td><td style=\"text-align: right;\">       1</td><td style=\"text-align: right;\">          44</td><td style=\"text-align: right;\">    0.6</td><td style=\"text-align: right;\">        141</td><td style=\"text-align: right;\">        2</td><td style=\"text-align: right;\">  14</td><td style=\"text-align: right;\">       1208</td><td style=\"text-align: right;\">      1212</td><td style=\"text-align: right;\"> 1411</td><td style=\"text-align: right;\">     8</td><td style=\"text-align: right;\">     2</td><td style=\"text-align: right;\">         15</td><td style=\"text-align: right;\">        1</td><td style=\"text-align: right;\">             1</td><td style=\"text-align: right;\">     0</td><td style=\"text-align: right;\">            1</td></tr>\n",
       "<tr><td style=\"text-align: right;\">           1859</td><td style=\"text-align: right;\">     0</td><td style=\"text-align: right;\">          0.5</td><td style=\"text-align: right;\">         1</td><td style=\"text-align: right;\">   3</td><td style=\"text-align: right;\">       0</td><td style=\"text-align: right;\">          22</td><td style=\"text-align: right;\">    0.7</td><td style=\"text-align: right;\">        164</td><td style=\"text-align: right;\">        1</td><td style=\"text-align: right;\">   7</td><td style=\"text-align: right;\">       1004</td><td style=\"text-align: right;\">      1654</td><td style=\"text-align: right;\"> 1067</td><td style=\"text-align: right;\">    17</td><td style=\"text-align: right;\">     1</td><td style=\"text-align: right;\">         10</td><td style=\"text-align: right;\">        1</td><td style=\"text-align: right;\">             0</td><td style=\"text-align: right;\">     0</td><td style=\"text-align: right;\">            1</td></tr>\n",
       "<tr><td style=\"text-align: right;\">           1821</td><td style=\"text-align: right;\">     0</td><td style=\"text-align: right;\">          1.7</td><td style=\"text-align: right;\">         0</td><td style=\"text-align: right;\">   4</td><td style=\"text-align: right;\">       1</td><td style=\"text-align: right;\">          10</td><td style=\"text-align: right;\">    0.8</td><td style=\"text-align: right;\">        139</td><td style=\"text-align: right;\">        8</td><td style=\"text-align: right;\">  10</td><td style=\"text-align: right;\">        381</td><td style=\"text-align: right;\">      1018</td><td style=\"text-align: right;\"> 3220</td><td style=\"text-align: right;\">    13</td><td style=\"text-align: right;\">     8</td><td style=\"text-align: right;\">         18</td><td style=\"text-align: right;\">        1</td><td style=\"text-align: right;\">             0</td><td style=\"text-align: right;\">     1</td><td style=\"text-align: right;\">            3</td></tr>\n",
       "<tr><td style=\"text-align: right;\">           1954</td><td style=\"text-align: right;\">     0</td><td style=\"text-align: right;\">          0.5</td><td style=\"text-align: right;\">         1</td><td style=\"text-align: right;\">   0</td><td style=\"text-align: right;\">       0</td><td style=\"text-align: right;\">          24</td><td style=\"text-align: right;\">    0.8</td><td style=\"text-align: right;\">        187</td><td style=\"text-align: right;\">        4</td><td style=\"text-align: right;\">   0</td><td style=\"text-align: right;\">        512</td><td style=\"text-align: right;\">      1149</td><td style=\"text-align: right;\">  700</td><td style=\"text-align: right;\">    16</td><td style=\"text-align: right;\">     3</td><td style=\"text-align: right;\">          5</td><td style=\"text-align: right;\">        1</td><td style=\"text-align: right;\">             1</td><td style=\"text-align: right;\">     1</td><td style=\"text-align: right;\">            0</td></tr>\n",
       "<tr><td style=\"text-align: right;\">           1445</td><td style=\"text-align: right;\">     1</td><td style=\"text-align: right;\">          0.5</td><td style=\"text-align: right;\">         0</td><td style=\"text-align: right;\">   0</td><td style=\"text-align: right;\">       0</td><td style=\"text-align: right;\">          53</td><td style=\"text-align: right;\">    0.7</td><td style=\"text-align: right;\">        174</td><td style=\"text-align: right;\">        7</td><td style=\"text-align: right;\">  14</td><td style=\"text-align: right;\">        386</td><td style=\"text-align: right;\">       836</td><td style=\"text-align: right;\"> 1099</td><td style=\"text-align: right;\">    17</td><td style=\"text-align: right;\">     1</td><td style=\"text-align: right;\">         20</td><td style=\"text-align: right;\">        1</td><td style=\"text-align: right;\">             0</td><td style=\"text-align: right;\">     0</td><td style=\"text-align: right;\">            0</td></tr>\n",
       "<tr><td style=\"text-align: right;\">            509</td><td style=\"text-align: right;\">     1</td><td style=\"text-align: right;\">          0.6</td><td style=\"text-align: right;\">         1</td><td style=\"text-align: right;\">   2</td><td style=\"text-align: right;\">       1</td><td style=\"text-align: right;\">           9</td><td style=\"text-align: right;\">    0.1</td><td style=\"text-align: right;\">         93</td><td style=\"text-align: right;\">        5</td><td style=\"text-align: right;\">  15</td><td style=\"text-align: right;\">       1137</td><td style=\"text-align: right;\">      1224</td><td style=\"text-align: right;\">  513</td><td style=\"text-align: right;\">    19</td><td style=\"text-align: right;\">    10</td><td style=\"text-align: right;\">         12</td><td style=\"text-align: right;\">        1</td><td style=\"text-align: right;\">             0</td><td style=\"text-align: right;\">     0</td><td style=\"text-align: right;\">            0</td></tr>\n",
       "</tbody>\n",
       "</table>"
      ]
     },
     "metadata": {},
     "output_type": "display_data"
    },
    {
     "data": {
      "text/plain": []
     },
     "execution_count": 13,
     "metadata": {},
     "output_type": "execute_result"
    }
   ],
   "source": [
    "df.head()"
   ]
  },
  {
   "cell_type": "code",
   "execution_count": 14,
   "metadata": {},
   "outputs": [
    {
     "name": "stdout",
     "output_type": "stream",
     "text": [
      "Rows:2000\n",
      "Cols:21\n",
      "\n",
      "\n"
     ]
    },
    {
     "data": {
      "text/html": [
       "<table>\n",
       "<thead>\n",
       "<tr><th>       </th><th>battery_power     </th><th>blue              </th><th>clock_speed       </th><th>dual_sim         </th><th>fc               </th><th>four_g             </th><th>int_memory        </th><th>m_dep             </th><th>mobile_wt         </th><th>n_cores           </th><th>pc               </th><th>px_height        </th><th>px_width          </th><th>ram               </th><th>sc_h             </th><th>sc_w              </th><th>talk_time        </th><th>three_g            </th><th>touch_screen     </th><th>wifi              </th><th>price_range       </th></tr>\n",
       "</thead>\n",
       "<tbody>\n",
       "<tr><td>type   </td><td>int               </td><td>int               </td><td>real              </td><td>int              </td><td>int              </td><td>int                </td><td>int               </td><td>real              </td><td>int               </td><td>int               </td><td>int              </td><td>int              </td><td>int               </td><td>int               </td><td>int              </td><td>int               </td><td>int              </td><td>int                </td><td>int              </td><td>int               </td><td>int               </td></tr>\n",
       "<tr><td>mins   </td><td>501.0             </td><td>0.0               </td><td>0.5               </td><td>0.0              </td><td>0.0              </td><td>0.0                </td><td>2.0               </td><td>0.1               </td><td>80.0              </td><td>1.0               </td><td>0.0              </td><td>0.0              </td><td>500.0             </td><td>256.0             </td><td>5.0              </td><td>0.0               </td><td>2.0              </td><td>0.0                </td><td>0.0              </td><td>0.0               </td><td>0.0               </td></tr>\n",
       "<tr><td>mean   </td><td>1238.5185         </td><td>0.495             </td><td>1.52225           </td><td>0.5095           </td><td>4.3095           </td><td>0.5215             </td><td>32.046499999999995</td><td>0.50175           </td><td>140.249           </td><td>4.5205            </td><td>9.9165           </td><td>645.108          </td><td>1251.5155         </td><td>2124.213          </td><td>12.3065          </td><td>5.767             </td><td>11.011           </td><td>0.7615             </td><td>0.503            </td><td>0.507             </td><td>1.5               </td></tr>\n",
       "<tr><td>maxs   </td><td>1998.0            </td><td>1.0               </td><td>3.0               </td><td>1.0              </td><td>19.0             </td><td>1.0                </td><td>64.0              </td><td>1.0               </td><td>200.0             </td><td>8.0               </td><td>20.0             </td><td>1960.0           </td><td>1998.0            </td><td>3998.0            </td><td>19.0             </td><td>18.0              </td><td>20.0             </td><td>1.0                </td><td>1.0              </td><td>1.0               </td><td>3.0               </td></tr>\n",
       "<tr><td>sigma  </td><td>439.41820608353135</td><td>0.5001000400170075</td><td>0.8160042088950689</td><td>0.500034766175005</td><td>4.341443747983894</td><td>0.49966246736236386</td><td>18.14571495520686 </td><td>0.2884155496235116</td><td>35.399654896388355</td><td>2.2878367180426604</td><td>6.064314941347781</td><td>443.7808108064385</td><td>432.19944694633796</td><td>1084.7320436099494</td><td>4.213245004356305</td><td>4.3563976058264045</td><td>5.463955197766688</td><td>0.42627292231873126</td><td>0.500116044562674</td><td>0.5000760322381083</td><td>1.1183136021064612</td></tr>\n",
       "<tr><td>zeros  </td><td>0                 </td><td>1010              </td><td>0                 </td><td>981              </td><td>474              </td><td>957                </td><td>0                 </td><td>0                 </td><td>0                 </td><td>0                 </td><td>101              </td><td>2                </td><td>0                 </td><td>0                 </td><td>0                </td><td>180               </td><td>0                </td><td>477                </td><td>994              </td><td>986               </td><td>500               </td></tr>\n",
       "<tr><td>missing</td><td>0                 </td><td>0                 </td><td>0                 </td><td>0                </td><td>0                </td><td>0                  </td><td>0                 </td><td>0                 </td><td>0                 </td><td>0                 </td><td>0                </td><td>0                </td><td>0                 </td><td>0                 </td><td>0                </td><td>0                 </td><td>0                </td><td>0                  </td><td>0                </td><td>0                 </td><td>0                 </td></tr>\n",
       "<tr><td>0      </td><td>842.0             </td><td>0.0               </td><td>2.2               </td><td>0.0              </td><td>1.0              </td><td>0.0                </td><td>7.0               </td><td>0.6               </td><td>188.0             </td><td>2.0               </td><td>2.0              </td><td>20.0             </td><td>756.0             </td><td>2549.0            </td><td>9.0              </td><td>7.0               </td><td>19.0             </td><td>0.0                </td><td>0.0              </td><td>1.0               </td><td>1.0               </td></tr>\n",
       "<tr><td>1      </td><td>1021.0            </td><td>1.0               </td><td>0.5               </td><td>1.0              </td><td>0.0              </td><td>1.0                </td><td>53.0              </td><td>0.7               </td><td>136.0             </td><td>3.0               </td><td>6.0              </td><td>905.0            </td><td>1988.0            </td><td>2631.0            </td><td>17.0             </td><td>3.0               </td><td>7.0              </td><td>1.0                </td><td>1.0              </td><td>0.0               </td><td>2.0               </td></tr>\n",
       "<tr><td>2      </td><td>563.0             </td><td>1.0               </td><td>0.5               </td><td>1.0              </td><td>2.0              </td><td>1.0                </td><td>41.0              </td><td>0.9               </td><td>145.0             </td><td>5.0               </td><td>6.0              </td><td>1263.0           </td><td>1716.0            </td><td>2603.0            </td><td>11.0             </td><td>2.0               </td><td>9.0              </td><td>1.0                </td><td>1.0              </td><td>0.0               </td><td>2.0               </td></tr>\n",
       "<tr><td>3      </td><td>615.0             </td><td>1.0               </td><td>2.5               </td><td>0.0              </td><td>0.0              </td><td>0.0                </td><td>10.0              </td><td>0.8               </td><td>131.0             </td><td>6.0               </td><td>9.0              </td><td>1216.0           </td><td>1786.0            </td><td>2769.0            </td><td>16.0             </td><td>8.0               </td><td>11.0             </td><td>1.0                </td><td>0.0              </td><td>0.0               </td><td>2.0               </td></tr>\n",
       "<tr><td>4      </td><td>1821.0            </td><td>1.0               </td><td>1.2               </td><td>0.0              </td><td>13.0             </td><td>1.0                </td><td>44.0              </td><td>0.6               </td><td>141.0             </td><td>2.0               </td><td>14.0             </td><td>1208.0           </td><td>1212.0            </td><td>1411.0            </td><td>8.0              </td><td>2.0               </td><td>15.0             </td><td>1.0                </td><td>1.0              </td><td>0.0               </td><td>1.0               </td></tr>\n",
       "<tr><td>5      </td><td>1859.0            </td><td>0.0               </td><td>0.5               </td><td>1.0              </td><td>3.0              </td><td>0.0                </td><td>22.0              </td><td>0.7               </td><td>164.0             </td><td>1.0               </td><td>7.0              </td><td>1004.0           </td><td>1654.0            </td><td>1067.0            </td><td>17.0             </td><td>1.0               </td><td>10.0             </td><td>1.0                </td><td>0.0              </td><td>0.0               </td><td>1.0               </td></tr>\n",
       "<tr><td>6      </td><td>1821.0            </td><td>0.0               </td><td>1.7               </td><td>0.0              </td><td>4.0              </td><td>1.0                </td><td>10.0              </td><td>0.8               </td><td>139.0             </td><td>8.0               </td><td>10.0             </td><td>381.0            </td><td>1018.0            </td><td>3220.0            </td><td>13.0             </td><td>8.0               </td><td>18.0             </td><td>1.0                </td><td>0.0              </td><td>1.0               </td><td>3.0               </td></tr>\n",
       "<tr><td>7      </td><td>1954.0            </td><td>0.0               </td><td>0.5               </td><td>1.0              </td><td>0.0              </td><td>0.0                </td><td>24.0              </td><td>0.8               </td><td>187.0             </td><td>4.0               </td><td>0.0              </td><td>512.0            </td><td>1149.0            </td><td>700.0             </td><td>16.0             </td><td>3.0               </td><td>5.0              </td><td>1.0                </td><td>1.0              </td><td>1.0               </td><td>0.0               </td></tr>\n",
       "<tr><td>8      </td><td>1445.0            </td><td>1.0               </td><td>0.5               </td><td>0.0              </td><td>0.0              </td><td>0.0                </td><td>53.0              </td><td>0.7               </td><td>174.0             </td><td>7.0               </td><td>14.0             </td><td>386.0            </td><td>836.0             </td><td>1099.0            </td><td>17.0             </td><td>1.0               </td><td>20.0             </td><td>1.0                </td><td>0.0              </td><td>0.0               </td><td>0.0               </td></tr>\n",
       "<tr><td>9      </td><td>509.0             </td><td>1.0               </td><td>0.6               </td><td>1.0              </td><td>2.0              </td><td>1.0                </td><td>9.0               </td><td>0.1               </td><td>93.0              </td><td>5.0               </td><td>15.0             </td><td>1137.0           </td><td>1224.0            </td><td>513.0             </td><td>19.0             </td><td>10.0              </td><td>12.0             </td><td>1.0                </td><td>0.0              </td><td>0.0               </td><td>0.0               </td></tr>\n",
       "</tbody>\n",
       "</table>"
      ]
     },
     "metadata": {},
     "output_type": "display_data"
    }
   ],
   "source": [
    "df.describe()"
   ]
  },
  {
   "cell_type": "markdown",
   "metadata": {},
   "source": [
    "describe()[source]\n",
    "Generate an in-depth description of this H2OFrame.\n",
    "\n",
    "The description is a tabular print of the type, min, max, sigma, number of zeros, and number of missing elements for each H2OVec in this H2OFrame.\n",
    "\n",
    "Returns:\tNone (print to stdout) "
   ]
  },
  {
   "cell_type": "code",
   "execution_count": 15,
   "metadata": {},
   "outputs": [],
   "source": [
    "# dependent variable\n",
    "# assign target and inputs for classification or regression\n",
    "if target==None:\n",
    "  target=df.columns[9]   \n",
    "y = target"
   ]
  },
  {
   "cell_type": "code",
   "execution_count": 16,
   "metadata": {},
   "outputs": [
    {
     "name": "stdout",
     "output_type": "stream",
     "text": [
      "n_cores\n"
     ]
    }
   ],
   "source": [
    "print(y)"
   ]
  },
  {
   "cell_type": "code",
   "execution_count": 17,
   "metadata": {
    "scrolled": true
   },
   "outputs": [
    {
     "name": "stdout",
     "output_type": "stream",
     "text": [
      "None\n"
     ]
    }
   ],
   "source": [
    "print(all_variables)"
   ]
  },
  {
   "cell_type": "code",
   "execution_count": 18,
   "metadata": {},
   "outputs": [],
   "source": [
    "if all_variables is not None:\n",
    "  ivd=get_all_variables_csv(all_variables)\n",
    "  print(ivd)    \n",
    "  X=check_all_variables(df,ivd,y)\n",
    "  print(X)"
   ]
  },
  {
   "cell_type": "code",
   "execution_count": 19,
   "metadata": {},
   "outputs": [
    {
     "name": "stdout",
     "output_type": "stream",
     "text": [
      "Rows:2000\n",
      "Cols:21\n",
      "\n",
      "\n"
     ]
    },
    {
     "data": {
      "text/html": [
       "<table>\n",
       "<thead>\n",
       "<tr><th>       </th><th>battery_power     </th><th>blue              </th><th>clock_speed       </th><th>dual_sim         </th><th>fc               </th><th>four_g             </th><th>int_memory        </th><th>m_dep             </th><th>mobile_wt         </th><th>n_cores           </th><th>pc               </th><th>px_height        </th><th>px_width          </th><th>ram               </th><th>sc_h             </th><th>sc_w              </th><th>talk_time        </th><th>three_g            </th><th>touch_screen     </th><th>wifi              </th><th>price_range       </th></tr>\n",
       "</thead>\n",
       "<tbody>\n",
       "<tr><td>type   </td><td>int               </td><td>int               </td><td>real              </td><td>int              </td><td>int              </td><td>int                </td><td>int               </td><td>real              </td><td>int               </td><td>int               </td><td>int              </td><td>int              </td><td>int               </td><td>int               </td><td>int              </td><td>int               </td><td>int              </td><td>int                </td><td>int              </td><td>int               </td><td>int               </td></tr>\n",
       "<tr><td>mins   </td><td>501.0             </td><td>0.0               </td><td>0.5               </td><td>0.0              </td><td>0.0              </td><td>0.0                </td><td>2.0               </td><td>0.1               </td><td>80.0              </td><td>1.0               </td><td>0.0              </td><td>0.0              </td><td>500.0             </td><td>256.0             </td><td>5.0              </td><td>0.0               </td><td>2.0              </td><td>0.0                </td><td>0.0              </td><td>0.0               </td><td>0.0               </td></tr>\n",
       "<tr><td>mean   </td><td>1238.5185         </td><td>0.495             </td><td>1.52225           </td><td>0.5095           </td><td>4.3095           </td><td>0.5215             </td><td>32.046499999999995</td><td>0.50175           </td><td>140.249           </td><td>4.5205            </td><td>9.9165           </td><td>645.108          </td><td>1251.5155         </td><td>2124.213          </td><td>12.3065          </td><td>5.767             </td><td>11.011           </td><td>0.7615             </td><td>0.503            </td><td>0.507             </td><td>1.5               </td></tr>\n",
       "<tr><td>maxs   </td><td>1998.0            </td><td>1.0               </td><td>3.0               </td><td>1.0              </td><td>19.0             </td><td>1.0                </td><td>64.0              </td><td>1.0               </td><td>200.0             </td><td>8.0               </td><td>20.0             </td><td>1960.0           </td><td>1998.0            </td><td>3998.0            </td><td>19.0             </td><td>18.0              </td><td>20.0             </td><td>1.0                </td><td>1.0              </td><td>1.0               </td><td>3.0               </td></tr>\n",
       "<tr><td>sigma  </td><td>439.41820608353135</td><td>0.5001000400170075</td><td>0.8160042088950689</td><td>0.500034766175005</td><td>4.341443747983894</td><td>0.49966246736236386</td><td>18.14571495520686 </td><td>0.2884155496235116</td><td>35.399654896388355</td><td>2.2878367180426604</td><td>6.064314941347781</td><td>443.7808108064385</td><td>432.19944694633796</td><td>1084.7320436099494</td><td>4.213245004356305</td><td>4.3563976058264045</td><td>5.463955197766688</td><td>0.42627292231873126</td><td>0.500116044562674</td><td>0.5000760322381083</td><td>1.1183136021064612</td></tr>\n",
       "<tr><td>zeros  </td><td>0                 </td><td>1010              </td><td>0                 </td><td>981              </td><td>474              </td><td>957                </td><td>0                 </td><td>0                 </td><td>0                 </td><td>0                 </td><td>101              </td><td>2                </td><td>0                 </td><td>0                 </td><td>0                </td><td>180               </td><td>0                </td><td>477                </td><td>994              </td><td>986               </td><td>500               </td></tr>\n",
       "<tr><td>missing</td><td>0                 </td><td>0                 </td><td>0                 </td><td>0                </td><td>0                </td><td>0                  </td><td>0                 </td><td>0                 </td><td>0                 </td><td>0                 </td><td>0                </td><td>0                </td><td>0                 </td><td>0                 </td><td>0                </td><td>0                 </td><td>0                </td><td>0                  </td><td>0                </td><td>0                 </td><td>0                 </td></tr>\n",
       "<tr><td>0      </td><td>842.0             </td><td>0.0               </td><td>2.2               </td><td>0.0              </td><td>1.0              </td><td>0.0                </td><td>7.0               </td><td>0.6               </td><td>188.0             </td><td>2.0               </td><td>2.0              </td><td>20.0             </td><td>756.0             </td><td>2549.0            </td><td>9.0              </td><td>7.0               </td><td>19.0             </td><td>0.0                </td><td>0.0              </td><td>1.0               </td><td>1.0               </td></tr>\n",
       "<tr><td>1      </td><td>1021.0            </td><td>1.0               </td><td>0.5               </td><td>1.0              </td><td>0.0              </td><td>1.0                </td><td>53.0              </td><td>0.7               </td><td>136.0             </td><td>3.0               </td><td>6.0              </td><td>905.0            </td><td>1988.0            </td><td>2631.0            </td><td>17.0             </td><td>3.0               </td><td>7.0              </td><td>1.0                </td><td>1.0              </td><td>0.0               </td><td>2.0               </td></tr>\n",
       "<tr><td>2      </td><td>563.0             </td><td>1.0               </td><td>0.5               </td><td>1.0              </td><td>2.0              </td><td>1.0                </td><td>41.0              </td><td>0.9               </td><td>145.0             </td><td>5.0               </td><td>6.0              </td><td>1263.0           </td><td>1716.0            </td><td>2603.0            </td><td>11.0             </td><td>2.0               </td><td>9.0              </td><td>1.0                </td><td>1.0              </td><td>0.0               </td><td>2.0               </td></tr>\n",
       "<tr><td>3      </td><td>615.0             </td><td>1.0               </td><td>2.5               </td><td>0.0              </td><td>0.0              </td><td>0.0                </td><td>10.0              </td><td>0.8               </td><td>131.0             </td><td>6.0               </td><td>9.0              </td><td>1216.0           </td><td>1786.0            </td><td>2769.0            </td><td>16.0             </td><td>8.0               </td><td>11.0             </td><td>1.0                </td><td>0.0              </td><td>0.0               </td><td>2.0               </td></tr>\n",
       "<tr><td>4      </td><td>1821.0            </td><td>1.0               </td><td>1.2               </td><td>0.0              </td><td>13.0             </td><td>1.0                </td><td>44.0              </td><td>0.6               </td><td>141.0             </td><td>2.0               </td><td>14.0             </td><td>1208.0           </td><td>1212.0            </td><td>1411.0            </td><td>8.0              </td><td>2.0               </td><td>15.0             </td><td>1.0                </td><td>1.0              </td><td>0.0               </td><td>1.0               </td></tr>\n",
       "<tr><td>5      </td><td>1859.0            </td><td>0.0               </td><td>0.5               </td><td>1.0              </td><td>3.0              </td><td>0.0                </td><td>22.0              </td><td>0.7               </td><td>164.0             </td><td>1.0               </td><td>7.0              </td><td>1004.0           </td><td>1654.0            </td><td>1067.0            </td><td>17.0             </td><td>1.0               </td><td>10.0             </td><td>1.0                </td><td>0.0              </td><td>0.0               </td><td>1.0               </td></tr>\n",
       "<tr><td>6      </td><td>1821.0            </td><td>0.0               </td><td>1.7               </td><td>0.0              </td><td>4.0              </td><td>1.0                </td><td>10.0              </td><td>0.8               </td><td>139.0             </td><td>8.0               </td><td>10.0             </td><td>381.0            </td><td>1018.0            </td><td>3220.0            </td><td>13.0             </td><td>8.0               </td><td>18.0             </td><td>1.0                </td><td>0.0              </td><td>1.0               </td><td>3.0               </td></tr>\n",
       "<tr><td>7      </td><td>1954.0            </td><td>0.0               </td><td>0.5               </td><td>1.0              </td><td>0.0              </td><td>0.0                </td><td>24.0              </td><td>0.8               </td><td>187.0             </td><td>4.0               </td><td>0.0              </td><td>512.0            </td><td>1149.0            </td><td>700.0             </td><td>16.0             </td><td>3.0               </td><td>5.0              </td><td>1.0                </td><td>1.0              </td><td>1.0               </td><td>0.0               </td></tr>\n",
       "<tr><td>8      </td><td>1445.0            </td><td>1.0               </td><td>0.5               </td><td>0.0              </td><td>0.0              </td><td>0.0                </td><td>53.0              </td><td>0.7               </td><td>174.0             </td><td>7.0               </td><td>14.0             </td><td>386.0            </td><td>836.0             </td><td>1099.0            </td><td>17.0             </td><td>1.0               </td><td>20.0             </td><td>1.0                </td><td>0.0              </td><td>0.0               </td><td>0.0               </td></tr>\n",
       "<tr><td>9      </td><td>509.0             </td><td>1.0               </td><td>0.6               </td><td>1.0              </td><td>2.0              </td><td>1.0                </td><td>9.0               </td><td>0.1               </td><td>93.0              </td><td>5.0               </td><td>15.0             </td><td>1137.0           </td><td>1224.0            </td><td>513.0             </td><td>19.0             </td><td>10.0              </td><td>12.0             </td><td>1.0                </td><td>0.0              </td><td>0.0               </td><td>0.0               </td></tr>\n",
       "</tbody>\n",
       "</table>"
      ]
     },
     "metadata": {},
     "output_type": "display_data"
    }
   ],
   "source": [
    "df.describe()"
   ]
  },
  {
   "cell_type": "code",
   "execution_count": 20,
   "metadata": {},
   "outputs": [],
   "source": [
    "# independent variables\n",
    "\n",
    "X = []  \n",
    "if all_variables is None:\n",
    "  X=get_independent_variables(df, target)  \n",
    "else: \n",
    "  ivd=get_all_variables_csv(all_variables)    \n",
    "  X=check_all_variables(df, ivd)\n",
    "\n",
    "\n",
    "X=check_X(X,df)\n",
    "\n",
    "\n",
    "# Add independent variables\n",
    "\n",
    "meta_data['X']=X  \n",
    "\n",
    "\n",
    "# impute missing values\n",
    "\n",
    "_=impute_missing_values(df,X, scale)"
   ]
  },
  {
   "cell_type": "code",
   "execution_count": 21,
   "metadata": {},
   "outputs": [],
   "source": [
    "if analysis == 3:\n",
    "  classification=False\n",
    "elif analysis == 2:\n",
    "  classification=True\n",
    "elif analysis == 1:\n",
    "  classification=True"
   ]
  },
  {
   "cell_type": "code",
   "execution_count": 22,
   "metadata": {},
   "outputs": [
    {
     "name": "stdout",
     "output_type": "stream",
     "text": [
      "False\n"
     ]
    }
   ],
   "source": [
    "print(classification)"
   ]
  },
  {
   "cell_type": "code",
   "execution_count": 23,
   "metadata": {},
   "outputs": [],
   "source": [
    "# Force target to be factors\n",
    "# Only 'int' or 'string' are allowed for asfactor(), got Target (Total orders):real \n",
    "\n",
    "if classification:\n",
    "    df[y] = df[y].asfactor()"
   ]
  },
  {
   "cell_type": "code",
   "execution_count": 24,
   "metadata": {},
   "outputs": [],
   "source": [
    "def check_y(y,df):\n",
    "  ok=False\n",
    "  C = [name for name in df.columns if name == y]\n",
    "  for key, val in df.types.items():\n",
    "    if key in C:\n",
    "      if val in ['real','int','enum']:        \n",
    "        ok=True         \n",
    "  return ok, val   "
   ]
  },
  {
   "cell_type": "code",
   "execution_count": 25,
   "metadata": {},
   "outputs": [],
   "source": [
    "ok,val=check_y(y,df)"
   ]
  },
  {
   "cell_type": "code",
   "execution_count": 26,
   "metadata": {},
   "outputs": [
    {
     "name": "stdout",
     "output_type": "stream",
     "text": [
      "int\n"
     ]
    }
   ],
   "source": [
    "print(val)"
   ]
  },
  {
   "cell_type": "code",
   "execution_count": 27,
   "metadata": {},
   "outputs": [
    {
     "name": "stdout",
     "output_type": "stream",
     "text": [
      "True\n"
     ]
    }
   ],
   "source": [
    "print(ok)"
   ]
  },
  {
   "cell_type": "code",
   "execution_count": 28,
   "metadata": {},
   "outputs": [],
   "source": [
    "if val=='enum':\n",
    "    print(df[y].levels())"
   ]
  },
  {
   "cell_type": "code",
   "execution_count": 29,
   "metadata": {},
   "outputs": [
    {
     "name": "stdout",
     "output_type": "stream",
     "text": [
      "Rows:2000\n",
      "Cols:21\n",
      "\n",
      "\n"
     ]
    },
    {
     "data": {
      "text/html": [
       "<table>\n",
       "<thead>\n",
       "<tr><th>       </th><th>battery_power     </th><th>blue              </th><th>clock_speed       </th><th>dual_sim         </th><th>fc               </th><th>four_g             </th><th>int_memory        </th><th>m_dep             </th><th>mobile_wt         </th><th>n_cores           </th><th>pc               </th><th>px_height        </th><th>px_width          </th><th>ram               </th><th>sc_h             </th><th>sc_w              </th><th>talk_time        </th><th>three_g            </th><th>touch_screen     </th><th>wifi              </th><th>price_range       </th></tr>\n",
       "</thead>\n",
       "<tbody>\n",
       "<tr><td>type   </td><td>int               </td><td>int               </td><td>real              </td><td>int              </td><td>int              </td><td>int                </td><td>int               </td><td>real              </td><td>int               </td><td>int               </td><td>int              </td><td>int              </td><td>int               </td><td>int               </td><td>int              </td><td>int               </td><td>int              </td><td>int                </td><td>int              </td><td>int               </td><td>int               </td></tr>\n",
       "<tr><td>mins   </td><td>501.0             </td><td>0.0               </td><td>0.5               </td><td>0.0              </td><td>0.0              </td><td>0.0                </td><td>2.0               </td><td>0.1               </td><td>80.0              </td><td>1.0               </td><td>0.0              </td><td>0.0              </td><td>500.0             </td><td>256.0             </td><td>5.0              </td><td>0.0               </td><td>2.0              </td><td>0.0                </td><td>0.0              </td><td>0.0               </td><td>0.0               </td></tr>\n",
       "<tr><td>mean   </td><td>1238.5185         </td><td>0.495             </td><td>1.52225           </td><td>0.5095           </td><td>4.3095           </td><td>0.5215             </td><td>32.046499999999995</td><td>0.50175           </td><td>140.249           </td><td>4.5205            </td><td>9.9165           </td><td>645.108          </td><td>1251.5155         </td><td>2124.213          </td><td>12.3065          </td><td>5.767             </td><td>11.011           </td><td>0.7615             </td><td>0.503            </td><td>0.507             </td><td>1.5               </td></tr>\n",
       "<tr><td>maxs   </td><td>1998.0            </td><td>1.0               </td><td>3.0               </td><td>1.0              </td><td>19.0             </td><td>1.0                </td><td>64.0              </td><td>1.0               </td><td>200.0             </td><td>8.0               </td><td>20.0             </td><td>1960.0           </td><td>1998.0            </td><td>3998.0            </td><td>19.0             </td><td>18.0              </td><td>20.0             </td><td>1.0                </td><td>1.0              </td><td>1.0               </td><td>3.0               </td></tr>\n",
       "<tr><td>sigma  </td><td>439.41820608353135</td><td>0.5001000400170075</td><td>0.8160042088950689</td><td>0.500034766175005</td><td>4.341443747983894</td><td>0.49966246736236386</td><td>18.14571495520686 </td><td>0.2884155496235116</td><td>35.399654896388355</td><td>2.2878367180426604</td><td>6.064314941347781</td><td>443.7808108064385</td><td>432.19944694633796</td><td>1084.7320436099494</td><td>4.213245004356305</td><td>4.3563976058264045</td><td>5.463955197766688</td><td>0.42627292231873126</td><td>0.500116044562674</td><td>0.5000760322381083</td><td>1.1183136021064612</td></tr>\n",
       "<tr><td>zeros  </td><td>0                 </td><td>1010              </td><td>0                 </td><td>981              </td><td>474              </td><td>957                </td><td>0                 </td><td>0                 </td><td>0                 </td><td>0                 </td><td>101              </td><td>2                </td><td>0                 </td><td>0                 </td><td>0                </td><td>180               </td><td>0                </td><td>477                </td><td>994              </td><td>986               </td><td>500               </td></tr>\n",
       "<tr><td>missing</td><td>0                 </td><td>0                 </td><td>0                 </td><td>0                </td><td>0                </td><td>0                  </td><td>0                 </td><td>0                 </td><td>0                 </td><td>0                 </td><td>0                </td><td>0                </td><td>0                 </td><td>0                 </td><td>0                </td><td>0                 </td><td>0                </td><td>0                  </td><td>0                </td><td>0                 </td><td>0                 </td></tr>\n",
       "<tr><td>0      </td><td>842.0             </td><td>0.0               </td><td>2.2               </td><td>0.0              </td><td>1.0              </td><td>0.0                </td><td>7.0               </td><td>0.6               </td><td>188.0             </td><td>2.0               </td><td>2.0              </td><td>20.0             </td><td>756.0             </td><td>2549.0            </td><td>9.0              </td><td>7.0               </td><td>19.0             </td><td>0.0                </td><td>0.0              </td><td>1.0               </td><td>1.0               </td></tr>\n",
       "<tr><td>1      </td><td>1021.0            </td><td>1.0               </td><td>0.5               </td><td>1.0              </td><td>0.0              </td><td>1.0                </td><td>53.0              </td><td>0.7               </td><td>136.0             </td><td>3.0               </td><td>6.0              </td><td>905.0            </td><td>1988.0            </td><td>2631.0            </td><td>17.0             </td><td>3.0               </td><td>7.0              </td><td>1.0                </td><td>1.0              </td><td>0.0               </td><td>2.0               </td></tr>\n",
       "<tr><td>2      </td><td>563.0             </td><td>1.0               </td><td>0.5               </td><td>1.0              </td><td>2.0              </td><td>1.0                </td><td>41.0              </td><td>0.9               </td><td>145.0             </td><td>5.0               </td><td>6.0              </td><td>1263.0           </td><td>1716.0            </td><td>2603.0            </td><td>11.0             </td><td>2.0               </td><td>9.0              </td><td>1.0                </td><td>1.0              </td><td>0.0               </td><td>2.0               </td></tr>\n",
       "<tr><td>3      </td><td>615.0             </td><td>1.0               </td><td>2.5               </td><td>0.0              </td><td>0.0              </td><td>0.0                </td><td>10.0              </td><td>0.8               </td><td>131.0             </td><td>6.0               </td><td>9.0              </td><td>1216.0           </td><td>1786.0            </td><td>2769.0            </td><td>16.0             </td><td>8.0               </td><td>11.0             </td><td>1.0                </td><td>0.0              </td><td>0.0               </td><td>2.0               </td></tr>\n",
       "<tr><td>4      </td><td>1821.0            </td><td>1.0               </td><td>1.2               </td><td>0.0              </td><td>13.0             </td><td>1.0                </td><td>44.0              </td><td>0.6               </td><td>141.0             </td><td>2.0               </td><td>14.0             </td><td>1208.0           </td><td>1212.0            </td><td>1411.0            </td><td>8.0              </td><td>2.0               </td><td>15.0             </td><td>1.0                </td><td>1.0              </td><td>0.0               </td><td>1.0               </td></tr>\n",
       "<tr><td>5      </td><td>1859.0            </td><td>0.0               </td><td>0.5               </td><td>1.0              </td><td>3.0              </td><td>0.0                </td><td>22.0              </td><td>0.7               </td><td>164.0             </td><td>1.0               </td><td>7.0              </td><td>1004.0           </td><td>1654.0            </td><td>1067.0            </td><td>17.0             </td><td>1.0               </td><td>10.0             </td><td>1.0                </td><td>0.0              </td><td>0.0               </td><td>1.0               </td></tr>\n",
       "<tr><td>6      </td><td>1821.0            </td><td>0.0               </td><td>1.7               </td><td>0.0              </td><td>4.0              </td><td>1.0                </td><td>10.0              </td><td>0.8               </td><td>139.0             </td><td>8.0               </td><td>10.0             </td><td>381.0            </td><td>1018.0            </td><td>3220.0            </td><td>13.0             </td><td>8.0               </td><td>18.0             </td><td>1.0                </td><td>0.0              </td><td>1.0               </td><td>3.0               </td></tr>\n",
       "<tr><td>7      </td><td>1954.0            </td><td>0.0               </td><td>0.5               </td><td>1.0              </td><td>0.0              </td><td>0.0                </td><td>24.0              </td><td>0.8               </td><td>187.0             </td><td>4.0               </td><td>0.0              </td><td>512.0            </td><td>1149.0            </td><td>700.0             </td><td>16.0             </td><td>3.0               </td><td>5.0              </td><td>1.0                </td><td>1.0              </td><td>1.0               </td><td>0.0               </td></tr>\n",
       "<tr><td>8      </td><td>1445.0            </td><td>1.0               </td><td>0.5               </td><td>0.0              </td><td>0.0              </td><td>0.0                </td><td>53.0              </td><td>0.7               </td><td>174.0             </td><td>7.0               </td><td>14.0             </td><td>386.0            </td><td>836.0             </td><td>1099.0            </td><td>17.0             </td><td>1.0               </td><td>20.0             </td><td>1.0                </td><td>0.0              </td><td>0.0               </td><td>0.0               </td></tr>\n",
       "<tr><td>9      </td><td>509.0             </td><td>1.0               </td><td>0.6               </td><td>1.0              </td><td>2.0              </td><td>1.0                </td><td>9.0               </td><td>0.1               </td><td>93.0              </td><td>5.0               </td><td>15.0             </td><td>1137.0           </td><td>1224.0            </td><td>513.0             </td><td>19.0             </td><td>10.0              </td><td>12.0             </td><td>1.0                </td><td>0.0              </td><td>0.0               </td><td>0.0               </td></tr>\n",
       "</tbody>\n",
       "</table>"
      ]
     },
     "metadata": {},
     "output_type": "display_data"
    }
   ],
   "source": [
    "df.describe()"
   ]
  },
  {
   "cell_type": "code",
   "execution_count": 30,
   "metadata": {},
   "outputs": [
    {
     "data": {
      "text/plain": [
       "{'battery_power': 'int',\n",
       " 'blue': 'int',\n",
       " 'clock_speed': 'real',\n",
       " 'dual_sim': 'int',\n",
       " 'fc': 'int',\n",
       " 'four_g': 'int',\n",
       " 'int_memory': 'int',\n",
       " 'm_dep': 'real',\n",
       " 'mobile_wt': 'int',\n",
       " 'n_cores': 'int',\n",
       " 'pc': 'int',\n",
       " 'price_range': 'int',\n",
       " 'px_height': 'int',\n",
       " 'px_width': 'int',\n",
       " 'ram': 'int',\n",
       " 'sc_h': 'int',\n",
       " 'sc_w': 'int',\n",
       " 'talk_time': 'int',\n",
       " 'three_g': 'int',\n",
       " 'touch_screen': 'int',\n",
       " 'wifi': 'int'}"
      ]
     },
     "execution_count": 30,
     "metadata": {},
     "output_type": "execute_result"
    }
   ],
   "source": [
    "allV=get_variables_types(df)\n",
    "allV"
   ]
  },
  {
   "cell_type": "code",
   "execution_count": 31,
   "metadata": {},
   "outputs": [],
   "source": [
    "meta_data['variables']=allV"
   ]
  },
  {
   "cell_type": "code",
   "execution_count": 32,
   "metadata": {},
   "outputs": [],
   "source": [
    "# split into training and test for showing how to predict\n",
    "train, test = df.split_frame([0.9])"
   ]
  },
  {
   "cell_type": "code",
   "execution_count": 33,
   "metadata": {},
   "outputs": [],
   "source": [
    "# Set up AutoML\n",
    "\n",
    "aml = H2OAutoML(max_runtime_secs=run_time,project_name = name)"
   ]
  },
  {
   "cell_type": "code",
   "execution_count": 34,
   "metadata": {},
   "outputs": [],
   "source": [
    "model_start_time = time.time()"
   ]
  },
  {
   "cell_type": "code",
   "execution_count": 35,
   "metadata": {},
   "outputs": [
    {
     "name": "stdout",
     "output_type": "stream",
     "text": [
      "AutoML progress: |████████████████████████████████████████████████████████| 100%\n"
     ]
    }
   ],
   "source": [
    "aml.train(x=X,y=y,training_frame=train)"
   ]
  },
  {
   "cell_type": "code",
   "execution_count": 36,
   "metadata": {},
   "outputs": [],
   "source": [
    "meta_data['model_execution_time'] = time.time() - model_start_time"
   ]
  },
  {
   "cell_type": "code",
   "execution_count": 37,
   "metadata": {},
   "outputs": [],
   "source": [
    "# get leaderboard\n",
    "aml_leaderboard_df=aml.leaderboard.as_data_frame()"
   ]
  },
  {
   "cell_type": "code",
   "execution_count": 38,
   "metadata": {},
   "outputs": [
    {
     "data": {
      "text/html": [
       "<div>\n",
       "<style scoped>\n",
       "    .dataframe tbody tr th:only-of-type {\n",
       "        vertical-align: middle;\n",
       "    }\n",
       "\n",
       "    .dataframe tbody tr th {\n",
       "        vertical-align: top;\n",
       "    }\n",
       "\n",
       "    .dataframe thead th {\n",
       "        text-align: right;\n",
       "    }\n",
       "</style>\n",
       "<table border=\"1\" class=\"dataframe\">\n",
       "  <thead>\n",
       "    <tr style=\"text-align: right;\">\n",
       "      <th></th>\n",
       "      <th>model_id</th>\n",
       "      <th>mean_residual_deviance</th>\n",
       "      <th>rmse</th>\n",
       "      <th>mse</th>\n",
       "      <th>mae</th>\n",
       "      <th>rmsle</th>\n",
       "    </tr>\n",
       "  </thead>\n",
       "  <tbody>\n",
       "    <tr>\n",
       "      <th>0</th>\n",
       "      <td>GBM_grid_0_AutoML_20181030_054456_model_5</td>\n",
       "      <td>5.189073</td>\n",
       "      <td>2.277954</td>\n",
       "      <td>5.189073</td>\n",
       "      <td>1.973794</td>\n",
       "      <td>0.491173</td>\n",
       "    </tr>\n",
       "    <tr>\n",
       "      <th>1</th>\n",
       "      <td>GBM_grid_0_AutoML_20181030_054456_model_6</td>\n",
       "      <td>5.193357</td>\n",
       "      <td>2.278894</td>\n",
       "      <td>5.193357</td>\n",
       "      <td>1.974453</td>\n",
       "      <td>0.491385</td>\n",
       "    </tr>\n",
       "    <tr>\n",
       "      <th>2</th>\n",
       "      <td>GBM_grid_0_AutoML_20181030_054456_model_9</td>\n",
       "      <td>5.196287</td>\n",
       "      <td>2.279537</td>\n",
       "      <td>5.196287</td>\n",
       "      <td>1.975102</td>\n",
       "      <td>0.491457</td>\n",
       "    </tr>\n",
       "    <tr>\n",
       "      <th>3</th>\n",
       "      <td>GBM_grid_0_AutoML_20181030_054456_model_7</td>\n",
       "      <td>5.196642</td>\n",
       "      <td>2.279614</td>\n",
       "      <td>5.196642</td>\n",
       "      <td>1.975201</td>\n",
       "      <td>0.491521</td>\n",
       "    </tr>\n",
       "    <tr>\n",
       "      <th>4</th>\n",
       "      <td>GBM_grid_0_AutoML_20181030_054456_model_8</td>\n",
       "      <td>5.196898</td>\n",
       "      <td>2.279671</td>\n",
       "      <td>5.196898</td>\n",
       "      <td>1.975033</td>\n",
       "      <td>0.491429</td>\n",
       "    </tr>\n",
       "    <tr>\n",
       "      <th>5</th>\n",
       "      <td>GLM_grid_0_AutoML_20181030_054456_model_0</td>\n",
       "      <td>5.197079</td>\n",
       "      <td>2.279710</td>\n",
       "      <td>5.197079</td>\n",
       "      <td>1.974651</td>\n",
       "      <td>0.491537</td>\n",
       "    </tr>\n",
       "    <tr>\n",
       "      <th>6</th>\n",
       "      <td>StackedEnsemble_AllModels_0_AutoML_20181030_05...</td>\n",
       "      <td>5.199524</td>\n",
       "      <td>2.280247</td>\n",
       "      <td>5.199524</td>\n",
       "      <td>1.975584</td>\n",
       "      <td>0.491404</td>\n",
       "    </tr>\n",
       "    <tr>\n",
       "      <th>7</th>\n",
       "      <td>StackedEnsemble_BestOfFamily_0_AutoML_20181030...</td>\n",
       "      <td>5.206339</td>\n",
       "      <td>2.281740</td>\n",
       "      <td>5.206339</td>\n",
       "      <td>1.977199</td>\n",
       "      <td>0.491741</td>\n",
       "    </tr>\n",
       "    <tr>\n",
       "      <th>8</th>\n",
       "      <td>DeepLearning_0_AutoML_20181030_054456</td>\n",
       "      <td>5.269005</td>\n",
       "      <td>2.295431</td>\n",
       "      <td>5.269005</td>\n",
       "      <td>1.970495</td>\n",
       "      <td>0.491726</td>\n",
       "    </tr>\n",
       "    <tr>\n",
       "      <th>9</th>\n",
       "      <td>GBM_grid_0_AutoML_20181030_054456_model_4</td>\n",
       "      <td>5.271198</td>\n",
       "      <td>2.295909</td>\n",
       "      <td>5.271198</td>\n",
       "      <td>1.975024</td>\n",
       "      <td>0.493499</td>\n",
       "    </tr>\n",
       "    <tr>\n",
       "      <th>10</th>\n",
       "      <td>DeepLearning_grid_0_AutoML_20181030_054456_mod...</td>\n",
       "      <td>5.422523</td>\n",
       "      <td>2.328631</td>\n",
       "      <td>5.422523</td>\n",
       "      <td>1.983147</td>\n",
       "      <td>0.499719</td>\n",
       "    </tr>\n",
       "    <tr>\n",
       "      <th>11</th>\n",
       "      <td>GBM_grid_0_AutoML_20181030_054456_model_0</td>\n",
       "      <td>5.546494</td>\n",
       "      <td>2.355100</td>\n",
       "      <td>5.546494</td>\n",
       "      <td>2.013104</td>\n",
       "      <td>0.502391</td>\n",
       "    </tr>\n",
       "    <tr>\n",
       "      <th>12</th>\n",
       "      <td>GBM_grid_0_AutoML_20181030_054456_model_2</td>\n",
       "      <td>5.562442</td>\n",
       "      <td>2.358483</td>\n",
       "      <td>5.562442</td>\n",
       "      <td>2.014414</td>\n",
       "      <td>0.502023</td>\n",
       "    </tr>\n",
       "    <tr>\n",
       "      <th>13</th>\n",
       "      <td>DeepLearning_grid_0_AutoML_20181030_054456_mod...</td>\n",
       "      <td>5.590679</td>\n",
       "      <td>2.364462</td>\n",
       "      <td>5.590679</td>\n",
       "      <td>1.999744</td>\n",
       "      <td>0.497136</td>\n",
       "    </tr>\n",
       "    <tr>\n",
       "      <th>14</th>\n",
       "      <td>GBM_grid_0_AutoML_20181030_054456_model_1</td>\n",
       "      <td>5.641464</td>\n",
       "      <td>2.375177</td>\n",
       "      <td>5.641464</td>\n",
       "      <td>2.035250</td>\n",
       "      <td>0.504583</td>\n",
       "    </tr>\n",
       "    <tr>\n",
       "      <th>15</th>\n",
       "      <td>GBM_grid_0_AutoML_20181030_054456_model_3</td>\n",
       "      <td>5.691019</td>\n",
       "      <td>2.385586</td>\n",
       "      <td>5.691019</td>\n",
       "      <td>2.044008</td>\n",
       "      <td>0.506000</td>\n",
       "    </tr>\n",
       "    <tr>\n",
       "      <th>16</th>\n",
       "      <td>XRT_0_AutoML_20181030_054456</td>\n",
       "      <td>5.697861</td>\n",
       "      <td>2.387019</td>\n",
       "      <td>5.697861</td>\n",
       "      <td>2.028516</td>\n",
       "      <td>0.505487</td>\n",
       "    </tr>\n",
       "    <tr>\n",
       "      <th>17</th>\n",
       "      <td>DRF_0_AutoML_20181030_054456</td>\n",
       "      <td>5.869969</td>\n",
       "      <td>2.422802</td>\n",
       "      <td>5.869969</td>\n",
       "      <td>2.054350</td>\n",
       "      <td>0.514906</td>\n",
       "    </tr>\n",
       "    <tr>\n",
       "      <th>18</th>\n",
       "      <td>DeepLearning_grid_0_AutoML_20181030_054456_mod...</td>\n",
       "      <td>6.279790</td>\n",
       "      <td>2.505951</td>\n",
       "      <td>6.279790</td>\n",
       "      <td>2.094562</td>\n",
       "      <td>0.530992</td>\n",
       "    </tr>\n",
       "    <tr>\n",
       "      <th>19</th>\n",
       "      <td>DeepLearning_grid_0_AutoML_20181030_054456_mod...</td>\n",
       "      <td>7.355195</td>\n",
       "      <td>2.712046</td>\n",
       "      <td>7.355195</td>\n",
       "      <td>2.267813</td>\n",
       "      <td>0.569705</td>\n",
       "    </tr>\n",
       "  </tbody>\n",
       "</table>\n",
       "</div>"
      ],
      "text/plain": [
       "                                             model_id  mean_residual_deviance  \\\n",
       "0           GBM_grid_0_AutoML_20181030_054456_model_5                5.189073   \n",
       "1           GBM_grid_0_AutoML_20181030_054456_model_6                5.193357   \n",
       "2           GBM_grid_0_AutoML_20181030_054456_model_9                5.196287   \n",
       "3           GBM_grid_0_AutoML_20181030_054456_model_7                5.196642   \n",
       "4           GBM_grid_0_AutoML_20181030_054456_model_8                5.196898   \n",
       "5           GLM_grid_0_AutoML_20181030_054456_model_0                5.197079   \n",
       "6   StackedEnsemble_AllModels_0_AutoML_20181030_05...                5.199524   \n",
       "7   StackedEnsemble_BestOfFamily_0_AutoML_20181030...                5.206339   \n",
       "8               DeepLearning_0_AutoML_20181030_054456                5.269005   \n",
       "9           GBM_grid_0_AutoML_20181030_054456_model_4                5.271198   \n",
       "10  DeepLearning_grid_0_AutoML_20181030_054456_mod...                5.422523   \n",
       "11          GBM_grid_0_AutoML_20181030_054456_model_0                5.546494   \n",
       "12          GBM_grid_0_AutoML_20181030_054456_model_2                5.562442   \n",
       "13  DeepLearning_grid_0_AutoML_20181030_054456_mod...                5.590679   \n",
       "14          GBM_grid_0_AutoML_20181030_054456_model_1                5.641464   \n",
       "15          GBM_grid_0_AutoML_20181030_054456_model_3                5.691019   \n",
       "16                       XRT_0_AutoML_20181030_054456                5.697861   \n",
       "17                       DRF_0_AutoML_20181030_054456                5.869969   \n",
       "18  DeepLearning_grid_0_AutoML_20181030_054456_mod...                6.279790   \n",
       "19  DeepLearning_grid_0_AutoML_20181030_054456_mod...                7.355195   \n",
       "\n",
       "        rmse       mse       mae     rmsle  \n",
       "0   2.277954  5.189073  1.973794  0.491173  \n",
       "1   2.278894  5.193357  1.974453  0.491385  \n",
       "2   2.279537  5.196287  1.975102  0.491457  \n",
       "3   2.279614  5.196642  1.975201  0.491521  \n",
       "4   2.279671  5.196898  1.975033  0.491429  \n",
       "5   2.279710  5.197079  1.974651  0.491537  \n",
       "6   2.280247  5.199524  1.975584  0.491404  \n",
       "7   2.281740  5.206339  1.977199  0.491741  \n",
       "8   2.295431  5.269005  1.970495  0.491726  \n",
       "9   2.295909  5.271198  1.975024  0.493499  \n",
       "10  2.328631  5.422523  1.983147  0.499719  \n",
       "11  2.355100  5.546494  2.013104  0.502391  \n",
       "12  2.358483  5.562442  2.014414  0.502023  \n",
       "13  2.364462  5.590679  1.999744  0.497136  \n",
       "14  2.375177  5.641464  2.035250  0.504583  \n",
       "15  2.385586  5.691019  2.044008  0.506000  \n",
       "16  2.387019  5.697861  2.028516  0.505487  \n",
       "17  2.422802  5.869969  2.054350  0.514906  \n",
       "18  2.505951  6.279790  2.094562  0.530992  \n",
       "19  2.712046  7.355195  2.267813  0.569705  "
      ]
     },
     "execution_count": 38,
     "metadata": {},
     "output_type": "execute_result"
    }
   ],
   "source": [
    "aml_leaderboard_df"
   ]
  },
  {
   "cell_type": "code",
   "execution_count": 39,
   "metadata": {},
   "outputs": [],
   "source": [
    "# Start best model as first model\n",
    "\n",
    "model_set=aml_leaderboard_df['model_id']\n",
    "mod_best=h2o.get_model(model_set[0])"
   ]
  },
  {
   "cell_type": "code",
   "execution_count": 40,
   "metadata": {},
   "outputs": [
    {
     "data": {
      "text/plain": [
       "'GBM_grid_0_AutoML_20181030_054456_model_5'"
      ]
     },
     "execution_count": 40,
     "metadata": {},
     "output_type": "execute_result"
    }
   ],
   "source": [
    "mod_best._id"
   ]
  },
  {
   "cell_type": "code",
   "execution_count": 41,
   "metadata": {},
   "outputs": [],
   "source": [
    "# Get stacked ensemble  \n",
    "se=get_stacked_ensemble(model_set)"
   ]
  },
  {
   "cell_type": "code",
   "execution_count": 42,
   "metadata": {},
   "outputs": [
    {
     "name": "stdout",
     "output_type": "stream",
     "text": [
      "StackedEnsemble_BestOfFamily_0_AutoML_20181030_054456\n"
     ]
    }
   ],
   "source": [
    "print(se)"
   ]
  },
  {
   "cell_type": "code",
   "execution_count": 43,
   "metadata": {},
   "outputs": [],
   "source": [
    "if se is not None:\n",
    "  mod_best=h2o.get_model(se)"
   ]
  },
  {
   "cell_type": "code",
   "execution_count": 44,
   "metadata": {},
   "outputs": [
    {
     "data": {
      "text/plain": [
       "'StackedEnsemble_BestOfFamily_0_AutoML_20181030_054456'"
      ]
     },
     "execution_count": 44,
     "metadata": {},
     "output_type": "execute_result"
    }
   ],
   "source": [
    "mod_best._id"
   ]
  },
  {
   "cell_type": "code",
   "execution_count": 45,
   "metadata": {},
   "outputs": [
    {
     "data": {
      "text/plain": [
       "<function h2o.model.model_base.ModelBase._get_metrics>"
      ]
     },
     "execution_count": 45,
     "metadata": {},
     "output_type": "execute_result"
    }
   ],
   "source": [
    "mod_best._get_metrics"
   ]
  },
  {
   "cell_type": "code",
   "execution_count": 46,
   "metadata": {},
   "outputs": [
    {
     "data": {
      "text/plain": [
       "h2o.estimators.stackedensemble.H2OStackedEnsembleEstimator"
      ]
     },
     "execution_count": 46,
     "metadata": {},
     "output_type": "execute_result"
    }
   ],
   "source": [
    "type(mod_best)"
   ]
  },
  {
   "cell_type": "code",
   "execution_count": 47,
   "metadata": {},
   "outputs": [
    {
     "name": "stdout",
     "output_type": "stream",
     "text": [
      "Model Details\n",
      "=============\n",
      "H2OStackedEnsembleEstimator :  Stacked Ensemble\n",
      "Model Key:  StackedEnsemble_BestOfFamily_0_AutoML_20181030_054456\n",
      "No model summary for this model\n",
      "\n",
      "\n",
      "ModelMetricsRegressionGLM: stackedensemble\n",
      "** Reported on train data. **\n",
      "\n",
      "MSE: 5.191749743153718\n",
      "RMSE: 2.2785411436166165\n",
      "MAE: 1.9741665780989834\n",
      "RMSLE: 0.4913468227609493\n",
      "R^2: 2.220446049250313e-16\n",
      "Mean Residual Deviance: 5.191749743153718\n",
      "Null degrees of freedom: 1454\n",
      "Residual degrees of freedom: 1454\n",
      "Null deviance: 7553.995876288654\n",
      "Residual deviance: 7553.99587628866\n",
      "AIC: 6529.5991132794115\n",
      "\n",
      "ModelMetricsRegressionGLM: stackedensemble\n",
      "** Reported on validation data. **\n",
      "\n",
      "MSE: 5.608224874153374\n",
      "RMSE: 2.3681690974576486\n",
      "MAE: 2.097697985004686\n",
      "RMSLE: 0.48616495942342375\n",
      "R^2: -0.02230700452260348\n",
      "Mean Residual Deviance: 5.608224874153374\n",
      "Null degrees of freedom: 351\n",
      "Residual degrees of freedom: 351\n",
      "Null deviance: 1974.0951557019876\n",
      "Residual deviance: 1974.0951557019876\n",
      "AIC: 1609.8631825816778\n",
      "\n",
      "ModelMetricsRegressionGLM: stackedensemble\n",
      "** Reported on cross-validation data. **\n",
      "\n",
      "MSE: 5.206339350025496\n",
      "RMSE: 2.2817404212630095\n",
      "MAE: 1.9771992330735346\n",
      "RMSLE: 0.4917410609970693\n",
      "R^2: -0.0028101521825116826\n",
      "Mean Residual Deviance: 5.206339350025496\n",
      "Null degrees of freedom: 1454\n",
      "Residual degrees of freedom: 1454\n",
      "Null deviance: 7574.670687837666\n",
      "Residual deviance: 7575.223754287097\n",
      "AIC: 6533.682150410309\n",
      "<bound method ModelBase.coef_norm of >\n"
     ]
    }
   ],
   "source": [
    "mods=mod_best.coef_norm\n",
    "print(mods)"
   ]
  },
  {
   "cell_type": "code",
   "execution_count": 48,
   "metadata": {},
   "outputs": [],
   "source": [
    "bm=stackedensemble_df(aml_leaderboard_df)"
   ]
  },
  {
   "cell_type": "code",
   "execution_count": 49,
   "metadata": {},
   "outputs": [
    {
     "data": {
      "text/plain": [
       "['GBM_grid_0_AutoML_20181030_054456_model_5',\n",
       " 'GLM_grid_0_AutoML_20181030_054456_model_0',\n",
       " 'DRF_0_AutoML_20181030_054456',\n",
       " 'XRT_0_AutoML_20181030_054456',\n",
       " 'DeepLearning_0_AutoML_20181030_054456']"
      ]
     },
     "execution_count": 49,
     "metadata": {},
     "output_type": "execute_result"
    }
   ],
   "source": [
    "bm"
   ]
  },
  {
   "cell_type": "code",
   "execution_count": 50,
   "metadata": {},
   "outputs": [
    {
     "data": {
      "text/html": [
       "<div>\n",
       "<style scoped>\n",
       "    .dataframe tbody tr th:only-of-type {\n",
       "        vertical-align: middle;\n",
       "    }\n",
       "\n",
       "    .dataframe tbody tr th {\n",
       "        vertical-align: top;\n",
       "    }\n",
       "\n",
       "    .dataframe thead th {\n",
       "        text-align: right;\n",
       "    }\n",
       "</style>\n",
       "<table border=\"1\" class=\"dataframe\">\n",
       "  <thead>\n",
       "    <tr style=\"text-align: right;\">\n",
       "      <th></th>\n",
       "      <th>model_id</th>\n",
       "      <th>mean_residual_deviance</th>\n",
       "      <th>rmse</th>\n",
       "      <th>mse</th>\n",
       "      <th>mae</th>\n",
       "      <th>rmsle</th>\n",
       "    </tr>\n",
       "  </thead>\n",
       "  <tbody>\n",
       "    <tr>\n",
       "      <th>0</th>\n",
       "      <td>GBM_grid_0_AutoML_20181030_054456_model_5</td>\n",
       "      <td>5.189073</td>\n",
       "      <td>2.277954</td>\n",
       "      <td>5.189073</td>\n",
       "      <td>1.973794</td>\n",
       "      <td>0.491173</td>\n",
       "    </tr>\n",
       "    <tr>\n",
       "      <th>1</th>\n",
       "      <td>GBM_grid_0_AutoML_20181030_054456_model_6</td>\n",
       "      <td>5.193357</td>\n",
       "      <td>2.278894</td>\n",
       "      <td>5.193357</td>\n",
       "      <td>1.974453</td>\n",
       "      <td>0.491385</td>\n",
       "    </tr>\n",
       "    <tr>\n",
       "      <th>2</th>\n",
       "      <td>GBM_grid_0_AutoML_20181030_054456_model_9</td>\n",
       "      <td>5.196287</td>\n",
       "      <td>2.279537</td>\n",
       "      <td>5.196287</td>\n",
       "      <td>1.975102</td>\n",
       "      <td>0.491457</td>\n",
       "    </tr>\n",
       "    <tr>\n",
       "      <th>3</th>\n",
       "      <td>GBM_grid_0_AutoML_20181030_054456_model_7</td>\n",
       "      <td>5.196642</td>\n",
       "      <td>2.279614</td>\n",
       "      <td>5.196642</td>\n",
       "      <td>1.975201</td>\n",
       "      <td>0.491521</td>\n",
       "    </tr>\n",
       "    <tr>\n",
       "      <th>4</th>\n",
       "      <td>GBM_grid_0_AutoML_20181030_054456_model_8</td>\n",
       "      <td>5.196898</td>\n",
       "      <td>2.279671</td>\n",
       "      <td>5.196898</td>\n",
       "      <td>1.975033</td>\n",
       "      <td>0.491429</td>\n",
       "    </tr>\n",
       "    <tr>\n",
       "      <th>5</th>\n",
       "      <td>GLM_grid_0_AutoML_20181030_054456_model_0</td>\n",
       "      <td>5.197079</td>\n",
       "      <td>2.279710</td>\n",
       "      <td>5.197079</td>\n",
       "      <td>1.974651</td>\n",
       "      <td>0.491537</td>\n",
       "    </tr>\n",
       "    <tr>\n",
       "      <th>6</th>\n",
       "      <td>StackedEnsemble_AllModels_0_AutoML_20181030_05...</td>\n",
       "      <td>5.199524</td>\n",
       "      <td>2.280247</td>\n",
       "      <td>5.199524</td>\n",
       "      <td>1.975584</td>\n",
       "      <td>0.491404</td>\n",
       "    </tr>\n",
       "    <tr>\n",
       "      <th>7</th>\n",
       "      <td>StackedEnsemble_BestOfFamily_0_AutoML_20181030...</td>\n",
       "      <td>5.206339</td>\n",
       "      <td>2.281740</td>\n",
       "      <td>5.206339</td>\n",
       "      <td>1.977199</td>\n",
       "      <td>0.491741</td>\n",
       "    </tr>\n",
       "    <tr>\n",
       "      <th>8</th>\n",
       "      <td>DeepLearning_0_AutoML_20181030_054456</td>\n",
       "      <td>5.269005</td>\n",
       "      <td>2.295431</td>\n",
       "      <td>5.269005</td>\n",
       "      <td>1.970495</td>\n",
       "      <td>0.491726</td>\n",
       "    </tr>\n",
       "    <tr>\n",
       "      <th>9</th>\n",
       "      <td>GBM_grid_0_AutoML_20181030_054456_model_4</td>\n",
       "      <td>5.271198</td>\n",
       "      <td>2.295909</td>\n",
       "      <td>5.271198</td>\n",
       "      <td>1.975024</td>\n",
       "      <td>0.493499</td>\n",
       "    </tr>\n",
       "    <tr>\n",
       "      <th>10</th>\n",
       "      <td>DeepLearning_grid_0_AutoML_20181030_054456_mod...</td>\n",
       "      <td>5.422523</td>\n",
       "      <td>2.328631</td>\n",
       "      <td>5.422523</td>\n",
       "      <td>1.983147</td>\n",
       "      <td>0.499719</td>\n",
       "    </tr>\n",
       "    <tr>\n",
       "      <th>11</th>\n",
       "      <td>GBM_grid_0_AutoML_20181030_054456_model_0</td>\n",
       "      <td>5.546494</td>\n",
       "      <td>2.355100</td>\n",
       "      <td>5.546494</td>\n",
       "      <td>2.013104</td>\n",
       "      <td>0.502391</td>\n",
       "    </tr>\n",
       "    <tr>\n",
       "      <th>12</th>\n",
       "      <td>GBM_grid_0_AutoML_20181030_054456_model_2</td>\n",
       "      <td>5.562442</td>\n",
       "      <td>2.358483</td>\n",
       "      <td>5.562442</td>\n",
       "      <td>2.014414</td>\n",
       "      <td>0.502023</td>\n",
       "    </tr>\n",
       "    <tr>\n",
       "      <th>13</th>\n",
       "      <td>DeepLearning_grid_0_AutoML_20181030_054456_mod...</td>\n",
       "      <td>5.590679</td>\n",
       "      <td>2.364462</td>\n",
       "      <td>5.590679</td>\n",
       "      <td>1.999744</td>\n",
       "      <td>0.497136</td>\n",
       "    </tr>\n",
       "    <tr>\n",
       "      <th>14</th>\n",
       "      <td>GBM_grid_0_AutoML_20181030_054456_model_1</td>\n",
       "      <td>5.641464</td>\n",
       "      <td>2.375177</td>\n",
       "      <td>5.641464</td>\n",
       "      <td>2.035250</td>\n",
       "      <td>0.504583</td>\n",
       "    </tr>\n",
       "    <tr>\n",
       "      <th>15</th>\n",
       "      <td>GBM_grid_0_AutoML_20181030_054456_model_3</td>\n",
       "      <td>5.691019</td>\n",
       "      <td>2.385586</td>\n",
       "      <td>5.691019</td>\n",
       "      <td>2.044008</td>\n",
       "      <td>0.506000</td>\n",
       "    </tr>\n",
       "    <tr>\n",
       "      <th>16</th>\n",
       "      <td>XRT_0_AutoML_20181030_054456</td>\n",
       "      <td>5.697861</td>\n",
       "      <td>2.387019</td>\n",
       "      <td>5.697861</td>\n",
       "      <td>2.028516</td>\n",
       "      <td>0.505487</td>\n",
       "    </tr>\n",
       "    <tr>\n",
       "      <th>17</th>\n",
       "      <td>DRF_0_AutoML_20181030_054456</td>\n",
       "      <td>5.869969</td>\n",
       "      <td>2.422802</td>\n",
       "      <td>5.869969</td>\n",
       "      <td>2.054350</td>\n",
       "      <td>0.514906</td>\n",
       "    </tr>\n",
       "    <tr>\n",
       "      <th>18</th>\n",
       "      <td>DeepLearning_grid_0_AutoML_20181030_054456_mod...</td>\n",
       "      <td>6.279790</td>\n",
       "      <td>2.505951</td>\n",
       "      <td>6.279790</td>\n",
       "      <td>2.094562</td>\n",
       "      <td>0.530992</td>\n",
       "    </tr>\n",
       "    <tr>\n",
       "      <th>19</th>\n",
       "      <td>DeepLearning_grid_0_AutoML_20181030_054456_mod...</td>\n",
       "      <td>7.355195</td>\n",
       "      <td>2.712046</td>\n",
       "      <td>7.355195</td>\n",
       "      <td>2.267813</td>\n",
       "      <td>0.569705</td>\n",
       "    </tr>\n",
       "  </tbody>\n",
       "</table>\n",
       "</div>"
      ],
      "text/plain": [
       "                                             model_id  mean_residual_deviance  \\\n",
       "0           GBM_grid_0_AutoML_20181030_054456_model_5                5.189073   \n",
       "1           GBM_grid_0_AutoML_20181030_054456_model_6                5.193357   \n",
       "2           GBM_grid_0_AutoML_20181030_054456_model_9                5.196287   \n",
       "3           GBM_grid_0_AutoML_20181030_054456_model_7                5.196642   \n",
       "4           GBM_grid_0_AutoML_20181030_054456_model_8                5.196898   \n",
       "5           GLM_grid_0_AutoML_20181030_054456_model_0                5.197079   \n",
       "6   StackedEnsemble_AllModels_0_AutoML_20181030_05...                5.199524   \n",
       "7   StackedEnsemble_BestOfFamily_0_AutoML_20181030...                5.206339   \n",
       "8               DeepLearning_0_AutoML_20181030_054456                5.269005   \n",
       "9           GBM_grid_0_AutoML_20181030_054456_model_4                5.271198   \n",
       "10  DeepLearning_grid_0_AutoML_20181030_054456_mod...                5.422523   \n",
       "11          GBM_grid_0_AutoML_20181030_054456_model_0                5.546494   \n",
       "12          GBM_grid_0_AutoML_20181030_054456_model_2                5.562442   \n",
       "13  DeepLearning_grid_0_AutoML_20181030_054456_mod...                5.590679   \n",
       "14          GBM_grid_0_AutoML_20181030_054456_model_1                5.641464   \n",
       "15          GBM_grid_0_AutoML_20181030_054456_model_3                5.691019   \n",
       "16                       XRT_0_AutoML_20181030_054456                5.697861   \n",
       "17                       DRF_0_AutoML_20181030_054456                5.869969   \n",
       "18  DeepLearning_grid_0_AutoML_20181030_054456_mod...                6.279790   \n",
       "19  DeepLearning_grid_0_AutoML_20181030_054456_mod...                7.355195   \n",
       "\n",
       "        rmse       mse       mae     rmsle  \n",
       "0   2.277954  5.189073  1.973794  0.491173  \n",
       "1   2.278894  5.193357  1.974453  0.491385  \n",
       "2   2.279537  5.196287  1.975102  0.491457  \n",
       "3   2.279614  5.196642  1.975201  0.491521  \n",
       "4   2.279671  5.196898  1.975033  0.491429  \n",
       "5   2.279710  5.197079  1.974651  0.491537  \n",
       "6   2.280247  5.199524  1.975584  0.491404  \n",
       "7   2.281740  5.206339  1.977199  0.491741  \n",
       "8   2.295431  5.269005  1.970495  0.491726  \n",
       "9   2.295909  5.271198  1.975024  0.493499  \n",
       "10  2.328631  5.422523  1.983147  0.499719  \n",
       "11  2.355100  5.546494  2.013104  0.502391  \n",
       "12  2.358483  5.562442  2.014414  0.502023  \n",
       "13  2.364462  5.590679  1.999744  0.497136  \n",
       "14  2.375177  5.641464  2.035250  0.504583  \n",
       "15  2.385586  5.691019  2.044008  0.506000  \n",
       "16  2.387019  5.697861  2.028516  0.505487  \n",
       "17  2.422802  5.869969  2.054350  0.514906  \n",
       "18  2.505951  6.279790  2.094562  0.530992  \n",
       "19  2.712046  7.355195  2.267813  0.569705  "
      ]
     },
     "execution_count": 50,
     "metadata": {},
     "output_type": "execute_result"
    }
   ],
   "source": [
    "aml_leaderboard_df"
   ]
  },
  {
   "cell_type": "code",
   "execution_count": 51,
   "metadata": {},
   "outputs": [],
   "source": [
    "#  Get best_models and coef_norm()\n",
    "best_models={}\n",
    "best_models=stackedensemble(mod_best)\n",
    "bm=[]\n",
    "if best_models is not None: \n",
    "  if 'Intercept' in best_models.keys():\n",
    "    del best_models['Intercept']\n",
    "  bm=list(best_models.keys())\n",
    "else:\n",
    "  best_models={}\n",
    "  bm=stackedensemble_df(aml_leaderboard_df)   \n",
    "  for b in bm:   \n",
    "    best_models[b]=None\n",
    "\n",
    "if mod_best.model_id not in bm:\n",
    "    bm.append(mod_best.model_id)"
   ]
  },
  {
   "cell_type": "code",
   "execution_count": 52,
   "metadata": {},
   "outputs": [
    {
     "data": {
      "text/plain": [
       "['GBM_grid_0_AutoML_20181030_054456_model_5',\n",
       " 'GLM_grid_0_AutoML_20181030_054456_model_0',\n",
       " 'DeepLearning_0_AutoML_20181030_054456',\n",
       " 'XRT_0_AutoML_20181030_054456',\n",
       " 'DRF_0_AutoML_20181030_054456',\n",
       " 'StackedEnsemble_BestOfFamily_0_AutoML_20181030_054456']"
      ]
     },
     "execution_count": 52,
     "metadata": {},
     "output_type": "execute_result"
    }
   ],
   "source": [
    "bm"
   ]
  },
  {
   "cell_type": "code",
   "execution_count": 53,
   "metadata": {},
   "outputs": [],
   "source": [
    "# Best of Family leaderboard\n",
    "\n",
    "aml_leaderboard_df=aml_leaderboard_df.loc[aml_leaderboard_df['model_id'].isin(bm)]\n"
   ]
  },
  {
   "cell_type": "code",
   "execution_count": 54,
   "metadata": {},
   "outputs": [
    {
     "data": {
      "text/html": [
       "<div>\n",
       "<style scoped>\n",
       "    .dataframe tbody tr th:only-of-type {\n",
       "        vertical-align: middle;\n",
       "    }\n",
       "\n",
       "    .dataframe tbody tr th {\n",
       "        vertical-align: top;\n",
       "    }\n",
       "\n",
       "    .dataframe thead th {\n",
       "        text-align: right;\n",
       "    }\n",
       "</style>\n",
       "<table border=\"1\" class=\"dataframe\">\n",
       "  <thead>\n",
       "    <tr style=\"text-align: right;\">\n",
       "      <th></th>\n",
       "      <th>model_id</th>\n",
       "      <th>mean_residual_deviance</th>\n",
       "      <th>rmse</th>\n",
       "      <th>mse</th>\n",
       "      <th>mae</th>\n",
       "      <th>rmsle</th>\n",
       "    </tr>\n",
       "  </thead>\n",
       "  <tbody>\n",
       "    <tr>\n",
       "      <th>0</th>\n",
       "      <td>GBM_grid_0_AutoML_20181030_054456_model_5</td>\n",
       "      <td>5.189073</td>\n",
       "      <td>2.277954</td>\n",
       "      <td>5.189073</td>\n",
       "      <td>1.973794</td>\n",
       "      <td>0.491173</td>\n",
       "    </tr>\n",
       "    <tr>\n",
       "      <th>5</th>\n",
       "      <td>GLM_grid_0_AutoML_20181030_054456_model_0</td>\n",
       "      <td>5.197079</td>\n",
       "      <td>2.279710</td>\n",
       "      <td>5.197079</td>\n",
       "      <td>1.974651</td>\n",
       "      <td>0.491537</td>\n",
       "    </tr>\n",
       "    <tr>\n",
       "      <th>7</th>\n",
       "      <td>StackedEnsemble_BestOfFamily_0_AutoML_20181030...</td>\n",
       "      <td>5.206339</td>\n",
       "      <td>2.281740</td>\n",
       "      <td>5.206339</td>\n",
       "      <td>1.977199</td>\n",
       "      <td>0.491741</td>\n",
       "    </tr>\n",
       "    <tr>\n",
       "      <th>8</th>\n",
       "      <td>DeepLearning_0_AutoML_20181030_054456</td>\n",
       "      <td>5.269005</td>\n",
       "      <td>2.295431</td>\n",
       "      <td>5.269005</td>\n",
       "      <td>1.970495</td>\n",
       "      <td>0.491726</td>\n",
       "    </tr>\n",
       "    <tr>\n",
       "      <th>16</th>\n",
       "      <td>XRT_0_AutoML_20181030_054456</td>\n",
       "      <td>5.697861</td>\n",
       "      <td>2.387019</td>\n",
       "      <td>5.697861</td>\n",
       "      <td>2.028516</td>\n",
       "      <td>0.505487</td>\n",
       "    </tr>\n",
       "    <tr>\n",
       "      <th>17</th>\n",
       "      <td>DRF_0_AutoML_20181030_054456</td>\n",
       "      <td>5.869969</td>\n",
       "      <td>2.422802</td>\n",
       "      <td>5.869969</td>\n",
       "      <td>2.054350</td>\n",
       "      <td>0.514906</td>\n",
       "    </tr>\n",
       "  </tbody>\n",
       "</table>\n",
       "</div>"
      ],
      "text/plain": [
       "                                             model_id  mean_residual_deviance  \\\n",
       "0           GBM_grid_0_AutoML_20181030_054456_model_5                5.189073   \n",
       "5           GLM_grid_0_AutoML_20181030_054456_model_0                5.197079   \n",
       "7   StackedEnsemble_BestOfFamily_0_AutoML_20181030...                5.206339   \n",
       "8               DeepLearning_0_AutoML_20181030_054456                5.269005   \n",
       "16                       XRT_0_AutoML_20181030_054456                5.697861   \n",
       "17                       DRF_0_AutoML_20181030_054456                5.869969   \n",
       "\n",
       "        rmse       mse       mae     rmsle  \n",
       "0   2.277954  5.189073  1.973794  0.491173  \n",
       "5   2.279710  5.197079  1.974651  0.491537  \n",
       "7   2.281740  5.206339  1.977199  0.491741  \n",
       "8   2.295431  5.269005  1.970495  0.491726  \n",
       "16  2.387019  5.697861  2.028516  0.505487  \n",
       "17  2.422802  5.869969  2.054350  0.514906  "
      ]
     },
     "execution_count": 54,
     "metadata": {},
     "output_type": "execute_result"
    }
   ],
   "source": [
    "aml_leaderboard_df"
   ]
  },
  {
   "cell_type": "code",
   "execution_count": 55,
   "metadata": {},
   "outputs": [],
   "source": [
    "# save leaderboard\n",
    "leaderboard_stats=run_id+'_leaderboard.csv'\n",
    "aml_leaderboard_df.to_csv(leaderboard_stats)"
   ]
  },
  {
   "cell_type": "code",
   "execution_count": 56,
   "metadata": {},
   "outputs": [
    {
     "name": "stdout",
     "output_type": "stream",
     "text": [
      "GBM_grid_0_AutoML_20181030_054456_model_5\n"
     ]
    }
   ],
   "source": [
    "top=aml_leaderboard_df.iloc[0]['model_id']\n",
    "print(top)"
   ]
  },
  {
   "cell_type": "code",
   "execution_count": 57,
   "metadata": {},
   "outputs": [
    {
     "name": "stdout",
     "output_type": "stream",
     "text": [
      "GBM_grid_0_AutoML_20181030_054456_model_5\n",
      "gbm\n"
     ]
    }
   ],
   "source": [
    "mod_best=h2o.get_model(top)\n",
    "print(mod_best._id)\n",
    "print(mod_best.algo)"
   ]
  },
  {
   "cell_type": "code",
   "execution_count": 58,
   "metadata": {},
   "outputs": [],
   "source": [
    "meta_data['mod_best']=mod_best._id\n",
    "meta_data['mod_best_algo']=mod_best.algo"
   ]
  },
  {
   "cell_type": "code",
   "execution_count": 59,
   "metadata": {},
   "outputs": [],
   "source": [
    "meta_data['models']=bm"
   ]
  },
  {
   "cell_type": "code",
   "execution_count": 60,
   "metadata": {},
   "outputs": [],
   "source": [
    "models_path=os.path.join(run_dir,'models')\n",
    "for mod in bm:\n",
    "  try:   \n",
    "    m=h2o.get_model(mod) \n",
    "    h2o.save_model(m, path = models_path)\n",
    "  except:    \n",
    "    pass    "
   ]
  },
  {
   "cell_type": "code",
   "execution_count": 61,
   "metadata": {},
   "outputs": [
    {
     "name": "stdout",
     "output_type": "stream",
     "text": [
      "D:\\NEU\\Courses\\BDIA\\Assignments\\Assignment 2\\1O7oRPEo7\\models\n"
     ]
    }
   ],
   "source": [
    "print(models_path)"
   ]
  },
  {
   "cell_type": "code",
   "execution_count": 62,
   "metadata": {},
   "outputs": [
    {
     "name": "stdout",
     "output_type": "stream",
     "text": [
      "{'algo': 'gbm', 'model_id': 'GBM_grid_0_AutoML_20181030_054456_model_5', 'varimp': [('battery_power', 2627.762451171875, 1.0, 0.13539146009787986), ('mobile_wt', 1741.91162109375, 0.6628877813201602, 0.0897493445939806), ('clock_speed', 1601.77685546875, 0.6095592296611221, 0.0825291141199582), ('int_memory', 1588.0064697265625, 0.6043188831693581, 0.08181961595701948), ('sc_w', 1445.1729736328125, 0.549963324496217, 0.07446033750382693), ('px_width', 1285.4295654296875, 0.48917266659946307, 0.0662298015708747), ('m_dep', 1128.9658203125, 0.4296300907294825, 0.05816824528584924), ('sc_h', 1118.78076171875, 0.42575414730498923, 0.05764347564635032), ('px_height', 1115.957763671875, 0.42467985002761693, 0.05749802496938771), ('pc', 1068.5999755859375, 0.4066577536753314, 0.0550579870302271), ('fc', 935.9824829101562, 0.35618991453841126, 0.04822507260149455), ('ram', 761.623779296875, 0.2898373781683431, 0.03924150582115335), ('talk_time', 738.4779052734375, 0.28102917177468095, 0.038048949896671944), ('touch_screen', 410.9685363769531, 0.15639485836844874, 0.021174528226305403), ('wifi', 398.2022399902344, 0.15153661999114584, 0.02051676423889881), ('price_range', 394.1465148925781, 0.14999320608938788, 0.020307799177204433), ('three_g', 330.93255615234375, 0.12593701382891795, 0.017050796182664092), ('dual_sim', 325.0698547363281, 0.12370595165151257, 0.01674872941689602), ('blue', 264.716064453125, 0.10073820193871498, 0.013639092248117693), ('four_g', 126.14356994628906, 0.04800417552584868, 0.006499355415239563)]}\n"
     ]
    }
   ],
   "source": [
    "# GBM\n",
    " \n",
    "mod,mod_id=get_model_by_algo(\"GBM\",best_models)\n",
    "if mod is not None:\n",
    "    try:     \n",
    "        sh_df=mod.scoring_history()\n",
    "        sh_df.to_csv(run_id+'_gbm_scoring_history.csv') \n",
    "    except:\n",
    "        pass   \n",
    "    try:     \n",
    "        stats_gbm={}\n",
    "        stats_gbm=gbm_stats(mod)\n",
    "        n=run_id+'_gbm_stats.json'\n",
    "        dict_to_json(stats_gbm,n)\n",
    "        print(stats_gbm)\n",
    "    except:\n",
    "        pass        "
   ]
  },
  {
   "cell_type": "code",
   "execution_count": 63,
   "metadata": {},
   "outputs": [],
   "source": [
    "# DeepLearning\n",
    "\n",
    "mod,mod_id=get_model_by_algo(\"Dee\",best_models)\n"
   ]
  },
  {
   "cell_type": "code",
   "execution_count": 64,
   "metadata": {},
   "outputs": [
    {
     "name": "stdout",
     "output_type": "stream",
     "text": [
      "{'algo': 'deeplearning', 'model_id': 'DeepLearning_0_AutoML_20181030_054456', 'varimp': [('mobile_wt', 1.0, 1.0, 0.07296071967106355), ('four_g', 0.9130000472068787, 0.9130000472068787, 0.06661314050392886), ('pc', 0.8686023950576782, 0.8686023950576782, 0.06337385585141765), ('int_memory', 0.8489347696304321, 0.8489347696304321, 0.06193889174602487), ('price_range', 0.7570483684539795, 0.7570483684539795, 0.055234793788206824), ('px_height', 0.7542585730552673, 0.7542585730552673, 0.05503124830818176), ('wifi', 0.7461724281311035, 0.7461724281311035, 0.05444127735515025), ('dual_sim', 0.7442106008529663, 0.7442106008529663, 0.05429814102506704), ('ram', 0.7214120626449585, 0.7214120626449585, 0.05263474326996255), ('m_dep', 0.7182432413101196, 0.7182432413101196, 0.052403543784863685), ('battery_power', 0.7002989649772644, 0.7002989649772644, 0.05109431646964214), ('sc_w', 0.6968348026275635, 0.6968348026275635, 0.05084156869155056), ('clock_speed', 0.6168162226676941, 0.6168162226676941, 0.04500335551062194), ('touch_screen', 0.5847849249839783, 0.5847849249839783, 0.042666328979619965), ('sc_h', 0.5551348328590393, 0.5551348328590393, 0.04050303691987108), ('three_g', 0.5288840532302856, 0.5288840532302856, 0.03858776114623072), ('fc', 0.5186363458633423, 0.5186363458633423, 0.03784008104176007), ('talk_time', 0.5096796751022339, 0.5096796751022339, 0.03718659589717283), ('px_width', 0.5092548131942749, 0.5092548131942749, 0.03715559766660732), ('blue', 0.4137980341911316, 0.4137980341911316, 0.03019100237305632)]}\n"
     ]
    }
   ],
   "source": [
    "if mod is not None:\n",
    "    try:    \n",
    "        sh_df=mod.scoring_history()\n",
    "        sh_df.to_csv(run_id+'_dl_scoring_history.csv') \n",
    "    except:\n",
    "        pass \n",
    "    try:\n",
    "        stats_dl={}\n",
    "        stats_dl=dl_stats(mod)\n",
    "        n=run_id+'_dl_stats.json'\n",
    "        dict_to_json(stats_dl,n)\n",
    "        print(stats_dl)\n",
    "    except:\n",
    "        pass    \n",
    "    try:\n",
    "        cf=mod.confusion_matrix()    \n",
    "        cf_df.to_csv(run_id+'_dl_confusion_matrix.csv')\n",
    "    except:\n",
    "        pass       "
   ]
  },
  {
   "cell_type": "code",
   "execution_count": 65,
   "metadata": {},
   "outputs": [],
   "source": [
    "# DRF\n",
    "\n",
    "mod,mod_id=get_model_by_algo(\"DRF\",best_models)\n",
    "if mod is not None:\n",
    "    try:     \n",
    "         sh_df=mod.scoring_history()\n",
    "         sh_df.to_csv(run_id+'_drf_scoring_history.csv') \n",
    "    except:\n",
    "         pass  \n",
    "    try: \n",
    "         stats_drf={}\n",
    "         stats_drf=drf_stats(mod)\n",
    "         n=run_id+'_drf_stats.json'\n",
    "         dict_to_json(stats_drf,n)\n",
    "         print(stats_drf)\n",
    "    except:\n",
    "         pass     "
   ]
  },
  {
   "cell_type": "code",
   "execution_count": 66,
   "metadata": {},
   "outputs": [],
   "source": [
    "# XRT\n",
    "\n",
    "mod,mod_id=get_model_by_algo(\"XRT\",best_models)\n",
    "if mod is not None:\n",
    "    try:     \n",
    "         sh_df=mod.scoring_history()\n",
    "         sh_df.to_csv(run_id+'_xrt_scoring_history.csv')\n",
    "    except:\n",
    "         pass     \n",
    "    try:        \n",
    "         stats_xrt={}\n",
    "         stats_xrt=xrt_stats(mod)\n",
    "         n=run_id+'_xrt_stats.json'\n",
    "         dict_to_json(stats_xrt,n)\n",
    "         print(stats_xrt)\n",
    "    except:\n",
    "         pass     "
   ]
  },
  {
   "cell_type": "code",
   "execution_count": 67,
   "metadata": {},
   "outputs": [
    {
     "name": "stdout",
     "output_type": "stream",
     "text": [
      "{'algo': 'glm', 'model_id': 'GLM_grid_0_AutoML_20181030_054456_model_0', 'coef': {'Intercept': 4.4579217797581885, 'battery_power': -1.8352322912408967e-05, 'blue': 0.0170903101208193, 'clock_speed': -0.005767700106306109, 'dual_sim': -0.005163424142351486, 'fc': -0.0006364490771057418, 'four_g': -0.016894905585049778, 'int_memory': -0.00035173683571247005, 'm_dep': -0.002611324370909509, 'mobile_wt': -7.075950513721747e-05, 'pc': -0.0001225837460142555, 'px_height': -2.963947848830167e-07, 'px_width': 5.336185800905493e-06, 'ram': 2.952977032015257e-06, 'sc_h': 0.000911912779673411, 'sc_w': 0.0020446334130009795, 'talk_time': -0.00018660285015233304, 'three_g': -0.0015831772732379215, 'touch_screen': 0.016088280522280913, 'wifi': -0.00541616950946724, 'price_range': 0.001846274033640951}, 'coef_norm': {'Intercept': 4.437113402061856, 'battery_power': -0.00804781178150048, 'blue': 0.008544359306105916, 'clock_speed': -0.004668822637077292, 'dual_sim': -0.002582013477255477, 'fc': -0.0027734908431736984, 'four_g': -0.008440290322488568, 'int_memory': -0.006312564549001124, 'm_dep': -0.0007503449370180465, 'mobile_wt': -0.0024950546675636493, 'pc': -0.000744296825114226, 'px_height': -0.00013094806998655142, 'px_width': 0.002320779120361515, 'ram': 0.0032243002072559037, 'sc_h': 0.0037891813549959, 'sc_w': 0.008902751732946364, 'talk_time': -0.0010237263449736588, 'three_g': -0.0006742480039307962, 'touch_screen': 0.008046478367370649, 'wifi': -0.0027089640223764257, 'price_range': 0.002066604372910968}}\n"
     ]
    }
   ],
   "source": [
    "# GLM\n",
    "\n",
    "mod,mod_id=get_model_by_algo(\"GLM\",best_models)\n",
    "if mod is not None:\n",
    "    try:     \n",
    "         stats_glm={}\n",
    "         stats_glm=glm_stats(mod)\n",
    "         n=run_id+'_glm_stats.json'\n",
    "         dict_to_json(stats_glm,n)\n",
    "         print(stats_glm)\n",
    "    except:\n",
    "         pass     "
   ]
  },
  {
   "cell_type": "code",
   "execution_count": 68,
   "metadata": {},
   "outputs": [
    {
     "name": "stdout",
     "output_type": "stream",
     "text": [
      "gbm prediction progress: |████████████████████████████████████████████████| 100%\n"
     ]
    }
   ],
   "source": [
    "predictions_df=predictions_test(mod_best,test,run_id)"
   ]
  },
  {
   "cell_type": "code",
   "execution_count": 69,
   "metadata": {},
   "outputs": [
    {
     "data": {
      "text/html": [
       "<table>\n",
       "<thead>\n",
       "<tr><th style=\"text-align: right;\">  predict</th></tr>\n",
       "</thead>\n",
       "<tbody>\n",
       "<tr><td style=\"text-align: right;\">  4.44953</td></tr>\n",
       "<tr><td style=\"text-align: right;\">  4.45419</td></tr>\n",
       "<tr><td style=\"text-align: right;\">  4.33525</td></tr>\n",
       "<tr><td style=\"text-align: right;\">  4.40977</td></tr>\n",
       "<tr><td style=\"text-align: right;\">  4.45504</td></tr>\n",
       "<tr><td style=\"text-align: right;\">  4.47558</td></tr>\n",
       "<tr><td style=\"text-align: right;\">  4.42216</td></tr>\n",
       "<tr><td style=\"text-align: right;\">  4.40988</td></tr>\n",
       "<tr><td style=\"text-align: right;\">  4.46537</td></tr>\n",
       "<tr><td style=\"text-align: right;\">  4.37971</td></tr>\n",
       "</tbody>\n",
       "</table>"
      ]
     },
     "metadata": {},
     "output_type": "display_data"
    },
    {
     "data": {
      "text/plain": []
     },
     "execution_count": 69,
     "metadata": {},
     "output_type": "execute_result"
    }
   ],
   "source": [
    "predictions_df.head()"
   ]
  },
  {
   "cell_type": "code",
   "execution_count": 70,
   "metadata": {},
   "outputs": [
    {
     "name": "stdout",
     "output_type": "stream",
     "text": [
      "Rows:193\n",
      "Cols:1\n",
      "\n",
      "\n"
     ]
    },
    {
     "data": {
      "text/html": [
       "<table>\n",
       "<thead>\n",
       "<tr><th>       </th><th>predict            </th></tr>\n",
       "</thead>\n",
       "<tbody>\n",
       "<tr><td>type   </td><td>real               </td></tr>\n",
       "<tr><td>mins   </td><td>4.335246694157592  </td></tr>\n",
       "<tr><td>mean   </td><td>4.442696943850996  </td></tr>\n",
       "<tr><td>maxs   </td><td>4.537766913271968  </td></tr>\n",
       "<tr><td>sigma  </td><td>0.03589599244433588</td></tr>\n",
       "<tr><td>zeros  </td><td>0                  </td></tr>\n",
       "<tr><td>missing</td><td>0                  </td></tr>\n",
       "<tr><td>0      </td><td>4.44952776584954   </td></tr>\n",
       "<tr><td>1      </td><td>4.454189905940199  </td></tr>\n",
       "<tr><td>2      </td><td>4.335246694157592  </td></tr>\n",
       "<tr><td>3      </td><td>4.409766260214143  </td></tr>\n",
       "<tr><td>4      </td><td>4.455035690641795  </td></tr>\n",
       "<tr><td>5      </td><td>4.4755789034968405 </td></tr>\n",
       "<tr><td>6      </td><td>4.422156983829824  </td></tr>\n",
       "<tr><td>7      </td><td>4.409879084599867  </td></tr>\n",
       "<tr><td>8      </td><td>4.465367147655103  </td></tr>\n",
       "<tr><td>9      </td><td>4.379711950455873  </td></tr>\n",
       "</tbody>\n",
       "</table>"
      ]
     },
     "metadata": {},
     "output_type": "display_data"
    }
   ],
   "source": [
    "predictions_df.describe()"
   ]
  },
  {
   "cell_type": "code",
   "execution_count": 71,
   "metadata": {},
   "outputs": [],
   "source": [
    "# Update and save meta data\n",
    "\n",
    "meta_data['end_time'] = time.time()\n",
    "meta_data['execution_time'] = meta_data['end_time'] - meta_data['start_time']\n",
    "  \n",
    "n=run_id+'_meta_data.json'\n",
    "dict_to_json(meta_data,n)    \n"
   ]
  },
  {
   "cell_type": "code",
   "execution_count": 72,
   "metadata": {
    "scrolled": false
   },
   "outputs": [
    {
     "data": {
      "text/plain": [
       "{'X': ['battery_power',\n",
       "  'blue',\n",
       "  'dual_sim',\n",
       "  'fc',\n",
       "  'four_g',\n",
       "  'int_memory',\n",
       "  'mobile_wt',\n",
       "  'pc',\n",
       "  'px_height',\n",
       "  'px_width',\n",
       "  'ram',\n",
       "  'sc_h',\n",
       "  'sc_w',\n",
       "  'talk_time',\n",
       "  'three_g',\n",
       "  'touch_screen',\n",
       "  'wifi',\n",
       "  'price_range',\n",
       "  'clock_speed',\n",
       "  'm_dep'],\n",
       " 'analysis': 0,\n",
       " 'balance': False,\n",
       " 'balance_threshold': 0.2,\n",
       " 'classification': False,\n",
       " 'end_time': 1540893035.8800282,\n",
       " 'execution_time': 342.4761686325073,\n",
       " 'max_models': 9,\n",
       " 'min_mem_size': 6,\n",
       " 'mod_best': 'GBM_grid_0_AutoML_20181030_054456_model_5',\n",
       " 'mod_best_algo': 'gbm',\n",
       " 'model_execution_time': 339.41013050079346,\n",
       " 'models': ['GBM_grid_0_AutoML_20181030_054456_model_5',\n",
       "  'GLM_grid_0_AutoML_20181030_054456_model_0',\n",
       "  'DeepLearning_0_AutoML_20181030_054456',\n",
       "  'XRT_0_AutoML_20181030_054456',\n",
       "  'DRF_0_AutoML_20181030_054456',\n",
       "  'StackedEnsemble_BestOfFamily_0_AutoML_20181030_054456'],\n",
       " 'nthreads': 1,\n",
       " 'project': None,\n",
       " 'run_id': '1O7oRPEo7',\n",
       " 'run_time': 333,\n",
       " 'scale': False,\n",
       " 'start_time': 1540892693.4038596,\n",
       " 'target': None,\n",
       " 'variables': {'battery_power': 'int',\n",
       "  'blue': 'int',\n",
       "  'clock_speed': 'real',\n",
       "  'dual_sim': 'int',\n",
       "  'fc': 'int',\n",
       "  'four_g': 'int',\n",
       "  'int_memory': 'int',\n",
       "  'm_dep': 'real',\n",
       "  'mobile_wt': 'int',\n",
       "  'n_cores': 'int',\n",
       "  'pc': 'int',\n",
       "  'price_range': 'int',\n",
       "  'px_height': 'int',\n",
       "  'px_width': 'int',\n",
       "  'ram': 'int',\n",
       "  'sc_h': 'int',\n",
       "  'sc_w': 'int',\n",
       "  'talk_time': 'int',\n",
       "  'three_g': 'int',\n",
       "  'touch_screen': 'int',\n",
       "  'wifi': 'int'}}"
      ]
     },
     "execution_count": 72,
     "metadata": {},
     "output_type": "execute_result"
    }
   ],
   "source": [
    "meta_data"
   ]
  },
  {
   "cell_type": "code",
   "execution_count": 73,
   "metadata": {},
   "outputs": [
    {
     "data": {
      "image/png": "[encoded data removed]",
      "text/plain": [
       "<matplotlib.figure.Figure at 0x1fafa6f7b00>"
      ]
     },
     "metadata": {},
     "output_type": "display_data"
    }
   ],
   "source": [
    "mod_best.varimp_plot()"
   ]
  },
  {
   "cell_type": "code",
   "execution_count": 74,
   "metadata": {},
   "outputs": [
    {
     "name": "stdout",
     "output_type": "stream",
     "text": [
      "PartialDependencePlot progress: |█████████████████████████████████████████| 100%\n"
     ]
    },
    {
     "data": {
      "image/png": "[encoded data removed]",
      "text/plain": [
       "<matplotlib.figure.Figure at 0x1fafa654080>"
      ]
     },
     "metadata": {},
     "output_type": "display_data"
    }
   ],
   "source": [
    "aml.leader.partial_plot(data=df, cols=df.columns)\n",
    "plt.show()"
   ]
  }
 ],
 "metadata": {
  "kernelspec": {
   "display_name": "Python 3",
   "language": "python",
   "name": "python3"
  },
  "language_info": {
   "codemirror_mode": {
    "name": "ipython",
    "version": 3
   },
   "file_extension": ".py",
   "mimetype": "text/x-python",
   "name": "python",
   "nbconvert_exporter": "python",
   "pygments_lexer": "ipython3",
   "version": "3.6.4"
  }
 },
 "nbformat": 4,
 "nbformat_minor": 2
}
